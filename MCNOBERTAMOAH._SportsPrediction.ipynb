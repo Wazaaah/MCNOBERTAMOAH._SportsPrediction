{
 "cells": [
  {
   "cell_type": "code",
   "execution_count": 224,
   "metadata": {
    "collapsed": true,
    "ExecuteTime": {
     "end_time": "2024-06-12T17:38:23.937526300Z",
     "start_time": "2024-06-12T17:38:23.728472100Z"
    }
   },
   "outputs": [],
   "source": [
    "import pandas as pd\n",
    "import category_encoders as ce\n",
    "import numpy as np\n",
    "import joblib"
   ]
  },
  {
   "cell_type": "code",
   "execution_count": 225,
   "outputs": [
    {
     "name": "stderr",
     "output_type": "stream",
     "text": [
      "C:\\Users\\mcnob\\AppData\\Local\\Temp\\ipykernel_6412\\2679833645.py:2: DtypeWarning: Columns (25,108) have mixed types. Specify dtype option on import or set low_memory=False.\n",
      "  players_22 = pd.read_csv('players_22.csv')\n"
     ]
    }
   ],
   "source": [
    "players_21 = pd.read_csv('players_21.csv')\n",
    "players_22 = pd.read_csv('players_22.csv')"
   ],
   "metadata": {
    "collapsed": false,
    "ExecuteTime": {
     "end_time": "2024-06-12T17:38:24.402311400Z",
     "start_time": "2024-06-12T17:38:23.731474400Z"
    }
   }
  },
  {
   "cell_type": "code",
   "execution_count": 226,
   "outputs": [
    {
     "data": {
      "text/plain": "       sofifa_id                                         player_url  \\\n0         158023  https://sofifa.com/player/158023/lionel-messi/...   \n1          20801  https://sofifa.com/player/20801/c-ronaldo-dos-...   \n2         188545  https://sofifa.com/player/188545/robert-lewand...   \n3         190871  https://sofifa.com/player/190871/neymar-da-sil...   \n4         192985  https://sofifa.com/player/192985/kevin-de-bruy...   \n...          ...                                                ...   \n18939     257710  https://sofifa.com/player/257710/mengxuan-zhan...   \n18940     257933  https://sofifa.com/player/257933/wenzhuo-huang...   \n18941     257936   https://sofifa.com/player/257936/yue-song/210002   \n18942     258736  https://sofifa.com/player/258736/vani-da-silva...   \n18943     258760  https://sofifa.com/player/258760/ben-hough/210002   \n\n              short_name                            long_name  \\\n0               L. Messi       Lionel Andrés Messi Cuccittini   \n1      Cristiano Ronaldo  Cristiano Ronaldo dos Santos Aveiro   \n2         R. Lewandowski                   Robert Lewandowski   \n3              Neymar Jr        Neymar da Silva Santos Júnior   \n4           K. De Bruyne                      Kevin De Bruyne   \n...                  ...                                  ...   \n18939     Zhang Mengxuan                                  张梦炫   \n18940      Huang Wenzhou                                  黄文卓   \n18941           Song Yue                                   宋岳   \n18942        V. Da Silva     Ivanilson Loforte Tique Da Silva   \n18943           B. Hough                            Ben Hough   \n\n      player_positions  overall  potential    value_eur  wage_eur  age  ...  \\\n0           RW, ST, CF       93         93  103500000.0  560000.0   33  ...   \n1               ST, LW       92         92   63000000.0  220000.0   35  ...   \n2                   ST       91         91  111000000.0  240000.0   31  ...   \n3              LW, CAM       91         91  132000000.0  270000.0   28  ...   \n4              CAM, CM       91         91  129000000.0  370000.0   29  ...   \n...                ...      ...        ...          ...       ...  ...  ...   \n18939               CB       47         52      70000.0    1000.0   21  ...   \n18940               CM       47         53      70000.0    1000.0   21  ...   \n18941               CM       47         47      45000.0    2000.0   28  ...   \n18942               ST       47         67     130000.0     500.0   17  ...   \n18943               CM       47         67     130000.0     500.0   17  ...   \n\n        lcb    cb   rcb    rb    gk  \\\n0      52+3  52+3  52+3  62+3  19+3   \n1      54+3  54+3  54+3  61+3  20+3   \n2      60+3  60+3  60+3  61+3  19+3   \n3      49+3  49+3  49+3  62+3  20+3   \n4      69+3  69+3  69+3  75+3  21+3   \n...     ...   ...   ...   ...   ...   \n18939  47+2  47+2  47+2  45+2  15+2   \n18940  46+2  46+2  46+2  47+2  15+2   \n18941  46+1  46+1  46+1    47  11+2   \n18942  26+2  26+2  26+2  33+2  14+2   \n18943  41+2  41+2  41+2  43+2  14+2   \n\n                                         player_face_url  \\\n0      https://cdn.sofifa.net/players/158/023/21_120.png   \n1      https://cdn.sofifa.net/players/020/801/21_120.png   \n2      https://cdn.sofifa.net/players/188/545/21_120.png   \n3      https://cdn.sofifa.net/players/190/871/21_120.png   \n4      https://cdn.sofifa.net/players/192/985/21_120.png   \n...                                                  ...   \n18939  https://cdn.sofifa.net/players/257/710/21_120.png   \n18940  https://cdn.sofifa.net/players/257/933/21_120.png   \n18941  https://cdn.sofifa.net/players/257/936/21_120.png   \n18942  https://cdn.sofifa.net/players/258/736/21_120.png   \n18943  https://cdn.sofifa.net/players/258/760/21_120.png   \n\n                                    club_logo_url  \\\n0         https://cdn.sofifa.net/teams/241/60.png   \n1          https://cdn.sofifa.net/teams/45/60.png   \n2          https://cdn.sofifa.net/teams/21/60.png   \n3          https://cdn.sofifa.net/teams/73/60.png   \n4          https://cdn.sofifa.net/teams/10/60.png   \n...                                           ...   \n18939  https://cdn.sofifa.net/teams/112165/60.png   \n18940  https://cdn.sofifa.net/teams/112540/60.png   \n18941  https://cdn.sofifa.net/teams/111774/60.png   \n18942    https://cdn.sofifa.net/teams/1920/60.png   \n18943    https://cdn.sofifa.net/teams/1920/60.png   \n\n                                 club_flag_url  \\\n0          https://cdn.sofifa.net/flags/es.png   \n1          https://cdn.sofifa.net/flags/it.png   \n2          https://cdn.sofifa.net/flags/de.png   \n3          https://cdn.sofifa.net/flags/fr.png   \n4      https://cdn.sofifa.net/flags/gb-eng.png   \n...                                        ...   \n18939      https://cdn.sofifa.net/flags/cn.png   \n18940      https://cdn.sofifa.net/flags/cn.png   \n18941      https://cdn.sofifa.net/flags/cn.png   \n18942  https://cdn.sofifa.net/flags/gb-eng.png   \n18943  https://cdn.sofifa.net/flags/gb-eng.png   \n\n                                nation_logo_url  \\\n0      https://cdn.sofifa.net/teams/1369/60.png   \n1      https://cdn.sofifa.net/teams/1354/60.png   \n2                                           NaN   \n3                                           NaN   \n4      https://cdn.sofifa.net/teams/1325/60.png   \n...                                         ...   \n18939                                       NaN   \n18940                                       NaN   \n18941                                       NaN   \n18942                                       NaN   \n18943                                       NaN   \n\n                               nation_flag_url  \n0          https://cdn.sofifa.net/flags/ar.png  \n1          https://cdn.sofifa.net/flags/pt.png  \n2          https://cdn.sofifa.net/flags/pl.png  \n3          https://cdn.sofifa.net/flags/br.png  \n4          https://cdn.sofifa.net/flags/be.png  \n...                                        ...  \n18939      https://cdn.sofifa.net/flags/cn.png  \n18940      https://cdn.sofifa.net/flags/cn.png  \n18941      https://cdn.sofifa.net/flags/cn.png  \n18942  https://cdn.sofifa.net/flags/gb-eng.png  \n18943  https://cdn.sofifa.net/flags/gb-eng.png  \n\n[18944 rows x 110 columns]",
      "text/html": "<div>\n<style scoped>\n    .dataframe tbody tr th:only-of-type {\n        vertical-align: middle;\n    }\n\n    .dataframe tbody tr th {\n        vertical-align: top;\n    }\n\n    .dataframe thead th {\n        text-align: right;\n    }\n</style>\n<table border=\"1\" class=\"dataframe\">\n  <thead>\n    <tr style=\"text-align: right;\">\n      <th></th>\n      <th>sofifa_id</th>\n      <th>player_url</th>\n      <th>short_name</th>\n      <th>long_name</th>\n      <th>player_positions</th>\n      <th>overall</th>\n      <th>potential</th>\n      <th>value_eur</th>\n      <th>wage_eur</th>\n      <th>age</th>\n      <th>...</th>\n      <th>lcb</th>\n      <th>cb</th>\n      <th>rcb</th>\n      <th>rb</th>\n      <th>gk</th>\n      <th>player_face_url</th>\n      <th>club_logo_url</th>\n      <th>club_flag_url</th>\n      <th>nation_logo_url</th>\n      <th>nation_flag_url</th>\n    </tr>\n  </thead>\n  <tbody>\n    <tr>\n      <th>0</th>\n      <td>158023</td>\n      <td>https://sofifa.com/player/158023/lionel-messi/...</td>\n      <td>L. Messi</td>\n      <td>Lionel Andrés Messi Cuccittini</td>\n      <td>RW, ST, CF</td>\n      <td>93</td>\n      <td>93</td>\n      <td>103500000.0</td>\n      <td>560000.0</td>\n      <td>33</td>\n      <td>...</td>\n      <td>52+3</td>\n      <td>52+3</td>\n      <td>52+3</td>\n      <td>62+3</td>\n      <td>19+3</td>\n      <td>https://cdn.sofifa.net/players/158/023/21_120.png</td>\n      <td>https://cdn.sofifa.net/teams/241/60.png</td>\n      <td>https://cdn.sofifa.net/flags/es.png</td>\n      <td>https://cdn.sofifa.net/teams/1369/60.png</td>\n      <td>https://cdn.sofifa.net/flags/ar.png</td>\n    </tr>\n    <tr>\n      <th>1</th>\n      <td>20801</td>\n      <td>https://sofifa.com/player/20801/c-ronaldo-dos-...</td>\n      <td>Cristiano Ronaldo</td>\n      <td>Cristiano Ronaldo dos Santos Aveiro</td>\n      <td>ST, LW</td>\n      <td>92</td>\n      <td>92</td>\n      <td>63000000.0</td>\n      <td>220000.0</td>\n      <td>35</td>\n      <td>...</td>\n      <td>54+3</td>\n      <td>54+3</td>\n      <td>54+3</td>\n      <td>61+3</td>\n      <td>20+3</td>\n      <td>https://cdn.sofifa.net/players/020/801/21_120.png</td>\n      <td>https://cdn.sofifa.net/teams/45/60.png</td>\n      <td>https://cdn.sofifa.net/flags/it.png</td>\n      <td>https://cdn.sofifa.net/teams/1354/60.png</td>\n      <td>https://cdn.sofifa.net/flags/pt.png</td>\n    </tr>\n    <tr>\n      <th>2</th>\n      <td>188545</td>\n      <td>https://sofifa.com/player/188545/robert-lewand...</td>\n      <td>R. Lewandowski</td>\n      <td>Robert Lewandowski</td>\n      <td>ST</td>\n      <td>91</td>\n      <td>91</td>\n      <td>111000000.0</td>\n      <td>240000.0</td>\n      <td>31</td>\n      <td>...</td>\n      <td>60+3</td>\n      <td>60+3</td>\n      <td>60+3</td>\n      <td>61+3</td>\n      <td>19+3</td>\n      <td>https://cdn.sofifa.net/players/188/545/21_120.png</td>\n      <td>https://cdn.sofifa.net/teams/21/60.png</td>\n      <td>https://cdn.sofifa.net/flags/de.png</td>\n      <td>NaN</td>\n      <td>https://cdn.sofifa.net/flags/pl.png</td>\n    </tr>\n    <tr>\n      <th>3</th>\n      <td>190871</td>\n      <td>https://sofifa.com/player/190871/neymar-da-sil...</td>\n      <td>Neymar Jr</td>\n      <td>Neymar da Silva Santos Júnior</td>\n      <td>LW, CAM</td>\n      <td>91</td>\n      <td>91</td>\n      <td>132000000.0</td>\n      <td>270000.0</td>\n      <td>28</td>\n      <td>...</td>\n      <td>49+3</td>\n      <td>49+3</td>\n      <td>49+3</td>\n      <td>62+3</td>\n      <td>20+3</td>\n      <td>https://cdn.sofifa.net/players/190/871/21_120.png</td>\n      <td>https://cdn.sofifa.net/teams/73/60.png</td>\n      <td>https://cdn.sofifa.net/flags/fr.png</td>\n      <td>NaN</td>\n      <td>https://cdn.sofifa.net/flags/br.png</td>\n    </tr>\n    <tr>\n      <th>4</th>\n      <td>192985</td>\n      <td>https://sofifa.com/player/192985/kevin-de-bruy...</td>\n      <td>K. De Bruyne</td>\n      <td>Kevin De Bruyne</td>\n      <td>CAM, CM</td>\n      <td>91</td>\n      <td>91</td>\n      <td>129000000.0</td>\n      <td>370000.0</td>\n      <td>29</td>\n      <td>...</td>\n      <td>69+3</td>\n      <td>69+3</td>\n      <td>69+3</td>\n      <td>75+3</td>\n      <td>21+3</td>\n      <td>https://cdn.sofifa.net/players/192/985/21_120.png</td>\n      <td>https://cdn.sofifa.net/teams/10/60.png</td>\n      <td>https://cdn.sofifa.net/flags/gb-eng.png</td>\n      <td>https://cdn.sofifa.net/teams/1325/60.png</td>\n      <td>https://cdn.sofifa.net/flags/be.png</td>\n    </tr>\n    <tr>\n      <th>...</th>\n      <td>...</td>\n      <td>...</td>\n      <td>...</td>\n      <td>...</td>\n      <td>...</td>\n      <td>...</td>\n      <td>...</td>\n      <td>...</td>\n      <td>...</td>\n      <td>...</td>\n      <td>...</td>\n      <td>...</td>\n      <td>...</td>\n      <td>...</td>\n      <td>...</td>\n      <td>...</td>\n      <td>...</td>\n      <td>...</td>\n      <td>...</td>\n      <td>...</td>\n      <td>...</td>\n    </tr>\n    <tr>\n      <th>18939</th>\n      <td>257710</td>\n      <td>https://sofifa.com/player/257710/mengxuan-zhan...</td>\n      <td>Zhang Mengxuan</td>\n      <td>张梦炫</td>\n      <td>CB</td>\n      <td>47</td>\n      <td>52</td>\n      <td>70000.0</td>\n      <td>1000.0</td>\n      <td>21</td>\n      <td>...</td>\n      <td>47+2</td>\n      <td>47+2</td>\n      <td>47+2</td>\n      <td>45+2</td>\n      <td>15+2</td>\n      <td>https://cdn.sofifa.net/players/257/710/21_120.png</td>\n      <td>https://cdn.sofifa.net/teams/112165/60.png</td>\n      <td>https://cdn.sofifa.net/flags/cn.png</td>\n      <td>NaN</td>\n      <td>https://cdn.sofifa.net/flags/cn.png</td>\n    </tr>\n    <tr>\n      <th>18940</th>\n      <td>257933</td>\n      <td>https://sofifa.com/player/257933/wenzhuo-huang...</td>\n      <td>Huang Wenzhou</td>\n      <td>黄文卓</td>\n      <td>CM</td>\n      <td>47</td>\n      <td>53</td>\n      <td>70000.0</td>\n      <td>1000.0</td>\n      <td>21</td>\n      <td>...</td>\n      <td>46+2</td>\n      <td>46+2</td>\n      <td>46+2</td>\n      <td>47+2</td>\n      <td>15+2</td>\n      <td>https://cdn.sofifa.net/players/257/933/21_120.png</td>\n      <td>https://cdn.sofifa.net/teams/112540/60.png</td>\n      <td>https://cdn.sofifa.net/flags/cn.png</td>\n      <td>NaN</td>\n      <td>https://cdn.sofifa.net/flags/cn.png</td>\n    </tr>\n    <tr>\n      <th>18941</th>\n      <td>257936</td>\n      <td>https://sofifa.com/player/257936/yue-song/210002</td>\n      <td>Song Yue</td>\n      <td>宋岳</td>\n      <td>CM</td>\n      <td>47</td>\n      <td>47</td>\n      <td>45000.0</td>\n      <td>2000.0</td>\n      <td>28</td>\n      <td>...</td>\n      <td>46+1</td>\n      <td>46+1</td>\n      <td>46+1</td>\n      <td>47</td>\n      <td>11+2</td>\n      <td>https://cdn.sofifa.net/players/257/936/21_120.png</td>\n      <td>https://cdn.sofifa.net/teams/111774/60.png</td>\n      <td>https://cdn.sofifa.net/flags/cn.png</td>\n      <td>NaN</td>\n      <td>https://cdn.sofifa.net/flags/cn.png</td>\n    </tr>\n    <tr>\n      <th>18942</th>\n      <td>258736</td>\n      <td>https://sofifa.com/player/258736/vani-da-silva...</td>\n      <td>V. Da Silva</td>\n      <td>Ivanilson Loforte Tique Da Silva</td>\n      <td>ST</td>\n      <td>47</td>\n      <td>67</td>\n      <td>130000.0</td>\n      <td>500.0</td>\n      <td>17</td>\n      <td>...</td>\n      <td>26+2</td>\n      <td>26+2</td>\n      <td>26+2</td>\n      <td>33+2</td>\n      <td>14+2</td>\n      <td>https://cdn.sofifa.net/players/258/736/21_120.png</td>\n      <td>https://cdn.sofifa.net/teams/1920/60.png</td>\n      <td>https://cdn.sofifa.net/flags/gb-eng.png</td>\n      <td>NaN</td>\n      <td>https://cdn.sofifa.net/flags/gb-eng.png</td>\n    </tr>\n    <tr>\n      <th>18943</th>\n      <td>258760</td>\n      <td>https://sofifa.com/player/258760/ben-hough/210002</td>\n      <td>B. Hough</td>\n      <td>Ben Hough</td>\n      <td>CM</td>\n      <td>47</td>\n      <td>67</td>\n      <td>130000.0</td>\n      <td>500.0</td>\n      <td>17</td>\n      <td>...</td>\n      <td>41+2</td>\n      <td>41+2</td>\n      <td>41+2</td>\n      <td>43+2</td>\n      <td>14+2</td>\n      <td>https://cdn.sofifa.net/players/258/760/21_120.png</td>\n      <td>https://cdn.sofifa.net/teams/1920/60.png</td>\n      <td>https://cdn.sofifa.net/flags/gb-eng.png</td>\n      <td>NaN</td>\n      <td>https://cdn.sofifa.net/flags/gb-eng.png</td>\n    </tr>\n  </tbody>\n</table>\n<p>18944 rows × 110 columns</p>\n</div>"
     },
     "execution_count": 226,
     "metadata": {},
     "output_type": "execute_result"
    }
   ],
   "source": [
    "players_21"
   ],
   "metadata": {
    "collapsed": false,
    "ExecuteTime": {
     "end_time": "2024-06-12T17:38:24.494845800Z",
     "start_time": "2024-06-12T17:38:24.404327900Z"
    }
   }
  },
  {
   "cell_type": "code",
   "execution_count": 227,
   "outputs": [
    {
     "data": {
      "text/plain": "           sofifa_id       overall     potential     value_eur       wage_eur  \\\ncount   18944.000000  18944.000000  18944.000000  1.870700e+04   18719.000000   \nmean   226232.328917     65.677787     71.086729  2.902288e+06    9148.482825   \nstd     27166.574284      7.002278      6.109985  7.743775e+06   19893.149956   \nmin        41.000000     47.000000     47.000000  9.000000e+03     500.000000   \n25%    210028.750000     61.000000     67.000000  4.750000e+05    1000.000000   \n50%    232301.500000     66.000000     71.000000  9.750000e+05    3000.000000   \n75%    246745.750000     70.000000     75.000000  2.000000e+06    8000.000000   \nmax    258970.000000     93.000000     95.000000  1.855000e+08  560000.000000   \n\n                age     height_cm     weight_kg   club_team_id  league_level  \\\ncount  18944.000000  18944.000000  18944.000000   18719.000000  18719.000000   \nmean      25.225823    181.190773     75.016892   47908.905551      1.355468   \nstd        4.697354      6.825672      7.057140   53906.733776      0.739015   \nmin       16.000000    155.000000     50.000000       1.000000      1.000000   \n25%       21.000000    176.000000     70.000000     461.000000      1.000000   \n50%       25.000000    181.000000     75.000000    1913.000000      1.000000   \n75%       29.000000    186.000000     80.000000  110986.000000      1.000000   \nmax       53.000000    206.000000    110.000000  114899.000000      4.000000   \n\n       ...  mentality_composure  defending_marking_awareness  \\\ncount  ...         18944.000000                 18944.000000   \nmean   ...            57.978674                    46.470017   \nstd    ...            12.118390                    20.169591   \nmin    ...            12.000000                     3.000000   \n25%    ...            50.000000                    29.000000   \n50%    ...            59.000000                    52.000000   \n75%    ...            66.000000                    63.000000   \nmax    ...            96.000000                    94.000000   \n\n       defending_standing_tackle  defending_sliding_tackle  \\\ncount               18944.000000              18944.000000   \nmean                   47.581767                 45.546505   \nstd                    21.402461                 20.953997   \nmin                     5.000000                  4.000000   \n25%                    27.000000                 24.000000   \n50%                    55.000000                 52.000000   \n75%                    65.000000                 63.000000   \nmax                    93.000000                 90.000000   \n\n       goalkeeping_diving  goalkeeping_handling  goalkeeping_kicking  \\\ncount        18944.000000          18944.000000         18944.000000   \nmean            16.446052             16.236486            16.103357   \nstd             17.577332             16.845480            16.519399   \nmin              1.000000              1.000000             1.000000   \n25%              8.000000              8.000000             8.000000   \n50%             11.000000             11.000000            11.000000   \n75%             14.000000             14.000000            14.000000   \nmax             90.000000             92.000000            93.000000   \n\n       goalkeeping_positioning  goalkeeping_reflexes  goalkeeping_speed  \ncount             18944.000000          18944.000000        2083.000000  \nmean                 16.225982             16.551309          37.203553  \nstd                  17.017341             17.878121          10.714523  \nmin                   1.000000              1.000000          12.000000  \n25%                   8.000000              8.000000          28.000000  \n50%                  11.000000             11.000000          37.000000  \n75%                  14.000000             14.000000          45.000000  \nmax                  91.000000             90.000000          65.000000  \n\n[8 rows x 60 columns]",
      "text/html": "<div>\n<style scoped>\n    .dataframe tbody tr th:only-of-type {\n        vertical-align: middle;\n    }\n\n    .dataframe tbody tr th {\n        vertical-align: top;\n    }\n\n    .dataframe thead th {\n        text-align: right;\n    }\n</style>\n<table border=\"1\" class=\"dataframe\">\n  <thead>\n    <tr style=\"text-align: right;\">\n      <th></th>\n      <th>sofifa_id</th>\n      <th>overall</th>\n      <th>potential</th>\n      <th>value_eur</th>\n      <th>wage_eur</th>\n      <th>age</th>\n      <th>height_cm</th>\n      <th>weight_kg</th>\n      <th>club_team_id</th>\n      <th>league_level</th>\n      <th>...</th>\n      <th>mentality_composure</th>\n      <th>defending_marking_awareness</th>\n      <th>defending_standing_tackle</th>\n      <th>defending_sliding_tackle</th>\n      <th>goalkeeping_diving</th>\n      <th>goalkeeping_handling</th>\n      <th>goalkeeping_kicking</th>\n      <th>goalkeeping_positioning</th>\n      <th>goalkeeping_reflexes</th>\n      <th>goalkeeping_speed</th>\n    </tr>\n  </thead>\n  <tbody>\n    <tr>\n      <th>count</th>\n      <td>18944.000000</td>\n      <td>18944.000000</td>\n      <td>18944.000000</td>\n      <td>1.870700e+04</td>\n      <td>18719.000000</td>\n      <td>18944.000000</td>\n      <td>18944.000000</td>\n      <td>18944.000000</td>\n      <td>18719.000000</td>\n      <td>18719.000000</td>\n      <td>...</td>\n      <td>18944.000000</td>\n      <td>18944.000000</td>\n      <td>18944.000000</td>\n      <td>18944.000000</td>\n      <td>18944.000000</td>\n      <td>18944.000000</td>\n      <td>18944.000000</td>\n      <td>18944.000000</td>\n      <td>18944.000000</td>\n      <td>2083.000000</td>\n    </tr>\n    <tr>\n      <th>mean</th>\n      <td>226232.328917</td>\n      <td>65.677787</td>\n      <td>71.086729</td>\n      <td>2.902288e+06</td>\n      <td>9148.482825</td>\n      <td>25.225823</td>\n      <td>181.190773</td>\n      <td>75.016892</td>\n      <td>47908.905551</td>\n      <td>1.355468</td>\n      <td>...</td>\n      <td>57.978674</td>\n      <td>46.470017</td>\n      <td>47.581767</td>\n      <td>45.546505</td>\n      <td>16.446052</td>\n      <td>16.236486</td>\n      <td>16.103357</td>\n      <td>16.225982</td>\n      <td>16.551309</td>\n      <td>37.203553</td>\n    </tr>\n    <tr>\n      <th>std</th>\n      <td>27166.574284</td>\n      <td>7.002278</td>\n      <td>6.109985</td>\n      <td>7.743775e+06</td>\n      <td>19893.149956</td>\n      <td>4.697354</td>\n      <td>6.825672</td>\n      <td>7.057140</td>\n      <td>53906.733776</td>\n      <td>0.739015</td>\n      <td>...</td>\n      <td>12.118390</td>\n      <td>20.169591</td>\n      <td>21.402461</td>\n      <td>20.953997</td>\n      <td>17.577332</td>\n      <td>16.845480</td>\n      <td>16.519399</td>\n      <td>17.017341</td>\n      <td>17.878121</td>\n      <td>10.714523</td>\n    </tr>\n    <tr>\n      <th>min</th>\n      <td>41.000000</td>\n      <td>47.000000</td>\n      <td>47.000000</td>\n      <td>9.000000e+03</td>\n      <td>500.000000</td>\n      <td>16.000000</td>\n      <td>155.000000</td>\n      <td>50.000000</td>\n      <td>1.000000</td>\n      <td>1.000000</td>\n      <td>...</td>\n      <td>12.000000</td>\n      <td>3.000000</td>\n      <td>5.000000</td>\n      <td>4.000000</td>\n      <td>1.000000</td>\n      <td>1.000000</td>\n      <td>1.000000</td>\n      <td>1.000000</td>\n      <td>1.000000</td>\n      <td>12.000000</td>\n    </tr>\n    <tr>\n      <th>25%</th>\n      <td>210028.750000</td>\n      <td>61.000000</td>\n      <td>67.000000</td>\n      <td>4.750000e+05</td>\n      <td>1000.000000</td>\n      <td>21.000000</td>\n      <td>176.000000</td>\n      <td>70.000000</td>\n      <td>461.000000</td>\n      <td>1.000000</td>\n      <td>...</td>\n      <td>50.000000</td>\n      <td>29.000000</td>\n      <td>27.000000</td>\n      <td>24.000000</td>\n      <td>8.000000</td>\n      <td>8.000000</td>\n      <td>8.000000</td>\n      <td>8.000000</td>\n      <td>8.000000</td>\n      <td>28.000000</td>\n    </tr>\n    <tr>\n      <th>50%</th>\n      <td>232301.500000</td>\n      <td>66.000000</td>\n      <td>71.000000</td>\n      <td>9.750000e+05</td>\n      <td>3000.000000</td>\n      <td>25.000000</td>\n      <td>181.000000</td>\n      <td>75.000000</td>\n      <td>1913.000000</td>\n      <td>1.000000</td>\n      <td>...</td>\n      <td>59.000000</td>\n      <td>52.000000</td>\n      <td>55.000000</td>\n      <td>52.000000</td>\n      <td>11.000000</td>\n      <td>11.000000</td>\n      <td>11.000000</td>\n      <td>11.000000</td>\n      <td>11.000000</td>\n      <td>37.000000</td>\n    </tr>\n    <tr>\n      <th>75%</th>\n      <td>246745.750000</td>\n      <td>70.000000</td>\n      <td>75.000000</td>\n      <td>2.000000e+06</td>\n      <td>8000.000000</td>\n      <td>29.000000</td>\n      <td>186.000000</td>\n      <td>80.000000</td>\n      <td>110986.000000</td>\n      <td>1.000000</td>\n      <td>...</td>\n      <td>66.000000</td>\n      <td>63.000000</td>\n      <td>65.000000</td>\n      <td>63.000000</td>\n      <td>14.000000</td>\n      <td>14.000000</td>\n      <td>14.000000</td>\n      <td>14.000000</td>\n      <td>14.000000</td>\n      <td>45.000000</td>\n    </tr>\n    <tr>\n      <th>max</th>\n      <td>258970.000000</td>\n      <td>93.000000</td>\n      <td>95.000000</td>\n      <td>1.855000e+08</td>\n      <td>560000.000000</td>\n      <td>53.000000</td>\n      <td>206.000000</td>\n      <td>110.000000</td>\n      <td>114899.000000</td>\n      <td>4.000000</td>\n      <td>...</td>\n      <td>96.000000</td>\n      <td>94.000000</td>\n      <td>93.000000</td>\n      <td>90.000000</td>\n      <td>90.000000</td>\n      <td>92.000000</td>\n      <td>93.000000</td>\n      <td>91.000000</td>\n      <td>90.000000</td>\n      <td>65.000000</td>\n    </tr>\n  </tbody>\n</table>\n<p>8 rows × 60 columns</p>\n</div>"
     },
     "execution_count": 227,
     "metadata": {},
     "output_type": "execute_result"
    }
   ],
   "source": [
    "players_21.describe()"
   ],
   "metadata": {
    "collapsed": false,
    "ExecuteTime": {
     "end_time": "2024-06-12T17:38:24.635267500Z",
     "start_time": "2024-06-12T17:38:24.460881200Z"
    }
   }
  },
  {
   "cell_type": "code",
   "execution_count": 228,
   "outputs": [
    {
     "name": "stdout",
     "output_type": "stream",
     "text": [
      "<class 'pandas.core.frame.DataFrame'>\n",
      "RangeIndex: 18944 entries, 0 to 18943\n",
      "Columns: 110 entries, sofifa_id to nation_flag_url\n",
      "dtypes: float64(16), int64(44), object(50)\n",
      "memory usage: 15.9+ MB\n"
     ]
    }
   ],
   "source": [
    "players_21.info()"
   ],
   "metadata": {
    "collapsed": false,
    "ExecuteTime": {
     "end_time": "2024-06-12T17:38:24.673466500Z",
     "start_time": "2024-06-12T17:38:24.643268300Z"
    }
   }
  },
  {
   "cell_type": "code",
   "execution_count": 229,
   "outputs": [
    {
     "name": "stdout",
     "output_type": "stream",
     "text": [
      "Index(['player_url', 'short_name', 'long_name', 'player_positions', 'dob',\n",
      "       'club_name', 'league_name', 'club_position', 'club_loaned_from',\n",
      "       'club_joined', 'nationality_name', 'nation_position', 'preferred_foot',\n",
      "       'work_rate', 'body_type', 'real_face', 'player_tags', 'player_traits',\n",
      "       'ls', 'st', 'rs', 'lw', 'lf', 'cf', 'rf', 'rw', 'lam', 'cam', 'ram',\n",
      "       'lm', 'lcm', 'cm', 'rcm', 'rm', 'lwb', 'ldm', 'cdm', 'rdm', 'rwb', 'lb',\n",
      "       'lcb', 'cb', 'rcb', 'rb', 'gk', 'player_face_url', 'club_logo_url',\n",
      "       'club_flag_url', 'nation_logo_url', 'nation_flag_url'],\n",
      "      dtype='object')\n"
     ]
    }
   ],
   "source": [
    "object_columns = players_21.select_dtypes(include='object').columns\n",
    "\n",
    "print(object_columns)"
   ],
   "metadata": {
    "collapsed": false,
    "ExecuteTime": {
     "end_time": "2024-06-12T17:38:24.699849700Z",
     "start_time": "2024-06-12T17:38:24.650850400Z"
    }
   }
  },
  {
   "cell_type": "code",
   "execution_count": 230,
   "outputs": [],
   "source": [
    "columns_to_drop = players_21.filter(regex='url|dob').columns\n",
    "\n",
    "players_21.drop(columns=columns_to_drop, axis=1, inplace=True)"
   ],
   "metadata": {
    "collapsed": false,
    "ExecuteTime": {
     "end_time": "2024-06-12T17:38:24.735851100Z",
     "start_time": "2024-06-12T17:38:24.672469500Z"
    }
   }
  },
  {
   "cell_type": "code",
   "execution_count": 231,
   "outputs": [
    {
     "name": "stdout",
     "output_type": "stream",
     "text": [
      "<class 'pandas.core.frame.DataFrame'>\n",
      "RangeIndex: 18944 entries, 0 to 18943\n",
      "Columns: 103 entries, sofifa_id to gk\n",
      "dtypes: float64(16), int64(44), object(43)\n",
      "memory usage: 14.9+ MB\n"
     ]
    }
   ],
   "source": [
    "players_21.info()"
   ],
   "metadata": {
    "collapsed": false,
    "ExecuteTime": {
     "end_time": "2024-06-12T17:38:24.754660800Z",
     "start_time": "2024-06-12T17:38:24.688003300Z"
    }
   }
  },
  {
   "cell_type": "code",
   "execution_count": 232,
   "outputs": [],
   "source": [
    "players_21.dropna(thresh= len(players_21) * 0.5, axis=1, inplace=True)"
   ],
   "metadata": {
    "collapsed": false,
    "ExecuteTime": {
     "end_time": "2024-06-12T17:38:24.845012300Z",
     "start_time": "2024-06-12T17:38:24.700851Z"
    }
   }
  },
  {
   "cell_type": "code",
   "execution_count": 233,
   "outputs": [
    {
     "name": "stdout",
     "output_type": "stream",
     "text": [
      "<class 'pandas.core.frame.DataFrame'>\n",
      "RangeIndex: 18944 entries, 0 to 18943\n",
      "Data columns (total 96 columns):\n",
      " #   Column                       Non-Null Count  Dtype  \n",
      "---  ------                       --------------  -----  \n",
      " 0   sofifa_id                    18944 non-null  int64  \n",
      " 1   short_name                   18944 non-null  object \n",
      " 2   long_name                    18944 non-null  object \n",
      " 3   player_positions             18944 non-null  object \n",
      " 4   overall                      18944 non-null  int64  \n",
      " 5   potential                    18944 non-null  int64  \n",
      " 6   value_eur                    18707 non-null  float64\n",
      " 7   wage_eur                     18719 non-null  float64\n",
      " 8   age                          18944 non-null  int64  \n",
      " 9   height_cm                    18944 non-null  int64  \n",
      " 10  weight_kg                    18944 non-null  int64  \n",
      " 11  club_team_id                 18719 non-null  float64\n",
      " 12  club_name                    18719 non-null  object \n",
      " 13  league_name                  18719 non-null  object \n",
      " 14  league_level                 18719 non-null  float64\n",
      " 15  club_position                18719 non-null  object \n",
      " 16  club_jersey_number           18719 non-null  float64\n",
      " 17  club_joined                  17961 non-null  object \n",
      " 18  club_contract_valid_until    18719 non-null  float64\n",
      " 19  nationality_id               18944 non-null  int64  \n",
      " 20  nationality_name             18944 non-null  object \n",
      " 21  preferred_foot               18944 non-null  object \n",
      " 22  weak_foot                    18944 non-null  int64  \n",
      " 23  skill_moves                  18944 non-null  int64  \n",
      " 24  international_reputation     18944 non-null  int64  \n",
      " 25  work_rate                    18944 non-null  object \n",
      " 26  body_type                    18944 non-null  object \n",
      " 27  real_face                    18944 non-null  object \n",
      " 28  release_clause_eur           17949 non-null  float64\n",
      " 29  pace                         16861 non-null  float64\n",
      " 30  shooting                     16861 non-null  float64\n",
      " 31  passing                      16861 non-null  float64\n",
      " 32  dribbling                    16861 non-null  float64\n",
      " 33  defending                    16861 non-null  float64\n",
      " 34  physic                       16861 non-null  float64\n",
      " 35  attacking_crossing           18944 non-null  int64  \n",
      " 36  attacking_finishing          18944 non-null  int64  \n",
      " 37  attacking_heading_accuracy   18944 non-null  int64  \n",
      " 38  attacking_short_passing      18944 non-null  int64  \n",
      " 39  attacking_volleys            18944 non-null  int64  \n",
      " 40  skill_dribbling              18944 non-null  int64  \n",
      " 41  skill_curve                  18944 non-null  int64  \n",
      " 42  skill_fk_accuracy            18944 non-null  int64  \n",
      " 43  skill_long_passing           18944 non-null  int64  \n",
      " 44  skill_ball_control           18944 non-null  int64  \n",
      " 45  movement_acceleration        18944 non-null  int64  \n",
      " 46  movement_sprint_speed        18944 non-null  int64  \n",
      " 47  movement_agility             18944 non-null  int64  \n",
      " 48  movement_reactions           18944 non-null  int64  \n",
      " 49  movement_balance             18944 non-null  int64  \n",
      " 50  power_shot_power             18944 non-null  int64  \n",
      " 51  power_jumping                18944 non-null  int64  \n",
      " 52  power_stamina                18944 non-null  int64  \n",
      " 53  power_strength               18944 non-null  int64  \n",
      " 54  power_long_shots             18944 non-null  int64  \n",
      " 55  mentality_aggression         18944 non-null  int64  \n",
      " 56  mentality_interceptions      18944 non-null  int64  \n",
      " 57  mentality_positioning        18944 non-null  int64  \n",
      " 58  mentality_vision             18944 non-null  int64  \n",
      " 59  mentality_penalties          18944 non-null  int64  \n",
      " 60  mentality_composure          18944 non-null  int64  \n",
      " 61  defending_marking_awareness  18944 non-null  int64  \n",
      " 62  defending_standing_tackle    18944 non-null  int64  \n",
      " 63  defending_sliding_tackle     18944 non-null  int64  \n",
      " 64  goalkeeping_diving           18944 non-null  int64  \n",
      " 65  goalkeeping_handling         18944 non-null  int64  \n",
      " 66  goalkeeping_kicking          18944 non-null  int64  \n",
      " 67  goalkeeping_positioning      18944 non-null  int64  \n",
      " 68  goalkeeping_reflexes         18944 non-null  int64  \n",
      " 69  ls                           18944 non-null  object \n",
      " 70  st                           18944 non-null  object \n",
      " 71  rs                           18944 non-null  object \n",
      " 72  lw                           18944 non-null  object \n",
      " 73  lf                           18944 non-null  object \n",
      " 74  cf                           18944 non-null  object \n",
      " 75  rf                           18944 non-null  object \n",
      " 76  rw                           18944 non-null  object \n",
      " 77  lam                          18944 non-null  object \n",
      " 78  cam                          18944 non-null  object \n",
      " 79  ram                          18944 non-null  object \n",
      " 80  lm                           18944 non-null  object \n",
      " 81  lcm                          18944 non-null  object \n",
      " 82  cm                           18944 non-null  object \n",
      " 83  rcm                          18944 non-null  object \n",
      " 84  rm                           18944 non-null  object \n",
      " 85  lwb                          18944 non-null  object \n",
      " 86  ldm                          18944 non-null  object \n",
      " 87  cdm                          18944 non-null  object \n",
      " 88  rdm                          18944 non-null  object \n",
      " 89  rwb                          18944 non-null  object \n",
      " 90  lb                           18944 non-null  object \n",
      " 91  lcb                          18944 non-null  object \n",
      " 92  cb                           18944 non-null  object \n",
      " 93  rcb                          18944 non-null  object \n",
      " 94  rb                           18944 non-null  object \n",
      " 95  gk                           18944 non-null  object \n",
      "dtypes: float64(13), int64(44), object(39)\n",
      "memory usage: 13.9+ MB\n"
     ]
    }
   ],
   "source": [
    "players_21.info()"
   ],
   "metadata": {
    "collapsed": false,
    "ExecuteTime": {
     "end_time": "2024-06-12T17:38:24.859512900Z",
     "start_time": "2024-06-12T17:38:24.748137200Z"
    }
   }
  },
  {
   "cell_type": "code",
   "execution_count": 234,
   "outputs": [],
   "source": [
    "from sklearn.impute import SimpleImputer\n",
    "\n",
    "numeric_cols = players_21.select_dtypes(include=['number']).columns\n",
    "num_imputer = SimpleImputer(strategy='median')\n",
    "players_21[numeric_cols] = num_imputer.fit_transform(players_21[numeric_cols])\n",
    "\n",
    "obj_imputer = SimpleImputer(strategy='most_frequent')\n",
    "players_21[players_21.select_dtypes(include='object').columns] = obj_imputer.fit_transform(players_21[players_21.select_dtypes\n",
    "(include='object').columns])"
   ],
   "metadata": {
    "collapsed": false,
    "ExecuteTime": {
     "end_time": "2024-06-12T17:38:25.053101200Z",
     "start_time": "2024-06-12T17:38:24.789985300Z"
    }
   }
  },
  {
   "cell_type": "code",
   "execution_count": 235,
   "outputs": [
    {
     "name": "stdout",
     "output_type": "stream",
     "text": [
      "<class 'pandas.core.frame.DataFrame'>\n",
      "RangeIndex: 18944 entries, 0 to 18943\n",
      "Data columns (total 96 columns):\n",
      " #   Column                       Non-Null Count  Dtype  \n",
      "---  ------                       --------------  -----  \n",
      " 0   sofifa_id                    18944 non-null  float64\n",
      " 1   short_name                   18944 non-null  object \n",
      " 2   long_name                    18944 non-null  object \n",
      " 3   player_positions             18944 non-null  object \n",
      " 4   overall                      18944 non-null  float64\n",
      " 5   potential                    18944 non-null  float64\n",
      " 6   value_eur                    18944 non-null  float64\n",
      " 7   wage_eur                     18944 non-null  float64\n",
      " 8   age                          18944 non-null  float64\n",
      " 9   height_cm                    18944 non-null  float64\n",
      " 10  weight_kg                    18944 non-null  float64\n",
      " 11  club_team_id                 18944 non-null  float64\n",
      " 12  club_name                    18944 non-null  object \n",
      " 13  league_name                  18944 non-null  object \n",
      " 14  league_level                 18944 non-null  float64\n",
      " 15  club_position                18944 non-null  object \n",
      " 16  club_jersey_number           18944 non-null  float64\n",
      " 17  club_joined                  18944 non-null  object \n",
      " 18  club_contract_valid_until    18944 non-null  float64\n",
      " 19  nationality_id               18944 non-null  float64\n",
      " 20  nationality_name             18944 non-null  object \n",
      " 21  preferred_foot               18944 non-null  object \n",
      " 22  weak_foot                    18944 non-null  float64\n",
      " 23  skill_moves                  18944 non-null  float64\n",
      " 24  international_reputation     18944 non-null  float64\n",
      " 25  work_rate                    18944 non-null  object \n",
      " 26  body_type                    18944 non-null  object \n",
      " 27  real_face                    18944 non-null  object \n",
      " 28  release_clause_eur           18944 non-null  float64\n",
      " 29  pace                         18944 non-null  float64\n",
      " 30  shooting                     18944 non-null  float64\n",
      " 31  passing                      18944 non-null  float64\n",
      " 32  dribbling                    18944 non-null  float64\n",
      " 33  defending                    18944 non-null  float64\n",
      " 34  physic                       18944 non-null  float64\n",
      " 35  attacking_crossing           18944 non-null  float64\n",
      " 36  attacking_finishing          18944 non-null  float64\n",
      " 37  attacking_heading_accuracy   18944 non-null  float64\n",
      " 38  attacking_short_passing      18944 non-null  float64\n",
      " 39  attacking_volleys            18944 non-null  float64\n",
      " 40  skill_dribbling              18944 non-null  float64\n",
      " 41  skill_curve                  18944 non-null  float64\n",
      " 42  skill_fk_accuracy            18944 non-null  float64\n",
      " 43  skill_long_passing           18944 non-null  float64\n",
      " 44  skill_ball_control           18944 non-null  float64\n",
      " 45  movement_acceleration        18944 non-null  float64\n",
      " 46  movement_sprint_speed        18944 non-null  float64\n",
      " 47  movement_agility             18944 non-null  float64\n",
      " 48  movement_reactions           18944 non-null  float64\n",
      " 49  movement_balance             18944 non-null  float64\n",
      " 50  power_shot_power             18944 non-null  float64\n",
      " 51  power_jumping                18944 non-null  float64\n",
      " 52  power_stamina                18944 non-null  float64\n",
      " 53  power_strength               18944 non-null  float64\n",
      " 54  power_long_shots             18944 non-null  float64\n",
      " 55  mentality_aggression         18944 non-null  float64\n",
      " 56  mentality_interceptions      18944 non-null  float64\n",
      " 57  mentality_positioning        18944 non-null  float64\n",
      " 58  mentality_vision             18944 non-null  float64\n",
      " 59  mentality_penalties          18944 non-null  float64\n",
      " 60  mentality_composure          18944 non-null  float64\n",
      " 61  defending_marking_awareness  18944 non-null  float64\n",
      " 62  defending_standing_tackle    18944 non-null  float64\n",
      " 63  defending_sliding_tackle     18944 non-null  float64\n",
      " 64  goalkeeping_diving           18944 non-null  float64\n",
      " 65  goalkeeping_handling         18944 non-null  float64\n",
      " 66  goalkeeping_kicking          18944 non-null  float64\n",
      " 67  goalkeeping_positioning      18944 non-null  float64\n",
      " 68  goalkeeping_reflexes         18944 non-null  float64\n",
      " 69  ls                           18944 non-null  object \n",
      " 70  st                           18944 non-null  object \n",
      " 71  rs                           18944 non-null  object \n",
      " 72  lw                           18944 non-null  object \n",
      " 73  lf                           18944 non-null  object \n",
      " 74  cf                           18944 non-null  object \n",
      " 75  rf                           18944 non-null  object \n",
      " 76  rw                           18944 non-null  object \n",
      " 77  lam                          18944 non-null  object \n",
      " 78  cam                          18944 non-null  object \n",
      " 79  ram                          18944 non-null  object \n",
      " 80  lm                           18944 non-null  object \n",
      " 81  lcm                          18944 non-null  object \n",
      " 82  cm                           18944 non-null  object \n",
      " 83  rcm                          18944 non-null  object \n",
      " 84  rm                           18944 non-null  object \n",
      " 85  lwb                          18944 non-null  object \n",
      " 86  ldm                          18944 non-null  object \n",
      " 87  cdm                          18944 non-null  object \n",
      " 88  rdm                          18944 non-null  object \n",
      " 89  rwb                          18944 non-null  object \n",
      " 90  lb                           18944 non-null  object \n",
      " 91  lcb                          18944 non-null  object \n",
      " 92  cb                           18944 non-null  object \n",
      " 93  rcb                          18944 non-null  object \n",
      " 94  rb                           18944 non-null  object \n",
      " 95  gk                           18944 non-null  object \n",
      "dtypes: float64(57), object(39)\n",
      "memory usage: 13.9+ MB\n"
     ]
    }
   ],
   "source": [
    "players_21.info()"
   ],
   "metadata": {
    "collapsed": false,
    "ExecuteTime": {
     "end_time": "2024-06-12T17:38:25.103897400Z",
     "start_time": "2024-06-12T17:38:25.055084700Z"
    }
   }
  },
  {
   "cell_type": "code",
   "execution_count": 236,
   "outputs": [],
   "source": [
    "columns_to_drop = ['sofifa_id','short_name', 'long_name','player_positions','club_team_id','club_name','league_name',\n",
    "                   'league_level','club_position','club_jersey_number','club_joined','club_contract_valid_until'\n",
    "                   ,'nationality_id','nationality_name','real_face','release_clause_eur']\n",
    "players_21.drop(columns=columns_to_drop, axis=1, inplace=True)"
   ],
   "metadata": {
    "collapsed": false,
    "ExecuteTime": {
     "end_time": "2024-06-12T17:38:25.147924Z",
     "start_time": "2024-06-12T17:38:25.102895400Z"
    }
   }
  },
  {
   "cell_type": "code",
   "execution_count": 237,
   "outputs": [
    {
     "name": "stdout",
     "output_type": "stream",
     "text": [
      "<class 'pandas.core.frame.DataFrame'>\n",
      "RangeIndex: 18944 entries, 0 to 18943\n",
      "Data columns (total 80 columns):\n",
      " #   Column                       Non-Null Count  Dtype  \n",
      "---  ------                       --------------  -----  \n",
      " 0   overall                      18944 non-null  float64\n",
      " 1   potential                    18944 non-null  float64\n",
      " 2   value_eur                    18944 non-null  float64\n",
      " 3   wage_eur                     18944 non-null  float64\n",
      " 4   age                          18944 non-null  float64\n",
      " 5   height_cm                    18944 non-null  float64\n",
      " 6   weight_kg                    18944 non-null  float64\n",
      " 7   preferred_foot               18944 non-null  object \n",
      " 8   weak_foot                    18944 non-null  float64\n",
      " 9   skill_moves                  18944 non-null  float64\n",
      " 10  international_reputation     18944 non-null  float64\n",
      " 11  work_rate                    18944 non-null  object \n",
      " 12  body_type                    18944 non-null  object \n",
      " 13  pace                         18944 non-null  float64\n",
      " 14  shooting                     18944 non-null  float64\n",
      " 15  passing                      18944 non-null  float64\n",
      " 16  dribbling                    18944 non-null  float64\n",
      " 17  defending                    18944 non-null  float64\n",
      " 18  physic                       18944 non-null  float64\n",
      " 19  attacking_crossing           18944 non-null  float64\n",
      " 20  attacking_finishing          18944 non-null  float64\n",
      " 21  attacking_heading_accuracy   18944 non-null  float64\n",
      " 22  attacking_short_passing      18944 non-null  float64\n",
      " 23  attacking_volleys            18944 non-null  float64\n",
      " 24  skill_dribbling              18944 non-null  float64\n",
      " 25  skill_curve                  18944 non-null  float64\n",
      " 26  skill_fk_accuracy            18944 non-null  float64\n",
      " 27  skill_long_passing           18944 non-null  float64\n",
      " 28  skill_ball_control           18944 non-null  float64\n",
      " 29  movement_acceleration        18944 non-null  float64\n",
      " 30  movement_sprint_speed        18944 non-null  float64\n",
      " 31  movement_agility             18944 non-null  float64\n",
      " 32  movement_reactions           18944 non-null  float64\n",
      " 33  movement_balance             18944 non-null  float64\n",
      " 34  power_shot_power             18944 non-null  float64\n",
      " 35  power_jumping                18944 non-null  float64\n",
      " 36  power_stamina                18944 non-null  float64\n",
      " 37  power_strength               18944 non-null  float64\n",
      " 38  power_long_shots             18944 non-null  float64\n",
      " 39  mentality_aggression         18944 non-null  float64\n",
      " 40  mentality_interceptions      18944 non-null  float64\n",
      " 41  mentality_positioning        18944 non-null  float64\n",
      " 42  mentality_vision             18944 non-null  float64\n",
      " 43  mentality_penalties          18944 non-null  float64\n",
      " 44  mentality_composure          18944 non-null  float64\n",
      " 45  defending_marking_awareness  18944 non-null  float64\n",
      " 46  defending_standing_tackle    18944 non-null  float64\n",
      " 47  defending_sliding_tackle     18944 non-null  float64\n",
      " 48  goalkeeping_diving           18944 non-null  float64\n",
      " 49  goalkeeping_handling         18944 non-null  float64\n",
      " 50  goalkeeping_kicking          18944 non-null  float64\n",
      " 51  goalkeeping_positioning      18944 non-null  float64\n",
      " 52  goalkeeping_reflexes         18944 non-null  float64\n",
      " 53  ls                           18944 non-null  object \n",
      " 54  st                           18944 non-null  object \n",
      " 55  rs                           18944 non-null  object \n",
      " 56  lw                           18944 non-null  object \n",
      " 57  lf                           18944 non-null  object \n",
      " 58  cf                           18944 non-null  object \n",
      " 59  rf                           18944 non-null  object \n",
      " 60  rw                           18944 non-null  object \n",
      " 61  lam                          18944 non-null  object \n",
      " 62  cam                          18944 non-null  object \n",
      " 63  ram                          18944 non-null  object \n",
      " 64  lm                           18944 non-null  object \n",
      " 65  lcm                          18944 non-null  object \n",
      " 66  cm                           18944 non-null  object \n",
      " 67  rcm                          18944 non-null  object \n",
      " 68  rm                           18944 non-null  object \n",
      " 69  lwb                          18944 non-null  object \n",
      " 70  ldm                          18944 non-null  object \n",
      " 71  cdm                          18944 non-null  object \n",
      " 72  rdm                          18944 non-null  object \n",
      " 73  rwb                          18944 non-null  object \n",
      " 74  lb                           18944 non-null  object \n",
      " 75  lcb                          18944 non-null  object \n",
      " 76  cb                           18944 non-null  object \n",
      " 77  rcb                          18944 non-null  object \n",
      " 78  rb                           18944 non-null  object \n",
      " 79  gk                           18944 non-null  object \n",
      "dtypes: float64(50), object(30)\n",
      "memory usage: 11.6+ MB\n"
     ]
    }
   ],
   "source": [
    "players_21.info()"
   ],
   "metadata": {
    "collapsed": false,
    "ExecuteTime": {
     "end_time": "2024-06-12T17:38:25.187219100Z",
     "start_time": "2024-06-12T17:38:25.147924Z"
    }
   }
  },
  {
   "cell_type": "code",
   "execution_count": 238,
   "outputs": [],
   "source": [
    "import re\n",
    "\n",
    "for col in players_21.columns:\n",
    "    # Convert column to string for checking patterns\n",
    "    col_str = players_21[col].astype(str)\n",
    "\n",
    "    # Check if the column contains any data in the form of \"number+number\" or \"number-number\"\n",
    "    if col_str.str.contains(r'^\\d+[\\+\\-]\\d+$').any():\n",
    "        # Apply eval to each element in the column if it matches the pattern\n",
    "        players_21[col] = players_21[col].apply(lambda x: eval(x) if isinstance(x, str) and re.match(r'^\\d+[\\+\\-]\\d+$', x) else x)\n",
    "\n",
    "        # Convert the column to int or float as needed\n",
    "        if players_21[col].apply(lambda x: isinstance(x, (int, float))).all():\n",
    "            players_21[col] = players_21[col].astype(float)"
   ],
   "metadata": {
    "collapsed": false,
    "ExecuteTime": {
     "end_time": "2024-06-12T17:38:28.548291300Z",
     "start_time": "2024-06-12T17:38:25.158122100Z"
    }
   }
  },
  {
   "cell_type": "code",
   "execution_count": 239,
   "outputs": [
    {
     "data": {
      "text/plain": "       overall  potential    value_eur  wage_eur   age  height_cm  weight_kg  \\\n0         93.0       93.0  103500000.0  560000.0  33.0      170.0       72.0   \n1         92.0       92.0   63000000.0  220000.0  35.0      187.0       83.0   \n2         91.0       91.0  111000000.0  240000.0  31.0      184.0       80.0   \n3         91.0       91.0  132000000.0  270000.0  28.0      175.0       68.0   \n4         91.0       91.0  129000000.0  370000.0  29.0      181.0       70.0   \n...        ...        ...          ...       ...   ...        ...        ...   \n18939     47.0       52.0      70000.0    1000.0  21.0      177.0       70.0   \n18940     47.0       53.0      70000.0    1000.0  21.0      174.0       68.0   \n18941     47.0       47.0      45000.0    2000.0  28.0      185.0       79.0   \n18942     47.0       67.0     130000.0     500.0  17.0      171.0       58.0   \n18943     47.0       67.0     130000.0     500.0  17.0      175.0       65.0   \n\n      preferred_foot  weak_foot  skill_moves  ...  ldm cdm rdm  rwb  lb  lcb  \\\n0               Left        4.0          4.0  ...   68  68  68   69  65   55   \n1              Right        4.0          5.0  ...   64  64  64   68  64   57   \n2              Right        4.0          4.0  ...   68  68  68   67  64   63   \n3              Right        5.0          5.0  ...   65  65  65   70  65   52   \n4              Right        5.0          4.0  ...   83  83  83   82  78   72   \n...              ...        ...          ...  ...  ...  ..  ..  ...  ..  ...   \n18939          Right        2.0          2.0  ...   43  43  43   44  47   49   \n18940          Right        2.0          2.0  ...   50  50  50   49  49   48   \n18941          Right        2.0          2.0  ...   47  47  47   47  47   47   \n18942          Right        2.0          2.0  ...   34  34  34   37  35   28   \n18943          Right        2.0          2.0  ...   45  45  45   46  45   43   \n\n       cb  rcb  rb    gk  \n0      55   55  65  22.0  \n1      57   57  64  23.0  \n2      63   63  64  22.0  \n3      52   52  65  23.0  \n4      72   72  78  24.0  \n...    ..  ...  ..   ...  \n18939  49   49  47  17.0  \n18940  48   48  49  17.0  \n18941  47   47  47  13.0  \n18942  28   28  35  16.0  \n18943  43   43  45  16.0  \n\n[18944 rows x 80 columns]",
      "text/html": "<div>\n<style scoped>\n    .dataframe tbody tr th:only-of-type {\n        vertical-align: middle;\n    }\n\n    .dataframe tbody tr th {\n        vertical-align: top;\n    }\n\n    .dataframe thead th {\n        text-align: right;\n    }\n</style>\n<table border=\"1\" class=\"dataframe\">\n  <thead>\n    <tr style=\"text-align: right;\">\n      <th></th>\n      <th>overall</th>\n      <th>potential</th>\n      <th>value_eur</th>\n      <th>wage_eur</th>\n      <th>age</th>\n      <th>height_cm</th>\n      <th>weight_kg</th>\n      <th>preferred_foot</th>\n      <th>weak_foot</th>\n      <th>skill_moves</th>\n      <th>...</th>\n      <th>ldm</th>\n      <th>cdm</th>\n      <th>rdm</th>\n      <th>rwb</th>\n      <th>lb</th>\n      <th>lcb</th>\n      <th>cb</th>\n      <th>rcb</th>\n      <th>rb</th>\n      <th>gk</th>\n    </tr>\n  </thead>\n  <tbody>\n    <tr>\n      <th>0</th>\n      <td>93.0</td>\n      <td>93.0</td>\n      <td>103500000.0</td>\n      <td>560000.0</td>\n      <td>33.0</td>\n      <td>170.0</td>\n      <td>72.0</td>\n      <td>Left</td>\n      <td>4.0</td>\n      <td>4.0</td>\n      <td>...</td>\n      <td>68</td>\n      <td>68</td>\n      <td>68</td>\n      <td>69</td>\n      <td>65</td>\n      <td>55</td>\n      <td>55</td>\n      <td>55</td>\n      <td>65</td>\n      <td>22.0</td>\n    </tr>\n    <tr>\n      <th>1</th>\n      <td>92.0</td>\n      <td>92.0</td>\n      <td>63000000.0</td>\n      <td>220000.0</td>\n      <td>35.0</td>\n      <td>187.0</td>\n      <td>83.0</td>\n      <td>Right</td>\n      <td>4.0</td>\n      <td>5.0</td>\n      <td>...</td>\n      <td>64</td>\n      <td>64</td>\n      <td>64</td>\n      <td>68</td>\n      <td>64</td>\n      <td>57</td>\n      <td>57</td>\n      <td>57</td>\n      <td>64</td>\n      <td>23.0</td>\n    </tr>\n    <tr>\n      <th>2</th>\n      <td>91.0</td>\n      <td>91.0</td>\n      <td>111000000.0</td>\n      <td>240000.0</td>\n      <td>31.0</td>\n      <td>184.0</td>\n      <td>80.0</td>\n      <td>Right</td>\n      <td>4.0</td>\n      <td>4.0</td>\n      <td>...</td>\n      <td>68</td>\n      <td>68</td>\n      <td>68</td>\n      <td>67</td>\n      <td>64</td>\n      <td>63</td>\n      <td>63</td>\n      <td>63</td>\n      <td>64</td>\n      <td>22.0</td>\n    </tr>\n    <tr>\n      <th>3</th>\n      <td>91.0</td>\n      <td>91.0</td>\n      <td>132000000.0</td>\n      <td>270000.0</td>\n      <td>28.0</td>\n      <td>175.0</td>\n      <td>68.0</td>\n      <td>Right</td>\n      <td>5.0</td>\n      <td>5.0</td>\n      <td>...</td>\n      <td>65</td>\n      <td>65</td>\n      <td>65</td>\n      <td>70</td>\n      <td>65</td>\n      <td>52</td>\n      <td>52</td>\n      <td>52</td>\n      <td>65</td>\n      <td>23.0</td>\n    </tr>\n    <tr>\n      <th>4</th>\n      <td>91.0</td>\n      <td>91.0</td>\n      <td>129000000.0</td>\n      <td>370000.0</td>\n      <td>29.0</td>\n      <td>181.0</td>\n      <td>70.0</td>\n      <td>Right</td>\n      <td>5.0</td>\n      <td>4.0</td>\n      <td>...</td>\n      <td>83</td>\n      <td>83</td>\n      <td>83</td>\n      <td>82</td>\n      <td>78</td>\n      <td>72</td>\n      <td>72</td>\n      <td>72</td>\n      <td>78</td>\n      <td>24.0</td>\n    </tr>\n    <tr>\n      <th>...</th>\n      <td>...</td>\n      <td>...</td>\n      <td>...</td>\n      <td>...</td>\n      <td>...</td>\n      <td>...</td>\n      <td>...</td>\n      <td>...</td>\n      <td>...</td>\n      <td>...</td>\n      <td>...</td>\n      <td>...</td>\n      <td>...</td>\n      <td>...</td>\n      <td>...</td>\n      <td>...</td>\n      <td>...</td>\n      <td>...</td>\n      <td>...</td>\n      <td>...</td>\n      <td>...</td>\n    </tr>\n    <tr>\n      <th>18939</th>\n      <td>47.0</td>\n      <td>52.0</td>\n      <td>70000.0</td>\n      <td>1000.0</td>\n      <td>21.0</td>\n      <td>177.0</td>\n      <td>70.0</td>\n      <td>Right</td>\n      <td>2.0</td>\n      <td>2.0</td>\n      <td>...</td>\n      <td>43</td>\n      <td>43</td>\n      <td>43</td>\n      <td>44</td>\n      <td>47</td>\n      <td>49</td>\n      <td>49</td>\n      <td>49</td>\n      <td>47</td>\n      <td>17.0</td>\n    </tr>\n    <tr>\n      <th>18940</th>\n      <td>47.0</td>\n      <td>53.0</td>\n      <td>70000.0</td>\n      <td>1000.0</td>\n      <td>21.0</td>\n      <td>174.0</td>\n      <td>68.0</td>\n      <td>Right</td>\n      <td>2.0</td>\n      <td>2.0</td>\n      <td>...</td>\n      <td>50</td>\n      <td>50</td>\n      <td>50</td>\n      <td>49</td>\n      <td>49</td>\n      <td>48</td>\n      <td>48</td>\n      <td>48</td>\n      <td>49</td>\n      <td>17.0</td>\n    </tr>\n    <tr>\n      <th>18941</th>\n      <td>47.0</td>\n      <td>47.0</td>\n      <td>45000.0</td>\n      <td>2000.0</td>\n      <td>28.0</td>\n      <td>185.0</td>\n      <td>79.0</td>\n      <td>Right</td>\n      <td>2.0</td>\n      <td>2.0</td>\n      <td>...</td>\n      <td>47</td>\n      <td>47</td>\n      <td>47</td>\n      <td>47</td>\n      <td>47</td>\n      <td>47</td>\n      <td>47</td>\n      <td>47</td>\n      <td>47</td>\n      <td>13.0</td>\n    </tr>\n    <tr>\n      <th>18942</th>\n      <td>47.0</td>\n      <td>67.0</td>\n      <td>130000.0</td>\n      <td>500.0</td>\n      <td>17.0</td>\n      <td>171.0</td>\n      <td>58.0</td>\n      <td>Right</td>\n      <td>2.0</td>\n      <td>2.0</td>\n      <td>...</td>\n      <td>34</td>\n      <td>34</td>\n      <td>34</td>\n      <td>37</td>\n      <td>35</td>\n      <td>28</td>\n      <td>28</td>\n      <td>28</td>\n      <td>35</td>\n      <td>16.0</td>\n    </tr>\n    <tr>\n      <th>18943</th>\n      <td>47.0</td>\n      <td>67.0</td>\n      <td>130000.0</td>\n      <td>500.0</td>\n      <td>17.0</td>\n      <td>175.0</td>\n      <td>65.0</td>\n      <td>Right</td>\n      <td>2.0</td>\n      <td>2.0</td>\n      <td>...</td>\n      <td>45</td>\n      <td>45</td>\n      <td>45</td>\n      <td>46</td>\n      <td>45</td>\n      <td>43</td>\n      <td>43</td>\n      <td>43</td>\n      <td>45</td>\n      <td>16.0</td>\n    </tr>\n  </tbody>\n</table>\n<p>18944 rows × 80 columns</p>\n</div>"
     },
     "execution_count": 239,
     "metadata": {},
     "output_type": "execute_result"
    }
   ],
   "source": [
    "players_21"
   ],
   "metadata": {
    "collapsed": false,
    "ExecuteTime": {
     "end_time": "2024-06-12T17:38:28.588637500Z",
     "start_time": "2024-06-12T17:38:28.548291300Z"
    }
   }
  },
  {
   "cell_type": "code",
   "execution_count": 240,
   "outputs": [],
   "source": [
    "for column in players_21.columns[:69]:\n",
    "    if players_21[column].dtype == 'object':\n",
    "        encoder = ce.BinaryEncoder(cols=[column])\n",
    "        col_encoded = encoder.fit_transform(players_21[column])\n",
    "        players_21.drop(column, axis=1, inplace=True)\n",
    "        players_21 = pd.concat([players_21, col_encoded], axis=1).reset_index(drop=True)"
   ],
   "metadata": {
    "collapsed": false,
    "ExecuteTime": {
     "end_time": "2024-06-12T17:38:29.608583400Z",
     "start_time": "2024-06-12T17:38:28.583643900Z"
    }
   }
  },
  {
   "cell_type": "code",
   "execution_count": 241,
   "outputs": [
    {
     "data": {
      "text/plain": "Index(['overall', 'movement_reactions', 'mentality_composure', 'passing',\n       'potential', 'dribbling', 'wage_eur', 'power_shot_power', 'value_eur',\n       'mentality_vision', 'attacking_short_passing'],\n      dtype='object')"
     },
     "execution_count": 241,
     "metadata": {},
     "output_type": "execute_result"
    }
   ],
   "source": [
    "correlations = players_21.corr()['overall']\n",
    "sorted_correlations = correlations.sort_values(ascending=False)\n",
    "\n",
    "threshold = 0.5\n",
    "players_21_relevant_columns = sorted_correlations[abs(sorted_correlations) > threshold]\n",
    "\n",
    "\n",
    "players_21_relevant_columns.index"
   ],
   "metadata": {
    "collapsed": false,
    "ExecuteTime": {
     "end_time": "2024-06-12T17:38:30.826879200Z",
     "start_time": "2024-06-12T17:38:29.611585400Z"
    }
   }
  },
  {
   "cell_type": "code",
   "execution_count": 242,
   "outputs": [],
   "source": [
    "players_21 = players_21[players_21_relevant_columns.index]"
   ],
   "metadata": {
    "collapsed": false,
    "ExecuteTime": {
     "end_time": "2024-06-12T17:38:30.835300Z",
     "start_time": "2024-06-12T17:38:30.827877800Z"
    }
   }
  },
  {
   "cell_type": "code",
   "execution_count": 243,
   "outputs": [
    {
     "data": {
      "text/plain": "       overall  movement_reactions  mentality_composure  passing  potential  \\\n0         93.0                94.0                 96.0     91.0       93.0   \n1         92.0                95.0                 95.0     81.0       92.0   \n2         91.0                93.0                 88.0     78.0       91.0   \n3         91.0                91.0                 93.0     86.0       91.0   \n4         91.0                91.0                 91.0     93.0       91.0   \n...        ...                 ...                  ...      ...        ...   \n18939     47.0                48.0                 40.0     26.0       52.0   \n18940     47.0                50.0                 35.0     49.0       53.0   \n18941     47.0                44.0                 35.0     49.0       47.0   \n18942     47.0                53.0                 45.0     40.0       67.0   \n18943     47.0                51.0                 38.0     48.0       67.0   \n\n       dribbling  wage_eur  power_shot_power    value_eur  mentality_vision  \\\n0           95.0  560000.0              86.0  103500000.0              95.0   \n1           89.0  220000.0              94.0   63000000.0              82.0   \n2           85.0  240000.0              89.0  111000000.0              79.0   \n3           94.0  270000.0              80.0  132000000.0              90.0   \n4           88.0  370000.0              91.0  129000000.0              94.0   \n...          ...       ...               ...          ...               ...   \n18939       27.0    1000.0              35.0      70000.0              25.0   \n18940       47.0    1000.0              38.0      70000.0              53.0   \n18941       46.0    2000.0              49.0      45000.0              44.0   \n18942       53.0     500.0              50.0     130000.0              49.0   \n18943       49.0     500.0              48.0     130000.0              47.0   \n\n       attacking_short_passing  \n0                         91.0  \n1                         82.0  \n2                         84.0  \n3                         87.0  \n4                         94.0  \n...                        ...  \n18939                     31.0  \n18940                     55.0  \n18941                     56.0  \n18942                     45.0  \n18943                     56.0  \n\n[18944 rows x 11 columns]",
      "text/html": "<div>\n<style scoped>\n    .dataframe tbody tr th:only-of-type {\n        vertical-align: middle;\n    }\n\n    .dataframe tbody tr th {\n        vertical-align: top;\n    }\n\n    .dataframe thead th {\n        text-align: right;\n    }\n</style>\n<table border=\"1\" class=\"dataframe\">\n  <thead>\n    <tr style=\"text-align: right;\">\n      <th></th>\n      <th>overall</th>\n      <th>movement_reactions</th>\n      <th>mentality_composure</th>\n      <th>passing</th>\n      <th>potential</th>\n      <th>dribbling</th>\n      <th>wage_eur</th>\n      <th>power_shot_power</th>\n      <th>value_eur</th>\n      <th>mentality_vision</th>\n      <th>attacking_short_passing</th>\n    </tr>\n  </thead>\n  <tbody>\n    <tr>\n      <th>0</th>\n      <td>93.0</td>\n      <td>94.0</td>\n      <td>96.0</td>\n      <td>91.0</td>\n      <td>93.0</td>\n      <td>95.0</td>\n      <td>560000.0</td>\n      <td>86.0</td>\n      <td>103500000.0</td>\n      <td>95.0</td>\n      <td>91.0</td>\n    </tr>\n    <tr>\n      <th>1</th>\n      <td>92.0</td>\n      <td>95.0</td>\n      <td>95.0</td>\n      <td>81.0</td>\n      <td>92.0</td>\n      <td>89.0</td>\n      <td>220000.0</td>\n      <td>94.0</td>\n      <td>63000000.0</td>\n      <td>82.0</td>\n      <td>82.0</td>\n    </tr>\n    <tr>\n      <th>2</th>\n      <td>91.0</td>\n      <td>93.0</td>\n      <td>88.0</td>\n      <td>78.0</td>\n      <td>91.0</td>\n      <td>85.0</td>\n      <td>240000.0</td>\n      <td>89.0</td>\n      <td>111000000.0</td>\n      <td>79.0</td>\n      <td>84.0</td>\n    </tr>\n    <tr>\n      <th>3</th>\n      <td>91.0</td>\n      <td>91.0</td>\n      <td>93.0</td>\n      <td>86.0</td>\n      <td>91.0</td>\n      <td>94.0</td>\n      <td>270000.0</td>\n      <td>80.0</td>\n      <td>132000000.0</td>\n      <td>90.0</td>\n      <td>87.0</td>\n    </tr>\n    <tr>\n      <th>4</th>\n      <td>91.0</td>\n      <td>91.0</td>\n      <td>91.0</td>\n      <td>93.0</td>\n      <td>91.0</td>\n      <td>88.0</td>\n      <td>370000.0</td>\n      <td>91.0</td>\n      <td>129000000.0</td>\n      <td>94.0</td>\n      <td>94.0</td>\n    </tr>\n    <tr>\n      <th>...</th>\n      <td>...</td>\n      <td>...</td>\n      <td>...</td>\n      <td>...</td>\n      <td>...</td>\n      <td>...</td>\n      <td>...</td>\n      <td>...</td>\n      <td>...</td>\n      <td>...</td>\n      <td>...</td>\n    </tr>\n    <tr>\n      <th>18939</th>\n      <td>47.0</td>\n      <td>48.0</td>\n      <td>40.0</td>\n      <td>26.0</td>\n      <td>52.0</td>\n      <td>27.0</td>\n      <td>1000.0</td>\n      <td>35.0</td>\n      <td>70000.0</td>\n      <td>25.0</td>\n      <td>31.0</td>\n    </tr>\n    <tr>\n      <th>18940</th>\n      <td>47.0</td>\n      <td>50.0</td>\n      <td>35.0</td>\n      <td>49.0</td>\n      <td>53.0</td>\n      <td>47.0</td>\n      <td>1000.0</td>\n      <td>38.0</td>\n      <td>70000.0</td>\n      <td>53.0</td>\n      <td>55.0</td>\n    </tr>\n    <tr>\n      <th>18941</th>\n      <td>47.0</td>\n      <td>44.0</td>\n      <td>35.0</td>\n      <td>49.0</td>\n      <td>47.0</td>\n      <td>46.0</td>\n      <td>2000.0</td>\n      <td>49.0</td>\n      <td>45000.0</td>\n      <td>44.0</td>\n      <td>56.0</td>\n    </tr>\n    <tr>\n      <th>18942</th>\n      <td>47.0</td>\n      <td>53.0</td>\n      <td>45.0</td>\n      <td>40.0</td>\n      <td>67.0</td>\n      <td>53.0</td>\n      <td>500.0</td>\n      <td>50.0</td>\n      <td>130000.0</td>\n      <td>49.0</td>\n      <td>45.0</td>\n    </tr>\n    <tr>\n      <th>18943</th>\n      <td>47.0</td>\n      <td>51.0</td>\n      <td>38.0</td>\n      <td>48.0</td>\n      <td>67.0</td>\n      <td>49.0</td>\n      <td>500.0</td>\n      <td>48.0</td>\n      <td>130000.0</td>\n      <td>47.0</td>\n      <td>56.0</td>\n    </tr>\n  </tbody>\n</table>\n<p>18944 rows × 11 columns</p>\n</div>"
     },
     "execution_count": 243,
     "metadata": {},
     "output_type": "execute_result"
    }
   ],
   "source": [
    "players_21"
   ],
   "metadata": {
    "collapsed": false,
    "ExecuteTime": {
     "end_time": "2024-06-12T17:38:30.906229700Z",
     "start_time": "2024-06-12T17:38:30.836298400Z"
    }
   }
  },
  {
   "cell_type": "code",
   "execution_count": 244,
   "outputs": [
    {
     "data": {
      "text/plain": "       sofifa_id                                         player_url  \\\n0         158023  https://sofifa.com/player/158023/lionel-messi/...   \n1         188545  https://sofifa.com/player/188545/robert-lewand...   \n2          20801  https://sofifa.com/player/20801/c-ronaldo-dos-...   \n3         190871  https://sofifa.com/player/190871/neymar-da-sil...   \n4         192985  https://sofifa.com/player/192985/kevin-de-bruy...   \n...          ...                                                ...   \n19234     261962  https://sofifa.com/player/261962/defu-song/220002   \n19235     262040  https://sofifa.com/player/262040/caoimhin-port...   \n19236     262760  https://sofifa.com/player/262760/nathan-logue/...   \n19237     262820  https://sofifa.com/player/262820/luke-rudden/2...   \n19238     264540  https://sofifa.com/player/264540/emanuel-lalch...   \n\n               short_name                            long_name  \\\n0                L. Messi       Lionel Andrés Messi Cuccittini   \n1          R. Lewandowski                   Robert Lewandowski   \n2       Cristiano Ronaldo  Cristiano Ronaldo dos Santos Aveiro   \n3               Neymar Jr        Neymar da Silva Santos Júnior   \n4            K. De Bruyne                      Kevin De Bruyne   \n...                   ...                                  ...   \n19234           Song Defu                                  宋德福   \n19235           C. Porter                      Caoimhin Porter   \n19236            N. Logue              Nathan Logue-Cunningham   \n19237           L. Rudden                          Luke Rudden   \n19238  E. Lalchhanchhuaha              Emanuel Lalchhanchhuaha   \n\n      player_positions  overall  potential    value_eur  wage_eur  age  ...  \\\n0           RW, ST, CF       93         93   78000000.0  320000.0   34  ...   \n1                   ST       92         92  119500000.0  270000.0   32  ...   \n2               ST, LW       91         91   45000000.0  270000.0   36  ...   \n3              LW, CAM       91         91  129000000.0  270000.0   29  ...   \n4              CM, CAM       91         91  125500000.0  350000.0   30  ...   \n...                ...      ...        ...          ...       ...  ...  ...   \n19234              CDM       47         52      70000.0    1000.0   22  ...   \n19235               CM       47         59     110000.0     500.0   19  ...   \n19236               CM       47         55     100000.0     500.0   21  ...   \n19237               ST       47         60     110000.0     500.0   19  ...   \n19238              CAM       47         60     110000.0     500.0   19  ...   \n\n        lcb    cb   rcb    rb    gk  \\\n0      50+3  50+3  50+3  61+3  19+3   \n1      60+3  60+3  60+3  61+3  19+3   \n2      53+3  53+3  53+3  60+3  20+3   \n3      50+3  50+3  50+3  62+3  20+3   \n4      69+3  69+3  69+3  75+3  21+3   \n...     ...   ...   ...   ...   ...   \n19234  46+2  46+2  46+2  48+2  15+2   \n19235  44+2  44+2  44+2  48+2  14+2   \n19236  45+2  45+2  45+2  47+2  12+2   \n19237  26+2  26+2  26+2  32+2  15+2   \n19238  41+2  41+2  41+2  45+2  16+2   \n\n                                         player_face_url  \\\n0      https://cdn.sofifa.net/players/158/023/22_120.png   \n1      https://cdn.sofifa.net/players/188/545/22_120.png   \n2      https://cdn.sofifa.net/players/020/801/22_120.png   \n3      https://cdn.sofifa.net/players/190/871/22_120.png   \n4      https://cdn.sofifa.net/players/192/985/22_120.png   \n...                                                  ...   \n19234  https://cdn.sofifa.net/players/261/962/22_120.png   \n19235  https://cdn.sofifa.net/players/262/040/22_120.png   \n19236  https://cdn.sofifa.net/players/262/760/22_120.png   \n19237  https://cdn.sofifa.net/players/262/820/22_120.png   \n19238  https://cdn.sofifa.net/players/264/540/22_120.png   \n\n                                    club_logo_url  \\\n0          https://cdn.sofifa.net/teams/73/60.png   \n1          https://cdn.sofifa.net/teams/21/60.png   \n2          https://cdn.sofifa.net/teams/11/60.png   \n3          https://cdn.sofifa.net/teams/73/60.png   \n4          https://cdn.sofifa.net/teams/10/60.png   \n...                                           ...   \n19234  https://cdn.sofifa.net/teams/112541/60.png   \n19235     https://cdn.sofifa.net/teams/445/60.png   \n19236  https://cdn.sofifa.net/teams/111131/60.png   \n19237  https://cdn.sofifa.net/teams/111131/60.png   \n19238  https://cdn.sofifa.net/teams/113040/60.png   \n\n                                 club_flag_url  \\\n0          https://cdn.sofifa.net/flags/fr.png   \n1          https://cdn.sofifa.net/flags/de.png   \n2      https://cdn.sofifa.net/flags/gb-eng.png   \n3          https://cdn.sofifa.net/flags/fr.png   \n4      https://cdn.sofifa.net/flags/gb-eng.png   \n...                                        ...   \n19234      https://cdn.sofifa.net/flags/cn.png   \n19235      https://cdn.sofifa.net/flags/ie.png   \n19236      https://cdn.sofifa.net/flags/ie.png   \n19237      https://cdn.sofifa.net/flags/ie.png   \n19238      https://cdn.sofifa.net/flags/in.png   \n\n                                nation_logo_url  \\\n0      https://cdn.sofifa.net/teams/1369/60.png   \n1      https://cdn.sofifa.net/teams/1353/60.png   \n2      https://cdn.sofifa.net/teams/1354/60.png   \n3                                           NaN   \n4      https://cdn.sofifa.net/teams/1325/60.png   \n...                                         ...   \n19234                                       NaN   \n19235                                       NaN   \n19236                                       NaN   \n19237                                       NaN   \n19238                                       NaN   \n\n                           nation_flag_url  \n0      https://cdn.sofifa.net/flags/ar.png  \n1      https://cdn.sofifa.net/flags/pl.png  \n2      https://cdn.sofifa.net/flags/pt.png  \n3      https://cdn.sofifa.net/flags/br.png  \n4      https://cdn.sofifa.net/flags/be.png  \n...                                    ...  \n19234  https://cdn.sofifa.net/flags/cn.png  \n19235  https://cdn.sofifa.net/flags/ie.png  \n19236  https://cdn.sofifa.net/flags/ie.png  \n19237  https://cdn.sofifa.net/flags/ie.png  \n19238  https://cdn.sofifa.net/flags/in.png  \n\n[19239 rows x 110 columns]",
      "text/html": "<div>\n<style scoped>\n    .dataframe tbody tr th:only-of-type {\n        vertical-align: middle;\n    }\n\n    .dataframe tbody tr th {\n        vertical-align: top;\n    }\n\n    .dataframe thead th {\n        text-align: right;\n    }\n</style>\n<table border=\"1\" class=\"dataframe\">\n  <thead>\n    <tr style=\"text-align: right;\">\n      <th></th>\n      <th>sofifa_id</th>\n      <th>player_url</th>\n      <th>short_name</th>\n      <th>long_name</th>\n      <th>player_positions</th>\n      <th>overall</th>\n      <th>potential</th>\n      <th>value_eur</th>\n      <th>wage_eur</th>\n      <th>age</th>\n      <th>...</th>\n      <th>lcb</th>\n      <th>cb</th>\n      <th>rcb</th>\n      <th>rb</th>\n      <th>gk</th>\n      <th>player_face_url</th>\n      <th>club_logo_url</th>\n      <th>club_flag_url</th>\n      <th>nation_logo_url</th>\n      <th>nation_flag_url</th>\n    </tr>\n  </thead>\n  <tbody>\n    <tr>\n      <th>0</th>\n      <td>158023</td>\n      <td>https://sofifa.com/player/158023/lionel-messi/...</td>\n      <td>L. Messi</td>\n      <td>Lionel Andrés Messi Cuccittini</td>\n      <td>RW, ST, CF</td>\n      <td>93</td>\n      <td>93</td>\n      <td>78000000.0</td>\n      <td>320000.0</td>\n      <td>34</td>\n      <td>...</td>\n      <td>50+3</td>\n      <td>50+3</td>\n      <td>50+3</td>\n      <td>61+3</td>\n      <td>19+3</td>\n      <td>https://cdn.sofifa.net/players/158/023/22_120.png</td>\n      <td>https://cdn.sofifa.net/teams/73/60.png</td>\n      <td>https://cdn.sofifa.net/flags/fr.png</td>\n      <td>https://cdn.sofifa.net/teams/1369/60.png</td>\n      <td>https://cdn.sofifa.net/flags/ar.png</td>\n    </tr>\n    <tr>\n      <th>1</th>\n      <td>188545</td>\n      <td>https://sofifa.com/player/188545/robert-lewand...</td>\n      <td>R. Lewandowski</td>\n      <td>Robert Lewandowski</td>\n      <td>ST</td>\n      <td>92</td>\n      <td>92</td>\n      <td>119500000.0</td>\n      <td>270000.0</td>\n      <td>32</td>\n      <td>...</td>\n      <td>60+3</td>\n      <td>60+3</td>\n      <td>60+3</td>\n      <td>61+3</td>\n      <td>19+3</td>\n      <td>https://cdn.sofifa.net/players/188/545/22_120.png</td>\n      <td>https://cdn.sofifa.net/teams/21/60.png</td>\n      <td>https://cdn.sofifa.net/flags/de.png</td>\n      <td>https://cdn.sofifa.net/teams/1353/60.png</td>\n      <td>https://cdn.sofifa.net/flags/pl.png</td>\n    </tr>\n    <tr>\n      <th>2</th>\n      <td>20801</td>\n      <td>https://sofifa.com/player/20801/c-ronaldo-dos-...</td>\n      <td>Cristiano Ronaldo</td>\n      <td>Cristiano Ronaldo dos Santos Aveiro</td>\n      <td>ST, LW</td>\n      <td>91</td>\n      <td>91</td>\n      <td>45000000.0</td>\n      <td>270000.0</td>\n      <td>36</td>\n      <td>...</td>\n      <td>53+3</td>\n      <td>53+3</td>\n      <td>53+3</td>\n      <td>60+3</td>\n      <td>20+3</td>\n      <td>https://cdn.sofifa.net/players/020/801/22_120.png</td>\n      <td>https://cdn.sofifa.net/teams/11/60.png</td>\n      <td>https://cdn.sofifa.net/flags/gb-eng.png</td>\n      <td>https://cdn.sofifa.net/teams/1354/60.png</td>\n      <td>https://cdn.sofifa.net/flags/pt.png</td>\n    </tr>\n    <tr>\n      <th>3</th>\n      <td>190871</td>\n      <td>https://sofifa.com/player/190871/neymar-da-sil...</td>\n      <td>Neymar Jr</td>\n      <td>Neymar da Silva Santos Júnior</td>\n      <td>LW, CAM</td>\n      <td>91</td>\n      <td>91</td>\n      <td>129000000.0</td>\n      <td>270000.0</td>\n      <td>29</td>\n      <td>...</td>\n      <td>50+3</td>\n      <td>50+3</td>\n      <td>50+3</td>\n      <td>62+3</td>\n      <td>20+3</td>\n      <td>https://cdn.sofifa.net/players/190/871/22_120.png</td>\n      <td>https://cdn.sofifa.net/teams/73/60.png</td>\n      <td>https://cdn.sofifa.net/flags/fr.png</td>\n      <td>NaN</td>\n      <td>https://cdn.sofifa.net/flags/br.png</td>\n    </tr>\n    <tr>\n      <th>4</th>\n      <td>192985</td>\n      <td>https://sofifa.com/player/192985/kevin-de-bruy...</td>\n      <td>K. De Bruyne</td>\n      <td>Kevin De Bruyne</td>\n      <td>CM, CAM</td>\n      <td>91</td>\n      <td>91</td>\n      <td>125500000.0</td>\n      <td>350000.0</td>\n      <td>30</td>\n      <td>...</td>\n      <td>69+3</td>\n      <td>69+3</td>\n      <td>69+3</td>\n      <td>75+3</td>\n      <td>21+3</td>\n      <td>https://cdn.sofifa.net/players/192/985/22_120.png</td>\n      <td>https://cdn.sofifa.net/teams/10/60.png</td>\n      <td>https://cdn.sofifa.net/flags/gb-eng.png</td>\n      <td>https://cdn.sofifa.net/teams/1325/60.png</td>\n      <td>https://cdn.sofifa.net/flags/be.png</td>\n    </tr>\n    <tr>\n      <th>...</th>\n      <td>...</td>\n      <td>...</td>\n      <td>...</td>\n      <td>...</td>\n      <td>...</td>\n      <td>...</td>\n      <td>...</td>\n      <td>...</td>\n      <td>...</td>\n      <td>...</td>\n      <td>...</td>\n      <td>...</td>\n      <td>...</td>\n      <td>...</td>\n      <td>...</td>\n      <td>...</td>\n      <td>...</td>\n      <td>...</td>\n      <td>...</td>\n      <td>...</td>\n      <td>...</td>\n    </tr>\n    <tr>\n      <th>19234</th>\n      <td>261962</td>\n      <td>https://sofifa.com/player/261962/defu-song/220002</td>\n      <td>Song Defu</td>\n      <td>宋德福</td>\n      <td>CDM</td>\n      <td>47</td>\n      <td>52</td>\n      <td>70000.0</td>\n      <td>1000.0</td>\n      <td>22</td>\n      <td>...</td>\n      <td>46+2</td>\n      <td>46+2</td>\n      <td>46+2</td>\n      <td>48+2</td>\n      <td>15+2</td>\n      <td>https://cdn.sofifa.net/players/261/962/22_120.png</td>\n      <td>https://cdn.sofifa.net/teams/112541/60.png</td>\n      <td>https://cdn.sofifa.net/flags/cn.png</td>\n      <td>NaN</td>\n      <td>https://cdn.sofifa.net/flags/cn.png</td>\n    </tr>\n    <tr>\n      <th>19235</th>\n      <td>262040</td>\n      <td>https://sofifa.com/player/262040/caoimhin-port...</td>\n      <td>C. Porter</td>\n      <td>Caoimhin Porter</td>\n      <td>CM</td>\n      <td>47</td>\n      <td>59</td>\n      <td>110000.0</td>\n      <td>500.0</td>\n      <td>19</td>\n      <td>...</td>\n      <td>44+2</td>\n      <td>44+2</td>\n      <td>44+2</td>\n      <td>48+2</td>\n      <td>14+2</td>\n      <td>https://cdn.sofifa.net/players/262/040/22_120.png</td>\n      <td>https://cdn.sofifa.net/teams/445/60.png</td>\n      <td>https://cdn.sofifa.net/flags/ie.png</td>\n      <td>NaN</td>\n      <td>https://cdn.sofifa.net/flags/ie.png</td>\n    </tr>\n    <tr>\n      <th>19236</th>\n      <td>262760</td>\n      <td>https://sofifa.com/player/262760/nathan-logue/...</td>\n      <td>N. Logue</td>\n      <td>Nathan Logue-Cunningham</td>\n      <td>CM</td>\n      <td>47</td>\n      <td>55</td>\n      <td>100000.0</td>\n      <td>500.0</td>\n      <td>21</td>\n      <td>...</td>\n      <td>45+2</td>\n      <td>45+2</td>\n      <td>45+2</td>\n      <td>47+2</td>\n      <td>12+2</td>\n      <td>https://cdn.sofifa.net/players/262/760/22_120.png</td>\n      <td>https://cdn.sofifa.net/teams/111131/60.png</td>\n      <td>https://cdn.sofifa.net/flags/ie.png</td>\n      <td>NaN</td>\n      <td>https://cdn.sofifa.net/flags/ie.png</td>\n    </tr>\n    <tr>\n      <th>19237</th>\n      <td>262820</td>\n      <td>https://sofifa.com/player/262820/luke-rudden/2...</td>\n      <td>L. Rudden</td>\n      <td>Luke Rudden</td>\n      <td>ST</td>\n      <td>47</td>\n      <td>60</td>\n      <td>110000.0</td>\n      <td>500.0</td>\n      <td>19</td>\n      <td>...</td>\n      <td>26+2</td>\n      <td>26+2</td>\n      <td>26+2</td>\n      <td>32+2</td>\n      <td>15+2</td>\n      <td>https://cdn.sofifa.net/players/262/820/22_120.png</td>\n      <td>https://cdn.sofifa.net/teams/111131/60.png</td>\n      <td>https://cdn.sofifa.net/flags/ie.png</td>\n      <td>NaN</td>\n      <td>https://cdn.sofifa.net/flags/ie.png</td>\n    </tr>\n    <tr>\n      <th>19238</th>\n      <td>264540</td>\n      <td>https://sofifa.com/player/264540/emanuel-lalch...</td>\n      <td>E. Lalchhanchhuaha</td>\n      <td>Emanuel Lalchhanchhuaha</td>\n      <td>CAM</td>\n      <td>47</td>\n      <td>60</td>\n      <td>110000.0</td>\n      <td>500.0</td>\n      <td>19</td>\n      <td>...</td>\n      <td>41+2</td>\n      <td>41+2</td>\n      <td>41+2</td>\n      <td>45+2</td>\n      <td>16+2</td>\n      <td>https://cdn.sofifa.net/players/264/540/22_120.png</td>\n      <td>https://cdn.sofifa.net/teams/113040/60.png</td>\n      <td>https://cdn.sofifa.net/flags/in.png</td>\n      <td>NaN</td>\n      <td>https://cdn.sofifa.net/flags/in.png</td>\n    </tr>\n  </tbody>\n</table>\n<p>19239 rows × 110 columns</p>\n</div>"
     },
     "execution_count": 244,
     "metadata": {},
     "output_type": "execute_result"
    }
   ],
   "source": [
    "players_22"
   ],
   "metadata": {
    "collapsed": false,
    "ExecuteTime": {
     "end_time": "2024-06-12T17:38:30.907235500Z",
     "start_time": "2024-06-12T17:38:30.856396300Z"
    }
   }
  },
  {
   "cell_type": "code",
   "execution_count": 245,
   "outputs": [
    {
     "data": {
      "text/plain": "           sofifa_id       overall     potential     value_eur       wage_eur  \\\ncount   19239.000000  19239.000000  19239.000000  1.916500e+04   19178.000000   \nmean   231468.086959     65.772182     71.079370  2.850452e+06    9017.989363   \nstd     27039.717497      6.880232      6.086213  7.613700e+06   19470.176724   \nmin        41.000000     47.000000     49.000000  9.000000e+03     500.000000   \n25%    214413.500000     61.000000     67.000000  4.750000e+05    1000.000000   \n50%    236543.000000     66.000000     71.000000  9.750000e+05    3000.000000   \n75%    253532.500000     70.000000     75.000000  2.000000e+06    8000.000000   \nmax    264640.000000     93.000000     95.000000  1.940000e+08  350000.000000   \n\n                age     height_cm     weight_kg   club_team_id  league_level  \\\ncount  19239.000000  19239.000000  19239.000000   19178.000000  19178.000000   \nmean      25.210822    181.299704     74.943032   50580.498123      1.354364   \nstd        4.748235      6.863179      7.069434   54401.868535      0.747865   \nmin       16.000000    155.000000     49.000000       1.000000      1.000000   \n25%       21.000000    176.000000     70.000000     479.000000      1.000000   \n50%       25.000000    181.000000     75.000000    1938.000000      1.000000   \n75%       29.000000    186.000000     80.000000  111139.000000      1.000000   \nmax       54.000000    206.000000    110.000000  115820.000000      5.000000   \n\n       ...  mentality_composure  defending_marking_awareness  \\\ncount  ...         19239.000000                 19239.000000   \nmean   ...            57.929830                    46.601746   \nstd    ...            12.159326                    20.200807   \nmin    ...            12.000000                     4.000000   \n25%    ...            50.000000                    29.000000   \n50%    ...            59.000000                    52.000000   \n75%    ...            66.000000                    63.000000   \nmax    ...            96.000000                    93.000000   \n\n       defending_standing_tackle  defending_sliding_tackle  \\\ncount               19239.000000              19239.000000   \nmean                   48.045584                 45.906700   \nstd                    21.232718                 20.755683   \nmin                     5.000000                  5.000000   \n25%                    28.000000                 25.000000   \n50%                    56.000000                 53.000000   \n75%                    65.000000                 63.000000   \nmax                    93.000000                 92.000000   \n\n       goalkeeping_diving  goalkeeping_handling  goalkeeping_kicking  \\\ncount        19239.000000          19239.000000         19239.000000   \nmean            16.406102             16.192474            16.055356   \nstd             17.574028             16.839528            16.564554   \nmin              2.000000              2.000000             2.000000   \n25%              8.000000              8.000000             8.000000   \n50%             11.000000             11.000000            11.000000   \n75%             14.000000             14.000000            14.000000   \nmax             91.000000             92.000000            93.000000   \n\n       goalkeeping_positioning  goalkeeping_reflexes  goalkeeping_speed  \ncount             19239.000000          19239.000000        2132.000000  \nmean                 16.229274             16.491814          36.439962  \nstd                  17.059779             17.884833          10.751563  \nmin                   2.000000              2.000000          15.000000  \n25%                   8.000000              8.000000          27.000000  \n50%                  11.000000             11.000000          36.000000  \n75%                  14.000000             14.000000          45.000000  \nmax                  92.000000             90.000000          65.000000  \n\n[8 rows x 60 columns]",
      "text/html": "<div>\n<style scoped>\n    .dataframe tbody tr th:only-of-type {\n        vertical-align: middle;\n    }\n\n    .dataframe tbody tr th {\n        vertical-align: top;\n    }\n\n    .dataframe thead th {\n        text-align: right;\n    }\n</style>\n<table border=\"1\" class=\"dataframe\">\n  <thead>\n    <tr style=\"text-align: right;\">\n      <th></th>\n      <th>sofifa_id</th>\n      <th>overall</th>\n      <th>potential</th>\n      <th>value_eur</th>\n      <th>wage_eur</th>\n      <th>age</th>\n      <th>height_cm</th>\n      <th>weight_kg</th>\n      <th>club_team_id</th>\n      <th>league_level</th>\n      <th>...</th>\n      <th>mentality_composure</th>\n      <th>defending_marking_awareness</th>\n      <th>defending_standing_tackle</th>\n      <th>defending_sliding_tackle</th>\n      <th>goalkeeping_diving</th>\n      <th>goalkeeping_handling</th>\n      <th>goalkeeping_kicking</th>\n      <th>goalkeeping_positioning</th>\n      <th>goalkeeping_reflexes</th>\n      <th>goalkeeping_speed</th>\n    </tr>\n  </thead>\n  <tbody>\n    <tr>\n      <th>count</th>\n      <td>19239.000000</td>\n      <td>19239.000000</td>\n      <td>19239.000000</td>\n      <td>1.916500e+04</td>\n      <td>19178.000000</td>\n      <td>19239.000000</td>\n      <td>19239.000000</td>\n      <td>19239.000000</td>\n      <td>19178.000000</td>\n      <td>19178.000000</td>\n      <td>...</td>\n      <td>19239.000000</td>\n      <td>19239.000000</td>\n      <td>19239.000000</td>\n      <td>19239.000000</td>\n      <td>19239.000000</td>\n      <td>19239.000000</td>\n      <td>19239.000000</td>\n      <td>19239.000000</td>\n      <td>19239.000000</td>\n      <td>2132.000000</td>\n    </tr>\n    <tr>\n      <th>mean</th>\n      <td>231468.086959</td>\n      <td>65.772182</td>\n      <td>71.079370</td>\n      <td>2.850452e+06</td>\n      <td>9017.989363</td>\n      <td>25.210822</td>\n      <td>181.299704</td>\n      <td>74.943032</td>\n      <td>50580.498123</td>\n      <td>1.354364</td>\n      <td>...</td>\n      <td>57.929830</td>\n      <td>46.601746</td>\n      <td>48.045584</td>\n      <td>45.906700</td>\n      <td>16.406102</td>\n      <td>16.192474</td>\n      <td>16.055356</td>\n      <td>16.229274</td>\n      <td>16.491814</td>\n      <td>36.439962</td>\n    </tr>\n    <tr>\n      <th>std</th>\n      <td>27039.717497</td>\n      <td>6.880232</td>\n      <td>6.086213</td>\n      <td>7.613700e+06</td>\n      <td>19470.176724</td>\n      <td>4.748235</td>\n      <td>6.863179</td>\n      <td>7.069434</td>\n      <td>54401.868535</td>\n      <td>0.747865</td>\n      <td>...</td>\n      <td>12.159326</td>\n      <td>20.200807</td>\n      <td>21.232718</td>\n      <td>20.755683</td>\n      <td>17.574028</td>\n      <td>16.839528</td>\n      <td>16.564554</td>\n      <td>17.059779</td>\n      <td>17.884833</td>\n      <td>10.751563</td>\n    </tr>\n    <tr>\n      <th>min</th>\n      <td>41.000000</td>\n      <td>47.000000</td>\n      <td>49.000000</td>\n      <td>9.000000e+03</td>\n      <td>500.000000</td>\n      <td>16.000000</td>\n      <td>155.000000</td>\n      <td>49.000000</td>\n      <td>1.000000</td>\n      <td>1.000000</td>\n      <td>...</td>\n      <td>12.000000</td>\n      <td>4.000000</td>\n      <td>5.000000</td>\n      <td>5.000000</td>\n      <td>2.000000</td>\n      <td>2.000000</td>\n      <td>2.000000</td>\n      <td>2.000000</td>\n      <td>2.000000</td>\n      <td>15.000000</td>\n    </tr>\n    <tr>\n      <th>25%</th>\n      <td>214413.500000</td>\n      <td>61.000000</td>\n      <td>67.000000</td>\n      <td>4.750000e+05</td>\n      <td>1000.000000</td>\n      <td>21.000000</td>\n      <td>176.000000</td>\n      <td>70.000000</td>\n      <td>479.000000</td>\n      <td>1.000000</td>\n      <td>...</td>\n      <td>50.000000</td>\n      <td>29.000000</td>\n      <td>28.000000</td>\n      <td>25.000000</td>\n      <td>8.000000</td>\n      <td>8.000000</td>\n      <td>8.000000</td>\n      <td>8.000000</td>\n      <td>8.000000</td>\n      <td>27.000000</td>\n    </tr>\n    <tr>\n      <th>50%</th>\n      <td>236543.000000</td>\n      <td>66.000000</td>\n      <td>71.000000</td>\n      <td>9.750000e+05</td>\n      <td>3000.000000</td>\n      <td>25.000000</td>\n      <td>181.000000</td>\n      <td>75.000000</td>\n      <td>1938.000000</td>\n      <td>1.000000</td>\n      <td>...</td>\n      <td>59.000000</td>\n      <td>52.000000</td>\n      <td>56.000000</td>\n      <td>53.000000</td>\n      <td>11.000000</td>\n      <td>11.000000</td>\n      <td>11.000000</td>\n      <td>11.000000</td>\n      <td>11.000000</td>\n      <td>36.000000</td>\n    </tr>\n    <tr>\n      <th>75%</th>\n      <td>253532.500000</td>\n      <td>70.000000</td>\n      <td>75.000000</td>\n      <td>2.000000e+06</td>\n      <td>8000.000000</td>\n      <td>29.000000</td>\n      <td>186.000000</td>\n      <td>80.000000</td>\n      <td>111139.000000</td>\n      <td>1.000000</td>\n      <td>...</td>\n      <td>66.000000</td>\n      <td>63.000000</td>\n      <td>65.000000</td>\n      <td>63.000000</td>\n      <td>14.000000</td>\n      <td>14.000000</td>\n      <td>14.000000</td>\n      <td>14.000000</td>\n      <td>14.000000</td>\n      <td>45.000000</td>\n    </tr>\n    <tr>\n      <th>max</th>\n      <td>264640.000000</td>\n      <td>93.000000</td>\n      <td>95.000000</td>\n      <td>1.940000e+08</td>\n      <td>350000.000000</td>\n      <td>54.000000</td>\n      <td>206.000000</td>\n      <td>110.000000</td>\n      <td>115820.000000</td>\n      <td>5.000000</td>\n      <td>...</td>\n      <td>96.000000</td>\n      <td>93.000000</td>\n      <td>93.000000</td>\n      <td>92.000000</td>\n      <td>91.000000</td>\n      <td>92.000000</td>\n      <td>93.000000</td>\n      <td>92.000000</td>\n      <td>90.000000</td>\n      <td>65.000000</td>\n    </tr>\n  </tbody>\n</table>\n<p>8 rows × 60 columns</p>\n</div>"
     },
     "execution_count": 245,
     "metadata": {},
     "output_type": "execute_result"
    }
   ],
   "source": [
    "players_22.describe()"
   ],
   "metadata": {
    "collapsed": false,
    "ExecuteTime": {
     "end_time": "2024-06-12T17:38:31.092929600Z",
     "start_time": "2024-06-12T17:38:30.895231100Z"
    }
   }
  },
  {
   "cell_type": "code",
   "execution_count": 246,
   "outputs": [
    {
     "name": "stdout",
     "output_type": "stream",
     "text": [
      "<class 'pandas.core.frame.DataFrame'>\n",
      "RangeIndex: 19239 entries, 0 to 19238\n",
      "Columns: 110 entries, sofifa_id to nation_flag_url\n",
      "dtypes: float64(16), int64(44), object(50)\n",
      "memory usage: 16.1+ MB\n"
     ]
    }
   ],
   "source": [
    "players_22.info()"
   ],
   "metadata": {
    "collapsed": false,
    "ExecuteTime": {
     "end_time": "2024-06-12T17:38:31.092929600Z",
     "start_time": "2024-06-12T17:38:31.004150100Z"
    }
   }
  },
  {
   "cell_type": "code",
   "execution_count": 247,
   "outputs": [
    {
     "name": "stdout",
     "output_type": "stream",
     "text": [
      "Index(['player_url', 'short_name', 'long_name', 'player_positions', 'dob',\n",
      "       'club_name', 'league_name', 'club_position', 'club_loaned_from',\n",
      "       'club_joined', 'nationality_name', 'nation_position', 'preferred_foot',\n",
      "       'work_rate', 'body_type', 'real_face', 'player_tags', 'player_traits',\n",
      "       'ls', 'st', 'rs', 'lw', 'lf', 'cf', 'rf', 'rw', 'lam', 'cam', 'ram',\n",
      "       'lm', 'lcm', 'cm', 'rcm', 'rm', 'lwb', 'ldm', 'cdm', 'rdm', 'rwb', 'lb',\n",
      "       'lcb', 'cb', 'rcb', 'rb', 'gk', 'player_face_url', 'club_logo_url',\n",
      "       'club_flag_url', 'nation_logo_url', 'nation_flag_url'],\n",
      "      dtype='object')\n"
     ]
    }
   ],
   "source": [
    "object_columns = players_22.select_dtypes(include='object').columns\n",
    "\n",
    "print(object_columns)"
   ],
   "metadata": {
    "collapsed": false,
    "ExecuteTime": {
     "end_time": "2024-06-12T17:38:31.093927400Z",
     "start_time": "2024-06-12T17:38:31.036532Z"
    }
   }
  },
  {
   "cell_type": "code",
   "execution_count": 248,
   "outputs": [],
   "source": [
    "columns_to_drop = players_22.filter(regex='url|dob').columns\n",
    "\n",
    "players_22.drop(columns=columns_to_drop, axis=1, inplace=True)"
   ],
   "metadata": {
    "collapsed": false,
    "ExecuteTime": {
     "end_time": "2024-06-12T17:38:31.093927400Z",
     "start_time": "2024-06-12T17:38:31.036532Z"
    }
   }
  },
  {
   "cell_type": "code",
   "execution_count": 249,
   "outputs": [
    {
     "name": "stdout",
     "output_type": "stream",
     "text": [
      "<class 'pandas.core.frame.DataFrame'>\n",
      "RangeIndex: 19239 entries, 0 to 19238\n",
      "Columns: 103 entries, sofifa_id to gk\n",
      "dtypes: float64(16), int64(44), object(43)\n",
      "memory usage: 15.1+ MB\n"
     ]
    }
   ],
   "source": [
    "players_22.info()"
   ],
   "metadata": {
    "collapsed": false,
    "ExecuteTime": {
     "end_time": "2024-06-12T17:38:31.094926800Z",
     "start_time": "2024-06-12T17:38:31.050957700Z"
    }
   }
  },
  {
   "cell_type": "code",
   "execution_count": 250,
   "outputs": [],
   "source": [
    "players_22.dropna(thresh= len(players_22) * 0.5, axis=1, inplace=True)"
   ],
   "metadata": {
    "collapsed": false,
    "ExecuteTime": {
     "end_time": "2024-06-12T17:38:31.103085100Z",
     "start_time": "2024-06-12T17:38:31.059923900Z"
    }
   }
  },
  {
   "cell_type": "code",
   "execution_count": 251,
   "outputs": [
    {
     "name": "stdout",
     "output_type": "stream",
     "text": [
      "<class 'pandas.core.frame.DataFrame'>\n",
      "RangeIndex: 19239 entries, 0 to 19238\n",
      "Data columns (total 96 columns):\n",
      " #   Column                       Non-Null Count  Dtype  \n",
      "---  ------                       --------------  -----  \n",
      " 0   sofifa_id                    19239 non-null  int64  \n",
      " 1   short_name                   19239 non-null  object \n",
      " 2   long_name                    19239 non-null  object \n",
      " 3   player_positions             19239 non-null  object \n",
      " 4   overall                      19239 non-null  int64  \n",
      " 5   potential                    19239 non-null  int64  \n",
      " 6   value_eur                    19165 non-null  float64\n",
      " 7   wage_eur                     19178 non-null  float64\n",
      " 8   age                          19239 non-null  int64  \n",
      " 9   height_cm                    19239 non-null  int64  \n",
      " 10  weight_kg                    19239 non-null  int64  \n",
      " 11  club_team_id                 19178 non-null  float64\n",
      " 12  club_name                    19178 non-null  object \n",
      " 13  league_name                  19178 non-null  object \n",
      " 14  league_level                 19178 non-null  float64\n",
      " 15  club_position                19178 non-null  object \n",
      " 16  club_jersey_number           19178 non-null  float64\n",
      " 17  club_joined                  18076 non-null  object \n",
      " 18  club_contract_valid_until    19178 non-null  float64\n",
      " 19  nationality_id               19239 non-null  int64  \n",
      " 20  nationality_name             19239 non-null  object \n",
      " 21  preferred_foot               19239 non-null  object \n",
      " 22  weak_foot                    19239 non-null  int64  \n",
      " 23  skill_moves                  19239 non-null  int64  \n",
      " 24  international_reputation     19239 non-null  int64  \n",
      " 25  work_rate                    19239 non-null  object \n",
      " 26  body_type                    19239 non-null  object \n",
      " 27  real_face                    19239 non-null  object \n",
      " 28  release_clause_eur           18063 non-null  float64\n",
      " 29  pace                         17107 non-null  float64\n",
      " 30  shooting                     17107 non-null  float64\n",
      " 31  passing                      17107 non-null  float64\n",
      " 32  dribbling                    17107 non-null  float64\n",
      " 33  defending                    17107 non-null  float64\n",
      " 34  physic                       17107 non-null  float64\n",
      " 35  attacking_crossing           19239 non-null  int64  \n",
      " 36  attacking_finishing          19239 non-null  int64  \n",
      " 37  attacking_heading_accuracy   19239 non-null  int64  \n",
      " 38  attacking_short_passing      19239 non-null  int64  \n",
      " 39  attacking_volleys            19239 non-null  int64  \n",
      " 40  skill_dribbling              19239 non-null  int64  \n",
      " 41  skill_curve                  19239 non-null  int64  \n",
      " 42  skill_fk_accuracy            19239 non-null  int64  \n",
      " 43  skill_long_passing           19239 non-null  int64  \n",
      " 44  skill_ball_control           19239 non-null  int64  \n",
      " 45  movement_acceleration        19239 non-null  int64  \n",
      " 46  movement_sprint_speed        19239 non-null  int64  \n",
      " 47  movement_agility             19239 non-null  int64  \n",
      " 48  movement_reactions           19239 non-null  int64  \n",
      " 49  movement_balance             19239 non-null  int64  \n",
      " 50  power_shot_power             19239 non-null  int64  \n",
      " 51  power_jumping                19239 non-null  int64  \n",
      " 52  power_stamina                19239 non-null  int64  \n",
      " 53  power_strength               19239 non-null  int64  \n",
      " 54  power_long_shots             19239 non-null  int64  \n",
      " 55  mentality_aggression         19239 non-null  int64  \n",
      " 56  mentality_interceptions      19239 non-null  int64  \n",
      " 57  mentality_positioning        19239 non-null  int64  \n",
      " 58  mentality_vision             19239 non-null  int64  \n",
      " 59  mentality_penalties          19239 non-null  int64  \n",
      " 60  mentality_composure          19239 non-null  int64  \n",
      " 61  defending_marking_awareness  19239 non-null  int64  \n",
      " 62  defending_standing_tackle    19239 non-null  int64  \n",
      " 63  defending_sliding_tackle     19239 non-null  int64  \n",
      " 64  goalkeeping_diving           19239 non-null  int64  \n",
      " 65  goalkeeping_handling         19239 non-null  int64  \n",
      " 66  goalkeeping_kicking          19239 non-null  int64  \n",
      " 67  goalkeeping_positioning      19239 non-null  int64  \n",
      " 68  goalkeeping_reflexes         19239 non-null  int64  \n",
      " 69  ls                           19239 non-null  object \n",
      " 70  st                           19239 non-null  object \n",
      " 71  rs                           19239 non-null  object \n",
      " 72  lw                           19239 non-null  object \n",
      " 73  lf                           19239 non-null  object \n",
      " 74  cf                           19239 non-null  object \n",
      " 75  rf                           19239 non-null  object \n",
      " 76  rw                           19239 non-null  object \n",
      " 77  lam                          19239 non-null  object \n",
      " 78  cam                          19239 non-null  object \n",
      " 79  ram                          19239 non-null  object \n",
      " 80  lm                           19239 non-null  object \n",
      " 81  lcm                          19239 non-null  object \n",
      " 82  cm                           19239 non-null  object \n",
      " 83  rcm                          19239 non-null  object \n",
      " 84  rm                           19239 non-null  object \n",
      " 85  lwb                          19239 non-null  object \n",
      " 86  ldm                          19239 non-null  object \n",
      " 87  cdm                          19239 non-null  object \n",
      " 88  rdm                          19239 non-null  object \n",
      " 89  rwb                          19239 non-null  object \n",
      " 90  lb                           19239 non-null  object \n",
      " 91  lcb                          19239 non-null  object \n",
      " 92  cb                           19239 non-null  object \n",
      " 93  rcb                          19239 non-null  object \n",
      " 94  rb                           19239 non-null  object \n",
      " 95  gk                           19239 non-null  object \n",
      "dtypes: float64(13), int64(44), object(39)\n",
      "memory usage: 14.1+ MB\n"
     ]
    }
   ],
   "source": [
    "players_22.info()"
   ],
   "metadata": {
    "collapsed": false,
    "ExecuteTime": {
     "end_time": "2024-06-12T17:38:31.226631300Z",
     "start_time": "2024-06-12T17:38:31.099001700Z"
    }
   }
  },
  {
   "cell_type": "code",
   "execution_count": 252,
   "outputs": [],
   "source": [
    "from sklearn.impute import SimpleImputer\n",
    "\n",
    "numeric_cols = players_22.select_dtypes(include=['number']).columns\n",
    "num_imputer = SimpleImputer(strategy='median')\n",
    "players_22[numeric_cols] = num_imputer.fit_transform(players_22[numeric_cols])\n",
    "\n",
    "obj_imputer = SimpleImputer(strategy='most_frequent')\n",
    "players_22[players_22.select_dtypes(include='object').columns] = obj_imputer.fit_transform(players_22[players_22.select_dtypes(include='object').columns])"
   ],
   "metadata": {
    "collapsed": false,
    "ExecuteTime": {
     "end_time": "2024-06-12T17:38:31.374074700Z",
     "start_time": "2024-06-12T17:38:31.138119400Z"
    }
   }
  },
  {
   "cell_type": "code",
   "execution_count": 253,
   "outputs": [],
   "source": [
    "for col in players_22.columns:\n",
    "    # Convert column to string for checking patterns\n",
    "    col_str = players_22[col].astype(str)\n",
    "\n",
    "    # Check if the column contains any data in the form of \"number+number\" or \"number-number\"\n",
    "    if col_str.str.contains(r'^\\d+[\\+\\-]\\d+$').any():\n",
    "        # Apply eval to each element in the column if it matches the pattern\n",
    "        players_22[col] = players_22[col].apply(lambda x: eval(x) if isinstance(x, str) and re.match(r'^\\d+[\\+\\-]\\d+$', x) else x)\n",
    "\n",
    "        # Convert the column to int or float as needed\n",
    "        if players_22[col].apply(lambda x: isinstance(x, (int, float))).all():\n",
    "            players_22[col] = players_22[col].astype(float)"
   ],
   "metadata": {
    "collapsed": false,
    "ExecuteTime": {
     "end_time": "2024-06-12T17:38:35.062518600Z",
     "start_time": "2024-06-12T17:38:31.377078100Z"
    }
   }
  },
  {
   "cell_type": "code",
   "execution_count": 254,
   "outputs": [
    {
     "name": "stdout",
     "output_type": "stream",
     "text": [
      "<class 'pandas.core.frame.DataFrame'>\n",
      "RangeIndex: 19239 entries, 0 to 19238\n",
      "Data columns (total 96 columns):\n",
      " #   Column                       Non-Null Count  Dtype  \n",
      "---  ------                       --------------  -----  \n",
      " 0   sofifa_id                    19239 non-null  float64\n",
      " 1   short_name                   19239 non-null  object \n",
      " 2   long_name                    19239 non-null  object \n",
      " 3   player_positions             19239 non-null  object \n",
      " 4   overall                      19239 non-null  float64\n",
      " 5   potential                    19239 non-null  float64\n",
      " 6   value_eur                    19239 non-null  float64\n",
      " 7   wage_eur                     19239 non-null  float64\n",
      " 8   age                          19239 non-null  float64\n",
      " 9   height_cm                    19239 non-null  float64\n",
      " 10  weight_kg                    19239 non-null  float64\n",
      " 11  club_team_id                 19239 non-null  float64\n",
      " 12  club_name                    19239 non-null  object \n",
      " 13  league_name                  19239 non-null  object \n",
      " 14  league_level                 19239 non-null  float64\n",
      " 15  club_position                19239 non-null  object \n",
      " 16  club_jersey_number           19239 non-null  float64\n",
      " 17  club_joined                  19239 non-null  object \n",
      " 18  club_contract_valid_until    19239 non-null  float64\n",
      " 19  nationality_id               19239 non-null  float64\n",
      " 20  nationality_name             19239 non-null  object \n",
      " 21  preferred_foot               19239 non-null  object \n",
      " 22  weak_foot                    19239 non-null  float64\n",
      " 23  skill_moves                  19239 non-null  float64\n",
      " 24  international_reputation     19239 non-null  float64\n",
      " 25  work_rate                    19239 non-null  object \n",
      " 26  body_type                    19239 non-null  object \n",
      " 27  real_face                    19239 non-null  object \n",
      " 28  release_clause_eur           19239 non-null  float64\n",
      " 29  pace                         19239 non-null  float64\n",
      " 30  shooting                     19239 non-null  float64\n",
      " 31  passing                      19239 non-null  float64\n",
      " 32  dribbling                    19239 non-null  float64\n",
      " 33  defending                    19239 non-null  float64\n",
      " 34  physic                       19239 non-null  float64\n",
      " 35  attacking_crossing           19239 non-null  float64\n",
      " 36  attacking_finishing          19239 non-null  float64\n",
      " 37  attacking_heading_accuracy   19239 non-null  float64\n",
      " 38  attacking_short_passing      19239 non-null  float64\n",
      " 39  attacking_volleys            19239 non-null  float64\n",
      " 40  skill_dribbling              19239 non-null  float64\n",
      " 41  skill_curve                  19239 non-null  float64\n",
      " 42  skill_fk_accuracy            19239 non-null  float64\n",
      " 43  skill_long_passing           19239 non-null  float64\n",
      " 44  skill_ball_control           19239 non-null  float64\n",
      " 45  movement_acceleration        19239 non-null  float64\n",
      " 46  movement_sprint_speed        19239 non-null  float64\n",
      " 47  movement_agility             19239 non-null  float64\n",
      " 48  movement_reactions           19239 non-null  float64\n",
      " 49  movement_balance             19239 non-null  float64\n",
      " 50  power_shot_power             19239 non-null  float64\n",
      " 51  power_jumping                19239 non-null  float64\n",
      " 52  power_stamina                19239 non-null  float64\n",
      " 53  power_strength               19239 non-null  float64\n",
      " 54  power_long_shots             19239 non-null  float64\n",
      " 55  mentality_aggression         19239 non-null  float64\n",
      " 56  mentality_interceptions      19239 non-null  float64\n",
      " 57  mentality_positioning        19239 non-null  float64\n",
      " 58  mentality_vision             19239 non-null  float64\n",
      " 59  mentality_penalties          19239 non-null  float64\n",
      " 60  mentality_composure          19239 non-null  float64\n",
      " 61  defending_marking_awareness  19239 non-null  float64\n",
      " 62  defending_standing_tackle    19239 non-null  float64\n",
      " 63  defending_sliding_tackle     19239 non-null  float64\n",
      " 64  goalkeeping_diving           19239 non-null  float64\n",
      " 65  goalkeeping_handling         19239 non-null  float64\n",
      " 66  goalkeeping_kicking          19239 non-null  float64\n",
      " 67  goalkeeping_positioning      19239 non-null  float64\n",
      " 68  goalkeeping_reflexes         19239 non-null  float64\n",
      " 69  ls                           19239 non-null  object \n",
      " 70  st                           19239 non-null  object \n",
      " 71  rs                           19239 non-null  object \n",
      " 72  lw                           19239 non-null  object \n",
      " 73  lf                           19239 non-null  object \n",
      " 74  cf                           19239 non-null  object \n",
      " 75  rf                           19239 non-null  object \n",
      " 76  rw                           19239 non-null  object \n",
      " 77  lam                          19239 non-null  object \n",
      " 78  cam                          19239 non-null  object \n",
      " 79  ram                          19239 non-null  object \n",
      " 80  lm                           19239 non-null  object \n",
      " 81  lcm                          19239 non-null  object \n",
      " 82  cm                           19239 non-null  object \n",
      " 83  rcm                          19239 non-null  object \n",
      " 84  rm                           19239 non-null  object \n",
      " 85  lwb                          19239 non-null  object \n",
      " 86  ldm                          19239 non-null  object \n",
      " 87  cdm                          19239 non-null  object \n",
      " 88  rdm                          19239 non-null  object \n",
      " 89  rwb                          19239 non-null  object \n",
      " 90  lb                           19239 non-null  object \n",
      " 91  lcb                          19239 non-null  object \n",
      " 92  cb                           19239 non-null  object \n",
      " 93  rcb                          19239 non-null  object \n",
      " 94  rb                           19239 non-null  object \n",
      " 95  gk                           19239 non-null  float64\n",
      "dtypes: float64(58), object(38)\n",
      "memory usage: 14.1+ MB\n"
     ]
    }
   ],
   "source": [
    "players_22.info()"
   ],
   "metadata": {
    "collapsed": false,
    "ExecuteTime": {
     "end_time": "2024-06-12T17:38:35.113067700Z",
     "start_time": "2024-06-12T17:38:35.067526100Z"
    }
   }
  },
  {
   "cell_type": "code",
   "execution_count": 255,
   "outputs": [
    {
     "data": {
      "text/plain": "       sofifa_id          short_name                            long_name  \\\n0       158023.0            L. Messi       Lionel Andrés Messi Cuccittini   \n1       188545.0      R. Lewandowski                   Robert Lewandowski   \n2        20801.0   Cristiano Ronaldo  Cristiano Ronaldo dos Santos Aveiro   \n3       190871.0           Neymar Jr        Neymar da Silva Santos Júnior   \n4       192985.0        K. De Bruyne                      Kevin De Bruyne   \n...          ...                 ...                                  ...   \n19234   261962.0           Song Defu                                  宋德福   \n19235   262040.0           C. Porter                      Caoimhin Porter   \n19236   262760.0            N. Logue              Nathan Logue-Cunningham   \n19237   262820.0           L. Rudden                          Luke Rudden   \n19238   264540.0  E. Lalchhanchhuaha              Emanuel Lalchhanchhuaha   \n\n      player_positions  overall  potential    value_eur  wage_eur   age  \\\n0           RW, ST, CF     93.0       93.0   78000000.0  320000.0  34.0   \n1                   ST     92.0       92.0  119500000.0  270000.0  32.0   \n2               ST, LW     91.0       91.0   45000000.0  270000.0  36.0   \n3              LW, CAM     91.0       91.0  129000000.0  270000.0  29.0   \n4              CM, CAM     91.0       91.0  125500000.0  350000.0  30.0   \n...                ...      ...        ...          ...       ...   ...   \n19234              CDM     47.0       52.0      70000.0    1000.0  22.0   \n19235               CM     47.0       59.0     110000.0     500.0  19.0   \n19236               CM     47.0       55.0     100000.0     500.0  21.0   \n19237               ST     47.0       60.0     110000.0     500.0  19.0   \n19238              CAM     47.0       60.0     110000.0     500.0  19.0   \n\n       height_cm  ...  ldm  cdm rdm rwb  lb lcb  cb rcb  rb    gk  \n0          170.0  ...   67   67  67  69  64  53  53  53  64  22.0  \n1          185.0  ...   69   69  69  67  64  63  63  63  64  22.0  \n2          187.0  ...   62   62  62  66  63  56  56  56  63  23.0  \n3          175.0  ...   66   66  66  70  65  53  53  53  65  23.0  \n4          181.0  ...   83   83  83  82  78  72  72  72  78  24.0  \n...          ...  ...  ...  ...  ..  ..  ..  ..  ..  ..  ..   ...  \n19234      180.0  ...   48   48  48  50  50  48  48  48  50  17.0  \n19235      175.0  ...   48   48  48  51  50  46  46  46  50  16.0  \n19236      178.0  ...   48   48  48  49  49  47  47  47  49  14.0  \n19237      173.0  ...   31   31  31  35  34  28  28  28  34  17.0  \n19238      167.0  ...   46   46  46  47  47  43  43  43  47  18.0  \n\n[19239 rows x 96 columns]",
      "text/html": "<div>\n<style scoped>\n    .dataframe tbody tr th:only-of-type {\n        vertical-align: middle;\n    }\n\n    .dataframe tbody tr th {\n        vertical-align: top;\n    }\n\n    .dataframe thead th {\n        text-align: right;\n    }\n</style>\n<table border=\"1\" class=\"dataframe\">\n  <thead>\n    <tr style=\"text-align: right;\">\n      <th></th>\n      <th>sofifa_id</th>\n      <th>short_name</th>\n      <th>long_name</th>\n      <th>player_positions</th>\n      <th>overall</th>\n      <th>potential</th>\n      <th>value_eur</th>\n      <th>wage_eur</th>\n      <th>age</th>\n      <th>height_cm</th>\n      <th>...</th>\n      <th>ldm</th>\n      <th>cdm</th>\n      <th>rdm</th>\n      <th>rwb</th>\n      <th>lb</th>\n      <th>lcb</th>\n      <th>cb</th>\n      <th>rcb</th>\n      <th>rb</th>\n      <th>gk</th>\n    </tr>\n  </thead>\n  <tbody>\n    <tr>\n      <th>0</th>\n      <td>158023.0</td>\n      <td>L. Messi</td>\n      <td>Lionel Andrés Messi Cuccittini</td>\n      <td>RW, ST, CF</td>\n      <td>93.0</td>\n      <td>93.0</td>\n      <td>78000000.0</td>\n      <td>320000.0</td>\n      <td>34.0</td>\n      <td>170.0</td>\n      <td>...</td>\n      <td>67</td>\n      <td>67</td>\n      <td>67</td>\n      <td>69</td>\n      <td>64</td>\n      <td>53</td>\n      <td>53</td>\n      <td>53</td>\n      <td>64</td>\n      <td>22.0</td>\n    </tr>\n    <tr>\n      <th>1</th>\n      <td>188545.0</td>\n      <td>R. Lewandowski</td>\n      <td>Robert Lewandowski</td>\n      <td>ST</td>\n      <td>92.0</td>\n      <td>92.0</td>\n      <td>119500000.0</td>\n      <td>270000.0</td>\n      <td>32.0</td>\n      <td>185.0</td>\n      <td>...</td>\n      <td>69</td>\n      <td>69</td>\n      <td>69</td>\n      <td>67</td>\n      <td>64</td>\n      <td>63</td>\n      <td>63</td>\n      <td>63</td>\n      <td>64</td>\n      <td>22.0</td>\n    </tr>\n    <tr>\n      <th>2</th>\n      <td>20801.0</td>\n      <td>Cristiano Ronaldo</td>\n      <td>Cristiano Ronaldo dos Santos Aveiro</td>\n      <td>ST, LW</td>\n      <td>91.0</td>\n      <td>91.0</td>\n      <td>45000000.0</td>\n      <td>270000.0</td>\n      <td>36.0</td>\n      <td>187.0</td>\n      <td>...</td>\n      <td>62</td>\n      <td>62</td>\n      <td>62</td>\n      <td>66</td>\n      <td>63</td>\n      <td>56</td>\n      <td>56</td>\n      <td>56</td>\n      <td>63</td>\n      <td>23.0</td>\n    </tr>\n    <tr>\n      <th>3</th>\n      <td>190871.0</td>\n      <td>Neymar Jr</td>\n      <td>Neymar da Silva Santos Júnior</td>\n      <td>LW, CAM</td>\n      <td>91.0</td>\n      <td>91.0</td>\n      <td>129000000.0</td>\n      <td>270000.0</td>\n      <td>29.0</td>\n      <td>175.0</td>\n      <td>...</td>\n      <td>66</td>\n      <td>66</td>\n      <td>66</td>\n      <td>70</td>\n      <td>65</td>\n      <td>53</td>\n      <td>53</td>\n      <td>53</td>\n      <td>65</td>\n      <td>23.0</td>\n    </tr>\n    <tr>\n      <th>4</th>\n      <td>192985.0</td>\n      <td>K. De Bruyne</td>\n      <td>Kevin De Bruyne</td>\n      <td>CM, CAM</td>\n      <td>91.0</td>\n      <td>91.0</td>\n      <td>125500000.0</td>\n      <td>350000.0</td>\n      <td>30.0</td>\n      <td>181.0</td>\n      <td>...</td>\n      <td>83</td>\n      <td>83</td>\n      <td>83</td>\n      <td>82</td>\n      <td>78</td>\n      <td>72</td>\n      <td>72</td>\n      <td>72</td>\n      <td>78</td>\n      <td>24.0</td>\n    </tr>\n    <tr>\n      <th>...</th>\n      <td>...</td>\n      <td>...</td>\n      <td>...</td>\n      <td>...</td>\n      <td>...</td>\n      <td>...</td>\n      <td>...</td>\n      <td>...</td>\n      <td>...</td>\n      <td>...</td>\n      <td>...</td>\n      <td>...</td>\n      <td>...</td>\n      <td>...</td>\n      <td>...</td>\n      <td>...</td>\n      <td>...</td>\n      <td>...</td>\n      <td>...</td>\n      <td>...</td>\n      <td>...</td>\n    </tr>\n    <tr>\n      <th>19234</th>\n      <td>261962.0</td>\n      <td>Song Defu</td>\n      <td>宋德福</td>\n      <td>CDM</td>\n      <td>47.0</td>\n      <td>52.0</td>\n      <td>70000.0</td>\n      <td>1000.0</td>\n      <td>22.0</td>\n      <td>180.0</td>\n      <td>...</td>\n      <td>48</td>\n      <td>48</td>\n      <td>48</td>\n      <td>50</td>\n      <td>50</td>\n      <td>48</td>\n      <td>48</td>\n      <td>48</td>\n      <td>50</td>\n      <td>17.0</td>\n    </tr>\n    <tr>\n      <th>19235</th>\n      <td>262040.0</td>\n      <td>C. Porter</td>\n      <td>Caoimhin Porter</td>\n      <td>CM</td>\n      <td>47.0</td>\n      <td>59.0</td>\n      <td>110000.0</td>\n      <td>500.0</td>\n      <td>19.0</td>\n      <td>175.0</td>\n      <td>...</td>\n      <td>48</td>\n      <td>48</td>\n      <td>48</td>\n      <td>51</td>\n      <td>50</td>\n      <td>46</td>\n      <td>46</td>\n      <td>46</td>\n      <td>50</td>\n      <td>16.0</td>\n    </tr>\n    <tr>\n      <th>19236</th>\n      <td>262760.0</td>\n      <td>N. Logue</td>\n      <td>Nathan Logue-Cunningham</td>\n      <td>CM</td>\n      <td>47.0</td>\n      <td>55.0</td>\n      <td>100000.0</td>\n      <td>500.0</td>\n      <td>21.0</td>\n      <td>178.0</td>\n      <td>...</td>\n      <td>48</td>\n      <td>48</td>\n      <td>48</td>\n      <td>49</td>\n      <td>49</td>\n      <td>47</td>\n      <td>47</td>\n      <td>47</td>\n      <td>49</td>\n      <td>14.0</td>\n    </tr>\n    <tr>\n      <th>19237</th>\n      <td>262820.0</td>\n      <td>L. Rudden</td>\n      <td>Luke Rudden</td>\n      <td>ST</td>\n      <td>47.0</td>\n      <td>60.0</td>\n      <td>110000.0</td>\n      <td>500.0</td>\n      <td>19.0</td>\n      <td>173.0</td>\n      <td>...</td>\n      <td>31</td>\n      <td>31</td>\n      <td>31</td>\n      <td>35</td>\n      <td>34</td>\n      <td>28</td>\n      <td>28</td>\n      <td>28</td>\n      <td>34</td>\n      <td>17.0</td>\n    </tr>\n    <tr>\n      <th>19238</th>\n      <td>264540.0</td>\n      <td>E. Lalchhanchhuaha</td>\n      <td>Emanuel Lalchhanchhuaha</td>\n      <td>CAM</td>\n      <td>47.0</td>\n      <td>60.0</td>\n      <td>110000.0</td>\n      <td>500.0</td>\n      <td>19.0</td>\n      <td>167.0</td>\n      <td>...</td>\n      <td>46</td>\n      <td>46</td>\n      <td>46</td>\n      <td>47</td>\n      <td>47</td>\n      <td>43</td>\n      <td>43</td>\n      <td>43</td>\n      <td>47</td>\n      <td>18.0</td>\n    </tr>\n  </tbody>\n</table>\n<p>19239 rows × 96 columns</p>\n</div>"
     },
     "execution_count": 255,
     "metadata": {},
     "output_type": "execute_result"
    }
   ],
   "source": [
    "players_22"
   ],
   "metadata": {
    "collapsed": false,
    "ExecuteTime": {
     "end_time": "2024-06-12T17:38:35.146126700Z",
     "start_time": "2024-06-12T17:38:35.107026800Z"
    }
   }
  },
  {
   "cell_type": "code",
   "execution_count": 256,
   "outputs": [],
   "source": [
    "for column in players_22.columns[:69]:\n",
    "    if players_22[column].dtype == 'object':\n",
    "        encoder = ce.BinaryEncoder(cols=[column])\n",
    "        col_encoded = encoder.fit_transform(players_22[column])\n",
    "        players_22.drop(column, axis=1, inplace=True)\n",
    "        players_22 = pd.concat([players_22, col_encoded], axis=1).reset_index(drop=True)"
   ],
   "metadata": {
    "collapsed": false,
    "ExecuteTime": {
     "end_time": "2024-06-12T17:38:36.134348200Z",
     "start_time": "2024-06-12T17:38:35.149169400Z"
    }
   }
  },
  {
   "cell_type": "code",
   "execution_count": 257,
   "outputs": [
    {
     "data": {
      "text/plain": "Index(['overall', 'movement_reactions', 'mentality_composure', 'passing',\n       'potential', 'dribbling', 'wage_eur', 'power_shot_power', 'value_eur',\n       'rcm', 'cm', 'lcm', 'release_clause_eur', 'mentality_vision',\n       'attacking_short_passing', 'short_name_0', 'long_name_0'],\n      dtype='object')"
     },
     "execution_count": 257,
     "metadata": {},
     "output_type": "execute_result"
    }
   ],
   "source": [
    "correlations = players_22.corr()['overall']\n",
    "sorted_correlations = correlations.sort_values(ascending=False)\n",
    "\n",
    "threshold = 0.5\n",
    "players_22_relevant_columns = sorted_correlations[abs(sorted_correlations) > threshold]\n",
    "\n",
    "\n",
    "players_22_relevant_columns.index"
   ],
   "metadata": {
    "collapsed": false,
    "ExecuteTime": {
     "end_time": "2024-06-12T17:38:37.271862700Z",
     "start_time": "2024-06-12T17:38:36.136351600Z"
    }
   }
  },
  {
   "cell_type": "code",
   "execution_count": 258,
   "outputs": [],
   "source": [
    "players_22 = players_22[players_22_relevant_columns.index]"
   ],
   "metadata": {
    "collapsed": false,
    "ExecuteTime": {
     "end_time": "2024-06-12T17:38:37.281971Z",
     "start_time": "2024-06-12T17:38:37.273862Z"
    }
   }
  },
  {
   "cell_type": "code",
   "execution_count": 259,
   "outputs": [
    {
     "data": {
      "text/plain": "       overall  movement_reactions  mentality_composure  passing  potential  \\\n0         93.0                94.0                 96.0     91.0       93.0   \n1         92.0                93.0                 88.0     79.0       92.0   \n2         91.0                94.0                 95.0     80.0       91.0   \n3         91.0                89.0                 93.0     86.0       91.0   \n4         91.0                91.0                 89.0     93.0       91.0   \n...        ...                 ...                  ...      ...        ...   \n19234     47.0                53.0                 37.0     46.0       52.0   \n19235     47.0                49.0                 47.0     50.0       59.0   \n19236     47.0                46.0                 36.0     45.0       55.0   \n19237     47.0                48.0                 47.0     36.0       60.0   \n19238     47.0                54.0                 36.0     45.0       60.0   \n\n       dribbling  wage_eur  power_shot_power    value_eur rcm  cm lcm  \\\n0           95.0  320000.0              86.0   78000000.0  90  90  90   \n1           86.0  270000.0              90.0  119500000.0  83  83  83   \n2           88.0  270000.0              94.0   45000000.0  81  81  81   \n3           94.0  270000.0              80.0  129000000.0  85  85  85   \n4           88.0  350000.0              91.0  125500000.0  91  91  91   \n...          ...       ...               ...          ...  ..  ..  ..   \n19234       48.0    1000.0              46.0      70000.0  48  48  48   \n19235       46.0     500.0              49.0     110000.0  49  49  49   \n19236       49.0     500.0              50.0     100000.0  49  49  49   \n19237       48.0     500.0              48.0     110000.0  41  41  41   \n19238       48.0     500.0              50.0     110000.0  48  48  48   \n\n       release_clause_eur  mentality_vision  attacking_short_passing  \\\n0             144300000.0              95.0                     91.0   \n1             197200000.0              81.0                     85.0   \n2              83300000.0              76.0                     80.0   \n3             238700000.0              90.0                     86.0   \n4             232200000.0              94.0                     94.0   \n...                   ...               ...                      ...   \n19234            114000.0              43.0                     50.0   \n19235            193000.0              49.0                     51.0   \n19236            175000.0              46.0                     49.0   \n19237            239000.0              40.0                     38.0   \n19238            217000.0              46.0                     50.0   \n\n       short_name_0  long_name_0  \n0                 0            0  \n1                 0            0  \n2                 0            0  \n3                 0            0  \n4                 0            0  \n...             ...          ...  \n19234             1            1  \n19235             0            1  \n19236             1            1  \n19237             1            1  \n19238             1            1  \n\n[19239 rows x 17 columns]",
      "text/html": "<div>\n<style scoped>\n    .dataframe tbody tr th:only-of-type {\n        vertical-align: middle;\n    }\n\n    .dataframe tbody tr th {\n        vertical-align: top;\n    }\n\n    .dataframe thead th {\n        text-align: right;\n    }\n</style>\n<table border=\"1\" class=\"dataframe\">\n  <thead>\n    <tr style=\"text-align: right;\">\n      <th></th>\n      <th>overall</th>\n      <th>movement_reactions</th>\n      <th>mentality_composure</th>\n      <th>passing</th>\n      <th>potential</th>\n      <th>dribbling</th>\n      <th>wage_eur</th>\n      <th>power_shot_power</th>\n      <th>value_eur</th>\n      <th>rcm</th>\n      <th>cm</th>\n      <th>lcm</th>\n      <th>release_clause_eur</th>\n      <th>mentality_vision</th>\n      <th>attacking_short_passing</th>\n      <th>short_name_0</th>\n      <th>long_name_0</th>\n    </tr>\n  </thead>\n  <tbody>\n    <tr>\n      <th>0</th>\n      <td>93.0</td>\n      <td>94.0</td>\n      <td>96.0</td>\n      <td>91.0</td>\n      <td>93.0</td>\n      <td>95.0</td>\n      <td>320000.0</td>\n      <td>86.0</td>\n      <td>78000000.0</td>\n      <td>90</td>\n      <td>90</td>\n      <td>90</td>\n      <td>144300000.0</td>\n      <td>95.0</td>\n      <td>91.0</td>\n      <td>0</td>\n      <td>0</td>\n    </tr>\n    <tr>\n      <th>1</th>\n      <td>92.0</td>\n      <td>93.0</td>\n      <td>88.0</td>\n      <td>79.0</td>\n      <td>92.0</td>\n      <td>86.0</td>\n      <td>270000.0</td>\n      <td>90.0</td>\n      <td>119500000.0</td>\n      <td>83</td>\n      <td>83</td>\n      <td>83</td>\n      <td>197200000.0</td>\n      <td>81.0</td>\n      <td>85.0</td>\n      <td>0</td>\n      <td>0</td>\n    </tr>\n    <tr>\n      <th>2</th>\n      <td>91.0</td>\n      <td>94.0</td>\n      <td>95.0</td>\n      <td>80.0</td>\n      <td>91.0</td>\n      <td>88.0</td>\n      <td>270000.0</td>\n      <td>94.0</td>\n      <td>45000000.0</td>\n      <td>81</td>\n      <td>81</td>\n      <td>81</td>\n      <td>83300000.0</td>\n      <td>76.0</td>\n      <td>80.0</td>\n      <td>0</td>\n      <td>0</td>\n    </tr>\n    <tr>\n      <th>3</th>\n      <td>91.0</td>\n      <td>89.0</td>\n      <td>93.0</td>\n      <td>86.0</td>\n      <td>91.0</td>\n      <td>94.0</td>\n      <td>270000.0</td>\n      <td>80.0</td>\n      <td>129000000.0</td>\n      <td>85</td>\n      <td>85</td>\n      <td>85</td>\n      <td>238700000.0</td>\n      <td>90.0</td>\n      <td>86.0</td>\n      <td>0</td>\n      <td>0</td>\n    </tr>\n    <tr>\n      <th>4</th>\n      <td>91.0</td>\n      <td>91.0</td>\n      <td>89.0</td>\n      <td>93.0</td>\n      <td>91.0</td>\n      <td>88.0</td>\n      <td>350000.0</td>\n      <td>91.0</td>\n      <td>125500000.0</td>\n      <td>91</td>\n      <td>91</td>\n      <td>91</td>\n      <td>232200000.0</td>\n      <td>94.0</td>\n      <td>94.0</td>\n      <td>0</td>\n      <td>0</td>\n    </tr>\n    <tr>\n      <th>...</th>\n      <td>...</td>\n      <td>...</td>\n      <td>...</td>\n      <td>...</td>\n      <td>...</td>\n      <td>...</td>\n      <td>...</td>\n      <td>...</td>\n      <td>...</td>\n      <td>...</td>\n      <td>...</td>\n      <td>...</td>\n      <td>...</td>\n      <td>...</td>\n      <td>...</td>\n      <td>...</td>\n      <td>...</td>\n    </tr>\n    <tr>\n      <th>19234</th>\n      <td>47.0</td>\n      <td>53.0</td>\n      <td>37.0</td>\n      <td>46.0</td>\n      <td>52.0</td>\n      <td>48.0</td>\n      <td>1000.0</td>\n      <td>46.0</td>\n      <td>70000.0</td>\n      <td>48</td>\n      <td>48</td>\n      <td>48</td>\n      <td>114000.0</td>\n      <td>43.0</td>\n      <td>50.0</td>\n      <td>1</td>\n      <td>1</td>\n    </tr>\n    <tr>\n      <th>19235</th>\n      <td>47.0</td>\n      <td>49.0</td>\n      <td>47.0</td>\n      <td>50.0</td>\n      <td>59.0</td>\n      <td>46.0</td>\n      <td>500.0</td>\n      <td>49.0</td>\n      <td>110000.0</td>\n      <td>49</td>\n      <td>49</td>\n      <td>49</td>\n      <td>193000.0</td>\n      <td>49.0</td>\n      <td>51.0</td>\n      <td>0</td>\n      <td>1</td>\n    </tr>\n    <tr>\n      <th>19236</th>\n      <td>47.0</td>\n      <td>46.0</td>\n      <td>36.0</td>\n      <td>45.0</td>\n      <td>55.0</td>\n      <td>49.0</td>\n      <td>500.0</td>\n      <td>50.0</td>\n      <td>100000.0</td>\n      <td>49</td>\n      <td>49</td>\n      <td>49</td>\n      <td>175000.0</td>\n      <td>46.0</td>\n      <td>49.0</td>\n      <td>1</td>\n      <td>1</td>\n    </tr>\n    <tr>\n      <th>19237</th>\n      <td>47.0</td>\n      <td>48.0</td>\n      <td>47.0</td>\n      <td>36.0</td>\n      <td>60.0</td>\n      <td>48.0</td>\n      <td>500.0</td>\n      <td>48.0</td>\n      <td>110000.0</td>\n      <td>41</td>\n      <td>41</td>\n      <td>41</td>\n      <td>239000.0</td>\n      <td>40.0</td>\n      <td>38.0</td>\n      <td>1</td>\n      <td>1</td>\n    </tr>\n    <tr>\n      <th>19238</th>\n      <td>47.0</td>\n      <td>54.0</td>\n      <td>36.0</td>\n      <td>45.0</td>\n      <td>60.0</td>\n      <td>48.0</td>\n      <td>500.0</td>\n      <td>50.0</td>\n      <td>110000.0</td>\n      <td>48</td>\n      <td>48</td>\n      <td>48</td>\n      <td>217000.0</td>\n      <td>46.0</td>\n      <td>50.0</td>\n      <td>1</td>\n      <td>1</td>\n    </tr>\n  </tbody>\n</table>\n<p>19239 rows × 17 columns</p>\n</div>"
     },
     "execution_count": 259,
     "metadata": {},
     "output_type": "execute_result"
    }
   ],
   "source": [
    "players_22"
   ],
   "metadata": {
    "collapsed": false,
    "ExecuteTime": {
     "end_time": "2024-06-12T17:38:37.300977Z",
     "start_time": "2024-06-12T17:38:37.282974200Z"
    }
   }
  },
  {
   "cell_type": "code",
   "execution_count": 260,
   "outputs": [],
   "source": [
    "columns_to_remove = [col for col in players_21.columns if col not in players_22.columns]\n",
    "if columns_to_remove:\n",
    "    players_21.drop(columns=columns_to_remove, inplace=True)"
   ],
   "metadata": {
    "collapsed": false,
    "ExecuteTime": {
     "end_time": "2024-06-12T17:38:37.336067600Z",
     "start_time": "2024-06-12T17:38:37.300977Z"
    }
   }
  },
  {
   "cell_type": "code",
   "execution_count": 261,
   "outputs": [],
   "source": [
    "columns_to_remove = [col for col in players_22.columns if col not in players_21.columns]\n",
    "if columns_to_remove:\n",
    "    players_22.drop(columns=columns_to_remove, inplace=True)"
   ],
   "metadata": {
    "collapsed": false,
    "ExecuteTime": {
     "end_time": "2024-06-12T17:38:37.336067600Z",
     "start_time": "2024-06-12T17:38:37.306742800Z"
    }
   }
  },
  {
   "cell_type": "code",
   "execution_count": 262,
   "outputs": [
    {
     "data": {
      "text/plain": "       overall  movement_reactions  mentality_composure  passing  potential  \\\n0         93.0                94.0                 96.0     91.0       93.0   \n1         92.0                95.0                 95.0     81.0       92.0   \n2         91.0                93.0                 88.0     78.0       91.0   \n3         91.0                91.0                 93.0     86.0       91.0   \n4         91.0                91.0                 91.0     93.0       91.0   \n...        ...                 ...                  ...      ...        ...   \n18939     47.0                48.0                 40.0     26.0       52.0   \n18940     47.0                50.0                 35.0     49.0       53.0   \n18941     47.0                44.0                 35.0     49.0       47.0   \n18942     47.0                53.0                 45.0     40.0       67.0   \n18943     47.0                51.0                 38.0     48.0       67.0   \n\n       dribbling  wage_eur  power_shot_power    value_eur  mentality_vision  \\\n0           95.0  560000.0              86.0  103500000.0              95.0   \n1           89.0  220000.0              94.0   63000000.0              82.0   \n2           85.0  240000.0              89.0  111000000.0              79.0   \n3           94.0  270000.0              80.0  132000000.0              90.0   \n4           88.0  370000.0              91.0  129000000.0              94.0   \n...          ...       ...               ...          ...               ...   \n18939       27.0    1000.0              35.0      70000.0              25.0   \n18940       47.0    1000.0              38.0      70000.0              53.0   \n18941       46.0    2000.0              49.0      45000.0              44.0   \n18942       53.0     500.0              50.0     130000.0              49.0   \n18943       49.0     500.0              48.0     130000.0              47.0   \n\n       attacking_short_passing  \n0                         91.0  \n1                         82.0  \n2                         84.0  \n3                         87.0  \n4                         94.0  \n...                        ...  \n18939                     31.0  \n18940                     55.0  \n18941                     56.0  \n18942                     45.0  \n18943                     56.0  \n\n[18944 rows x 11 columns]",
      "text/html": "<div>\n<style scoped>\n    .dataframe tbody tr th:only-of-type {\n        vertical-align: middle;\n    }\n\n    .dataframe tbody tr th {\n        vertical-align: top;\n    }\n\n    .dataframe thead th {\n        text-align: right;\n    }\n</style>\n<table border=\"1\" class=\"dataframe\">\n  <thead>\n    <tr style=\"text-align: right;\">\n      <th></th>\n      <th>overall</th>\n      <th>movement_reactions</th>\n      <th>mentality_composure</th>\n      <th>passing</th>\n      <th>potential</th>\n      <th>dribbling</th>\n      <th>wage_eur</th>\n      <th>power_shot_power</th>\n      <th>value_eur</th>\n      <th>mentality_vision</th>\n      <th>attacking_short_passing</th>\n    </tr>\n  </thead>\n  <tbody>\n    <tr>\n      <th>0</th>\n      <td>93.0</td>\n      <td>94.0</td>\n      <td>96.0</td>\n      <td>91.0</td>\n      <td>93.0</td>\n      <td>95.0</td>\n      <td>560000.0</td>\n      <td>86.0</td>\n      <td>103500000.0</td>\n      <td>95.0</td>\n      <td>91.0</td>\n    </tr>\n    <tr>\n      <th>1</th>\n      <td>92.0</td>\n      <td>95.0</td>\n      <td>95.0</td>\n      <td>81.0</td>\n      <td>92.0</td>\n      <td>89.0</td>\n      <td>220000.0</td>\n      <td>94.0</td>\n      <td>63000000.0</td>\n      <td>82.0</td>\n      <td>82.0</td>\n    </tr>\n    <tr>\n      <th>2</th>\n      <td>91.0</td>\n      <td>93.0</td>\n      <td>88.0</td>\n      <td>78.0</td>\n      <td>91.0</td>\n      <td>85.0</td>\n      <td>240000.0</td>\n      <td>89.0</td>\n      <td>111000000.0</td>\n      <td>79.0</td>\n      <td>84.0</td>\n    </tr>\n    <tr>\n      <th>3</th>\n      <td>91.0</td>\n      <td>91.0</td>\n      <td>93.0</td>\n      <td>86.0</td>\n      <td>91.0</td>\n      <td>94.0</td>\n      <td>270000.0</td>\n      <td>80.0</td>\n      <td>132000000.0</td>\n      <td>90.0</td>\n      <td>87.0</td>\n    </tr>\n    <tr>\n      <th>4</th>\n      <td>91.0</td>\n      <td>91.0</td>\n      <td>91.0</td>\n      <td>93.0</td>\n      <td>91.0</td>\n      <td>88.0</td>\n      <td>370000.0</td>\n      <td>91.0</td>\n      <td>129000000.0</td>\n      <td>94.0</td>\n      <td>94.0</td>\n    </tr>\n    <tr>\n      <th>...</th>\n      <td>...</td>\n      <td>...</td>\n      <td>...</td>\n      <td>...</td>\n      <td>...</td>\n      <td>...</td>\n      <td>...</td>\n      <td>...</td>\n      <td>...</td>\n      <td>...</td>\n      <td>...</td>\n    </tr>\n    <tr>\n      <th>18939</th>\n      <td>47.0</td>\n      <td>48.0</td>\n      <td>40.0</td>\n      <td>26.0</td>\n      <td>52.0</td>\n      <td>27.0</td>\n      <td>1000.0</td>\n      <td>35.0</td>\n      <td>70000.0</td>\n      <td>25.0</td>\n      <td>31.0</td>\n    </tr>\n    <tr>\n      <th>18940</th>\n      <td>47.0</td>\n      <td>50.0</td>\n      <td>35.0</td>\n      <td>49.0</td>\n      <td>53.0</td>\n      <td>47.0</td>\n      <td>1000.0</td>\n      <td>38.0</td>\n      <td>70000.0</td>\n      <td>53.0</td>\n      <td>55.0</td>\n    </tr>\n    <tr>\n      <th>18941</th>\n      <td>47.0</td>\n      <td>44.0</td>\n      <td>35.0</td>\n      <td>49.0</td>\n      <td>47.0</td>\n      <td>46.0</td>\n      <td>2000.0</td>\n      <td>49.0</td>\n      <td>45000.0</td>\n      <td>44.0</td>\n      <td>56.0</td>\n    </tr>\n    <tr>\n      <th>18942</th>\n      <td>47.0</td>\n      <td>53.0</td>\n      <td>45.0</td>\n      <td>40.0</td>\n      <td>67.0</td>\n      <td>53.0</td>\n      <td>500.0</td>\n      <td>50.0</td>\n      <td>130000.0</td>\n      <td>49.0</td>\n      <td>45.0</td>\n    </tr>\n    <tr>\n      <th>18943</th>\n      <td>47.0</td>\n      <td>51.0</td>\n      <td>38.0</td>\n      <td>48.0</td>\n      <td>67.0</td>\n      <td>49.0</td>\n      <td>500.0</td>\n      <td>48.0</td>\n      <td>130000.0</td>\n      <td>47.0</td>\n      <td>56.0</td>\n    </tr>\n  </tbody>\n</table>\n<p>18944 rows × 11 columns</p>\n</div>"
     },
     "execution_count": 262,
     "metadata": {},
     "output_type": "execute_result"
    }
   ],
   "source": [
    "players_21"
   ],
   "metadata": {
    "collapsed": false,
    "ExecuteTime": {
     "end_time": "2024-06-12T17:38:37.382501700Z",
     "start_time": "2024-06-12T17:38:37.315655200Z"
    }
   }
  },
  {
   "cell_type": "code",
   "execution_count": 263,
   "outputs": [
    {
     "name": "stdout",
     "output_type": "stream",
     "text": [
      "<class 'pandas.core.frame.DataFrame'>\n",
      "RangeIndex: 18944 entries, 0 to 18943\n",
      "Data columns (total 11 columns):\n",
      " #   Column                   Non-Null Count  Dtype  \n",
      "---  ------                   --------------  -----  \n",
      " 0   overall                  18944 non-null  float64\n",
      " 1   movement_reactions       18944 non-null  float64\n",
      " 2   mentality_composure      18944 non-null  float64\n",
      " 3   passing                  18944 non-null  float64\n",
      " 4   potential                18944 non-null  float64\n",
      " 5   dribbling                18944 non-null  float64\n",
      " 6   wage_eur                 18944 non-null  float64\n",
      " 7   power_shot_power         18944 non-null  float64\n",
      " 8   value_eur                18944 non-null  float64\n",
      " 9   mentality_vision         18944 non-null  float64\n",
      " 10  attacking_short_passing  18944 non-null  float64\n",
      "dtypes: float64(11)\n",
      "memory usage: 1.6 MB\n"
     ]
    }
   ],
   "source": [
    "players_21.info()"
   ],
   "metadata": {
    "collapsed": false,
    "ExecuteTime": {
     "end_time": "2024-06-12T17:38:37.410349500Z",
     "start_time": "2024-06-12T17:38:37.333064800Z"
    }
   }
  },
  {
   "cell_type": "code",
   "execution_count": 264,
   "outputs": [
    {
     "name": "stdout",
     "output_type": "stream",
     "text": [
      "<class 'pandas.core.frame.DataFrame'>\n",
      "RangeIndex: 19239 entries, 0 to 19238\n",
      "Data columns (total 11 columns):\n",
      " #   Column                   Non-Null Count  Dtype  \n",
      "---  ------                   --------------  -----  \n",
      " 0   overall                  19239 non-null  float64\n",
      " 1   movement_reactions       19239 non-null  float64\n",
      " 2   mentality_composure      19239 non-null  float64\n",
      " 3   passing                  19239 non-null  float64\n",
      " 4   potential                19239 non-null  float64\n",
      " 5   dribbling                19239 non-null  float64\n",
      " 6   wage_eur                 19239 non-null  float64\n",
      " 7   power_shot_power         19239 non-null  float64\n",
      " 8   value_eur                19239 non-null  float64\n",
      " 9   mentality_vision         19239 non-null  float64\n",
      " 10  attacking_short_passing  19239 non-null  float64\n",
      "dtypes: float64(11)\n",
      "memory usage: 1.6 MB\n"
     ]
    }
   ],
   "source": [
    "players_22.info()"
   ],
   "metadata": {
    "collapsed": false,
    "ExecuteTime": {
     "end_time": "2024-06-12T17:38:37.430333100Z",
     "start_time": "2024-06-12T17:38:37.346417400Z"
    }
   }
  },
  {
   "cell_type": "code",
   "execution_count": 265,
   "outputs": [],
   "source": [
    "y_train = players_21['overall']\n",
    "X_train = players_21.drop('overall', axis=1)\n",
    "\n",
    "\n",
    "y_test = players_22['overall']\n",
    "X_test = players_22.drop('overall', axis=1)"
   ],
   "metadata": {
    "collapsed": false,
    "ExecuteTime": {
     "end_time": "2024-06-12T17:38:37.431338900Z",
     "start_time": "2024-06-12T17:38:37.356958600Z"
    }
   }
  },
  {
   "cell_type": "code",
   "execution_count": 266,
   "outputs": [],
   "source": [
    "from sklearn.model_selection import train_test_split\n",
    "\n",
    "\n",
    "X_train, X_test, y_train, y_test = train_test_split(X_train, y_train, test_size=0.2, random_state=42)"
   ],
   "metadata": {
    "collapsed": false,
    "ExecuteTime": {
     "end_time": "2024-06-12T17:38:37.495577800Z",
     "start_time": "2024-06-12T17:38:37.366952Z"
    }
   }
  },
  {
   "cell_type": "code",
   "execution_count": 267,
   "outputs": [
    {
     "data": {
      "text/plain": "['scaler.pkl']"
     },
     "execution_count": 267,
     "metadata": {},
     "output_type": "execute_result"
    }
   ],
   "source": [
    "from sklearn.preprocessing import StandardScaler\n",
    "\n",
    "scaler = StandardScaler()\n",
    "\n",
    "X_train_scaled = scaler.fit_transform(X_train)\n",
    "X_test_scaled = scaler.transform(X_test)\n",
    "\n",
    "\n",
    "X_train_scaled = pd.DataFrame(X_train_scaled, columns=X_train.columns)\n",
    "X_test_scaled = pd.DataFrame(X_test_scaled, columns=X_test.columns)\n",
    "\n",
    "joblib.dump(scaler, 'scaler.pkl')"
   ],
   "metadata": {
    "collapsed": false,
    "ExecuteTime": {
     "end_time": "2024-06-12T17:38:37.495577800Z",
     "start_time": "2024-06-12T17:38:37.396218Z"
    }
   }
  },
  {
   "cell_type": "code",
   "execution_count": 268,
   "outputs": [
    {
     "data": {
      "text/plain": "(15155, 10)"
     },
     "execution_count": 268,
     "metadata": {},
     "output_type": "execute_result"
    }
   ],
   "source": [
    "X_train.shape"
   ],
   "metadata": {
    "collapsed": false,
    "ExecuteTime": {
     "end_time": "2024-06-12T17:38:37.496579100Z",
     "start_time": "2024-06-12T17:38:37.400736400Z"
    }
   }
  },
  {
   "cell_type": "code",
   "execution_count": 269,
   "outputs": [
    {
     "data": {
      "text/plain": "(3789, 10)"
     },
     "execution_count": 269,
     "metadata": {},
     "output_type": "execute_result"
    }
   ],
   "source": [
    "X_test.shape"
   ],
   "metadata": {
    "collapsed": false,
    "ExecuteTime": {
     "end_time": "2024-06-12T17:38:37.496780100Z",
     "start_time": "2024-06-12T17:38:37.407387300Z"
    }
   }
  },
  {
   "cell_type": "code",
   "execution_count": 270,
   "outputs": [
    {
     "data": {
      "text/plain": "       movement_reactions  mentality_composure  passing  potential  dribbling  \\\n18775                32.0                 21.0     58.0       64.0       64.0   \n17559                51.0                 52.0     52.0       74.0       58.0   \n7667                 64.0                 74.0     66.0       67.0       68.0   \n2638                 73.0                 66.0     62.0       73.0       67.0   \n18148                50.0                 38.0     35.0       70.0       50.0   \n\n       wage_eur  power_shot_power  value_eur  mentality_vision  \\\n18775     500.0              35.0   100000.0              34.0   \n17559     750.0              41.0   325000.0              56.0   \n7667     7000.0              71.0  1000000.0              66.0   \n2638     5000.0              65.0  2600000.0              51.0   \n18148    1000.0              26.0   230000.0              36.0   \n\n       attacking_short_passing  \n18775                     15.0  \n17559                     60.0  \n7667                      70.0  \n2638                      66.0  \n18148                     33.0  ",
      "text/html": "<div>\n<style scoped>\n    .dataframe tbody tr th:only-of-type {\n        vertical-align: middle;\n    }\n\n    .dataframe tbody tr th {\n        vertical-align: top;\n    }\n\n    .dataframe thead th {\n        text-align: right;\n    }\n</style>\n<table border=\"1\" class=\"dataframe\">\n  <thead>\n    <tr style=\"text-align: right;\">\n      <th></th>\n      <th>movement_reactions</th>\n      <th>mentality_composure</th>\n      <th>passing</th>\n      <th>potential</th>\n      <th>dribbling</th>\n      <th>wage_eur</th>\n      <th>power_shot_power</th>\n      <th>value_eur</th>\n      <th>mentality_vision</th>\n      <th>attacking_short_passing</th>\n    </tr>\n  </thead>\n  <tbody>\n    <tr>\n      <th>18775</th>\n      <td>32.0</td>\n      <td>21.0</td>\n      <td>58.0</td>\n      <td>64.0</td>\n      <td>64.0</td>\n      <td>500.0</td>\n      <td>35.0</td>\n      <td>100000.0</td>\n      <td>34.0</td>\n      <td>15.0</td>\n    </tr>\n    <tr>\n      <th>17559</th>\n      <td>51.0</td>\n      <td>52.0</td>\n      <td>52.0</td>\n      <td>74.0</td>\n      <td>58.0</td>\n      <td>750.0</td>\n      <td>41.0</td>\n      <td>325000.0</td>\n      <td>56.0</td>\n      <td>60.0</td>\n    </tr>\n    <tr>\n      <th>7667</th>\n      <td>64.0</td>\n      <td>74.0</td>\n      <td>66.0</td>\n      <td>67.0</td>\n      <td>68.0</td>\n      <td>7000.0</td>\n      <td>71.0</td>\n      <td>1000000.0</td>\n      <td>66.0</td>\n      <td>70.0</td>\n    </tr>\n    <tr>\n      <th>2638</th>\n      <td>73.0</td>\n      <td>66.0</td>\n      <td>62.0</td>\n      <td>73.0</td>\n      <td>67.0</td>\n      <td>5000.0</td>\n      <td>65.0</td>\n      <td>2600000.0</td>\n      <td>51.0</td>\n      <td>66.0</td>\n    </tr>\n    <tr>\n      <th>18148</th>\n      <td>50.0</td>\n      <td>38.0</td>\n      <td>35.0</td>\n      <td>70.0</td>\n      <td>50.0</td>\n      <td>1000.0</td>\n      <td>26.0</td>\n      <td>230000.0</td>\n      <td>36.0</td>\n      <td>33.0</td>\n    </tr>\n  </tbody>\n</table>\n</div>"
     },
     "execution_count": 270,
     "metadata": {},
     "output_type": "execute_result"
    }
   ],
   "source": [
    "X_train.head()"
   ],
   "metadata": {
    "collapsed": false,
    "ExecuteTime": {
     "end_time": "2024-06-12T17:38:37.497288800Z",
     "start_time": "2024-06-12T17:38:37.414358300Z"
    }
   }
  },
  {
   "cell_type": "code",
   "execution_count": 271,
   "outputs": [
    {
     "data": {
      "text/plain": "18775    50.0\n17559    55.0\n7667     67.0\n2638     73.0\n18148    53.0\nName: overall, dtype: float64"
     },
     "execution_count": 271,
     "metadata": {},
     "output_type": "execute_result"
    }
   ],
   "source": [
    "y_train.head()"
   ],
   "metadata": {
    "collapsed": false,
    "ExecuteTime": {
     "end_time": "2024-06-12T17:38:37.498298400Z",
     "start_time": "2024-06-12T17:38:37.427162100Z"
    }
   }
  },
  {
   "cell_type": "code",
   "execution_count": 272,
   "outputs": [],
   "source": [
    "# Multi Linear Regression\n",
    "from sklearn.linear_model import LinearRegression\n",
    "\n",
    "l = LinearRegression()"
   ],
   "metadata": {
    "collapsed": false,
    "ExecuteTime": {
     "end_time": "2024-06-12T17:38:37.498298400Z",
     "start_time": "2024-06-12T17:38:37.437268200Z"
    }
   }
  },
  {
   "cell_type": "code",
   "execution_count": 273,
   "outputs": [
    {
     "data": {
      "text/plain": "LinearRegression()",
      "text/html": "<style>#sk-container-id-9 {\n  /* Definition of color scheme common for light and dark mode */\n  --sklearn-color-text: black;\n  --sklearn-color-line: gray;\n  /* Definition of color scheme for unfitted estimators */\n  --sklearn-color-unfitted-level-0: #fff5e6;\n  --sklearn-color-unfitted-level-1: #f6e4d2;\n  --sklearn-color-unfitted-level-2: #ffe0b3;\n  --sklearn-color-unfitted-level-3: chocolate;\n  /* Definition of color scheme for fitted estimators */\n  --sklearn-color-fitted-level-0: #f0f8ff;\n  --sklearn-color-fitted-level-1: #d4ebff;\n  --sklearn-color-fitted-level-2: #b3dbfd;\n  --sklearn-color-fitted-level-3: cornflowerblue;\n\n  /* Specific color for light theme */\n  --sklearn-color-text-on-default-background: var(--sg-text-color, var(--theme-code-foreground, var(--jp-content-font-color1, black)));\n  --sklearn-color-background: var(--sg-background-color, var(--theme-background, var(--jp-layout-color0, white)));\n  --sklearn-color-border-box: var(--sg-text-color, var(--theme-code-foreground, var(--jp-content-font-color1, black)));\n  --sklearn-color-icon: #696969;\n\n  @media (prefers-color-scheme: dark) {\n    /* Redefinition of color scheme for dark theme */\n    --sklearn-color-text-on-default-background: var(--sg-text-color, var(--theme-code-foreground, var(--jp-content-font-color1, white)));\n    --sklearn-color-background: var(--sg-background-color, var(--theme-background, var(--jp-layout-color0, #111)));\n    --sklearn-color-border-box: var(--sg-text-color, var(--theme-code-foreground, var(--jp-content-font-color1, white)));\n    --sklearn-color-icon: #878787;\n  }\n}\n\n#sk-container-id-9 {\n  color: var(--sklearn-color-text);\n}\n\n#sk-container-id-9 pre {\n  padding: 0;\n}\n\n#sk-container-id-9 input.sk-hidden--visually {\n  border: 0;\n  clip: rect(1px 1px 1px 1px);\n  clip: rect(1px, 1px, 1px, 1px);\n  height: 1px;\n  margin: -1px;\n  overflow: hidden;\n  padding: 0;\n  position: absolute;\n  width: 1px;\n}\n\n#sk-container-id-9 div.sk-dashed-wrapped {\n  border: 1px dashed var(--sklearn-color-line);\n  margin: 0 0.4em 0.5em 0.4em;\n  box-sizing: border-box;\n  padding-bottom: 0.4em;\n  background-color: var(--sklearn-color-background);\n}\n\n#sk-container-id-9 div.sk-container {\n  /* jupyter's `normalize.less` sets `[hidden] { display: none; }`\n     but bootstrap.min.css set `[hidden] { display: none !important; }`\n     so we also need the `!important` here to be able to override the\n     default hidden behavior on the sphinx rendered scikit-learn.org.\n     See: https://github.com/scikit-learn/scikit-learn/issues/21755 */\n  display: inline-block !important;\n  position: relative;\n}\n\n#sk-container-id-9 div.sk-text-repr-fallback {\n  display: none;\n}\n\ndiv.sk-parallel-item,\ndiv.sk-serial,\ndiv.sk-item {\n  /* draw centered vertical line to link estimators */\n  background-image: linear-gradient(var(--sklearn-color-text-on-default-background), var(--sklearn-color-text-on-default-background));\n  background-size: 2px 100%;\n  background-repeat: no-repeat;\n  background-position: center center;\n}\n\n/* Parallel-specific style estimator block */\n\n#sk-container-id-9 div.sk-parallel-item::after {\n  content: \"\";\n  width: 100%;\n  border-bottom: 2px solid var(--sklearn-color-text-on-default-background);\n  flex-grow: 1;\n}\n\n#sk-container-id-9 div.sk-parallel {\n  display: flex;\n  align-items: stretch;\n  justify-content: center;\n  background-color: var(--sklearn-color-background);\n  position: relative;\n}\n\n#sk-container-id-9 div.sk-parallel-item {\n  display: flex;\n  flex-direction: column;\n}\n\n#sk-container-id-9 div.sk-parallel-item:first-child::after {\n  align-self: flex-end;\n  width: 50%;\n}\n\n#sk-container-id-9 div.sk-parallel-item:last-child::after {\n  align-self: flex-start;\n  width: 50%;\n}\n\n#sk-container-id-9 div.sk-parallel-item:only-child::after {\n  width: 0;\n}\n\n/* Serial-specific style estimator block */\n\n#sk-container-id-9 div.sk-serial {\n  display: flex;\n  flex-direction: column;\n  align-items: center;\n  background-color: var(--sklearn-color-background);\n  padding-right: 1em;\n  padding-left: 1em;\n}\n\n\n/* Toggleable style: style used for estimator/Pipeline/ColumnTransformer box that is\nclickable and can be expanded/collapsed.\n- Pipeline and ColumnTransformer use this feature and define the default style\n- Estimators will overwrite some part of the style using the `sk-estimator` class\n*/\n\n/* Pipeline and ColumnTransformer style (default) */\n\n#sk-container-id-9 div.sk-toggleable {\n  /* Default theme specific background. It is overwritten whether we have a\n  specific estimator or a Pipeline/ColumnTransformer */\n  background-color: var(--sklearn-color-background);\n}\n\n/* Toggleable label */\n#sk-container-id-9 label.sk-toggleable__label {\n  cursor: pointer;\n  display: block;\n  width: 100%;\n  margin-bottom: 0;\n  padding: 0.5em;\n  box-sizing: border-box;\n  text-align: center;\n}\n\n#sk-container-id-9 label.sk-toggleable__label-arrow:before {\n  /* Arrow on the left of the label */\n  content: \"▸\";\n  float: left;\n  margin-right: 0.25em;\n  color: var(--sklearn-color-icon);\n}\n\n#sk-container-id-9 label.sk-toggleable__label-arrow:hover:before {\n  color: var(--sklearn-color-text);\n}\n\n/* Toggleable content - dropdown */\n\n#sk-container-id-9 div.sk-toggleable__content {\n  max-height: 0;\n  max-width: 0;\n  overflow: hidden;\n  text-align: left;\n  /* unfitted */\n  background-color: var(--sklearn-color-unfitted-level-0);\n}\n\n#sk-container-id-9 div.sk-toggleable__content.fitted {\n  /* fitted */\n  background-color: var(--sklearn-color-fitted-level-0);\n}\n\n#sk-container-id-9 div.sk-toggleable__content pre {\n  margin: 0.2em;\n  border-radius: 0.25em;\n  color: var(--sklearn-color-text);\n  /* unfitted */\n  background-color: var(--sklearn-color-unfitted-level-0);\n}\n\n#sk-container-id-9 div.sk-toggleable__content.fitted pre {\n  /* unfitted */\n  background-color: var(--sklearn-color-fitted-level-0);\n}\n\n#sk-container-id-9 input.sk-toggleable__control:checked~div.sk-toggleable__content {\n  /* Expand drop-down */\n  max-height: 200px;\n  max-width: 100%;\n  overflow: auto;\n}\n\n#sk-container-id-9 input.sk-toggleable__control:checked~label.sk-toggleable__label-arrow:before {\n  content: \"▾\";\n}\n\n/* Pipeline/ColumnTransformer-specific style */\n\n#sk-container-id-9 div.sk-label input.sk-toggleable__control:checked~label.sk-toggleable__label {\n  color: var(--sklearn-color-text);\n  background-color: var(--sklearn-color-unfitted-level-2);\n}\n\n#sk-container-id-9 div.sk-label.fitted input.sk-toggleable__control:checked~label.sk-toggleable__label {\n  background-color: var(--sklearn-color-fitted-level-2);\n}\n\n/* Estimator-specific style */\n\n/* Colorize estimator box */\n#sk-container-id-9 div.sk-estimator input.sk-toggleable__control:checked~label.sk-toggleable__label {\n  /* unfitted */\n  background-color: var(--sklearn-color-unfitted-level-2);\n}\n\n#sk-container-id-9 div.sk-estimator.fitted input.sk-toggleable__control:checked~label.sk-toggleable__label {\n  /* fitted */\n  background-color: var(--sklearn-color-fitted-level-2);\n}\n\n#sk-container-id-9 div.sk-label label.sk-toggleable__label,\n#sk-container-id-9 div.sk-label label {\n  /* The background is the default theme color */\n  color: var(--sklearn-color-text-on-default-background);\n}\n\n/* On hover, darken the color of the background */\n#sk-container-id-9 div.sk-label:hover label.sk-toggleable__label {\n  color: var(--sklearn-color-text);\n  background-color: var(--sklearn-color-unfitted-level-2);\n}\n\n/* Label box, darken color on hover, fitted */\n#sk-container-id-9 div.sk-label.fitted:hover label.sk-toggleable__label.fitted {\n  color: var(--sklearn-color-text);\n  background-color: var(--sklearn-color-fitted-level-2);\n}\n\n/* Estimator label */\n\n#sk-container-id-9 div.sk-label label {\n  font-family: monospace;\n  font-weight: bold;\n  display: inline-block;\n  line-height: 1.2em;\n}\n\n#sk-container-id-9 div.sk-label-container {\n  text-align: center;\n}\n\n/* Estimator-specific */\n#sk-container-id-9 div.sk-estimator {\n  font-family: monospace;\n  border: 1px dotted var(--sklearn-color-border-box);\n  border-radius: 0.25em;\n  box-sizing: border-box;\n  margin-bottom: 0.5em;\n  /* unfitted */\n  background-color: var(--sklearn-color-unfitted-level-0);\n}\n\n#sk-container-id-9 div.sk-estimator.fitted {\n  /* fitted */\n  background-color: var(--sklearn-color-fitted-level-0);\n}\n\n/* on hover */\n#sk-container-id-9 div.sk-estimator:hover {\n  /* unfitted */\n  background-color: var(--sklearn-color-unfitted-level-2);\n}\n\n#sk-container-id-9 div.sk-estimator.fitted:hover {\n  /* fitted */\n  background-color: var(--sklearn-color-fitted-level-2);\n}\n\n/* Specification for estimator info (e.g. \"i\" and \"?\") */\n\n/* Common style for \"i\" and \"?\" */\n\n.sk-estimator-doc-link,\na:link.sk-estimator-doc-link,\na:visited.sk-estimator-doc-link {\n  float: right;\n  font-size: smaller;\n  line-height: 1em;\n  font-family: monospace;\n  background-color: var(--sklearn-color-background);\n  border-radius: 1em;\n  height: 1em;\n  width: 1em;\n  text-decoration: none !important;\n  margin-left: 1ex;\n  /* unfitted */\n  border: var(--sklearn-color-unfitted-level-1) 1pt solid;\n  color: var(--sklearn-color-unfitted-level-1);\n}\n\n.sk-estimator-doc-link.fitted,\na:link.sk-estimator-doc-link.fitted,\na:visited.sk-estimator-doc-link.fitted {\n  /* fitted */\n  border: var(--sklearn-color-fitted-level-1) 1pt solid;\n  color: var(--sklearn-color-fitted-level-1);\n}\n\n/* On hover */\ndiv.sk-estimator:hover .sk-estimator-doc-link:hover,\n.sk-estimator-doc-link:hover,\ndiv.sk-label-container:hover .sk-estimator-doc-link:hover,\n.sk-estimator-doc-link:hover {\n  /* unfitted */\n  background-color: var(--sklearn-color-unfitted-level-3);\n  color: var(--sklearn-color-background);\n  text-decoration: none;\n}\n\ndiv.sk-estimator.fitted:hover .sk-estimator-doc-link.fitted:hover,\n.sk-estimator-doc-link.fitted:hover,\ndiv.sk-label-container:hover .sk-estimator-doc-link.fitted:hover,\n.sk-estimator-doc-link.fitted:hover {\n  /* fitted */\n  background-color: var(--sklearn-color-fitted-level-3);\n  color: var(--sklearn-color-background);\n  text-decoration: none;\n}\n\n/* Span, style for the box shown on hovering the info icon */\n.sk-estimator-doc-link span {\n  display: none;\n  z-index: 9999;\n  position: relative;\n  font-weight: normal;\n  right: .2ex;\n  padding: .5ex;\n  margin: .5ex;\n  width: min-content;\n  min-width: 20ex;\n  max-width: 50ex;\n  color: var(--sklearn-color-text);\n  box-shadow: 2pt 2pt 4pt #999;\n  /* unfitted */\n  background: var(--sklearn-color-unfitted-level-0);\n  border: .5pt solid var(--sklearn-color-unfitted-level-3);\n}\n\n.sk-estimator-doc-link.fitted span {\n  /* fitted */\n  background: var(--sklearn-color-fitted-level-0);\n  border: var(--sklearn-color-fitted-level-3);\n}\n\n.sk-estimator-doc-link:hover span {\n  display: block;\n}\n\n/* \"?\"-specific style due to the `<a>` HTML tag */\n\n#sk-container-id-9 a.estimator_doc_link {\n  float: right;\n  font-size: 1rem;\n  line-height: 1em;\n  font-family: monospace;\n  background-color: var(--sklearn-color-background);\n  border-radius: 1rem;\n  height: 1rem;\n  width: 1rem;\n  text-decoration: none;\n  /* unfitted */\n  color: var(--sklearn-color-unfitted-level-1);\n  border: var(--sklearn-color-unfitted-level-1) 1pt solid;\n}\n\n#sk-container-id-9 a.estimator_doc_link.fitted {\n  /* fitted */\n  border: var(--sklearn-color-fitted-level-1) 1pt solid;\n  color: var(--sklearn-color-fitted-level-1);\n}\n\n/* On hover */\n#sk-container-id-9 a.estimator_doc_link:hover {\n  /* unfitted */\n  background-color: var(--sklearn-color-unfitted-level-3);\n  color: var(--sklearn-color-background);\n  text-decoration: none;\n}\n\n#sk-container-id-9 a.estimator_doc_link.fitted:hover {\n  /* fitted */\n  background-color: var(--sklearn-color-fitted-level-3);\n}\n</style><div id=\"sk-container-id-9\" class=\"sk-top-container\"><div class=\"sk-text-repr-fallback\"><pre>LinearRegression()</pre><b>In a Jupyter environment, please rerun this cell to show the HTML representation or trust the notebook. <br />On GitHub, the HTML representation is unable to render, please try loading this page with nbviewer.org.</b></div><div class=\"sk-container\" hidden><div class=\"sk-item\"><div class=\"sk-estimator fitted sk-toggleable\"><input class=\"sk-toggleable__control sk-hidden--visually\" id=\"sk-estimator-id-25\" type=\"checkbox\" checked><label for=\"sk-estimator-id-25\" class=\"sk-toggleable__label fitted sk-toggleable__label-arrow fitted\">&nbsp;&nbsp;LinearRegression<a class=\"sk-estimator-doc-link fitted\" rel=\"noreferrer\" target=\"_blank\" href=\"https://scikit-learn.org/1.5/modules/generated/sklearn.linear_model.LinearRegression.html\">?<span>Documentation for LinearRegression</span></a><span class=\"sk-estimator-doc-link fitted\">i<span>Fitted</span></span></label><div class=\"sk-toggleable__content fitted\"><pre>LinearRegression()</pre></div> </div></div></div></div>"
     },
     "execution_count": 273,
     "metadata": {},
     "output_type": "execute_result"
    }
   ],
   "source": [
    "l.fit(X_train,y_train)"
   ],
   "metadata": {
    "collapsed": false,
    "ExecuteTime": {
     "end_time": "2024-06-12T17:38:37.556391100Z",
     "start_time": "2024-06-12T17:38:37.440784200Z"
    }
   }
  },
  {
   "cell_type": "code",
   "execution_count": 274,
   "outputs": [],
   "source": [
    "y_pred = l.predict(X_test)"
   ],
   "metadata": {
    "collapsed": false,
    "ExecuteTime": {
     "end_time": "2024-06-12T17:38:37.557390100Z",
     "start_time": "2024-06-12T17:38:37.467153200Z"
    }
   }
  },
  {
   "cell_type": "code",
   "execution_count": 275,
   "outputs": [
    {
     "data": {
      "text/plain": "Index(['movement_reactions', 'mentality_composure', 'passing', 'potential',\n       'dribbling', 'wage_eur', 'power_shot_power', 'value_eur',\n       'mentality_vision', 'attacking_short_passing'],\n      dtype='object')"
     },
     "execution_count": 275,
     "metadata": {},
     "output_type": "execute_result"
    }
   ],
   "source": [
    "X_train.columns"
   ],
   "metadata": {
    "collapsed": false,
    "ExecuteTime": {
     "end_time": "2024-06-12T17:38:37.557390100Z",
     "start_time": "2024-06-12T17:38:37.473634Z"
    }
   }
  },
  {
   "cell_type": "code",
   "execution_count": 276,
   "outputs": [
    {
     "name": "stdout",
     "output_type": "stream",
     "text": [
      "Intercept: 12.18626317635458\n",
      "Coefficients: [ 3.98773208e-01  1.24926264e-01  1.77295873e-01  2.17383246e-01\n",
      "  1.50367741e-02  2.95003183e-05  3.17512301e-02  1.01844654e-08\n",
      " -1.08163145e-01 -2.00265850e-02]\n"
     ]
    }
   ],
   "source": [
    "intercept = l.intercept_\n",
    "\n",
    "coefficients = l.coef_\n",
    "\n",
    "print(f\"Intercept: {intercept}\")\n",
    "print(f\"Coefficients: {coefficients}\")"
   ],
   "metadata": {
    "collapsed": false,
    "ExecuteTime": {
     "end_time": "2024-06-12T17:38:37.557390100Z",
     "start_time": "2024-06-12T17:38:37.479816Z"
    }
   }
  },
  {
   "cell_type": "code",
   "execution_count": 277,
   "outputs": [],
   "source": [
    "from sklearn.metrics import mean_absolute_error, mean_squared_error, r2_score"
   ],
   "metadata": {
    "collapsed": false,
    "ExecuteTime": {
     "end_time": "2024-06-12T17:38:37.557390100Z",
     "start_time": "2024-06-12T17:38:37.487272500Z"
    }
   }
  },
  {
   "cell_type": "code",
   "execution_count": 278,
   "outputs": [
    {
     "name": "stdout",
     "output_type": "stream",
     "text": [
      "\n",
      "Mean Absolute Error = 2.0793346402707384,\n",
      "Mean Squared Error = 7.150381288414989,\n",
      "Root Mean Squared Error = 2.6740196873648836,\n",
      "R2 Score = 0.8277122643706206\n",
      "\n"
     ]
    }
   ],
   "source": [
    "print(f\"\"\"\n",
    "Mean Absolute Error = {mean_absolute_error(y_pred,y_test)},\n",
    "Mean Squared Error = {mean_squared_error(y_pred,y_test)},\n",
    "Root Mean Squared Error = {np.sqrt(mean_squared_error(y_pred,y_test))},\n",
    "R2 Score = {r2_score(y_pred,y_test)}\n",
    "\"\"\")"
   ],
   "metadata": {
    "collapsed": false,
    "ExecuteTime": {
     "end_time": "2024-06-12T17:38:37.561399700Z",
     "start_time": "2024-06-12T17:38:37.491421100Z"
    }
   }
  },
  {
   "cell_type": "code",
   "execution_count": 279,
   "outputs": [],
   "source": [
    "# Polynomial Regression\n",
    "\n",
    "from sklearn.pipeline import make_pipeline\n",
    "from sklearn.preprocessing import PolynomialFeatures\n",
    "\n",
    "poly_pipeline = make_pipeline(PolynomialFeatures(degree=3), LinearRegression())\n",
    "\n",
    "poly = PolynomialFeatures(degree=1)\n",
    "X_poly_train = poly.fit_transform(X_train)\n",
    "X_poly_test = poly.fit_transform(X_test)\n",
    "\n",
    "\n",
    "model = LinearRegression()\n",
    "model.fit(X_poly_train, y_train)\n",
    "\n",
    "\n",
    "y_pred = model.predict(X_poly_test)"
   ],
   "metadata": {
    "collapsed": false,
    "ExecuteTime": {
     "end_time": "2024-06-12T17:38:37.720589900Z",
     "start_time": "2024-06-12T17:38:37.502300100Z"
    }
   }
  },
  {
   "cell_type": "code",
   "execution_count": 280,
   "outputs": [
    {
     "name": "stdout",
     "output_type": "stream",
     "text": [
      "\n",
      "Mean Absolute Error = 2.0793346402648187,\n",
      "Mean Squared Error = 7.150381288403349,\n",
      "Root Mean Squared Error = 2.6740196873627067,\n",
      "R2 Score = 0.8277122643654089\n",
      "\n"
     ]
    }
   ],
   "source": [
    "print(f\"\"\"\n",
    "Mean Absolute Error = {mean_absolute_error(y_pred, y_test)},\n",
    "Mean Squared Error = {mean_squared_error(y_pred, y_test)},\n",
    "Root Mean Squared Error = {np.sqrt(mean_squared_error(y_pred, y_test))},\n",
    "R2 Score = {r2_score(y_pred, y_test)}\n",
    "\"\"\")"
   ],
   "metadata": {
    "collapsed": false,
    "ExecuteTime": {
     "end_time": "2024-06-12T17:38:37.720589900Z",
     "start_time": "2024-06-12T17:38:37.539717200Z"
    }
   }
  },
  {
   "cell_type": "code",
   "execution_count": 281,
   "outputs": [
    {
     "name": "stdout",
     "output_type": "stream",
     "text": [
      "\n",
      "Mean Absolute Error = 1.6677596592973885,\n",
      "Mean Squared Error = 4.851072388091284,\n",
      "Root Mean Squared Error = 2.202515014271477,\n",
      "R2 Score = 0.8875824702950315\n",
      "\n"
     ]
    }
   ],
   "source": [
    "poly = PolynomialFeatures(degree=2)\n",
    "X_poly_train = poly.fit_transform(X_train)\n",
    "X_poly_test = poly.fit_transform(X_test)\n",
    "\n",
    "model = LinearRegression()\n",
    "model.fit(X_poly_train, y_train)\n",
    "\n",
    "y_pred = model.predict(X_poly_test)\n",
    "print(f\"\"\"\n",
    "Mean Absolute Error = {mean_absolute_error(y_pred, y_test)},\n",
    "Mean Squared Error = {mean_squared_error(y_pred, y_test)},\n",
    "Root Mean Squared Error = {np.sqrt(mean_squared_error(y_pred, y_test))},\n",
    "R2 Score = {r2_score(y_pred, y_test)}\n",
    "\"\"\")"
   ],
   "metadata": {
    "collapsed": false,
    "ExecuteTime": {
     "end_time": "2024-06-12T17:38:37.882266600Z",
     "start_time": "2024-06-12T17:38:37.539717200Z"
    }
   }
  },
  {
   "cell_type": "code",
   "execution_count": 282,
   "outputs": [
    {
     "name": "stdout",
     "output_type": "stream",
     "text": [
      "\n",
      "Mean Absolute Error = 5.992396814264434,\n",
      "Mean Squared Error = 360.98840809326964,\n",
      "Root Mean Squared Error = 18.999694947374014,\n",
      "R2 Score = 0.04069006019949495\n",
      "\n"
     ]
    }
   ],
   "source": [
    "poly = PolynomialFeatures(degree=3)\n",
    "X_poly_train = poly.fit_transform(X_train)\n",
    "X_poly_test = poly.fit_transform(X_test)\n",
    "\n",
    "model = LinearRegression()\n",
    "model.fit(X_poly_train, y_train)\n",
    "\n",
    "y_pred = model.predict(X_poly_test)\n",
    "print(f\"\"\"\n",
    "Mean Absolute Error = {mean_absolute_error(y_pred, y_test)},\n",
    "Mean Squared Error = {mean_squared_error(y_pred, y_test)},\n",
    "Root Mean Squared Error = {np.sqrt(mean_squared_error(y_pred, y_test))},\n",
    "R2 Score = {r2_score(y_pred, y_test)}\n",
    "\"\"\")"
   ],
   "metadata": {
    "collapsed": false,
    "ExecuteTime": {
     "end_time": "2024-06-12T17:38:38.124160800Z",
     "start_time": "2024-06-12T17:38:37.868259300Z"
    }
   }
  },
  {
   "cell_type": "code",
   "execution_count": 283,
   "outputs": [],
   "source": [
    "# Regularisation Models\n",
    "from sklearn.linear_model import ElasticNet, Lasso, Ridge\n",
    "\n",
    "\n",
    "model1 = Ridge()\n",
    "model1.fit(X_train, y_train)\n",
    "\n",
    "\n",
    "y_pred = model1.predict(X_test)"
   ],
   "metadata": {
    "collapsed": false,
    "ExecuteTime": {
     "end_time": "2024-06-12T17:38:38.133308500Z",
     "start_time": "2024-06-12T17:38:38.124160800Z"
    }
   }
  },
  {
   "cell_type": "code",
   "execution_count": 284,
   "outputs": [
    {
     "name": "stdout",
     "output_type": "stream",
     "text": [
      "\n",
      "Mean Absolute Error = 2.07933449674686,\n",
      "Mean Squared Error = 7.15038140143443,\n",
      "Root Mean Squared Error = 2.6740197084977573,\n",
      "R2 Score = 0.8277121283746938\n",
      "\n"
     ]
    }
   ],
   "source": [
    "print(f\"\"\"\n",
    "Mean Absolute Error = {mean_absolute_error(y_pred,y_test)},\n",
    "Mean Squared Error = {mean_squared_error(y_pred,y_test)},\n",
    "Root Mean Squared Error = {np.sqrt(mean_squared_error(y_pred,y_test))},\n",
    "R2 Score = {r2_score(y_pred,y_test)}\n",
    "\"\"\")"
   ],
   "metadata": {
    "collapsed": false,
    "ExecuteTime": {
     "end_time": "2024-06-12T17:38:38.142478500Z",
     "start_time": "2024-06-12T17:38:38.135308600Z"
    }
   }
  },
  {
   "cell_type": "code",
   "execution_count": 285,
   "outputs": [
    {
     "name": "stdout",
     "output_type": "stream",
     "text": [
      "\n",
      "Mean Absolute Error = 2.0891808196171135,\n",
      "Mean Squared Error = 7.2941080742387046,\n",
      "Root Mean Squared Error = 2.7007606473433934,\n",
      "R2 Score = 0.8161825869148481\n",
      "\n"
     ]
    }
   ],
   "source": [
    "model2 = Lasso()\n",
    "model2.fit(X_train, y_train)\n",
    "\n",
    "\n",
    "y_pred = model2.predict(X_test)\n",
    "\n",
    "print(f\"\"\"\n",
    "Mean Absolute Error = {mean_absolute_error(y_pred,y_test)},\n",
    "Mean Squared Error = {mean_squared_error(y_pred,y_test)},\n",
    "Root Mean Squared Error = {np.sqrt(mean_squared_error(y_pred,y_test))},\n",
    "R2 Score = {r2_score(y_pred,y_test)}\n",
    "\"\"\")"
   ],
   "metadata": {
    "collapsed": false,
    "ExecuteTime": {
     "end_time": "2024-06-12T17:38:38.356794400Z",
     "start_time": "2024-06-12T17:38:38.144478300Z"
    }
   }
  },
  {
   "cell_type": "code",
   "execution_count": 286,
   "outputs": [
    {
     "name": "stdout",
     "output_type": "stream",
     "text": [
      "\n",
      "Mean Absolute Error = 2.0788078668034884,\n",
      "Mean Squared Error = 7.19745424183022,\n",
      "Root Mean Squared Error = 2.6828071570335092,\n",
      "R2 Score = 0.8215580254594149\n",
      "\n"
     ]
    }
   ],
   "source": [
    "model3 = ElasticNet()\n",
    "model3.fit(X_train, y_train)\n",
    "\n",
    "\n",
    "y_pred = model3.predict(X_test)\n",
    "\n",
    "print(f\"\"\"\n",
    "Mean Absolute Error = {mean_absolute_error(y_pred,y_test)},\n",
    "Mean Squared Error = {mean_squared_error(y_pred,y_test)},\n",
    "Root Mean Squared Error = {np.sqrt(mean_squared_error(y_pred,y_test))},\n",
    "R2 Score = {r2_score(y_pred,y_test)}\n",
    "\"\"\")"
   ],
   "metadata": {
    "collapsed": false,
    "ExecuteTime": {
     "end_time": "2024-06-12T17:38:38.456819600Z",
     "start_time": "2024-06-12T17:38:38.357795600Z"
    }
   }
  },
  {
   "cell_type": "code",
   "execution_count": 287,
   "outputs": [],
   "source": [
    "from sklearn.tree import DecisionTreeRegressor\n",
    "dtree = DecisionTreeRegressor(max_depth=2000)"
   ],
   "metadata": {
    "collapsed": false,
    "ExecuteTime": {
     "end_time": "2024-06-12T17:38:38.460187600Z",
     "start_time": "2024-06-12T17:38:38.457821100Z"
    }
   }
  },
  {
   "cell_type": "code",
   "execution_count": 288,
   "outputs": [
    {
     "data": {
      "text/plain": "DecisionTreeRegressor(max_depth=2000)",
      "text/html": "<style>#sk-container-id-10 {\n  /* Definition of color scheme common for light and dark mode */\n  --sklearn-color-text: black;\n  --sklearn-color-line: gray;\n  /* Definition of color scheme for unfitted estimators */\n  --sklearn-color-unfitted-level-0: #fff5e6;\n  --sklearn-color-unfitted-level-1: #f6e4d2;\n  --sklearn-color-unfitted-level-2: #ffe0b3;\n  --sklearn-color-unfitted-level-3: chocolate;\n  /* Definition of color scheme for fitted estimators */\n  --sklearn-color-fitted-level-0: #f0f8ff;\n  --sklearn-color-fitted-level-1: #d4ebff;\n  --sklearn-color-fitted-level-2: #b3dbfd;\n  --sklearn-color-fitted-level-3: cornflowerblue;\n\n  /* Specific color for light theme */\n  --sklearn-color-text-on-default-background: var(--sg-text-color, var(--theme-code-foreground, var(--jp-content-font-color1, black)));\n  --sklearn-color-background: var(--sg-background-color, var(--theme-background, var(--jp-layout-color0, white)));\n  --sklearn-color-border-box: var(--sg-text-color, var(--theme-code-foreground, var(--jp-content-font-color1, black)));\n  --sklearn-color-icon: #696969;\n\n  @media (prefers-color-scheme: dark) {\n    /* Redefinition of color scheme for dark theme */\n    --sklearn-color-text-on-default-background: var(--sg-text-color, var(--theme-code-foreground, var(--jp-content-font-color1, white)));\n    --sklearn-color-background: var(--sg-background-color, var(--theme-background, var(--jp-layout-color0, #111)));\n    --sklearn-color-border-box: var(--sg-text-color, var(--theme-code-foreground, var(--jp-content-font-color1, white)));\n    --sklearn-color-icon: #878787;\n  }\n}\n\n#sk-container-id-10 {\n  color: var(--sklearn-color-text);\n}\n\n#sk-container-id-10 pre {\n  padding: 0;\n}\n\n#sk-container-id-10 input.sk-hidden--visually {\n  border: 0;\n  clip: rect(1px 1px 1px 1px);\n  clip: rect(1px, 1px, 1px, 1px);\n  height: 1px;\n  margin: -1px;\n  overflow: hidden;\n  padding: 0;\n  position: absolute;\n  width: 1px;\n}\n\n#sk-container-id-10 div.sk-dashed-wrapped {\n  border: 1px dashed var(--sklearn-color-line);\n  margin: 0 0.4em 0.5em 0.4em;\n  box-sizing: border-box;\n  padding-bottom: 0.4em;\n  background-color: var(--sklearn-color-background);\n}\n\n#sk-container-id-10 div.sk-container {\n  /* jupyter's `normalize.less` sets `[hidden] { display: none; }`\n     but bootstrap.min.css set `[hidden] { display: none !important; }`\n     so we also need the `!important` here to be able to override the\n     default hidden behavior on the sphinx rendered scikit-learn.org.\n     See: https://github.com/scikit-learn/scikit-learn/issues/21755 */\n  display: inline-block !important;\n  position: relative;\n}\n\n#sk-container-id-10 div.sk-text-repr-fallback {\n  display: none;\n}\n\ndiv.sk-parallel-item,\ndiv.sk-serial,\ndiv.sk-item {\n  /* draw centered vertical line to link estimators */\n  background-image: linear-gradient(var(--sklearn-color-text-on-default-background), var(--sklearn-color-text-on-default-background));\n  background-size: 2px 100%;\n  background-repeat: no-repeat;\n  background-position: center center;\n}\n\n/* Parallel-specific style estimator block */\n\n#sk-container-id-10 div.sk-parallel-item::after {\n  content: \"\";\n  width: 100%;\n  border-bottom: 2px solid var(--sklearn-color-text-on-default-background);\n  flex-grow: 1;\n}\n\n#sk-container-id-10 div.sk-parallel {\n  display: flex;\n  align-items: stretch;\n  justify-content: center;\n  background-color: var(--sklearn-color-background);\n  position: relative;\n}\n\n#sk-container-id-10 div.sk-parallel-item {\n  display: flex;\n  flex-direction: column;\n}\n\n#sk-container-id-10 div.sk-parallel-item:first-child::after {\n  align-self: flex-end;\n  width: 50%;\n}\n\n#sk-container-id-10 div.sk-parallel-item:last-child::after {\n  align-self: flex-start;\n  width: 50%;\n}\n\n#sk-container-id-10 div.sk-parallel-item:only-child::after {\n  width: 0;\n}\n\n/* Serial-specific style estimator block */\n\n#sk-container-id-10 div.sk-serial {\n  display: flex;\n  flex-direction: column;\n  align-items: center;\n  background-color: var(--sklearn-color-background);\n  padding-right: 1em;\n  padding-left: 1em;\n}\n\n\n/* Toggleable style: style used for estimator/Pipeline/ColumnTransformer box that is\nclickable and can be expanded/collapsed.\n- Pipeline and ColumnTransformer use this feature and define the default style\n- Estimators will overwrite some part of the style using the `sk-estimator` class\n*/\n\n/* Pipeline and ColumnTransformer style (default) */\n\n#sk-container-id-10 div.sk-toggleable {\n  /* Default theme specific background. It is overwritten whether we have a\n  specific estimator or a Pipeline/ColumnTransformer */\n  background-color: var(--sklearn-color-background);\n}\n\n/* Toggleable label */\n#sk-container-id-10 label.sk-toggleable__label {\n  cursor: pointer;\n  display: block;\n  width: 100%;\n  margin-bottom: 0;\n  padding: 0.5em;\n  box-sizing: border-box;\n  text-align: center;\n}\n\n#sk-container-id-10 label.sk-toggleable__label-arrow:before {\n  /* Arrow on the left of the label */\n  content: \"▸\";\n  float: left;\n  margin-right: 0.25em;\n  color: var(--sklearn-color-icon);\n}\n\n#sk-container-id-10 label.sk-toggleable__label-arrow:hover:before {\n  color: var(--sklearn-color-text);\n}\n\n/* Toggleable content - dropdown */\n\n#sk-container-id-10 div.sk-toggleable__content {\n  max-height: 0;\n  max-width: 0;\n  overflow: hidden;\n  text-align: left;\n  /* unfitted */\n  background-color: var(--sklearn-color-unfitted-level-0);\n}\n\n#sk-container-id-10 div.sk-toggleable__content.fitted {\n  /* fitted */\n  background-color: var(--sklearn-color-fitted-level-0);\n}\n\n#sk-container-id-10 div.sk-toggleable__content pre {\n  margin: 0.2em;\n  border-radius: 0.25em;\n  color: var(--sklearn-color-text);\n  /* unfitted */\n  background-color: var(--sklearn-color-unfitted-level-0);\n}\n\n#sk-container-id-10 div.sk-toggleable__content.fitted pre {\n  /* unfitted */\n  background-color: var(--sklearn-color-fitted-level-0);\n}\n\n#sk-container-id-10 input.sk-toggleable__control:checked~div.sk-toggleable__content {\n  /* Expand drop-down */\n  max-height: 200px;\n  max-width: 100%;\n  overflow: auto;\n}\n\n#sk-container-id-10 input.sk-toggleable__control:checked~label.sk-toggleable__label-arrow:before {\n  content: \"▾\";\n}\n\n/* Pipeline/ColumnTransformer-specific style */\n\n#sk-container-id-10 div.sk-label input.sk-toggleable__control:checked~label.sk-toggleable__label {\n  color: var(--sklearn-color-text);\n  background-color: var(--sklearn-color-unfitted-level-2);\n}\n\n#sk-container-id-10 div.sk-label.fitted input.sk-toggleable__control:checked~label.sk-toggleable__label {\n  background-color: var(--sklearn-color-fitted-level-2);\n}\n\n/* Estimator-specific style */\n\n/* Colorize estimator box */\n#sk-container-id-10 div.sk-estimator input.sk-toggleable__control:checked~label.sk-toggleable__label {\n  /* unfitted */\n  background-color: var(--sklearn-color-unfitted-level-2);\n}\n\n#sk-container-id-10 div.sk-estimator.fitted input.sk-toggleable__control:checked~label.sk-toggleable__label {\n  /* fitted */\n  background-color: var(--sklearn-color-fitted-level-2);\n}\n\n#sk-container-id-10 div.sk-label label.sk-toggleable__label,\n#sk-container-id-10 div.sk-label label {\n  /* The background is the default theme color */\n  color: var(--sklearn-color-text-on-default-background);\n}\n\n/* On hover, darken the color of the background */\n#sk-container-id-10 div.sk-label:hover label.sk-toggleable__label {\n  color: var(--sklearn-color-text);\n  background-color: var(--sklearn-color-unfitted-level-2);\n}\n\n/* Label box, darken color on hover, fitted */\n#sk-container-id-10 div.sk-label.fitted:hover label.sk-toggleable__label.fitted {\n  color: var(--sklearn-color-text);\n  background-color: var(--sklearn-color-fitted-level-2);\n}\n\n/* Estimator label */\n\n#sk-container-id-10 div.sk-label label {\n  font-family: monospace;\n  font-weight: bold;\n  display: inline-block;\n  line-height: 1.2em;\n}\n\n#sk-container-id-10 div.sk-label-container {\n  text-align: center;\n}\n\n/* Estimator-specific */\n#sk-container-id-10 div.sk-estimator {\n  font-family: monospace;\n  border: 1px dotted var(--sklearn-color-border-box);\n  border-radius: 0.25em;\n  box-sizing: border-box;\n  margin-bottom: 0.5em;\n  /* unfitted */\n  background-color: var(--sklearn-color-unfitted-level-0);\n}\n\n#sk-container-id-10 div.sk-estimator.fitted {\n  /* fitted */\n  background-color: var(--sklearn-color-fitted-level-0);\n}\n\n/* on hover */\n#sk-container-id-10 div.sk-estimator:hover {\n  /* unfitted */\n  background-color: var(--sklearn-color-unfitted-level-2);\n}\n\n#sk-container-id-10 div.sk-estimator.fitted:hover {\n  /* fitted */\n  background-color: var(--sklearn-color-fitted-level-2);\n}\n\n/* Specification for estimator info (e.g. \"i\" and \"?\") */\n\n/* Common style for \"i\" and \"?\" */\n\n.sk-estimator-doc-link,\na:link.sk-estimator-doc-link,\na:visited.sk-estimator-doc-link {\n  float: right;\n  font-size: smaller;\n  line-height: 1em;\n  font-family: monospace;\n  background-color: var(--sklearn-color-background);\n  border-radius: 1em;\n  height: 1em;\n  width: 1em;\n  text-decoration: none !important;\n  margin-left: 1ex;\n  /* unfitted */\n  border: var(--sklearn-color-unfitted-level-1) 1pt solid;\n  color: var(--sklearn-color-unfitted-level-1);\n}\n\n.sk-estimator-doc-link.fitted,\na:link.sk-estimator-doc-link.fitted,\na:visited.sk-estimator-doc-link.fitted {\n  /* fitted */\n  border: var(--sklearn-color-fitted-level-1) 1pt solid;\n  color: var(--sklearn-color-fitted-level-1);\n}\n\n/* On hover */\ndiv.sk-estimator:hover .sk-estimator-doc-link:hover,\n.sk-estimator-doc-link:hover,\ndiv.sk-label-container:hover .sk-estimator-doc-link:hover,\n.sk-estimator-doc-link:hover {\n  /* unfitted */\n  background-color: var(--sklearn-color-unfitted-level-3);\n  color: var(--sklearn-color-background);\n  text-decoration: none;\n}\n\ndiv.sk-estimator.fitted:hover .sk-estimator-doc-link.fitted:hover,\n.sk-estimator-doc-link.fitted:hover,\ndiv.sk-label-container:hover .sk-estimator-doc-link.fitted:hover,\n.sk-estimator-doc-link.fitted:hover {\n  /* fitted */\n  background-color: var(--sklearn-color-fitted-level-3);\n  color: var(--sklearn-color-background);\n  text-decoration: none;\n}\n\n/* Span, style for the box shown on hovering the info icon */\n.sk-estimator-doc-link span {\n  display: none;\n  z-index: 9999;\n  position: relative;\n  font-weight: normal;\n  right: .2ex;\n  padding: .5ex;\n  margin: .5ex;\n  width: min-content;\n  min-width: 20ex;\n  max-width: 50ex;\n  color: var(--sklearn-color-text);\n  box-shadow: 2pt 2pt 4pt #999;\n  /* unfitted */\n  background: var(--sklearn-color-unfitted-level-0);\n  border: .5pt solid var(--sklearn-color-unfitted-level-3);\n}\n\n.sk-estimator-doc-link.fitted span {\n  /* fitted */\n  background: var(--sklearn-color-fitted-level-0);\n  border: var(--sklearn-color-fitted-level-3);\n}\n\n.sk-estimator-doc-link:hover span {\n  display: block;\n}\n\n/* \"?\"-specific style due to the `<a>` HTML tag */\n\n#sk-container-id-10 a.estimator_doc_link {\n  float: right;\n  font-size: 1rem;\n  line-height: 1em;\n  font-family: monospace;\n  background-color: var(--sklearn-color-background);\n  border-radius: 1rem;\n  height: 1rem;\n  width: 1rem;\n  text-decoration: none;\n  /* unfitted */\n  color: var(--sklearn-color-unfitted-level-1);\n  border: var(--sklearn-color-unfitted-level-1) 1pt solid;\n}\n\n#sk-container-id-10 a.estimator_doc_link.fitted {\n  /* fitted */\n  border: var(--sklearn-color-fitted-level-1) 1pt solid;\n  color: var(--sklearn-color-fitted-level-1);\n}\n\n/* On hover */\n#sk-container-id-10 a.estimator_doc_link:hover {\n  /* unfitted */\n  background-color: var(--sklearn-color-unfitted-level-3);\n  color: var(--sklearn-color-background);\n  text-decoration: none;\n}\n\n#sk-container-id-10 a.estimator_doc_link.fitted:hover {\n  /* fitted */\n  background-color: var(--sklearn-color-fitted-level-3);\n}\n</style><div id=\"sk-container-id-10\" class=\"sk-top-container\"><div class=\"sk-text-repr-fallback\"><pre>DecisionTreeRegressor(max_depth=2000)</pre><b>In a Jupyter environment, please rerun this cell to show the HTML representation or trust the notebook. <br />On GitHub, the HTML representation is unable to render, please try loading this page with nbviewer.org.</b></div><div class=\"sk-container\" hidden><div class=\"sk-item\"><div class=\"sk-estimator fitted sk-toggleable\"><input class=\"sk-toggleable__control sk-hidden--visually\" id=\"sk-estimator-id-26\" type=\"checkbox\" checked><label for=\"sk-estimator-id-26\" class=\"sk-toggleable__label fitted sk-toggleable__label-arrow fitted\">&nbsp;&nbsp;DecisionTreeRegressor<a class=\"sk-estimator-doc-link fitted\" rel=\"noreferrer\" target=\"_blank\" href=\"https://scikit-learn.org/1.5/modules/generated/sklearn.tree.DecisionTreeRegressor.html\">?<span>Documentation for DecisionTreeRegressor</span></a><span class=\"sk-estimator-doc-link fitted\">i<span>Fitted</span></span></label><div class=\"sk-toggleable__content fitted\"><pre>DecisionTreeRegressor(max_depth=2000)</pre></div> </div></div></div></div>"
     },
     "execution_count": 288,
     "metadata": {},
     "output_type": "execute_result"
    }
   ],
   "source": [
    "dtree.fit(X_train, y_train)"
   ],
   "metadata": {
    "collapsed": false,
    "ExecuteTime": {
     "end_time": "2024-06-12T17:38:38.552028100Z",
     "start_time": "2024-06-12T17:38:38.462188800Z"
    }
   }
  },
  {
   "cell_type": "code",
   "execution_count": 289,
   "outputs": [
    {
     "name": "stdout",
     "output_type": "stream",
     "text": [
      "\n",
      "Mean Absolute Error = 0.8701504354711006,\n",
      "Mean Squared Error = 3.02164159408815,\n",
      "Root Mean Squared Error = 1.7382869711552664,\n",
      "R2 Score = 0.9357177722516008\n",
      "\n"
     ]
    }
   ],
   "source": [
    "y_pred = dtree.predict(X_test)\n",
    "print(f\"\"\"\n",
    "Mean Absolute Error = {mean_absolute_error(y_pred,y_test)},\n",
    "Mean Squared Error = {mean_squared_error(y_pred,y_test)},\n",
    "Root Mean Squared Error = {np.sqrt(mean_squared_error(y_pred,y_test))},\n",
    "R2 Score = {r2_score(y_pred,y_test)}\n",
    "\"\"\")"
   ],
   "metadata": {
    "collapsed": false,
    "ExecuteTime": {
     "end_time": "2024-06-12T17:38:38.563275100Z",
     "start_time": "2024-06-12T17:38:38.554036300Z"
    }
   }
  },
  {
   "cell_type": "code",
   "execution_count": 290,
   "outputs": [
    {
     "name": "stdout",
     "output_type": "stream",
     "text": [
      "\n",
      "Mean Absolute Error = 1.4135655845869624,\n",
      "Mean Squared Error = 5.09633148588018,\n",
      "Root Mean Squared Error = 2.257505589335313,\n",
      "R2 Score = 0.8939749974352199\n",
      "\n"
     ]
    }
   ],
   "source": [
    "from sklearn.ensemble import StackingRegressor\n",
    "\n",
    "\n",
    "estimators = [\n",
    "    ('lr', l),\n",
    "    ('poly', poly_pipeline),\n",
    "    ('rm1', model1),\n",
    "    ('rm2', model2),\n",
    "    ('rm3', model3),\n",
    "    ('dt', dtree)\n",
    "]\n",
    "\n",
    "\n",
    "stacking_model = StackingRegressor(estimators=estimators, final_estimator=DecisionTreeRegressor\n",
    "(max_depth=10000000000000000))\n",
    "\n",
    "\n",
    "stacking_model.fit(X_train, y_train)\n",
    "\n",
    "\n",
    "y_pred = stacking_model.predict(X_test)\n",
    "\n",
    "\n",
    "print(f\"\"\"\n",
    "Mean Absolute Error = {mean_absolute_error(y_pred,y_test)},\n",
    "Mean Squared Error = {mean_squared_error(y_pred,y_test)},\n",
    "Root Mean Squared Error = {np.sqrt(mean_squared_error(y_pred,y_test))},\n",
    "R2 Score = {r2_score(y_pred,y_test)}\n",
    "\"\"\")"
   ],
   "metadata": {
    "collapsed": false,
    "ExecuteTime": {
     "end_time": "2024-06-12T17:38:41.601807800Z",
     "start_time": "2024-06-12T17:38:38.567775900Z"
    }
   }
  },
  {
   "cell_type": "code",
   "execution_count": 291,
   "outputs": [
    {
     "name": "stdout",
     "output_type": "stream",
     "text": [
      "Mean CV Score (Negative MSE): -3.8081821181128332\n",
      "Standard Deviation of CV Scores: 0.4274440434980664\n"
     ]
    }
   ],
   "source": [
    "from sklearn.model_selection import cross_val_score, GridSearchCV\n",
    "\n",
    "\n",
    "cv_scores = cross_val_score(stacking_model, X_train_scaled, y_train, cv=5, scoring='neg_mean_squared_error')\n",
    "\n",
    "\n",
    "mean_cv_score = np.mean(cv_scores)\n",
    "std_cv_score = np.std(cv_scores)\n",
    "\n",
    "print(f\"Mean CV Score (Negative MSE): {mean_cv_score}\")\n",
    "print(f\"Standard Deviation of CV Scores: {std_cv_score}\")"
   ],
   "metadata": {
    "collapsed": false,
    "ExecuteTime": {
     "end_time": "2024-06-12T17:38:49.172212400Z",
     "start_time": "2024-06-12T17:38:41.607811Z"
    }
   }
  },
  {
   "cell_type": "code",
   "execution_count": 292,
   "outputs": [
    {
     "name": "stdout",
     "output_type": "stream",
     "text": [
      "Best Model Mean Absolute Error: 1.0140627010911998\n",
      "Best Model Mean Squared Error: 2.0935318118601685\n",
      "Best Model Root Mean Squared Error: 1.446904216546544\n",
      "Best Model R2 Score: 0.9555843224635037\n"
     ]
    }
   ],
   "source": [
    "param_grid = {\n",
    "    'final_estimator__max_depth': [5, 10, 15, 20],\n",
    "    'final_estimator__min_samples_split': [2, 5, 10]\n",
    "}\n",
    "\n",
    "\n",
    "grid_search = GridSearchCV(stacking_model, param_grid, cv=5, scoring='neg_mean_squared_error', n_jobs=-1)\n",
    "\n",
    "\n",
    "grid_search.fit(X_train_scaled, y_train)\n",
    "\n",
    "\n",
    "best_model = grid_search.best_estimator_\n",
    "\n",
    "\n",
    "y_pred_best = best_model.predict(X_test_scaled)\n",
    "\n",
    "\n",
    "print(f\"Best Model Mean Absolute Error: {mean_absolute_error(y_test, y_pred_best)}\")\n",
    "print(f\"Best Model Mean Squared Error: {mean_squared_error(y_test, y_pred_best)}\")\n",
    "print(f\"Best Model Root Mean Squared Error: {np.sqrt(mean_squared_error(y_test, y_pred_best))}\")\n",
    "print(f\"Best Model R2 Score: {r2_score(y_test, y_pred_best)}\")\n"
   ],
   "metadata": {
    "collapsed": false,
    "ExecuteTime": {
     "end_time": "2024-06-12T17:39:50.064185900Z",
     "start_time": "2024-06-12T17:38:49.178206700Z"
    }
   }
  },
  {
   "cell_type": "code",
   "execution_count": 293,
   "outputs": [],
   "source": [
    "refined_param_grid = {\n",
    "    'final_estimator__max_depth': [12, 15, 18],\n",
    "    'final_estimator__min_samples_split': [5, 7, 10]\n",
    "}\n",
    "\n",
    "\n",
    "refined_grid_search = GridSearchCV(stacking_model, refined_param_grid, cv=5, scoring='neg_mean_squared_error', n_jobs=-1)\n",
    "\n",
    "\n",
    "refined_grid_search.fit(X_train_scaled, y_train)\n",
    "\n",
    "\n",
    "best_refined_model = refined_grid_search.best_estimator_"
   ],
   "metadata": {
    "collapsed": false,
    "ExecuteTime": {
     "end_time": "2024-06-12T17:40:31.807828800Z",
     "start_time": "2024-06-12T17:39:50.068192300Z"
    }
   }
  },
  {
   "cell_type": "code",
   "execution_count": 294,
   "outputs": [
    {
     "data": {
      "text/plain": "StackingRegressor(estimators=[('lr', LinearRegression()),\n                              ('poly',\n                               Pipeline(steps=[('polynomialfeatures',\n                                                PolynomialFeatures(degree=3)),\n                                               ('linearregression',\n                                                LinearRegression())])),\n                              ('rm1', Ridge()), ('rm2', Lasso()),\n                              ('rm3', ElasticNet()),\n                              ('dt', DecisionTreeRegressor(max_depth=2000))],\n                  final_estimator=DecisionTreeRegressor(max_depth=12,\n                                                        min_samples_split=10))",
      "text/html": "<style>#sk-container-id-11 {\n  /* Definition of color scheme common for light and dark mode */\n  --sklearn-color-text: black;\n  --sklearn-color-line: gray;\n  /* Definition of color scheme for unfitted estimators */\n  --sklearn-color-unfitted-level-0: #fff5e6;\n  --sklearn-color-unfitted-level-1: #f6e4d2;\n  --sklearn-color-unfitted-level-2: #ffe0b3;\n  --sklearn-color-unfitted-level-3: chocolate;\n  /* Definition of color scheme for fitted estimators */\n  --sklearn-color-fitted-level-0: #f0f8ff;\n  --sklearn-color-fitted-level-1: #d4ebff;\n  --sklearn-color-fitted-level-2: #b3dbfd;\n  --sklearn-color-fitted-level-3: cornflowerblue;\n\n  /* Specific color for light theme */\n  --sklearn-color-text-on-default-background: var(--sg-text-color, var(--theme-code-foreground, var(--jp-content-font-color1, black)));\n  --sklearn-color-background: var(--sg-background-color, var(--theme-background, var(--jp-layout-color0, white)));\n  --sklearn-color-border-box: var(--sg-text-color, var(--theme-code-foreground, var(--jp-content-font-color1, black)));\n  --sklearn-color-icon: #696969;\n\n  @media (prefers-color-scheme: dark) {\n    /* Redefinition of color scheme for dark theme */\n    --sklearn-color-text-on-default-background: var(--sg-text-color, var(--theme-code-foreground, var(--jp-content-font-color1, white)));\n    --sklearn-color-background: var(--sg-background-color, var(--theme-background, var(--jp-layout-color0, #111)));\n    --sklearn-color-border-box: var(--sg-text-color, var(--theme-code-foreground, var(--jp-content-font-color1, white)));\n    --sklearn-color-icon: #878787;\n  }\n}\n\n#sk-container-id-11 {\n  color: var(--sklearn-color-text);\n}\n\n#sk-container-id-11 pre {\n  padding: 0;\n}\n\n#sk-container-id-11 input.sk-hidden--visually {\n  border: 0;\n  clip: rect(1px 1px 1px 1px);\n  clip: rect(1px, 1px, 1px, 1px);\n  height: 1px;\n  margin: -1px;\n  overflow: hidden;\n  padding: 0;\n  position: absolute;\n  width: 1px;\n}\n\n#sk-container-id-11 div.sk-dashed-wrapped {\n  border: 1px dashed var(--sklearn-color-line);\n  margin: 0 0.4em 0.5em 0.4em;\n  box-sizing: border-box;\n  padding-bottom: 0.4em;\n  background-color: var(--sklearn-color-background);\n}\n\n#sk-container-id-11 div.sk-container {\n  /* jupyter's `normalize.less` sets `[hidden] { display: none; }`\n     but bootstrap.min.css set `[hidden] { display: none !important; }`\n     so we also need the `!important` here to be able to override the\n     default hidden behavior on the sphinx rendered scikit-learn.org.\n     See: https://github.com/scikit-learn/scikit-learn/issues/21755 */\n  display: inline-block !important;\n  position: relative;\n}\n\n#sk-container-id-11 div.sk-text-repr-fallback {\n  display: none;\n}\n\ndiv.sk-parallel-item,\ndiv.sk-serial,\ndiv.sk-item {\n  /* draw centered vertical line to link estimators */\n  background-image: linear-gradient(var(--sklearn-color-text-on-default-background), var(--sklearn-color-text-on-default-background));\n  background-size: 2px 100%;\n  background-repeat: no-repeat;\n  background-position: center center;\n}\n\n/* Parallel-specific style estimator block */\n\n#sk-container-id-11 div.sk-parallel-item::after {\n  content: \"\";\n  width: 100%;\n  border-bottom: 2px solid var(--sklearn-color-text-on-default-background);\n  flex-grow: 1;\n}\n\n#sk-container-id-11 div.sk-parallel {\n  display: flex;\n  align-items: stretch;\n  justify-content: center;\n  background-color: var(--sklearn-color-background);\n  position: relative;\n}\n\n#sk-container-id-11 div.sk-parallel-item {\n  display: flex;\n  flex-direction: column;\n}\n\n#sk-container-id-11 div.sk-parallel-item:first-child::after {\n  align-self: flex-end;\n  width: 50%;\n}\n\n#sk-container-id-11 div.sk-parallel-item:last-child::after {\n  align-self: flex-start;\n  width: 50%;\n}\n\n#sk-container-id-11 div.sk-parallel-item:only-child::after {\n  width: 0;\n}\n\n/* Serial-specific style estimator block */\n\n#sk-container-id-11 div.sk-serial {\n  display: flex;\n  flex-direction: column;\n  align-items: center;\n  background-color: var(--sklearn-color-background);\n  padding-right: 1em;\n  padding-left: 1em;\n}\n\n\n/* Toggleable style: style used for estimator/Pipeline/ColumnTransformer box that is\nclickable and can be expanded/collapsed.\n- Pipeline and ColumnTransformer use this feature and define the default style\n- Estimators will overwrite some part of the style using the `sk-estimator` class\n*/\n\n/* Pipeline and ColumnTransformer style (default) */\n\n#sk-container-id-11 div.sk-toggleable {\n  /* Default theme specific background. It is overwritten whether we have a\n  specific estimator or a Pipeline/ColumnTransformer */\n  background-color: var(--sklearn-color-background);\n}\n\n/* Toggleable label */\n#sk-container-id-11 label.sk-toggleable__label {\n  cursor: pointer;\n  display: block;\n  width: 100%;\n  margin-bottom: 0;\n  padding: 0.5em;\n  box-sizing: border-box;\n  text-align: center;\n}\n\n#sk-container-id-11 label.sk-toggleable__label-arrow:before {\n  /* Arrow on the left of the label */\n  content: \"▸\";\n  float: left;\n  margin-right: 0.25em;\n  color: var(--sklearn-color-icon);\n}\n\n#sk-container-id-11 label.sk-toggleable__label-arrow:hover:before {\n  color: var(--sklearn-color-text);\n}\n\n/* Toggleable content - dropdown */\n\n#sk-container-id-11 div.sk-toggleable__content {\n  max-height: 0;\n  max-width: 0;\n  overflow: hidden;\n  text-align: left;\n  /* unfitted */\n  background-color: var(--sklearn-color-unfitted-level-0);\n}\n\n#sk-container-id-11 div.sk-toggleable__content.fitted {\n  /* fitted */\n  background-color: var(--sklearn-color-fitted-level-0);\n}\n\n#sk-container-id-11 div.sk-toggleable__content pre {\n  margin: 0.2em;\n  border-radius: 0.25em;\n  color: var(--sklearn-color-text);\n  /* unfitted */\n  background-color: var(--sklearn-color-unfitted-level-0);\n}\n\n#sk-container-id-11 div.sk-toggleable__content.fitted pre {\n  /* unfitted */\n  background-color: var(--sklearn-color-fitted-level-0);\n}\n\n#sk-container-id-11 input.sk-toggleable__control:checked~div.sk-toggleable__content {\n  /* Expand drop-down */\n  max-height: 200px;\n  max-width: 100%;\n  overflow: auto;\n}\n\n#sk-container-id-11 input.sk-toggleable__control:checked~label.sk-toggleable__label-arrow:before {\n  content: \"▾\";\n}\n\n/* Pipeline/ColumnTransformer-specific style */\n\n#sk-container-id-11 div.sk-label input.sk-toggleable__control:checked~label.sk-toggleable__label {\n  color: var(--sklearn-color-text);\n  background-color: var(--sklearn-color-unfitted-level-2);\n}\n\n#sk-container-id-11 div.sk-label.fitted input.sk-toggleable__control:checked~label.sk-toggleable__label {\n  background-color: var(--sklearn-color-fitted-level-2);\n}\n\n/* Estimator-specific style */\n\n/* Colorize estimator box */\n#sk-container-id-11 div.sk-estimator input.sk-toggleable__control:checked~label.sk-toggleable__label {\n  /* unfitted */\n  background-color: var(--sklearn-color-unfitted-level-2);\n}\n\n#sk-container-id-11 div.sk-estimator.fitted input.sk-toggleable__control:checked~label.sk-toggleable__label {\n  /* fitted */\n  background-color: var(--sklearn-color-fitted-level-2);\n}\n\n#sk-container-id-11 div.sk-label label.sk-toggleable__label,\n#sk-container-id-11 div.sk-label label {\n  /* The background is the default theme color */\n  color: var(--sklearn-color-text-on-default-background);\n}\n\n/* On hover, darken the color of the background */\n#sk-container-id-11 div.sk-label:hover label.sk-toggleable__label {\n  color: var(--sklearn-color-text);\n  background-color: var(--sklearn-color-unfitted-level-2);\n}\n\n/* Label box, darken color on hover, fitted */\n#sk-container-id-11 div.sk-label.fitted:hover label.sk-toggleable__label.fitted {\n  color: var(--sklearn-color-text);\n  background-color: var(--sklearn-color-fitted-level-2);\n}\n\n/* Estimator label */\n\n#sk-container-id-11 div.sk-label label {\n  font-family: monospace;\n  font-weight: bold;\n  display: inline-block;\n  line-height: 1.2em;\n}\n\n#sk-container-id-11 div.sk-label-container {\n  text-align: center;\n}\n\n/* Estimator-specific */\n#sk-container-id-11 div.sk-estimator {\n  font-family: monospace;\n  border: 1px dotted var(--sklearn-color-border-box);\n  border-radius: 0.25em;\n  box-sizing: border-box;\n  margin-bottom: 0.5em;\n  /* unfitted */\n  background-color: var(--sklearn-color-unfitted-level-0);\n}\n\n#sk-container-id-11 div.sk-estimator.fitted {\n  /* fitted */\n  background-color: var(--sklearn-color-fitted-level-0);\n}\n\n/* on hover */\n#sk-container-id-11 div.sk-estimator:hover {\n  /* unfitted */\n  background-color: var(--sklearn-color-unfitted-level-2);\n}\n\n#sk-container-id-11 div.sk-estimator.fitted:hover {\n  /* fitted */\n  background-color: var(--sklearn-color-fitted-level-2);\n}\n\n/* Specification for estimator info (e.g. \"i\" and \"?\") */\n\n/* Common style for \"i\" and \"?\" */\n\n.sk-estimator-doc-link,\na:link.sk-estimator-doc-link,\na:visited.sk-estimator-doc-link {\n  float: right;\n  font-size: smaller;\n  line-height: 1em;\n  font-family: monospace;\n  background-color: var(--sklearn-color-background);\n  border-radius: 1em;\n  height: 1em;\n  width: 1em;\n  text-decoration: none !important;\n  margin-left: 1ex;\n  /* unfitted */\n  border: var(--sklearn-color-unfitted-level-1) 1pt solid;\n  color: var(--sklearn-color-unfitted-level-1);\n}\n\n.sk-estimator-doc-link.fitted,\na:link.sk-estimator-doc-link.fitted,\na:visited.sk-estimator-doc-link.fitted {\n  /* fitted */\n  border: var(--sklearn-color-fitted-level-1) 1pt solid;\n  color: var(--sklearn-color-fitted-level-1);\n}\n\n/* On hover */\ndiv.sk-estimator:hover .sk-estimator-doc-link:hover,\n.sk-estimator-doc-link:hover,\ndiv.sk-label-container:hover .sk-estimator-doc-link:hover,\n.sk-estimator-doc-link:hover {\n  /* unfitted */\n  background-color: var(--sklearn-color-unfitted-level-3);\n  color: var(--sklearn-color-background);\n  text-decoration: none;\n}\n\ndiv.sk-estimator.fitted:hover .sk-estimator-doc-link.fitted:hover,\n.sk-estimator-doc-link.fitted:hover,\ndiv.sk-label-container:hover .sk-estimator-doc-link.fitted:hover,\n.sk-estimator-doc-link.fitted:hover {\n  /* fitted */\n  background-color: var(--sklearn-color-fitted-level-3);\n  color: var(--sklearn-color-background);\n  text-decoration: none;\n}\n\n/* Span, style for the box shown on hovering the info icon */\n.sk-estimator-doc-link span {\n  display: none;\n  z-index: 9999;\n  position: relative;\n  font-weight: normal;\n  right: .2ex;\n  padding: .5ex;\n  margin: .5ex;\n  width: min-content;\n  min-width: 20ex;\n  max-width: 50ex;\n  color: var(--sklearn-color-text);\n  box-shadow: 2pt 2pt 4pt #999;\n  /* unfitted */\n  background: var(--sklearn-color-unfitted-level-0);\n  border: .5pt solid var(--sklearn-color-unfitted-level-3);\n}\n\n.sk-estimator-doc-link.fitted span {\n  /* fitted */\n  background: var(--sklearn-color-fitted-level-0);\n  border: var(--sklearn-color-fitted-level-3);\n}\n\n.sk-estimator-doc-link:hover span {\n  display: block;\n}\n\n/* \"?\"-specific style due to the `<a>` HTML tag */\n\n#sk-container-id-11 a.estimator_doc_link {\n  float: right;\n  font-size: 1rem;\n  line-height: 1em;\n  font-family: monospace;\n  background-color: var(--sklearn-color-background);\n  border-radius: 1rem;\n  height: 1rem;\n  width: 1rem;\n  text-decoration: none;\n  /* unfitted */\n  color: var(--sklearn-color-unfitted-level-1);\n  border: var(--sklearn-color-unfitted-level-1) 1pt solid;\n}\n\n#sk-container-id-11 a.estimator_doc_link.fitted {\n  /* fitted */\n  border: var(--sklearn-color-fitted-level-1) 1pt solid;\n  color: var(--sklearn-color-fitted-level-1);\n}\n\n/* On hover */\n#sk-container-id-11 a.estimator_doc_link:hover {\n  /* unfitted */\n  background-color: var(--sklearn-color-unfitted-level-3);\n  color: var(--sklearn-color-background);\n  text-decoration: none;\n}\n\n#sk-container-id-11 a.estimator_doc_link.fitted:hover {\n  /* fitted */\n  background-color: var(--sklearn-color-fitted-level-3);\n}\n</style><div id=\"sk-container-id-11\" class=\"sk-top-container\"><div class=\"sk-text-repr-fallback\"><pre>StackingRegressor(estimators=[(&#x27;lr&#x27;, LinearRegression()),\n                              (&#x27;poly&#x27;,\n                               Pipeline(steps=[(&#x27;polynomialfeatures&#x27;,\n                                                PolynomialFeatures(degree=3)),\n                                               (&#x27;linearregression&#x27;,\n                                                LinearRegression())])),\n                              (&#x27;rm1&#x27;, Ridge()), (&#x27;rm2&#x27;, Lasso()),\n                              (&#x27;rm3&#x27;, ElasticNet()),\n                              (&#x27;dt&#x27;, DecisionTreeRegressor(max_depth=2000))],\n                  final_estimator=DecisionTreeRegressor(max_depth=12,\n                                                        min_samples_split=10))</pre><b>In a Jupyter environment, please rerun this cell to show the HTML representation or trust the notebook. <br />On GitHub, the HTML representation is unable to render, please try loading this page with nbviewer.org.</b></div><div class=\"sk-container\" hidden><div class=\"sk-item sk-dashed-wrapped\"><div class=\"sk-label-container\"><div class=\"sk-label fitted sk-toggleable\"><input class=\"sk-toggleable__control sk-hidden--visually\" id=\"sk-estimator-id-27\" type=\"checkbox\" ><label for=\"sk-estimator-id-27\" class=\"sk-toggleable__label fitted sk-toggleable__label-arrow fitted\">&nbsp;&nbsp;StackingRegressor<a class=\"sk-estimator-doc-link fitted\" rel=\"noreferrer\" target=\"_blank\" href=\"https://scikit-learn.org/1.5/modules/generated/sklearn.ensemble.StackingRegressor.html\">?<span>Documentation for StackingRegressor</span></a><span class=\"sk-estimator-doc-link fitted\">i<span>Fitted</span></span></label><div class=\"sk-toggleable__content fitted\"><pre>StackingRegressor(estimators=[(&#x27;lr&#x27;, LinearRegression()),\n                              (&#x27;poly&#x27;,\n                               Pipeline(steps=[(&#x27;polynomialfeatures&#x27;,\n                                                PolynomialFeatures(degree=3)),\n                                               (&#x27;linearregression&#x27;,\n                                                LinearRegression())])),\n                              (&#x27;rm1&#x27;, Ridge()), (&#x27;rm2&#x27;, Lasso()),\n                              (&#x27;rm3&#x27;, ElasticNet()),\n                              (&#x27;dt&#x27;, DecisionTreeRegressor(max_depth=2000))],\n                  final_estimator=DecisionTreeRegressor(max_depth=12,\n                                                        min_samples_split=10))</pre></div> </div></div><div class=\"sk-serial\"><div class=\"sk-item\"><div class=\"sk-parallel\"><div class=\"sk-parallel-item\"><div class=\"sk-item\"><div class=\"sk-label-container\"><div class=\"sk-label fitted sk-toggleable\"><label>lr</label></div></div><div class=\"sk-serial\"><div class=\"sk-item\"><div class=\"sk-estimator fitted sk-toggleable\"><input class=\"sk-toggleable__control sk-hidden--visually\" id=\"sk-estimator-id-28\" type=\"checkbox\" ><label for=\"sk-estimator-id-28\" class=\"sk-toggleable__label fitted sk-toggleable__label-arrow fitted\">&nbsp;LinearRegression<a class=\"sk-estimator-doc-link fitted\" rel=\"noreferrer\" target=\"_blank\" href=\"https://scikit-learn.org/1.5/modules/generated/sklearn.linear_model.LinearRegression.html\">?<span>Documentation for LinearRegression</span></a></label><div class=\"sk-toggleable__content fitted\"><pre>LinearRegression()</pre></div> </div></div></div></div></div><div class=\"sk-parallel-item\"><div class=\"sk-item\"><div class=\"sk-label-container\"><div class=\"sk-label fitted sk-toggleable\"><label>poly</label></div></div><div class=\"sk-serial\"><div class=\"sk-item\"><div class=\"sk-serial\"><div class=\"sk-item\"><div class=\"sk-estimator fitted sk-toggleable\"><input class=\"sk-toggleable__control sk-hidden--visually\" id=\"sk-estimator-id-29\" type=\"checkbox\" ><label for=\"sk-estimator-id-29\" class=\"sk-toggleable__label fitted sk-toggleable__label-arrow fitted\">&nbsp;PolynomialFeatures<a class=\"sk-estimator-doc-link fitted\" rel=\"noreferrer\" target=\"_blank\" href=\"https://scikit-learn.org/1.5/modules/generated/sklearn.preprocessing.PolynomialFeatures.html\">?<span>Documentation for PolynomialFeatures</span></a></label><div class=\"sk-toggleable__content fitted\"><pre>PolynomialFeatures(degree=3)</pre></div> </div></div><div class=\"sk-item\"><div class=\"sk-estimator fitted sk-toggleable\"><input class=\"sk-toggleable__control sk-hidden--visually\" id=\"sk-estimator-id-30\" type=\"checkbox\" ><label for=\"sk-estimator-id-30\" class=\"sk-toggleable__label fitted sk-toggleable__label-arrow fitted\">&nbsp;LinearRegression<a class=\"sk-estimator-doc-link fitted\" rel=\"noreferrer\" target=\"_blank\" href=\"https://scikit-learn.org/1.5/modules/generated/sklearn.linear_model.LinearRegression.html\">?<span>Documentation for LinearRegression</span></a></label><div class=\"sk-toggleable__content fitted\"><pre>LinearRegression()</pre></div> </div></div></div></div></div></div></div><div class=\"sk-parallel-item\"><div class=\"sk-item\"><div class=\"sk-label-container\"><div class=\"sk-label fitted sk-toggleable\"><label>rm1</label></div></div><div class=\"sk-serial\"><div class=\"sk-item\"><div class=\"sk-estimator fitted sk-toggleable\"><input class=\"sk-toggleable__control sk-hidden--visually\" id=\"sk-estimator-id-31\" type=\"checkbox\" ><label for=\"sk-estimator-id-31\" class=\"sk-toggleable__label fitted sk-toggleable__label-arrow fitted\">&nbsp;Ridge<a class=\"sk-estimator-doc-link fitted\" rel=\"noreferrer\" target=\"_blank\" href=\"https://scikit-learn.org/1.5/modules/generated/sklearn.linear_model.Ridge.html\">?<span>Documentation for Ridge</span></a></label><div class=\"sk-toggleable__content fitted\"><pre>Ridge()</pre></div> </div></div></div></div></div><div class=\"sk-parallel-item\"><div class=\"sk-item\"><div class=\"sk-label-container\"><div class=\"sk-label fitted sk-toggleable\"><label>rm2</label></div></div><div class=\"sk-serial\"><div class=\"sk-item\"><div class=\"sk-estimator fitted sk-toggleable\"><input class=\"sk-toggleable__control sk-hidden--visually\" id=\"sk-estimator-id-32\" type=\"checkbox\" ><label for=\"sk-estimator-id-32\" class=\"sk-toggleable__label fitted sk-toggleable__label-arrow fitted\">&nbsp;Lasso<a class=\"sk-estimator-doc-link fitted\" rel=\"noreferrer\" target=\"_blank\" href=\"https://scikit-learn.org/1.5/modules/generated/sklearn.linear_model.Lasso.html\">?<span>Documentation for Lasso</span></a></label><div class=\"sk-toggleable__content fitted\"><pre>Lasso()</pre></div> </div></div></div></div></div><div class=\"sk-parallel-item\"><div class=\"sk-item\"><div class=\"sk-label-container\"><div class=\"sk-label fitted sk-toggleable\"><label>rm3</label></div></div><div class=\"sk-serial\"><div class=\"sk-item\"><div class=\"sk-estimator fitted sk-toggleable\"><input class=\"sk-toggleable__control sk-hidden--visually\" id=\"sk-estimator-id-33\" type=\"checkbox\" ><label for=\"sk-estimator-id-33\" class=\"sk-toggleable__label fitted sk-toggleable__label-arrow fitted\">&nbsp;ElasticNet<a class=\"sk-estimator-doc-link fitted\" rel=\"noreferrer\" target=\"_blank\" href=\"https://scikit-learn.org/1.5/modules/generated/sklearn.linear_model.ElasticNet.html\">?<span>Documentation for ElasticNet</span></a></label><div class=\"sk-toggleable__content fitted\"><pre>ElasticNet()</pre></div> </div></div></div></div></div><div class=\"sk-parallel-item\"><div class=\"sk-item\"><div class=\"sk-label-container\"><div class=\"sk-label fitted sk-toggleable\"><label>dt</label></div></div><div class=\"sk-serial\"><div class=\"sk-item\"><div class=\"sk-estimator fitted sk-toggleable\"><input class=\"sk-toggleable__control sk-hidden--visually\" id=\"sk-estimator-id-34\" type=\"checkbox\" ><label for=\"sk-estimator-id-34\" class=\"sk-toggleable__label fitted sk-toggleable__label-arrow fitted\">&nbsp;DecisionTreeRegressor<a class=\"sk-estimator-doc-link fitted\" rel=\"noreferrer\" target=\"_blank\" href=\"https://scikit-learn.org/1.5/modules/generated/sklearn.tree.DecisionTreeRegressor.html\">?<span>Documentation for DecisionTreeRegressor</span></a></label><div class=\"sk-toggleable__content fitted\"><pre>DecisionTreeRegressor(max_depth=2000)</pre></div> </div></div></div></div></div></div></div><div class=\"sk-item\"><div class=\"sk-parallel\"><div class=\"sk-parallel-item\"><div class=\"sk-item\"><div class=\"sk-label-container\"><div class=\"sk-label fitted sk-toggleable\"><label>final_estimator</label></div></div><div class=\"sk-serial\"><div class=\"sk-item\"><div class=\"sk-estimator fitted sk-toggleable\"><input class=\"sk-toggleable__control sk-hidden--visually\" id=\"sk-estimator-id-35\" type=\"checkbox\" ><label for=\"sk-estimator-id-35\" class=\"sk-toggleable__label fitted sk-toggleable__label-arrow fitted\">&nbsp;DecisionTreeRegressor<a class=\"sk-estimator-doc-link fitted\" rel=\"noreferrer\" target=\"_blank\" href=\"https://scikit-learn.org/1.5/modules/generated/sklearn.tree.DecisionTreeRegressor.html\">?<span>Documentation for DecisionTreeRegressor</span></a></label><div class=\"sk-toggleable__content fitted\"><pre>DecisionTreeRegressor(max_depth=12, min_samples_split=10)</pre></div> </div></div></div></div></div></div></div></div></div></div></div>"
     },
     "execution_count": 294,
     "metadata": {},
     "output_type": "execute_result"
    }
   ],
   "source": [
    "best_refined_model.fit(X_train_scaled, y_train)"
   ],
   "metadata": {
    "collapsed": false,
    "ExecuteTime": {
     "end_time": "2024-06-12T17:40:34.095767Z",
     "start_time": "2024-06-12T17:40:31.807828800Z"
    }
   }
  },
  {
   "cell_type": "code",
   "execution_count": 295,
   "outputs": [
    {
     "name": "stdout",
     "output_type": "stream",
     "text": [
      "Redefined Model Mean Absolute Error: 0.9750112404574979\n",
      "Redefined Model Mean Squared Error: 2.3282396802602574\n",
      "Redefined Model Root Mean Squared Error: 1.5258570313958832\n",
      "Redefined Model R2 Score: 0.9506048380634676\n"
     ]
    }
   ],
   "source": [
    "y_pred_final = best_refined_model.predict(X_test_scaled)\n",
    "\n",
    "print(f\"Redefined Model Mean Absolute Error: {mean_absolute_error(y_test, y_pred_final)}\")\n",
    "print(f\"Redefined Model Mean Squared Error: {mean_squared_error(y_test, y_pred_final)}\")\n",
    "print(f\"Redefined Model Root Mean Squared Error: {np.sqrt(mean_squared_error(y_test, y_pred_final))}\")\n",
    "print(f\"Redefined Model R2 Score: {r2_score(y_test, y_pred_final)}\")"
   ],
   "metadata": {
    "collapsed": false,
    "ExecuteTime": {
     "end_time": "2024-06-12T17:40:34.142391700Z",
     "start_time": "2024-06-12T17:40:34.098759300Z"
    }
   }
  },
  {
   "cell_type": "code",
   "execution_count": 296,
   "outputs": [],
   "source": [
    "refined_param_grid = {\n",
    "    'final_estimator__max_depth': [10, 15],\n",
    "    'final_estimator__min_samples_split': [5, 10]\n",
    "}\n",
    "\n",
    "\n",
    "refined_grid_search = GridSearchCV(stacking_model, refined_param_grid, cv=5, scoring='neg_mean_absolute_error', n_jobs=-1)\n",
    "\n",
    "\n",
    "refined_grid_search.fit(X_train_scaled, y_train)\n",
    "\n",
    "\n",
    "best_refined_model = refined_grid_search.best_estimator_"
   ],
   "metadata": {
    "collapsed": false,
    "ExecuteTime": {
     "end_time": "2024-06-12T17:41:00.980898Z",
     "start_time": "2024-06-12T17:40:34.122371600Z"
    }
   }
  },
  {
   "cell_type": "code",
   "execution_count": 297,
   "outputs": [
    {
     "data": {
      "text/plain": "StackingRegressor(estimators=[('lr', LinearRegression()),\n                              ('poly',\n                               Pipeline(steps=[('polynomialfeatures',\n                                                PolynomialFeatures(degree=3)),\n                                               ('linearregression',\n                                                LinearRegression())])),\n                              ('rm1', Ridge()), ('rm2', Lasso()),\n                              ('rm3', ElasticNet()),\n                              ('dt', DecisionTreeRegressor(max_depth=2000))],\n                  final_estimator=DecisionTreeRegressor(max_depth=10,\n                                                        min_samples_split=10))",
      "text/html": "<style>#sk-container-id-12 {\n  /* Definition of color scheme common for light and dark mode */\n  --sklearn-color-text: black;\n  --sklearn-color-line: gray;\n  /* Definition of color scheme for unfitted estimators */\n  --sklearn-color-unfitted-level-0: #fff5e6;\n  --sklearn-color-unfitted-level-1: #f6e4d2;\n  --sklearn-color-unfitted-level-2: #ffe0b3;\n  --sklearn-color-unfitted-level-3: chocolate;\n  /* Definition of color scheme for fitted estimators */\n  --sklearn-color-fitted-level-0: #f0f8ff;\n  --sklearn-color-fitted-level-1: #d4ebff;\n  --sklearn-color-fitted-level-2: #b3dbfd;\n  --sklearn-color-fitted-level-3: cornflowerblue;\n\n  /* Specific color for light theme */\n  --sklearn-color-text-on-default-background: var(--sg-text-color, var(--theme-code-foreground, var(--jp-content-font-color1, black)));\n  --sklearn-color-background: var(--sg-background-color, var(--theme-background, var(--jp-layout-color0, white)));\n  --sklearn-color-border-box: var(--sg-text-color, var(--theme-code-foreground, var(--jp-content-font-color1, black)));\n  --sklearn-color-icon: #696969;\n\n  @media (prefers-color-scheme: dark) {\n    /* Redefinition of color scheme for dark theme */\n    --sklearn-color-text-on-default-background: var(--sg-text-color, var(--theme-code-foreground, var(--jp-content-font-color1, white)));\n    --sklearn-color-background: var(--sg-background-color, var(--theme-background, var(--jp-layout-color0, #111)));\n    --sklearn-color-border-box: var(--sg-text-color, var(--theme-code-foreground, var(--jp-content-font-color1, white)));\n    --sklearn-color-icon: #878787;\n  }\n}\n\n#sk-container-id-12 {\n  color: var(--sklearn-color-text);\n}\n\n#sk-container-id-12 pre {\n  padding: 0;\n}\n\n#sk-container-id-12 input.sk-hidden--visually {\n  border: 0;\n  clip: rect(1px 1px 1px 1px);\n  clip: rect(1px, 1px, 1px, 1px);\n  height: 1px;\n  margin: -1px;\n  overflow: hidden;\n  padding: 0;\n  position: absolute;\n  width: 1px;\n}\n\n#sk-container-id-12 div.sk-dashed-wrapped {\n  border: 1px dashed var(--sklearn-color-line);\n  margin: 0 0.4em 0.5em 0.4em;\n  box-sizing: border-box;\n  padding-bottom: 0.4em;\n  background-color: var(--sklearn-color-background);\n}\n\n#sk-container-id-12 div.sk-container {\n  /* jupyter's `normalize.less` sets `[hidden] { display: none; }`\n     but bootstrap.min.css set `[hidden] { display: none !important; }`\n     so we also need the `!important` here to be able to override the\n     default hidden behavior on the sphinx rendered scikit-learn.org.\n     See: https://github.com/scikit-learn/scikit-learn/issues/21755 */\n  display: inline-block !important;\n  position: relative;\n}\n\n#sk-container-id-12 div.sk-text-repr-fallback {\n  display: none;\n}\n\ndiv.sk-parallel-item,\ndiv.sk-serial,\ndiv.sk-item {\n  /* draw centered vertical line to link estimators */\n  background-image: linear-gradient(var(--sklearn-color-text-on-default-background), var(--sklearn-color-text-on-default-background));\n  background-size: 2px 100%;\n  background-repeat: no-repeat;\n  background-position: center center;\n}\n\n/* Parallel-specific style estimator block */\n\n#sk-container-id-12 div.sk-parallel-item::after {\n  content: \"\";\n  width: 100%;\n  border-bottom: 2px solid var(--sklearn-color-text-on-default-background);\n  flex-grow: 1;\n}\n\n#sk-container-id-12 div.sk-parallel {\n  display: flex;\n  align-items: stretch;\n  justify-content: center;\n  background-color: var(--sklearn-color-background);\n  position: relative;\n}\n\n#sk-container-id-12 div.sk-parallel-item {\n  display: flex;\n  flex-direction: column;\n}\n\n#sk-container-id-12 div.sk-parallel-item:first-child::after {\n  align-self: flex-end;\n  width: 50%;\n}\n\n#sk-container-id-12 div.sk-parallel-item:last-child::after {\n  align-self: flex-start;\n  width: 50%;\n}\n\n#sk-container-id-12 div.sk-parallel-item:only-child::after {\n  width: 0;\n}\n\n/* Serial-specific style estimator block */\n\n#sk-container-id-12 div.sk-serial {\n  display: flex;\n  flex-direction: column;\n  align-items: center;\n  background-color: var(--sklearn-color-background);\n  padding-right: 1em;\n  padding-left: 1em;\n}\n\n\n/* Toggleable style: style used for estimator/Pipeline/ColumnTransformer box that is\nclickable and can be expanded/collapsed.\n- Pipeline and ColumnTransformer use this feature and define the default style\n- Estimators will overwrite some part of the style using the `sk-estimator` class\n*/\n\n/* Pipeline and ColumnTransformer style (default) */\n\n#sk-container-id-12 div.sk-toggleable {\n  /* Default theme specific background. It is overwritten whether we have a\n  specific estimator or a Pipeline/ColumnTransformer */\n  background-color: var(--sklearn-color-background);\n}\n\n/* Toggleable label */\n#sk-container-id-12 label.sk-toggleable__label {\n  cursor: pointer;\n  display: block;\n  width: 100%;\n  margin-bottom: 0;\n  padding: 0.5em;\n  box-sizing: border-box;\n  text-align: center;\n}\n\n#sk-container-id-12 label.sk-toggleable__label-arrow:before {\n  /* Arrow on the left of the label */\n  content: \"▸\";\n  float: left;\n  margin-right: 0.25em;\n  color: var(--sklearn-color-icon);\n}\n\n#sk-container-id-12 label.sk-toggleable__label-arrow:hover:before {\n  color: var(--sklearn-color-text);\n}\n\n/* Toggleable content - dropdown */\n\n#sk-container-id-12 div.sk-toggleable__content {\n  max-height: 0;\n  max-width: 0;\n  overflow: hidden;\n  text-align: left;\n  /* unfitted */\n  background-color: var(--sklearn-color-unfitted-level-0);\n}\n\n#sk-container-id-12 div.sk-toggleable__content.fitted {\n  /* fitted */\n  background-color: var(--sklearn-color-fitted-level-0);\n}\n\n#sk-container-id-12 div.sk-toggleable__content pre {\n  margin: 0.2em;\n  border-radius: 0.25em;\n  color: var(--sklearn-color-text);\n  /* unfitted */\n  background-color: var(--sklearn-color-unfitted-level-0);\n}\n\n#sk-container-id-12 div.sk-toggleable__content.fitted pre {\n  /* unfitted */\n  background-color: var(--sklearn-color-fitted-level-0);\n}\n\n#sk-container-id-12 input.sk-toggleable__control:checked~div.sk-toggleable__content {\n  /* Expand drop-down */\n  max-height: 200px;\n  max-width: 100%;\n  overflow: auto;\n}\n\n#sk-container-id-12 input.sk-toggleable__control:checked~label.sk-toggleable__label-arrow:before {\n  content: \"▾\";\n}\n\n/* Pipeline/ColumnTransformer-specific style */\n\n#sk-container-id-12 div.sk-label input.sk-toggleable__control:checked~label.sk-toggleable__label {\n  color: var(--sklearn-color-text);\n  background-color: var(--sklearn-color-unfitted-level-2);\n}\n\n#sk-container-id-12 div.sk-label.fitted input.sk-toggleable__control:checked~label.sk-toggleable__label {\n  background-color: var(--sklearn-color-fitted-level-2);\n}\n\n/* Estimator-specific style */\n\n/* Colorize estimator box */\n#sk-container-id-12 div.sk-estimator input.sk-toggleable__control:checked~label.sk-toggleable__label {\n  /* unfitted */\n  background-color: var(--sklearn-color-unfitted-level-2);\n}\n\n#sk-container-id-12 div.sk-estimator.fitted input.sk-toggleable__control:checked~label.sk-toggleable__label {\n  /* fitted */\n  background-color: var(--sklearn-color-fitted-level-2);\n}\n\n#sk-container-id-12 div.sk-label label.sk-toggleable__label,\n#sk-container-id-12 div.sk-label label {\n  /* The background is the default theme color */\n  color: var(--sklearn-color-text-on-default-background);\n}\n\n/* On hover, darken the color of the background */\n#sk-container-id-12 div.sk-label:hover label.sk-toggleable__label {\n  color: var(--sklearn-color-text);\n  background-color: var(--sklearn-color-unfitted-level-2);\n}\n\n/* Label box, darken color on hover, fitted */\n#sk-container-id-12 div.sk-label.fitted:hover label.sk-toggleable__label.fitted {\n  color: var(--sklearn-color-text);\n  background-color: var(--sklearn-color-fitted-level-2);\n}\n\n/* Estimator label */\n\n#sk-container-id-12 div.sk-label label {\n  font-family: monospace;\n  font-weight: bold;\n  display: inline-block;\n  line-height: 1.2em;\n}\n\n#sk-container-id-12 div.sk-label-container {\n  text-align: center;\n}\n\n/* Estimator-specific */\n#sk-container-id-12 div.sk-estimator {\n  font-family: monospace;\n  border: 1px dotted var(--sklearn-color-border-box);\n  border-radius: 0.25em;\n  box-sizing: border-box;\n  margin-bottom: 0.5em;\n  /* unfitted */\n  background-color: var(--sklearn-color-unfitted-level-0);\n}\n\n#sk-container-id-12 div.sk-estimator.fitted {\n  /* fitted */\n  background-color: var(--sklearn-color-fitted-level-0);\n}\n\n/* on hover */\n#sk-container-id-12 div.sk-estimator:hover {\n  /* unfitted */\n  background-color: var(--sklearn-color-unfitted-level-2);\n}\n\n#sk-container-id-12 div.sk-estimator.fitted:hover {\n  /* fitted */\n  background-color: var(--sklearn-color-fitted-level-2);\n}\n\n/* Specification for estimator info (e.g. \"i\" and \"?\") */\n\n/* Common style for \"i\" and \"?\" */\n\n.sk-estimator-doc-link,\na:link.sk-estimator-doc-link,\na:visited.sk-estimator-doc-link {\n  float: right;\n  font-size: smaller;\n  line-height: 1em;\n  font-family: monospace;\n  background-color: var(--sklearn-color-background);\n  border-radius: 1em;\n  height: 1em;\n  width: 1em;\n  text-decoration: none !important;\n  margin-left: 1ex;\n  /* unfitted */\n  border: var(--sklearn-color-unfitted-level-1) 1pt solid;\n  color: var(--sklearn-color-unfitted-level-1);\n}\n\n.sk-estimator-doc-link.fitted,\na:link.sk-estimator-doc-link.fitted,\na:visited.sk-estimator-doc-link.fitted {\n  /* fitted */\n  border: var(--sklearn-color-fitted-level-1) 1pt solid;\n  color: var(--sklearn-color-fitted-level-1);\n}\n\n/* On hover */\ndiv.sk-estimator:hover .sk-estimator-doc-link:hover,\n.sk-estimator-doc-link:hover,\ndiv.sk-label-container:hover .sk-estimator-doc-link:hover,\n.sk-estimator-doc-link:hover {\n  /* unfitted */\n  background-color: var(--sklearn-color-unfitted-level-3);\n  color: var(--sklearn-color-background);\n  text-decoration: none;\n}\n\ndiv.sk-estimator.fitted:hover .sk-estimator-doc-link.fitted:hover,\n.sk-estimator-doc-link.fitted:hover,\ndiv.sk-label-container:hover .sk-estimator-doc-link.fitted:hover,\n.sk-estimator-doc-link.fitted:hover {\n  /* fitted */\n  background-color: var(--sklearn-color-fitted-level-3);\n  color: var(--sklearn-color-background);\n  text-decoration: none;\n}\n\n/* Span, style for the box shown on hovering the info icon */\n.sk-estimator-doc-link span {\n  display: none;\n  z-index: 9999;\n  position: relative;\n  font-weight: normal;\n  right: .2ex;\n  padding: .5ex;\n  margin: .5ex;\n  width: min-content;\n  min-width: 20ex;\n  max-width: 50ex;\n  color: var(--sklearn-color-text);\n  box-shadow: 2pt 2pt 4pt #999;\n  /* unfitted */\n  background: var(--sklearn-color-unfitted-level-0);\n  border: .5pt solid var(--sklearn-color-unfitted-level-3);\n}\n\n.sk-estimator-doc-link.fitted span {\n  /* fitted */\n  background: var(--sklearn-color-fitted-level-0);\n  border: var(--sklearn-color-fitted-level-3);\n}\n\n.sk-estimator-doc-link:hover span {\n  display: block;\n}\n\n/* \"?\"-specific style due to the `<a>` HTML tag */\n\n#sk-container-id-12 a.estimator_doc_link {\n  float: right;\n  font-size: 1rem;\n  line-height: 1em;\n  font-family: monospace;\n  background-color: var(--sklearn-color-background);\n  border-radius: 1rem;\n  height: 1rem;\n  width: 1rem;\n  text-decoration: none;\n  /* unfitted */\n  color: var(--sklearn-color-unfitted-level-1);\n  border: var(--sklearn-color-unfitted-level-1) 1pt solid;\n}\n\n#sk-container-id-12 a.estimator_doc_link.fitted {\n  /* fitted */\n  border: var(--sklearn-color-fitted-level-1) 1pt solid;\n  color: var(--sklearn-color-fitted-level-1);\n}\n\n/* On hover */\n#sk-container-id-12 a.estimator_doc_link:hover {\n  /* unfitted */\n  background-color: var(--sklearn-color-unfitted-level-3);\n  color: var(--sklearn-color-background);\n  text-decoration: none;\n}\n\n#sk-container-id-12 a.estimator_doc_link.fitted:hover {\n  /* fitted */\n  background-color: var(--sklearn-color-fitted-level-3);\n}\n</style><div id=\"sk-container-id-12\" class=\"sk-top-container\"><div class=\"sk-text-repr-fallback\"><pre>StackingRegressor(estimators=[(&#x27;lr&#x27;, LinearRegression()),\n                              (&#x27;poly&#x27;,\n                               Pipeline(steps=[(&#x27;polynomialfeatures&#x27;,\n                                                PolynomialFeatures(degree=3)),\n                                               (&#x27;linearregression&#x27;,\n                                                LinearRegression())])),\n                              (&#x27;rm1&#x27;, Ridge()), (&#x27;rm2&#x27;, Lasso()),\n                              (&#x27;rm3&#x27;, ElasticNet()),\n                              (&#x27;dt&#x27;, DecisionTreeRegressor(max_depth=2000))],\n                  final_estimator=DecisionTreeRegressor(max_depth=10,\n                                                        min_samples_split=10))</pre><b>In a Jupyter environment, please rerun this cell to show the HTML representation or trust the notebook. <br />On GitHub, the HTML representation is unable to render, please try loading this page with nbviewer.org.</b></div><div class=\"sk-container\" hidden><div class=\"sk-item sk-dashed-wrapped\"><div class=\"sk-label-container\"><div class=\"sk-label fitted sk-toggleable\"><input class=\"sk-toggleable__control sk-hidden--visually\" id=\"sk-estimator-id-36\" type=\"checkbox\" ><label for=\"sk-estimator-id-36\" class=\"sk-toggleable__label fitted sk-toggleable__label-arrow fitted\">&nbsp;&nbsp;StackingRegressor<a class=\"sk-estimator-doc-link fitted\" rel=\"noreferrer\" target=\"_blank\" href=\"https://scikit-learn.org/1.5/modules/generated/sklearn.ensemble.StackingRegressor.html\">?<span>Documentation for StackingRegressor</span></a><span class=\"sk-estimator-doc-link fitted\">i<span>Fitted</span></span></label><div class=\"sk-toggleable__content fitted\"><pre>StackingRegressor(estimators=[(&#x27;lr&#x27;, LinearRegression()),\n                              (&#x27;poly&#x27;,\n                               Pipeline(steps=[(&#x27;polynomialfeatures&#x27;,\n                                                PolynomialFeatures(degree=3)),\n                                               (&#x27;linearregression&#x27;,\n                                                LinearRegression())])),\n                              (&#x27;rm1&#x27;, Ridge()), (&#x27;rm2&#x27;, Lasso()),\n                              (&#x27;rm3&#x27;, ElasticNet()),\n                              (&#x27;dt&#x27;, DecisionTreeRegressor(max_depth=2000))],\n                  final_estimator=DecisionTreeRegressor(max_depth=10,\n                                                        min_samples_split=10))</pre></div> </div></div><div class=\"sk-serial\"><div class=\"sk-item\"><div class=\"sk-parallel\"><div class=\"sk-parallel-item\"><div class=\"sk-item\"><div class=\"sk-label-container\"><div class=\"sk-label fitted sk-toggleable\"><label>lr</label></div></div><div class=\"sk-serial\"><div class=\"sk-item\"><div class=\"sk-estimator fitted sk-toggleable\"><input class=\"sk-toggleable__control sk-hidden--visually\" id=\"sk-estimator-id-37\" type=\"checkbox\" ><label for=\"sk-estimator-id-37\" class=\"sk-toggleable__label fitted sk-toggleable__label-arrow fitted\">&nbsp;LinearRegression<a class=\"sk-estimator-doc-link fitted\" rel=\"noreferrer\" target=\"_blank\" href=\"https://scikit-learn.org/1.5/modules/generated/sklearn.linear_model.LinearRegression.html\">?<span>Documentation for LinearRegression</span></a></label><div class=\"sk-toggleable__content fitted\"><pre>LinearRegression()</pre></div> </div></div></div></div></div><div class=\"sk-parallel-item\"><div class=\"sk-item\"><div class=\"sk-label-container\"><div class=\"sk-label fitted sk-toggleable\"><label>poly</label></div></div><div class=\"sk-serial\"><div class=\"sk-item\"><div class=\"sk-serial\"><div class=\"sk-item\"><div class=\"sk-estimator fitted sk-toggleable\"><input class=\"sk-toggleable__control sk-hidden--visually\" id=\"sk-estimator-id-38\" type=\"checkbox\" ><label for=\"sk-estimator-id-38\" class=\"sk-toggleable__label fitted sk-toggleable__label-arrow fitted\">&nbsp;PolynomialFeatures<a class=\"sk-estimator-doc-link fitted\" rel=\"noreferrer\" target=\"_blank\" href=\"https://scikit-learn.org/1.5/modules/generated/sklearn.preprocessing.PolynomialFeatures.html\">?<span>Documentation for PolynomialFeatures</span></a></label><div class=\"sk-toggleable__content fitted\"><pre>PolynomialFeatures(degree=3)</pre></div> </div></div><div class=\"sk-item\"><div class=\"sk-estimator fitted sk-toggleable\"><input class=\"sk-toggleable__control sk-hidden--visually\" id=\"sk-estimator-id-39\" type=\"checkbox\" ><label for=\"sk-estimator-id-39\" class=\"sk-toggleable__label fitted sk-toggleable__label-arrow fitted\">&nbsp;LinearRegression<a class=\"sk-estimator-doc-link fitted\" rel=\"noreferrer\" target=\"_blank\" href=\"https://scikit-learn.org/1.5/modules/generated/sklearn.linear_model.LinearRegression.html\">?<span>Documentation for LinearRegression</span></a></label><div class=\"sk-toggleable__content fitted\"><pre>LinearRegression()</pre></div> </div></div></div></div></div></div></div><div class=\"sk-parallel-item\"><div class=\"sk-item\"><div class=\"sk-label-container\"><div class=\"sk-label fitted sk-toggleable\"><label>rm1</label></div></div><div class=\"sk-serial\"><div class=\"sk-item\"><div class=\"sk-estimator fitted sk-toggleable\"><input class=\"sk-toggleable__control sk-hidden--visually\" id=\"sk-estimator-id-40\" type=\"checkbox\" ><label for=\"sk-estimator-id-40\" class=\"sk-toggleable__label fitted sk-toggleable__label-arrow fitted\">&nbsp;Ridge<a class=\"sk-estimator-doc-link fitted\" rel=\"noreferrer\" target=\"_blank\" href=\"https://scikit-learn.org/1.5/modules/generated/sklearn.linear_model.Ridge.html\">?<span>Documentation for Ridge</span></a></label><div class=\"sk-toggleable__content fitted\"><pre>Ridge()</pre></div> </div></div></div></div></div><div class=\"sk-parallel-item\"><div class=\"sk-item\"><div class=\"sk-label-container\"><div class=\"sk-label fitted sk-toggleable\"><label>rm2</label></div></div><div class=\"sk-serial\"><div class=\"sk-item\"><div class=\"sk-estimator fitted sk-toggleable\"><input class=\"sk-toggleable__control sk-hidden--visually\" id=\"sk-estimator-id-41\" type=\"checkbox\" ><label for=\"sk-estimator-id-41\" class=\"sk-toggleable__label fitted sk-toggleable__label-arrow fitted\">&nbsp;Lasso<a class=\"sk-estimator-doc-link fitted\" rel=\"noreferrer\" target=\"_blank\" href=\"https://scikit-learn.org/1.5/modules/generated/sklearn.linear_model.Lasso.html\">?<span>Documentation for Lasso</span></a></label><div class=\"sk-toggleable__content fitted\"><pre>Lasso()</pre></div> </div></div></div></div></div><div class=\"sk-parallel-item\"><div class=\"sk-item\"><div class=\"sk-label-container\"><div class=\"sk-label fitted sk-toggleable\"><label>rm3</label></div></div><div class=\"sk-serial\"><div class=\"sk-item\"><div class=\"sk-estimator fitted sk-toggleable\"><input class=\"sk-toggleable__control sk-hidden--visually\" id=\"sk-estimator-id-42\" type=\"checkbox\" ><label for=\"sk-estimator-id-42\" class=\"sk-toggleable__label fitted sk-toggleable__label-arrow fitted\">&nbsp;ElasticNet<a class=\"sk-estimator-doc-link fitted\" rel=\"noreferrer\" target=\"_blank\" href=\"https://scikit-learn.org/1.5/modules/generated/sklearn.linear_model.ElasticNet.html\">?<span>Documentation for ElasticNet</span></a></label><div class=\"sk-toggleable__content fitted\"><pre>ElasticNet()</pre></div> </div></div></div></div></div><div class=\"sk-parallel-item\"><div class=\"sk-item\"><div class=\"sk-label-container\"><div class=\"sk-label fitted sk-toggleable\"><label>dt</label></div></div><div class=\"sk-serial\"><div class=\"sk-item\"><div class=\"sk-estimator fitted sk-toggleable\"><input class=\"sk-toggleable__control sk-hidden--visually\" id=\"sk-estimator-id-43\" type=\"checkbox\" ><label for=\"sk-estimator-id-43\" class=\"sk-toggleable__label fitted sk-toggleable__label-arrow fitted\">&nbsp;DecisionTreeRegressor<a class=\"sk-estimator-doc-link fitted\" rel=\"noreferrer\" target=\"_blank\" href=\"https://scikit-learn.org/1.5/modules/generated/sklearn.tree.DecisionTreeRegressor.html\">?<span>Documentation for DecisionTreeRegressor</span></a></label><div class=\"sk-toggleable__content fitted\"><pre>DecisionTreeRegressor(max_depth=2000)</pre></div> </div></div></div></div></div></div></div><div class=\"sk-item\"><div class=\"sk-parallel\"><div class=\"sk-parallel-item\"><div class=\"sk-item\"><div class=\"sk-label-container\"><div class=\"sk-label fitted sk-toggleable\"><label>final_estimator</label></div></div><div class=\"sk-serial\"><div class=\"sk-item\"><div class=\"sk-estimator fitted sk-toggleable\"><input class=\"sk-toggleable__control sk-hidden--visually\" id=\"sk-estimator-id-44\" type=\"checkbox\" ><label for=\"sk-estimator-id-44\" class=\"sk-toggleable__label fitted sk-toggleable__label-arrow fitted\">&nbsp;DecisionTreeRegressor<a class=\"sk-estimator-doc-link fitted\" rel=\"noreferrer\" target=\"_blank\" href=\"https://scikit-learn.org/1.5/modules/generated/sklearn.tree.DecisionTreeRegressor.html\">?<span>Documentation for DecisionTreeRegressor</span></a></label><div class=\"sk-toggleable__content fitted\"><pre>DecisionTreeRegressor(max_depth=10, min_samples_split=10)</pre></div> </div></div></div></div></div></div></div></div></div></div></div>"
     },
     "execution_count": 297,
     "metadata": {},
     "output_type": "execute_result"
    }
   ],
   "source": [
    "best_refined_model.fit(X_train_scaled, y_train)"
   ],
   "metadata": {
    "collapsed": false,
    "ExecuteTime": {
     "end_time": "2024-06-12T17:41:03.609410800Z",
     "start_time": "2024-06-12T17:41:00.980898Z"
    }
   }
  },
  {
   "cell_type": "code",
   "execution_count": 298,
   "outputs": [
    {
     "name": "stdout",
     "output_type": "stream",
     "text": [
      "Final Model Mean Absolute Error: 0.9112673516230082\n",
      "Final Model Mean Squared Error: 1.9608100798821673\n",
      "Final Model Root Mean Squared Error: 1.4002892843559744\n",
      "Final Model R2 Score: 0.9584001027713187\n"
     ]
    }
   ],
   "source": [
    "y_pred_final = best_refined_model.predict(X_test_scaled)\n",
    "\n",
    "print(f\"Final Model Mean Absolute Error: {mean_absolute_error(y_test, y_pred_final)}\")\n",
    "print(f\"Final Model Mean Squared Error: {mean_squared_error(y_test, y_pred_final)}\")\n",
    "print(f\"Final Model Root Mean Squared Error: {np.sqrt(mean_squared_error(y_test, y_pred_final))}\")\n",
    "print(f\"Final Model R2 Score: {r2_score(y_test, y_pred_final)}\")"
   ],
   "metadata": {
    "collapsed": false,
    "ExecuteTime": {
     "end_time": "2024-06-12T17:41:03.647694300Z",
     "start_time": "2024-06-12T17:41:03.610417500Z"
    }
   }
  },
  {
   "cell_type": "code",
   "execution_count": 299,
   "outputs": [
    {
     "data": {
      "text/plain": "['final_stacking_model.pkl']"
     },
     "execution_count": 299,
     "metadata": {},
     "output_type": "execute_result"
    }
   ],
   "source": [
    "joblib.dump(best_refined_model, 'final_stacking_model.pkl')"
   ],
   "metadata": {
    "collapsed": false,
    "ExecuteTime": {
     "end_time": "2024-06-12T17:41:03.662780300Z",
     "start_time": "2024-06-12T17:41:03.636638700Z"
    }
   }
  }
 ],
 "metadata": {
  "kernelspec": {
   "display_name": "Python 3",
   "language": "python",
   "name": "python3"
  },
  "language_info": {
   "codemirror_mode": {
    "name": "ipython",
    "version": 2
   },
   "file_extension": ".py",
   "mimetype": "text/x-python",
   "name": "python",
   "nbconvert_exporter": "python",
   "pygments_lexer": "ipython2",
   "version": "2.7.6"
  }
 },
 "nbformat": 4,
 "nbformat_minor": 0
}
