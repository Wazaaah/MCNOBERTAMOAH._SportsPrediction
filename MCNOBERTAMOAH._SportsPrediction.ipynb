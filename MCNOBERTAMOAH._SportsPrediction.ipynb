{
 "cells": [
  {
   "cell_type": "code",
   "execution_count": 1,
   "metadata": {
    "collapsed": true,
    "ExecuteTime": {
     "end_time": "2024-06-23T21:43:30.865777800Z",
     "start_time": "2024-06-23T21:43:27.554793600Z"
    }
   },
   "outputs": [],
   "source": [
    "# Import necessary libraries for data manipulation and analysis\n",
    "\n",
    "import re\n",
    "import joblib\n",
    "import numpy as np\n",
    "import pandas as pd\n",
    "import xgboost as xgb\n",
    "import category_encoders as ce\n",
    "from xgboost import XGBRegressor\n",
    "from lightgbm import LGBMRegressor\n",
    "from sklearn.pipeline import Pipeline\n",
    "from sklearn.impute import SimpleImputer\n",
    "from sklearn.pipeline import make_pipeline\n",
    "from sklearn.ensemble import VotingRegressor\n",
    "from sklearn.tree import DecisionTreeRegressor\n",
    "from sklearn.ensemble import StackingRegressor\n",
    "from sklearn.ensemble import AdaBoostRegressor\n",
    "from sklearn.preprocessing import StandardScaler\n",
    "from sklearn.linear_model import LinearRegression\n",
    "from sklearn.model_selection import train_test_split\n",
    "from sklearn.preprocessing import PolynomialFeatures\n",
    "from sklearn.model_selection import RandomizedSearchCV\n",
    "from sklearn.linear_model import ElasticNet, Lasso, Ridge\n",
    "from sklearn.model_selection import cross_val_score, GridSearchCV\n",
    "from sklearn.ensemble import VotingRegressor, GradientBoostingRegressor\n",
    "from sklearn.metrics import mean_absolute_error, mean_squared_error, r2_score"
   ]
  },
  {
   "cell_type": "code",
   "execution_count": 2,
   "outputs": [
    {
     "name": "stderr",
     "output_type": "stream",
     "text": [
      "C:\\Users\\mcnob\\AppData\\Local\\Temp\\ipykernel_15600\\1340866027.py:3: DtypeWarning: Columns (25,108) have mixed types. Specify dtype option on import or set low_memory=False.\n",
      "  players_22 = pd.read_csv('players_22.csv')\n",
      "C:\\Users\\mcnob\\AppData\\Local\\Temp\\ipykernel_15600\\1340866027.py:4: DtypeWarning: Columns (108) have mixed types. Specify dtype option on import or set low_memory=False.\n",
      "  male_players_legacy = pd.read_csv('male_players (legacy).csv')\n"
     ]
    }
   ],
   "source": [
    "# Read the CSV files containing player data\n",
    "\n",
    "players_22 = pd.read_csv('players_22.csv')\n",
    "male_players_legacy = pd.read_csv('male_players (legacy).csv')"
   ],
   "metadata": {
    "collapsed": false,
    "ExecuteTime": {
     "end_time": "2024-06-23T21:43:33.092729900Z",
     "start_time": "2024-06-23T21:43:30.867779Z"
    }
   }
  },
  {
   "cell_type": "code",
   "execution_count": 3,
   "outputs": [],
   "source": [
    "# A Function For Cleaning Datasets For Training\n",
    "def clean_data(df,condition):\n",
    "\n",
    "    # Drop columns containing 'url' or 'dob' in their names\n",
    "    columns_to_drop = df.filter(regex='url|dob').columns\n",
    "    df.drop(columns=columns_to_drop, axis=1, inplace=True)\n",
    "\n",
    "    # Create lists to hold columns with less than 30% missing values and columns with more than 30% missing values\n",
    "    L = []\n",
    "    L_less = []\n",
    "    for i in df.columns:\n",
    "        if df[i].isnull().sum()<(0.3 * df.shape[0]):\n",
    "            L.append(i)\n",
    "        else:\n",
    "            L_less.append(i)\n",
    "\n",
    "    df = df[L]\n",
    "\n",
    "    # Impute missing values: use the median for numeric columns and the most frequent value for object columns\n",
    "    numeric_cols = df.select_dtypes(include=['number']).columns\n",
    "    num_imputer = SimpleImputer(strategy='median')\n",
    "    df[numeric_cols] = num_imputer.fit_transform(df[numeric_cols])\n",
    "\n",
    "\n",
    "    obj_imputer = SimpleImputer(strategy='most_frequent')\n",
    "    df[df.select_dtypes(include='object').columns] = obj_imputer.fit_transform\\\n",
    "        (df[df.select_dtypes\n",
    "    (include='object').columns])\n",
    "\n",
    "    if condition == \"Yes\":\n",
    "        # Drop specified columns\n",
    "        columns_to_drop = ['player_id','fifa_version','short_name', 'long_name','player_positions','club_team_id',\n",
    "                           'club_name','club_joined_date','club_contract_valid_until_year','league_name',\n",
    "                           'league_level','club_position','club_jersey_number','fifa_update','fifa_update_date'\n",
    "                           ,'nationality_id','nationality_name','real_face']\n",
    "        df.drop(columns=columns_to_drop, axis=1, inplace=True)\n",
    "\n",
    "    # Convert specific patterns in the columns from string to numerical values\n",
    "    for col in df.columns:\n",
    "        # Convert column to string for checking patterns\n",
    "        col_str = df[col].astype(str)\n",
    "\n",
    "        # Check if the column contains any data in the form of \"number+number\" or \"number-number\"\n",
    "        if col_str.str.contains(r'^\\d+[\\+\\-]\\d+$').any():\n",
    "            # Apply eval to each element in the column if it matches the pattern\n",
    "            df[col] = df[col].apply(lambda x: eval(x) if isinstance(x, str) and re.match\n",
    "            (r'^\\d+[\\+\\-]\\d+$', x) else x)\n",
    "\n",
    "            # Convert the column to int or float as needed\n",
    "            if df[col].apply(lambda x: isinstance(x, (int, float))).all():\n",
    "                df[col] = df[col].astype(float)\n",
    "\n",
    "    # Encode object columns using BinaryEncoder\n",
    "    for column in df.columns[:69]:\n",
    "        if df[column].dtype == 'object':\n",
    "            encoder = ce.BinaryEncoder(cols=[column])\n",
    "            col_encoded = encoder.fit_transform(df[column])\n",
    "            df.drop(column, axis=1, inplace=True)\n",
    "            df = pd.concat([df, col_encoded], axis=1).reset_index(drop=True)\n",
    "\n",
    "    return df"
   ],
   "metadata": {
    "collapsed": false,
    "ExecuteTime": {
     "end_time": "2024-06-23T21:43:33.104613100Z",
     "start_time": "2024-06-23T21:43:33.100606100Z"
    }
   }
  },
  {
   "cell_type": "code",
   "execution_count": 4,
   "outputs": [
    {
     "name": "stderr",
     "output_type": "stream",
     "text": [
      "C:\\Users\\mcnob\\AppData\\Local\\Temp\\ipykernel_15600\\3199309306.py:22: SettingWithCopyWarning: \n",
      "A value is trying to be set on a copy of a slice from a DataFrame.\n",
      "Try using .loc[row_indexer,col_indexer] = value instead\n",
      "\n",
      "See the caveats in the documentation: https://pandas.pydata.org/pandas-docs/stable/user_guide/indexing.html#returning-a-view-versus-a-copy\n",
      "  df[numeric_cols] = num_imputer.fit_transform(df[numeric_cols])\n",
      "C:\\Users\\mcnob\\AppData\\Local\\Temp\\ipykernel_15600\\3199309306.py:26: SettingWithCopyWarning: \n",
      "A value is trying to be set on a copy of a slice from a DataFrame.\n",
      "Try using .loc[row_indexer,col_indexer] = value instead\n",
      "\n",
      "See the caveats in the documentation: https://pandas.pydata.org/pandas-docs/stable/user_guide/indexing.html#returning-a-view-versus-a-copy\n",
      "  df[df.select_dtypes(include='object').columns] = obj_imputer.fit_transform\\\n",
      "C:\\Users\\mcnob\\AppData\\Local\\Temp\\ipykernel_15600\\3199309306.py:36: SettingWithCopyWarning: \n",
      "A value is trying to be set on a copy of a slice from a DataFrame\n",
      "\n",
      "See the caveats in the documentation: https://pandas.pydata.org/pandas-docs/stable/user_guide/indexing.html#returning-a-view-versus-a-copy\n",
      "  df.drop(columns=columns_to_drop, axis=1, inplace=True)\n",
      "C:\\Users\\mcnob\\AppData\\Local\\Temp\\ipykernel_15600\\3199309306.py:46: SettingWithCopyWarning: \n",
      "A value is trying to be set on a copy of a slice from a DataFrame.\n",
      "Try using .loc[row_indexer,col_indexer] = value instead\n",
      "\n",
      "See the caveats in the documentation: https://pandas.pydata.org/pandas-docs/stable/user_guide/indexing.html#returning-a-view-versus-a-copy\n",
      "  df[col] = df[col].apply(lambda x: eval(x) if isinstance(x, str) and re.match\n",
      "C:\\Users\\mcnob\\AppData\\Local\\Temp\\ipykernel_15600\\3199309306.py:46: SettingWithCopyWarning: \n",
      "A value is trying to be set on a copy of a slice from a DataFrame.\n",
      "Try using .loc[row_indexer,col_indexer] = value instead\n",
      "\n",
      "See the caveats in the documentation: https://pandas.pydata.org/pandas-docs/stable/user_guide/indexing.html#returning-a-view-versus-a-copy\n",
      "  df[col] = df[col].apply(lambda x: eval(x) if isinstance(x, str) and re.match\n",
      "C:\\Users\\mcnob\\AppData\\Local\\Temp\\ipykernel_15600\\3199309306.py:46: SettingWithCopyWarning: \n",
      "A value is trying to be set on a copy of a slice from a DataFrame.\n",
      "Try using .loc[row_indexer,col_indexer] = value instead\n",
      "\n",
      "See the caveats in the documentation: https://pandas.pydata.org/pandas-docs/stable/user_guide/indexing.html#returning-a-view-versus-a-copy\n",
      "  df[col] = df[col].apply(lambda x: eval(x) if isinstance(x, str) and re.match\n",
      "C:\\Users\\mcnob\\AppData\\Local\\Temp\\ipykernel_15600\\3199309306.py:46: SettingWithCopyWarning: \n",
      "A value is trying to be set on a copy of a slice from a DataFrame.\n",
      "Try using .loc[row_indexer,col_indexer] = value instead\n",
      "\n",
      "See the caveats in the documentation: https://pandas.pydata.org/pandas-docs/stable/user_guide/indexing.html#returning-a-view-versus-a-copy\n",
      "  df[col] = df[col].apply(lambda x: eval(x) if isinstance(x, str) and re.match\n",
      "C:\\Users\\mcnob\\AppData\\Local\\Temp\\ipykernel_15600\\3199309306.py:46: SettingWithCopyWarning: \n",
      "A value is trying to be set on a copy of a slice from a DataFrame.\n",
      "Try using .loc[row_indexer,col_indexer] = value instead\n",
      "\n",
      "See the caveats in the documentation: https://pandas.pydata.org/pandas-docs/stable/user_guide/indexing.html#returning-a-view-versus-a-copy\n",
      "  df[col] = df[col].apply(lambda x: eval(x) if isinstance(x, str) and re.match\n",
      "C:\\Users\\mcnob\\AppData\\Local\\Temp\\ipykernel_15600\\3199309306.py:46: SettingWithCopyWarning: \n",
      "A value is trying to be set on a copy of a slice from a DataFrame.\n",
      "Try using .loc[row_indexer,col_indexer] = value instead\n",
      "\n",
      "See the caveats in the documentation: https://pandas.pydata.org/pandas-docs/stable/user_guide/indexing.html#returning-a-view-versus-a-copy\n",
      "  df[col] = df[col].apply(lambda x: eval(x) if isinstance(x, str) and re.match\n",
      "C:\\Users\\mcnob\\AppData\\Local\\Temp\\ipykernel_15600\\3199309306.py:46: SettingWithCopyWarning: \n",
      "A value is trying to be set on a copy of a slice from a DataFrame.\n",
      "Try using .loc[row_indexer,col_indexer] = value instead\n",
      "\n",
      "See the caveats in the documentation: https://pandas.pydata.org/pandas-docs/stable/user_guide/indexing.html#returning-a-view-versus-a-copy\n",
      "  df[col] = df[col].apply(lambda x: eval(x) if isinstance(x, str) and re.match\n",
      "C:\\Users\\mcnob\\AppData\\Local\\Temp\\ipykernel_15600\\3199309306.py:46: SettingWithCopyWarning: \n",
      "A value is trying to be set on a copy of a slice from a DataFrame.\n",
      "Try using .loc[row_indexer,col_indexer] = value instead\n",
      "\n",
      "See the caveats in the documentation: https://pandas.pydata.org/pandas-docs/stable/user_guide/indexing.html#returning-a-view-versus-a-copy\n",
      "  df[col] = df[col].apply(lambda x: eval(x) if isinstance(x, str) and re.match\n",
      "C:\\Users\\mcnob\\AppData\\Local\\Temp\\ipykernel_15600\\3199309306.py:46: SettingWithCopyWarning: \n",
      "A value is trying to be set on a copy of a slice from a DataFrame.\n",
      "Try using .loc[row_indexer,col_indexer] = value instead\n",
      "\n",
      "See the caveats in the documentation: https://pandas.pydata.org/pandas-docs/stable/user_guide/indexing.html#returning-a-view-versus-a-copy\n",
      "  df[col] = df[col].apply(lambda x: eval(x) if isinstance(x, str) and re.match\n",
      "C:\\Users\\mcnob\\AppData\\Local\\Temp\\ipykernel_15600\\3199309306.py:46: SettingWithCopyWarning: \n",
      "A value is trying to be set on a copy of a slice from a DataFrame.\n",
      "Try using .loc[row_indexer,col_indexer] = value instead\n",
      "\n",
      "See the caveats in the documentation: https://pandas.pydata.org/pandas-docs/stable/user_guide/indexing.html#returning-a-view-versus-a-copy\n",
      "  df[col] = df[col].apply(lambda x: eval(x) if isinstance(x, str) and re.match\n",
      "C:\\Users\\mcnob\\AppData\\Local\\Temp\\ipykernel_15600\\3199309306.py:46: SettingWithCopyWarning: \n",
      "A value is trying to be set on a copy of a slice from a DataFrame.\n",
      "Try using .loc[row_indexer,col_indexer] = value instead\n",
      "\n",
      "See the caveats in the documentation: https://pandas.pydata.org/pandas-docs/stable/user_guide/indexing.html#returning-a-view-versus-a-copy\n",
      "  df[col] = df[col].apply(lambda x: eval(x) if isinstance(x, str) and re.match\n",
      "C:\\Users\\mcnob\\AppData\\Local\\Temp\\ipykernel_15600\\3199309306.py:46: SettingWithCopyWarning: \n",
      "A value is trying to be set on a copy of a slice from a DataFrame.\n",
      "Try using .loc[row_indexer,col_indexer] = value instead\n",
      "\n",
      "See the caveats in the documentation: https://pandas.pydata.org/pandas-docs/stable/user_guide/indexing.html#returning-a-view-versus-a-copy\n",
      "  df[col] = df[col].apply(lambda x: eval(x) if isinstance(x, str) and re.match\n",
      "C:\\Users\\mcnob\\AppData\\Local\\Temp\\ipykernel_15600\\3199309306.py:46: SettingWithCopyWarning: \n",
      "A value is trying to be set on a copy of a slice from a DataFrame.\n",
      "Try using .loc[row_indexer,col_indexer] = value instead\n",
      "\n",
      "See the caveats in the documentation: https://pandas.pydata.org/pandas-docs/stable/user_guide/indexing.html#returning-a-view-versus-a-copy\n",
      "  df[col] = df[col].apply(lambda x: eval(x) if isinstance(x, str) and re.match\n",
      "C:\\Users\\mcnob\\AppData\\Local\\Temp\\ipykernel_15600\\3199309306.py:46: SettingWithCopyWarning: \n",
      "A value is trying to be set on a copy of a slice from a DataFrame.\n",
      "Try using .loc[row_indexer,col_indexer] = value instead\n",
      "\n",
      "See the caveats in the documentation: https://pandas.pydata.org/pandas-docs/stable/user_guide/indexing.html#returning-a-view-versus-a-copy\n",
      "  df[col] = df[col].apply(lambda x: eval(x) if isinstance(x, str) and re.match\n",
      "C:\\Users\\mcnob\\AppData\\Local\\Temp\\ipykernel_15600\\3199309306.py:46: SettingWithCopyWarning: \n",
      "A value is trying to be set on a copy of a slice from a DataFrame.\n",
      "Try using .loc[row_indexer,col_indexer] = value instead\n",
      "\n",
      "See the caveats in the documentation: https://pandas.pydata.org/pandas-docs/stable/user_guide/indexing.html#returning-a-view-versus-a-copy\n",
      "  df[col] = df[col].apply(lambda x: eval(x) if isinstance(x, str) and re.match\n",
      "C:\\Users\\mcnob\\AppData\\Local\\Temp\\ipykernel_15600\\3199309306.py:46: SettingWithCopyWarning: \n",
      "A value is trying to be set on a copy of a slice from a DataFrame.\n",
      "Try using .loc[row_indexer,col_indexer] = value instead\n",
      "\n",
      "See the caveats in the documentation: https://pandas.pydata.org/pandas-docs/stable/user_guide/indexing.html#returning-a-view-versus-a-copy\n",
      "  df[col] = df[col].apply(lambda x: eval(x) if isinstance(x, str) and re.match\n",
      "C:\\Users\\mcnob\\AppData\\Local\\Temp\\ipykernel_15600\\3199309306.py:46: SettingWithCopyWarning: \n",
      "A value is trying to be set on a copy of a slice from a DataFrame.\n",
      "Try using .loc[row_indexer,col_indexer] = value instead\n",
      "\n",
      "See the caveats in the documentation: https://pandas.pydata.org/pandas-docs/stable/user_guide/indexing.html#returning-a-view-versus-a-copy\n",
      "  df[col] = df[col].apply(lambda x: eval(x) if isinstance(x, str) and re.match\n",
      "C:\\Users\\mcnob\\AppData\\Local\\Temp\\ipykernel_15600\\3199309306.py:46: SettingWithCopyWarning: \n",
      "A value is trying to be set on a copy of a slice from a DataFrame.\n",
      "Try using .loc[row_indexer,col_indexer] = value instead\n",
      "\n",
      "See the caveats in the documentation: https://pandas.pydata.org/pandas-docs/stable/user_guide/indexing.html#returning-a-view-versus-a-copy\n",
      "  df[col] = df[col].apply(lambda x: eval(x) if isinstance(x, str) and re.match\n",
      "C:\\Users\\mcnob\\AppData\\Local\\Temp\\ipykernel_15600\\3199309306.py:46: SettingWithCopyWarning: \n",
      "A value is trying to be set on a copy of a slice from a DataFrame.\n",
      "Try using .loc[row_indexer,col_indexer] = value instead\n",
      "\n",
      "See the caveats in the documentation: https://pandas.pydata.org/pandas-docs/stable/user_guide/indexing.html#returning-a-view-versus-a-copy\n",
      "  df[col] = df[col].apply(lambda x: eval(x) if isinstance(x, str) and re.match\n",
      "C:\\Users\\mcnob\\AppData\\Local\\Temp\\ipykernel_15600\\3199309306.py:46: SettingWithCopyWarning: \n",
      "A value is trying to be set on a copy of a slice from a DataFrame.\n",
      "Try using .loc[row_indexer,col_indexer] = value instead\n",
      "\n",
      "See the caveats in the documentation: https://pandas.pydata.org/pandas-docs/stable/user_guide/indexing.html#returning-a-view-versus-a-copy\n",
      "  df[col] = df[col].apply(lambda x: eval(x) if isinstance(x, str) and re.match\n",
      "C:\\Users\\mcnob\\AppData\\Local\\Temp\\ipykernel_15600\\3199309306.py:46: SettingWithCopyWarning: \n",
      "A value is trying to be set on a copy of a slice from a DataFrame.\n",
      "Try using .loc[row_indexer,col_indexer] = value instead\n",
      "\n",
      "See the caveats in the documentation: https://pandas.pydata.org/pandas-docs/stable/user_guide/indexing.html#returning-a-view-versus-a-copy\n",
      "  df[col] = df[col].apply(lambda x: eval(x) if isinstance(x, str) and re.match\n",
      "C:\\Users\\mcnob\\AppData\\Local\\Temp\\ipykernel_15600\\3199309306.py:46: SettingWithCopyWarning: \n",
      "A value is trying to be set on a copy of a slice from a DataFrame.\n",
      "Try using .loc[row_indexer,col_indexer] = value instead\n",
      "\n",
      "See the caveats in the documentation: https://pandas.pydata.org/pandas-docs/stable/user_guide/indexing.html#returning-a-view-versus-a-copy\n",
      "  df[col] = df[col].apply(lambda x: eval(x) if isinstance(x, str) and re.match\n",
      "C:\\Users\\mcnob\\AppData\\Local\\Temp\\ipykernel_15600\\3199309306.py:46: SettingWithCopyWarning: \n",
      "A value is trying to be set on a copy of a slice from a DataFrame.\n",
      "Try using .loc[row_indexer,col_indexer] = value instead\n",
      "\n",
      "See the caveats in the documentation: https://pandas.pydata.org/pandas-docs/stable/user_guide/indexing.html#returning-a-view-versus-a-copy\n",
      "  df[col] = df[col].apply(lambda x: eval(x) if isinstance(x, str) and re.match\n",
      "C:\\Users\\mcnob\\AppData\\Local\\Temp\\ipykernel_15600\\3199309306.py:46: SettingWithCopyWarning: \n",
      "A value is trying to be set on a copy of a slice from a DataFrame.\n",
      "Try using .loc[row_indexer,col_indexer] = value instead\n",
      "\n",
      "See the caveats in the documentation: https://pandas.pydata.org/pandas-docs/stable/user_guide/indexing.html#returning-a-view-versus-a-copy\n",
      "  df[col] = df[col].apply(lambda x: eval(x) if isinstance(x, str) and re.match\n",
      "C:\\Users\\mcnob\\AppData\\Local\\Temp\\ipykernel_15600\\3199309306.py:46: SettingWithCopyWarning: \n",
      "A value is trying to be set on a copy of a slice from a DataFrame.\n",
      "Try using .loc[row_indexer,col_indexer] = value instead\n",
      "\n",
      "See the caveats in the documentation: https://pandas.pydata.org/pandas-docs/stable/user_guide/indexing.html#returning-a-view-versus-a-copy\n",
      "  df[col] = df[col].apply(lambda x: eval(x) if isinstance(x, str) and re.match\n",
      "C:\\Users\\mcnob\\AppData\\Local\\Temp\\ipykernel_15600\\3199309306.py:46: SettingWithCopyWarning: \n",
      "A value is trying to be set on a copy of a slice from a DataFrame.\n",
      "Try using .loc[row_indexer,col_indexer] = value instead\n",
      "\n",
      "See the caveats in the documentation: https://pandas.pydata.org/pandas-docs/stable/user_guide/indexing.html#returning-a-view-versus-a-copy\n",
      "  df[col] = df[col].apply(lambda x: eval(x) if isinstance(x, str) and re.match\n",
      "C:\\Users\\mcnob\\AppData\\Local\\Temp\\ipykernel_15600\\3199309306.py:46: SettingWithCopyWarning: \n",
      "A value is trying to be set on a copy of a slice from a DataFrame.\n",
      "Try using .loc[row_indexer,col_indexer] = value instead\n",
      "\n",
      "See the caveats in the documentation: https://pandas.pydata.org/pandas-docs/stable/user_guide/indexing.html#returning-a-view-versus-a-copy\n",
      "  df[col] = df[col].apply(lambda x: eval(x) if isinstance(x, str) and re.match\n",
      "C:\\Users\\mcnob\\AppData\\Local\\Temp\\ipykernel_15600\\3199309306.py:58: SettingWithCopyWarning: \n",
      "A value is trying to be set on a copy of a slice from a DataFrame\n",
      "\n",
      "See the caveats in the documentation: https://pandas.pydata.org/pandas-docs/stable/user_guide/indexing.html#returning-a-view-versus-a-copy\n",
      "  df.drop(column, axis=1, inplace=True)\n"
     ]
    }
   ],
   "source": [
    "# Clean the first dataset\n",
    "\n",
    "male_players_legacy = clean_data(male_players_legacy, \"Yes\")"
   ],
   "metadata": {
    "collapsed": false,
    "ExecuteTime": {
     "end_time": "2024-06-23T21:44:06.531052200Z",
     "start_time": "2024-06-23T21:43:33.105615800Z"
    }
   }
  },
  {
   "cell_type": "code",
   "execution_count": 5,
   "outputs": [
    {
     "name": "stderr",
     "output_type": "stream",
     "text": [
      "C:\\Users\\mcnob\\AppData\\Local\\Temp\\ipykernel_15600\\3199309306.py:22: SettingWithCopyWarning: \n",
      "A value is trying to be set on a copy of a slice from a DataFrame.\n",
      "Try using .loc[row_indexer,col_indexer] = value instead\n",
      "\n",
      "See the caveats in the documentation: https://pandas.pydata.org/pandas-docs/stable/user_guide/indexing.html#returning-a-view-versus-a-copy\n",
      "  df[numeric_cols] = num_imputer.fit_transform(df[numeric_cols])\n",
      "C:\\Users\\mcnob\\AppData\\Local\\Temp\\ipykernel_15600\\3199309306.py:26: SettingWithCopyWarning: \n",
      "A value is trying to be set on a copy of a slice from a DataFrame.\n",
      "Try using .loc[row_indexer,col_indexer] = value instead\n",
      "\n",
      "See the caveats in the documentation: https://pandas.pydata.org/pandas-docs/stable/user_guide/indexing.html#returning-a-view-versus-a-copy\n",
      "  df[df.select_dtypes(include='object').columns] = obj_imputer.fit_transform\\\n",
      "C:\\Users\\mcnob\\AppData\\Local\\Temp\\ipykernel_15600\\3199309306.py:46: SettingWithCopyWarning: \n",
      "A value is trying to be set on a copy of a slice from a DataFrame.\n",
      "Try using .loc[row_indexer,col_indexer] = value instead\n",
      "\n",
      "See the caveats in the documentation: https://pandas.pydata.org/pandas-docs/stable/user_guide/indexing.html#returning-a-view-versus-a-copy\n",
      "  df[col] = df[col].apply(lambda x: eval(x) if isinstance(x, str) and re.match\n",
      "C:\\Users\\mcnob\\AppData\\Local\\Temp\\ipykernel_15600\\3199309306.py:46: SettingWithCopyWarning: \n",
      "A value is trying to be set on a copy of a slice from a DataFrame.\n",
      "Try using .loc[row_indexer,col_indexer] = value instead\n",
      "\n",
      "See the caveats in the documentation: https://pandas.pydata.org/pandas-docs/stable/user_guide/indexing.html#returning-a-view-versus-a-copy\n",
      "  df[col] = df[col].apply(lambda x: eval(x) if isinstance(x, str) and re.match\n",
      "C:\\Users\\mcnob\\AppData\\Local\\Temp\\ipykernel_15600\\3199309306.py:46: SettingWithCopyWarning: \n",
      "A value is trying to be set on a copy of a slice from a DataFrame.\n",
      "Try using .loc[row_indexer,col_indexer] = value instead\n",
      "\n",
      "See the caveats in the documentation: https://pandas.pydata.org/pandas-docs/stable/user_guide/indexing.html#returning-a-view-versus-a-copy\n",
      "  df[col] = df[col].apply(lambda x: eval(x) if isinstance(x, str) and re.match\n",
      "C:\\Users\\mcnob\\AppData\\Local\\Temp\\ipykernel_15600\\3199309306.py:46: SettingWithCopyWarning: \n",
      "A value is trying to be set on a copy of a slice from a DataFrame.\n",
      "Try using .loc[row_indexer,col_indexer] = value instead\n",
      "\n",
      "See the caveats in the documentation: https://pandas.pydata.org/pandas-docs/stable/user_guide/indexing.html#returning-a-view-versus-a-copy\n",
      "  df[col] = df[col].apply(lambda x: eval(x) if isinstance(x, str) and re.match\n",
      "C:\\Users\\mcnob\\AppData\\Local\\Temp\\ipykernel_15600\\3199309306.py:46: SettingWithCopyWarning: \n",
      "A value is trying to be set on a copy of a slice from a DataFrame.\n",
      "Try using .loc[row_indexer,col_indexer] = value instead\n",
      "\n",
      "See the caveats in the documentation: https://pandas.pydata.org/pandas-docs/stable/user_guide/indexing.html#returning-a-view-versus-a-copy\n",
      "  df[col] = df[col].apply(lambda x: eval(x) if isinstance(x, str) and re.match\n",
      "C:\\Users\\mcnob\\AppData\\Local\\Temp\\ipykernel_15600\\3199309306.py:46: SettingWithCopyWarning: \n",
      "A value is trying to be set on a copy of a slice from a DataFrame.\n",
      "Try using .loc[row_indexer,col_indexer] = value instead\n",
      "\n",
      "See the caveats in the documentation: https://pandas.pydata.org/pandas-docs/stable/user_guide/indexing.html#returning-a-view-versus-a-copy\n",
      "  df[col] = df[col].apply(lambda x: eval(x) if isinstance(x, str) and re.match\n",
      "C:\\Users\\mcnob\\AppData\\Local\\Temp\\ipykernel_15600\\3199309306.py:46: SettingWithCopyWarning: \n",
      "A value is trying to be set on a copy of a slice from a DataFrame.\n",
      "Try using .loc[row_indexer,col_indexer] = value instead\n",
      "\n",
      "See the caveats in the documentation: https://pandas.pydata.org/pandas-docs/stable/user_guide/indexing.html#returning-a-view-versus-a-copy\n",
      "  df[col] = df[col].apply(lambda x: eval(x) if isinstance(x, str) and re.match\n",
      "C:\\Users\\mcnob\\AppData\\Local\\Temp\\ipykernel_15600\\3199309306.py:46: SettingWithCopyWarning: \n",
      "A value is trying to be set on a copy of a slice from a DataFrame.\n",
      "Try using .loc[row_indexer,col_indexer] = value instead\n",
      "\n",
      "See the caveats in the documentation: https://pandas.pydata.org/pandas-docs/stable/user_guide/indexing.html#returning-a-view-versus-a-copy\n",
      "  df[col] = df[col].apply(lambda x: eval(x) if isinstance(x, str) and re.match\n",
      "C:\\Users\\mcnob\\AppData\\Local\\Temp\\ipykernel_15600\\3199309306.py:46: SettingWithCopyWarning: \n",
      "A value is trying to be set on a copy of a slice from a DataFrame.\n",
      "Try using .loc[row_indexer,col_indexer] = value instead\n",
      "\n",
      "See the caveats in the documentation: https://pandas.pydata.org/pandas-docs/stable/user_guide/indexing.html#returning-a-view-versus-a-copy\n",
      "  df[col] = df[col].apply(lambda x: eval(x) if isinstance(x, str) and re.match\n",
      "C:\\Users\\mcnob\\AppData\\Local\\Temp\\ipykernel_15600\\3199309306.py:46: SettingWithCopyWarning: \n",
      "A value is trying to be set on a copy of a slice from a DataFrame.\n",
      "Try using .loc[row_indexer,col_indexer] = value instead\n",
      "\n",
      "See the caveats in the documentation: https://pandas.pydata.org/pandas-docs/stable/user_guide/indexing.html#returning-a-view-versus-a-copy\n",
      "  df[col] = df[col].apply(lambda x: eval(x) if isinstance(x, str) and re.match\n",
      "C:\\Users\\mcnob\\AppData\\Local\\Temp\\ipykernel_15600\\3199309306.py:46: SettingWithCopyWarning: \n",
      "A value is trying to be set on a copy of a slice from a DataFrame.\n",
      "Try using .loc[row_indexer,col_indexer] = value instead\n",
      "\n",
      "See the caveats in the documentation: https://pandas.pydata.org/pandas-docs/stable/user_guide/indexing.html#returning-a-view-versus-a-copy\n",
      "  df[col] = df[col].apply(lambda x: eval(x) if isinstance(x, str) and re.match\n",
      "C:\\Users\\mcnob\\AppData\\Local\\Temp\\ipykernel_15600\\3199309306.py:46: SettingWithCopyWarning: \n",
      "A value is trying to be set on a copy of a slice from a DataFrame.\n",
      "Try using .loc[row_indexer,col_indexer] = value instead\n",
      "\n",
      "See the caveats in the documentation: https://pandas.pydata.org/pandas-docs/stable/user_guide/indexing.html#returning-a-view-versus-a-copy\n",
      "  df[col] = df[col].apply(lambda x: eval(x) if isinstance(x, str) and re.match\n",
      "C:\\Users\\mcnob\\AppData\\Local\\Temp\\ipykernel_15600\\3199309306.py:46: SettingWithCopyWarning: \n",
      "A value is trying to be set on a copy of a slice from a DataFrame.\n",
      "Try using .loc[row_indexer,col_indexer] = value instead\n",
      "\n",
      "See the caveats in the documentation: https://pandas.pydata.org/pandas-docs/stable/user_guide/indexing.html#returning-a-view-versus-a-copy\n",
      "  df[col] = df[col].apply(lambda x: eval(x) if isinstance(x, str) and re.match\n",
      "C:\\Users\\mcnob\\AppData\\Local\\Temp\\ipykernel_15600\\3199309306.py:46: SettingWithCopyWarning: \n",
      "A value is trying to be set on a copy of a slice from a DataFrame.\n",
      "Try using .loc[row_indexer,col_indexer] = value instead\n",
      "\n",
      "See the caveats in the documentation: https://pandas.pydata.org/pandas-docs/stable/user_guide/indexing.html#returning-a-view-versus-a-copy\n",
      "  df[col] = df[col].apply(lambda x: eval(x) if isinstance(x, str) and re.match\n",
      "C:\\Users\\mcnob\\AppData\\Local\\Temp\\ipykernel_15600\\3199309306.py:46: SettingWithCopyWarning: \n",
      "A value is trying to be set on a copy of a slice from a DataFrame.\n",
      "Try using .loc[row_indexer,col_indexer] = value instead\n",
      "\n",
      "See the caveats in the documentation: https://pandas.pydata.org/pandas-docs/stable/user_guide/indexing.html#returning-a-view-versus-a-copy\n",
      "  df[col] = df[col].apply(lambda x: eval(x) if isinstance(x, str) and re.match\n",
      "C:\\Users\\mcnob\\AppData\\Local\\Temp\\ipykernel_15600\\3199309306.py:46: SettingWithCopyWarning: \n",
      "A value is trying to be set on a copy of a slice from a DataFrame.\n",
      "Try using .loc[row_indexer,col_indexer] = value instead\n",
      "\n",
      "See the caveats in the documentation: https://pandas.pydata.org/pandas-docs/stable/user_guide/indexing.html#returning-a-view-versus-a-copy\n",
      "  df[col] = df[col].apply(lambda x: eval(x) if isinstance(x, str) and re.match\n",
      "C:\\Users\\mcnob\\AppData\\Local\\Temp\\ipykernel_15600\\3199309306.py:46: SettingWithCopyWarning: \n",
      "A value is trying to be set on a copy of a slice from a DataFrame.\n",
      "Try using .loc[row_indexer,col_indexer] = value instead\n",
      "\n",
      "See the caveats in the documentation: https://pandas.pydata.org/pandas-docs/stable/user_guide/indexing.html#returning-a-view-versus-a-copy\n",
      "  df[col] = df[col].apply(lambda x: eval(x) if isinstance(x, str) and re.match\n",
      "C:\\Users\\mcnob\\AppData\\Local\\Temp\\ipykernel_15600\\3199309306.py:46: SettingWithCopyWarning: \n",
      "A value is trying to be set on a copy of a slice from a DataFrame.\n",
      "Try using .loc[row_indexer,col_indexer] = value instead\n",
      "\n",
      "See the caveats in the documentation: https://pandas.pydata.org/pandas-docs/stable/user_guide/indexing.html#returning-a-view-versus-a-copy\n",
      "  df[col] = df[col].apply(lambda x: eval(x) if isinstance(x, str) and re.match\n",
      "C:\\Users\\mcnob\\AppData\\Local\\Temp\\ipykernel_15600\\3199309306.py:46: SettingWithCopyWarning: \n",
      "A value is trying to be set on a copy of a slice from a DataFrame.\n",
      "Try using .loc[row_indexer,col_indexer] = value instead\n",
      "\n",
      "See the caveats in the documentation: https://pandas.pydata.org/pandas-docs/stable/user_guide/indexing.html#returning-a-view-versus-a-copy\n",
      "  df[col] = df[col].apply(lambda x: eval(x) if isinstance(x, str) and re.match\n",
      "C:\\Users\\mcnob\\AppData\\Local\\Temp\\ipykernel_15600\\3199309306.py:46: SettingWithCopyWarning: \n",
      "A value is trying to be set on a copy of a slice from a DataFrame.\n",
      "Try using .loc[row_indexer,col_indexer] = value instead\n",
      "\n",
      "See the caveats in the documentation: https://pandas.pydata.org/pandas-docs/stable/user_guide/indexing.html#returning-a-view-versus-a-copy\n",
      "  df[col] = df[col].apply(lambda x: eval(x) if isinstance(x, str) and re.match\n",
      "C:\\Users\\mcnob\\AppData\\Local\\Temp\\ipykernel_15600\\3199309306.py:46: SettingWithCopyWarning: \n",
      "A value is trying to be set on a copy of a slice from a DataFrame.\n",
      "Try using .loc[row_indexer,col_indexer] = value instead\n",
      "\n",
      "See the caveats in the documentation: https://pandas.pydata.org/pandas-docs/stable/user_guide/indexing.html#returning-a-view-versus-a-copy\n",
      "  df[col] = df[col].apply(lambda x: eval(x) if isinstance(x, str) and re.match\n",
      "C:\\Users\\mcnob\\AppData\\Local\\Temp\\ipykernel_15600\\3199309306.py:46: SettingWithCopyWarning: \n",
      "A value is trying to be set on a copy of a slice from a DataFrame.\n",
      "Try using .loc[row_indexer,col_indexer] = value instead\n",
      "\n",
      "See the caveats in the documentation: https://pandas.pydata.org/pandas-docs/stable/user_guide/indexing.html#returning-a-view-versus-a-copy\n",
      "  df[col] = df[col].apply(lambda x: eval(x) if isinstance(x, str) and re.match\n",
      "C:\\Users\\mcnob\\AppData\\Local\\Temp\\ipykernel_15600\\3199309306.py:46: SettingWithCopyWarning: \n",
      "A value is trying to be set on a copy of a slice from a DataFrame.\n",
      "Try using .loc[row_indexer,col_indexer] = value instead\n",
      "\n",
      "See the caveats in the documentation: https://pandas.pydata.org/pandas-docs/stable/user_guide/indexing.html#returning-a-view-versus-a-copy\n",
      "  df[col] = df[col].apply(lambda x: eval(x) if isinstance(x, str) and re.match\n",
      "C:\\Users\\mcnob\\AppData\\Local\\Temp\\ipykernel_15600\\3199309306.py:46: SettingWithCopyWarning: \n",
      "A value is trying to be set on a copy of a slice from a DataFrame.\n",
      "Try using .loc[row_indexer,col_indexer] = value instead\n",
      "\n",
      "See the caveats in the documentation: https://pandas.pydata.org/pandas-docs/stable/user_guide/indexing.html#returning-a-view-versus-a-copy\n",
      "  df[col] = df[col].apply(lambda x: eval(x) if isinstance(x, str) and re.match\n",
      "C:\\Users\\mcnob\\AppData\\Local\\Temp\\ipykernel_15600\\3199309306.py:46: SettingWithCopyWarning: \n",
      "A value is trying to be set on a copy of a slice from a DataFrame.\n",
      "Try using .loc[row_indexer,col_indexer] = value instead\n",
      "\n",
      "See the caveats in the documentation: https://pandas.pydata.org/pandas-docs/stable/user_guide/indexing.html#returning-a-view-versus-a-copy\n",
      "  df[col] = df[col].apply(lambda x: eval(x) if isinstance(x, str) and re.match\n",
      "C:\\Users\\mcnob\\AppData\\Local\\Temp\\ipykernel_15600\\3199309306.py:46: SettingWithCopyWarning: \n",
      "A value is trying to be set on a copy of a slice from a DataFrame.\n",
      "Try using .loc[row_indexer,col_indexer] = value instead\n",
      "\n",
      "See the caveats in the documentation: https://pandas.pydata.org/pandas-docs/stable/user_guide/indexing.html#returning-a-view-versus-a-copy\n",
      "  df[col] = df[col].apply(lambda x: eval(x) if isinstance(x, str) and re.match\n",
      "C:\\Users\\mcnob\\AppData\\Local\\Temp\\ipykernel_15600\\3199309306.py:46: SettingWithCopyWarning: \n",
      "A value is trying to be set on a copy of a slice from a DataFrame.\n",
      "Try using .loc[row_indexer,col_indexer] = value instead\n",
      "\n",
      "See the caveats in the documentation: https://pandas.pydata.org/pandas-docs/stable/user_guide/indexing.html#returning-a-view-versus-a-copy\n",
      "  df[col] = df[col].apply(lambda x: eval(x) if isinstance(x, str) and re.match\n",
      "C:\\Users\\mcnob\\AppData\\Local\\Temp\\ipykernel_15600\\3199309306.py:51: SettingWithCopyWarning: \n",
      "A value is trying to be set on a copy of a slice from a DataFrame.\n",
      "Try using .loc[row_indexer,col_indexer] = value instead\n",
      "\n",
      "See the caveats in the documentation: https://pandas.pydata.org/pandas-docs/stable/user_guide/indexing.html#returning-a-view-versus-a-copy\n",
      "  df[col] = df[col].astype(float)\n",
      "C:\\Users\\mcnob\\AppData\\Local\\Temp\\ipykernel_15600\\3199309306.py:58: SettingWithCopyWarning: \n",
      "A value is trying to be set on a copy of a slice from a DataFrame\n",
      "\n",
      "See the caveats in the documentation: https://pandas.pydata.org/pandas-docs/stable/user_guide/indexing.html#returning-a-view-versus-a-copy\n",
      "  df.drop(column, axis=1, inplace=True)\n"
     ]
    }
   ],
   "source": [
    "# Clean the second dataset\n",
    "\n",
    "players_22 = clean_data(players_22, \"No\")"
   ],
   "metadata": {
    "collapsed": false,
    "ExecuteTime": {
     "end_time": "2024-06-23T21:44:11.219203500Z",
     "start_time": "2024-06-23T21:44:06.532052800Z"
    }
   }
  },
  {
   "cell_type": "code",
   "execution_count": 6,
   "outputs": [
    {
     "data": {
      "text/plain": "        overall  potential    value_eur  wage_eur   age  height_cm  weight_kg  \\\n0          93.0       95.0  100500000.0  550000.0  27.0      169.0       67.0   \n1          92.0       92.0   79000000.0  375000.0  29.0      185.0       80.0   \n2          90.0       90.0   54500000.0  275000.0  30.0      180.0       80.0   \n3          90.0       90.0   52500000.0  275000.0  32.0      195.0       95.0   \n4          90.0       90.0   63500000.0  300000.0  28.0      193.0       92.0   \n...         ...        ...          ...       ...   ...        ...        ...   \n161578     46.0       61.0     110000.0     700.0  18.0      180.0       73.0   \n161579     46.0       58.0     110000.0     750.0  19.0      188.0       83.0   \n161580     46.0       58.0     110000.0     500.0  19.0      181.0       73.0   \n161581     46.0       70.0     150000.0     500.0  17.0      175.0       68.0   \n161582     46.0       63.0     110000.0     500.0  17.0      180.0       70.0   \n\n        league_id  weak_foot  skill_moves  ...  cm_6  cm_7  rcm_0  rcm_1  \\\n0            53.0        3.0          4.0  ...     0     1      0      0   \n1            53.0        4.0          5.0  ...     1     0      0      0   \n2            19.0        2.0          4.0  ...     1     1      0      0   \n3            16.0        4.0          4.0  ...     0     0      0      0   \n4            19.0        4.0          1.0  ...     0     1      0      0   \n...           ...        ...          ...  ...   ...   ...    ...    ...   \n161578     2012.0        3.0          2.0  ...     1     0      0      1   \n161579     2012.0        3.0          2.0  ...     0     1      0      1   \n161580       65.0        2.0          2.0  ...     0     1      1      0   \n161581       65.0        3.0          2.0  ...     0     0      1      0   \n161582      350.0        3.0          2.0  ...     0     0      0      0   \n\n        rcm_2  rcm_3  rcm_4  rcm_5  rcm_6  rcm_7  \n0           0      0      0      0      0      1  \n1           0      0      0      0      1      0  \n2           0      0      0      0      1      1  \n3           0      0      0      1      0      0  \n4           0      0      0      1      0      1  \n...       ...    ...    ...    ...    ...    ...  \n161578      1      1      1      0      1      0  \n161579      1      0      1      0      0      1  \n161580      0      0      0      0      0      1  \n161581      0      0      0      0      0      0  \n161582      0      1      0      0      0      0  \n\n[161583 rows x 193 columns]",
      "text/html": "<div>\n<style scoped>\n    .dataframe tbody tr th:only-of-type {\n        vertical-align: middle;\n    }\n\n    .dataframe tbody tr th {\n        vertical-align: top;\n    }\n\n    .dataframe thead th {\n        text-align: right;\n    }\n</style>\n<table border=\"1\" class=\"dataframe\">\n  <thead>\n    <tr style=\"text-align: right;\">\n      <th></th>\n      <th>overall</th>\n      <th>potential</th>\n      <th>value_eur</th>\n      <th>wage_eur</th>\n      <th>age</th>\n      <th>height_cm</th>\n      <th>weight_kg</th>\n      <th>league_id</th>\n      <th>weak_foot</th>\n      <th>skill_moves</th>\n      <th>...</th>\n      <th>cm_6</th>\n      <th>cm_7</th>\n      <th>rcm_0</th>\n      <th>rcm_1</th>\n      <th>rcm_2</th>\n      <th>rcm_3</th>\n      <th>rcm_4</th>\n      <th>rcm_5</th>\n      <th>rcm_6</th>\n      <th>rcm_7</th>\n    </tr>\n  </thead>\n  <tbody>\n    <tr>\n      <th>0</th>\n      <td>93.0</td>\n      <td>95.0</td>\n      <td>100500000.0</td>\n      <td>550000.0</td>\n      <td>27.0</td>\n      <td>169.0</td>\n      <td>67.0</td>\n      <td>53.0</td>\n      <td>3.0</td>\n      <td>4.0</td>\n      <td>...</td>\n      <td>0</td>\n      <td>1</td>\n      <td>0</td>\n      <td>0</td>\n      <td>0</td>\n      <td>0</td>\n      <td>0</td>\n      <td>0</td>\n      <td>0</td>\n      <td>1</td>\n    </tr>\n    <tr>\n      <th>1</th>\n      <td>92.0</td>\n      <td>92.0</td>\n      <td>79000000.0</td>\n      <td>375000.0</td>\n      <td>29.0</td>\n      <td>185.0</td>\n      <td>80.0</td>\n      <td>53.0</td>\n      <td>4.0</td>\n      <td>5.0</td>\n      <td>...</td>\n      <td>1</td>\n      <td>0</td>\n      <td>0</td>\n      <td>0</td>\n      <td>0</td>\n      <td>0</td>\n      <td>0</td>\n      <td>0</td>\n      <td>1</td>\n      <td>0</td>\n    </tr>\n    <tr>\n      <th>2</th>\n      <td>90.0</td>\n      <td>90.0</td>\n      <td>54500000.0</td>\n      <td>275000.0</td>\n      <td>30.0</td>\n      <td>180.0</td>\n      <td>80.0</td>\n      <td>19.0</td>\n      <td>2.0</td>\n      <td>4.0</td>\n      <td>...</td>\n      <td>1</td>\n      <td>1</td>\n      <td>0</td>\n      <td>0</td>\n      <td>0</td>\n      <td>0</td>\n      <td>0</td>\n      <td>0</td>\n      <td>1</td>\n      <td>1</td>\n    </tr>\n    <tr>\n      <th>3</th>\n      <td>90.0</td>\n      <td>90.0</td>\n      <td>52500000.0</td>\n      <td>275000.0</td>\n      <td>32.0</td>\n      <td>195.0</td>\n      <td>95.0</td>\n      <td>16.0</td>\n      <td>4.0</td>\n      <td>4.0</td>\n      <td>...</td>\n      <td>0</td>\n      <td>0</td>\n      <td>0</td>\n      <td>0</td>\n      <td>0</td>\n      <td>0</td>\n      <td>0</td>\n      <td>1</td>\n      <td>0</td>\n      <td>0</td>\n    </tr>\n    <tr>\n      <th>4</th>\n      <td>90.0</td>\n      <td>90.0</td>\n      <td>63500000.0</td>\n      <td>300000.0</td>\n      <td>28.0</td>\n      <td>193.0</td>\n      <td>92.0</td>\n      <td>19.0</td>\n      <td>4.0</td>\n      <td>1.0</td>\n      <td>...</td>\n      <td>0</td>\n      <td>1</td>\n      <td>0</td>\n      <td>0</td>\n      <td>0</td>\n      <td>0</td>\n      <td>0</td>\n      <td>1</td>\n      <td>0</td>\n      <td>1</td>\n    </tr>\n    <tr>\n      <th>...</th>\n      <td>...</td>\n      <td>...</td>\n      <td>...</td>\n      <td>...</td>\n      <td>...</td>\n      <td>...</td>\n      <td>...</td>\n      <td>...</td>\n      <td>...</td>\n      <td>...</td>\n      <td>...</td>\n      <td>...</td>\n      <td>...</td>\n      <td>...</td>\n      <td>...</td>\n      <td>...</td>\n      <td>...</td>\n      <td>...</td>\n      <td>...</td>\n      <td>...</td>\n      <td>...</td>\n    </tr>\n    <tr>\n      <th>161578</th>\n      <td>46.0</td>\n      <td>61.0</td>\n      <td>110000.0</td>\n      <td>700.0</td>\n      <td>18.0</td>\n      <td>180.0</td>\n      <td>73.0</td>\n      <td>2012.0</td>\n      <td>3.0</td>\n      <td>2.0</td>\n      <td>...</td>\n      <td>1</td>\n      <td>0</td>\n      <td>0</td>\n      <td>1</td>\n      <td>1</td>\n      <td>1</td>\n      <td>1</td>\n      <td>0</td>\n      <td>1</td>\n      <td>0</td>\n    </tr>\n    <tr>\n      <th>161579</th>\n      <td>46.0</td>\n      <td>58.0</td>\n      <td>110000.0</td>\n      <td>750.0</td>\n      <td>19.0</td>\n      <td>188.0</td>\n      <td>83.0</td>\n      <td>2012.0</td>\n      <td>3.0</td>\n      <td>2.0</td>\n      <td>...</td>\n      <td>0</td>\n      <td>1</td>\n      <td>0</td>\n      <td>1</td>\n      <td>1</td>\n      <td>0</td>\n      <td>1</td>\n      <td>0</td>\n      <td>0</td>\n      <td>1</td>\n    </tr>\n    <tr>\n      <th>161580</th>\n      <td>46.0</td>\n      <td>58.0</td>\n      <td>110000.0</td>\n      <td>500.0</td>\n      <td>19.0</td>\n      <td>181.0</td>\n      <td>73.0</td>\n      <td>65.0</td>\n      <td>2.0</td>\n      <td>2.0</td>\n      <td>...</td>\n      <td>0</td>\n      <td>1</td>\n      <td>1</td>\n      <td>0</td>\n      <td>0</td>\n      <td>0</td>\n      <td>0</td>\n      <td>0</td>\n      <td>0</td>\n      <td>1</td>\n    </tr>\n    <tr>\n      <th>161581</th>\n      <td>46.0</td>\n      <td>70.0</td>\n      <td>150000.0</td>\n      <td>500.0</td>\n      <td>17.0</td>\n      <td>175.0</td>\n      <td>68.0</td>\n      <td>65.0</td>\n      <td>3.0</td>\n      <td>2.0</td>\n      <td>...</td>\n      <td>0</td>\n      <td>0</td>\n      <td>1</td>\n      <td>0</td>\n      <td>0</td>\n      <td>0</td>\n      <td>0</td>\n      <td>0</td>\n      <td>0</td>\n      <td>0</td>\n    </tr>\n    <tr>\n      <th>161582</th>\n      <td>46.0</td>\n      <td>63.0</td>\n      <td>110000.0</td>\n      <td>500.0</td>\n      <td>17.0</td>\n      <td>180.0</td>\n      <td>70.0</td>\n      <td>350.0</td>\n      <td>3.0</td>\n      <td>2.0</td>\n      <td>...</td>\n      <td>0</td>\n      <td>0</td>\n      <td>0</td>\n      <td>0</td>\n      <td>0</td>\n      <td>1</td>\n      <td>0</td>\n      <td>0</td>\n      <td>0</td>\n      <td>0</td>\n    </tr>\n  </tbody>\n</table>\n<p>161583 rows × 193 columns</p>\n</div>"
     },
     "execution_count": 6,
     "metadata": {},
     "output_type": "execute_result"
    }
   ],
   "source": [
    "# Display the DataFrame\n",
    "\n",
    "male_players_legacy"
   ],
   "metadata": {
    "collapsed": false,
    "ExecuteTime": {
     "end_time": "2024-06-23T21:44:11.269245200Z",
     "start_time": "2024-06-23T21:44:11.216209300Z"
    }
   }
  },
  {
   "cell_type": "code",
   "execution_count": 7,
   "outputs": [
    {
     "data": {
      "text/plain": "Index(['overall', 'movement_reactions', 'potential', 'passing', 'wage_eur',\n       'mentality_composure', 'value_eur', 'dribbling',\n       'attacking_short_passing', 'mentality_vision',\n       'international_reputation', 'skill_long_passing', 'ldm', 'rdm', 'cdm',\n       'power_shot_power'],\n      dtype='object')"
     },
     "execution_count": 7,
     "metadata": {},
     "output_type": "execute_result"
    }
   ],
   "source": [
    "# Calculate correlations of all features with the 'overall' column and keep the top 12 features\n",
    "\n",
    "correlations = male_players_legacy.corr()['overall']\n",
    "sorted_correlations = correlations.sort_values(ascending=False)\n",
    "\n",
    "male_players_legacy_relevant_columns = sorted_correlations[:16]\n",
    "\n",
    "male_players_legacy_relevant_columns.index"
   ],
   "metadata": {
    "collapsed": false,
    "ExecuteTime": {
     "end_time": "2024-06-23T21:44:25.616979900Z",
     "start_time": "2024-06-23T21:44:11.271236200Z"
    }
   }
  },
  {
   "cell_type": "code",
   "execution_count": 8,
   "outputs": [],
   "source": [
    "# Keep only the top correlated features\n",
    "\n",
    "male_players_legacy = male_players_legacy[male_players_legacy_relevant_columns.index]"
   ],
   "metadata": {
    "collapsed": false,
    "ExecuteTime": {
     "end_time": "2024-06-23T21:44:25.628953Z",
     "start_time": "2024-06-23T21:44:25.617981200Z"
    }
   }
  },
  {
   "cell_type": "code",
   "execution_count": 9,
   "outputs": [
    {
     "data": {
      "text/plain": "        overall  movement_reactions  potential  passing  wage_eur  \\\n0          93.0                94.0       95.0     86.0  550000.0   \n1          92.0                90.0       92.0     81.0  375000.0   \n2          90.0                89.0       90.0     83.0  275000.0   \n3          90.0                85.0       90.0     81.0  275000.0   \n4          90.0                89.0       90.0     58.0  300000.0   \n...         ...                 ...        ...      ...       ...   \n161578     46.0                39.0       61.0     40.0     700.0   \n161579     46.0                42.0       58.0     29.0     750.0   \n161580     46.0                50.0       58.0     43.0     500.0   \n161581     46.0                45.0       70.0     36.0     500.0   \n161582     46.0                40.0       63.0     26.0     500.0   \n\n        mentality_composure    value_eur  dribbling  attacking_short_passing  \\\n0                      59.0  100500000.0       96.0                     89.0   \n1                      59.0   79000000.0       91.0                     82.0   \n2                      59.0   54500000.0       92.0                     86.0   \n3                      59.0   52500000.0       86.0                     84.0   \n4                      59.0   63500000.0       63.0                     42.0   \n...                     ...          ...        ...                      ...   \n161578                 40.0     110000.0       47.0                     38.0   \n161579                 35.0     110000.0       34.0                     30.0   \n161580                 35.0     110000.0       46.0                     51.0   \n161581                 43.0     150000.0       46.0                     40.0   \n161582                 30.0     110000.0       32.0                     32.0   \n\n        mentality_vision  international_reputation  skill_long_passing ldm  \\\n0                   90.0                       5.0                76.0  65   \n1                   81.0                       5.0                72.0  66   \n2                   84.0                       5.0                76.0  67   \n3                   83.0                       5.0                76.0  68   \n4                   20.0                       5.0                41.0  43   \n...                  ...                       ...                 ...  ..   \n161578              42.0                       1.0                33.0  34   \n161579              31.0                       1.0                25.0  43   \n161580              40.0                       1.0                43.0  47   \n161581              44.0                       1.0                26.0  32   \n161582              20.0                       1.0                29.0  42   \n\n       rdm cdm  power_shot_power  \n0       65  65              80.0  \n1       66  66              94.0  \n2       67  67              86.0  \n3       68  68              93.0  \n4       43  43              42.0  \n...     ..  ..               ...  \n161578  34  34              64.0  \n161579  43  43              33.0  \n161580  47  47              51.0  \n161581  32  32              42.0  \n161582  42  42              33.0  \n\n[161583 rows x 16 columns]",
      "text/html": "<div>\n<style scoped>\n    .dataframe tbody tr th:only-of-type {\n        vertical-align: middle;\n    }\n\n    .dataframe tbody tr th {\n        vertical-align: top;\n    }\n\n    .dataframe thead th {\n        text-align: right;\n    }\n</style>\n<table border=\"1\" class=\"dataframe\">\n  <thead>\n    <tr style=\"text-align: right;\">\n      <th></th>\n      <th>overall</th>\n      <th>movement_reactions</th>\n      <th>potential</th>\n      <th>passing</th>\n      <th>wage_eur</th>\n      <th>mentality_composure</th>\n      <th>value_eur</th>\n      <th>dribbling</th>\n      <th>attacking_short_passing</th>\n      <th>mentality_vision</th>\n      <th>international_reputation</th>\n      <th>skill_long_passing</th>\n      <th>ldm</th>\n      <th>rdm</th>\n      <th>cdm</th>\n      <th>power_shot_power</th>\n    </tr>\n  </thead>\n  <tbody>\n    <tr>\n      <th>0</th>\n      <td>93.0</td>\n      <td>94.0</td>\n      <td>95.0</td>\n      <td>86.0</td>\n      <td>550000.0</td>\n      <td>59.0</td>\n      <td>100500000.0</td>\n      <td>96.0</td>\n      <td>89.0</td>\n      <td>90.0</td>\n      <td>5.0</td>\n      <td>76.0</td>\n      <td>65</td>\n      <td>65</td>\n      <td>65</td>\n      <td>80.0</td>\n    </tr>\n    <tr>\n      <th>1</th>\n      <td>92.0</td>\n      <td>90.0</td>\n      <td>92.0</td>\n      <td>81.0</td>\n      <td>375000.0</td>\n      <td>59.0</td>\n      <td>79000000.0</td>\n      <td>91.0</td>\n      <td>82.0</td>\n      <td>81.0</td>\n      <td>5.0</td>\n      <td>72.0</td>\n      <td>66</td>\n      <td>66</td>\n      <td>66</td>\n      <td>94.0</td>\n    </tr>\n    <tr>\n      <th>2</th>\n      <td>90.0</td>\n      <td>89.0</td>\n      <td>90.0</td>\n      <td>83.0</td>\n      <td>275000.0</td>\n      <td>59.0</td>\n      <td>54500000.0</td>\n      <td>92.0</td>\n      <td>86.0</td>\n      <td>84.0</td>\n      <td>5.0</td>\n      <td>76.0</td>\n      <td>67</td>\n      <td>67</td>\n      <td>67</td>\n      <td>86.0</td>\n    </tr>\n    <tr>\n      <th>3</th>\n      <td>90.0</td>\n      <td>85.0</td>\n      <td>90.0</td>\n      <td>81.0</td>\n      <td>275000.0</td>\n      <td>59.0</td>\n      <td>52500000.0</td>\n      <td>86.0</td>\n      <td>84.0</td>\n      <td>83.0</td>\n      <td>5.0</td>\n      <td>76.0</td>\n      <td>68</td>\n      <td>68</td>\n      <td>68</td>\n      <td>93.0</td>\n    </tr>\n    <tr>\n      <th>4</th>\n      <td>90.0</td>\n      <td>89.0</td>\n      <td>90.0</td>\n      <td>58.0</td>\n      <td>300000.0</td>\n      <td>59.0</td>\n      <td>63500000.0</td>\n      <td>63.0</td>\n      <td>42.0</td>\n      <td>20.0</td>\n      <td>5.0</td>\n      <td>41.0</td>\n      <td>43</td>\n      <td>43</td>\n      <td>43</td>\n      <td>42.0</td>\n    </tr>\n    <tr>\n      <th>...</th>\n      <td>...</td>\n      <td>...</td>\n      <td>...</td>\n      <td>...</td>\n      <td>...</td>\n      <td>...</td>\n      <td>...</td>\n      <td>...</td>\n      <td>...</td>\n      <td>...</td>\n      <td>...</td>\n      <td>...</td>\n      <td>...</td>\n      <td>...</td>\n      <td>...</td>\n      <td>...</td>\n    </tr>\n    <tr>\n      <th>161578</th>\n      <td>46.0</td>\n      <td>39.0</td>\n      <td>61.0</td>\n      <td>40.0</td>\n      <td>700.0</td>\n      <td>40.0</td>\n      <td>110000.0</td>\n      <td>47.0</td>\n      <td>38.0</td>\n      <td>42.0</td>\n      <td>1.0</td>\n      <td>33.0</td>\n      <td>34</td>\n      <td>34</td>\n      <td>34</td>\n      <td>64.0</td>\n    </tr>\n    <tr>\n      <th>161579</th>\n      <td>46.0</td>\n      <td>42.0</td>\n      <td>58.0</td>\n      <td>29.0</td>\n      <td>750.0</td>\n      <td>35.0</td>\n      <td>110000.0</td>\n      <td>34.0</td>\n      <td>30.0</td>\n      <td>31.0</td>\n      <td>1.0</td>\n      <td>25.0</td>\n      <td>43</td>\n      <td>43</td>\n      <td>43</td>\n      <td>33.0</td>\n    </tr>\n    <tr>\n      <th>161580</th>\n      <td>46.0</td>\n      <td>50.0</td>\n      <td>58.0</td>\n      <td>43.0</td>\n      <td>500.0</td>\n      <td>35.0</td>\n      <td>110000.0</td>\n      <td>46.0</td>\n      <td>51.0</td>\n      <td>40.0</td>\n      <td>1.0</td>\n      <td>43.0</td>\n      <td>47</td>\n      <td>47</td>\n      <td>47</td>\n      <td>51.0</td>\n    </tr>\n    <tr>\n      <th>161581</th>\n      <td>46.0</td>\n      <td>45.0</td>\n      <td>70.0</td>\n      <td>36.0</td>\n      <td>500.0</td>\n      <td>43.0</td>\n      <td>150000.0</td>\n      <td>46.0</td>\n      <td>40.0</td>\n      <td>44.0</td>\n      <td>1.0</td>\n      <td>26.0</td>\n      <td>32</td>\n      <td>32</td>\n      <td>32</td>\n      <td>42.0</td>\n    </tr>\n    <tr>\n      <th>161582</th>\n      <td>46.0</td>\n      <td>40.0</td>\n      <td>63.0</td>\n      <td>26.0</td>\n      <td>500.0</td>\n      <td>30.0</td>\n      <td>110000.0</td>\n      <td>32.0</td>\n      <td>32.0</td>\n      <td>20.0</td>\n      <td>1.0</td>\n      <td>29.0</td>\n      <td>42</td>\n      <td>42</td>\n      <td>42</td>\n      <td>33.0</td>\n    </tr>\n  </tbody>\n</table>\n<p>161583 rows × 16 columns</p>\n</div>"
     },
     "execution_count": 9,
     "metadata": {},
     "output_type": "execute_result"
    }
   ],
   "source": [
    "# Display the updated DataFrame\n",
    "\n",
    "male_players_legacy"
   ],
   "metadata": {
    "collapsed": false,
    "ExecuteTime": {
     "end_time": "2024-06-23T21:44:25.692712700Z",
     "start_time": "2024-06-23T21:44:25.630956700Z"
    }
   }
  },
  {
   "cell_type": "code",
   "execution_count": 10,
   "outputs": [
    {
     "data": {
      "text/plain": "       sofifa_id  overall  potential    value_eur  wage_eur   age  height_cm  \\\n0       158023.0     93.0       93.0   78000000.0  320000.0  34.0      170.0   \n1       188545.0     92.0       92.0  119500000.0  270000.0  32.0      185.0   \n2        20801.0     91.0       91.0   45000000.0  270000.0  36.0      187.0   \n3       190871.0     91.0       91.0  129000000.0  270000.0  29.0      175.0   \n4       192985.0     91.0       91.0  125500000.0  350000.0  30.0      181.0   \n...          ...      ...        ...          ...       ...   ...        ...   \n19234   261962.0     47.0       52.0      70000.0    1000.0  22.0      180.0   \n19235   262040.0     47.0       59.0     110000.0     500.0  19.0      175.0   \n19236   262760.0     47.0       55.0     100000.0     500.0  21.0      178.0   \n19237   262820.0     47.0       60.0     110000.0     500.0  19.0      173.0   \n19238   264540.0     47.0       60.0     110000.0     500.0  19.0      167.0   \n\n       weight_kg  club_team_id  league_level  ...  work_rate_0  work_rate_1  \\\n0           72.0          73.0           1.0  ...            0            0   \n1           81.0          21.0           1.0  ...            0            0   \n2           83.0          11.0           1.0  ...            0            0   \n3           68.0          73.0           1.0  ...            0            0   \n4           70.0          10.0           1.0  ...            0            1   \n...          ...           ...           ...  ...          ...          ...   \n19234       64.0      112541.0           1.0  ...            0            1   \n19235       70.0         445.0           1.0  ...            0            1   \n19236       72.0      111131.0           1.0  ...            0            1   \n19237       66.0      111131.0           1.0  ...            0            1   \n19238       61.0      113040.0           1.0  ...            0            1   \n\n       work_rate_2  work_rate_3  body_type_0  body_type_1  body_type_2  \\\n0                0            1            0            0            0   \n1                1            0            0            0            0   \n2                1            1            0            0            0   \n3                1            0            0            0            0   \n4                0            0            0            0            0   \n...            ...          ...          ...          ...          ...   \n19234            0            1            0            0            1   \n19235            0            1            0            0            1   \n19236            0            1            0            0            1   \n19237            0            1            0            0            1   \n19238            0            1            1            0            0   \n\n       body_type_3  real_face_0  real_face_1  \n0                1            0            1  \n1                1            0            1  \n2                1            0            1  \n3                1            0            1  \n4                1            0            1  \n...            ...          ...          ...  \n19234            1            1            0  \n19235            1            1            0  \n19236            1            1            0  \n19237            1            1            0  \n19238            0            1            0  \n\n[19239 rows x 176 columns]",
      "text/html": "<div>\n<style scoped>\n    .dataframe tbody tr th:only-of-type {\n        vertical-align: middle;\n    }\n\n    .dataframe tbody tr th {\n        vertical-align: top;\n    }\n\n    .dataframe thead th {\n        text-align: right;\n    }\n</style>\n<table border=\"1\" class=\"dataframe\">\n  <thead>\n    <tr style=\"text-align: right;\">\n      <th></th>\n      <th>sofifa_id</th>\n      <th>overall</th>\n      <th>potential</th>\n      <th>value_eur</th>\n      <th>wage_eur</th>\n      <th>age</th>\n      <th>height_cm</th>\n      <th>weight_kg</th>\n      <th>club_team_id</th>\n      <th>league_level</th>\n      <th>...</th>\n      <th>work_rate_0</th>\n      <th>work_rate_1</th>\n      <th>work_rate_2</th>\n      <th>work_rate_3</th>\n      <th>body_type_0</th>\n      <th>body_type_1</th>\n      <th>body_type_2</th>\n      <th>body_type_3</th>\n      <th>real_face_0</th>\n      <th>real_face_1</th>\n    </tr>\n  </thead>\n  <tbody>\n    <tr>\n      <th>0</th>\n      <td>158023.0</td>\n      <td>93.0</td>\n      <td>93.0</td>\n      <td>78000000.0</td>\n      <td>320000.0</td>\n      <td>34.0</td>\n      <td>170.0</td>\n      <td>72.0</td>\n      <td>73.0</td>\n      <td>1.0</td>\n      <td>...</td>\n      <td>0</td>\n      <td>0</td>\n      <td>0</td>\n      <td>1</td>\n      <td>0</td>\n      <td>0</td>\n      <td>0</td>\n      <td>1</td>\n      <td>0</td>\n      <td>1</td>\n    </tr>\n    <tr>\n      <th>1</th>\n      <td>188545.0</td>\n      <td>92.0</td>\n      <td>92.0</td>\n      <td>119500000.0</td>\n      <td>270000.0</td>\n      <td>32.0</td>\n      <td>185.0</td>\n      <td>81.0</td>\n      <td>21.0</td>\n      <td>1.0</td>\n      <td>...</td>\n      <td>0</td>\n      <td>0</td>\n      <td>1</td>\n      <td>0</td>\n      <td>0</td>\n      <td>0</td>\n      <td>0</td>\n      <td>1</td>\n      <td>0</td>\n      <td>1</td>\n    </tr>\n    <tr>\n      <th>2</th>\n      <td>20801.0</td>\n      <td>91.0</td>\n      <td>91.0</td>\n      <td>45000000.0</td>\n      <td>270000.0</td>\n      <td>36.0</td>\n      <td>187.0</td>\n      <td>83.0</td>\n      <td>11.0</td>\n      <td>1.0</td>\n      <td>...</td>\n      <td>0</td>\n      <td>0</td>\n      <td>1</td>\n      <td>1</td>\n      <td>0</td>\n      <td>0</td>\n      <td>0</td>\n      <td>1</td>\n      <td>0</td>\n      <td>1</td>\n    </tr>\n    <tr>\n      <th>3</th>\n      <td>190871.0</td>\n      <td>91.0</td>\n      <td>91.0</td>\n      <td>129000000.0</td>\n      <td>270000.0</td>\n      <td>29.0</td>\n      <td>175.0</td>\n      <td>68.0</td>\n      <td>73.0</td>\n      <td>1.0</td>\n      <td>...</td>\n      <td>0</td>\n      <td>0</td>\n      <td>1</td>\n      <td>0</td>\n      <td>0</td>\n      <td>0</td>\n      <td>0</td>\n      <td>1</td>\n      <td>0</td>\n      <td>1</td>\n    </tr>\n    <tr>\n      <th>4</th>\n      <td>192985.0</td>\n      <td>91.0</td>\n      <td>91.0</td>\n      <td>125500000.0</td>\n      <td>350000.0</td>\n      <td>30.0</td>\n      <td>181.0</td>\n      <td>70.0</td>\n      <td>10.0</td>\n      <td>1.0</td>\n      <td>...</td>\n      <td>0</td>\n      <td>1</td>\n      <td>0</td>\n      <td>0</td>\n      <td>0</td>\n      <td>0</td>\n      <td>0</td>\n      <td>1</td>\n      <td>0</td>\n      <td>1</td>\n    </tr>\n    <tr>\n      <th>...</th>\n      <td>...</td>\n      <td>...</td>\n      <td>...</td>\n      <td>...</td>\n      <td>...</td>\n      <td>...</td>\n      <td>...</td>\n      <td>...</td>\n      <td>...</td>\n      <td>...</td>\n      <td>...</td>\n      <td>...</td>\n      <td>...</td>\n      <td>...</td>\n      <td>...</td>\n      <td>...</td>\n      <td>...</td>\n      <td>...</td>\n      <td>...</td>\n      <td>...</td>\n      <td>...</td>\n    </tr>\n    <tr>\n      <th>19234</th>\n      <td>261962.0</td>\n      <td>47.0</td>\n      <td>52.0</td>\n      <td>70000.0</td>\n      <td>1000.0</td>\n      <td>22.0</td>\n      <td>180.0</td>\n      <td>64.0</td>\n      <td>112541.0</td>\n      <td>1.0</td>\n      <td>...</td>\n      <td>0</td>\n      <td>1</td>\n      <td>0</td>\n      <td>1</td>\n      <td>0</td>\n      <td>0</td>\n      <td>1</td>\n      <td>1</td>\n      <td>1</td>\n      <td>0</td>\n    </tr>\n    <tr>\n      <th>19235</th>\n      <td>262040.0</td>\n      <td>47.0</td>\n      <td>59.0</td>\n      <td>110000.0</td>\n      <td>500.0</td>\n      <td>19.0</td>\n      <td>175.0</td>\n      <td>70.0</td>\n      <td>445.0</td>\n      <td>1.0</td>\n      <td>...</td>\n      <td>0</td>\n      <td>1</td>\n      <td>0</td>\n      <td>1</td>\n      <td>0</td>\n      <td>0</td>\n      <td>1</td>\n      <td>1</td>\n      <td>1</td>\n      <td>0</td>\n    </tr>\n    <tr>\n      <th>19236</th>\n      <td>262760.0</td>\n      <td>47.0</td>\n      <td>55.0</td>\n      <td>100000.0</td>\n      <td>500.0</td>\n      <td>21.0</td>\n      <td>178.0</td>\n      <td>72.0</td>\n      <td>111131.0</td>\n      <td>1.0</td>\n      <td>...</td>\n      <td>0</td>\n      <td>1</td>\n      <td>0</td>\n      <td>1</td>\n      <td>0</td>\n      <td>0</td>\n      <td>1</td>\n      <td>1</td>\n      <td>1</td>\n      <td>0</td>\n    </tr>\n    <tr>\n      <th>19237</th>\n      <td>262820.0</td>\n      <td>47.0</td>\n      <td>60.0</td>\n      <td>110000.0</td>\n      <td>500.0</td>\n      <td>19.0</td>\n      <td>173.0</td>\n      <td>66.0</td>\n      <td>111131.0</td>\n      <td>1.0</td>\n      <td>...</td>\n      <td>0</td>\n      <td>1</td>\n      <td>0</td>\n      <td>1</td>\n      <td>0</td>\n      <td>0</td>\n      <td>1</td>\n      <td>1</td>\n      <td>1</td>\n      <td>0</td>\n    </tr>\n    <tr>\n      <th>19238</th>\n      <td>264540.0</td>\n      <td>47.0</td>\n      <td>60.0</td>\n      <td>110000.0</td>\n      <td>500.0</td>\n      <td>19.0</td>\n      <td>167.0</td>\n      <td>61.0</td>\n      <td>113040.0</td>\n      <td>1.0</td>\n      <td>...</td>\n      <td>0</td>\n      <td>1</td>\n      <td>0</td>\n      <td>1</td>\n      <td>1</td>\n      <td>0</td>\n      <td>0</td>\n      <td>0</td>\n      <td>1</td>\n      <td>0</td>\n    </tr>\n  </tbody>\n</table>\n<p>19239 rows × 176 columns</p>\n</div>"
     },
     "execution_count": 10,
     "metadata": {},
     "output_type": "execute_result"
    }
   ],
   "source": [
    "# Display the first few rows of the players_22 DataFrame\n",
    "\n",
    "players_22"
   ],
   "metadata": {
    "collapsed": false,
    "ExecuteTime": {
     "end_time": "2024-06-23T21:44:25.693711800Z",
     "start_time": "2024-06-23T21:44:25.649244700Z"
    }
   }
  },
  {
   "cell_type": "code",
   "execution_count": 11,
   "outputs": [],
   "source": [
    "# Define target and features for model training\n",
    "\n",
    "y = male_players_legacy['overall']\n",
    "X = male_players_legacy.drop('overall', axis=1)"
   ],
   "metadata": {
    "collapsed": false,
    "ExecuteTime": {
     "end_time": "2024-06-23T21:44:25.693711800Z",
     "start_time": "2024-06-23T21:44:25.672784600Z"
    }
   }
  },
  {
   "cell_type": "code",
   "execution_count": 12,
   "outputs": [],
   "source": [
    "# Split data into training and testing sets\n",
    "\n",
    "X_train, X_test, y_train, y_test = train_test_split(X, y, test_size=0.2, random_state=42)"
   ],
   "metadata": {
    "collapsed": false,
    "ExecuteTime": {
     "end_time": "2024-06-23T21:44:25.714336Z",
     "start_time": "2024-06-23T21:44:25.688711100Z"
    }
   }
  },
  {
   "cell_type": "code",
   "execution_count": 13,
   "outputs": [
    {
     "data": {
      "text/plain": "['scaler.pkl']"
     },
     "execution_count": 13,
     "metadata": {},
     "output_type": "execute_result"
    }
   ],
   "source": [
    "# Scale the data\n",
    "\n",
    "scaler = StandardScaler()\n",
    "\n",
    "X_train_scaled = scaler.fit_transform(X_train)\n",
    "X_test_scaled = scaler.transform(X_test)\n",
    "\n",
    "# Convert scaled data back to DataFrame for easier handling\n",
    "X_train_scaled = pd.DataFrame(X_train_scaled, columns=X_train.columns)\n",
    "X_test_scaled = pd.DataFrame(X_test_scaled, columns=X_test.columns)\n",
    "\n",
    "# Save the scaler for future use\n",
    "joblib.dump(scaler, 'scaler.pkl')"
   ],
   "metadata": {
    "collapsed": false,
    "ExecuteTime": {
     "end_time": "2024-06-23T21:44:26.069019Z",
     "start_time": "2024-06-23T21:44:25.716356900Z"
    }
   }
  },
  {
   "cell_type": "code",
   "execution_count": 14,
   "outputs": [
    {
     "data": {
      "text/plain": "        movement_reactions  potential  passing  wage_eur  mentality_composure  \\\n69722                 72.0       77.0     51.0   40000.0                 71.0   \n145131                76.0       77.0     66.0   45000.0                 72.0   \n97854                 47.0       71.0     58.0    5000.0                 44.0   \n77978                 64.0       66.0     41.0    2000.0                 68.0   \n105151                80.0       82.0     74.0   60000.0                 76.0   \n\n         value_eur  dribbling  attacking_short_passing  mentality_vision  \\\n69722    9000000.0       68.0                     63.0              58.0   \n145131   5500000.0       75.0                     70.0              67.0   \n97854     475000.0       63.0                     25.0              35.0   \n77978     475000.0       45.0                     54.0              34.0   \n105151  27000000.0       79.0                     82.0              73.0   \n\n        international_reputation  skill_long_passing ldm rdm cdm  \\\n69722                        2.0                37.0  53  53  53   \n145131                       1.0                58.0  57  57  57   \n97854                        1.0                26.0  23  23  23   \n77978                        1.0                51.0  61  61  61   \n105151                       2.0                71.0  81  81  81   \n\n        power_shot_power  \n69722               83.0  \n145131              77.0  \n97854               49.0  \n77978               32.0  \n105151              71.0  ",
      "text/html": "<div>\n<style scoped>\n    .dataframe tbody tr th:only-of-type {\n        vertical-align: middle;\n    }\n\n    .dataframe tbody tr th {\n        vertical-align: top;\n    }\n\n    .dataframe thead th {\n        text-align: right;\n    }\n</style>\n<table border=\"1\" class=\"dataframe\">\n  <thead>\n    <tr style=\"text-align: right;\">\n      <th></th>\n      <th>movement_reactions</th>\n      <th>potential</th>\n      <th>passing</th>\n      <th>wage_eur</th>\n      <th>mentality_composure</th>\n      <th>value_eur</th>\n      <th>dribbling</th>\n      <th>attacking_short_passing</th>\n      <th>mentality_vision</th>\n      <th>international_reputation</th>\n      <th>skill_long_passing</th>\n      <th>ldm</th>\n      <th>rdm</th>\n      <th>cdm</th>\n      <th>power_shot_power</th>\n    </tr>\n  </thead>\n  <tbody>\n    <tr>\n      <th>69722</th>\n      <td>72.0</td>\n      <td>77.0</td>\n      <td>51.0</td>\n      <td>40000.0</td>\n      <td>71.0</td>\n      <td>9000000.0</td>\n      <td>68.0</td>\n      <td>63.0</td>\n      <td>58.0</td>\n      <td>2.0</td>\n      <td>37.0</td>\n      <td>53</td>\n      <td>53</td>\n      <td>53</td>\n      <td>83.0</td>\n    </tr>\n    <tr>\n      <th>145131</th>\n      <td>76.0</td>\n      <td>77.0</td>\n      <td>66.0</td>\n      <td>45000.0</td>\n      <td>72.0</td>\n      <td>5500000.0</td>\n      <td>75.0</td>\n      <td>70.0</td>\n      <td>67.0</td>\n      <td>1.0</td>\n      <td>58.0</td>\n      <td>57</td>\n      <td>57</td>\n      <td>57</td>\n      <td>77.0</td>\n    </tr>\n    <tr>\n      <th>97854</th>\n      <td>47.0</td>\n      <td>71.0</td>\n      <td>58.0</td>\n      <td>5000.0</td>\n      <td>44.0</td>\n      <td>475000.0</td>\n      <td>63.0</td>\n      <td>25.0</td>\n      <td>35.0</td>\n      <td>1.0</td>\n      <td>26.0</td>\n      <td>23</td>\n      <td>23</td>\n      <td>23</td>\n      <td>49.0</td>\n    </tr>\n    <tr>\n      <th>77978</th>\n      <td>64.0</td>\n      <td>66.0</td>\n      <td>41.0</td>\n      <td>2000.0</td>\n      <td>68.0</td>\n      <td>475000.0</td>\n      <td>45.0</td>\n      <td>54.0</td>\n      <td>34.0</td>\n      <td>1.0</td>\n      <td>51.0</td>\n      <td>61</td>\n      <td>61</td>\n      <td>61</td>\n      <td>32.0</td>\n    </tr>\n    <tr>\n      <th>105151</th>\n      <td>80.0</td>\n      <td>82.0</td>\n      <td>74.0</td>\n      <td>60000.0</td>\n      <td>76.0</td>\n      <td>27000000.0</td>\n      <td>79.0</td>\n      <td>82.0</td>\n      <td>73.0</td>\n      <td>2.0</td>\n      <td>71.0</td>\n      <td>81</td>\n      <td>81</td>\n      <td>81</td>\n      <td>71.0</td>\n    </tr>\n  </tbody>\n</table>\n</div>"
     },
     "execution_count": 14,
     "metadata": {},
     "output_type": "execute_result"
    }
   ],
   "source": [
    "# Display the first few rows of the training set\n",
    "\n",
    "X_train.head()"
   ],
   "metadata": {
    "collapsed": false,
    "ExecuteTime": {
     "end_time": "2024-06-23T21:44:26.090580500Z",
     "start_time": "2024-06-23T21:44:26.082015100Z"
    }
   }
  },
  {
   "cell_type": "code",
   "execution_count": 15,
   "outputs": [
    {
     "data": {
      "text/plain": "69722     76.0\n145131    74.0\n97854     64.0\n77978     66.0\n105151    82.0\nName: overall, dtype: float64"
     },
     "execution_count": 15,
     "metadata": {},
     "output_type": "execute_result"
    }
   ],
   "source": [
    "y_train.head()"
   ],
   "metadata": {
    "collapsed": false,
    "ExecuteTime": {
     "end_time": "2024-06-23T21:44:26.093583900Z",
     "start_time": "2024-06-23T21:44:26.088579200Z"
    }
   }
  },
  {
   "cell_type": "code",
   "execution_count": 16,
   "outputs": [],
   "source": [
    "# Multi Linear Regression\n",
    "\n",
    "# Initialize the Linear Regression model\n",
    "l = LinearRegression()"
   ],
   "metadata": {
    "collapsed": false,
    "ExecuteTime": {
     "end_time": "2024-06-23T21:44:26.098937800Z",
     "start_time": "2024-06-23T21:44:26.095584200Z"
    }
   }
  },
  {
   "cell_type": "code",
   "execution_count": 17,
   "outputs": [
    {
     "data": {
      "text/plain": "LinearRegression()",
      "text/html": "<style>#sk-container-id-1 {\n  /* Definition of color scheme common for light and dark mode */\n  --sklearn-color-text: black;\n  --sklearn-color-line: gray;\n  /* Definition of color scheme for unfitted estimators */\n  --sklearn-color-unfitted-level-0: #fff5e6;\n  --sklearn-color-unfitted-level-1: #f6e4d2;\n  --sklearn-color-unfitted-level-2: #ffe0b3;\n  --sklearn-color-unfitted-level-3: chocolate;\n  /* Definition of color scheme for fitted estimators */\n  --sklearn-color-fitted-level-0: #f0f8ff;\n  --sklearn-color-fitted-level-1: #d4ebff;\n  --sklearn-color-fitted-level-2: #b3dbfd;\n  --sklearn-color-fitted-level-3: cornflowerblue;\n\n  /* Specific color for light theme */\n  --sklearn-color-text-on-default-background: var(--sg-text-color, var(--theme-code-foreground, var(--jp-content-font-color1, black)));\n  --sklearn-color-background: var(--sg-background-color, var(--theme-background, var(--jp-layout-color0, white)));\n  --sklearn-color-border-box: var(--sg-text-color, var(--theme-code-foreground, var(--jp-content-font-color1, black)));\n  --sklearn-color-icon: #696969;\n\n  @media (prefers-color-scheme: dark) {\n    /* Redefinition of color scheme for dark theme */\n    --sklearn-color-text-on-default-background: var(--sg-text-color, var(--theme-code-foreground, var(--jp-content-font-color1, white)));\n    --sklearn-color-background: var(--sg-background-color, var(--theme-background, var(--jp-layout-color0, #111)));\n    --sklearn-color-border-box: var(--sg-text-color, var(--theme-code-foreground, var(--jp-content-font-color1, white)));\n    --sklearn-color-icon: #878787;\n  }\n}\n\n#sk-container-id-1 {\n  color: var(--sklearn-color-text);\n}\n\n#sk-container-id-1 pre {\n  padding: 0;\n}\n\n#sk-container-id-1 input.sk-hidden--visually {\n  border: 0;\n  clip: rect(1px 1px 1px 1px);\n  clip: rect(1px, 1px, 1px, 1px);\n  height: 1px;\n  margin: -1px;\n  overflow: hidden;\n  padding: 0;\n  position: absolute;\n  width: 1px;\n}\n\n#sk-container-id-1 div.sk-dashed-wrapped {\n  border: 1px dashed var(--sklearn-color-line);\n  margin: 0 0.4em 0.5em 0.4em;\n  box-sizing: border-box;\n  padding-bottom: 0.4em;\n  background-color: var(--sklearn-color-background);\n}\n\n#sk-container-id-1 div.sk-container {\n  /* jupyter's `normalize.less` sets `[hidden] { display: none; }`\n     but bootstrap.min.css set `[hidden] { display: none !important; }`\n     so we also need the `!important` here to be able to override the\n     default hidden behavior on the sphinx rendered scikit-learn.org.\n     See: https://github.com/scikit-learn/scikit-learn/issues/21755 */\n  display: inline-block !important;\n  position: relative;\n}\n\n#sk-container-id-1 div.sk-text-repr-fallback {\n  display: none;\n}\n\ndiv.sk-parallel-item,\ndiv.sk-serial,\ndiv.sk-item {\n  /* draw centered vertical line to link estimators */\n  background-image: linear-gradient(var(--sklearn-color-text-on-default-background), var(--sklearn-color-text-on-default-background));\n  background-size: 2px 100%;\n  background-repeat: no-repeat;\n  background-position: center center;\n}\n\n/* Parallel-specific style estimator block */\n\n#sk-container-id-1 div.sk-parallel-item::after {\n  content: \"\";\n  width: 100%;\n  border-bottom: 2px solid var(--sklearn-color-text-on-default-background);\n  flex-grow: 1;\n}\n\n#sk-container-id-1 div.sk-parallel {\n  display: flex;\n  align-items: stretch;\n  justify-content: center;\n  background-color: var(--sklearn-color-background);\n  position: relative;\n}\n\n#sk-container-id-1 div.sk-parallel-item {\n  display: flex;\n  flex-direction: column;\n}\n\n#sk-container-id-1 div.sk-parallel-item:first-child::after {\n  align-self: flex-end;\n  width: 50%;\n}\n\n#sk-container-id-1 div.sk-parallel-item:last-child::after {\n  align-self: flex-start;\n  width: 50%;\n}\n\n#sk-container-id-1 div.sk-parallel-item:only-child::after {\n  width: 0;\n}\n\n/* Serial-specific style estimator block */\n\n#sk-container-id-1 div.sk-serial {\n  display: flex;\n  flex-direction: column;\n  align-items: center;\n  background-color: var(--sklearn-color-background);\n  padding-right: 1em;\n  padding-left: 1em;\n}\n\n\n/* Toggleable style: style used for estimator/Pipeline/ColumnTransformer box that is\nclickable and can be expanded/collapsed.\n- Pipeline and ColumnTransformer use this feature and define the default style\n- Estimators will overwrite some part of the style using the `sk-estimator` class\n*/\n\n/* Pipeline and ColumnTransformer style (default) */\n\n#sk-container-id-1 div.sk-toggleable {\n  /* Default theme specific background. It is overwritten whether we have a\n  specific estimator or a Pipeline/ColumnTransformer */\n  background-color: var(--sklearn-color-background);\n}\n\n/* Toggleable label */\n#sk-container-id-1 label.sk-toggleable__label {\n  cursor: pointer;\n  display: block;\n  width: 100%;\n  margin-bottom: 0;\n  padding: 0.5em;\n  box-sizing: border-box;\n  text-align: center;\n}\n\n#sk-container-id-1 label.sk-toggleable__label-arrow:before {\n  /* Arrow on the left of the label */\n  content: \"▸\";\n  float: left;\n  margin-right: 0.25em;\n  color: var(--sklearn-color-icon);\n}\n\n#sk-container-id-1 label.sk-toggleable__label-arrow:hover:before {\n  color: var(--sklearn-color-text);\n}\n\n/* Toggleable content - dropdown */\n\n#sk-container-id-1 div.sk-toggleable__content {\n  max-height: 0;\n  max-width: 0;\n  overflow: hidden;\n  text-align: left;\n  /* unfitted */\n  background-color: var(--sklearn-color-unfitted-level-0);\n}\n\n#sk-container-id-1 div.sk-toggleable__content.fitted {\n  /* fitted */\n  background-color: var(--sklearn-color-fitted-level-0);\n}\n\n#sk-container-id-1 div.sk-toggleable__content pre {\n  margin: 0.2em;\n  border-radius: 0.25em;\n  color: var(--sklearn-color-text);\n  /* unfitted */\n  background-color: var(--sklearn-color-unfitted-level-0);\n}\n\n#sk-container-id-1 div.sk-toggleable__content.fitted pre {\n  /* unfitted */\n  background-color: var(--sklearn-color-fitted-level-0);\n}\n\n#sk-container-id-1 input.sk-toggleable__control:checked~div.sk-toggleable__content {\n  /* Expand drop-down */\n  max-height: 200px;\n  max-width: 100%;\n  overflow: auto;\n}\n\n#sk-container-id-1 input.sk-toggleable__control:checked~label.sk-toggleable__label-arrow:before {\n  content: \"▾\";\n}\n\n/* Pipeline/ColumnTransformer-specific style */\n\n#sk-container-id-1 div.sk-label input.sk-toggleable__control:checked~label.sk-toggleable__label {\n  color: var(--sklearn-color-text);\n  background-color: var(--sklearn-color-unfitted-level-2);\n}\n\n#sk-container-id-1 div.sk-label.fitted input.sk-toggleable__control:checked~label.sk-toggleable__label {\n  background-color: var(--sklearn-color-fitted-level-2);\n}\n\n/* Estimator-specific style */\n\n/* Colorize estimator box */\n#sk-container-id-1 div.sk-estimator input.sk-toggleable__control:checked~label.sk-toggleable__label {\n  /* unfitted */\n  background-color: var(--sklearn-color-unfitted-level-2);\n}\n\n#sk-container-id-1 div.sk-estimator.fitted input.sk-toggleable__control:checked~label.sk-toggleable__label {\n  /* fitted */\n  background-color: var(--sklearn-color-fitted-level-2);\n}\n\n#sk-container-id-1 div.sk-label label.sk-toggleable__label,\n#sk-container-id-1 div.sk-label label {\n  /* The background is the default theme color */\n  color: var(--sklearn-color-text-on-default-background);\n}\n\n/* On hover, darken the color of the background */\n#sk-container-id-1 div.sk-label:hover label.sk-toggleable__label {\n  color: var(--sklearn-color-text);\n  background-color: var(--sklearn-color-unfitted-level-2);\n}\n\n/* Label box, darken color on hover, fitted */\n#sk-container-id-1 div.sk-label.fitted:hover label.sk-toggleable__label.fitted {\n  color: var(--sklearn-color-text);\n  background-color: var(--sklearn-color-fitted-level-2);\n}\n\n/* Estimator label */\n\n#sk-container-id-1 div.sk-label label {\n  font-family: monospace;\n  font-weight: bold;\n  display: inline-block;\n  line-height: 1.2em;\n}\n\n#sk-container-id-1 div.sk-label-container {\n  text-align: center;\n}\n\n/* Estimator-specific */\n#sk-container-id-1 div.sk-estimator {\n  font-family: monospace;\n  border: 1px dotted var(--sklearn-color-border-box);\n  border-radius: 0.25em;\n  box-sizing: border-box;\n  margin-bottom: 0.5em;\n  /* unfitted */\n  background-color: var(--sklearn-color-unfitted-level-0);\n}\n\n#sk-container-id-1 div.sk-estimator.fitted {\n  /* fitted */\n  background-color: var(--sklearn-color-fitted-level-0);\n}\n\n/* on hover */\n#sk-container-id-1 div.sk-estimator:hover {\n  /* unfitted */\n  background-color: var(--sklearn-color-unfitted-level-2);\n}\n\n#sk-container-id-1 div.sk-estimator.fitted:hover {\n  /* fitted */\n  background-color: var(--sklearn-color-fitted-level-2);\n}\n\n/* Specification for estimator info (e.g. \"i\" and \"?\") */\n\n/* Common style for \"i\" and \"?\" */\n\n.sk-estimator-doc-link,\na:link.sk-estimator-doc-link,\na:visited.sk-estimator-doc-link {\n  float: right;\n  font-size: smaller;\n  line-height: 1em;\n  font-family: monospace;\n  background-color: var(--sklearn-color-background);\n  border-radius: 1em;\n  height: 1em;\n  width: 1em;\n  text-decoration: none !important;\n  margin-left: 1ex;\n  /* unfitted */\n  border: var(--sklearn-color-unfitted-level-1) 1pt solid;\n  color: var(--sklearn-color-unfitted-level-1);\n}\n\n.sk-estimator-doc-link.fitted,\na:link.sk-estimator-doc-link.fitted,\na:visited.sk-estimator-doc-link.fitted {\n  /* fitted */\n  border: var(--sklearn-color-fitted-level-1) 1pt solid;\n  color: var(--sklearn-color-fitted-level-1);\n}\n\n/* On hover */\ndiv.sk-estimator:hover .sk-estimator-doc-link:hover,\n.sk-estimator-doc-link:hover,\ndiv.sk-label-container:hover .sk-estimator-doc-link:hover,\n.sk-estimator-doc-link:hover {\n  /* unfitted */\n  background-color: var(--sklearn-color-unfitted-level-3);\n  color: var(--sklearn-color-background);\n  text-decoration: none;\n}\n\ndiv.sk-estimator.fitted:hover .sk-estimator-doc-link.fitted:hover,\n.sk-estimator-doc-link.fitted:hover,\ndiv.sk-label-container:hover .sk-estimator-doc-link.fitted:hover,\n.sk-estimator-doc-link.fitted:hover {\n  /* fitted */\n  background-color: var(--sklearn-color-fitted-level-3);\n  color: var(--sklearn-color-background);\n  text-decoration: none;\n}\n\n/* Span, style for the box shown on hovering the info icon */\n.sk-estimator-doc-link span {\n  display: none;\n  z-index: 9999;\n  position: relative;\n  font-weight: normal;\n  right: .2ex;\n  padding: .5ex;\n  margin: .5ex;\n  width: min-content;\n  min-width: 20ex;\n  max-width: 50ex;\n  color: var(--sklearn-color-text);\n  box-shadow: 2pt 2pt 4pt #999;\n  /* unfitted */\n  background: var(--sklearn-color-unfitted-level-0);\n  border: .5pt solid var(--sklearn-color-unfitted-level-3);\n}\n\n.sk-estimator-doc-link.fitted span {\n  /* fitted */\n  background: var(--sklearn-color-fitted-level-0);\n  border: var(--sklearn-color-fitted-level-3);\n}\n\n.sk-estimator-doc-link:hover span {\n  display: block;\n}\n\n/* \"?\"-specific style due to the `<a>` HTML tag */\n\n#sk-container-id-1 a.estimator_doc_link {\n  float: right;\n  font-size: 1rem;\n  line-height: 1em;\n  font-family: monospace;\n  background-color: var(--sklearn-color-background);\n  border-radius: 1rem;\n  height: 1rem;\n  width: 1rem;\n  text-decoration: none;\n  /* unfitted */\n  color: var(--sklearn-color-unfitted-level-1);\n  border: var(--sklearn-color-unfitted-level-1) 1pt solid;\n}\n\n#sk-container-id-1 a.estimator_doc_link.fitted {\n  /* fitted */\n  border: var(--sklearn-color-fitted-level-1) 1pt solid;\n  color: var(--sklearn-color-fitted-level-1);\n}\n\n/* On hover */\n#sk-container-id-1 a.estimator_doc_link:hover {\n  /* unfitted */\n  background-color: var(--sklearn-color-unfitted-level-3);\n  color: var(--sklearn-color-background);\n  text-decoration: none;\n}\n\n#sk-container-id-1 a.estimator_doc_link.fitted:hover {\n  /* fitted */\n  background-color: var(--sklearn-color-fitted-level-3);\n}\n</style><div id=\"sk-container-id-1\" class=\"sk-top-container\"><div class=\"sk-text-repr-fallback\"><pre>LinearRegression()</pre><b>In a Jupyter environment, please rerun this cell to show the HTML representation or trust the notebook. <br />On GitHub, the HTML representation is unable to render, please try loading this page with nbviewer.org.</b></div><div class=\"sk-container\" hidden><div class=\"sk-item\"><div class=\"sk-estimator fitted sk-toggleable\"><input class=\"sk-toggleable__control sk-hidden--visually\" id=\"sk-estimator-id-1\" type=\"checkbox\" checked><label for=\"sk-estimator-id-1\" class=\"sk-toggleable__label fitted sk-toggleable__label-arrow fitted\">&nbsp;&nbsp;LinearRegression<a class=\"sk-estimator-doc-link fitted\" rel=\"noreferrer\" target=\"_blank\" href=\"https://scikit-learn.org/1.5/modules/generated/sklearn.linear_model.LinearRegression.html\">?<span>Documentation for LinearRegression</span></a><span class=\"sk-estimator-doc-link fitted\">i<span>Fitted</span></span></label><div class=\"sk-toggleable__content fitted\"><pre>LinearRegression()</pre></div> </div></div></div></div>"
     },
     "execution_count": 17,
     "metadata": {},
     "output_type": "execute_result"
    }
   ],
   "source": [
    "# Fit the Linear Regression model on the training data\n",
    "\n",
    "l.fit(X_train,y_train)"
   ],
   "metadata": {
    "collapsed": false,
    "ExecuteTime": {
     "end_time": "2024-06-23T21:44:26.303413Z",
     "start_time": "2024-06-23T21:44:26.100933100Z"
    }
   }
  },
  {
   "cell_type": "code",
   "execution_count": 18,
   "outputs": [],
   "source": [
    "# Predict the target values on the test data using the Linear Regression model\n",
    "\n",
    "y_pred = l.predict(X_test)"
   ],
   "metadata": {
    "collapsed": false,
    "ExecuteTime": {
     "end_time": "2024-06-23T21:44:26.390933100Z",
     "start_time": "2024-06-23T21:44:26.302317200Z"
    }
   }
  },
  {
   "cell_type": "code",
   "execution_count": 19,
   "outputs": [
    {
     "data": {
      "text/plain": "Index(['movement_reactions', 'potential', 'passing', 'wage_eur',\n       'mentality_composure', 'value_eur', 'dribbling',\n       'attacking_short_passing', 'mentality_vision',\n       'international_reputation', 'skill_long_passing', 'ldm', 'rdm', 'cdm',\n       'power_shot_power'],\n      dtype='object')"
     },
     "execution_count": 19,
     "metadata": {},
     "output_type": "execute_result"
    }
   ],
   "source": [
    "# Get the feature names from the training data\n",
    "\n",
    "X_train.columns"
   ],
   "metadata": {
    "collapsed": false,
    "ExecuteTime": {
     "end_time": "2024-06-23T21:44:26.391934600Z",
     "start_time": "2024-06-23T21:44:26.340588200Z"
    }
   }
  },
  {
   "cell_type": "code",
   "execution_count": 20,
   "outputs": [
    {
     "name": "stdout",
     "output_type": "stream",
     "text": [
      "Intercept: 7.634738574625672\n",
      "Coefficients: [ 3.44609873e-01  3.13662027e-01  1.86695751e-01  3.02202744e-05\n",
      "  7.91780381e-02 -6.84998056e-09 -2.62118117e-03 -4.25028919e-02\n",
      " -5.83415858e-02  4.38907694e-01 -6.42944905e-02  3.12044169e-02\n",
      "  3.12044169e-02  3.12044169e-02  4.58559116e-02]\n"
     ]
    }
   ],
   "source": [
    "# Get the intercept and coefficients of the trained Linear Regression model\n",
    "\n",
    "# Get the intercept and coefficients of the trained Linear Regression model\n",
    "intercept = l.intercept_\n",
    "coefficients = l.coef_\n",
    "\n",
    "# Print the intercept and coefficients of the Linear Regression model\n",
    "print(f\"Intercept: {intercept}\")\n",
    "print(f\"Coefficients: {coefficients}\")"
   ],
   "metadata": {
    "collapsed": false,
    "ExecuteTime": {
     "end_time": "2024-06-23T21:44:26.391934600Z",
     "start_time": "2024-06-23T21:44:26.349684900Z"
    }
   }
  },
  {
   "cell_type": "code",
   "execution_count": 21,
   "outputs": [
    {
     "name": "stdout",
     "output_type": "stream",
     "text": [
      "\n",
      "Mean Absolute Error = 2.1684700140114983,\n",
      "Mean Squared Error = 7.854723831250511,\n",
      "Root Mean Squared Error = 2.802628022276683,\n",
      "R2 Score = 0.8121773376485313\n",
      "\n"
     ]
    }
   ],
   "source": [
    "# Evaluate the Linear Regression model using various metrics\n",
    "\n",
    "print(f\"\"\"\n",
    "Mean Absolute Error = {mean_absolute_error(y_pred,y_test)},\n",
    "Mean Squared Error = {mean_squared_error(y_pred,y_test)},\n",
    "Root Mean Squared Error = {np.sqrt(mean_squared_error(y_pred,y_test))},\n",
    "R2 Score = {r2_score(y_pred,y_test)}\n",
    "\"\"\")"
   ],
   "metadata": {
    "collapsed": false,
    "ExecuteTime": {
     "end_time": "2024-06-23T21:44:26.392935400Z",
     "start_time": "2024-06-23T21:44:26.357892500Z"
    }
   }
  },
  {
   "cell_type": "code",
   "execution_count": 22,
   "outputs": [],
   "source": [
    "# Polynomial Regression\n",
    "\n",
    "# Create polynomial regression pipelines with degree 1 and 2\n",
    "poly_pipeline1 = make_pipeline(PolynomialFeatures(degree=1), LinearRegression())\n",
    "poly_pipeline2 = make_pipeline(PolynomialFeatures(degree=2), LinearRegression())\n",
    "\n",
    "# Transform the training and test data to include polynomial features (degree 1)\n",
    "poly1 = PolynomialFeatures(degree=1)\n",
    "X_poly_train = poly1.fit_transform(X_train)\n",
    "X_poly_test = poly1.fit_transform(X_test)\n",
    "\n",
    "# Initialize and fit a Linear Regression model on the polynomial transformed data\n",
    "model = LinearRegression()\n",
    "model.fit(X_poly_train, y_train)\n",
    "\n",
    "# Predict the target values on the polynomial transformed test data\n",
    "y_pred = model.predict(X_poly_test)"
   ],
   "metadata": {
    "collapsed": false,
    "ExecuteTime": {
     "end_time": "2024-06-23T21:44:27.017030300Z",
     "start_time": "2024-06-23T21:44:26.368937Z"
    }
   }
  },
  {
   "cell_type": "code",
   "execution_count": 23,
   "outputs": [
    {
     "name": "stdout",
     "output_type": "stream",
     "text": [
      "\n",
      "Mean Absolute Error = 2.1684700140170174,\n",
      "Mean Squared Error = 7.854723831239558,\n",
      "Root Mean Squared Error = 2.8026280222747286,\n",
      "R2 Score = 0.8121773376601387\n",
      "\n"
     ]
    }
   ],
   "source": [
    "# Evaluate the Polynomial Regression model (degree 1) using various metrics\n",
    "\n",
    "print(f\"\"\"\n",
    "Mean Absolute Error = {mean_absolute_error(y_pred, y_test)},\n",
    "Mean Squared Error = {mean_squared_error(y_pred, y_test)},\n",
    "Root Mean Squared Error = {np.sqrt(mean_squared_error(y_pred, y_test))},\n",
    "R2 Score = {r2_score(y_pred, y_test)}\n",
    "\"\"\")"
   ],
   "metadata": {
    "collapsed": false,
    "ExecuteTime": {
     "end_time": "2024-06-23T21:44:27.030032700Z",
     "start_time": "2024-06-23T21:44:26.990991500Z"
    }
   }
  },
  {
   "cell_type": "code",
   "execution_count": 24,
   "outputs": [
    {
     "name": "stdout",
     "output_type": "stream",
     "text": [
      "\n",
      "Mean Absolute Error = 1.494176354157657,\n",
      "Mean Squared Error = 3.944942825185737,\n",
      "Root Mean Squared Error = 1.9861880135540384,\n",
      "R2 Score = 0.9147453194736997\n",
      "\n"
     ]
    }
   ],
   "source": [
    "# Transform the training and test data to include polynomial features (degree 2)\n",
    "\n",
    "poly2 = PolynomialFeatures(degree=2)\n",
    "X_poly_train = poly2.fit_transform(X_train)\n",
    "X_poly_test = poly2.fit_transform(X_test)\n",
    "\n",
    "# Initialize and fit a Linear Regression model on the polynomial transformed data\n",
    "model = LinearRegression()\n",
    "model.fit(X_poly_train, y_train)\n",
    "\n",
    "# Predict the target values on the polynomial transformed test data\n",
    "y_pred = model.predict(X_poly_test)\n",
    "\n",
    "# Evaluate the Polynomial Regression model (degree 2) using various metrics\n",
    "print(f\"\"\"\n",
    "Mean Absolute Error = {mean_absolute_error(y_pred, y_test)},\n",
    "Mean Squared Error = {mean_squared_error(y_pred, y_test)},\n",
    "Root Mean Squared Error = {np.sqrt(mean_squared_error(y_pred, y_test))},\n",
    "R2 Score = {r2_score(y_pred, y_test)}\n",
    "\"\"\")"
   ],
   "metadata": {
    "collapsed": false,
    "ExecuteTime": {
     "end_time": "2024-06-23T21:44:31.295529600Z",
     "start_time": "2024-06-23T21:44:27.004032700Z"
    }
   }
  },
  {
   "cell_type": "code",
   "execution_count": 25,
   "outputs": [
    {
     "name": "stdout",
     "output_type": "stream",
     "text": [
      "\n",
      "Mean Absolute Error = 3.3222822794181712,\n",
      "Mean Squared Error = 24.42133423672465,\n",
      "Root Mean Squared Error = 4.9417946372471455,\n",
      "R2 Score = 0.44601529132064466\n",
      "\n"
     ]
    }
   ],
   "source": [
    "# Transform the training and test data to include polynomial features (degree 3)\n",
    "\n",
    "poly3 = PolynomialFeatures(degree=3)\n",
    "X_poly_train = poly3.fit_transform(X_train)\n",
    "X_poly_test = poly3.fit_transform(X_test)\n",
    "\n",
    "# Initialize and fit a Linear Regression model on the polynomial transformed data\n",
    "model = LinearRegression()\n",
    "model.fit(X_poly_train, y_train)\n",
    "\n",
    "# Predict the target values on the polynomial transformed test data\n",
    "y_pred = model.predict(X_poly_test)\n",
    "\n",
    "# Evaluate the Polynomial Regression model (degree 3) using various metrics\n",
    "print(f\"\"\"\n",
    "Mean Absolute Error = {mean_absolute_error(y_pred, y_test)},\n",
    "Mean Squared Error = {mean_squared_error(y_pred, y_test)},\n",
    "Root Mean Squared Error = {np.sqrt(mean_squared_error(y_pred, y_test))},\n",
    "R2 Score = {r2_score(y_pred, y_test)}\n",
    "\"\"\")"
   ],
   "metadata": {
    "collapsed": false,
    "ExecuteTime": {
     "end_time": "2024-06-23T21:44:48.295725600Z",
     "start_time": "2024-06-23T21:44:31.305521900Z"
    }
   }
  },
  {
   "cell_type": "code",
   "execution_count": 26,
   "outputs": [
    {
     "name": "stderr",
     "output_type": "stream",
     "text": [
      "C:\\Users\\mcnob\\Desktop\\Ashesi A\\Intro To AI\\venv\\Lib\\site-packages\\sklearn\\linear_model\\_ridge.py:216: LinAlgWarning: Ill-conditioned matrix (rcond=9.96323e-19): result may not be accurate.\n",
      "  return linalg.solve(A, Xy, assume_a=\"pos\", overwrite_a=True).T\n"
     ]
    }
   ],
   "source": [
    "# Regularisation Models\n",
    "\n",
    "# Ridge Regression\n",
    "\n",
    "# Initialize Ridge regression mode\n",
    "model1 = Ridge()\n",
    "\n",
    "# Fit the model on the training data\n",
    "model1.fit(X_train, y_train)\n",
    "\n",
    "# Predict the target values on the test data\n",
    "y_pred = model1.predict(X_test)"
   ],
   "metadata": {
    "collapsed": false,
    "ExecuteTime": {
     "end_time": "2024-06-23T21:44:48.566625400Z",
     "start_time": "2024-06-23T21:44:48.308726500Z"
    }
   }
  },
  {
   "cell_type": "code",
   "execution_count": 27,
   "outputs": [
    {
     "name": "stdout",
     "output_type": "stream",
     "text": [
      "\n",
      "Mean Absolute Error = 2.1684698562324014,\n",
      "Mean Squared Error = 7.854723812890498,\n",
      "Root Mean Squared Error = 2.8026280190011836,\n",
      "R2 Score = 0.812177303410628\n",
      "\n"
     ]
    }
   ],
   "source": [
    "# Evaluate the Ridge Regression model using various metrics\n",
    "\n",
    "print(f\"\"\"\n",
    "Mean Absolute Error = {mean_absolute_error(y_pred,y_test)},\n",
    "Mean Squared Error = {mean_squared_error(y_pred,y_test)},\n",
    "Root Mean Squared Error = {np.sqrt(mean_squared_error(y_pred,y_test))},\n",
    "R2 Score = {r2_score(y_pred,y_test)}\n",
    "\"\"\")"
   ],
   "metadata": {
    "collapsed": false,
    "ExecuteTime": {
     "end_time": "2024-06-23T21:44:48.577260400Z",
     "start_time": "2024-06-23T21:44:48.569625300Z"
    }
   }
  },
  {
   "cell_type": "code",
   "execution_count": 28,
   "outputs": [
    {
     "name": "stdout",
     "output_type": "stream",
     "text": [
      "\n",
      "Mean Absolute Error = 2.196842115123514,\n",
      "Mean Squared Error = 8.152581709130308,\n",
      "Root Mean Squared Error = 2.855272615553602,\n",
      "R2 Score = 0.7944944954891554\n",
      "\n"
     ]
    }
   ],
   "source": [
    "# Lasso Regression\n",
    "\n",
    "# Initialize Lasso regression model\n",
    "model2 = Lasso()\n",
    "\n",
    "# Fit the model on the training data\n",
    "model2.fit(X_train, y_train)\n",
    "\n",
    "# Predict the target values on the test data\n",
    "y_pred = model2.predict(X_test)\n",
    "\n",
    "# Evaluate the Lasso Regression model using various metrics\n",
    "print(f\"\"\"\n",
    "Mean Absolute Error = {mean_absolute_error(y_pred,y_test)},\n",
    "Mean Squared Error = {mean_squared_error(y_pred,y_test)},\n",
    "Root Mean Squared Error = {np.sqrt(mean_squared_error(y_pred,y_test))},\n",
    "R2 Score = {r2_score(y_pred,y_test)}\n",
    "\"\"\")"
   ],
   "metadata": {
    "collapsed": false,
    "ExecuteTime": {
     "end_time": "2024-06-23T21:44:51.365703700Z",
     "start_time": "2024-06-23T21:44:48.581259500Z"
    }
   }
  },
  {
   "cell_type": "code",
   "execution_count": 29,
   "outputs": [
    {
     "name": "stdout",
     "output_type": "stream",
     "text": [
      "\n",
      "Mean Absolute Error = 2.174394552345393,\n",
      "Mean Squared Error = 7.9573649879627455,\n",
      "Root Mean Squared Error = 2.820880179653639,\n",
      "R2 Score = 0.8031806131099133\n",
      "\n"
     ]
    },
    {
     "name": "stderr",
     "output_type": "stream",
     "text": [
      "C:\\Users\\mcnob\\Desktop\\Ashesi A\\Intro To AI\\venv\\Lib\\site-packages\\sklearn\\linear_model\\_coordinate_descent.py:697: ConvergenceWarning: Objective did not converge. You might want to increase the number of iterations, check the scale of the features or consider increasing regularisation. Duality gap: 9.475e+03, tolerance: 6.408e+02\n",
      "  model = cd_fast.enet_coordinate_descent(\n"
     ]
    }
   ],
   "source": [
    "# ElasticNet Regression\n",
    "\n",
    "# Initialize ElasticNet regression model\n",
    "model3 = ElasticNet()\n",
    "\n",
    "# Fit the model on the training data\n",
    "model3.fit(X_train, y_train)\n",
    "\n",
    "# Predict the target values on the test data\n",
    "y_pred = model3.predict(X_test)\n",
    "\n",
    "# Evaluate the ElasticNet Regression model using various metrics\n",
    "print(f\"\"\"\n",
    "Mean Absolute Error = {mean_absolute_error(y_pred,y_test)},\n",
    "Mean Squared Error = {mean_squared_error(y_pred,y_test)},\n",
    "Root Mean Squared Error = {np.sqrt(mean_squared_error(y_pred,y_test))},\n",
    "R2 Score = {r2_score(y_pred,y_test)}\n",
    "\"\"\")"
   ],
   "metadata": {
    "collapsed": false,
    "ExecuteTime": {
     "end_time": "2024-06-23T21:44:55.969477600Z",
     "start_time": "2024-06-23T21:44:51.366702100Z"
    }
   }
  },
  {
   "cell_type": "code",
   "execution_count": 30,
   "outputs": [],
   "source": [
    "# Decision Tree Regression\n",
    "\n",
    "# Initialize Decision Tree Regressor with max depth of 2000\n",
    "dtree = DecisionTreeRegressor(max_depth=2000)"
   ],
   "metadata": {
    "collapsed": false,
    "ExecuteTime": {
     "end_time": "2024-06-23T21:44:55.973544800Z",
     "start_time": "2024-06-23T21:44:55.968476400Z"
    }
   }
  },
  {
   "cell_type": "code",
   "execution_count": 31,
   "outputs": [
    {
     "data": {
      "text/plain": "DecisionTreeRegressor(max_depth=2000)",
      "text/html": "<style>#sk-container-id-2 {\n  /* Definition of color scheme common for light and dark mode */\n  --sklearn-color-text: black;\n  --sklearn-color-line: gray;\n  /* Definition of color scheme for unfitted estimators */\n  --sklearn-color-unfitted-level-0: #fff5e6;\n  --sklearn-color-unfitted-level-1: #f6e4d2;\n  --sklearn-color-unfitted-level-2: #ffe0b3;\n  --sklearn-color-unfitted-level-3: chocolate;\n  /* Definition of color scheme for fitted estimators */\n  --sklearn-color-fitted-level-0: #f0f8ff;\n  --sklearn-color-fitted-level-1: #d4ebff;\n  --sklearn-color-fitted-level-2: #b3dbfd;\n  --sklearn-color-fitted-level-3: cornflowerblue;\n\n  /* Specific color for light theme */\n  --sklearn-color-text-on-default-background: var(--sg-text-color, var(--theme-code-foreground, var(--jp-content-font-color1, black)));\n  --sklearn-color-background: var(--sg-background-color, var(--theme-background, var(--jp-layout-color0, white)));\n  --sklearn-color-border-box: var(--sg-text-color, var(--theme-code-foreground, var(--jp-content-font-color1, black)));\n  --sklearn-color-icon: #696969;\n\n  @media (prefers-color-scheme: dark) {\n    /* Redefinition of color scheme for dark theme */\n    --sklearn-color-text-on-default-background: var(--sg-text-color, var(--theme-code-foreground, var(--jp-content-font-color1, white)));\n    --sklearn-color-background: var(--sg-background-color, var(--theme-background, var(--jp-layout-color0, #111)));\n    --sklearn-color-border-box: var(--sg-text-color, var(--theme-code-foreground, var(--jp-content-font-color1, white)));\n    --sklearn-color-icon: #878787;\n  }\n}\n\n#sk-container-id-2 {\n  color: var(--sklearn-color-text);\n}\n\n#sk-container-id-2 pre {\n  padding: 0;\n}\n\n#sk-container-id-2 input.sk-hidden--visually {\n  border: 0;\n  clip: rect(1px 1px 1px 1px);\n  clip: rect(1px, 1px, 1px, 1px);\n  height: 1px;\n  margin: -1px;\n  overflow: hidden;\n  padding: 0;\n  position: absolute;\n  width: 1px;\n}\n\n#sk-container-id-2 div.sk-dashed-wrapped {\n  border: 1px dashed var(--sklearn-color-line);\n  margin: 0 0.4em 0.5em 0.4em;\n  box-sizing: border-box;\n  padding-bottom: 0.4em;\n  background-color: var(--sklearn-color-background);\n}\n\n#sk-container-id-2 div.sk-container {\n  /* jupyter's `normalize.less` sets `[hidden] { display: none; }`\n     but bootstrap.min.css set `[hidden] { display: none !important; }`\n     so we also need the `!important` here to be able to override the\n     default hidden behavior on the sphinx rendered scikit-learn.org.\n     See: https://github.com/scikit-learn/scikit-learn/issues/21755 */\n  display: inline-block !important;\n  position: relative;\n}\n\n#sk-container-id-2 div.sk-text-repr-fallback {\n  display: none;\n}\n\ndiv.sk-parallel-item,\ndiv.sk-serial,\ndiv.sk-item {\n  /* draw centered vertical line to link estimators */\n  background-image: linear-gradient(var(--sklearn-color-text-on-default-background), var(--sklearn-color-text-on-default-background));\n  background-size: 2px 100%;\n  background-repeat: no-repeat;\n  background-position: center center;\n}\n\n/* Parallel-specific style estimator block */\n\n#sk-container-id-2 div.sk-parallel-item::after {\n  content: \"\";\n  width: 100%;\n  border-bottom: 2px solid var(--sklearn-color-text-on-default-background);\n  flex-grow: 1;\n}\n\n#sk-container-id-2 div.sk-parallel {\n  display: flex;\n  align-items: stretch;\n  justify-content: center;\n  background-color: var(--sklearn-color-background);\n  position: relative;\n}\n\n#sk-container-id-2 div.sk-parallel-item {\n  display: flex;\n  flex-direction: column;\n}\n\n#sk-container-id-2 div.sk-parallel-item:first-child::after {\n  align-self: flex-end;\n  width: 50%;\n}\n\n#sk-container-id-2 div.sk-parallel-item:last-child::after {\n  align-self: flex-start;\n  width: 50%;\n}\n\n#sk-container-id-2 div.sk-parallel-item:only-child::after {\n  width: 0;\n}\n\n/* Serial-specific style estimator block */\n\n#sk-container-id-2 div.sk-serial {\n  display: flex;\n  flex-direction: column;\n  align-items: center;\n  background-color: var(--sklearn-color-background);\n  padding-right: 1em;\n  padding-left: 1em;\n}\n\n\n/* Toggleable style: style used for estimator/Pipeline/ColumnTransformer box that is\nclickable and can be expanded/collapsed.\n- Pipeline and ColumnTransformer use this feature and define the default style\n- Estimators will overwrite some part of the style using the `sk-estimator` class\n*/\n\n/* Pipeline and ColumnTransformer style (default) */\n\n#sk-container-id-2 div.sk-toggleable {\n  /* Default theme specific background. It is overwritten whether we have a\n  specific estimator or a Pipeline/ColumnTransformer */\n  background-color: var(--sklearn-color-background);\n}\n\n/* Toggleable label */\n#sk-container-id-2 label.sk-toggleable__label {\n  cursor: pointer;\n  display: block;\n  width: 100%;\n  margin-bottom: 0;\n  padding: 0.5em;\n  box-sizing: border-box;\n  text-align: center;\n}\n\n#sk-container-id-2 label.sk-toggleable__label-arrow:before {\n  /* Arrow on the left of the label */\n  content: \"▸\";\n  float: left;\n  margin-right: 0.25em;\n  color: var(--sklearn-color-icon);\n}\n\n#sk-container-id-2 label.sk-toggleable__label-arrow:hover:before {\n  color: var(--sklearn-color-text);\n}\n\n/* Toggleable content - dropdown */\n\n#sk-container-id-2 div.sk-toggleable__content {\n  max-height: 0;\n  max-width: 0;\n  overflow: hidden;\n  text-align: left;\n  /* unfitted */\n  background-color: var(--sklearn-color-unfitted-level-0);\n}\n\n#sk-container-id-2 div.sk-toggleable__content.fitted {\n  /* fitted */\n  background-color: var(--sklearn-color-fitted-level-0);\n}\n\n#sk-container-id-2 div.sk-toggleable__content pre {\n  margin: 0.2em;\n  border-radius: 0.25em;\n  color: var(--sklearn-color-text);\n  /* unfitted */\n  background-color: var(--sklearn-color-unfitted-level-0);\n}\n\n#sk-container-id-2 div.sk-toggleable__content.fitted pre {\n  /* unfitted */\n  background-color: var(--sklearn-color-fitted-level-0);\n}\n\n#sk-container-id-2 input.sk-toggleable__control:checked~div.sk-toggleable__content {\n  /* Expand drop-down */\n  max-height: 200px;\n  max-width: 100%;\n  overflow: auto;\n}\n\n#sk-container-id-2 input.sk-toggleable__control:checked~label.sk-toggleable__label-arrow:before {\n  content: \"▾\";\n}\n\n/* Pipeline/ColumnTransformer-specific style */\n\n#sk-container-id-2 div.sk-label input.sk-toggleable__control:checked~label.sk-toggleable__label {\n  color: var(--sklearn-color-text);\n  background-color: var(--sklearn-color-unfitted-level-2);\n}\n\n#sk-container-id-2 div.sk-label.fitted input.sk-toggleable__control:checked~label.sk-toggleable__label {\n  background-color: var(--sklearn-color-fitted-level-2);\n}\n\n/* Estimator-specific style */\n\n/* Colorize estimator box */\n#sk-container-id-2 div.sk-estimator input.sk-toggleable__control:checked~label.sk-toggleable__label {\n  /* unfitted */\n  background-color: var(--sklearn-color-unfitted-level-2);\n}\n\n#sk-container-id-2 div.sk-estimator.fitted input.sk-toggleable__control:checked~label.sk-toggleable__label {\n  /* fitted */\n  background-color: var(--sklearn-color-fitted-level-2);\n}\n\n#sk-container-id-2 div.sk-label label.sk-toggleable__label,\n#sk-container-id-2 div.sk-label label {\n  /* The background is the default theme color */\n  color: var(--sklearn-color-text-on-default-background);\n}\n\n/* On hover, darken the color of the background */\n#sk-container-id-2 div.sk-label:hover label.sk-toggleable__label {\n  color: var(--sklearn-color-text);\n  background-color: var(--sklearn-color-unfitted-level-2);\n}\n\n/* Label box, darken color on hover, fitted */\n#sk-container-id-2 div.sk-label.fitted:hover label.sk-toggleable__label.fitted {\n  color: var(--sklearn-color-text);\n  background-color: var(--sklearn-color-fitted-level-2);\n}\n\n/* Estimator label */\n\n#sk-container-id-2 div.sk-label label {\n  font-family: monospace;\n  font-weight: bold;\n  display: inline-block;\n  line-height: 1.2em;\n}\n\n#sk-container-id-2 div.sk-label-container {\n  text-align: center;\n}\n\n/* Estimator-specific */\n#sk-container-id-2 div.sk-estimator {\n  font-family: monospace;\n  border: 1px dotted var(--sklearn-color-border-box);\n  border-radius: 0.25em;\n  box-sizing: border-box;\n  margin-bottom: 0.5em;\n  /* unfitted */\n  background-color: var(--sklearn-color-unfitted-level-0);\n}\n\n#sk-container-id-2 div.sk-estimator.fitted {\n  /* fitted */\n  background-color: var(--sklearn-color-fitted-level-0);\n}\n\n/* on hover */\n#sk-container-id-2 div.sk-estimator:hover {\n  /* unfitted */\n  background-color: var(--sklearn-color-unfitted-level-2);\n}\n\n#sk-container-id-2 div.sk-estimator.fitted:hover {\n  /* fitted */\n  background-color: var(--sklearn-color-fitted-level-2);\n}\n\n/* Specification for estimator info (e.g. \"i\" and \"?\") */\n\n/* Common style for \"i\" and \"?\" */\n\n.sk-estimator-doc-link,\na:link.sk-estimator-doc-link,\na:visited.sk-estimator-doc-link {\n  float: right;\n  font-size: smaller;\n  line-height: 1em;\n  font-family: monospace;\n  background-color: var(--sklearn-color-background);\n  border-radius: 1em;\n  height: 1em;\n  width: 1em;\n  text-decoration: none !important;\n  margin-left: 1ex;\n  /* unfitted */\n  border: var(--sklearn-color-unfitted-level-1) 1pt solid;\n  color: var(--sklearn-color-unfitted-level-1);\n}\n\n.sk-estimator-doc-link.fitted,\na:link.sk-estimator-doc-link.fitted,\na:visited.sk-estimator-doc-link.fitted {\n  /* fitted */\n  border: var(--sklearn-color-fitted-level-1) 1pt solid;\n  color: var(--sklearn-color-fitted-level-1);\n}\n\n/* On hover */\ndiv.sk-estimator:hover .sk-estimator-doc-link:hover,\n.sk-estimator-doc-link:hover,\ndiv.sk-label-container:hover .sk-estimator-doc-link:hover,\n.sk-estimator-doc-link:hover {\n  /* unfitted */\n  background-color: var(--sklearn-color-unfitted-level-3);\n  color: var(--sklearn-color-background);\n  text-decoration: none;\n}\n\ndiv.sk-estimator.fitted:hover .sk-estimator-doc-link.fitted:hover,\n.sk-estimator-doc-link.fitted:hover,\ndiv.sk-label-container:hover .sk-estimator-doc-link.fitted:hover,\n.sk-estimator-doc-link.fitted:hover {\n  /* fitted */\n  background-color: var(--sklearn-color-fitted-level-3);\n  color: var(--sklearn-color-background);\n  text-decoration: none;\n}\n\n/* Span, style for the box shown on hovering the info icon */\n.sk-estimator-doc-link span {\n  display: none;\n  z-index: 9999;\n  position: relative;\n  font-weight: normal;\n  right: .2ex;\n  padding: .5ex;\n  margin: .5ex;\n  width: min-content;\n  min-width: 20ex;\n  max-width: 50ex;\n  color: var(--sklearn-color-text);\n  box-shadow: 2pt 2pt 4pt #999;\n  /* unfitted */\n  background: var(--sklearn-color-unfitted-level-0);\n  border: .5pt solid var(--sklearn-color-unfitted-level-3);\n}\n\n.sk-estimator-doc-link.fitted span {\n  /* fitted */\n  background: var(--sklearn-color-fitted-level-0);\n  border: var(--sklearn-color-fitted-level-3);\n}\n\n.sk-estimator-doc-link:hover span {\n  display: block;\n}\n\n/* \"?\"-specific style due to the `<a>` HTML tag */\n\n#sk-container-id-2 a.estimator_doc_link {\n  float: right;\n  font-size: 1rem;\n  line-height: 1em;\n  font-family: monospace;\n  background-color: var(--sklearn-color-background);\n  border-radius: 1rem;\n  height: 1rem;\n  width: 1rem;\n  text-decoration: none;\n  /* unfitted */\n  color: var(--sklearn-color-unfitted-level-1);\n  border: var(--sklearn-color-unfitted-level-1) 1pt solid;\n}\n\n#sk-container-id-2 a.estimator_doc_link.fitted {\n  /* fitted */\n  border: var(--sklearn-color-fitted-level-1) 1pt solid;\n  color: var(--sklearn-color-fitted-level-1);\n}\n\n/* On hover */\n#sk-container-id-2 a.estimator_doc_link:hover {\n  /* unfitted */\n  background-color: var(--sklearn-color-unfitted-level-3);\n  color: var(--sklearn-color-background);\n  text-decoration: none;\n}\n\n#sk-container-id-2 a.estimator_doc_link.fitted:hover {\n  /* fitted */\n  background-color: var(--sklearn-color-fitted-level-3);\n}\n</style><div id=\"sk-container-id-2\" class=\"sk-top-container\"><div class=\"sk-text-repr-fallback\"><pre>DecisionTreeRegressor(max_depth=2000)</pre><b>In a Jupyter environment, please rerun this cell to show the HTML representation or trust the notebook. <br />On GitHub, the HTML representation is unable to render, please try loading this page with nbviewer.org.</b></div><div class=\"sk-container\" hidden><div class=\"sk-item\"><div class=\"sk-estimator fitted sk-toggleable\"><input class=\"sk-toggleable__control sk-hidden--visually\" id=\"sk-estimator-id-2\" type=\"checkbox\" checked><label for=\"sk-estimator-id-2\" class=\"sk-toggleable__label fitted sk-toggleable__label-arrow fitted\">&nbsp;&nbsp;DecisionTreeRegressor<a class=\"sk-estimator-doc-link fitted\" rel=\"noreferrer\" target=\"_blank\" href=\"https://scikit-learn.org/1.5/modules/generated/sklearn.tree.DecisionTreeRegressor.html\">?<span>Documentation for DecisionTreeRegressor</span></a><span class=\"sk-estimator-doc-link fitted\">i<span>Fitted</span></span></label><div class=\"sk-toggleable__content fitted\"><pre>DecisionTreeRegressor(max_depth=2000)</pre></div> </div></div></div></div>"
     },
     "execution_count": 31,
     "metadata": {},
     "output_type": "execute_result"
    }
   ],
   "source": [
    "# Fit the model on the training data\n",
    "\n",
    "dtree.fit(X_train, y_train)"
   ],
   "metadata": {
    "collapsed": false,
    "ExecuteTime": {
     "end_time": "2024-06-23T21:44:57.449201800Z",
     "start_time": "2024-06-23T21:44:55.975535200Z"
    }
   }
  },
  {
   "cell_type": "code",
   "execution_count": 32,
   "outputs": [
    {
     "name": "stdout",
     "output_type": "stream",
     "text": [
      "\n",
      "Mean Absolute Error = 1.003032459696135,\n",
      "Mean Squared Error = 3.011062289197636,\n",
      "Root Mean Squared Error = 1.7352412769403671,\n",
      "R2 Score = 0.9394726904748758\n",
      "\n"
     ]
    }
   ],
   "source": [
    "# Predict the target values on the test data\n",
    "y_pred = dtree.predict(X_test)\n",
    "\n",
    "# Evaluate the Decision Tree Regression model using various metrics\n",
    "print(f\"\"\"\n",
    "Mean Absolute Error = {mean_absolute_error(y_pred,y_test)},\n",
    "Mean Squared Error = {mean_squared_error(y_pred,y_test)},\n",
    "Root Mean Squared Error = {np.sqrt(mean_squared_error(y_pred,y_test))},\n",
    "R2 Score = {r2_score(y_pred,y_test)}\n",
    "\"\"\")"
   ],
   "metadata": {
    "collapsed": false,
    "ExecuteTime": {
     "end_time": "2024-06-23T21:44:57.506520900Z",
     "start_time": "2024-06-23T21:44:57.449201800Z"
    }
   }
  },
  {
   "cell_type": "code",
   "execution_count": 33,
   "outputs": [
    {
     "name": "stderr",
     "output_type": "stream",
     "text": [
      "C:\\Users\\mcnob\\Desktop\\Ashesi A\\Intro To AI\\venv\\Lib\\site-packages\\sklearn\\linear_model\\_ridge.py:216: LinAlgWarning: Ill-conditioned matrix (rcond=9.96323e-19): result may not be accurate.\n",
      "  return linalg.solve(A, Xy, assume_a=\"pos\", overwrite_a=True).T\n",
      "C:\\Users\\mcnob\\Desktop\\Ashesi A\\Intro To AI\\venv\\Lib\\site-packages\\sklearn\\linear_model\\_coordinate_descent.py:697: ConvergenceWarning: Objective did not converge. You might want to increase the number of iterations, check the scale of the features or consider increasing regularisation. Duality gap: 9.475e+03, tolerance: 6.408e+02\n",
      "  model = cd_fast.enet_coordinate_descent(\n",
      "C:\\Users\\mcnob\\Desktop\\Ashesi A\\Intro To AI\\venv\\Lib\\site-packages\\sklearn\\linear_model\\_ridge.py:216: LinAlgWarning: Ill-conditioned matrix (rcond=1.23046e-18): result may not be accurate.\n",
      "  return linalg.solve(A, Xy, assume_a=\"pos\", overwrite_a=True).T\n",
      "C:\\Users\\mcnob\\Desktop\\Ashesi A\\Intro To AI\\venv\\Lib\\site-packages\\sklearn\\linear_model\\_ridge.py:216: LinAlgWarning: Ill-conditioned matrix (rcond=1.28341e-18): result may not be accurate.\n",
      "  return linalg.solve(A, Xy, assume_a=\"pos\", overwrite_a=True).T\n",
      "C:\\Users\\mcnob\\Desktop\\Ashesi A\\Intro To AI\\venv\\Lib\\site-packages\\sklearn\\linear_model\\_ridge.py:216: LinAlgWarning: Ill-conditioned matrix (rcond=1.25512e-18): result may not be accurate.\n",
      "  return linalg.solve(A, Xy, assume_a=\"pos\", overwrite_a=True).T\n",
      "C:\\Users\\mcnob\\Desktop\\Ashesi A\\Intro To AI\\venv\\Lib\\site-packages\\sklearn\\linear_model\\_ridge.py:216: LinAlgWarning: Ill-conditioned matrix (rcond=1.22287e-18): result may not be accurate.\n",
      "  return linalg.solve(A, Xy, assume_a=\"pos\", overwrite_a=True).T\n",
      "C:\\Users\\mcnob\\Desktop\\Ashesi A\\Intro To AI\\venv\\Lib\\site-packages\\sklearn\\linear_model\\_ridge.py:216: LinAlgWarning: Ill-conditioned matrix (rcond=1.23696e-18): result may not be accurate.\n",
      "  return linalg.solve(A, Xy, assume_a=\"pos\", overwrite_a=True).T\n",
      "C:\\Users\\mcnob\\Desktop\\Ashesi A\\Intro To AI\\venv\\Lib\\site-packages\\sklearn\\linear_model\\_coordinate_descent.py:697: ConvergenceWarning: Objective did not converge. You might want to increase the number of iterations, check the scale of the features or consider increasing regularisation. Duality gap: 7.409e+03, tolerance: 5.133e+02\n",
      "  model = cd_fast.enet_coordinate_descent(\n",
      "C:\\Users\\mcnob\\Desktop\\Ashesi A\\Intro To AI\\venv\\Lib\\site-packages\\sklearn\\linear_model\\_coordinate_descent.py:697: ConvergenceWarning: Objective did not converge. You might want to increase the number of iterations, check the scale of the features or consider increasing regularisation. Duality gap: 7.774e+03, tolerance: 5.128e+02\n",
      "  model = cd_fast.enet_coordinate_descent(\n",
      "C:\\Users\\mcnob\\Desktop\\Ashesi A\\Intro To AI\\venv\\Lib\\site-packages\\sklearn\\linear_model\\_coordinate_descent.py:697: ConvergenceWarning: Objective did not converge. You might want to increase the number of iterations, check the scale of the features or consider increasing regularisation. Duality gap: 7.401e+03, tolerance: 5.111e+02\n",
      "  model = cd_fast.enet_coordinate_descent(\n",
      "C:\\Users\\mcnob\\Desktop\\Ashesi A\\Intro To AI\\venv\\Lib\\site-packages\\sklearn\\linear_model\\_coordinate_descent.py:697: ConvergenceWarning: Objective did not converge. You might want to increase the number of iterations, check the scale of the features or consider increasing regularisation. Duality gap: 7.651e+03, tolerance: 5.143e+02\n",
      "  model = cd_fast.enet_coordinate_descent(\n",
      "C:\\Users\\mcnob\\Desktop\\Ashesi A\\Intro To AI\\venv\\Lib\\site-packages\\sklearn\\linear_model\\_coordinate_descent.py:697: ConvergenceWarning: Objective did not converge. You might want to increase the number of iterations, check the scale of the features or consider increasing regularisation. Duality gap: 7.662e+03, tolerance: 5.118e+02\n",
      "  model = cd_fast.enet_coordinate_descent(\n"
     ]
    },
    {
     "name": "stdout",
     "output_type": "stream",
     "text": [
      "\n",
      "Mean Absolute Error = 1.4133118791967076,\n",
      "Mean Squared Error = 4.323544883497849,\n",
      "Root Mean Squared Error = 2.079313560648766,\n",
      "R2 Score = 0.9130635785568475\n",
      "\n"
     ]
    }
   ],
   "source": [
    "# Stacking Regressor\n",
    "\n",
    "# Define base models for stacking\n",
    "estimators = [\n",
    "    ('lr', l),\n",
    "    ('poly1', poly_pipeline1),\n",
    "    ('poly2', poly_pipeline2),\n",
    "    ('rm1', model1),\n",
    "    ('rm2', model2),\n",
    "    ('rm3', model3),\n",
    "    ('dt', dtree)\n",
    "]\n",
    "\n",
    "# Initialize Stacking Regressor with Decision Tree as final estimator\n",
    "stacking_model = StackingRegressor(estimators=estimators, final_estimator=DecisionTreeRegressor\n",
    "(max_depth=10000))\n",
    "\n",
    "# Fit the stacking model on the training data\n",
    "stacking_model.fit(X_train, y_train)\n",
    "\n",
    "# Predict the target values on the test data using the stacking model\n",
    "y_pred = stacking_model.predict(X_test)\n",
    "\n",
    "# Evaluate the Stacking Regressor model using various metrics\n",
    "print(f\"\"\"\n",
    "Mean Absolute Error = {mean_absolute_error(y_pred,y_test)},\n",
    "Mean Squared Error = {mean_squared_error(y_pred,y_test)},\n",
    "Root Mean Squared Error = {np.sqrt(mean_squared_error(y_pred,y_test))},\n",
    "R2 Score = {r2_score(y_pred,y_test)}\n",
    "\"\"\")"
   ],
   "metadata": {
    "collapsed": false,
    "ExecuteTime": {
     "end_time": "2024-06-23T21:46:35.127079400Z",
     "start_time": "2024-06-23T21:44:57.503524900Z"
    }
   }
  },
  {
   "cell_type": "code",
   "execution_count": 34,
   "outputs": [
    {
     "name": "stdout",
     "output_type": "stream",
     "text": [
      "Mean CV Score (Negative MSE): -4.344142832102806\n",
      "Standard Deviation of CV Scores: 0.06503302514400534\n"
     ]
    }
   ],
   "source": [
    "# Cross-validation scores for the stacking model\n",
    "\n",
    "cv_scores = cross_val_score(stacking_model, X_train_scaled, y_train, cv=5, scoring='neg_mean_squared_error')\n",
    "mean_cv_score = np.mean(cv_scores)\n",
    "std_cv_score = np.std(cv_scores)\n",
    "\n",
    "\n",
    "# Print the mean and standard deviation of cross-validation scores\n",
    "print(f\"Mean CV Score (Negative MSE): {mean_cv_score}\")\n",
    "print(f\"Standard Deviation of CV Scores: {std_cv_score}\")"
   ],
   "metadata": {
    "collapsed": false,
    "ExecuteTime": {
     "end_time": "2024-06-23T21:47:40.024072100Z",
     "start_time": "2024-06-23T21:46:35.131080800Z"
    }
   }
  },
  {
   "cell_type": "code",
   "execution_count": 35,
   "outputs": [
    {
     "name": "stdout",
     "output_type": "stream",
     "text": [
      "Test Model 1 Mean Absolute Error: 1.0226349079054278\n",
      "Test Model 1 Mean Squared Error: 2.212417907217195\n",
      "Test Model 1 Root Mean Squared Error: 1.4874198826213112\n",
      "Test Model 1 R2 Score: 0.9553619850713773\n"
     ]
    }
   ],
   "source": [
    "# Grid search for hyperparameter tuning of the final estimator in the stacking model\n",
    "\n",
    "param_grid = {\n",
    "    'final_estimator__max_depth': [5, 10, 15, 20],\n",
    "    'final_estimator__min_samples_split': [2, 5, 10]\n",
    "}\n",
    "\n",
    "\n",
    "grid_search = GridSearchCV(stacking_model, param_grid, cv=5, scoring='neg_mean_squared_error', n_jobs=-1)\n",
    "\n",
    "# Fit the grid search on the training data\n",
    "grid_search.fit(X_train_scaled, y_train)\n",
    "\n",
    "# Best estimator from the grid search\n",
    "test_model_1 = grid_search.best_estimator_\n",
    "\n",
    "# Predict the target values on the test data using the best estimator\n",
    "y_pred_best = test_model_1.predict(X_test_scaled)\n",
    "\n",
    "# Evaluate the best estimator model using various metrics\n",
    "print(f\"Test Model 1 Mean Absolute Error: {mean_absolute_error(y_test, y_pred_best)}\")\n",
    "print(f\"Test Model 1 Mean Squared Error: {mean_squared_error(y_test, y_pred_best)}\")\n",
    "print(f\"Test Model 1 Root Mean Squared Error: {np.sqrt(mean_squared_error(y_test, y_pred_best))}\")\n",
    "print(f\"Test Model 1 R2 Score: {r2_score(y_test, y_pred_best)}\")\n"
   ],
   "metadata": {
    "collapsed": false,
    "ExecuteTime": {
     "end_time": "2024-06-23T21:54:18.659167300Z",
     "start_time": "2024-06-23T21:47:40.036484Z"
    }
   }
  },
  {
   "cell_type": "code",
   "execution_count": 36,
   "outputs": [
    {
     "name": "stdout",
     "output_type": "stream",
     "text": [
      "Test Model 2 Mean Absolute Error: 1.0515895474447812\n",
      "Test Model 2 Mean Squared Error: 2.3489147126688312\n",
      "Test Model 2 Root Mean Squared Error: 1.532616949100078\n",
      "Test Model 2 R2 Score: 0.952608008790683\n"
     ]
    }
   ],
   "source": [
    "# Refined grid search for hyperparameter tuning of the best estimator\n",
    "\n",
    "refined_param_grid = {\n",
    "    'final_estimator__max_depth': [12, 15, 18],\n",
    "    'final_estimator__min_samples_split': [5, 7, 10]\n",
    "}\n",
    "\n",
    "refined_grid_search = GridSearchCV(test_model_1, refined_param_grid, cv=5, scoring='neg_mean_squared_error', n_jobs=-1)\n",
    "\n",
    "# Fit the refined grid search on the training data\n",
    "refined_grid_search.fit(X_train_scaled, y_train)\n",
    "\n",
    "# Best estimator from the refined grid search\n",
    "test_model_2 = refined_grid_search.best_estimator_\n",
    "\n",
    "# Fit the model on the training data\n",
    "test_model_2.fit(X_train_scaled, y_train)\n",
    "\n",
    "# Predict the target values on the test data using the model\n",
    "y_pred_final = test_model_2.predict(X_test_scaled)\n",
    "\n",
    "# Evaluate the model using various metrics\n",
    "print(f\"Test Model 2 Mean Absolute Error: {mean_absolute_error(y_test, y_pred_final)}\")\n",
    "print(f\"Test Model 2 Mean Squared Error: {mean_squared_error(y_test, y_pred_final)}\")\n",
    "print(f\"Test Model 2 Root Mean Squared Error: {np.sqrt(mean_squared_error(y_test, y_pred_final))}\")\n",
    "print(f\"Test Model 2 R2 Score: {r2_score(y_test, y_pred_final)}\")"
   ],
   "metadata": {
    "collapsed": false,
    "ExecuteTime": {
     "end_time": "2024-06-23T21:59:30.260546900Z",
     "start_time": "2024-06-23T21:54:18.660167700Z"
    }
   }
  },
  {
   "cell_type": "code",
   "execution_count": 37,
   "outputs": [
    {
     "name": "stdout",
     "output_type": "stream",
     "text": [
      "Test Model 3 Mean Absolute Error: 1.026217640274395\n",
      "Test Model 3 Mean Squared Error: 2.208554775067059\n",
      "Test Model 3 Root Mean Squared Error: 1.4861207134910202\n",
      "Test Model 3 R2 Score: 0.9554399280992413\n"
     ]
    }
   ],
   "source": [
    "# Define refined parameter grid for hyperparameter tuning of the final estimator in the stacking model\n",
    "\n",
    "refined_param_grid = {\n",
    "    'final_estimator__max_depth': [10, 15],\n",
    "    'final_estimator__min_samples_split': [5, 10]\n",
    "}\n",
    "\n",
    "# Perform grid search with cross-validation to find the best hyperparameters for the final estimator\n",
    "refined_grid_search = GridSearchCV(test_model_2, refined_param_grid, cv=5, scoring='neg_mean_absolute_error', n_jobs=-1)\n",
    "\n",
    "# Fit the grid search on the training data\n",
    "refined_grid_search.fit(X_train_scaled, y_train)\n",
    "\n",
    "# Get the best estimator from the grid search\n",
    "test_model_3 = refined_grid_search.best_estimator_\n",
    "\n",
    "# Fit the best estimator on the training data\n",
    "test_model_3.fit(X_train_scaled, y_train)\n",
    "\n",
    "# Predict the target values on the test data using the best estimator\n",
    "y_pred_final = test_model_3.predict(X_test_scaled)\n",
    "\n",
    "# Evaluate the best estimator model using various metrics\n",
    "print(f\"Test Model 3 Mean Absolute Error: {mean_absolute_error(y_test, y_pred_final)}\")\n",
    "print(f\"Test Model 3 Mean Squared Error: {mean_squared_error(y_test, y_pred_final)}\")\n",
    "print(f\"Test Model 3 Root Mean Squared Error: {np.sqrt(mean_squared_error(y_test, y_pred_final))}\")\n",
    "print(f\"Test Model 3 R2 Score: {r2_score(y_test, y_pred_final)}\")"
   ],
   "metadata": {
    "collapsed": false,
    "ExecuteTime": {
     "end_time": "2024-06-23T22:02:10.892422200Z",
     "start_time": "2024-06-23T21:59:30.264548300Z"
    }
   }
  },
  {
   "cell_type": "code",
   "execution_count": 38,
   "outputs": [
    {
     "name": "stdout",
     "output_type": "stream",
     "text": [
      "XGBoost Mean Absolute Error: 0.9717069049170286\n",
      "XGBoost Mean Squared Error: 1.7173539631732122\n",
      "XGBoost Root Mean Squared Error: 1.310478524499052\n",
      "XGBoost R2 Score: 0.9653504558990493\n"
     ]
    }
   ],
   "source": [
    "# Initialize and fit XGBoost Regressor with specified parameters\n",
    "\n",
    "xgb_model = xgb.XGBRegressor(objective='reg:squarederror', n_estimators=100, max_depth=6, learning_rate=0.1)\n",
    "\n",
    "# Fit the model\n",
    "xgb_model.fit(X_train_scaled, y_train)\n",
    "\n",
    "# Predict the target values on the test data using XGBoost\n",
    "y_pred_xgb = xgb_model.predict(X_test_scaled)\n",
    "\n",
    "# Evaluate the XGBoost model using various metrics\n",
    "print(f\"XGBoost Mean Absolute Error: {mean_absolute_error(y_test, y_pred_xgb)}\")\n",
    "print(f\"XGBoost Mean Squared Error: {mean_squared_error(y_test, y_pred_xgb)}\")\n",
    "print(f\"XGBoost Root Mean Squared Error: {np.sqrt(mean_squared_error(y_test, y_pred_xgb))}\")\n",
    "print(f\"XGBoost R2 Score: {r2_score(y_test, y_pred_xgb)}\")"
   ],
   "metadata": {
    "collapsed": false,
    "ExecuteTime": {
     "end_time": "2024-06-23T22:02:11.624064700Z",
     "start_time": "2024-06-23T22:02:10.898427600Z"
    }
   }
  },
  {
   "cell_type": "code",
   "execution_count": 39,
   "outputs": [
    {
     "name": "stdout",
     "output_type": "stream",
     "text": [
      "AdaBoost Mean Absolute Error: 1.7584201620514244\n",
      "AdaBoost Mean Squared Error: 5.241682838592406\n",
      "AdaBoost Root Mean Squared Error: 2.289472174670923\n",
      "AdaBoost R2 Score: 0.8942431644415255\n"
     ]
    }
   ],
   "source": [
    "# Initialize and fit AdaBoost Regressor with specified parameters\n",
    "\n",
    "ada_model = AdaBoostRegressor(n_estimators=100, learning_rate=0.1)\n",
    "\n",
    "\n",
    "ada_model.fit(X_train_scaled, y_train)\n",
    "\n",
    "# Predict the target values on the test data using AdaBoost\n",
    "y_pred_ada = ada_model.predict(X_test_scaled)\n",
    "\n",
    "# Evaluate the AdaBoost model using various metrics\n",
    "print(f\"AdaBoost Mean Absolute Error: {mean_absolute_error(y_test, y_pred_ada)}\")\n",
    "print(f\"AdaBoost Mean Squared Error: {mean_squared_error(y_test, y_pred_ada)}\")\n",
    "print(f\"AdaBoost Root Mean Squared Error: {np.sqrt(mean_squared_error(y_test, y_pred_ada))}\")\n",
    "print(f\"AdaBoost R2 Score: {r2_score(y_test, y_pred_ada)}\")"
   ],
   "metadata": {
    "collapsed": false,
    "ExecuteTime": {
     "end_time": "2024-06-23T22:02:33.945486200Z",
     "start_time": "2024-06-23T22:02:11.632067600Z"
    }
   }
  },
  {
   "cell_type": "code",
   "execution_count": 40,
   "outputs": [
    {
     "name": "stdout",
     "output_type": "stream",
     "text": [
      "Ensemble Model Mean Absolute Error: 0.987994477255898\n",
      "Ensemble Model Mean Squared Error: 1.8828206788580102\n",
      "Ensemble Model Root Mean Squared Error: 1.3721591302972154\n",
      "Ensemble Model R2 Score: 0.9620119791579085\n"
     ]
    }
   ],
   "source": [
    "# Define base models for ensemble\n",
    "models = [\n",
    "    ('xgb', xgb_model),\n",
    "    ('dt', DecisionTreeRegressor()),\n",
    "    ('tmodel1', test_model_1),\n",
    "    ('tmodel3', test_model_3),\n",
    "    ('adaboost',ada_model)\n",
    "]\n",
    "\n",
    "# Initialize and fit Voting Regressor as ensemble model with base models\n",
    "ensemble_model = VotingRegressor(estimators=models)\n",
    "\n",
    "# Fit\n",
    "ensemble_model.fit(X_train_scaled, y_train)\n",
    "\n",
    "# Predict the target values on the test data using the ensemble model\n",
    "y_pred_ensemble = ensemble_model.predict(X_test_scaled)\n",
    "\n",
    "# Evaluate the ensemble model using various metrics\n",
    "print(f\"Ensemble Model Mean Absolute Error: {mean_absolute_error(y_test, y_pred_ensemble)}\")\n",
    "print(f\"Ensemble Model Mean Squared Error: {mean_squared_error(y_test, y_pred_ensemble)}\")\n",
    "print(f\"Ensemble Model Root Mean Squared Error: {np.sqrt(mean_squared_error(y_test, y_pred_ensemble))}\")\n",
    "print(f\"Ensemble Model R2 Score: {r2_score(y_test, y_pred_ensemble)}\")"
   ],
   "metadata": {
    "collapsed": false,
    "ExecuteTime": {
     "end_time": "2024-06-23T22:03:30.778994500Z",
     "start_time": "2024-06-23T22:02:33.954484800Z"
    }
   }
  },
  {
   "cell_type": "code",
   "execution_count": 41,
   "outputs": [
    {
     "name": "stdout",
     "output_type": "stream",
     "text": [
      "Ensemble Model Mean Absolute Error: 1.0255791744129588\n",
      "Ensemble Model Mean Squared Error: 1.9478272323528942\n",
      "Ensemble Model Root Mean Squared Error: 1.3956458119282609\n",
      "Ensemble Model R2 Score: 0.960700398965081\n"
     ]
    }
   ],
   "source": [
    "# Define parameter grid for Decision Tree Regressor\n",
    "\n",
    "param_grid_dt = {\n",
    "    'max_depth': [3, 5, 7, 10],\n",
    "    'min_samples_split': [2, 5, 10],\n",
    "    'min_samples_leaf': [1, 2, 4]\n",
    "}\n",
    "\n",
    "# Perform grid search with cross-validation to find the best hyperparameters for Decision Tree Regressor\n",
    "grid_search_dt = GridSearchCV(estimator=DecisionTreeRegressor(), param_grid=param_grid_dt, cv=5)\n",
    "grid_search_dt.fit(X_train_scaled, y_train)\n",
    "\n",
    "# Get the best estimator from the grid search for Decision Tree Regressor\n",
    "best_dt = grid_search_dt.best_estimator_\n",
    "\n",
    "# Define parameter grid for AdaBoost Regressor\n",
    "param_grid_ada = {\n",
    "    'n_estimators': [50, 100, 200],\n",
    "    'learning_rate': [0.01, 0.1, 1]\n",
    "}\n",
    "\n",
    "# Perform grid search with cross-validation to find the best hyperparameters for AdaBoost Regressor\n",
    "grid_search_ada = GridSearchCV(estimator=AdaBoostRegressor(), param_grid=param_grid_ada, cv=5)\n",
    "grid_search_ada.fit(X_train_scaled, y_train)\n",
    "\n",
    "# Get the best estimator from the grid search for AdaBoost Regressor\n",
    "best_ada = grid_search_ada.best_estimator_\n",
    "\n",
    "# Update the models list with the best estimators\n",
    "models = [\n",
    "    ('xgb', xgb_model),\n",
    "    ('dt', best_dt),\n",
    "    ('tmodel1', test_model_1),\n",
    "    ('tmodel3', test_model_3),\n",
    "    ('adaboost', best_ada)\n",
    "]\n",
    "\n",
    "# Ensemble model with weights\n",
    "weights = [1, 1, 1, 1, 1]\n",
    "ensemble_model = VotingRegressor(estimators=models, weights=weights)\n",
    "\n",
    "# Fit the ensemble model on the training data and predict on the test data\n",
    "ensemble_model.fit(X_train_scaled, y_train)\n",
    "y_pred_ensemble = ensemble_model.predict(X_test_scaled)\n",
    "\n",
    "# Evaluate the ensemble model using various metrics\n",
    "print(f\"Ensemble Model Mean Absolute Error: {mean_absolute_error(y_test, y_pred_ensemble)}\")\n",
    "print(f\"Ensemble Model Mean Squared Error: {mean_squared_error(y_test, y_pred_ensemble)}\")\n",
    "print(f\"Ensemble Model Root Mean Squared Error: {np.sqrt(mean_squared_error(y_test, y_pred_ensemble))}\")\n",
    "print(f\"Ensemble Model R2 Score: {r2_score(y_test, y_pred_ensemble)}\")"
   ],
   "metadata": {
    "collapsed": false,
    "ExecuteTime": {
     "end_time": "2024-06-23T22:20:21.429387700Z",
     "start_time": "2024-06-23T22:03:30.808997Z"
    }
   }
  },
  {
   "cell_type": "code",
   "execution_count": 42,
   "outputs": [
    {
     "name": "stdout",
     "output_type": "stream",
     "text": [
      "Tuned Ensemble Model Mean Absolute Error: 0.8187834846540729\n",
      "Tuned Ensemble Model Mean Squared Error: 1.2602960650084272\n",
      "Tuned Ensemble Model Root Mean Squared Error: 1.1226290861225836\n",
      "Tuned Ensemble Model R2 Score: 0.9745721120856903\n"
     ]
    }
   ],
   "source": [
    "# Define the parameter grid for Randomized Search on XGBoost model\n",
    "\n",
    "param_grid = {\n",
    "    'n_estimators': [100, 200, 300],\n",
    "    'max_depth': [4, 6, 8],\n",
    "    'learning_rate': [0.01, 0.1, 0.2],\n",
    "    'subsample': [0.8, 1.0],\n",
    "    'colsample_bytree': [0.8, 1.0]\n",
    "}\n",
    "\n",
    "# Perform randomized search with cross-validation for hyperparameter tuning of XGBoost model\n",
    "random_search = RandomizedSearchCV(xgb_model, param_distributions=param_grid, n_iter=50, cv=5, scoring='neg_mean_absolute_error',\n",
    "                                   n_jobs=-1, random_state=42)\n",
    "random_search.fit(X_train_scaled, y_train)\n",
    "\n",
    "# Get the best model from the randomized search\n",
    "best_model = random_search.best_estimator_\n",
    "\n",
    "# Predict the target values on the test data using the best model\n",
    "y_pred_best = best_model.predict(X_test_scaled)\n",
    "\n",
    "# Evaluate the best model using various metrics\n",
    "print(f\"Tuned Ensemble Model Mean Absolute Error: {mean_absolute_error(y_test, y_pred_best)}\")\n",
    "print(f\"Tuned Ensemble Model Mean Squared Error: {mean_squared_error(y_test, y_pred_best)}\")\n",
    "print(f\"Tuned Ensemble Model Root Mean Squared Error: {np.sqrt(mean_squared_error(y_test, y_pred_best))}\")\n",
    "print(f\"Tuned Ensemble Model R2 Score: {r2_score(y_test, y_pred_best)}\")"
   ],
   "metadata": {
    "collapsed": false,
    "ExecuteTime": {
     "end_time": "2024-06-23T22:24:26.786973500Z",
     "start_time": "2024-06-23T22:20:21.437600300Z"
    }
   }
  },
  {
   "cell_type": "code",
   "execution_count": 43,
   "outputs": [
    {
     "name": "stdout",
     "output_type": "stream",
     "text": [
      "Ensemble Model Mean Absolute Error: 0.9643374454751895\n",
      "Ensemble Model Mean Squared Error: 1.7193105060556733\n",
      "Ensemble Model Root Mean Squared Error: 1.3112248114094216\n",
      "Ensemble Model R2 Score: 0.9653109804499893\n"
     ]
    }
   ],
   "source": [
    "# Update the models list with the best models\n",
    "\n",
    "models = [\n",
    "    ('xgb', xgb_model),\n",
    "    ('dt', DecisionTreeRegressor()),\n",
    "    ('adaboost',ada_model),\n",
    "    ('bm', best_model),\n",
    "    ('bm2', ensemble_model)\n",
    "]\n",
    "\n",
    "# Initialize and fit a new Voting Regressor ensemble model with the updated models list\n",
    "ensemble_model = VotingRegressor(estimators=models)\n",
    "ensemble_model.fit(X_train_scaled, y_train)\n",
    "\n",
    "# Predict the target values on the test data using the new ensemble model\n",
    "y_pred_ensemble = ensemble_model.predict(X_test_scaled)\n",
    "\n",
    "# Evaluate the new ensemble model using various metrics\n",
    "print(f\"Ensemble Model Mean Absolute Error: {mean_absolute_error(y_test, y_pred_ensemble)}\")\n",
    "print(f\"Ensemble Model Mean Squared Error: {mean_squared_error(y_test, y_pred_ensemble)}\")\n",
    "print(f\"Ensemble Model Root Mean Squared Error: {np.sqrt(mean_squared_error(y_test, y_pred_ensemble))}\")\n",
    "print(f\"Ensemble Model R2 Score: {r2_score(y_test, y_pred_ensemble)}\")"
   ],
   "metadata": {
    "collapsed": false,
    "ExecuteTime": {
     "end_time": "2024-06-23T22:26:22.492469900Z",
     "start_time": "2024-06-23T22:24:26.793499800Z"
    }
   }
  },
  {
   "cell_type": "code",
   "execution_count": 45,
   "outputs": [],
   "source": [
    "players_22 = male_players_legacy[male_players_legacy_relevant_columns.index]"
   ],
   "metadata": {
    "collapsed": false,
    "ExecuteTime": {
     "end_time": "2024-06-23T22:29:41.733045200Z",
     "start_time": "2024-06-23T22:29:41.671247Z"
    }
   }
  },
  {
   "cell_type": "code",
   "execution_count": 46,
   "outputs": [
    {
     "name": "stderr",
     "output_type": "stream",
     "text": [
      "C:\\Users\\mcnob\\Desktop\\Ashesi A\\Intro To AI\\venv\\Lib\\site-packages\\sklearn\\base.py:493: UserWarning: X does not have valid feature names, but DecisionTreeRegressor was fitted with feature names\n",
      "  warnings.warn(\n",
      "C:\\Users\\mcnob\\Desktop\\Ashesi A\\Intro To AI\\venv\\Lib\\site-packages\\sklearn\\base.py:493: UserWarning: X does not have valid feature names, but AdaBoostRegressor was fitted with feature names\n",
      "  warnings.warn(\n",
      "C:\\Users\\mcnob\\Desktop\\Ashesi A\\Intro To AI\\venv\\Lib\\site-packages\\sklearn\\base.py:493: UserWarning: X does not have valid feature names, but DecisionTreeRegressor was fitted with feature names\n",
      "  warnings.warn(\n",
      "C:\\Users\\mcnob\\Desktop\\Ashesi A\\Intro To AI\\venv\\Lib\\site-packages\\sklearn\\base.py:493: UserWarning: X does not have valid feature names, but LinearRegression was fitted with feature names\n",
      "  warnings.warn(\n",
      "C:\\Users\\mcnob\\Desktop\\Ashesi A\\Intro To AI\\venv\\Lib\\site-packages\\sklearn\\base.py:493: UserWarning: X does not have valid feature names, but PolynomialFeatures was fitted with feature names\n",
      "  warnings.warn(\n",
      "C:\\Users\\mcnob\\Desktop\\Ashesi A\\Intro To AI\\venv\\Lib\\site-packages\\sklearn\\base.py:493: UserWarning: X does not have valid feature names, but PolynomialFeatures was fitted with feature names\n",
      "  warnings.warn(\n",
      "C:\\Users\\mcnob\\Desktop\\Ashesi A\\Intro To AI\\venv\\Lib\\site-packages\\sklearn\\base.py:493: UserWarning: X does not have valid feature names, but Ridge was fitted with feature names\n",
      "  warnings.warn(\n",
      "C:\\Users\\mcnob\\Desktop\\Ashesi A\\Intro To AI\\venv\\Lib\\site-packages\\sklearn\\base.py:493: UserWarning: X does not have valid feature names, but Lasso was fitted with feature names\n",
      "  warnings.warn(\n",
      "C:\\Users\\mcnob\\Desktop\\Ashesi A\\Intro To AI\\venv\\Lib\\site-packages\\sklearn\\base.py:493: UserWarning: X does not have valid feature names, but ElasticNet was fitted with feature names\n",
      "  warnings.warn(\n",
      "C:\\Users\\mcnob\\Desktop\\Ashesi A\\Intro To AI\\venv\\Lib\\site-packages\\sklearn\\base.py:493: UserWarning: X does not have valid feature names, but DecisionTreeRegressor was fitted with feature names\n",
      "  warnings.warn(\n",
      "C:\\Users\\mcnob\\Desktop\\Ashesi A\\Intro To AI\\venv\\Lib\\site-packages\\sklearn\\base.py:493: UserWarning: X does not have valid feature names, but LinearRegression was fitted with feature names\n",
      "  warnings.warn(\n",
      "C:\\Users\\mcnob\\Desktop\\Ashesi A\\Intro To AI\\venv\\Lib\\site-packages\\sklearn\\base.py:493: UserWarning: X does not have valid feature names, but PolynomialFeatures was fitted with feature names\n",
      "  warnings.warn(\n",
      "C:\\Users\\mcnob\\Desktop\\Ashesi A\\Intro To AI\\venv\\Lib\\site-packages\\sklearn\\base.py:493: UserWarning: X does not have valid feature names, but PolynomialFeatures was fitted with feature names\n",
      "  warnings.warn(\n",
      "C:\\Users\\mcnob\\Desktop\\Ashesi A\\Intro To AI\\venv\\Lib\\site-packages\\sklearn\\base.py:493: UserWarning: X does not have valid feature names, but Ridge was fitted with feature names\n",
      "  warnings.warn(\n",
      "C:\\Users\\mcnob\\Desktop\\Ashesi A\\Intro To AI\\venv\\Lib\\site-packages\\sklearn\\base.py:493: UserWarning: X does not have valid feature names, but Lasso was fitted with feature names\n",
      "  warnings.warn(\n",
      "C:\\Users\\mcnob\\Desktop\\Ashesi A\\Intro To AI\\venv\\Lib\\site-packages\\sklearn\\base.py:493: UserWarning: X does not have valid feature names, but ElasticNet was fitted with feature names\n",
      "  warnings.warn(\n",
      "C:\\Users\\mcnob\\Desktop\\Ashesi A\\Intro To AI\\venv\\Lib\\site-packages\\sklearn\\base.py:493: UserWarning: X does not have valid feature names, but DecisionTreeRegressor was fitted with feature names\n",
      "  warnings.warn(\n",
      "C:\\Users\\mcnob\\Desktop\\Ashesi A\\Intro To AI\\venv\\Lib\\site-packages\\sklearn\\base.py:493: UserWarning: X does not have valid feature names, but AdaBoostRegressor was fitted with feature names\n",
      "  warnings.warn(\n"
     ]
    },
    {
     "name": "stdout",
     "output_type": "stream",
     "text": [
      "Tuned Ensemble Model Mean Absolute Error: 0.9643374454751895\n",
      "Tuned Ensemble Model Mean Squared Error: 1.7193105060556733\n",
      "Tuned Ensemble Model Root Mean Squared Error: 1.3112248114094216\n",
      "Tuned Ensemble Model R2 Score: 0.9653109804499893\n"
     ]
    }
   ],
   "source": [
    "# Split the testing data into new training and testing sets for another evaluation\n",
    "\n",
    "y1 = players_22['overall']\n",
    "x1 = players_22.drop('overall', axis=1)\n",
    "X_train_new, X_test_new, y_train_new, y_test_new = train_test_split(x1, y1, test_size=0.2, random_state=42)\n",
    "\n",
    "# Scale the new training and testing sets\n",
    "X_train_new_scaled = scaler.fit_transform(X_train_new)\n",
    "X_test_new_scaled = scaler.transform(X_test_new)\n",
    "\n",
    "\n",
    "# Predict the target values on the new test data using the ensemble model\n",
    "tester = ensemble_model.predict(X_test_new_scaled)\n",
    "\n",
    "# Evaluate the ensemble model on the new test data using various metrics\n",
    "print(f\"Tuned Ensemble Model Mean Absolute Error: {mean_absolute_error(y_test_new, tester)}\")\n",
    "print(f\"Tuned Ensemble Model Mean Squared Error: {mean_squared_error(y_test_new, tester)}\")\n",
    "print(f\"Tuned Ensemble Model Root Mean Squared Error: {np.sqrt(mean_squared_error(y_test_new, tester))}\")\n",
    "print(f\"Tuned Ensemble Model R2 Score: {r2_score(y_test_new, tester)}\")"
   ],
   "metadata": {
    "collapsed": false,
    "ExecuteTime": {
     "end_time": "2024-06-23T22:29:44.933773300Z",
     "start_time": "2024-06-23T22:29:42.507606200Z"
    }
   }
  },
  {
   "cell_type": "code",
   "execution_count": 47,
   "outputs": [
    {
     "data": {
      "text/plain": "['stacking_model.pkl']"
     },
     "execution_count": 47,
     "metadata": {},
     "output_type": "execute_result"
    }
   ],
   "source": [
    "# Evaluate the ensemble model on the new test data using various metrics\n",
    "joblib.dump(ensemble_model, 'stacking_model.pkl', compress=3)"
   ],
   "metadata": {
    "collapsed": false,
    "ExecuteTime": {
     "end_time": "2024-06-23T22:29:54.093936800Z",
     "start_time": "2024-06-23T22:29:52.503009Z"
    }
   }
  },
  {
   "cell_type": "code",
   "execution_count": 48,
   "outputs": [
    {
     "data": {
      "text/plain": "        overall  movement_reactions  potential  passing  wage_eur  \\\n0          93.0                94.0       95.0     86.0  550000.0   \n1          92.0                90.0       92.0     81.0  375000.0   \n2          90.0                89.0       90.0     83.0  275000.0   \n3          90.0                85.0       90.0     81.0  275000.0   \n4          90.0                89.0       90.0     58.0  300000.0   \n...         ...                 ...        ...      ...       ...   \n161578     46.0                39.0       61.0     40.0     700.0   \n161579     46.0                42.0       58.0     29.0     750.0   \n161580     46.0                50.0       58.0     43.0     500.0   \n161581     46.0                45.0       70.0     36.0     500.0   \n161582     46.0                40.0       63.0     26.0     500.0   \n\n        mentality_composure    value_eur  dribbling  attacking_short_passing  \\\n0                      59.0  100500000.0       96.0                     89.0   \n1                      59.0   79000000.0       91.0                     82.0   \n2                      59.0   54500000.0       92.0                     86.0   \n3                      59.0   52500000.0       86.0                     84.0   \n4                      59.0   63500000.0       63.0                     42.0   \n...                     ...          ...        ...                      ...   \n161578                 40.0     110000.0       47.0                     38.0   \n161579                 35.0     110000.0       34.0                     30.0   \n161580                 35.0     110000.0       46.0                     51.0   \n161581                 43.0     150000.0       46.0                     40.0   \n161582                 30.0     110000.0       32.0                     32.0   \n\n        mentality_vision  international_reputation  skill_long_passing ldm  \\\n0                   90.0                       5.0                76.0  65   \n1                   81.0                       5.0                72.0  66   \n2                   84.0                       5.0                76.0  67   \n3                   83.0                       5.0                76.0  68   \n4                   20.0                       5.0                41.0  43   \n...                  ...                       ...                 ...  ..   \n161578              42.0                       1.0                33.0  34   \n161579              31.0                       1.0                25.0  43   \n161580              40.0                       1.0                43.0  47   \n161581              44.0                       1.0                26.0  32   \n161582              20.0                       1.0                29.0  42   \n\n       rdm cdm  power_shot_power  \n0       65  65              80.0  \n1       66  66              94.0  \n2       67  67              86.0  \n3       68  68              93.0  \n4       43  43              42.0  \n...     ..  ..               ...  \n161578  34  34              64.0  \n161579  43  43              33.0  \n161580  47  47              51.0  \n161581  32  32              42.0  \n161582  42  42              33.0  \n\n[161583 rows x 16 columns]",
      "text/html": "<div>\n<style scoped>\n    .dataframe tbody tr th:only-of-type {\n        vertical-align: middle;\n    }\n\n    .dataframe tbody tr th {\n        vertical-align: top;\n    }\n\n    .dataframe thead th {\n        text-align: right;\n    }\n</style>\n<table border=\"1\" class=\"dataframe\">\n  <thead>\n    <tr style=\"text-align: right;\">\n      <th></th>\n      <th>overall</th>\n      <th>movement_reactions</th>\n      <th>potential</th>\n      <th>passing</th>\n      <th>wage_eur</th>\n      <th>mentality_composure</th>\n      <th>value_eur</th>\n      <th>dribbling</th>\n      <th>attacking_short_passing</th>\n      <th>mentality_vision</th>\n      <th>international_reputation</th>\n      <th>skill_long_passing</th>\n      <th>ldm</th>\n      <th>rdm</th>\n      <th>cdm</th>\n      <th>power_shot_power</th>\n    </tr>\n  </thead>\n  <tbody>\n    <tr>\n      <th>0</th>\n      <td>93.0</td>\n      <td>94.0</td>\n      <td>95.0</td>\n      <td>86.0</td>\n      <td>550000.0</td>\n      <td>59.0</td>\n      <td>100500000.0</td>\n      <td>96.0</td>\n      <td>89.0</td>\n      <td>90.0</td>\n      <td>5.0</td>\n      <td>76.0</td>\n      <td>65</td>\n      <td>65</td>\n      <td>65</td>\n      <td>80.0</td>\n    </tr>\n    <tr>\n      <th>1</th>\n      <td>92.0</td>\n      <td>90.0</td>\n      <td>92.0</td>\n      <td>81.0</td>\n      <td>375000.0</td>\n      <td>59.0</td>\n      <td>79000000.0</td>\n      <td>91.0</td>\n      <td>82.0</td>\n      <td>81.0</td>\n      <td>5.0</td>\n      <td>72.0</td>\n      <td>66</td>\n      <td>66</td>\n      <td>66</td>\n      <td>94.0</td>\n    </tr>\n    <tr>\n      <th>2</th>\n      <td>90.0</td>\n      <td>89.0</td>\n      <td>90.0</td>\n      <td>83.0</td>\n      <td>275000.0</td>\n      <td>59.0</td>\n      <td>54500000.0</td>\n      <td>92.0</td>\n      <td>86.0</td>\n      <td>84.0</td>\n      <td>5.0</td>\n      <td>76.0</td>\n      <td>67</td>\n      <td>67</td>\n      <td>67</td>\n      <td>86.0</td>\n    </tr>\n    <tr>\n      <th>3</th>\n      <td>90.0</td>\n      <td>85.0</td>\n      <td>90.0</td>\n      <td>81.0</td>\n      <td>275000.0</td>\n      <td>59.0</td>\n      <td>52500000.0</td>\n      <td>86.0</td>\n      <td>84.0</td>\n      <td>83.0</td>\n      <td>5.0</td>\n      <td>76.0</td>\n      <td>68</td>\n      <td>68</td>\n      <td>68</td>\n      <td>93.0</td>\n    </tr>\n    <tr>\n      <th>4</th>\n      <td>90.0</td>\n      <td>89.0</td>\n      <td>90.0</td>\n      <td>58.0</td>\n      <td>300000.0</td>\n      <td>59.0</td>\n      <td>63500000.0</td>\n      <td>63.0</td>\n      <td>42.0</td>\n      <td>20.0</td>\n      <td>5.0</td>\n      <td>41.0</td>\n      <td>43</td>\n      <td>43</td>\n      <td>43</td>\n      <td>42.0</td>\n    </tr>\n    <tr>\n      <th>...</th>\n      <td>...</td>\n      <td>...</td>\n      <td>...</td>\n      <td>...</td>\n      <td>...</td>\n      <td>...</td>\n      <td>...</td>\n      <td>...</td>\n      <td>...</td>\n      <td>...</td>\n      <td>...</td>\n      <td>...</td>\n      <td>...</td>\n      <td>...</td>\n      <td>...</td>\n      <td>...</td>\n    </tr>\n    <tr>\n      <th>161578</th>\n      <td>46.0</td>\n      <td>39.0</td>\n      <td>61.0</td>\n      <td>40.0</td>\n      <td>700.0</td>\n      <td>40.0</td>\n      <td>110000.0</td>\n      <td>47.0</td>\n      <td>38.0</td>\n      <td>42.0</td>\n      <td>1.0</td>\n      <td>33.0</td>\n      <td>34</td>\n      <td>34</td>\n      <td>34</td>\n      <td>64.0</td>\n    </tr>\n    <tr>\n      <th>161579</th>\n      <td>46.0</td>\n      <td>42.0</td>\n      <td>58.0</td>\n      <td>29.0</td>\n      <td>750.0</td>\n      <td>35.0</td>\n      <td>110000.0</td>\n      <td>34.0</td>\n      <td>30.0</td>\n      <td>31.0</td>\n      <td>1.0</td>\n      <td>25.0</td>\n      <td>43</td>\n      <td>43</td>\n      <td>43</td>\n      <td>33.0</td>\n    </tr>\n    <tr>\n      <th>161580</th>\n      <td>46.0</td>\n      <td>50.0</td>\n      <td>58.0</td>\n      <td>43.0</td>\n      <td>500.0</td>\n      <td>35.0</td>\n      <td>110000.0</td>\n      <td>46.0</td>\n      <td>51.0</td>\n      <td>40.0</td>\n      <td>1.0</td>\n      <td>43.0</td>\n      <td>47</td>\n      <td>47</td>\n      <td>47</td>\n      <td>51.0</td>\n    </tr>\n    <tr>\n      <th>161581</th>\n      <td>46.0</td>\n      <td>45.0</td>\n      <td>70.0</td>\n      <td>36.0</td>\n      <td>500.0</td>\n      <td>43.0</td>\n      <td>150000.0</td>\n      <td>46.0</td>\n      <td>40.0</td>\n      <td>44.0</td>\n      <td>1.0</td>\n      <td>26.0</td>\n      <td>32</td>\n      <td>32</td>\n      <td>32</td>\n      <td>42.0</td>\n    </tr>\n    <tr>\n      <th>161582</th>\n      <td>46.0</td>\n      <td>40.0</td>\n      <td>63.0</td>\n      <td>26.0</td>\n      <td>500.0</td>\n      <td>30.0</td>\n      <td>110000.0</td>\n      <td>32.0</td>\n      <td>32.0</td>\n      <td>20.0</td>\n      <td>1.0</td>\n      <td>29.0</td>\n      <td>42</td>\n      <td>42</td>\n      <td>42</td>\n      <td>33.0</td>\n    </tr>\n  </tbody>\n</table>\n<p>161583 rows × 16 columns</p>\n</div>"
     },
     "execution_count": 48,
     "metadata": {},
     "output_type": "execute_result"
    }
   ],
   "source": [
    "players_22"
   ],
   "metadata": {
    "collapsed": false,
    "ExecuteTime": {
     "end_time": "2024-06-23T22:31:00.412123Z",
     "start_time": "2024-06-23T22:31:00.369314800Z"
    }
   }
  }
 ],
 "metadata": {
  "kernelspec": {
   "display_name": "Python 3",
   "language": "python",
   "name": "python3"
  },
  "language_info": {
   "codemirror_mode": {
    "name": "ipython",
    "version": 2
   },
   "file_extension": ".py",
   "mimetype": "text/x-python",
   "name": "python",
   "nbconvert_exporter": "python",
   "pygments_lexer": "ipython2",
   "version": "2.7.6"
  }
 },
 "nbformat": 4,
 "nbformat_minor": 0
}
