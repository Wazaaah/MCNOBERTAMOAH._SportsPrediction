{
 "cells": [
  {
   "cell_type": "code",
   "execution_count": 313,
   "metadata": {
    "collapsed": true,
    "ExecuteTime": {
     "end_time": "2024-06-11T16:03:46.292115300Z",
     "start_time": "2024-06-11T16:03:46.138875700Z"
    }
   },
   "outputs": [],
   "source": [
    "import pandas as pd\n",
    "import category_encoders as ce\n",
    "import numpy as np"
   ]
  },
  {
   "cell_type": "code",
   "execution_count": 314,
   "outputs": [
    {
     "name": "stderr",
     "output_type": "stream",
     "text": [
      "C:\\Users\\mcnob\\AppData\\Local\\Temp\\ipykernel_18520\\2679833645.py:2: DtypeWarning: Columns (25,108) have mixed types. Specify dtype option on import or set low_memory=False.\n",
      "  players_22 = pd.read_csv('players_22.csv')\n"
     ]
    }
   ],
   "source": [
    "players_21 = pd.read_csv('players_21.csv')\n",
    "players_22 = pd.read_csv('players_22.csv')"
   ],
   "metadata": {
    "collapsed": false,
    "ExecuteTime": {
     "end_time": "2024-06-11T16:03:46.682741900Z",
     "start_time": "2024-06-11T16:03:46.143263400Z"
    }
   }
  },
  {
   "cell_type": "code",
   "execution_count": 315,
   "outputs": [
    {
     "data": {
      "text/plain": "       sofifa_id                                         player_url  \\\n0         158023  https://sofifa.com/player/158023/lionel-messi/...   \n1          20801  https://sofifa.com/player/20801/c-ronaldo-dos-...   \n2         188545  https://sofifa.com/player/188545/robert-lewand...   \n3         190871  https://sofifa.com/player/190871/neymar-da-sil...   \n4         192985  https://sofifa.com/player/192985/kevin-de-bruy...   \n...          ...                                                ...   \n18939     257710  https://sofifa.com/player/257710/mengxuan-zhan...   \n18940     257933  https://sofifa.com/player/257933/wenzhuo-huang...   \n18941     257936   https://sofifa.com/player/257936/yue-song/210002   \n18942     258736  https://sofifa.com/player/258736/vani-da-silva...   \n18943     258760  https://sofifa.com/player/258760/ben-hough/210002   \n\n              short_name                            long_name  \\\n0               L. Messi       Lionel Andrés Messi Cuccittini   \n1      Cristiano Ronaldo  Cristiano Ronaldo dos Santos Aveiro   \n2         R. Lewandowski                   Robert Lewandowski   \n3              Neymar Jr        Neymar da Silva Santos Júnior   \n4           K. De Bruyne                      Kevin De Bruyne   \n...                  ...                                  ...   \n18939     Zhang Mengxuan                                  张梦炫   \n18940      Huang Wenzhou                                  黄文卓   \n18941           Song Yue                                   宋岳   \n18942        V. Da Silva     Ivanilson Loforte Tique Da Silva   \n18943           B. Hough                            Ben Hough   \n\n      player_positions  overall  potential    value_eur  wage_eur  age  ...  \\\n0           RW, ST, CF       93         93  103500000.0  560000.0   33  ...   \n1               ST, LW       92         92   63000000.0  220000.0   35  ...   \n2                   ST       91         91  111000000.0  240000.0   31  ...   \n3              LW, CAM       91         91  132000000.0  270000.0   28  ...   \n4              CAM, CM       91         91  129000000.0  370000.0   29  ...   \n...                ...      ...        ...          ...       ...  ...  ...   \n18939               CB       47         52      70000.0    1000.0   21  ...   \n18940               CM       47         53      70000.0    1000.0   21  ...   \n18941               CM       47         47      45000.0    2000.0   28  ...   \n18942               ST       47         67     130000.0     500.0   17  ...   \n18943               CM       47         67     130000.0     500.0   17  ...   \n\n        lcb    cb   rcb    rb    gk  \\\n0      52+3  52+3  52+3  62+3  19+3   \n1      54+3  54+3  54+3  61+3  20+3   \n2      60+3  60+3  60+3  61+3  19+3   \n3      49+3  49+3  49+3  62+3  20+3   \n4      69+3  69+3  69+3  75+3  21+3   \n...     ...   ...   ...   ...   ...   \n18939  47+2  47+2  47+2  45+2  15+2   \n18940  46+2  46+2  46+2  47+2  15+2   \n18941  46+1  46+1  46+1    47  11+2   \n18942  26+2  26+2  26+2  33+2  14+2   \n18943  41+2  41+2  41+2  43+2  14+2   \n\n                                         player_face_url  \\\n0      https://cdn.sofifa.net/players/158/023/21_120.png   \n1      https://cdn.sofifa.net/players/020/801/21_120.png   \n2      https://cdn.sofifa.net/players/188/545/21_120.png   \n3      https://cdn.sofifa.net/players/190/871/21_120.png   \n4      https://cdn.sofifa.net/players/192/985/21_120.png   \n...                                                  ...   \n18939  https://cdn.sofifa.net/players/257/710/21_120.png   \n18940  https://cdn.sofifa.net/players/257/933/21_120.png   \n18941  https://cdn.sofifa.net/players/257/936/21_120.png   \n18942  https://cdn.sofifa.net/players/258/736/21_120.png   \n18943  https://cdn.sofifa.net/players/258/760/21_120.png   \n\n                                    club_logo_url  \\\n0         https://cdn.sofifa.net/teams/241/60.png   \n1          https://cdn.sofifa.net/teams/45/60.png   \n2          https://cdn.sofifa.net/teams/21/60.png   \n3          https://cdn.sofifa.net/teams/73/60.png   \n4          https://cdn.sofifa.net/teams/10/60.png   \n...                                           ...   \n18939  https://cdn.sofifa.net/teams/112165/60.png   \n18940  https://cdn.sofifa.net/teams/112540/60.png   \n18941  https://cdn.sofifa.net/teams/111774/60.png   \n18942    https://cdn.sofifa.net/teams/1920/60.png   \n18943    https://cdn.sofifa.net/teams/1920/60.png   \n\n                                 club_flag_url  \\\n0          https://cdn.sofifa.net/flags/es.png   \n1          https://cdn.sofifa.net/flags/it.png   \n2          https://cdn.sofifa.net/flags/de.png   \n3          https://cdn.sofifa.net/flags/fr.png   \n4      https://cdn.sofifa.net/flags/gb-eng.png   \n...                                        ...   \n18939      https://cdn.sofifa.net/flags/cn.png   \n18940      https://cdn.sofifa.net/flags/cn.png   \n18941      https://cdn.sofifa.net/flags/cn.png   \n18942  https://cdn.sofifa.net/flags/gb-eng.png   \n18943  https://cdn.sofifa.net/flags/gb-eng.png   \n\n                                nation_logo_url  \\\n0      https://cdn.sofifa.net/teams/1369/60.png   \n1      https://cdn.sofifa.net/teams/1354/60.png   \n2                                           NaN   \n3                                           NaN   \n4      https://cdn.sofifa.net/teams/1325/60.png   \n...                                         ...   \n18939                                       NaN   \n18940                                       NaN   \n18941                                       NaN   \n18942                                       NaN   \n18943                                       NaN   \n\n                               nation_flag_url  \n0          https://cdn.sofifa.net/flags/ar.png  \n1          https://cdn.sofifa.net/flags/pt.png  \n2          https://cdn.sofifa.net/flags/pl.png  \n3          https://cdn.sofifa.net/flags/br.png  \n4          https://cdn.sofifa.net/flags/be.png  \n...                                        ...  \n18939      https://cdn.sofifa.net/flags/cn.png  \n18940      https://cdn.sofifa.net/flags/cn.png  \n18941      https://cdn.sofifa.net/flags/cn.png  \n18942  https://cdn.sofifa.net/flags/gb-eng.png  \n18943  https://cdn.sofifa.net/flags/gb-eng.png  \n\n[18944 rows x 110 columns]",
      "text/html": "<div>\n<style scoped>\n    .dataframe tbody tr th:only-of-type {\n        vertical-align: middle;\n    }\n\n    .dataframe tbody tr th {\n        vertical-align: top;\n    }\n\n    .dataframe thead th {\n        text-align: right;\n    }\n</style>\n<table border=\"1\" class=\"dataframe\">\n  <thead>\n    <tr style=\"text-align: right;\">\n      <th></th>\n      <th>sofifa_id</th>\n      <th>player_url</th>\n      <th>short_name</th>\n      <th>long_name</th>\n      <th>player_positions</th>\n      <th>overall</th>\n      <th>potential</th>\n      <th>value_eur</th>\n      <th>wage_eur</th>\n      <th>age</th>\n      <th>...</th>\n      <th>lcb</th>\n      <th>cb</th>\n      <th>rcb</th>\n      <th>rb</th>\n      <th>gk</th>\n      <th>player_face_url</th>\n      <th>club_logo_url</th>\n      <th>club_flag_url</th>\n      <th>nation_logo_url</th>\n      <th>nation_flag_url</th>\n    </tr>\n  </thead>\n  <tbody>\n    <tr>\n      <th>0</th>\n      <td>158023</td>\n      <td>https://sofifa.com/player/158023/lionel-messi/...</td>\n      <td>L. Messi</td>\n      <td>Lionel Andrés Messi Cuccittini</td>\n      <td>RW, ST, CF</td>\n      <td>93</td>\n      <td>93</td>\n      <td>103500000.0</td>\n      <td>560000.0</td>\n      <td>33</td>\n      <td>...</td>\n      <td>52+3</td>\n      <td>52+3</td>\n      <td>52+3</td>\n      <td>62+3</td>\n      <td>19+3</td>\n      <td>https://cdn.sofifa.net/players/158/023/21_120.png</td>\n      <td>https://cdn.sofifa.net/teams/241/60.png</td>\n      <td>https://cdn.sofifa.net/flags/es.png</td>\n      <td>https://cdn.sofifa.net/teams/1369/60.png</td>\n      <td>https://cdn.sofifa.net/flags/ar.png</td>\n    </tr>\n    <tr>\n      <th>1</th>\n      <td>20801</td>\n      <td>https://sofifa.com/player/20801/c-ronaldo-dos-...</td>\n      <td>Cristiano Ronaldo</td>\n      <td>Cristiano Ronaldo dos Santos Aveiro</td>\n      <td>ST, LW</td>\n      <td>92</td>\n      <td>92</td>\n      <td>63000000.0</td>\n      <td>220000.0</td>\n      <td>35</td>\n      <td>...</td>\n      <td>54+3</td>\n      <td>54+3</td>\n      <td>54+3</td>\n      <td>61+3</td>\n      <td>20+3</td>\n      <td>https://cdn.sofifa.net/players/020/801/21_120.png</td>\n      <td>https://cdn.sofifa.net/teams/45/60.png</td>\n      <td>https://cdn.sofifa.net/flags/it.png</td>\n      <td>https://cdn.sofifa.net/teams/1354/60.png</td>\n      <td>https://cdn.sofifa.net/flags/pt.png</td>\n    </tr>\n    <tr>\n      <th>2</th>\n      <td>188545</td>\n      <td>https://sofifa.com/player/188545/robert-lewand...</td>\n      <td>R. Lewandowski</td>\n      <td>Robert Lewandowski</td>\n      <td>ST</td>\n      <td>91</td>\n      <td>91</td>\n      <td>111000000.0</td>\n      <td>240000.0</td>\n      <td>31</td>\n      <td>...</td>\n      <td>60+3</td>\n      <td>60+3</td>\n      <td>60+3</td>\n      <td>61+3</td>\n      <td>19+3</td>\n      <td>https://cdn.sofifa.net/players/188/545/21_120.png</td>\n      <td>https://cdn.sofifa.net/teams/21/60.png</td>\n      <td>https://cdn.sofifa.net/flags/de.png</td>\n      <td>NaN</td>\n      <td>https://cdn.sofifa.net/flags/pl.png</td>\n    </tr>\n    <tr>\n      <th>3</th>\n      <td>190871</td>\n      <td>https://sofifa.com/player/190871/neymar-da-sil...</td>\n      <td>Neymar Jr</td>\n      <td>Neymar da Silva Santos Júnior</td>\n      <td>LW, CAM</td>\n      <td>91</td>\n      <td>91</td>\n      <td>132000000.0</td>\n      <td>270000.0</td>\n      <td>28</td>\n      <td>...</td>\n      <td>49+3</td>\n      <td>49+3</td>\n      <td>49+3</td>\n      <td>62+3</td>\n      <td>20+3</td>\n      <td>https://cdn.sofifa.net/players/190/871/21_120.png</td>\n      <td>https://cdn.sofifa.net/teams/73/60.png</td>\n      <td>https://cdn.sofifa.net/flags/fr.png</td>\n      <td>NaN</td>\n      <td>https://cdn.sofifa.net/flags/br.png</td>\n    </tr>\n    <tr>\n      <th>4</th>\n      <td>192985</td>\n      <td>https://sofifa.com/player/192985/kevin-de-bruy...</td>\n      <td>K. De Bruyne</td>\n      <td>Kevin De Bruyne</td>\n      <td>CAM, CM</td>\n      <td>91</td>\n      <td>91</td>\n      <td>129000000.0</td>\n      <td>370000.0</td>\n      <td>29</td>\n      <td>...</td>\n      <td>69+3</td>\n      <td>69+3</td>\n      <td>69+3</td>\n      <td>75+3</td>\n      <td>21+3</td>\n      <td>https://cdn.sofifa.net/players/192/985/21_120.png</td>\n      <td>https://cdn.sofifa.net/teams/10/60.png</td>\n      <td>https://cdn.sofifa.net/flags/gb-eng.png</td>\n      <td>https://cdn.sofifa.net/teams/1325/60.png</td>\n      <td>https://cdn.sofifa.net/flags/be.png</td>\n    </tr>\n    <tr>\n      <th>...</th>\n      <td>...</td>\n      <td>...</td>\n      <td>...</td>\n      <td>...</td>\n      <td>...</td>\n      <td>...</td>\n      <td>...</td>\n      <td>...</td>\n      <td>...</td>\n      <td>...</td>\n      <td>...</td>\n      <td>...</td>\n      <td>...</td>\n      <td>...</td>\n      <td>...</td>\n      <td>...</td>\n      <td>...</td>\n      <td>...</td>\n      <td>...</td>\n      <td>...</td>\n      <td>...</td>\n    </tr>\n    <tr>\n      <th>18939</th>\n      <td>257710</td>\n      <td>https://sofifa.com/player/257710/mengxuan-zhan...</td>\n      <td>Zhang Mengxuan</td>\n      <td>张梦炫</td>\n      <td>CB</td>\n      <td>47</td>\n      <td>52</td>\n      <td>70000.0</td>\n      <td>1000.0</td>\n      <td>21</td>\n      <td>...</td>\n      <td>47+2</td>\n      <td>47+2</td>\n      <td>47+2</td>\n      <td>45+2</td>\n      <td>15+2</td>\n      <td>https://cdn.sofifa.net/players/257/710/21_120.png</td>\n      <td>https://cdn.sofifa.net/teams/112165/60.png</td>\n      <td>https://cdn.sofifa.net/flags/cn.png</td>\n      <td>NaN</td>\n      <td>https://cdn.sofifa.net/flags/cn.png</td>\n    </tr>\n    <tr>\n      <th>18940</th>\n      <td>257933</td>\n      <td>https://sofifa.com/player/257933/wenzhuo-huang...</td>\n      <td>Huang Wenzhou</td>\n      <td>黄文卓</td>\n      <td>CM</td>\n      <td>47</td>\n      <td>53</td>\n      <td>70000.0</td>\n      <td>1000.0</td>\n      <td>21</td>\n      <td>...</td>\n      <td>46+2</td>\n      <td>46+2</td>\n      <td>46+2</td>\n      <td>47+2</td>\n      <td>15+2</td>\n      <td>https://cdn.sofifa.net/players/257/933/21_120.png</td>\n      <td>https://cdn.sofifa.net/teams/112540/60.png</td>\n      <td>https://cdn.sofifa.net/flags/cn.png</td>\n      <td>NaN</td>\n      <td>https://cdn.sofifa.net/flags/cn.png</td>\n    </tr>\n    <tr>\n      <th>18941</th>\n      <td>257936</td>\n      <td>https://sofifa.com/player/257936/yue-song/210002</td>\n      <td>Song Yue</td>\n      <td>宋岳</td>\n      <td>CM</td>\n      <td>47</td>\n      <td>47</td>\n      <td>45000.0</td>\n      <td>2000.0</td>\n      <td>28</td>\n      <td>...</td>\n      <td>46+1</td>\n      <td>46+1</td>\n      <td>46+1</td>\n      <td>47</td>\n      <td>11+2</td>\n      <td>https://cdn.sofifa.net/players/257/936/21_120.png</td>\n      <td>https://cdn.sofifa.net/teams/111774/60.png</td>\n      <td>https://cdn.sofifa.net/flags/cn.png</td>\n      <td>NaN</td>\n      <td>https://cdn.sofifa.net/flags/cn.png</td>\n    </tr>\n    <tr>\n      <th>18942</th>\n      <td>258736</td>\n      <td>https://sofifa.com/player/258736/vani-da-silva...</td>\n      <td>V. Da Silva</td>\n      <td>Ivanilson Loforte Tique Da Silva</td>\n      <td>ST</td>\n      <td>47</td>\n      <td>67</td>\n      <td>130000.0</td>\n      <td>500.0</td>\n      <td>17</td>\n      <td>...</td>\n      <td>26+2</td>\n      <td>26+2</td>\n      <td>26+2</td>\n      <td>33+2</td>\n      <td>14+2</td>\n      <td>https://cdn.sofifa.net/players/258/736/21_120.png</td>\n      <td>https://cdn.sofifa.net/teams/1920/60.png</td>\n      <td>https://cdn.sofifa.net/flags/gb-eng.png</td>\n      <td>NaN</td>\n      <td>https://cdn.sofifa.net/flags/gb-eng.png</td>\n    </tr>\n    <tr>\n      <th>18943</th>\n      <td>258760</td>\n      <td>https://sofifa.com/player/258760/ben-hough/210002</td>\n      <td>B. Hough</td>\n      <td>Ben Hough</td>\n      <td>CM</td>\n      <td>47</td>\n      <td>67</td>\n      <td>130000.0</td>\n      <td>500.0</td>\n      <td>17</td>\n      <td>...</td>\n      <td>41+2</td>\n      <td>41+2</td>\n      <td>41+2</td>\n      <td>43+2</td>\n      <td>14+2</td>\n      <td>https://cdn.sofifa.net/players/258/760/21_120.png</td>\n      <td>https://cdn.sofifa.net/teams/1920/60.png</td>\n      <td>https://cdn.sofifa.net/flags/gb-eng.png</td>\n      <td>NaN</td>\n      <td>https://cdn.sofifa.net/flags/gb-eng.png</td>\n    </tr>\n  </tbody>\n</table>\n<p>18944 rows × 110 columns</p>\n</div>"
     },
     "execution_count": 315,
     "metadata": {},
     "output_type": "execute_result"
    }
   ],
   "source": [
    "players_21"
   ],
   "metadata": {
    "collapsed": false,
    "ExecuteTime": {
     "end_time": "2024-06-11T16:03:46.737242300Z",
     "start_time": "2024-06-11T16:03:46.683744600Z"
    }
   }
  },
  {
   "cell_type": "code",
   "execution_count": 316,
   "outputs": [
    {
     "data": {
      "text/plain": "           sofifa_id       overall     potential     value_eur       wage_eur  \\\ncount   18944.000000  18944.000000  18944.000000  1.870700e+04   18719.000000   \nmean   226232.328917     65.677787     71.086729  2.902288e+06    9148.482825   \nstd     27166.574284      7.002278      6.109985  7.743775e+06   19893.149956   \nmin        41.000000     47.000000     47.000000  9.000000e+03     500.000000   \n25%    210028.750000     61.000000     67.000000  4.750000e+05    1000.000000   \n50%    232301.500000     66.000000     71.000000  9.750000e+05    3000.000000   \n75%    246745.750000     70.000000     75.000000  2.000000e+06    8000.000000   \nmax    258970.000000     93.000000     95.000000  1.855000e+08  560000.000000   \n\n                age     height_cm     weight_kg   club_team_id  league_level  \\\ncount  18944.000000  18944.000000  18944.000000   18719.000000  18719.000000   \nmean      25.225823    181.190773     75.016892   47908.905551      1.355468   \nstd        4.697354      6.825672      7.057140   53906.733776      0.739015   \nmin       16.000000    155.000000     50.000000       1.000000      1.000000   \n25%       21.000000    176.000000     70.000000     461.000000      1.000000   \n50%       25.000000    181.000000     75.000000    1913.000000      1.000000   \n75%       29.000000    186.000000     80.000000  110986.000000      1.000000   \nmax       53.000000    206.000000    110.000000  114899.000000      4.000000   \n\n       ...  mentality_composure  defending_marking_awareness  \\\ncount  ...         18944.000000                 18944.000000   \nmean   ...            57.978674                    46.470017   \nstd    ...            12.118390                    20.169591   \nmin    ...            12.000000                     3.000000   \n25%    ...            50.000000                    29.000000   \n50%    ...            59.000000                    52.000000   \n75%    ...            66.000000                    63.000000   \nmax    ...            96.000000                    94.000000   \n\n       defending_standing_tackle  defending_sliding_tackle  \\\ncount               18944.000000              18944.000000   \nmean                   47.581767                 45.546505   \nstd                    21.402461                 20.953997   \nmin                     5.000000                  4.000000   \n25%                    27.000000                 24.000000   \n50%                    55.000000                 52.000000   \n75%                    65.000000                 63.000000   \nmax                    93.000000                 90.000000   \n\n       goalkeeping_diving  goalkeeping_handling  goalkeeping_kicking  \\\ncount        18944.000000          18944.000000         18944.000000   \nmean            16.446052             16.236486            16.103357   \nstd             17.577332             16.845480            16.519399   \nmin              1.000000              1.000000             1.000000   \n25%              8.000000              8.000000             8.000000   \n50%             11.000000             11.000000            11.000000   \n75%             14.000000             14.000000            14.000000   \nmax             90.000000             92.000000            93.000000   \n\n       goalkeeping_positioning  goalkeeping_reflexes  goalkeeping_speed  \ncount             18944.000000          18944.000000        2083.000000  \nmean                 16.225982             16.551309          37.203553  \nstd                  17.017341             17.878121          10.714523  \nmin                   1.000000              1.000000          12.000000  \n25%                   8.000000              8.000000          28.000000  \n50%                  11.000000             11.000000          37.000000  \n75%                  14.000000             14.000000          45.000000  \nmax                  91.000000             90.000000          65.000000  \n\n[8 rows x 60 columns]",
      "text/html": "<div>\n<style scoped>\n    .dataframe tbody tr th:only-of-type {\n        vertical-align: middle;\n    }\n\n    .dataframe tbody tr th {\n        vertical-align: top;\n    }\n\n    .dataframe thead th {\n        text-align: right;\n    }\n</style>\n<table border=\"1\" class=\"dataframe\">\n  <thead>\n    <tr style=\"text-align: right;\">\n      <th></th>\n      <th>sofifa_id</th>\n      <th>overall</th>\n      <th>potential</th>\n      <th>value_eur</th>\n      <th>wage_eur</th>\n      <th>age</th>\n      <th>height_cm</th>\n      <th>weight_kg</th>\n      <th>club_team_id</th>\n      <th>league_level</th>\n      <th>...</th>\n      <th>mentality_composure</th>\n      <th>defending_marking_awareness</th>\n      <th>defending_standing_tackle</th>\n      <th>defending_sliding_tackle</th>\n      <th>goalkeeping_diving</th>\n      <th>goalkeeping_handling</th>\n      <th>goalkeeping_kicking</th>\n      <th>goalkeeping_positioning</th>\n      <th>goalkeeping_reflexes</th>\n      <th>goalkeeping_speed</th>\n    </tr>\n  </thead>\n  <tbody>\n    <tr>\n      <th>count</th>\n      <td>18944.000000</td>\n      <td>18944.000000</td>\n      <td>18944.000000</td>\n      <td>1.870700e+04</td>\n      <td>18719.000000</td>\n      <td>18944.000000</td>\n      <td>18944.000000</td>\n      <td>18944.000000</td>\n      <td>18719.000000</td>\n      <td>18719.000000</td>\n      <td>...</td>\n      <td>18944.000000</td>\n      <td>18944.000000</td>\n      <td>18944.000000</td>\n      <td>18944.000000</td>\n      <td>18944.000000</td>\n      <td>18944.000000</td>\n      <td>18944.000000</td>\n      <td>18944.000000</td>\n      <td>18944.000000</td>\n      <td>2083.000000</td>\n    </tr>\n    <tr>\n      <th>mean</th>\n      <td>226232.328917</td>\n      <td>65.677787</td>\n      <td>71.086729</td>\n      <td>2.902288e+06</td>\n      <td>9148.482825</td>\n      <td>25.225823</td>\n      <td>181.190773</td>\n      <td>75.016892</td>\n      <td>47908.905551</td>\n      <td>1.355468</td>\n      <td>...</td>\n      <td>57.978674</td>\n      <td>46.470017</td>\n      <td>47.581767</td>\n      <td>45.546505</td>\n      <td>16.446052</td>\n      <td>16.236486</td>\n      <td>16.103357</td>\n      <td>16.225982</td>\n      <td>16.551309</td>\n      <td>37.203553</td>\n    </tr>\n    <tr>\n      <th>std</th>\n      <td>27166.574284</td>\n      <td>7.002278</td>\n      <td>6.109985</td>\n      <td>7.743775e+06</td>\n      <td>19893.149956</td>\n      <td>4.697354</td>\n      <td>6.825672</td>\n      <td>7.057140</td>\n      <td>53906.733776</td>\n      <td>0.739015</td>\n      <td>...</td>\n      <td>12.118390</td>\n      <td>20.169591</td>\n      <td>21.402461</td>\n      <td>20.953997</td>\n      <td>17.577332</td>\n      <td>16.845480</td>\n      <td>16.519399</td>\n      <td>17.017341</td>\n      <td>17.878121</td>\n      <td>10.714523</td>\n    </tr>\n    <tr>\n      <th>min</th>\n      <td>41.000000</td>\n      <td>47.000000</td>\n      <td>47.000000</td>\n      <td>9.000000e+03</td>\n      <td>500.000000</td>\n      <td>16.000000</td>\n      <td>155.000000</td>\n      <td>50.000000</td>\n      <td>1.000000</td>\n      <td>1.000000</td>\n      <td>...</td>\n      <td>12.000000</td>\n      <td>3.000000</td>\n      <td>5.000000</td>\n      <td>4.000000</td>\n      <td>1.000000</td>\n      <td>1.000000</td>\n      <td>1.000000</td>\n      <td>1.000000</td>\n      <td>1.000000</td>\n      <td>12.000000</td>\n    </tr>\n    <tr>\n      <th>25%</th>\n      <td>210028.750000</td>\n      <td>61.000000</td>\n      <td>67.000000</td>\n      <td>4.750000e+05</td>\n      <td>1000.000000</td>\n      <td>21.000000</td>\n      <td>176.000000</td>\n      <td>70.000000</td>\n      <td>461.000000</td>\n      <td>1.000000</td>\n      <td>...</td>\n      <td>50.000000</td>\n      <td>29.000000</td>\n      <td>27.000000</td>\n      <td>24.000000</td>\n      <td>8.000000</td>\n      <td>8.000000</td>\n      <td>8.000000</td>\n      <td>8.000000</td>\n      <td>8.000000</td>\n      <td>28.000000</td>\n    </tr>\n    <tr>\n      <th>50%</th>\n      <td>232301.500000</td>\n      <td>66.000000</td>\n      <td>71.000000</td>\n      <td>9.750000e+05</td>\n      <td>3000.000000</td>\n      <td>25.000000</td>\n      <td>181.000000</td>\n      <td>75.000000</td>\n      <td>1913.000000</td>\n      <td>1.000000</td>\n      <td>...</td>\n      <td>59.000000</td>\n      <td>52.000000</td>\n      <td>55.000000</td>\n      <td>52.000000</td>\n      <td>11.000000</td>\n      <td>11.000000</td>\n      <td>11.000000</td>\n      <td>11.000000</td>\n      <td>11.000000</td>\n      <td>37.000000</td>\n    </tr>\n    <tr>\n      <th>75%</th>\n      <td>246745.750000</td>\n      <td>70.000000</td>\n      <td>75.000000</td>\n      <td>2.000000e+06</td>\n      <td>8000.000000</td>\n      <td>29.000000</td>\n      <td>186.000000</td>\n      <td>80.000000</td>\n      <td>110986.000000</td>\n      <td>1.000000</td>\n      <td>...</td>\n      <td>66.000000</td>\n      <td>63.000000</td>\n      <td>65.000000</td>\n      <td>63.000000</td>\n      <td>14.000000</td>\n      <td>14.000000</td>\n      <td>14.000000</td>\n      <td>14.000000</td>\n      <td>14.000000</td>\n      <td>45.000000</td>\n    </tr>\n    <tr>\n      <th>max</th>\n      <td>258970.000000</td>\n      <td>93.000000</td>\n      <td>95.000000</td>\n      <td>1.855000e+08</td>\n      <td>560000.000000</td>\n      <td>53.000000</td>\n      <td>206.000000</td>\n      <td>110.000000</td>\n      <td>114899.000000</td>\n      <td>4.000000</td>\n      <td>...</td>\n      <td>96.000000</td>\n      <td>94.000000</td>\n      <td>93.000000</td>\n      <td>90.000000</td>\n      <td>90.000000</td>\n      <td>92.000000</td>\n      <td>93.000000</td>\n      <td>91.000000</td>\n      <td>90.000000</td>\n      <td>65.000000</td>\n    </tr>\n  </tbody>\n</table>\n<p>8 rows × 60 columns</p>\n</div>"
     },
     "execution_count": 316,
     "metadata": {},
     "output_type": "execute_result"
    }
   ],
   "source": [
    "players_21.describe()"
   ],
   "metadata": {
    "collapsed": false,
    "ExecuteTime": {
     "end_time": "2024-06-11T16:03:46.878393300Z",
     "start_time": "2024-06-11T16:03:46.714719Z"
    }
   }
  },
  {
   "cell_type": "code",
   "execution_count": 317,
   "outputs": [
    {
     "name": "stdout",
     "output_type": "stream",
     "text": [
      "<class 'pandas.core.frame.DataFrame'>\n",
      "RangeIndex: 18944 entries, 0 to 18943\n",
      "Columns: 110 entries, sofifa_id to nation_flag_url\n",
      "dtypes: float64(16), int64(44), object(50)\n",
      "memory usage: 15.9+ MB\n"
     ]
    }
   ],
   "source": [
    "players_21.info()"
   ],
   "metadata": {
    "collapsed": false,
    "ExecuteTime": {
     "end_time": "2024-06-11T16:03:46.879387Z",
     "start_time": "2024-06-11T16:03:46.827997900Z"
    }
   }
  },
  {
   "cell_type": "code",
   "execution_count": 318,
   "outputs": [
    {
     "name": "stdout",
     "output_type": "stream",
     "text": [
      "Index(['player_url', 'short_name', 'long_name', 'player_positions', 'dob',\n",
      "       'club_name', 'league_name', 'club_position', 'club_loaned_from',\n",
      "       'club_joined', 'nationality_name', 'nation_position', 'preferred_foot',\n",
      "       'work_rate', 'body_type', 'real_face', 'player_tags', 'player_traits',\n",
      "       'ls', 'st', 'rs', 'lw', 'lf', 'cf', 'rf', 'rw', 'lam', 'cam', 'ram',\n",
      "       'lm', 'lcm', 'cm', 'rcm', 'rm', 'lwb', 'ldm', 'cdm', 'rdm', 'rwb', 'lb',\n",
      "       'lcb', 'cb', 'rcb', 'rb', 'gk', 'player_face_url', 'club_logo_url',\n",
      "       'club_flag_url', 'nation_logo_url', 'nation_flag_url'],\n",
      "      dtype='object')\n"
     ]
    }
   ],
   "source": [
    "object_columns = players_21.select_dtypes(include='object').columns\n",
    "\n",
    "print(object_columns)"
   ],
   "metadata": {
    "collapsed": false,
    "ExecuteTime": {
     "end_time": "2024-06-11T16:03:46.879387Z",
     "start_time": "2024-06-11T16:03:46.833934900Z"
    }
   }
  },
  {
   "cell_type": "code",
   "execution_count": 319,
   "outputs": [],
   "source": [
    "columns_to_drop = players_21.filter(regex='url|dob').columns\n",
    "\n",
    "players_21.drop(columns=columns_to_drop, axis=1, inplace=True)"
   ],
   "metadata": {
    "collapsed": false,
    "ExecuteTime": {
     "end_time": "2024-06-11T16:03:46.880385600Z",
     "start_time": "2024-06-11T16:03:46.850786700Z"
    }
   }
  },
  {
   "cell_type": "code",
   "execution_count": 320,
   "outputs": [
    {
     "name": "stdout",
     "output_type": "stream",
     "text": [
      "<class 'pandas.core.frame.DataFrame'>\n",
      "RangeIndex: 18944 entries, 0 to 18943\n",
      "Columns: 103 entries, sofifa_id to gk\n",
      "dtypes: float64(16), int64(44), object(43)\n",
      "memory usage: 14.9+ MB\n"
     ]
    }
   ],
   "source": [
    "players_21.info()"
   ],
   "metadata": {
    "collapsed": false,
    "ExecuteTime": {
     "end_time": "2024-06-11T16:03:46.888925800Z",
     "start_time": "2024-06-11T16:03:46.876388200Z"
    }
   }
  },
  {
   "cell_type": "code",
   "execution_count": 321,
   "outputs": [],
   "source": [
    "players_21.dropna(thresh= len(players_21) * 0.5, axis=1, inplace=True)"
   ],
   "metadata": {
    "collapsed": false,
    "ExecuteTime": {
     "end_time": "2024-06-11T16:03:46.986362600Z",
     "start_time": "2024-06-11T16:03:46.887927200Z"
    }
   }
  },
  {
   "cell_type": "code",
   "execution_count": 322,
   "outputs": [
    {
     "name": "stdout",
     "output_type": "stream",
     "text": [
      "<class 'pandas.core.frame.DataFrame'>\n",
      "RangeIndex: 18944 entries, 0 to 18943\n",
      "Data columns (total 96 columns):\n",
      " #   Column                       Non-Null Count  Dtype  \n",
      "---  ------                       --------------  -----  \n",
      " 0   sofifa_id                    18944 non-null  int64  \n",
      " 1   short_name                   18944 non-null  object \n",
      " 2   long_name                    18944 non-null  object \n",
      " 3   player_positions             18944 non-null  object \n",
      " 4   overall                      18944 non-null  int64  \n",
      " 5   potential                    18944 non-null  int64  \n",
      " 6   value_eur                    18707 non-null  float64\n",
      " 7   wage_eur                     18719 non-null  float64\n",
      " 8   age                          18944 non-null  int64  \n",
      " 9   height_cm                    18944 non-null  int64  \n",
      " 10  weight_kg                    18944 non-null  int64  \n",
      " 11  club_team_id                 18719 non-null  float64\n",
      " 12  club_name                    18719 non-null  object \n",
      " 13  league_name                  18719 non-null  object \n",
      " 14  league_level                 18719 non-null  float64\n",
      " 15  club_position                18719 non-null  object \n",
      " 16  club_jersey_number           18719 non-null  float64\n",
      " 17  club_joined                  17961 non-null  object \n",
      " 18  club_contract_valid_until    18719 non-null  float64\n",
      " 19  nationality_id               18944 non-null  int64  \n",
      " 20  nationality_name             18944 non-null  object \n",
      " 21  preferred_foot               18944 non-null  object \n",
      " 22  weak_foot                    18944 non-null  int64  \n",
      " 23  skill_moves                  18944 non-null  int64  \n",
      " 24  international_reputation     18944 non-null  int64  \n",
      " 25  work_rate                    18944 non-null  object \n",
      " 26  body_type                    18944 non-null  object \n",
      " 27  real_face                    18944 non-null  object \n",
      " 28  release_clause_eur           17949 non-null  float64\n",
      " 29  pace                         16861 non-null  float64\n",
      " 30  shooting                     16861 non-null  float64\n",
      " 31  passing                      16861 non-null  float64\n",
      " 32  dribbling                    16861 non-null  float64\n",
      " 33  defending                    16861 non-null  float64\n",
      " 34  physic                       16861 non-null  float64\n",
      " 35  attacking_crossing           18944 non-null  int64  \n",
      " 36  attacking_finishing          18944 non-null  int64  \n",
      " 37  attacking_heading_accuracy   18944 non-null  int64  \n",
      " 38  attacking_short_passing      18944 non-null  int64  \n",
      " 39  attacking_volleys            18944 non-null  int64  \n",
      " 40  skill_dribbling              18944 non-null  int64  \n",
      " 41  skill_curve                  18944 non-null  int64  \n",
      " 42  skill_fk_accuracy            18944 non-null  int64  \n",
      " 43  skill_long_passing           18944 non-null  int64  \n",
      " 44  skill_ball_control           18944 non-null  int64  \n",
      " 45  movement_acceleration        18944 non-null  int64  \n",
      " 46  movement_sprint_speed        18944 non-null  int64  \n",
      " 47  movement_agility             18944 non-null  int64  \n",
      " 48  movement_reactions           18944 non-null  int64  \n",
      " 49  movement_balance             18944 non-null  int64  \n",
      " 50  power_shot_power             18944 non-null  int64  \n",
      " 51  power_jumping                18944 non-null  int64  \n",
      " 52  power_stamina                18944 non-null  int64  \n",
      " 53  power_strength               18944 non-null  int64  \n",
      " 54  power_long_shots             18944 non-null  int64  \n",
      " 55  mentality_aggression         18944 non-null  int64  \n",
      " 56  mentality_interceptions      18944 non-null  int64  \n",
      " 57  mentality_positioning        18944 non-null  int64  \n",
      " 58  mentality_vision             18944 non-null  int64  \n",
      " 59  mentality_penalties          18944 non-null  int64  \n",
      " 60  mentality_composure          18944 non-null  int64  \n",
      " 61  defending_marking_awareness  18944 non-null  int64  \n",
      " 62  defending_standing_tackle    18944 non-null  int64  \n",
      " 63  defending_sliding_tackle     18944 non-null  int64  \n",
      " 64  goalkeeping_diving           18944 non-null  int64  \n",
      " 65  goalkeeping_handling         18944 non-null  int64  \n",
      " 66  goalkeeping_kicking          18944 non-null  int64  \n",
      " 67  goalkeeping_positioning      18944 non-null  int64  \n",
      " 68  goalkeeping_reflexes         18944 non-null  int64  \n",
      " 69  ls                           18944 non-null  object \n",
      " 70  st                           18944 non-null  object \n",
      " 71  rs                           18944 non-null  object \n",
      " 72  lw                           18944 non-null  object \n",
      " 73  lf                           18944 non-null  object \n",
      " 74  cf                           18944 non-null  object \n",
      " 75  rf                           18944 non-null  object \n",
      " 76  rw                           18944 non-null  object \n",
      " 77  lam                          18944 non-null  object \n",
      " 78  cam                          18944 non-null  object \n",
      " 79  ram                          18944 non-null  object \n",
      " 80  lm                           18944 non-null  object \n",
      " 81  lcm                          18944 non-null  object \n",
      " 82  cm                           18944 non-null  object \n",
      " 83  rcm                          18944 non-null  object \n",
      " 84  rm                           18944 non-null  object \n",
      " 85  lwb                          18944 non-null  object \n",
      " 86  ldm                          18944 non-null  object \n",
      " 87  cdm                          18944 non-null  object \n",
      " 88  rdm                          18944 non-null  object \n",
      " 89  rwb                          18944 non-null  object \n",
      " 90  lb                           18944 non-null  object \n",
      " 91  lcb                          18944 non-null  object \n",
      " 92  cb                           18944 non-null  object \n",
      " 93  rcb                          18944 non-null  object \n",
      " 94  rb                           18944 non-null  object \n",
      " 95  gk                           18944 non-null  object \n",
      "dtypes: float64(13), int64(44), object(39)\n",
      "memory usage: 13.9+ MB\n"
     ]
    }
   ],
   "source": [
    "players_21.info()"
   ],
   "metadata": {
    "collapsed": false,
    "ExecuteTime": {
     "end_time": "2024-06-11T16:03:47.008744700Z",
     "start_time": "2024-06-11T16:03:46.927053700Z"
    }
   }
  },
  {
   "cell_type": "code",
   "execution_count": 323,
   "outputs": [],
   "source": [
    "from sklearn.impute import SimpleImputer\n",
    "\n",
    "numeric_cols = players_21.select_dtypes(include=['number']).columns\n",
    "num_imputer = SimpleImputer(strategy='median')\n",
    "players_21[numeric_cols] = num_imputer.fit_transform(players_21[numeric_cols])\n",
    "\n",
    "obj_imputer = SimpleImputer(strategy='most_frequent')\n",
    "players_21[players_21.select_dtypes(include='object').columns] = obj_imputer.fit_transform(players_21[players_21.select_dtypes\n",
    "(include='object').columns])"
   ],
   "metadata": {
    "collapsed": false,
    "ExecuteTime": {
     "end_time": "2024-06-11T16:03:47.247256800Z",
     "start_time": "2024-06-11T16:03:46.961370500Z"
    }
   }
  },
  {
   "cell_type": "code",
   "execution_count": 324,
   "outputs": [
    {
     "name": "stdout",
     "output_type": "stream",
     "text": [
      "<class 'pandas.core.frame.DataFrame'>\n",
      "RangeIndex: 18944 entries, 0 to 18943\n",
      "Data columns (total 96 columns):\n",
      " #   Column                       Non-Null Count  Dtype  \n",
      "---  ------                       --------------  -----  \n",
      " 0   sofifa_id                    18944 non-null  float64\n",
      " 1   short_name                   18944 non-null  object \n",
      " 2   long_name                    18944 non-null  object \n",
      " 3   player_positions             18944 non-null  object \n",
      " 4   overall                      18944 non-null  float64\n",
      " 5   potential                    18944 non-null  float64\n",
      " 6   value_eur                    18944 non-null  float64\n",
      " 7   wage_eur                     18944 non-null  float64\n",
      " 8   age                          18944 non-null  float64\n",
      " 9   height_cm                    18944 non-null  float64\n",
      " 10  weight_kg                    18944 non-null  float64\n",
      " 11  club_team_id                 18944 non-null  float64\n",
      " 12  club_name                    18944 non-null  object \n",
      " 13  league_name                  18944 non-null  object \n",
      " 14  league_level                 18944 non-null  float64\n",
      " 15  club_position                18944 non-null  object \n",
      " 16  club_jersey_number           18944 non-null  float64\n",
      " 17  club_joined                  18944 non-null  object \n",
      " 18  club_contract_valid_until    18944 non-null  float64\n",
      " 19  nationality_id               18944 non-null  float64\n",
      " 20  nationality_name             18944 non-null  object \n",
      " 21  preferred_foot               18944 non-null  object \n",
      " 22  weak_foot                    18944 non-null  float64\n",
      " 23  skill_moves                  18944 non-null  float64\n",
      " 24  international_reputation     18944 non-null  float64\n",
      " 25  work_rate                    18944 non-null  object \n",
      " 26  body_type                    18944 non-null  object \n",
      " 27  real_face                    18944 non-null  object \n",
      " 28  release_clause_eur           18944 non-null  float64\n",
      " 29  pace                         18944 non-null  float64\n",
      " 30  shooting                     18944 non-null  float64\n",
      " 31  passing                      18944 non-null  float64\n",
      " 32  dribbling                    18944 non-null  float64\n",
      " 33  defending                    18944 non-null  float64\n",
      " 34  physic                       18944 non-null  float64\n",
      " 35  attacking_crossing           18944 non-null  float64\n",
      " 36  attacking_finishing          18944 non-null  float64\n",
      " 37  attacking_heading_accuracy   18944 non-null  float64\n",
      " 38  attacking_short_passing      18944 non-null  float64\n",
      " 39  attacking_volleys            18944 non-null  float64\n",
      " 40  skill_dribbling              18944 non-null  float64\n",
      " 41  skill_curve                  18944 non-null  float64\n",
      " 42  skill_fk_accuracy            18944 non-null  float64\n",
      " 43  skill_long_passing           18944 non-null  float64\n",
      " 44  skill_ball_control           18944 non-null  float64\n",
      " 45  movement_acceleration        18944 non-null  float64\n",
      " 46  movement_sprint_speed        18944 non-null  float64\n",
      " 47  movement_agility             18944 non-null  float64\n",
      " 48  movement_reactions           18944 non-null  float64\n",
      " 49  movement_balance             18944 non-null  float64\n",
      " 50  power_shot_power             18944 non-null  float64\n",
      " 51  power_jumping                18944 non-null  float64\n",
      " 52  power_stamina                18944 non-null  float64\n",
      " 53  power_strength               18944 non-null  float64\n",
      " 54  power_long_shots             18944 non-null  float64\n",
      " 55  mentality_aggression         18944 non-null  float64\n",
      " 56  mentality_interceptions      18944 non-null  float64\n",
      " 57  mentality_positioning        18944 non-null  float64\n",
      " 58  mentality_vision             18944 non-null  float64\n",
      " 59  mentality_penalties          18944 non-null  float64\n",
      " 60  mentality_composure          18944 non-null  float64\n",
      " 61  defending_marking_awareness  18944 non-null  float64\n",
      " 62  defending_standing_tackle    18944 non-null  float64\n",
      " 63  defending_sliding_tackle     18944 non-null  float64\n",
      " 64  goalkeeping_diving           18944 non-null  float64\n",
      " 65  goalkeeping_handling         18944 non-null  float64\n",
      " 66  goalkeeping_kicking          18944 non-null  float64\n",
      " 67  goalkeeping_positioning      18944 non-null  float64\n",
      " 68  goalkeeping_reflexes         18944 non-null  float64\n",
      " 69  ls                           18944 non-null  object \n",
      " 70  st                           18944 non-null  object \n",
      " 71  rs                           18944 non-null  object \n",
      " 72  lw                           18944 non-null  object \n",
      " 73  lf                           18944 non-null  object \n",
      " 74  cf                           18944 non-null  object \n",
      " 75  rf                           18944 non-null  object \n",
      " 76  rw                           18944 non-null  object \n",
      " 77  lam                          18944 non-null  object \n",
      " 78  cam                          18944 non-null  object \n",
      " 79  ram                          18944 non-null  object \n",
      " 80  lm                           18944 non-null  object \n",
      " 81  lcm                          18944 non-null  object \n",
      " 82  cm                           18944 non-null  object \n",
      " 83  rcm                          18944 non-null  object \n",
      " 84  rm                           18944 non-null  object \n",
      " 85  lwb                          18944 non-null  object \n",
      " 86  ldm                          18944 non-null  object \n",
      " 87  cdm                          18944 non-null  object \n",
      " 88  rdm                          18944 non-null  object \n",
      " 89  rwb                          18944 non-null  object \n",
      " 90  lb                           18944 non-null  object \n",
      " 91  lcb                          18944 non-null  object \n",
      " 92  cb                           18944 non-null  object \n",
      " 93  rcb                          18944 non-null  object \n",
      " 94  rb                           18944 non-null  object \n",
      " 95  gk                           18944 non-null  object \n",
      "dtypes: float64(57), object(39)\n",
      "memory usage: 13.9+ MB\n"
     ]
    }
   ],
   "source": [
    "players_21.info()"
   ],
   "metadata": {
    "collapsed": false,
    "ExecuteTime": {
     "end_time": "2024-06-11T16:03:47.287937300Z",
     "start_time": "2024-06-11T16:03:47.247256800Z"
    }
   }
  },
  {
   "cell_type": "code",
   "execution_count": 325,
   "outputs": [
    {
     "data": {
      "text/plain": "       sofifa_id         short_name                            long_name  \\\n0       158023.0           L. Messi       Lionel Andrés Messi Cuccittini   \n1        20801.0  Cristiano Ronaldo  Cristiano Ronaldo dos Santos Aveiro   \n2       188545.0     R. Lewandowski                   Robert Lewandowski   \n3       190871.0          Neymar Jr        Neymar da Silva Santos Júnior   \n4       192985.0       K. De Bruyne                      Kevin De Bruyne   \n...          ...                ...                                  ...   \n18939   257710.0     Zhang Mengxuan                                  张梦炫   \n18940   257933.0      Huang Wenzhou                                  黄文卓   \n18941   257936.0           Song Yue                                   宋岳   \n18942   258736.0        V. Da Silva     Ivanilson Loforte Tique Da Silva   \n18943   258760.0           B. Hough                            Ben Hough   \n\n      player_positions  overall  potential    value_eur  wage_eur   age  \\\n0           RW, ST, CF     93.0       93.0  103500000.0  560000.0  33.0   \n1               ST, LW     92.0       92.0   63000000.0  220000.0  35.0   \n2                   ST     91.0       91.0  111000000.0  240000.0  31.0   \n3              LW, CAM     91.0       91.0  132000000.0  270000.0  28.0   \n4              CAM, CM     91.0       91.0  129000000.0  370000.0  29.0   \n...                ...      ...        ...          ...       ...   ...   \n18939               CB     47.0       52.0      70000.0    1000.0  21.0   \n18940               CM     47.0       53.0      70000.0    1000.0  21.0   \n18941               CM     47.0       47.0      45000.0    2000.0  28.0   \n18942               ST     47.0       67.0     130000.0     500.0  17.0   \n18943               CM     47.0       67.0     130000.0     500.0  17.0   \n\n       height_cm  ...   ldm   cdm   rdm   rwb    lb   lcb    cb   rcb    rb  \\\n0          170.0  ...  65+3  65+3  65+3  66+3  62+3  52+3  52+3  52+3  62+3   \n1          187.0  ...  61+3  61+3  61+3  65+3  61+3  54+3  54+3  54+3  61+3   \n2          184.0  ...  65+3  65+3  65+3  64+3  61+3  60+3  60+3  60+3  61+3   \n3          175.0  ...  62+3  62+3  62+3  67+3  62+3  49+3  49+3  49+3  62+3   \n4          181.0  ...  80+3  80+3  80+3  79+3  75+3  69+3  69+3  69+3  75+3   \n...          ...  ...   ...   ...   ...   ...   ...   ...   ...   ...   ...   \n18939      177.0  ...  41+2  41+2  41+2  42+2  45+2  47+2  47+2  47+2  45+2   \n18940      174.0  ...  48+2  48+2  48+2  47+2  47+2  46+2  46+2  46+2  47+2   \n18941      185.0  ...    47    47    47    47    47  46+1  46+1  46+1    47   \n18942      171.0  ...  32+2  32+2  32+2  35+2  33+2  26+2  26+2  26+2  33+2   \n18943      175.0  ...  43+2  43+2  43+2  44+2  43+2  41+2  41+2  41+2  43+2   \n\n         gk  \n0      19+3  \n1      20+3  \n2      19+3  \n3      20+3  \n4      21+3  \n...     ...  \n18939  15+2  \n18940  15+2  \n18941  11+2  \n18942  14+2  \n18943  14+2  \n\n[18944 rows x 96 columns]",
      "text/html": "<div>\n<style scoped>\n    .dataframe tbody tr th:only-of-type {\n        vertical-align: middle;\n    }\n\n    .dataframe tbody tr th {\n        vertical-align: top;\n    }\n\n    .dataframe thead th {\n        text-align: right;\n    }\n</style>\n<table border=\"1\" class=\"dataframe\">\n  <thead>\n    <tr style=\"text-align: right;\">\n      <th></th>\n      <th>sofifa_id</th>\n      <th>short_name</th>\n      <th>long_name</th>\n      <th>player_positions</th>\n      <th>overall</th>\n      <th>potential</th>\n      <th>value_eur</th>\n      <th>wage_eur</th>\n      <th>age</th>\n      <th>height_cm</th>\n      <th>...</th>\n      <th>ldm</th>\n      <th>cdm</th>\n      <th>rdm</th>\n      <th>rwb</th>\n      <th>lb</th>\n      <th>lcb</th>\n      <th>cb</th>\n      <th>rcb</th>\n      <th>rb</th>\n      <th>gk</th>\n    </tr>\n  </thead>\n  <tbody>\n    <tr>\n      <th>0</th>\n      <td>158023.0</td>\n      <td>L. Messi</td>\n      <td>Lionel Andrés Messi Cuccittini</td>\n      <td>RW, ST, CF</td>\n      <td>93.0</td>\n      <td>93.0</td>\n      <td>103500000.0</td>\n      <td>560000.0</td>\n      <td>33.0</td>\n      <td>170.0</td>\n      <td>...</td>\n      <td>65+3</td>\n      <td>65+3</td>\n      <td>65+3</td>\n      <td>66+3</td>\n      <td>62+3</td>\n      <td>52+3</td>\n      <td>52+3</td>\n      <td>52+3</td>\n      <td>62+3</td>\n      <td>19+3</td>\n    </tr>\n    <tr>\n      <th>1</th>\n      <td>20801.0</td>\n      <td>Cristiano Ronaldo</td>\n      <td>Cristiano Ronaldo dos Santos Aveiro</td>\n      <td>ST, LW</td>\n      <td>92.0</td>\n      <td>92.0</td>\n      <td>63000000.0</td>\n      <td>220000.0</td>\n      <td>35.0</td>\n      <td>187.0</td>\n      <td>...</td>\n      <td>61+3</td>\n      <td>61+3</td>\n      <td>61+3</td>\n      <td>65+3</td>\n      <td>61+3</td>\n      <td>54+3</td>\n      <td>54+3</td>\n      <td>54+3</td>\n      <td>61+3</td>\n      <td>20+3</td>\n    </tr>\n    <tr>\n      <th>2</th>\n      <td>188545.0</td>\n      <td>R. Lewandowski</td>\n      <td>Robert Lewandowski</td>\n      <td>ST</td>\n      <td>91.0</td>\n      <td>91.0</td>\n      <td>111000000.0</td>\n      <td>240000.0</td>\n      <td>31.0</td>\n      <td>184.0</td>\n      <td>...</td>\n      <td>65+3</td>\n      <td>65+3</td>\n      <td>65+3</td>\n      <td>64+3</td>\n      <td>61+3</td>\n      <td>60+3</td>\n      <td>60+3</td>\n      <td>60+3</td>\n      <td>61+3</td>\n      <td>19+3</td>\n    </tr>\n    <tr>\n      <th>3</th>\n      <td>190871.0</td>\n      <td>Neymar Jr</td>\n      <td>Neymar da Silva Santos Júnior</td>\n      <td>LW, CAM</td>\n      <td>91.0</td>\n      <td>91.0</td>\n      <td>132000000.0</td>\n      <td>270000.0</td>\n      <td>28.0</td>\n      <td>175.0</td>\n      <td>...</td>\n      <td>62+3</td>\n      <td>62+3</td>\n      <td>62+3</td>\n      <td>67+3</td>\n      <td>62+3</td>\n      <td>49+3</td>\n      <td>49+3</td>\n      <td>49+3</td>\n      <td>62+3</td>\n      <td>20+3</td>\n    </tr>\n    <tr>\n      <th>4</th>\n      <td>192985.0</td>\n      <td>K. De Bruyne</td>\n      <td>Kevin De Bruyne</td>\n      <td>CAM, CM</td>\n      <td>91.0</td>\n      <td>91.0</td>\n      <td>129000000.0</td>\n      <td>370000.0</td>\n      <td>29.0</td>\n      <td>181.0</td>\n      <td>...</td>\n      <td>80+3</td>\n      <td>80+3</td>\n      <td>80+3</td>\n      <td>79+3</td>\n      <td>75+3</td>\n      <td>69+3</td>\n      <td>69+3</td>\n      <td>69+3</td>\n      <td>75+3</td>\n      <td>21+3</td>\n    </tr>\n    <tr>\n      <th>...</th>\n      <td>...</td>\n      <td>...</td>\n      <td>...</td>\n      <td>...</td>\n      <td>...</td>\n      <td>...</td>\n      <td>...</td>\n      <td>...</td>\n      <td>...</td>\n      <td>...</td>\n      <td>...</td>\n      <td>...</td>\n      <td>...</td>\n      <td>...</td>\n      <td>...</td>\n      <td>...</td>\n      <td>...</td>\n      <td>...</td>\n      <td>...</td>\n      <td>...</td>\n      <td>...</td>\n    </tr>\n    <tr>\n      <th>18939</th>\n      <td>257710.0</td>\n      <td>Zhang Mengxuan</td>\n      <td>张梦炫</td>\n      <td>CB</td>\n      <td>47.0</td>\n      <td>52.0</td>\n      <td>70000.0</td>\n      <td>1000.0</td>\n      <td>21.0</td>\n      <td>177.0</td>\n      <td>...</td>\n      <td>41+2</td>\n      <td>41+2</td>\n      <td>41+2</td>\n      <td>42+2</td>\n      <td>45+2</td>\n      <td>47+2</td>\n      <td>47+2</td>\n      <td>47+2</td>\n      <td>45+2</td>\n      <td>15+2</td>\n    </tr>\n    <tr>\n      <th>18940</th>\n      <td>257933.0</td>\n      <td>Huang Wenzhou</td>\n      <td>黄文卓</td>\n      <td>CM</td>\n      <td>47.0</td>\n      <td>53.0</td>\n      <td>70000.0</td>\n      <td>1000.0</td>\n      <td>21.0</td>\n      <td>174.0</td>\n      <td>...</td>\n      <td>48+2</td>\n      <td>48+2</td>\n      <td>48+2</td>\n      <td>47+2</td>\n      <td>47+2</td>\n      <td>46+2</td>\n      <td>46+2</td>\n      <td>46+2</td>\n      <td>47+2</td>\n      <td>15+2</td>\n    </tr>\n    <tr>\n      <th>18941</th>\n      <td>257936.0</td>\n      <td>Song Yue</td>\n      <td>宋岳</td>\n      <td>CM</td>\n      <td>47.0</td>\n      <td>47.0</td>\n      <td>45000.0</td>\n      <td>2000.0</td>\n      <td>28.0</td>\n      <td>185.0</td>\n      <td>...</td>\n      <td>47</td>\n      <td>47</td>\n      <td>47</td>\n      <td>47</td>\n      <td>47</td>\n      <td>46+1</td>\n      <td>46+1</td>\n      <td>46+1</td>\n      <td>47</td>\n      <td>11+2</td>\n    </tr>\n    <tr>\n      <th>18942</th>\n      <td>258736.0</td>\n      <td>V. Da Silva</td>\n      <td>Ivanilson Loforte Tique Da Silva</td>\n      <td>ST</td>\n      <td>47.0</td>\n      <td>67.0</td>\n      <td>130000.0</td>\n      <td>500.0</td>\n      <td>17.0</td>\n      <td>171.0</td>\n      <td>...</td>\n      <td>32+2</td>\n      <td>32+2</td>\n      <td>32+2</td>\n      <td>35+2</td>\n      <td>33+2</td>\n      <td>26+2</td>\n      <td>26+2</td>\n      <td>26+2</td>\n      <td>33+2</td>\n      <td>14+2</td>\n    </tr>\n    <tr>\n      <th>18943</th>\n      <td>258760.0</td>\n      <td>B. Hough</td>\n      <td>Ben Hough</td>\n      <td>CM</td>\n      <td>47.0</td>\n      <td>67.0</td>\n      <td>130000.0</td>\n      <td>500.0</td>\n      <td>17.0</td>\n      <td>175.0</td>\n      <td>...</td>\n      <td>43+2</td>\n      <td>43+2</td>\n      <td>43+2</td>\n      <td>44+2</td>\n      <td>43+2</td>\n      <td>41+2</td>\n      <td>41+2</td>\n      <td>41+2</td>\n      <td>43+2</td>\n      <td>14+2</td>\n    </tr>\n  </tbody>\n</table>\n<p>18944 rows × 96 columns</p>\n</div>"
     },
     "execution_count": 325,
     "metadata": {},
     "output_type": "execute_result"
    }
   ],
   "source": [
    "players_21"
   ],
   "metadata": {
    "collapsed": false,
    "ExecuteTime": {
     "end_time": "2024-06-11T16:03:47.354889900Z",
     "start_time": "2024-06-11T16:03:47.281905100Z"
    }
   }
  },
  {
   "cell_type": "code",
   "execution_count": 326,
   "outputs": [],
   "source": [
    "for column in players_21.columns:\n",
    "    if players_21[column].dtype == 'object':\n",
    "        encoder = ce.BinaryEncoder(cols=[column])\n",
    "        col_encoded = encoder.fit_transform(players_21[column])\n",
    "        players_21.drop(column, axis=1, inplace=True)\n",
    "        players_21 = pd.concat([players_21, col_encoded], axis=1).reset_index(drop=True)"
   ],
   "metadata": {
    "collapsed": false,
    "ExecuteTime": {
     "end_time": "2024-06-11T16:03:50.028002400Z",
     "start_time": "2024-06-11T16:03:47.324891500Z"
    }
   }
  },
  {
   "cell_type": "code",
   "execution_count": 327,
   "outputs": [
    {
     "data": {
      "text/plain": "       sofifa_id  overall  potential    value_eur  wage_eur   age  height_cm  \\\n0       158023.0     93.0       93.0  103500000.0  560000.0  33.0      170.0   \n1        20801.0     92.0       92.0   63000000.0  220000.0  35.0      187.0   \n2       188545.0     91.0       91.0  111000000.0  240000.0  31.0      184.0   \n3       190871.0     91.0       91.0  132000000.0  270000.0  28.0      175.0   \n4       192985.0     91.0       91.0  129000000.0  370000.0  29.0      181.0   \n...          ...      ...        ...          ...       ...   ...        ...   \n18939   257710.0     47.0       52.0      70000.0    1000.0  21.0      177.0   \n18940   257933.0     47.0       53.0      70000.0    1000.0  21.0      174.0   \n18941   257936.0     47.0       47.0      45000.0    2000.0  28.0      185.0   \n18942   258736.0     47.0       67.0     130000.0     500.0  17.0      171.0   \n18943   258760.0     47.0       67.0     130000.0     500.0  17.0      175.0   \n\n       weight_kg  club_team_id  league_level  ...  rb_5  rb_6  rb_7  gk_0  \\\n0           72.0         241.0           1.0  ...     0     0     1     0   \n1           83.0          45.0           1.0  ...     0     1     0     0   \n2           80.0          21.0           1.0  ...     0     1     0     0   \n3           68.0          73.0           1.0  ...     0     0     1     0   \n4           70.0          10.0           1.0  ...     0     1     1     0   \n...          ...           ...           ...  ...   ...   ...   ...   ...   \n18939       70.0      112165.0           1.0  ...     0     0     0     0   \n18940       68.0      112540.0           1.0  ...     1     1     1     0   \n18941       79.0      111774.0           1.0  ...     1     1     0     0   \n18942       58.0        1920.0           4.0  ...     1     1     1     0   \n18943       65.0        1920.0           4.0  ...     1     0     0     0   \n\n       gk_1  gk_2  gk_3  gk_4  gk_5  gk_6  \n0         0     0     0     0     0     1  \n1         0     0     0     0     1     0  \n2         0     0     0     0     0     1  \n3         0     0     0     0     1     0  \n4         0     0     0     0     1     1  \n...     ...   ...   ...   ...   ...   ...  \n18939     1     0     1     0     0     1  \n18940     1     0     1     0     0     1  \n18941     1     1     1     0     0     0  \n18942     1     0     0     0     0     1  \n18943     1     0     0     0     0     1  \n\n[18944 rows x 373 columns]",
      "text/html": "<div>\n<style scoped>\n    .dataframe tbody tr th:only-of-type {\n        vertical-align: middle;\n    }\n\n    .dataframe tbody tr th {\n        vertical-align: top;\n    }\n\n    .dataframe thead th {\n        text-align: right;\n    }\n</style>\n<table border=\"1\" class=\"dataframe\">\n  <thead>\n    <tr style=\"text-align: right;\">\n      <th></th>\n      <th>sofifa_id</th>\n      <th>overall</th>\n      <th>potential</th>\n      <th>value_eur</th>\n      <th>wage_eur</th>\n      <th>age</th>\n      <th>height_cm</th>\n      <th>weight_kg</th>\n      <th>club_team_id</th>\n      <th>league_level</th>\n      <th>...</th>\n      <th>rb_5</th>\n      <th>rb_6</th>\n      <th>rb_7</th>\n      <th>gk_0</th>\n      <th>gk_1</th>\n      <th>gk_2</th>\n      <th>gk_3</th>\n      <th>gk_4</th>\n      <th>gk_5</th>\n      <th>gk_6</th>\n    </tr>\n  </thead>\n  <tbody>\n    <tr>\n      <th>0</th>\n      <td>158023.0</td>\n      <td>93.0</td>\n      <td>93.0</td>\n      <td>103500000.0</td>\n      <td>560000.0</td>\n      <td>33.0</td>\n      <td>170.0</td>\n      <td>72.0</td>\n      <td>241.0</td>\n      <td>1.0</td>\n      <td>...</td>\n      <td>0</td>\n      <td>0</td>\n      <td>1</td>\n      <td>0</td>\n      <td>0</td>\n      <td>0</td>\n      <td>0</td>\n      <td>0</td>\n      <td>0</td>\n      <td>1</td>\n    </tr>\n    <tr>\n      <th>1</th>\n      <td>20801.0</td>\n      <td>92.0</td>\n      <td>92.0</td>\n      <td>63000000.0</td>\n      <td>220000.0</td>\n      <td>35.0</td>\n      <td>187.0</td>\n      <td>83.0</td>\n      <td>45.0</td>\n      <td>1.0</td>\n      <td>...</td>\n      <td>0</td>\n      <td>1</td>\n      <td>0</td>\n      <td>0</td>\n      <td>0</td>\n      <td>0</td>\n      <td>0</td>\n      <td>0</td>\n      <td>1</td>\n      <td>0</td>\n    </tr>\n    <tr>\n      <th>2</th>\n      <td>188545.0</td>\n      <td>91.0</td>\n      <td>91.0</td>\n      <td>111000000.0</td>\n      <td>240000.0</td>\n      <td>31.0</td>\n      <td>184.0</td>\n      <td>80.0</td>\n      <td>21.0</td>\n      <td>1.0</td>\n      <td>...</td>\n      <td>0</td>\n      <td>1</td>\n      <td>0</td>\n      <td>0</td>\n      <td>0</td>\n      <td>0</td>\n      <td>0</td>\n      <td>0</td>\n      <td>0</td>\n      <td>1</td>\n    </tr>\n    <tr>\n      <th>3</th>\n      <td>190871.0</td>\n      <td>91.0</td>\n      <td>91.0</td>\n      <td>132000000.0</td>\n      <td>270000.0</td>\n      <td>28.0</td>\n      <td>175.0</td>\n      <td>68.0</td>\n      <td>73.0</td>\n      <td>1.0</td>\n      <td>...</td>\n      <td>0</td>\n      <td>0</td>\n      <td>1</td>\n      <td>0</td>\n      <td>0</td>\n      <td>0</td>\n      <td>0</td>\n      <td>0</td>\n      <td>1</td>\n      <td>0</td>\n    </tr>\n    <tr>\n      <th>4</th>\n      <td>192985.0</td>\n      <td>91.0</td>\n      <td>91.0</td>\n      <td>129000000.0</td>\n      <td>370000.0</td>\n      <td>29.0</td>\n      <td>181.0</td>\n      <td>70.0</td>\n      <td>10.0</td>\n      <td>1.0</td>\n      <td>...</td>\n      <td>0</td>\n      <td>1</td>\n      <td>1</td>\n      <td>0</td>\n      <td>0</td>\n      <td>0</td>\n      <td>0</td>\n      <td>0</td>\n      <td>1</td>\n      <td>1</td>\n    </tr>\n    <tr>\n      <th>...</th>\n      <td>...</td>\n      <td>...</td>\n      <td>...</td>\n      <td>...</td>\n      <td>...</td>\n      <td>...</td>\n      <td>...</td>\n      <td>...</td>\n      <td>...</td>\n      <td>...</td>\n      <td>...</td>\n      <td>...</td>\n      <td>...</td>\n      <td>...</td>\n      <td>...</td>\n      <td>...</td>\n      <td>...</td>\n      <td>...</td>\n      <td>...</td>\n      <td>...</td>\n      <td>...</td>\n    </tr>\n    <tr>\n      <th>18939</th>\n      <td>257710.0</td>\n      <td>47.0</td>\n      <td>52.0</td>\n      <td>70000.0</td>\n      <td>1000.0</td>\n      <td>21.0</td>\n      <td>177.0</td>\n      <td>70.0</td>\n      <td>112165.0</td>\n      <td>1.0</td>\n      <td>...</td>\n      <td>0</td>\n      <td>0</td>\n      <td>0</td>\n      <td>0</td>\n      <td>1</td>\n      <td>0</td>\n      <td>1</td>\n      <td>0</td>\n      <td>0</td>\n      <td>1</td>\n    </tr>\n    <tr>\n      <th>18940</th>\n      <td>257933.0</td>\n      <td>47.0</td>\n      <td>53.0</td>\n      <td>70000.0</td>\n      <td>1000.0</td>\n      <td>21.0</td>\n      <td>174.0</td>\n      <td>68.0</td>\n      <td>112540.0</td>\n      <td>1.0</td>\n      <td>...</td>\n      <td>1</td>\n      <td>1</td>\n      <td>1</td>\n      <td>0</td>\n      <td>1</td>\n      <td>0</td>\n      <td>1</td>\n      <td>0</td>\n      <td>0</td>\n      <td>1</td>\n    </tr>\n    <tr>\n      <th>18941</th>\n      <td>257936.0</td>\n      <td>47.0</td>\n      <td>47.0</td>\n      <td>45000.0</td>\n      <td>2000.0</td>\n      <td>28.0</td>\n      <td>185.0</td>\n      <td>79.0</td>\n      <td>111774.0</td>\n      <td>1.0</td>\n      <td>...</td>\n      <td>1</td>\n      <td>1</td>\n      <td>0</td>\n      <td>0</td>\n      <td>1</td>\n      <td>1</td>\n      <td>1</td>\n      <td>0</td>\n      <td>0</td>\n      <td>0</td>\n    </tr>\n    <tr>\n      <th>18942</th>\n      <td>258736.0</td>\n      <td>47.0</td>\n      <td>67.0</td>\n      <td>130000.0</td>\n      <td>500.0</td>\n      <td>17.0</td>\n      <td>171.0</td>\n      <td>58.0</td>\n      <td>1920.0</td>\n      <td>4.0</td>\n      <td>...</td>\n      <td>1</td>\n      <td>1</td>\n      <td>1</td>\n      <td>0</td>\n      <td>1</td>\n      <td>0</td>\n      <td>0</td>\n      <td>0</td>\n      <td>0</td>\n      <td>1</td>\n    </tr>\n    <tr>\n      <th>18943</th>\n      <td>258760.0</td>\n      <td>47.0</td>\n      <td>67.0</td>\n      <td>130000.0</td>\n      <td>500.0</td>\n      <td>17.0</td>\n      <td>175.0</td>\n      <td>65.0</td>\n      <td>1920.0</td>\n      <td>4.0</td>\n      <td>...</td>\n      <td>1</td>\n      <td>0</td>\n      <td>0</td>\n      <td>0</td>\n      <td>1</td>\n      <td>0</td>\n      <td>0</td>\n      <td>0</td>\n      <td>0</td>\n      <td>1</td>\n    </tr>\n  </tbody>\n</table>\n<p>18944 rows × 373 columns</p>\n</div>"
     },
     "execution_count": 327,
     "metadata": {},
     "output_type": "execute_result"
    }
   ],
   "source": [
    "players_21"
   ],
   "metadata": {
    "collapsed": false,
    "ExecuteTime": {
     "end_time": "2024-06-11T16:03:50.056136700Z",
     "start_time": "2024-06-11T16:03:50.027000900Z"
    }
   }
  },
  {
   "cell_type": "code",
   "execution_count": 328,
   "outputs": [
    {
     "data": {
      "text/plain": "       sofifa_id                                         player_url  \\\n0         158023  https://sofifa.com/player/158023/lionel-messi/...   \n1         188545  https://sofifa.com/player/188545/robert-lewand...   \n2          20801  https://sofifa.com/player/20801/c-ronaldo-dos-...   \n3         190871  https://sofifa.com/player/190871/neymar-da-sil...   \n4         192985  https://sofifa.com/player/192985/kevin-de-bruy...   \n...          ...                                                ...   \n19234     261962  https://sofifa.com/player/261962/defu-song/220002   \n19235     262040  https://sofifa.com/player/262040/caoimhin-port...   \n19236     262760  https://sofifa.com/player/262760/nathan-logue/...   \n19237     262820  https://sofifa.com/player/262820/luke-rudden/2...   \n19238     264540  https://sofifa.com/player/264540/emanuel-lalch...   \n\n               short_name                            long_name  \\\n0                L. Messi       Lionel Andrés Messi Cuccittini   \n1          R. Lewandowski                   Robert Lewandowski   \n2       Cristiano Ronaldo  Cristiano Ronaldo dos Santos Aveiro   \n3               Neymar Jr        Neymar da Silva Santos Júnior   \n4            K. De Bruyne                      Kevin De Bruyne   \n...                   ...                                  ...   \n19234           Song Defu                                  宋德福   \n19235           C. Porter                      Caoimhin Porter   \n19236            N. Logue              Nathan Logue-Cunningham   \n19237           L. Rudden                          Luke Rudden   \n19238  E. Lalchhanchhuaha              Emanuel Lalchhanchhuaha   \n\n      player_positions  overall  potential    value_eur  wage_eur  age  ...  \\\n0           RW, ST, CF       93         93   78000000.0  320000.0   34  ...   \n1                   ST       92         92  119500000.0  270000.0   32  ...   \n2               ST, LW       91         91   45000000.0  270000.0   36  ...   \n3              LW, CAM       91         91  129000000.0  270000.0   29  ...   \n4              CM, CAM       91         91  125500000.0  350000.0   30  ...   \n...                ...      ...        ...          ...       ...  ...  ...   \n19234              CDM       47         52      70000.0    1000.0   22  ...   \n19235               CM       47         59     110000.0     500.0   19  ...   \n19236               CM       47         55     100000.0     500.0   21  ...   \n19237               ST       47         60     110000.0     500.0   19  ...   \n19238              CAM       47         60     110000.0     500.0   19  ...   \n\n        lcb    cb   rcb    rb    gk  \\\n0      50+3  50+3  50+3  61+3  19+3   \n1      60+3  60+3  60+3  61+3  19+3   \n2      53+3  53+3  53+3  60+3  20+3   \n3      50+3  50+3  50+3  62+3  20+3   \n4      69+3  69+3  69+3  75+3  21+3   \n...     ...   ...   ...   ...   ...   \n19234  46+2  46+2  46+2  48+2  15+2   \n19235  44+2  44+2  44+2  48+2  14+2   \n19236  45+2  45+2  45+2  47+2  12+2   \n19237  26+2  26+2  26+2  32+2  15+2   \n19238  41+2  41+2  41+2  45+2  16+2   \n\n                                         player_face_url  \\\n0      https://cdn.sofifa.net/players/158/023/22_120.png   \n1      https://cdn.sofifa.net/players/188/545/22_120.png   \n2      https://cdn.sofifa.net/players/020/801/22_120.png   \n3      https://cdn.sofifa.net/players/190/871/22_120.png   \n4      https://cdn.sofifa.net/players/192/985/22_120.png   \n...                                                  ...   \n19234  https://cdn.sofifa.net/players/261/962/22_120.png   \n19235  https://cdn.sofifa.net/players/262/040/22_120.png   \n19236  https://cdn.sofifa.net/players/262/760/22_120.png   \n19237  https://cdn.sofifa.net/players/262/820/22_120.png   \n19238  https://cdn.sofifa.net/players/264/540/22_120.png   \n\n                                    club_logo_url  \\\n0          https://cdn.sofifa.net/teams/73/60.png   \n1          https://cdn.sofifa.net/teams/21/60.png   \n2          https://cdn.sofifa.net/teams/11/60.png   \n3          https://cdn.sofifa.net/teams/73/60.png   \n4          https://cdn.sofifa.net/teams/10/60.png   \n...                                           ...   \n19234  https://cdn.sofifa.net/teams/112541/60.png   \n19235     https://cdn.sofifa.net/teams/445/60.png   \n19236  https://cdn.sofifa.net/teams/111131/60.png   \n19237  https://cdn.sofifa.net/teams/111131/60.png   \n19238  https://cdn.sofifa.net/teams/113040/60.png   \n\n                                 club_flag_url  \\\n0          https://cdn.sofifa.net/flags/fr.png   \n1          https://cdn.sofifa.net/flags/de.png   \n2      https://cdn.sofifa.net/flags/gb-eng.png   \n3          https://cdn.sofifa.net/flags/fr.png   \n4      https://cdn.sofifa.net/flags/gb-eng.png   \n...                                        ...   \n19234      https://cdn.sofifa.net/flags/cn.png   \n19235      https://cdn.sofifa.net/flags/ie.png   \n19236      https://cdn.sofifa.net/flags/ie.png   \n19237      https://cdn.sofifa.net/flags/ie.png   \n19238      https://cdn.sofifa.net/flags/in.png   \n\n                                nation_logo_url  \\\n0      https://cdn.sofifa.net/teams/1369/60.png   \n1      https://cdn.sofifa.net/teams/1353/60.png   \n2      https://cdn.sofifa.net/teams/1354/60.png   \n3                                           NaN   \n4      https://cdn.sofifa.net/teams/1325/60.png   \n...                                         ...   \n19234                                       NaN   \n19235                                       NaN   \n19236                                       NaN   \n19237                                       NaN   \n19238                                       NaN   \n\n                           nation_flag_url  \n0      https://cdn.sofifa.net/flags/ar.png  \n1      https://cdn.sofifa.net/flags/pl.png  \n2      https://cdn.sofifa.net/flags/pt.png  \n3      https://cdn.sofifa.net/flags/br.png  \n4      https://cdn.sofifa.net/flags/be.png  \n...                                    ...  \n19234  https://cdn.sofifa.net/flags/cn.png  \n19235  https://cdn.sofifa.net/flags/ie.png  \n19236  https://cdn.sofifa.net/flags/ie.png  \n19237  https://cdn.sofifa.net/flags/ie.png  \n19238  https://cdn.sofifa.net/flags/in.png  \n\n[19239 rows x 110 columns]",
      "text/html": "<div>\n<style scoped>\n    .dataframe tbody tr th:only-of-type {\n        vertical-align: middle;\n    }\n\n    .dataframe tbody tr th {\n        vertical-align: top;\n    }\n\n    .dataframe thead th {\n        text-align: right;\n    }\n</style>\n<table border=\"1\" class=\"dataframe\">\n  <thead>\n    <tr style=\"text-align: right;\">\n      <th></th>\n      <th>sofifa_id</th>\n      <th>player_url</th>\n      <th>short_name</th>\n      <th>long_name</th>\n      <th>player_positions</th>\n      <th>overall</th>\n      <th>potential</th>\n      <th>value_eur</th>\n      <th>wage_eur</th>\n      <th>age</th>\n      <th>...</th>\n      <th>lcb</th>\n      <th>cb</th>\n      <th>rcb</th>\n      <th>rb</th>\n      <th>gk</th>\n      <th>player_face_url</th>\n      <th>club_logo_url</th>\n      <th>club_flag_url</th>\n      <th>nation_logo_url</th>\n      <th>nation_flag_url</th>\n    </tr>\n  </thead>\n  <tbody>\n    <tr>\n      <th>0</th>\n      <td>158023</td>\n      <td>https://sofifa.com/player/158023/lionel-messi/...</td>\n      <td>L. Messi</td>\n      <td>Lionel Andrés Messi Cuccittini</td>\n      <td>RW, ST, CF</td>\n      <td>93</td>\n      <td>93</td>\n      <td>78000000.0</td>\n      <td>320000.0</td>\n      <td>34</td>\n      <td>...</td>\n      <td>50+3</td>\n      <td>50+3</td>\n      <td>50+3</td>\n      <td>61+3</td>\n      <td>19+3</td>\n      <td>https://cdn.sofifa.net/players/158/023/22_120.png</td>\n      <td>https://cdn.sofifa.net/teams/73/60.png</td>\n      <td>https://cdn.sofifa.net/flags/fr.png</td>\n      <td>https://cdn.sofifa.net/teams/1369/60.png</td>\n      <td>https://cdn.sofifa.net/flags/ar.png</td>\n    </tr>\n    <tr>\n      <th>1</th>\n      <td>188545</td>\n      <td>https://sofifa.com/player/188545/robert-lewand...</td>\n      <td>R. Lewandowski</td>\n      <td>Robert Lewandowski</td>\n      <td>ST</td>\n      <td>92</td>\n      <td>92</td>\n      <td>119500000.0</td>\n      <td>270000.0</td>\n      <td>32</td>\n      <td>...</td>\n      <td>60+3</td>\n      <td>60+3</td>\n      <td>60+3</td>\n      <td>61+3</td>\n      <td>19+3</td>\n      <td>https://cdn.sofifa.net/players/188/545/22_120.png</td>\n      <td>https://cdn.sofifa.net/teams/21/60.png</td>\n      <td>https://cdn.sofifa.net/flags/de.png</td>\n      <td>https://cdn.sofifa.net/teams/1353/60.png</td>\n      <td>https://cdn.sofifa.net/flags/pl.png</td>\n    </tr>\n    <tr>\n      <th>2</th>\n      <td>20801</td>\n      <td>https://sofifa.com/player/20801/c-ronaldo-dos-...</td>\n      <td>Cristiano Ronaldo</td>\n      <td>Cristiano Ronaldo dos Santos Aveiro</td>\n      <td>ST, LW</td>\n      <td>91</td>\n      <td>91</td>\n      <td>45000000.0</td>\n      <td>270000.0</td>\n      <td>36</td>\n      <td>...</td>\n      <td>53+3</td>\n      <td>53+3</td>\n      <td>53+3</td>\n      <td>60+3</td>\n      <td>20+3</td>\n      <td>https://cdn.sofifa.net/players/020/801/22_120.png</td>\n      <td>https://cdn.sofifa.net/teams/11/60.png</td>\n      <td>https://cdn.sofifa.net/flags/gb-eng.png</td>\n      <td>https://cdn.sofifa.net/teams/1354/60.png</td>\n      <td>https://cdn.sofifa.net/flags/pt.png</td>\n    </tr>\n    <tr>\n      <th>3</th>\n      <td>190871</td>\n      <td>https://sofifa.com/player/190871/neymar-da-sil...</td>\n      <td>Neymar Jr</td>\n      <td>Neymar da Silva Santos Júnior</td>\n      <td>LW, CAM</td>\n      <td>91</td>\n      <td>91</td>\n      <td>129000000.0</td>\n      <td>270000.0</td>\n      <td>29</td>\n      <td>...</td>\n      <td>50+3</td>\n      <td>50+3</td>\n      <td>50+3</td>\n      <td>62+3</td>\n      <td>20+3</td>\n      <td>https://cdn.sofifa.net/players/190/871/22_120.png</td>\n      <td>https://cdn.sofifa.net/teams/73/60.png</td>\n      <td>https://cdn.sofifa.net/flags/fr.png</td>\n      <td>NaN</td>\n      <td>https://cdn.sofifa.net/flags/br.png</td>\n    </tr>\n    <tr>\n      <th>4</th>\n      <td>192985</td>\n      <td>https://sofifa.com/player/192985/kevin-de-bruy...</td>\n      <td>K. De Bruyne</td>\n      <td>Kevin De Bruyne</td>\n      <td>CM, CAM</td>\n      <td>91</td>\n      <td>91</td>\n      <td>125500000.0</td>\n      <td>350000.0</td>\n      <td>30</td>\n      <td>...</td>\n      <td>69+3</td>\n      <td>69+3</td>\n      <td>69+3</td>\n      <td>75+3</td>\n      <td>21+3</td>\n      <td>https://cdn.sofifa.net/players/192/985/22_120.png</td>\n      <td>https://cdn.sofifa.net/teams/10/60.png</td>\n      <td>https://cdn.sofifa.net/flags/gb-eng.png</td>\n      <td>https://cdn.sofifa.net/teams/1325/60.png</td>\n      <td>https://cdn.sofifa.net/flags/be.png</td>\n    </tr>\n    <tr>\n      <th>...</th>\n      <td>...</td>\n      <td>...</td>\n      <td>...</td>\n      <td>...</td>\n      <td>...</td>\n      <td>...</td>\n      <td>...</td>\n      <td>...</td>\n      <td>...</td>\n      <td>...</td>\n      <td>...</td>\n      <td>...</td>\n      <td>...</td>\n      <td>...</td>\n      <td>...</td>\n      <td>...</td>\n      <td>...</td>\n      <td>...</td>\n      <td>...</td>\n      <td>...</td>\n      <td>...</td>\n    </tr>\n    <tr>\n      <th>19234</th>\n      <td>261962</td>\n      <td>https://sofifa.com/player/261962/defu-song/220002</td>\n      <td>Song Defu</td>\n      <td>宋德福</td>\n      <td>CDM</td>\n      <td>47</td>\n      <td>52</td>\n      <td>70000.0</td>\n      <td>1000.0</td>\n      <td>22</td>\n      <td>...</td>\n      <td>46+2</td>\n      <td>46+2</td>\n      <td>46+2</td>\n      <td>48+2</td>\n      <td>15+2</td>\n      <td>https://cdn.sofifa.net/players/261/962/22_120.png</td>\n      <td>https://cdn.sofifa.net/teams/112541/60.png</td>\n      <td>https://cdn.sofifa.net/flags/cn.png</td>\n      <td>NaN</td>\n      <td>https://cdn.sofifa.net/flags/cn.png</td>\n    </tr>\n    <tr>\n      <th>19235</th>\n      <td>262040</td>\n      <td>https://sofifa.com/player/262040/caoimhin-port...</td>\n      <td>C. Porter</td>\n      <td>Caoimhin Porter</td>\n      <td>CM</td>\n      <td>47</td>\n      <td>59</td>\n      <td>110000.0</td>\n      <td>500.0</td>\n      <td>19</td>\n      <td>...</td>\n      <td>44+2</td>\n      <td>44+2</td>\n      <td>44+2</td>\n      <td>48+2</td>\n      <td>14+2</td>\n      <td>https://cdn.sofifa.net/players/262/040/22_120.png</td>\n      <td>https://cdn.sofifa.net/teams/445/60.png</td>\n      <td>https://cdn.sofifa.net/flags/ie.png</td>\n      <td>NaN</td>\n      <td>https://cdn.sofifa.net/flags/ie.png</td>\n    </tr>\n    <tr>\n      <th>19236</th>\n      <td>262760</td>\n      <td>https://sofifa.com/player/262760/nathan-logue/...</td>\n      <td>N. Logue</td>\n      <td>Nathan Logue-Cunningham</td>\n      <td>CM</td>\n      <td>47</td>\n      <td>55</td>\n      <td>100000.0</td>\n      <td>500.0</td>\n      <td>21</td>\n      <td>...</td>\n      <td>45+2</td>\n      <td>45+2</td>\n      <td>45+2</td>\n      <td>47+2</td>\n      <td>12+2</td>\n      <td>https://cdn.sofifa.net/players/262/760/22_120.png</td>\n      <td>https://cdn.sofifa.net/teams/111131/60.png</td>\n      <td>https://cdn.sofifa.net/flags/ie.png</td>\n      <td>NaN</td>\n      <td>https://cdn.sofifa.net/flags/ie.png</td>\n    </tr>\n    <tr>\n      <th>19237</th>\n      <td>262820</td>\n      <td>https://sofifa.com/player/262820/luke-rudden/2...</td>\n      <td>L. Rudden</td>\n      <td>Luke Rudden</td>\n      <td>ST</td>\n      <td>47</td>\n      <td>60</td>\n      <td>110000.0</td>\n      <td>500.0</td>\n      <td>19</td>\n      <td>...</td>\n      <td>26+2</td>\n      <td>26+2</td>\n      <td>26+2</td>\n      <td>32+2</td>\n      <td>15+2</td>\n      <td>https://cdn.sofifa.net/players/262/820/22_120.png</td>\n      <td>https://cdn.sofifa.net/teams/111131/60.png</td>\n      <td>https://cdn.sofifa.net/flags/ie.png</td>\n      <td>NaN</td>\n      <td>https://cdn.sofifa.net/flags/ie.png</td>\n    </tr>\n    <tr>\n      <th>19238</th>\n      <td>264540</td>\n      <td>https://sofifa.com/player/264540/emanuel-lalch...</td>\n      <td>E. Lalchhanchhuaha</td>\n      <td>Emanuel Lalchhanchhuaha</td>\n      <td>CAM</td>\n      <td>47</td>\n      <td>60</td>\n      <td>110000.0</td>\n      <td>500.0</td>\n      <td>19</td>\n      <td>...</td>\n      <td>41+2</td>\n      <td>41+2</td>\n      <td>41+2</td>\n      <td>45+2</td>\n      <td>16+2</td>\n      <td>https://cdn.sofifa.net/players/264/540/22_120.png</td>\n      <td>https://cdn.sofifa.net/teams/113040/60.png</td>\n      <td>https://cdn.sofifa.net/flags/in.png</td>\n      <td>NaN</td>\n      <td>https://cdn.sofifa.net/flags/in.png</td>\n    </tr>\n  </tbody>\n</table>\n<p>19239 rows × 110 columns</p>\n</div>"
     },
     "execution_count": 328,
     "metadata": {},
     "output_type": "execute_result"
    }
   ],
   "source": [
    "players_22"
   ],
   "metadata": {
    "collapsed": false,
    "ExecuteTime": {
     "end_time": "2024-06-11T16:03:50.140227400Z",
     "start_time": "2024-06-11T16:03:50.055135500Z"
    }
   }
  },
  {
   "cell_type": "code",
   "execution_count": 329,
   "outputs": [
    {
     "data": {
      "text/plain": "           sofifa_id       overall     potential     value_eur       wage_eur  \\\ncount   19239.000000  19239.000000  19239.000000  1.916500e+04   19178.000000   \nmean   231468.086959     65.772182     71.079370  2.850452e+06    9017.989363   \nstd     27039.717497      6.880232      6.086213  7.613700e+06   19470.176724   \nmin        41.000000     47.000000     49.000000  9.000000e+03     500.000000   \n25%    214413.500000     61.000000     67.000000  4.750000e+05    1000.000000   \n50%    236543.000000     66.000000     71.000000  9.750000e+05    3000.000000   \n75%    253532.500000     70.000000     75.000000  2.000000e+06    8000.000000   \nmax    264640.000000     93.000000     95.000000  1.940000e+08  350000.000000   \n\n                age     height_cm     weight_kg   club_team_id  league_level  \\\ncount  19239.000000  19239.000000  19239.000000   19178.000000  19178.000000   \nmean      25.210822    181.299704     74.943032   50580.498123      1.354364   \nstd        4.748235      6.863179      7.069434   54401.868535      0.747865   \nmin       16.000000    155.000000     49.000000       1.000000      1.000000   \n25%       21.000000    176.000000     70.000000     479.000000      1.000000   \n50%       25.000000    181.000000     75.000000    1938.000000      1.000000   \n75%       29.000000    186.000000     80.000000  111139.000000      1.000000   \nmax       54.000000    206.000000    110.000000  115820.000000      5.000000   \n\n       ...  mentality_composure  defending_marking_awareness  \\\ncount  ...         19239.000000                 19239.000000   \nmean   ...            57.929830                    46.601746   \nstd    ...            12.159326                    20.200807   \nmin    ...            12.000000                     4.000000   \n25%    ...            50.000000                    29.000000   \n50%    ...            59.000000                    52.000000   \n75%    ...            66.000000                    63.000000   \nmax    ...            96.000000                    93.000000   \n\n       defending_standing_tackle  defending_sliding_tackle  \\\ncount               19239.000000              19239.000000   \nmean                   48.045584                 45.906700   \nstd                    21.232718                 20.755683   \nmin                     5.000000                  5.000000   \n25%                    28.000000                 25.000000   \n50%                    56.000000                 53.000000   \n75%                    65.000000                 63.000000   \nmax                    93.000000                 92.000000   \n\n       goalkeeping_diving  goalkeeping_handling  goalkeeping_kicking  \\\ncount        19239.000000          19239.000000         19239.000000   \nmean            16.406102             16.192474            16.055356   \nstd             17.574028             16.839528            16.564554   \nmin              2.000000              2.000000             2.000000   \n25%              8.000000              8.000000             8.000000   \n50%             11.000000             11.000000            11.000000   \n75%             14.000000             14.000000            14.000000   \nmax             91.000000             92.000000            93.000000   \n\n       goalkeeping_positioning  goalkeeping_reflexes  goalkeeping_speed  \ncount             19239.000000          19239.000000        2132.000000  \nmean                 16.229274             16.491814          36.439962  \nstd                  17.059779             17.884833          10.751563  \nmin                   2.000000              2.000000          15.000000  \n25%                   8.000000              8.000000          27.000000  \n50%                  11.000000             11.000000          36.000000  \n75%                  14.000000             14.000000          45.000000  \nmax                  92.000000             90.000000          65.000000  \n\n[8 rows x 60 columns]",
      "text/html": "<div>\n<style scoped>\n    .dataframe tbody tr th:only-of-type {\n        vertical-align: middle;\n    }\n\n    .dataframe tbody tr th {\n        vertical-align: top;\n    }\n\n    .dataframe thead th {\n        text-align: right;\n    }\n</style>\n<table border=\"1\" class=\"dataframe\">\n  <thead>\n    <tr style=\"text-align: right;\">\n      <th></th>\n      <th>sofifa_id</th>\n      <th>overall</th>\n      <th>potential</th>\n      <th>value_eur</th>\n      <th>wage_eur</th>\n      <th>age</th>\n      <th>height_cm</th>\n      <th>weight_kg</th>\n      <th>club_team_id</th>\n      <th>league_level</th>\n      <th>...</th>\n      <th>mentality_composure</th>\n      <th>defending_marking_awareness</th>\n      <th>defending_standing_tackle</th>\n      <th>defending_sliding_tackle</th>\n      <th>goalkeeping_diving</th>\n      <th>goalkeeping_handling</th>\n      <th>goalkeeping_kicking</th>\n      <th>goalkeeping_positioning</th>\n      <th>goalkeeping_reflexes</th>\n      <th>goalkeeping_speed</th>\n    </tr>\n  </thead>\n  <tbody>\n    <tr>\n      <th>count</th>\n      <td>19239.000000</td>\n      <td>19239.000000</td>\n      <td>19239.000000</td>\n      <td>1.916500e+04</td>\n      <td>19178.000000</td>\n      <td>19239.000000</td>\n      <td>19239.000000</td>\n      <td>19239.000000</td>\n      <td>19178.000000</td>\n      <td>19178.000000</td>\n      <td>...</td>\n      <td>19239.000000</td>\n      <td>19239.000000</td>\n      <td>19239.000000</td>\n      <td>19239.000000</td>\n      <td>19239.000000</td>\n      <td>19239.000000</td>\n      <td>19239.000000</td>\n      <td>19239.000000</td>\n      <td>19239.000000</td>\n      <td>2132.000000</td>\n    </tr>\n    <tr>\n      <th>mean</th>\n      <td>231468.086959</td>\n      <td>65.772182</td>\n      <td>71.079370</td>\n      <td>2.850452e+06</td>\n      <td>9017.989363</td>\n      <td>25.210822</td>\n      <td>181.299704</td>\n      <td>74.943032</td>\n      <td>50580.498123</td>\n      <td>1.354364</td>\n      <td>...</td>\n      <td>57.929830</td>\n      <td>46.601746</td>\n      <td>48.045584</td>\n      <td>45.906700</td>\n      <td>16.406102</td>\n      <td>16.192474</td>\n      <td>16.055356</td>\n      <td>16.229274</td>\n      <td>16.491814</td>\n      <td>36.439962</td>\n    </tr>\n    <tr>\n      <th>std</th>\n      <td>27039.717497</td>\n      <td>6.880232</td>\n      <td>6.086213</td>\n      <td>7.613700e+06</td>\n      <td>19470.176724</td>\n      <td>4.748235</td>\n      <td>6.863179</td>\n      <td>7.069434</td>\n      <td>54401.868535</td>\n      <td>0.747865</td>\n      <td>...</td>\n      <td>12.159326</td>\n      <td>20.200807</td>\n      <td>21.232718</td>\n      <td>20.755683</td>\n      <td>17.574028</td>\n      <td>16.839528</td>\n      <td>16.564554</td>\n      <td>17.059779</td>\n      <td>17.884833</td>\n      <td>10.751563</td>\n    </tr>\n    <tr>\n      <th>min</th>\n      <td>41.000000</td>\n      <td>47.000000</td>\n      <td>49.000000</td>\n      <td>9.000000e+03</td>\n      <td>500.000000</td>\n      <td>16.000000</td>\n      <td>155.000000</td>\n      <td>49.000000</td>\n      <td>1.000000</td>\n      <td>1.000000</td>\n      <td>...</td>\n      <td>12.000000</td>\n      <td>4.000000</td>\n      <td>5.000000</td>\n      <td>5.000000</td>\n      <td>2.000000</td>\n      <td>2.000000</td>\n      <td>2.000000</td>\n      <td>2.000000</td>\n      <td>2.000000</td>\n      <td>15.000000</td>\n    </tr>\n    <tr>\n      <th>25%</th>\n      <td>214413.500000</td>\n      <td>61.000000</td>\n      <td>67.000000</td>\n      <td>4.750000e+05</td>\n      <td>1000.000000</td>\n      <td>21.000000</td>\n      <td>176.000000</td>\n      <td>70.000000</td>\n      <td>479.000000</td>\n      <td>1.000000</td>\n      <td>...</td>\n      <td>50.000000</td>\n      <td>29.000000</td>\n      <td>28.000000</td>\n      <td>25.000000</td>\n      <td>8.000000</td>\n      <td>8.000000</td>\n      <td>8.000000</td>\n      <td>8.000000</td>\n      <td>8.000000</td>\n      <td>27.000000</td>\n    </tr>\n    <tr>\n      <th>50%</th>\n      <td>236543.000000</td>\n      <td>66.000000</td>\n      <td>71.000000</td>\n      <td>9.750000e+05</td>\n      <td>3000.000000</td>\n      <td>25.000000</td>\n      <td>181.000000</td>\n      <td>75.000000</td>\n      <td>1938.000000</td>\n      <td>1.000000</td>\n      <td>...</td>\n      <td>59.000000</td>\n      <td>52.000000</td>\n      <td>56.000000</td>\n      <td>53.000000</td>\n      <td>11.000000</td>\n      <td>11.000000</td>\n      <td>11.000000</td>\n      <td>11.000000</td>\n      <td>11.000000</td>\n      <td>36.000000</td>\n    </tr>\n    <tr>\n      <th>75%</th>\n      <td>253532.500000</td>\n      <td>70.000000</td>\n      <td>75.000000</td>\n      <td>2.000000e+06</td>\n      <td>8000.000000</td>\n      <td>29.000000</td>\n      <td>186.000000</td>\n      <td>80.000000</td>\n      <td>111139.000000</td>\n      <td>1.000000</td>\n      <td>...</td>\n      <td>66.000000</td>\n      <td>63.000000</td>\n      <td>65.000000</td>\n      <td>63.000000</td>\n      <td>14.000000</td>\n      <td>14.000000</td>\n      <td>14.000000</td>\n      <td>14.000000</td>\n      <td>14.000000</td>\n      <td>45.000000</td>\n    </tr>\n    <tr>\n      <th>max</th>\n      <td>264640.000000</td>\n      <td>93.000000</td>\n      <td>95.000000</td>\n      <td>1.940000e+08</td>\n      <td>350000.000000</td>\n      <td>54.000000</td>\n      <td>206.000000</td>\n      <td>110.000000</td>\n      <td>115820.000000</td>\n      <td>5.000000</td>\n      <td>...</td>\n      <td>96.000000</td>\n      <td>93.000000</td>\n      <td>93.000000</td>\n      <td>92.000000</td>\n      <td>91.000000</td>\n      <td>92.000000</td>\n      <td>93.000000</td>\n      <td>92.000000</td>\n      <td>90.000000</td>\n      <td>65.000000</td>\n    </tr>\n  </tbody>\n</table>\n<p>8 rows × 60 columns</p>\n</div>"
     },
     "execution_count": 329,
     "metadata": {},
     "output_type": "execute_result"
    }
   ],
   "source": [
    "players_22.describe()"
   ],
   "metadata": {
    "collapsed": false,
    "ExecuteTime": {
     "end_time": "2024-06-11T16:03:50.248018300Z",
     "start_time": "2024-06-11T16:03:50.092144400Z"
    }
   }
  },
  {
   "cell_type": "code",
   "execution_count": 330,
   "outputs": [
    {
     "name": "stdout",
     "output_type": "stream",
     "text": [
      "<class 'pandas.core.frame.DataFrame'>\n",
      "RangeIndex: 19239 entries, 0 to 19238\n",
      "Columns: 110 entries, sofifa_id to nation_flag_url\n",
      "dtypes: float64(16), int64(44), object(50)\n",
      "memory usage: 16.1+ MB\n"
     ]
    }
   ],
   "source": [
    "players_22.info()"
   ],
   "metadata": {
    "collapsed": false,
    "ExecuteTime": {
     "end_time": "2024-06-11T16:03:50.271354600Z",
     "start_time": "2024-06-11T16:03:50.202710800Z"
    }
   }
  },
  {
   "cell_type": "code",
   "execution_count": 331,
   "outputs": [
    {
     "name": "stdout",
     "output_type": "stream",
     "text": [
      "Index(['player_url', 'short_name', 'long_name', 'player_positions', 'dob',\n",
      "       'club_name', 'league_name', 'club_position', 'club_loaned_from',\n",
      "       'club_joined', 'nationality_name', 'nation_position', 'preferred_foot',\n",
      "       'work_rate', 'body_type', 'real_face', 'player_tags', 'player_traits',\n",
      "       'ls', 'st', 'rs', 'lw', 'lf', 'cf', 'rf', 'rw', 'lam', 'cam', 'ram',\n",
      "       'lm', 'lcm', 'cm', 'rcm', 'rm', 'lwb', 'ldm', 'cdm', 'rdm', 'rwb', 'lb',\n",
      "       'lcb', 'cb', 'rcb', 'rb', 'gk', 'player_face_url', 'club_logo_url',\n",
      "       'club_flag_url', 'nation_logo_url', 'nation_flag_url'],\n",
      "      dtype='object')\n"
     ]
    }
   ],
   "source": [
    "object_columns = players_22.select_dtypes(include='object').columns\n",
    "\n",
    "print(object_columns)"
   ],
   "metadata": {
    "collapsed": false,
    "ExecuteTime": {
     "end_time": "2024-06-11T16:03:50.288867200Z",
     "start_time": "2024-06-11T16:03:50.214567700Z"
    }
   }
  },
  {
   "cell_type": "code",
   "execution_count": 332,
   "outputs": [],
   "source": [
    "columns_to_drop = players_22.filter(regex='url|dob').columns\n",
    "\n",
    "players_22.drop(columns=columns_to_drop, axis=1, inplace=True)"
   ],
   "metadata": {
    "collapsed": false,
    "ExecuteTime": {
     "end_time": "2024-06-11T16:03:50.289868100Z",
     "start_time": "2024-06-11T16:03:50.228525800Z"
    }
   }
  },
  {
   "cell_type": "code",
   "execution_count": 333,
   "outputs": [
    {
     "name": "stdout",
     "output_type": "stream",
     "text": [
      "<class 'pandas.core.frame.DataFrame'>\n",
      "RangeIndex: 19239 entries, 0 to 19238\n",
      "Columns: 103 entries, sofifa_id to gk\n",
      "dtypes: float64(16), int64(44), object(43)\n",
      "memory usage: 15.1+ MB\n"
     ]
    }
   ],
   "source": [
    "players_22.info()"
   ],
   "metadata": {
    "collapsed": false,
    "ExecuteTime": {
     "end_time": "2024-06-11T16:03:50.289868100Z",
     "start_time": "2024-06-11T16:03:50.249027900Z"
    }
   }
  },
  {
   "cell_type": "code",
   "execution_count": 334,
   "outputs": [],
   "source": [
    "players_22.dropna(thresh= len(players_22) * 0.5, axis=1, inplace=True)"
   ],
   "metadata": {
    "collapsed": false,
    "ExecuteTime": {
     "end_time": "2024-06-11T16:03:50.383741800Z",
     "start_time": "2024-06-11T16:03:50.260352400Z"
    }
   }
  },
  {
   "cell_type": "code",
   "execution_count": 335,
   "outputs": [
    {
     "name": "stdout",
     "output_type": "stream",
     "text": [
      "<class 'pandas.core.frame.DataFrame'>\n",
      "RangeIndex: 19239 entries, 0 to 19238\n",
      "Data columns (total 96 columns):\n",
      " #   Column                       Non-Null Count  Dtype  \n",
      "---  ------                       --------------  -----  \n",
      " 0   sofifa_id                    19239 non-null  int64  \n",
      " 1   short_name                   19239 non-null  object \n",
      " 2   long_name                    19239 non-null  object \n",
      " 3   player_positions             19239 non-null  object \n",
      " 4   overall                      19239 non-null  int64  \n",
      " 5   potential                    19239 non-null  int64  \n",
      " 6   value_eur                    19165 non-null  float64\n",
      " 7   wage_eur                     19178 non-null  float64\n",
      " 8   age                          19239 non-null  int64  \n",
      " 9   height_cm                    19239 non-null  int64  \n",
      " 10  weight_kg                    19239 non-null  int64  \n",
      " 11  club_team_id                 19178 non-null  float64\n",
      " 12  club_name                    19178 non-null  object \n",
      " 13  league_name                  19178 non-null  object \n",
      " 14  league_level                 19178 non-null  float64\n",
      " 15  club_position                19178 non-null  object \n",
      " 16  club_jersey_number           19178 non-null  float64\n",
      " 17  club_joined                  18076 non-null  object \n",
      " 18  club_contract_valid_until    19178 non-null  float64\n",
      " 19  nationality_id               19239 non-null  int64  \n",
      " 20  nationality_name             19239 non-null  object \n",
      " 21  preferred_foot               19239 non-null  object \n",
      " 22  weak_foot                    19239 non-null  int64  \n",
      " 23  skill_moves                  19239 non-null  int64  \n",
      " 24  international_reputation     19239 non-null  int64  \n",
      " 25  work_rate                    19239 non-null  object \n",
      " 26  body_type                    19239 non-null  object \n",
      " 27  real_face                    19239 non-null  object \n",
      " 28  release_clause_eur           18063 non-null  float64\n",
      " 29  pace                         17107 non-null  float64\n",
      " 30  shooting                     17107 non-null  float64\n",
      " 31  passing                      17107 non-null  float64\n",
      " 32  dribbling                    17107 non-null  float64\n",
      " 33  defending                    17107 non-null  float64\n",
      " 34  physic                       17107 non-null  float64\n",
      " 35  attacking_crossing           19239 non-null  int64  \n",
      " 36  attacking_finishing          19239 non-null  int64  \n",
      " 37  attacking_heading_accuracy   19239 non-null  int64  \n",
      " 38  attacking_short_passing      19239 non-null  int64  \n",
      " 39  attacking_volleys            19239 non-null  int64  \n",
      " 40  skill_dribbling              19239 non-null  int64  \n",
      " 41  skill_curve                  19239 non-null  int64  \n",
      " 42  skill_fk_accuracy            19239 non-null  int64  \n",
      " 43  skill_long_passing           19239 non-null  int64  \n",
      " 44  skill_ball_control           19239 non-null  int64  \n",
      " 45  movement_acceleration        19239 non-null  int64  \n",
      " 46  movement_sprint_speed        19239 non-null  int64  \n",
      " 47  movement_agility             19239 non-null  int64  \n",
      " 48  movement_reactions           19239 non-null  int64  \n",
      " 49  movement_balance             19239 non-null  int64  \n",
      " 50  power_shot_power             19239 non-null  int64  \n",
      " 51  power_jumping                19239 non-null  int64  \n",
      " 52  power_stamina                19239 non-null  int64  \n",
      " 53  power_strength               19239 non-null  int64  \n",
      " 54  power_long_shots             19239 non-null  int64  \n",
      " 55  mentality_aggression         19239 non-null  int64  \n",
      " 56  mentality_interceptions      19239 non-null  int64  \n",
      " 57  mentality_positioning        19239 non-null  int64  \n",
      " 58  mentality_vision             19239 non-null  int64  \n",
      " 59  mentality_penalties          19239 non-null  int64  \n",
      " 60  mentality_composure          19239 non-null  int64  \n",
      " 61  defending_marking_awareness  19239 non-null  int64  \n",
      " 62  defending_standing_tackle    19239 non-null  int64  \n",
      " 63  defending_sliding_tackle     19239 non-null  int64  \n",
      " 64  goalkeeping_diving           19239 non-null  int64  \n",
      " 65  goalkeeping_handling         19239 non-null  int64  \n",
      " 66  goalkeeping_kicking          19239 non-null  int64  \n",
      " 67  goalkeeping_positioning      19239 non-null  int64  \n",
      " 68  goalkeeping_reflexes         19239 non-null  int64  \n",
      " 69  ls                           19239 non-null  object \n",
      " 70  st                           19239 non-null  object \n",
      " 71  rs                           19239 non-null  object \n",
      " 72  lw                           19239 non-null  object \n",
      " 73  lf                           19239 non-null  object \n",
      " 74  cf                           19239 non-null  object \n",
      " 75  rf                           19239 non-null  object \n",
      " 76  rw                           19239 non-null  object \n",
      " 77  lam                          19239 non-null  object \n",
      " 78  cam                          19239 non-null  object \n",
      " 79  ram                          19239 non-null  object \n",
      " 80  lm                           19239 non-null  object \n",
      " 81  lcm                          19239 non-null  object \n",
      " 82  cm                           19239 non-null  object \n",
      " 83  rcm                          19239 non-null  object \n",
      " 84  rm                           19239 non-null  object \n",
      " 85  lwb                          19239 non-null  object \n",
      " 86  ldm                          19239 non-null  object \n",
      " 87  cdm                          19239 non-null  object \n",
      " 88  rdm                          19239 non-null  object \n",
      " 89  rwb                          19239 non-null  object \n",
      " 90  lb                           19239 non-null  object \n",
      " 91  lcb                          19239 non-null  object \n",
      " 92  cb                           19239 non-null  object \n",
      " 93  rcb                          19239 non-null  object \n",
      " 94  rb                           19239 non-null  object \n",
      " 95  gk                           19239 non-null  object \n",
      "dtypes: float64(13), int64(44), object(39)\n",
      "memory usage: 14.1+ MB\n"
     ]
    }
   ],
   "source": [
    "players_22.info()"
   ],
   "metadata": {
    "collapsed": false,
    "ExecuteTime": {
     "end_time": "2024-06-11T16:03:50.401256800Z",
     "start_time": "2024-06-11T16:03:50.306655500Z"
    }
   }
  },
  {
   "cell_type": "code",
   "execution_count": 336,
   "outputs": [],
   "source": [
    "from sklearn.impute import SimpleImputer\n",
    "\n",
    "numeric_cols = players_22.select_dtypes(include=['number']).columns\n",
    "num_imputer = SimpleImputer(strategy='median')\n",
    "players_22[numeric_cols] = num_imputer.fit_transform(players_22[numeric_cols])\n",
    "\n",
    "obj_imputer = SimpleImputer(strategy='most_frequent')\n",
    "players_22[players_22.select_dtypes(include='object').columns] = obj_imputer.fit_transform(players_22[players_22.select_dtypes(include='object').columns])"
   ],
   "metadata": {
    "collapsed": false,
    "ExecuteTime": {
     "end_time": "2024-06-11T16:03:50.570708500Z",
     "start_time": "2024-06-11T16:03:50.335718200Z"
    }
   }
  },
  {
   "cell_type": "code",
   "execution_count": 337,
   "outputs": [
    {
     "name": "stdout",
     "output_type": "stream",
     "text": [
      "<class 'pandas.core.frame.DataFrame'>\n",
      "RangeIndex: 19239 entries, 0 to 19238\n",
      "Data columns (total 96 columns):\n",
      " #   Column                       Non-Null Count  Dtype  \n",
      "---  ------                       --------------  -----  \n",
      " 0   sofifa_id                    19239 non-null  float64\n",
      " 1   short_name                   19239 non-null  object \n",
      " 2   long_name                    19239 non-null  object \n",
      " 3   player_positions             19239 non-null  object \n",
      " 4   overall                      19239 non-null  float64\n",
      " 5   potential                    19239 non-null  float64\n",
      " 6   value_eur                    19239 non-null  float64\n",
      " 7   wage_eur                     19239 non-null  float64\n",
      " 8   age                          19239 non-null  float64\n",
      " 9   height_cm                    19239 non-null  float64\n",
      " 10  weight_kg                    19239 non-null  float64\n",
      " 11  club_team_id                 19239 non-null  float64\n",
      " 12  club_name                    19239 non-null  object \n",
      " 13  league_name                  19239 non-null  object \n",
      " 14  league_level                 19239 non-null  float64\n",
      " 15  club_position                19239 non-null  object \n",
      " 16  club_jersey_number           19239 non-null  float64\n",
      " 17  club_joined                  19239 non-null  object \n",
      " 18  club_contract_valid_until    19239 non-null  float64\n",
      " 19  nationality_id               19239 non-null  float64\n",
      " 20  nationality_name             19239 non-null  object \n",
      " 21  preferred_foot               19239 non-null  object \n",
      " 22  weak_foot                    19239 non-null  float64\n",
      " 23  skill_moves                  19239 non-null  float64\n",
      " 24  international_reputation     19239 non-null  float64\n",
      " 25  work_rate                    19239 non-null  object \n",
      " 26  body_type                    19239 non-null  object \n",
      " 27  real_face                    19239 non-null  object \n",
      " 28  release_clause_eur           19239 non-null  float64\n",
      " 29  pace                         19239 non-null  float64\n",
      " 30  shooting                     19239 non-null  float64\n",
      " 31  passing                      19239 non-null  float64\n",
      " 32  dribbling                    19239 non-null  float64\n",
      " 33  defending                    19239 non-null  float64\n",
      " 34  physic                       19239 non-null  float64\n",
      " 35  attacking_crossing           19239 non-null  float64\n",
      " 36  attacking_finishing          19239 non-null  float64\n",
      " 37  attacking_heading_accuracy   19239 non-null  float64\n",
      " 38  attacking_short_passing      19239 non-null  float64\n",
      " 39  attacking_volleys            19239 non-null  float64\n",
      " 40  skill_dribbling              19239 non-null  float64\n",
      " 41  skill_curve                  19239 non-null  float64\n",
      " 42  skill_fk_accuracy            19239 non-null  float64\n",
      " 43  skill_long_passing           19239 non-null  float64\n",
      " 44  skill_ball_control           19239 non-null  float64\n",
      " 45  movement_acceleration        19239 non-null  float64\n",
      " 46  movement_sprint_speed        19239 non-null  float64\n",
      " 47  movement_agility             19239 non-null  float64\n",
      " 48  movement_reactions           19239 non-null  float64\n",
      " 49  movement_balance             19239 non-null  float64\n",
      " 50  power_shot_power             19239 non-null  float64\n",
      " 51  power_jumping                19239 non-null  float64\n",
      " 52  power_stamina                19239 non-null  float64\n",
      " 53  power_strength               19239 non-null  float64\n",
      " 54  power_long_shots             19239 non-null  float64\n",
      " 55  mentality_aggression         19239 non-null  float64\n",
      " 56  mentality_interceptions      19239 non-null  float64\n",
      " 57  mentality_positioning        19239 non-null  float64\n",
      " 58  mentality_vision             19239 non-null  float64\n",
      " 59  mentality_penalties          19239 non-null  float64\n",
      " 60  mentality_composure          19239 non-null  float64\n",
      " 61  defending_marking_awareness  19239 non-null  float64\n",
      " 62  defending_standing_tackle    19239 non-null  float64\n",
      " 63  defending_sliding_tackle     19239 non-null  float64\n",
      " 64  goalkeeping_diving           19239 non-null  float64\n",
      " 65  goalkeeping_handling         19239 non-null  float64\n",
      " 66  goalkeeping_kicking          19239 non-null  float64\n",
      " 67  goalkeeping_positioning      19239 non-null  float64\n",
      " 68  goalkeeping_reflexes         19239 non-null  float64\n",
      " 69  ls                           19239 non-null  object \n",
      " 70  st                           19239 non-null  object \n",
      " 71  rs                           19239 non-null  object \n",
      " 72  lw                           19239 non-null  object \n",
      " 73  lf                           19239 non-null  object \n",
      " 74  cf                           19239 non-null  object \n",
      " 75  rf                           19239 non-null  object \n",
      " 76  rw                           19239 non-null  object \n",
      " 77  lam                          19239 non-null  object \n",
      " 78  cam                          19239 non-null  object \n",
      " 79  ram                          19239 non-null  object \n",
      " 80  lm                           19239 non-null  object \n",
      " 81  lcm                          19239 non-null  object \n",
      " 82  cm                           19239 non-null  object \n",
      " 83  rcm                          19239 non-null  object \n",
      " 84  rm                           19239 non-null  object \n",
      " 85  lwb                          19239 non-null  object \n",
      " 86  ldm                          19239 non-null  object \n",
      " 87  cdm                          19239 non-null  object \n",
      " 88  rdm                          19239 non-null  object \n",
      " 89  rwb                          19239 non-null  object \n",
      " 90  lb                           19239 non-null  object \n",
      " 91  lcb                          19239 non-null  object \n",
      " 92  cb                           19239 non-null  object \n",
      " 93  rcb                          19239 non-null  object \n",
      " 94  rb                           19239 non-null  object \n",
      " 95  gk                           19239 non-null  object \n",
      "dtypes: float64(57), object(39)\n",
      "memory usage: 14.1+ MB\n"
     ]
    }
   ],
   "source": [
    "players_22.info()"
   ],
   "metadata": {
    "collapsed": false,
    "ExecuteTime": {
     "end_time": "2024-06-11T16:03:50.602981200Z",
     "start_time": "2024-06-11T16:03:50.572714600Z"
    }
   }
  },
  {
   "cell_type": "code",
   "execution_count": 338,
   "outputs": [
    {
     "data": {
      "text/plain": "       sofifa_id  overall  potential    value_eur  wage_eur   age  height_cm  \\\n0       158023.0     93.0       93.0  103500000.0  560000.0  33.0      170.0   \n1        20801.0     92.0       92.0   63000000.0  220000.0  35.0      187.0   \n2       188545.0     91.0       91.0  111000000.0  240000.0  31.0      184.0   \n3       190871.0     91.0       91.0  132000000.0  270000.0  28.0      175.0   \n4       192985.0     91.0       91.0  129000000.0  370000.0  29.0      181.0   \n...          ...      ...        ...          ...       ...   ...        ...   \n18939   257710.0     47.0       52.0      70000.0    1000.0  21.0      177.0   \n18940   257933.0     47.0       53.0      70000.0    1000.0  21.0      174.0   \n18941   257936.0     47.0       47.0      45000.0    2000.0  28.0      185.0   \n18942   258736.0     47.0       67.0     130000.0     500.0  17.0      171.0   \n18943   258760.0     47.0       67.0     130000.0     500.0  17.0      175.0   \n\n       weight_kg  club_team_id  league_level  ...  rb_5  rb_6  rb_7  gk_0  \\\n0           72.0         241.0           1.0  ...     0     0     1     0   \n1           83.0          45.0           1.0  ...     0     1     0     0   \n2           80.0          21.0           1.0  ...     0     1     0     0   \n3           68.0          73.0           1.0  ...     0     0     1     0   \n4           70.0          10.0           1.0  ...     0     1     1     0   \n...          ...           ...           ...  ...   ...   ...   ...   ...   \n18939       70.0      112165.0           1.0  ...     0     0     0     0   \n18940       68.0      112540.0           1.0  ...     1     1     1     0   \n18941       79.0      111774.0           1.0  ...     1     1     0     0   \n18942       58.0        1920.0           4.0  ...     1     1     1     0   \n18943       65.0        1920.0           4.0  ...     1     0     0     0   \n\n       gk_1  gk_2  gk_3  gk_4  gk_5  gk_6  \n0         0     0     0     0     0     1  \n1         0     0     0     0     1     0  \n2         0     0     0     0     0     1  \n3         0     0     0     0     1     0  \n4         0     0     0     0     1     1  \n...     ...   ...   ...   ...   ...   ...  \n18939     1     0     1     0     0     1  \n18940     1     0     1     0     0     1  \n18941     1     1     1     0     0     0  \n18942     1     0     0     0     0     1  \n18943     1     0     0     0     0     1  \n\n[18944 rows x 373 columns]",
      "text/html": "<div>\n<style scoped>\n    .dataframe tbody tr th:only-of-type {\n        vertical-align: middle;\n    }\n\n    .dataframe tbody tr th {\n        vertical-align: top;\n    }\n\n    .dataframe thead th {\n        text-align: right;\n    }\n</style>\n<table border=\"1\" class=\"dataframe\">\n  <thead>\n    <tr style=\"text-align: right;\">\n      <th></th>\n      <th>sofifa_id</th>\n      <th>overall</th>\n      <th>potential</th>\n      <th>value_eur</th>\n      <th>wage_eur</th>\n      <th>age</th>\n      <th>height_cm</th>\n      <th>weight_kg</th>\n      <th>club_team_id</th>\n      <th>league_level</th>\n      <th>...</th>\n      <th>rb_5</th>\n      <th>rb_6</th>\n      <th>rb_7</th>\n      <th>gk_0</th>\n      <th>gk_1</th>\n      <th>gk_2</th>\n      <th>gk_3</th>\n      <th>gk_4</th>\n      <th>gk_5</th>\n      <th>gk_6</th>\n    </tr>\n  </thead>\n  <tbody>\n    <tr>\n      <th>0</th>\n      <td>158023.0</td>\n      <td>93.0</td>\n      <td>93.0</td>\n      <td>103500000.0</td>\n      <td>560000.0</td>\n      <td>33.0</td>\n      <td>170.0</td>\n      <td>72.0</td>\n      <td>241.0</td>\n      <td>1.0</td>\n      <td>...</td>\n      <td>0</td>\n      <td>0</td>\n      <td>1</td>\n      <td>0</td>\n      <td>0</td>\n      <td>0</td>\n      <td>0</td>\n      <td>0</td>\n      <td>0</td>\n      <td>1</td>\n    </tr>\n    <tr>\n      <th>1</th>\n      <td>20801.0</td>\n      <td>92.0</td>\n      <td>92.0</td>\n      <td>63000000.0</td>\n      <td>220000.0</td>\n      <td>35.0</td>\n      <td>187.0</td>\n      <td>83.0</td>\n      <td>45.0</td>\n      <td>1.0</td>\n      <td>...</td>\n      <td>0</td>\n      <td>1</td>\n      <td>0</td>\n      <td>0</td>\n      <td>0</td>\n      <td>0</td>\n      <td>0</td>\n      <td>0</td>\n      <td>1</td>\n      <td>0</td>\n    </tr>\n    <tr>\n      <th>2</th>\n      <td>188545.0</td>\n      <td>91.0</td>\n      <td>91.0</td>\n      <td>111000000.0</td>\n      <td>240000.0</td>\n      <td>31.0</td>\n      <td>184.0</td>\n      <td>80.0</td>\n      <td>21.0</td>\n      <td>1.0</td>\n      <td>...</td>\n      <td>0</td>\n      <td>1</td>\n      <td>0</td>\n      <td>0</td>\n      <td>0</td>\n      <td>0</td>\n      <td>0</td>\n      <td>0</td>\n      <td>0</td>\n      <td>1</td>\n    </tr>\n    <tr>\n      <th>3</th>\n      <td>190871.0</td>\n      <td>91.0</td>\n      <td>91.0</td>\n      <td>132000000.0</td>\n      <td>270000.0</td>\n      <td>28.0</td>\n      <td>175.0</td>\n      <td>68.0</td>\n      <td>73.0</td>\n      <td>1.0</td>\n      <td>...</td>\n      <td>0</td>\n      <td>0</td>\n      <td>1</td>\n      <td>0</td>\n      <td>0</td>\n      <td>0</td>\n      <td>0</td>\n      <td>0</td>\n      <td>1</td>\n      <td>0</td>\n    </tr>\n    <tr>\n      <th>4</th>\n      <td>192985.0</td>\n      <td>91.0</td>\n      <td>91.0</td>\n      <td>129000000.0</td>\n      <td>370000.0</td>\n      <td>29.0</td>\n      <td>181.0</td>\n      <td>70.0</td>\n      <td>10.0</td>\n      <td>1.0</td>\n      <td>...</td>\n      <td>0</td>\n      <td>1</td>\n      <td>1</td>\n      <td>0</td>\n      <td>0</td>\n      <td>0</td>\n      <td>0</td>\n      <td>0</td>\n      <td>1</td>\n      <td>1</td>\n    </tr>\n    <tr>\n      <th>...</th>\n      <td>...</td>\n      <td>...</td>\n      <td>...</td>\n      <td>...</td>\n      <td>...</td>\n      <td>...</td>\n      <td>...</td>\n      <td>...</td>\n      <td>...</td>\n      <td>...</td>\n      <td>...</td>\n      <td>...</td>\n      <td>...</td>\n      <td>...</td>\n      <td>...</td>\n      <td>...</td>\n      <td>...</td>\n      <td>...</td>\n      <td>...</td>\n      <td>...</td>\n      <td>...</td>\n    </tr>\n    <tr>\n      <th>18939</th>\n      <td>257710.0</td>\n      <td>47.0</td>\n      <td>52.0</td>\n      <td>70000.0</td>\n      <td>1000.0</td>\n      <td>21.0</td>\n      <td>177.0</td>\n      <td>70.0</td>\n      <td>112165.0</td>\n      <td>1.0</td>\n      <td>...</td>\n      <td>0</td>\n      <td>0</td>\n      <td>0</td>\n      <td>0</td>\n      <td>1</td>\n      <td>0</td>\n      <td>1</td>\n      <td>0</td>\n      <td>0</td>\n      <td>1</td>\n    </tr>\n    <tr>\n      <th>18940</th>\n      <td>257933.0</td>\n      <td>47.0</td>\n      <td>53.0</td>\n      <td>70000.0</td>\n      <td>1000.0</td>\n      <td>21.0</td>\n      <td>174.0</td>\n      <td>68.0</td>\n      <td>112540.0</td>\n      <td>1.0</td>\n      <td>...</td>\n      <td>1</td>\n      <td>1</td>\n      <td>1</td>\n      <td>0</td>\n      <td>1</td>\n      <td>0</td>\n      <td>1</td>\n      <td>0</td>\n      <td>0</td>\n      <td>1</td>\n    </tr>\n    <tr>\n      <th>18941</th>\n      <td>257936.0</td>\n      <td>47.0</td>\n      <td>47.0</td>\n      <td>45000.0</td>\n      <td>2000.0</td>\n      <td>28.0</td>\n      <td>185.0</td>\n      <td>79.0</td>\n      <td>111774.0</td>\n      <td>1.0</td>\n      <td>...</td>\n      <td>1</td>\n      <td>1</td>\n      <td>0</td>\n      <td>0</td>\n      <td>1</td>\n      <td>1</td>\n      <td>1</td>\n      <td>0</td>\n      <td>0</td>\n      <td>0</td>\n    </tr>\n    <tr>\n      <th>18942</th>\n      <td>258736.0</td>\n      <td>47.0</td>\n      <td>67.0</td>\n      <td>130000.0</td>\n      <td>500.0</td>\n      <td>17.0</td>\n      <td>171.0</td>\n      <td>58.0</td>\n      <td>1920.0</td>\n      <td>4.0</td>\n      <td>...</td>\n      <td>1</td>\n      <td>1</td>\n      <td>1</td>\n      <td>0</td>\n      <td>1</td>\n      <td>0</td>\n      <td>0</td>\n      <td>0</td>\n      <td>0</td>\n      <td>1</td>\n    </tr>\n    <tr>\n      <th>18943</th>\n      <td>258760.0</td>\n      <td>47.0</td>\n      <td>67.0</td>\n      <td>130000.0</td>\n      <td>500.0</td>\n      <td>17.0</td>\n      <td>175.0</td>\n      <td>65.0</td>\n      <td>1920.0</td>\n      <td>4.0</td>\n      <td>...</td>\n      <td>1</td>\n      <td>0</td>\n      <td>0</td>\n      <td>0</td>\n      <td>1</td>\n      <td>0</td>\n      <td>0</td>\n      <td>0</td>\n      <td>0</td>\n      <td>1</td>\n    </tr>\n  </tbody>\n</table>\n<p>18944 rows × 373 columns</p>\n</div>"
     },
     "execution_count": 338,
     "metadata": {},
     "output_type": "execute_result"
    }
   ],
   "source": [
    "players_21"
   ],
   "metadata": {
    "collapsed": false,
    "ExecuteTime": {
     "end_time": "2024-06-11T16:03:50.644345400Z",
     "start_time": "2024-06-11T16:03:50.602981200Z"
    }
   }
  },
  {
   "cell_type": "code",
   "execution_count": 339,
   "outputs": [],
   "source": [
    "for column in players_22.columns:\n",
    "    if players_22[column].dtype == 'object':\n",
    "        encoder = ce.BinaryEncoder(cols=[column])\n",
    "        col_encoded = encoder.fit_transform(players_22[column])\n",
    "        players_22.drop(column, axis=1, inplace=True)\n",
    "        players_22 = pd.concat([players_22, col_encoded], axis=1).reset_index(drop=True)"
   ],
   "metadata": {
    "collapsed": false,
    "ExecuteTime": {
     "end_time": "2024-06-11T16:03:53.571178900Z",
     "start_time": "2024-06-11T16:03:50.634339300Z"
    }
   }
  },
  {
   "cell_type": "code",
   "execution_count": 340,
   "outputs": [
    {
     "data": {
      "text/plain": "       sofifa_id  overall  potential    value_eur  wage_eur   age  height_cm  \\\n0       158023.0     93.0       93.0   78000000.0  320000.0  34.0      170.0   \n1       188545.0     92.0       92.0  119500000.0  270000.0  32.0      185.0   \n2        20801.0     91.0       91.0   45000000.0  270000.0  36.0      187.0   \n3       190871.0     91.0       91.0  129000000.0  270000.0  29.0      175.0   \n4       192985.0     91.0       91.0  125500000.0  350000.0  30.0      181.0   \n...          ...      ...        ...          ...       ...   ...        ...   \n19234   261962.0     47.0       52.0      70000.0    1000.0  22.0      180.0   \n19235   262040.0     47.0       59.0     110000.0     500.0  19.0      175.0   \n19236   262760.0     47.0       55.0     100000.0     500.0  21.0      178.0   \n19237   262820.0     47.0       60.0     110000.0     500.0  19.0      173.0   \n19238   264540.0     47.0       60.0     110000.0     500.0  19.0      167.0   \n\n       weight_kg  club_team_id  league_level  ...  rb_5  rb_6  rb_7  gk_0  \\\n0           72.0          73.0           1.0  ...     0     0     1     0   \n1           81.0          21.0           1.0  ...     0     0     1     0   \n2           83.0          11.0           1.0  ...     0     1     0     0   \n3           68.0          73.0           1.0  ...     0     1     1     0   \n4           70.0          10.0           1.0  ...     1     0     0     0   \n...          ...           ...           ...  ...   ...   ...   ...   ...   \n19234       64.0      112541.0           1.0  ...     0     0     0     0   \n19235       70.0         445.0           1.0  ...     0     0     0     0   \n19236       72.0      111131.0           1.0  ...     0     1     1     0   \n19237       66.0      111131.0           1.0  ...     0     0     0     0   \n19238       61.0      113040.0           1.0  ...     1     1     0     0   \n\n       gk_1  gk_2  gk_3  gk_4  gk_5  gk_6  \n0         0     0     0     0     0     1  \n1         0     0     0     0     0     1  \n2         0     0     0     0     1     0  \n3         0     0     0     0     1     0  \n4         0     0     0     0     1     1  \n...     ...   ...   ...   ...   ...   ...  \n19234     1     0     1     1     1     0  \n19235     0     1     1     0     1     1  \n19236     1     0     1     1     0     1  \n19237     1     0     1     1     1     0  \n19238     0     1     1     1     1     0  \n\n[19239 rows x 367 columns]",
      "text/html": "<div>\n<style scoped>\n    .dataframe tbody tr th:only-of-type {\n        vertical-align: middle;\n    }\n\n    .dataframe tbody tr th {\n        vertical-align: top;\n    }\n\n    .dataframe thead th {\n        text-align: right;\n    }\n</style>\n<table border=\"1\" class=\"dataframe\">\n  <thead>\n    <tr style=\"text-align: right;\">\n      <th></th>\n      <th>sofifa_id</th>\n      <th>overall</th>\n      <th>potential</th>\n      <th>value_eur</th>\n      <th>wage_eur</th>\n      <th>age</th>\n      <th>height_cm</th>\n      <th>weight_kg</th>\n      <th>club_team_id</th>\n      <th>league_level</th>\n      <th>...</th>\n      <th>rb_5</th>\n      <th>rb_6</th>\n      <th>rb_7</th>\n      <th>gk_0</th>\n      <th>gk_1</th>\n      <th>gk_2</th>\n      <th>gk_3</th>\n      <th>gk_4</th>\n      <th>gk_5</th>\n      <th>gk_6</th>\n    </tr>\n  </thead>\n  <tbody>\n    <tr>\n      <th>0</th>\n      <td>158023.0</td>\n      <td>93.0</td>\n      <td>93.0</td>\n      <td>78000000.0</td>\n      <td>320000.0</td>\n      <td>34.0</td>\n      <td>170.0</td>\n      <td>72.0</td>\n      <td>73.0</td>\n      <td>1.0</td>\n      <td>...</td>\n      <td>0</td>\n      <td>0</td>\n      <td>1</td>\n      <td>0</td>\n      <td>0</td>\n      <td>0</td>\n      <td>0</td>\n      <td>0</td>\n      <td>0</td>\n      <td>1</td>\n    </tr>\n    <tr>\n      <th>1</th>\n      <td>188545.0</td>\n      <td>92.0</td>\n      <td>92.0</td>\n      <td>119500000.0</td>\n      <td>270000.0</td>\n      <td>32.0</td>\n      <td>185.0</td>\n      <td>81.0</td>\n      <td>21.0</td>\n      <td>1.0</td>\n      <td>...</td>\n      <td>0</td>\n      <td>0</td>\n      <td>1</td>\n      <td>0</td>\n      <td>0</td>\n      <td>0</td>\n      <td>0</td>\n      <td>0</td>\n      <td>0</td>\n      <td>1</td>\n    </tr>\n    <tr>\n      <th>2</th>\n      <td>20801.0</td>\n      <td>91.0</td>\n      <td>91.0</td>\n      <td>45000000.0</td>\n      <td>270000.0</td>\n      <td>36.0</td>\n      <td>187.0</td>\n      <td>83.0</td>\n      <td>11.0</td>\n      <td>1.0</td>\n      <td>...</td>\n      <td>0</td>\n      <td>1</td>\n      <td>0</td>\n      <td>0</td>\n      <td>0</td>\n      <td>0</td>\n      <td>0</td>\n      <td>0</td>\n      <td>1</td>\n      <td>0</td>\n    </tr>\n    <tr>\n      <th>3</th>\n      <td>190871.0</td>\n      <td>91.0</td>\n      <td>91.0</td>\n      <td>129000000.0</td>\n      <td>270000.0</td>\n      <td>29.0</td>\n      <td>175.0</td>\n      <td>68.0</td>\n      <td>73.0</td>\n      <td>1.0</td>\n      <td>...</td>\n      <td>0</td>\n      <td>1</td>\n      <td>1</td>\n      <td>0</td>\n      <td>0</td>\n      <td>0</td>\n      <td>0</td>\n      <td>0</td>\n      <td>1</td>\n      <td>0</td>\n    </tr>\n    <tr>\n      <th>4</th>\n      <td>192985.0</td>\n      <td>91.0</td>\n      <td>91.0</td>\n      <td>125500000.0</td>\n      <td>350000.0</td>\n      <td>30.0</td>\n      <td>181.0</td>\n      <td>70.0</td>\n      <td>10.0</td>\n      <td>1.0</td>\n      <td>...</td>\n      <td>1</td>\n      <td>0</td>\n      <td>0</td>\n      <td>0</td>\n      <td>0</td>\n      <td>0</td>\n      <td>0</td>\n      <td>0</td>\n      <td>1</td>\n      <td>1</td>\n    </tr>\n    <tr>\n      <th>...</th>\n      <td>...</td>\n      <td>...</td>\n      <td>...</td>\n      <td>...</td>\n      <td>...</td>\n      <td>...</td>\n      <td>...</td>\n      <td>...</td>\n      <td>...</td>\n      <td>...</td>\n      <td>...</td>\n      <td>...</td>\n      <td>...</td>\n      <td>...</td>\n      <td>...</td>\n      <td>...</td>\n      <td>...</td>\n      <td>...</td>\n      <td>...</td>\n      <td>...</td>\n      <td>...</td>\n    </tr>\n    <tr>\n      <th>19234</th>\n      <td>261962.0</td>\n      <td>47.0</td>\n      <td>52.0</td>\n      <td>70000.0</td>\n      <td>1000.0</td>\n      <td>22.0</td>\n      <td>180.0</td>\n      <td>64.0</td>\n      <td>112541.0</td>\n      <td>1.0</td>\n      <td>...</td>\n      <td>0</td>\n      <td>0</td>\n      <td>0</td>\n      <td>0</td>\n      <td>1</td>\n      <td>0</td>\n      <td>1</td>\n      <td>1</td>\n      <td>1</td>\n      <td>0</td>\n    </tr>\n    <tr>\n      <th>19235</th>\n      <td>262040.0</td>\n      <td>47.0</td>\n      <td>59.0</td>\n      <td>110000.0</td>\n      <td>500.0</td>\n      <td>19.0</td>\n      <td>175.0</td>\n      <td>70.0</td>\n      <td>445.0</td>\n      <td>1.0</td>\n      <td>...</td>\n      <td>0</td>\n      <td>0</td>\n      <td>0</td>\n      <td>0</td>\n      <td>0</td>\n      <td>1</td>\n      <td>1</td>\n      <td>0</td>\n      <td>1</td>\n      <td>1</td>\n    </tr>\n    <tr>\n      <th>19236</th>\n      <td>262760.0</td>\n      <td>47.0</td>\n      <td>55.0</td>\n      <td>100000.0</td>\n      <td>500.0</td>\n      <td>21.0</td>\n      <td>178.0</td>\n      <td>72.0</td>\n      <td>111131.0</td>\n      <td>1.0</td>\n      <td>...</td>\n      <td>0</td>\n      <td>1</td>\n      <td>1</td>\n      <td>0</td>\n      <td>1</td>\n      <td>0</td>\n      <td>1</td>\n      <td>1</td>\n      <td>0</td>\n      <td>1</td>\n    </tr>\n    <tr>\n      <th>19237</th>\n      <td>262820.0</td>\n      <td>47.0</td>\n      <td>60.0</td>\n      <td>110000.0</td>\n      <td>500.0</td>\n      <td>19.0</td>\n      <td>173.0</td>\n      <td>66.0</td>\n      <td>111131.0</td>\n      <td>1.0</td>\n      <td>...</td>\n      <td>0</td>\n      <td>0</td>\n      <td>0</td>\n      <td>0</td>\n      <td>1</td>\n      <td>0</td>\n      <td>1</td>\n      <td>1</td>\n      <td>1</td>\n      <td>0</td>\n    </tr>\n    <tr>\n      <th>19238</th>\n      <td>264540.0</td>\n      <td>47.0</td>\n      <td>60.0</td>\n      <td>110000.0</td>\n      <td>500.0</td>\n      <td>19.0</td>\n      <td>167.0</td>\n      <td>61.0</td>\n      <td>113040.0</td>\n      <td>1.0</td>\n      <td>...</td>\n      <td>1</td>\n      <td>1</td>\n      <td>0</td>\n      <td>0</td>\n      <td>0</td>\n      <td>1</td>\n      <td>1</td>\n      <td>1</td>\n      <td>1</td>\n      <td>0</td>\n    </tr>\n  </tbody>\n</table>\n<p>19239 rows × 367 columns</p>\n</div>"
     },
     "execution_count": 340,
     "metadata": {},
     "output_type": "execute_result"
    }
   ],
   "source": [
    "players_22"
   ],
   "metadata": {
    "collapsed": false,
    "ExecuteTime": {
     "end_time": "2024-06-11T16:03:53.597140500Z",
     "start_time": "2024-06-11T16:03:53.573187500Z"
    }
   }
  },
  {
   "cell_type": "code",
   "execution_count": 341,
   "outputs": [
    {
     "name": "stdout",
     "output_type": "stream",
     "text": [
      "Columns to remove: ['lam_8', 'cam_8', 'ram_8', 'ldm_8', 'cdm_8', 'rdm_8']\n"
     ]
    }
   ],
   "source": [
    "columns_to_remove = [col for col in players_21.columns if col not in players_22.columns]\n",
    "if columns_to_remove:\n",
    "    print(\"Columns to remove:\", columns_to_remove)\n",
    "    players_21.drop(columns=columns_to_remove, inplace=True)"
   ],
   "metadata": {
    "collapsed": false,
    "ExecuteTime": {
     "end_time": "2024-06-11T16:03:53.662203300Z",
     "start_time": "2024-06-11T16:03:53.596138400Z"
    }
   }
  },
  {
   "cell_type": "code",
   "execution_count": 367,
   "outputs": [
    {
     "data": {
      "text/plain": "       sofifa_id  overall  potential    value_eur  wage_eur   age  height_cm  \\\n0       158023.0     93.0       93.0  103500000.0  560000.0  33.0      170.0   \n1        20801.0     92.0       92.0   63000000.0  220000.0  35.0      187.0   \n2       188545.0     91.0       91.0  111000000.0  240000.0  31.0      184.0   \n3       190871.0     91.0       91.0  132000000.0  270000.0  28.0      175.0   \n4       192985.0     91.0       91.0  129000000.0  370000.0  29.0      181.0   \n...          ...      ...        ...          ...       ...   ...        ...   \n18939   257710.0     47.0       52.0      70000.0    1000.0  21.0      177.0   \n18940   257933.0     47.0       53.0      70000.0    1000.0  21.0      174.0   \n18941   257936.0     47.0       47.0      45000.0    2000.0  28.0      185.0   \n18942   258736.0     47.0       67.0     130000.0     500.0  17.0      171.0   \n18943   258760.0     47.0       67.0     130000.0     500.0  17.0      175.0   \n\n       weight_kg  club_team_id  league_level  ...  rb_5  rb_6  rb_7  gk_0  \\\n0           72.0         241.0           1.0  ...     0     0     1     0   \n1           83.0          45.0           1.0  ...     0     1     0     0   \n2           80.0          21.0           1.0  ...     0     1     0     0   \n3           68.0          73.0           1.0  ...     0     0     1     0   \n4           70.0          10.0           1.0  ...     0     1     1     0   \n...          ...           ...           ...  ...   ...   ...   ...   ...   \n18939       70.0      112165.0           1.0  ...     0     0     0     0   \n18940       68.0      112540.0           1.0  ...     1     1     1     0   \n18941       79.0      111774.0           1.0  ...     1     1     0     0   \n18942       58.0        1920.0           4.0  ...     1     1     1     0   \n18943       65.0        1920.0           4.0  ...     1     0     0     0   \n\n       gk_1  gk_2  gk_3  gk_4  gk_5  gk_6  \n0         0     0     0     0     0     1  \n1         0     0     0     0     1     0  \n2         0     0     0     0     0     1  \n3         0     0     0     0     1     0  \n4         0     0     0     0     1     1  \n...     ...   ...   ...   ...   ...   ...  \n18939     1     0     1     0     0     1  \n18940     1     0     1     0     0     1  \n18941     1     1     1     0     0     0  \n18942     1     0     0     0     0     1  \n18943     1     0     0     0     0     1  \n\n[18944 rows x 367 columns]",
      "text/html": "<div>\n<style scoped>\n    .dataframe tbody tr th:only-of-type {\n        vertical-align: middle;\n    }\n\n    .dataframe tbody tr th {\n        vertical-align: top;\n    }\n\n    .dataframe thead th {\n        text-align: right;\n    }\n</style>\n<table border=\"1\" class=\"dataframe\">\n  <thead>\n    <tr style=\"text-align: right;\">\n      <th></th>\n      <th>sofifa_id</th>\n      <th>overall</th>\n      <th>potential</th>\n      <th>value_eur</th>\n      <th>wage_eur</th>\n      <th>age</th>\n      <th>height_cm</th>\n      <th>weight_kg</th>\n      <th>club_team_id</th>\n      <th>league_level</th>\n      <th>...</th>\n      <th>rb_5</th>\n      <th>rb_6</th>\n      <th>rb_7</th>\n      <th>gk_0</th>\n      <th>gk_1</th>\n      <th>gk_2</th>\n      <th>gk_3</th>\n      <th>gk_4</th>\n      <th>gk_5</th>\n      <th>gk_6</th>\n    </tr>\n  </thead>\n  <tbody>\n    <tr>\n      <th>0</th>\n      <td>158023.0</td>\n      <td>93.0</td>\n      <td>93.0</td>\n      <td>103500000.0</td>\n      <td>560000.0</td>\n      <td>33.0</td>\n      <td>170.0</td>\n      <td>72.0</td>\n      <td>241.0</td>\n      <td>1.0</td>\n      <td>...</td>\n      <td>0</td>\n      <td>0</td>\n      <td>1</td>\n      <td>0</td>\n      <td>0</td>\n      <td>0</td>\n      <td>0</td>\n      <td>0</td>\n      <td>0</td>\n      <td>1</td>\n    </tr>\n    <tr>\n      <th>1</th>\n      <td>20801.0</td>\n      <td>92.0</td>\n      <td>92.0</td>\n      <td>63000000.0</td>\n      <td>220000.0</td>\n      <td>35.0</td>\n      <td>187.0</td>\n      <td>83.0</td>\n      <td>45.0</td>\n      <td>1.0</td>\n      <td>...</td>\n      <td>0</td>\n      <td>1</td>\n      <td>0</td>\n      <td>0</td>\n      <td>0</td>\n      <td>0</td>\n      <td>0</td>\n      <td>0</td>\n      <td>1</td>\n      <td>0</td>\n    </tr>\n    <tr>\n      <th>2</th>\n      <td>188545.0</td>\n      <td>91.0</td>\n      <td>91.0</td>\n      <td>111000000.0</td>\n      <td>240000.0</td>\n      <td>31.0</td>\n      <td>184.0</td>\n      <td>80.0</td>\n      <td>21.0</td>\n      <td>1.0</td>\n      <td>...</td>\n      <td>0</td>\n      <td>1</td>\n      <td>0</td>\n      <td>0</td>\n      <td>0</td>\n      <td>0</td>\n      <td>0</td>\n      <td>0</td>\n      <td>0</td>\n      <td>1</td>\n    </tr>\n    <tr>\n      <th>3</th>\n      <td>190871.0</td>\n      <td>91.0</td>\n      <td>91.0</td>\n      <td>132000000.0</td>\n      <td>270000.0</td>\n      <td>28.0</td>\n      <td>175.0</td>\n      <td>68.0</td>\n      <td>73.0</td>\n      <td>1.0</td>\n      <td>...</td>\n      <td>0</td>\n      <td>0</td>\n      <td>1</td>\n      <td>0</td>\n      <td>0</td>\n      <td>0</td>\n      <td>0</td>\n      <td>0</td>\n      <td>1</td>\n      <td>0</td>\n    </tr>\n    <tr>\n      <th>4</th>\n      <td>192985.0</td>\n      <td>91.0</td>\n      <td>91.0</td>\n      <td>129000000.0</td>\n      <td>370000.0</td>\n      <td>29.0</td>\n      <td>181.0</td>\n      <td>70.0</td>\n      <td>10.0</td>\n      <td>1.0</td>\n      <td>...</td>\n      <td>0</td>\n      <td>1</td>\n      <td>1</td>\n      <td>0</td>\n      <td>0</td>\n      <td>0</td>\n      <td>0</td>\n      <td>0</td>\n      <td>1</td>\n      <td>1</td>\n    </tr>\n    <tr>\n      <th>...</th>\n      <td>...</td>\n      <td>...</td>\n      <td>...</td>\n      <td>...</td>\n      <td>...</td>\n      <td>...</td>\n      <td>...</td>\n      <td>...</td>\n      <td>...</td>\n      <td>...</td>\n      <td>...</td>\n      <td>...</td>\n      <td>...</td>\n      <td>...</td>\n      <td>...</td>\n      <td>...</td>\n      <td>...</td>\n      <td>...</td>\n      <td>...</td>\n      <td>...</td>\n      <td>...</td>\n    </tr>\n    <tr>\n      <th>18939</th>\n      <td>257710.0</td>\n      <td>47.0</td>\n      <td>52.0</td>\n      <td>70000.0</td>\n      <td>1000.0</td>\n      <td>21.0</td>\n      <td>177.0</td>\n      <td>70.0</td>\n      <td>112165.0</td>\n      <td>1.0</td>\n      <td>...</td>\n      <td>0</td>\n      <td>0</td>\n      <td>0</td>\n      <td>0</td>\n      <td>1</td>\n      <td>0</td>\n      <td>1</td>\n      <td>0</td>\n      <td>0</td>\n      <td>1</td>\n    </tr>\n    <tr>\n      <th>18940</th>\n      <td>257933.0</td>\n      <td>47.0</td>\n      <td>53.0</td>\n      <td>70000.0</td>\n      <td>1000.0</td>\n      <td>21.0</td>\n      <td>174.0</td>\n      <td>68.0</td>\n      <td>112540.0</td>\n      <td>1.0</td>\n      <td>...</td>\n      <td>1</td>\n      <td>1</td>\n      <td>1</td>\n      <td>0</td>\n      <td>1</td>\n      <td>0</td>\n      <td>1</td>\n      <td>0</td>\n      <td>0</td>\n      <td>1</td>\n    </tr>\n    <tr>\n      <th>18941</th>\n      <td>257936.0</td>\n      <td>47.0</td>\n      <td>47.0</td>\n      <td>45000.0</td>\n      <td>2000.0</td>\n      <td>28.0</td>\n      <td>185.0</td>\n      <td>79.0</td>\n      <td>111774.0</td>\n      <td>1.0</td>\n      <td>...</td>\n      <td>1</td>\n      <td>1</td>\n      <td>0</td>\n      <td>0</td>\n      <td>1</td>\n      <td>1</td>\n      <td>1</td>\n      <td>0</td>\n      <td>0</td>\n      <td>0</td>\n    </tr>\n    <tr>\n      <th>18942</th>\n      <td>258736.0</td>\n      <td>47.0</td>\n      <td>67.0</td>\n      <td>130000.0</td>\n      <td>500.0</td>\n      <td>17.0</td>\n      <td>171.0</td>\n      <td>58.0</td>\n      <td>1920.0</td>\n      <td>4.0</td>\n      <td>...</td>\n      <td>1</td>\n      <td>1</td>\n      <td>1</td>\n      <td>0</td>\n      <td>1</td>\n      <td>0</td>\n      <td>0</td>\n      <td>0</td>\n      <td>0</td>\n      <td>1</td>\n    </tr>\n    <tr>\n      <th>18943</th>\n      <td>258760.0</td>\n      <td>47.0</td>\n      <td>67.0</td>\n      <td>130000.0</td>\n      <td>500.0</td>\n      <td>17.0</td>\n      <td>175.0</td>\n      <td>65.0</td>\n      <td>1920.0</td>\n      <td>4.0</td>\n      <td>...</td>\n      <td>1</td>\n      <td>0</td>\n      <td>0</td>\n      <td>0</td>\n      <td>1</td>\n      <td>0</td>\n      <td>0</td>\n      <td>0</td>\n      <td>0</td>\n      <td>1</td>\n    </tr>\n  </tbody>\n</table>\n<p>18944 rows × 367 columns</p>\n</div>"
     },
     "execution_count": 367,
     "metadata": {},
     "output_type": "execute_result"
    }
   ],
   "source": [
    "players_21"
   ],
   "metadata": {
    "collapsed": false,
    "ExecuteTime": {
     "end_time": "2024-06-11T16:13:57.102677400Z",
     "start_time": "2024-06-11T16:13:57.064958400Z"
    }
   }
  },
  {
   "cell_type": "code",
   "execution_count": 342,
   "outputs": [],
   "source": [
    "y_train = players_21['overall']\n",
    "X_train = players_21.drop('overall', axis=1)\n",
    "\n",
    "\n",
    "y_test = players_22['overall']\n",
    "X_test = players_22.drop('overall', axis=1)"
   ],
   "metadata": {
    "collapsed": false,
    "ExecuteTime": {
     "end_time": "2024-06-11T16:03:53.712042500Z",
     "start_time": "2024-06-11T16:03:53.619995400Z"
    }
   }
  },
  {
   "cell_type": "code",
   "execution_count": 343,
   "outputs": [],
   "source": [
    "from sklearn.preprocessing import StandardScaler\n",
    "\n",
    "scaler = StandardScaler()\n",
    "\n",
    "X_train_scaled = scaler.fit_transform(X_train)\n",
    "X_test_scaled = scaler.transform(X_test)\n",
    "\n",
    "\n",
    "X_train_scaled = pd.DataFrame(X_train_scaled, columns=X_train.columns)\n",
    "X_test_scaled = pd.DataFrame(X_test_scaled, columns=X_test.columns)"
   ],
   "metadata": {
    "collapsed": false,
    "ExecuteTime": {
     "end_time": "2024-06-11T16:03:54.341365100Z",
     "start_time": "2024-06-11T16:03:53.651199300Z"
    }
   }
  },
  {
   "cell_type": "code",
   "execution_count": 344,
   "outputs": [],
   "source": [
    "from sklearn.model_selection import train_test_split\n",
    "\n",
    "\n",
    "X_train, X_test, y_train, y_test = train_test_split(X_train_scaled, y_train, test_size=0.2, random_state=42)"
   ],
   "metadata": {
    "collapsed": false,
    "ExecuteTime": {
     "end_time": "2024-06-11T16:03:54.397906900Z",
     "start_time": "2024-06-11T16:03:54.342370800Z"
    }
   }
  },
  {
   "cell_type": "code",
   "execution_count": 345,
   "outputs": [
    {
     "data": {
      "text/plain": "(15155, 366)"
     },
     "execution_count": 345,
     "metadata": {},
     "output_type": "execute_result"
    }
   ],
   "source": [
    "X_train.shape"
   ],
   "metadata": {
    "collapsed": false,
    "ExecuteTime": {
     "end_time": "2024-06-11T16:03:54.397906900Z",
     "start_time": "2024-06-11T16:03:54.389585100Z"
    }
   }
  },
  {
   "cell_type": "code",
   "execution_count": 346,
   "outputs": [
    {
     "data": {
      "text/plain": "(3789, 366)"
     },
     "execution_count": 346,
     "metadata": {},
     "output_type": "execute_result"
    }
   ],
   "source": [
    "X_test.shape"
   ],
   "metadata": {
    "collapsed": false,
    "ExecuteTime": {
     "end_time": "2024-06-11T16:03:54.404064900Z",
     "start_time": "2024-06-11T16:03:54.396906Z"
    }
   }
  },
  {
   "cell_type": "code",
   "execution_count": 347,
   "outputs": [
    {
     "data": {
      "text/plain": "       sofifa_id  potential  value_eur  wage_eur       age  height_cm  \\\n18775   1.113113  -1.159891  -0.360898 -0.433425 -1.325424   0.558088   \n17559   0.692070   0.476817  -0.331669 -0.420789 -1.325424  -0.027950   \n7667   -0.533255  -0.668878  -0.243984 -0.104899  0.590598  -0.027950   \n2638   -1.047135   0.313147  -0.036136 -0.205984  1.016381  -0.467479   \n18148   0.827792  -0.177866  -0.344010 -0.408153 -1.325424  -0.027950   \n\n       weight_kg  club_team_id  league_level  club_jersey_number  ...  \\\n18775  -0.285802     -0.878440      2.241365            1.205407  ...   \n17559  -0.994323     -0.867179     -0.477494            0.143951  ...   \n7667    0.989536      1.170044      0.881936            0.320860  ...   \n2638    0.139311      1.197583      0.881936           -1.094415  ...   \n18148  -0.144098     -0.875058     -0.477494            0.261890  ...   \n\n           rb_5      rb_6      rb_7      gk_0      gk_1      gk_2      gk_3  \\\n18775  0.896767 -0.995996 -0.830342  3.168537  1.313083 -1.254000  0.717913   \n17559  0.896767 -0.995996  1.204323 -0.315603  1.313083 -1.254000  0.717913   \n7667  -1.115117 -0.995996  1.204323 -0.315603  1.313083 -1.254000  0.717913   \n2638   0.896767 -0.995996 -0.830342 -0.315603 -0.761566  0.797448 -1.392927   \n18148 -1.115117 -0.995996  1.204323 -0.315603  1.313083 -1.254000  0.717913   \n\n           gk_4      gk_5      gk_6  \n18775  1.457575 -0.751905  1.073082  \n17559  1.457575  1.329955 -0.931895  \n7667  -0.686071 -0.751905  1.073082  \n2638  -0.686071  1.329955 -0.931895  \n18148 -0.686071 -0.751905  1.073082  \n\n[5 rows x 366 columns]",
      "text/html": "<div>\n<style scoped>\n    .dataframe tbody tr th:only-of-type {\n        vertical-align: middle;\n    }\n\n    .dataframe tbody tr th {\n        vertical-align: top;\n    }\n\n    .dataframe thead th {\n        text-align: right;\n    }\n</style>\n<table border=\"1\" class=\"dataframe\">\n  <thead>\n    <tr style=\"text-align: right;\">\n      <th></th>\n      <th>sofifa_id</th>\n      <th>potential</th>\n      <th>value_eur</th>\n      <th>wage_eur</th>\n      <th>age</th>\n      <th>height_cm</th>\n      <th>weight_kg</th>\n      <th>club_team_id</th>\n      <th>league_level</th>\n      <th>club_jersey_number</th>\n      <th>...</th>\n      <th>rb_5</th>\n      <th>rb_6</th>\n      <th>rb_7</th>\n      <th>gk_0</th>\n      <th>gk_1</th>\n      <th>gk_2</th>\n      <th>gk_3</th>\n      <th>gk_4</th>\n      <th>gk_5</th>\n      <th>gk_6</th>\n    </tr>\n  </thead>\n  <tbody>\n    <tr>\n      <th>18775</th>\n      <td>1.113113</td>\n      <td>-1.159891</td>\n      <td>-0.360898</td>\n      <td>-0.433425</td>\n      <td>-1.325424</td>\n      <td>0.558088</td>\n      <td>-0.285802</td>\n      <td>-0.878440</td>\n      <td>2.241365</td>\n      <td>1.205407</td>\n      <td>...</td>\n      <td>0.896767</td>\n      <td>-0.995996</td>\n      <td>-0.830342</td>\n      <td>3.168537</td>\n      <td>1.313083</td>\n      <td>-1.254000</td>\n      <td>0.717913</td>\n      <td>1.457575</td>\n      <td>-0.751905</td>\n      <td>1.073082</td>\n    </tr>\n    <tr>\n      <th>17559</th>\n      <td>0.692070</td>\n      <td>0.476817</td>\n      <td>-0.331669</td>\n      <td>-0.420789</td>\n      <td>-1.325424</td>\n      <td>-0.027950</td>\n      <td>-0.994323</td>\n      <td>-0.867179</td>\n      <td>-0.477494</td>\n      <td>0.143951</td>\n      <td>...</td>\n      <td>0.896767</td>\n      <td>-0.995996</td>\n      <td>1.204323</td>\n      <td>-0.315603</td>\n      <td>1.313083</td>\n      <td>-1.254000</td>\n      <td>0.717913</td>\n      <td>1.457575</td>\n      <td>1.329955</td>\n      <td>-0.931895</td>\n    </tr>\n    <tr>\n      <th>7667</th>\n      <td>-0.533255</td>\n      <td>-0.668878</td>\n      <td>-0.243984</td>\n      <td>-0.104899</td>\n      <td>0.590598</td>\n      <td>-0.027950</td>\n      <td>0.989536</td>\n      <td>1.170044</td>\n      <td>0.881936</td>\n      <td>0.320860</td>\n      <td>...</td>\n      <td>-1.115117</td>\n      <td>-0.995996</td>\n      <td>1.204323</td>\n      <td>-0.315603</td>\n      <td>1.313083</td>\n      <td>-1.254000</td>\n      <td>0.717913</td>\n      <td>-0.686071</td>\n      <td>-0.751905</td>\n      <td>1.073082</td>\n    </tr>\n    <tr>\n      <th>2638</th>\n      <td>-1.047135</td>\n      <td>0.313147</td>\n      <td>-0.036136</td>\n      <td>-0.205984</td>\n      <td>1.016381</td>\n      <td>-0.467479</td>\n      <td>0.139311</td>\n      <td>1.197583</td>\n      <td>0.881936</td>\n      <td>-1.094415</td>\n      <td>...</td>\n      <td>0.896767</td>\n      <td>-0.995996</td>\n      <td>-0.830342</td>\n      <td>-0.315603</td>\n      <td>-0.761566</td>\n      <td>0.797448</td>\n      <td>-1.392927</td>\n      <td>-0.686071</td>\n      <td>1.329955</td>\n      <td>-0.931895</td>\n    </tr>\n    <tr>\n      <th>18148</th>\n      <td>0.827792</td>\n      <td>-0.177866</td>\n      <td>-0.344010</td>\n      <td>-0.408153</td>\n      <td>-1.325424</td>\n      <td>-0.027950</td>\n      <td>-0.144098</td>\n      <td>-0.875058</td>\n      <td>-0.477494</td>\n      <td>0.261890</td>\n      <td>...</td>\n      <td>-1.115117</td>\n      <td>-0.995996</td>\n      <td>1.204323</td>\n      <td>-0.315603</td>\n      <td>1.313083</td>\n      <td>-1.254000</td>\n      <td>0.717913</td>\n      <td>-0.686071</td>\n      <td>-0.751905</td>\n      <td>1.073082</td>\n    </tr>\n  </tbody>\n</table>\n<p>5 rows × 366 columns</p>\n</div>"
     },
     "execution_count": 347,
     "metadata": {},
     "output_type": "execute_result"
    }
   ],
   "source": [
    "X_train.head()"
   ],
   "metadata": {
    "collapsed": false,
    "ExecuteTime": {
     "end_time": "2024-06-11T16:03:54.484754600Z",
     "start_time": "2024-06-11T16:03:54.405039800Z"
    }
   }
  },
  {
   "cell_type": "code",
   "execution_count": 348,
   "outputs": [
    {
     "data": {
      "text/plain": "18775    50.0\n17559    55.0\n7667     67.0\n2638     73.0\n18148    53.0\nName: overall, dtype: float64"
     },
     "execution_count": 348,
     "metadata": {},
     "output_type": "execute_result"
    }
   ],
   "source": [
    "y_train.head()"
   ],
   "metadata": {
    "collapsed": false,
    "ExecuteTime": {
     "end_time": "2024-06-11T16:03:54.485753900Z",
     "start_time": "2024-06-11T16:03:54.430744700Z"
    }
   }
  },
  {
   "cell_type": "code",
   "execution_count": 349,
   "outputs": [],
   "source": [
    "# Multi Linear Regression\n",
    "from sklearn.linear_model import LinearRegression\n",
    "\n",
    "l = LinearRegression()"
   ],
   "metadata": {
    "collapsed": false,
    "ExecuteTime": {
     "end_time": "2024-06-11T16:03:54.486751400Z",
     "start_time": "2024-06-11T16:03:54.437321100Z"
    }
   }
  },
  {
   "cell_type": "code",
   "execution_count": 350,
   "outputs": [
    {
     "data": {
      "text/plain": "LinearRegression()",
      "text/html": "<style>#sk-container-id-11 {\n  /* Definition of color scheme common for light and dark mode */\n  --sklearn-color-text: black;\n  --sklearn-color-line: gray;\n  /* Definition of color scheme for unfitted estimators */\n  --sklearn-color-unfitted-level-0: #fff5e6;\n  --sklearn-color-unfitted-level-1: #f6e4d2;\n  --sklearn-color-unfitted-level-2: #ffe0b3;\n  --sklearn-color-unfitted-level-3: chocolate;\n  /* Definition of color scheme for fitted estimators */\n  --sklearn-color-fitted-level-0: #f0f8ff;\n  --sklearn-color-fitted-level-1: #d4ebff;\n  --sklearn-color-fitted-level-2: #b3dbfd;\n  --sklearn-color-fitted-level-3: cornflowerblue;\n\n  /* Specific color for light theme */\n  --sklearn-color-text-on-default-background: var(--sg-text-color, var(--theme-code-foreground, var(--jp-content-font-color1, black)));\n  --sklearn-color-background: var(--sg-background-color, var(--theme-background, var(--jp-layout-color0, white)));\n  --sklearn-color-border-box: var(--sg-text-color, var(--theme-code-foreground, var(--jp-content-font-color1, black)));\n  --sklearn-color-icon: #696969;\n\n  @media (prefers-color-scheme: dark) {\n    /* Redefinition of color scheme for dark theme */\n    --sklearn-color-text-on-default-background: var(--sg-text-color, var(--theme-code-foreground, var(--jp-content-font-color1, white)));\n    --sklearn-color-background: var(--sg-background-color, var(--theme-background, var(--jp-layout-color0, #111)));\n    --sklearn-color-border-box: var(--sg-text-color, var(--theme-code-foreground, var(--jp-content-font-color1, white)));\n    --sklearn-color-icon: #878787;\n  }\n}\n\n#sk-container-id-11 {\n  color: var(--sklearn-color-text);\n}\n\n#sk-container-id-11 pre {\n  padding: 0;\n}\n\n#sk-container-id-11 input.sk-hidden--visually {\n  border: 0;\n  clip: rect(1px 1px 1px 1px);\n  clip: rect(1px, 1px, 1px, 1px);\n  height: 1px;\n  margin: -1px;\n  overflow: hidden;\n  padding: 0;\n  position: absolute;\n  width: 1px;\n}\n\n#sk-container-id-11 div.sk-dashed-wrapped {\n  border: 1px dashed var(--sklearn-color-line);\n  margin: 0 0.4em 0.5em 0.4em;\n  box-sizing: border-box;\n  padding-bottom: 0.4em;\n  background-color: var(--sklearn-color-background);\n}\n\n#sk-container-id-11 div.sk-container {\n  /* jupyter's `normalize.less` sets `[hidden] { display: none; }`\n     but bootstrap.min.css set `[hidden] { display: none !important; }`\n     so we also need the `!important` here to be able to override the\n     default hidden behavior on the sphinx rendered scikit-learn.org.\n     See: https://github.com/scikit-learn/scikit-learn/issues/21755 */\n  display: inline-block !important;\n  position: relative;\n}\n\n#sk-container-id-11 div.sk-text-repr-fallback {\n  display: none;\n}\n\ndiv.sk-parallel-item,\ndiv.sk-serial,\ndiv.sk-item {\n  /* draw centered vertical line to link estimators */\n  background-image: linear-gradient(var(--sklearn-color-text-on-default-background), var(--sklearn-color-text-on-default-background));\n  background-size: 2px 100%;\n  background-repeat: no-repeat;\n  background-position: center center;\n}\n\n/* Parallel-specific style estimator block */\n\n#sk-container-id-11 div.sk-parallel-item::after {\n  content: \"\";\n  width: 100%;\n  border-bottom: 2px solid var(--sklearn-color-text-on-default-background);\n  flex-grow: 1;\n}\n\n#sk-container-id-11 div.sk-parallel {\n  display: flex;\n  align-items: stretch;\n  justify-content: center;\n  background-color: var(--sklearn-color-background);\n  position: relative;\n}\n\n#sk-container-id-11 div.sk-parallel-item {\n  display: flex;\n  flex-direction: column;\n}\n\n#sk-container-id-11 div.sk-parallel-item:first-child::after {\n  align-self: flex-end;\n  width: 50%;\n}\n\n#sk-container-id-11 div.sk-parallel-item:last-child::after {\n  align-self: flex-start;\n  width: 50%;\n}\n\n#sk-container-id-11 div.sk-parallel-item:only-child::after {\n  width: 0;\n}\n\n/* Serial-specific style estimator block */\n\n#sk-container-id-11 div.sk-serial {\n  display: flex;\n  flex-direction: column;\n  align-items: center;\n  background-color: var(--sklearn-color-background);\n  padding-right: 1em;\n  padding-left: 1em;\n}\n\n\n/* Toggleable style: style used for estimator/Pipeline/ColumnTransformer box that is\nclickable and can be expanded/collapsed.\n- Pipeline and ColumnTransformer use this feature and define the default style\n- Estimators will overwrite some part of the style using the `sk-estimator` class\n*/\n\n/* Pipeline and ColumnTransformer style (default) */\n\n#sk-container-id-11 div.sk-toggleable {\n  /* Default theme specific background. It is overwritten whether we have a\n  specific estimator or a Pipeline/ColumnTransformer */\n  background-color: var(--sklearn-color-background);\n}\n\n/* Toggleable label */\n#sk-container-id-11 label.sk-toggleable__label {\n  cursor: pointer;\n  display: block;\n  width: 100%;\n  margin-bottom: 0;\n  padding: 0.5em;\n  box-sizing: border-box;\n  text-align: center;\n}\n\n#sk-container-id-11 label.sk-toggleable__label-arrow:before {\n  /* Arrow on the left of the label */\n  content: \"▸\";\n  float: left;\n  margin-right: 0.25em;\n  color: var(--sklearn-color-icon);\n}\n\n#sk-container-id-11 label.sk-toggleable__label-arrow:hover:before {\n  color: var(--sklearn-color-text);\n}\n\n/* Toggleable content - dropdown */\n\n#sk-container-id-11 div.sk-toggleable__content {\n  max-height: 0;\n  max-width: 0;\n  overflow: hidden;\n  text-align: left;\n  /* unfitted */\n  background-color: var(--sklearn-color-unfitted-level-0);\n}\n\n#sk-container-id-11 div.sk-toggleable__content.fitted {\n  /* fitted */\n  background-color: var(--sklearn-color-fitted-level-0);\n}\n\n#sk-container-id-11 div.sk-toggleable__content pre {\n  margin: 0.2em;\n  border-radius: 0.25em;\n  color: var(--sklearn-color-text);\n  /* unfitted */\n  background-color: var(--sklearn-color-unfitted-level-0);\n}\n\n#sk-container-id-11 div.sk-toggleable__content.fitted pre {\n  /* unfitted */\n  background-color: var(--sklearn-color-fitted-level-0);\n}\n\n#sk-container-id-11 input.sk-toggleable__control:checked~div.sk-toggleable__content {\n  /* Expand drop-down */\n  max-height: 200px;\n  max-width: 100%;\n  overflow: auto;\n}\n\n#sk-container-id-11 input.sk-toggleable__control:checked~label.sk-toggleable__label-arrow:before {\n  content: \"▾\";\n}\n\n/* Pipeline/ColumnTransformer-specific style */\n\n#sk-container-id-11 div.sk-label input.sk-toggleable__control:checked~label.sk-toggleable__label {\n  color: var(--sklearn-color-text);\n  background-color: var(--sklearn-color-unfitted-level-2);\n}\n\n#sk-container-id-11 div.sk-label.fitted input.sk-toggleable__control:checked~label.sk-toggleable__label {\n  background-color: var(--sklearn-color-fitted-level-2);\n}\n\n/* Estimator-specific style */\n\n/* Colorize estimator box */\n#sk-container-id-11 div.sk-estimator input.sk-toggleable__control:checked~label.sk-toggleable__label {\n  /* unfitted */\n  background-color: var(--sklearn-color-unfitted-level-2);\n}\n\n#sk-container-id-11 div.sk-estimator.fitted input.sk-toggleable__control:checked~label.sk-toggleable__label {\n  /* fitted */\n  background-color: var(--sklearn-color-fitted-level-2);\n}\n\n#sk-container-id-11 div.sk-label label.sk-toggleable__label,\n#sk-container-id-11 div.sk-label label {\n  /* The background is the default theme color */\n  color: var(--sklearn-color-text-on-default-background);\n}\n\n/* On hover, darken the color of the background */\n#sk-container-id-11 div.sk-label:hover label.sk-toggleable__label {\n  color: var(--sklearn-color-text);\n  background-color: var(--sklearn-color-unfitted-level-2);\n}\n\n/* Label box, darken color on hover, fitted */\n#sk-container-id-11 div.sk-label.fitted:hover label.sk-toggleable__label.fitted {\n  color: var(--sklearn-color-text);\n  background-color: var(--sklearn-color-fitted-level-2);\n}\n\n/* Estimator label */\n\n#sk-container-id-11 div.sk-label label {\n  font-family: monospace;\n  font-weight: bold;\n  display: inline-block;\n  line-height: 1.2em;\n}\n\n#sk-container-id-11 div.sk-label-container {\n  text-align: center;\n}\n\n/* Estimator-specific */\n#sk-container-id-11 div.sk-estimator {\n  font-family: monospace;\n  border: 1px dotted var(--sklearn-color-border-box);\n  border-radius: 0.25em;\n  box-sizing: border-box;\n  margin-bottom: 0.5em;\n  /* unfitted */\n  background-color: var(--sklearn-color-unfitted-level-0);\n}\n\n#sk-container-id-11 div.sk-estimator.fitted {\n  /* fitted */\n  background-color: var(--sklearn-color-fitted-level-0);\n}\n\n/* on hover */\n#sk-container-id-11 div.sk-estimator:hover {\n  /* unfitted */\n  background-color: var(--sklearn-color-unfitted-level-2);\n}\n\n#sk-container-id-11 div.sk-estimator.fitted:hover {\n  /* fitted */\n  background-color: var(--sklearn-color-fitted-level-2);\n}\n\n/* Specification for estimator info (e.g. \"i\" and \"?\") */\n\n/* Common style for \"i\" and \"?\" */\n\n.sk-estimator-doc-link,\na:link.sk-estimator-doc-link,\na:visited.sk-estimator-doc-link {\n  float: right;\n  font-size: smaller;\n  line-height: 1em;\n  font-family: monospace;\n  background-color: var(--sklearn-color-background);\n  border-radius: 1em;\n  height: 1em;\n  width: 1em;\n  text-decoration: none !important;\n  margin-left: 1ex;\n  /* unfitted */\n  border: var(--sklearn-color-unfitted-level-1) 1pt solid;\n  color: var(--sklearn-color-unfitted-level-1);\n}\n\n.sk-estimator-doc-link.fitted,\na:link.sk-estimator-doc-link.fitted,\na:visited.sk-estimator-doc-link.fitted {\n  /* fitted */\n  border: var(--sklearn-color-fitted-level-1) 1pt solid;\n  color: var(--sklearn-color-fitted-level-1);\n}\n\n/* On hover */\ndiv.sk-estimator:hover .sk-estimator-doc-link:hover,\n.sk-estimator-doc-link:hover,\ndiv.sk-label-container:hover .sk-estimator-doc-link:hover,\n.sk-estimator-doc-link:hover {\n  /* unfitted */\n  background-color: var(--sklearn-color-unfitted-level-3);\n  color: var(--sklearn-color-background);\n  text-decoration: none;\n}\n\ndiv.sk-estimator.fitted:hover .sk-estimator-doc-link.fitted:hover,\n.sk-estimator-doc-link.fitted:hover,\ndiv.sk-label-container:hover .sk-estimator-doc-link.fitted:hover,\n.sk-estimator-doc-link.fitted:hover {\n  /* fitted */\n  background-color: var(--sklearn-color-fitted-level-3);\n  color: var(--sklearn-color-background);\n  text-decoration: none;\n}\n\n/* Span, style for the box shown on hovering the info icon */\n.sk-estimator-doc-link span {\n  display: none;\n  z-index: 9999;\n  position: relative;\n  font-weight: normal;\n  right: .2ex;\n  padding: .5ex;\n  margin: .5ex;\n  width: min-content;\n  min-width: 20ex;\n  max-width: 50ex;\n  color: var(--sklearn-color-text);\n  box-shadow: 2pt 2pt 4pt #999;\n  /* unfitted */\n  background: var(--sklearn-color-unfitted-level-0);\n  border: .5pt solid var(--sklearn-color-unfitted-level-3);\n}\n\n.sk-estimator-doc-link.fitted span {\n  /* fitted */\n  background: var(--sklearn-color-fitted-level-0);\n  border: var(--sklearn-color-fitted-level-3);\n}\n\n.sk-estimator-doc-link:hover span {\n  display: block;\n}\n\n/* \"?\"-specific style due to the `<a>` HTML tag */\n\n#sk-container-id-11 a.estimator_doc_link {\n  float: right;\n  font-size: 1rem;\n  line-height: 1em;\n  font-family: monospace;\n  background-color: var(--sklearn-color-background);\n  border-radius: 1rem;\n  height: 1rem;\n  width: 1rem;\n  text-decoration: none;\n  /* unfitted */\n  color: var(--sklearn-color-unfitted-level-1);\n  border: var(--sklearn-color-unfitted-level-1) 1pt solid;\n}\n\n#sk-container-id-11 a.estimator_doc_link.fitted {\n  /* fitted */\n  border: var(--sklearn-color-fitted-level-1) 1pt solid;\n  color: var(--sklearn-color-fitted-level-1);\n}\n\n/* On hover */\n#sk-container-id-11 a.estimator_doc_link:hover {\n  /* unfitted */\n  background-color: var(--sklearn-color-unfitted-level-3);\n  color: var(--sklearn-color-background);\n  text-decoration: none;\n}\n\n#sk-container-id-11 a.estimator_doc_link.fitted:hover {\n  /* fitted */\n  background-color: var(--sklearn-color-fitted-level-3);\n}\n</style><div id=\"sk-container-id-11\" class=\"sk-top-container\"><div class=\"sk-text-repr-fallback\"><pre>LinearRegression()</pre><b>In a Jupyter environment, please rerun this cell to show the HTML representation or trust the notebook. <br />On GitHub, the HTML representation is unable to render, please try loading this page with nbviewer.org.</b></div><div class=\"sk-container\" hidden><div class=\"sk-item\"><div class=\"sk-estimator fitted sk-toggleable\"><input class=\"sk-toggleable__control sk-hidden--visually\" id=\"sk-estimator-id-11\" type=\"checkbox\" checked><label for=\"sk-estimator-id-11\" class=\"sk-toggleable__label fitted sk-toggleable__label-arrow fitted\">&nbsp;&nbsp;LinearRegression<a class=\"sk-estimator-doc-link fitted\" rel=\"noreferrer\" target=\"_blank\" href=\"https://scikit-learn.org/1.5/modules/generated/sklearn.linear_model.LinearRegression.html\">?<span>Documentation for LinearRegression</span></a><span class=\"sk-estimator-doc-link fitted\">i<span>Fitted</span></span></label><div class=\"sk-toggleable__content fitted\"><pre>LinearRegression()</pre></div> </div></div></div></div>"
     },
     "execution_count": 350,
     "metadata": {},
     "output_type": "execute_result"
    }
   ],
   "source": [
    "l.fit(X_train,y_train)"
   ],
   "metadata": {
    "collapsed": false,
    "ExecuteTime": {
     "end_time": "2024-06-11T16:03:55.508227600Z",
     "start_time": "2024-06-11T16:03:54.443240200Z"
    }
   }
  },
  {
   "cell_type": "code",
   "execution_count": 351,
   "outputs": [],
   "source": [
    "y_pred = l.predict(X_test)"
   ],
   "metadata": {
    "collapsed": false,
    "ExecuteTime": {
     "end_time": "2024-06-11T16:03:55.521694100Z",
     "start_time": "2024-06-11T16:03:55.506225900Z"
    }
   }
  },
  {
   "cell_type": "code",
   "execution_count": 352,
   "outputs": [
    {
     "data": {
      "text/plain": "Index(['sofifa_id', 'potential', 'value_eur', 'wage_eur', 'age', 'height_cm',\n       'weight_kg', 'club_team_id', 'league_level', 'club_jersey_number',\n       ...\n       'rb_5', 'rb_6', 'rb_7', 'gk_0', 'gk_1', 'gk_2', 'gk_3', 'gk_4', 'gk_5',\n       'gk_6'],\n      dtype='object', length=366)"
     },
     "execution_count": 352,
     "metadata": {},
     "output_type": "execute_result"
    }
   ],
   "source": [
    "X_train.columns"
   ],
   "metadata": {
    "collapsed": false,
    "ExecuteTime": {
     "end_time": "2024-06-11T16:03:55.559385900Z",
     "start_time": "2024-06-11T16:03:55.521694100Z"
    }
   }
  },
  {
   "cell_type": "code",
   "execution_count": 353,
   "outputs": [
    {
     "name": "stdout",
     "output_type": "stream",
     "text": [
      "Intercept: 65.67864780943107\n",
      "Coefficients: [ 3.20226824e-01  5.20779502e-01  3.43652213e-01  1.30426962e-01\n",
      "  5.23703910e-01 -2.68171676e-02  1.60525511e-02  3.23774551e-04\n",
      " -2.85904754e-02 -2.10563277e-02  6.80169619e-03 -1.59432634e-02\n",
      "  6.29676926e-03  6.26151771e-04  2.21098623e-01  4.16911307e-01\n",
      "  1.56310274e-01 -1.66032869e-01  3.36124876e-02  1.23412346e-01\n",
      "  1.86393598e-01 -6.63070040e-03  6.89348629e-02  1.79210003e-01\n",
      "  9.01266006e-02  1.24517821e-01  2.27826902e-02 -4.31307984e-02\n",
      " -4.10404931e-02 -8.54763345e-03 -5.38699229e-02  1.73028613e-01\n",
      "  1.05168214e-02 -5.82408928e-02 -4.38682904e-02  2.08514711e-01\n",
      " -4.43331586e-02  2.07204839e-02 -1.15946369e-02  7.05452353e-02\n",
      "  4.99164698e-02  6.72428799e-02 -2.06117987e-02 -2.83461796e-02\n",
      " -7.85317378e-02 -4.05470784e-02  1.86381023e-02  3.87197271e-02\n",
      "  3.25690582e-03  7.85738132e-03 -3.98593042e-02  8.67352386e-02\n",
      "  1.75146130e-01  4.96057720e-02  1.40194153e-01  1.60167069e-01\n",
      " -3.15978184e-01  2.37935035e-01  1.38131197e-02  1.13754219e-01\n",
      " -7.40177219e-02 -4.45700972e-03 -1.55181603e-02 -7.87552699e-03\n",
      " -8.41331860e-03  9.53418373e-06  5.42892972e-03 -1.01819128e-02\n",
      "  1.72713598e-03  4.99837301e-04  6.04060845e-03 -5.66318790e+00\n",
      " -3.71212463e+00 -1.95556657e+00 -1.18746782e+00 -4.71797047e-01\n",
      " -2.35100905e-01 -1.60700431e-01 -7.38486228e-02 -4.32570658e-02\n",
      " -8.86442017e-03 -7.02886126e-03 -9.23420856e-03 -7.97304145e-03\n",
      " -7.39323934e-03  3.75097607e-03 -4.50761437e-03 -3.21287371e-02\n",
      "  1.70584229e-03  2.31154706e-02  3.91285913e-03 -1.45145534e-02\n",
      " -4.29111437e-02 -1.71818954e-02  3.78460884e-02  2.16543868e-02\n",
      "  1.75255244e-02 -2.40104999e-02 -6.54877672e-03 -4.34938262e-03\n",
      " -1.08458241e-03  9.16975698e-03 -8.41895480e-03 -9.90639202e-03\n",
      " -1.70205596e-03 -1.28695762e-02 -7.24835874e-03 -9.19951225e-03\n",
      "  1.45723749e-02 -1.59550187e-03  4.32654105e-03 -1.47421016e-02\n",
      "  4.93619491e-03 -1.76461605e-02 -1.03826454e-02  5.07957916e-03\n",
      "  1.09143694e-02 -2.28333715e-02 -1.42570260e-02 -2.11373987e-02\n",
      "  3.24788072e-03  5.15778159e-03 -5.11095998e-03 -1.88158841e-03\n",
      "  3.32727921e-03  1.17274240e-02  6.58603918e-05  3.82670429e-03\n",
      " -4.99274735e-03  1.10859424e-02 -2.93413378e-02 -2.01233950e-02\n",
      " -9.04910452e-03 -2.93901759e-03  7.01495573e-03 -3.22804571e-02\n",
      "  2.83967690e+11  2.83967690e+11  3.81062917e-03 -1.50955527e-02\n",
      "  7.42914005e-03 -9.21739182e-03  3.65566629e-02  3.87200603e-02\n",
      "  3.45051588e-02 -1.66270837e-02  2.25132350e+11  2.25132350e+11\n",
      "  6.13295978e+11  1.32636327e+11  9.77733276e+11 -2.83684984e+11\n",
      " -4.77064137e+12 -8.80269640e+11 -1.25834634e+12  1.60985700e+11\n",
      " -1.78865589e+11  4.04624333e+11 -5.51357198e+10  3.03159204e+11\n",
      "  2.41567054e+12 -1.82842486e+10 -7.23677048e+10  4.19454291e+11\n",
      " -4.34430389e+11 -5.37260661e+11 -9.22597556e+11 -1.94742199e+10\n",
      "  2.35497083e+12  8.98553889e+11  1.33071405e+12 -5.80439990e+11\n",
      "  9.41857262e+11 -5.23958299e+10 -1.11922687e+12  4.51403087e+11\n",
      " -3.95470476e+11  3.26153897e+12  5.28222050e+11 -1.50301115e+10\n",
      " -1.39292254e+13 -1.92598352e+11  4.85059393e+11  2.19955974e+12\n",
      " -1.47755138e+12  7.79540844e+11 -1.28060211e+12  4.81488616e+11\n",
      "  7.03616840e+12  2.61670038e+11 -3.98565775e+11 -2.26507018e+11\n",
      "  1.04988139e+12 -2.39559998e+11  9.22924784e+11 -1.44078035e+12\n",
      "  6.89305698e+12 -6.90716868e+10 -8.64936189e+10 -1.97305272e+12\n",
      "  4.27669986e+11 -5.39980845e+11  3.57677330e+11  9.59291733e+11\n",
      " -9.41857262e+11  5.23958299e+10  1.11922687e+12 -4.51403087e+11\n",
      "  3.95470476e+11 -3.26153897e+12 -5.28222050e+11  1.50301115e+10\n",
      " -1.46756702e+12  7.32973428e+11  5.41804503e+11  4.21621841e+11\n",
      "  9.15228502e+11  7.29260856e+11  1.72976997e+12  8.62156938e+11\n",
      "  8.45693990e+11 -4.18284478e+11 -6.58220220e+11 -7.36133594e+11\n",
      " -4.22278772e+11 -2.17057640e+10 -1.17236406e+12 -1.04929315e+12\n",
      "  6.21873028e+11 -3.14688951e+11  1.16415718e+11  3.14511753e+11\n",
      " -4.92949730e+11 -7.07555092e+11 -5.57405908e+11  1.87136211e+11\n",
      " -1.57894721e+11  1.60296206e+11 -5.79452389e+11 -1.18923284e+11\n",
      "  3.11177008e+11  1.44514211e+12 -3.87034111e+11 -1.18897885e+11\n",
      " -6.72655866e+11 -1.59809904e+12  9.43865590e+10  2.11645066e+11\n",
      "  8.04267566e+11 -3.32578890e+11 -9.22562736e+11 -8.82248029e+10\n",
      "  9.22532713e+11 -6.36977117e+11 -1.28258487e+11 -3.67805271e+11\n",
      " -7.69300357e+11  2.21305813e+11  1.03041468e+12  8.04844459e+10\n",
      " -2.49876847e+11  2.23507615e+12  3.38719277e+10  1.56160205e+11\n",
      " -3.49672095e+10  1.11273078e+11 -1.07851944e+11  7.74035701e+09\n",
      "  1.57894721e+11 -1.60296206e+11  5.79452389e+11  1.18923284e+11\n",
      " -3.11177008e+11 -1.44514211e+12  3.87034111e+11  1.18897885e+11\n",
      "  8.66277611e+11 -3.80777525e+11  4.53946177e+12 -6.34436377e+11\n",
      " -1.08957067e+11 -4.51365826e+11  3.68298411e+12  1.34767613e+09\n",
      "  1.25721861e+12 -5.12423176e+11  1.94079820e+11  6.83234985e+10\n",
      " -2.22347526e+12 -3.96031400e+11 -3.06002455e+11  5.13972346e+11\n",
      " -2.00283042e+11 -3.72648023e+11 -6.35205023e+10  3.82109913e+11\n",
      "  1.39378069e+12 -2.19149731e+11  4.71812319e+11 -2.49954274e+10\n",
      " -1.05693557e+12  8.85071199e+11 -1.30559318e+11 -4.50433411e+11\n",
      "  8.29694577e+11  6.15181131e+11 -1.65809864e+11 -4.88976919e+11\n",
      " -8.66277611e+11  3.80777525e+11 -4.53946177e+12  6.34436377e+11\n",
      "  1.08957067e+11  4.51365826e+11 -3.68298411e+12 -1.34767613e+09\n",
      " -1.91548348e+11 -1.32763611e+12  1.12348579e+11 -1.00551546e+12\n",
      " -1.12740675e+11  3.20590174e+11  7.74771947e+10 -2.22054957e+10\n",
      " -8.77668689e+11  1.15310235e+12 -1.83211768e+11  2.78899553e+11\n",
      " -2.29113862e+11  1.37146413e+12  7.47641872e+11 -8.92369925e+11\n",
      " -1.56841862e+11 -5.05834148e+10  4.30420826e+11  4.92321177e+11\n",
      " -6.39235858e+11  1.98966317e+11 -5.52808235e+11 -2.18252233e+11\n",
      " -5.09991477e+11  3.93819666e+11  9.28252103e+11 -1.58352318e+12\n",
      " -3.09109409e+11  3.60336305e+11  3.01475449e+10 -8.18655896e+11\n",
      " -5.29389639e+11  1.40236140e+12 -2.36977804e+11  1.91548348e+11\n",
      "  1.32763611e+12 -1.12348579e+11  1.00551546e+12  1.12740675e+11\n",
      " -3.20590174e+11 -7.74771947e+10  2.22054957e+10 -3.06762678e-01\n",
      " -5.84735458e-02 -1.47912223e-01 -1.65210555e-02  4.03454035e-03\n",
      "  1.03546715e-02 -4.45704069e-02]\n"
     ]
    }
   ],
   "source": [
    "intercept = l.intercept_\n",
    "\n",
    "coefficients = l.coef_\n",
    "\n",
    "print(f\"Intercept: {intercept}\")\n",
    "print(f\"Coefficients: {coefficients}\")"
   ],
   "metadata": {
    "collapsed": false,
    "ExecuteTime": {
     "end_time": "2024-06-11T16:03:55.561381900Z",
     "start_time": "2024-06-11T16:03:55.536313200Z"
    }
   }
  },
  {
   "cell_type": "code",
   "execution_count": 354,
   "outputs": [],
   "source": [
    "from sklearn.metrics import mean_absolute_error, mean_squared_error, r2_score"
   ],
   "metadata": {
    "collapsed": false,
    "ExecuteTime": {
     "end_time": "2024-06-11T16:03:55.561381900Z",
     "start_time": "2024-06-11T16:03:55.547864900Z"
    }
   }
  },
  {
   "cell_type": "code",
   "execution_count": 355,
   "outputs": [
    {
     "name": "stdout",
     "output_type": "stream",
     "text": [
      "\n",
      "Mean Absolute Error = 0.4703355079389345,\n",
      "Mean Squared Error = 0.44140187656356644,\n",
      "Root Mean Squared Error = 0.6643808219414272,\n",
      "R2 Score = 0.9906188927063807\n",
      "\n"
     ]
    }
   ],
   "source": [
    "print(f\"\"\"\n",
    "Mean Absolute Error = {mean_absolute_error(y_pred,y_test)},\n",
    "Mean Squared Error = {mean_squared_error(y_pred,y_test)},\n",
    "Root Mean Squared Error = {np.sqrt(mean_squared_error(y_pred,y_test))},\n",
    "R2 Score = {r2_score(y_pred,y_test)}\n",
    "\"\"\")"
   ],
   "metadata": {
    "collapsed": false,
    "ExecuteTime": {
     "end_time": "2024-06-11T16:03:55.601706900Z",
     "start_time": "2024-06-11T16:03:55.555365100Z"
    }
   }
  },
  {
   "cell_type": "code",
   "execution_count": 356,
   "outputs": [],
   "source": [
    "# Polynomial Regression\n",
    "\n",
    "from sklearn.pipeline import make_pipeline\n",
    "from sklearn.preprocessing import PolynomialFeatures\n",
    "\n",
    "poly_pipeline = make_pipeline(PolynomialFeatures(degree=1), LinearRegression())\n",
    "\n",
    "poly = PolynomialFeatures(degree=1)\n",
    "X_poly_train = poly.fit_transform(X_train)\n",
    "X_poly_test = poly.fit_transform(X_test)\n",
    "\n",
    "\n",
    "model = LinearRegression()\n",
    "model.fit(X_poly_train, y_train)\n",
    "\n",
    "\n",
    "y_pred = model.predict(X_poly_test)"
   ],
   "metadata": {
    "collapsed": false,
    "ExecuteTime": {
     "end_time": "2024-06-11T16:03:56.478805800Z",
     "start_time": "2024-06-11T16:03:55.568184800Z"
    }
   }
  },
  {
   "cell_type": "code",
   "execution_count": 357,
   "outputs": [
    {
     "name": "stdout",
     "output_type": "stream",
     "text": [
      "\n",
      "Mean Absolute Error = 0.4698588493410139,\n",
      "Mean Squared Error = 0.4389173121355708,\n",
      "Root Mean Squared Error = 0.6625083487289581,\n",
      "R2 Score = 0.9906677184842225\n",
      "\n"
     ]
    }
   ],
   "source": [
    "print(f\"\"\"\n",
    "Mean Absolute Error = {mean_absolute_error(y_pred, y_test)},\n",
    "Mean Squared Error = {mean_squared_error(y_pred, y_test)},\n",
    "Root Mean Squared Error = {np.sqrt(mean_squared_error(y_pred, y_test))},\n",
    "R2 Score = {r2_score(y_pred, y_test)}\n",
    "\"\"\")"
   ],
   "metadata": {
    "collapsed": false,
    "ExecuteTime": {
     "end_time": "2024-06-11T16:03:56.490698600Z",
     "start_time": "2024-06-11T16:03:56.479818800Z"
    }
   }
  },
  {
   "cell_type": "code",
   "execution_count": 358,
   "outputs": [],
   "source": [
    "# Regularisation Models\n",
    "from sklearn.linear_model import ElasticNet, Lasso, Ridge\n",
    "\n",
    "\n",
    "model1 = Ridge()\n",
    "model1.fit(X_train, y_train)\n",
    "\n",
    "\n",
    "y_pred = model1.predict(X_test)"
   ],
   "metadata": {
    "collapsed": false,
    "ExecuteTime": {
     "end_time": "2024-06-11T16:03:56.698403300Z",
     "start_time": "2024-06-11T16:03:56.492700200Z"
    }
   }
  },
  {
   "cell_type": "code",
   "execution_count": 359,
   "outputs": [
    {
     "name": "stdout",
     "output_type": "stream",
     "text": [
      "\n",
      "Mean Absolute Error = 0.46994017154579515,\n",
      "Mean Squared Error = 0.4394375641777438,\n",
      "Root Mean Squared Error = 0.6629008705513546,\n",
      "R2 Score = 0.9906556425738443\n",
      "\n"
     ]
    }
   ],
   "source": [
    "print(f\"\"\"\n",
    "Mean Absolute Error = {mean_absolute_error(y_pred,y_test)},\n",
    "Mean Squared Error = {mean_squared_error(y_pred,y_test)},\n",
    "Root Mean Squared Error = {np.sqrt(mean_squared_error(y_pred,y_test))},\n",
    "R2 Score = {r2_score(y_pred,y_test)}\n",
    "\"\"\")"
   ],
   "metadata": {
    "collapsed": false,
    "ExecuteTime": {
     "end_time": "2024-06-11T16:03:56.709905200Z",
     "start_time": "2024-06-11T16:03:56.701406Z"
    }
   }
  },
  {
   "cell_type": "code",
   "execution_count": 360,
   "outputs": [
    {
     "name": "stdout",
     "output_type": "stream",
     "text": [
      "\n",
      "Mean Absolute Error = 2.0304662905846818,\n",
      "Mean Squared Error = 6.456832409957266,\n",
      "Root Mean Squared Error = 2.5410297932053583,\n",
      "R2 Score = 0.7640836164316219\n",
      "\n"
     ]
    }
   ],
   "source": [
    "model2 = Lasso()\n",
    "model2.fit(X_train, y_train)\n",
    "\n",
    "\n",
    "y_pred = model2.predict(X_test)\n",
    "\n",
    "print(f\"\"\"\n",
    "Mean Absolute Error = {mean_absolute_error(y_pred,y_test)},\n",
    "Mean Squared Error = {mean_squared_error(y_pred,y_test)},\n",
    "Root Mean Squared Error = {np.sqrt(mean_squared_error(y_pred,y_test))},\n",
    "R2 Score = {r2_score(y_pred,y_test)}\n",
    "\"\"\")"
   ],
   "metadata": {
    "collapsed": false,
    "ExecuteTime": {
     "end_time": "2024-06-11T16:03:57.012901800Z",
     "start_time": "2024-06-11T16:03:56.710907Z"
    }
   }
  },
  {
   "cell_type": "code",
   "execution_count": 361,
   "outputs": [
    {
     "name": "stdout",
     "output_type": "stream",
     "text": [
      "\n",
      "Mean Absolute Error = 1.6982157555204955,\n",
      "Mean Squared Error = 4.726132323143705,\n",
      "Root Mean Squared Error = 2.173966955393689,\n",
      "R2 Score = 0.8383103674090647\n",
      "\n"
     ]
    }
   ],
   "source": [
    "model3 = ElasticNet()\n",
    "model3.fit(X_train, y_train)\n",
    "\n",
    "\n",
    "y_pred = model3.predict(X_test)\n",
    "\n",
    "print(f\"\"\"\n",
    "Mean Absolute Error = {mean_absolute_error(y_pred,y_test)},\n",
    "Mean Squared Error = {mean_squared_error(y_pred,y_test)},\n",
    "Root Mean Squared Error = {np.sqrt(mean_squared_error(y_pred,y_test))},\n",
    "R2 Score = {r2_score(y_pred,y_test)}\n",
    "\"\"\")"
   ],
   "metadata": {
    "collapsed": false,
    "ExecuteTime": {
     "end_time": "2024-06-11T16:03:57.585175900Z",
     "start_time": "2024-06-11T16:03:57.013900700Z"
    }
   }
  },
  {
   "cell_type": "code",
   "execution_count": 362,
   "outputs": [],
   "source": [
    "from sklearn.tree import DecisionTreeRegressor\n",
    "dtree = DecisionTreeRegressor(max_depth=2000)"
   ],
   "metadata": {
    "collapsed": false,
    "ExecuteTime": {
     "end_time": "2024-06-11T16:03:57.591667800Z",
     "start_time": "2024-06-11T16:03:57.587147200Z"
    }
   }
  },
  {
   "cell_type": "code",
   "execution_count": 363,
   "outputs": [
    {
     "data": {
      "text/plain": "DecisionTreeRegressor(max_depth=2000)",
      "text/html": "<style>#sk-container-id-12 {\n  /* Definition of color scheme common for light and dark mode */\n  --sklearn-color-text: black;\n  --sklearn-color-line: gray;\n  /* Definition of color scheme for unfitted estimators */\n  --sklearn-color-unfitted-level-0: #fff5e6;\n  --sklearn-color-unfitted-level-1: #f6e4d2;\n  --sklearn-color-unfitted-level-2: #ffe0b3;\n  --sklearn-color-unfitted-level-3: chocolate;\n  /* Definition of color scheme for fitted estimators */\n  --sklearn-color-fitted-level-0: #f0f8ff;\n  --sklearn-color-fitted-level-1: #d4ebff;\n  --sklearn-color-fitted-level-2: #b3dbfd;\n  --sklearn-color-fitted-level-3: cornflowerblue;\n\n  /* Specific color for light theme */\n  --sklearn-color-text-on-default-background: var(--sg-text-color, var(--theme-code-foreground, var(--jp-content-font-color1, black)));\n  --sklearn-color-background: var(--sg-background-color, var(--theme-background, var(--jp-layout-color0, white)));\n  --sklearn-color-border-box: var(--sg-text-color, var(--theme-code-foreground, var(--jp-content-font-color1, black)));\n  --sklearn-color-icon: #696969;\n\n  @media (prefers-color-scheme: dark) {\n    /* Redefinition of color scheme for dark theme */\n    --sklearn-color-text-on-default-background: var(--sg-text-color, var(--theme-code-foreground, var(--jp-content-font-color1, white)));\n    --sklearn-color-background: var(--sg-background-color, var(--theme-background, var(--jp-layout-color0, #111)));\n    --sklearn-color-border-box: var(--sg-text-color, var(--theme-code-foreground, var(--jp-content-font-color1, white)));\n    --sklearn-color-icon: #878787;\n  }\n}\n\n#sk-container-id-12 {\n  color: var(--sklearn-color-text);\n}\n\n#sk-container-id-12 pre {\n  padding: 0;\n}\n\n#sk-container-id-12 input.sk-hidden--visually {\n  border: 0;\n  clip: rect(1px 1px 1px 1px);\n  clip: rect(1px, 1px, 1px, 1px);\n  height: 1px;\n  margin: -1px;\n  overflow: hidden;\n  padding: 0;\n  position: absolute;\n  width: 1px;\n}\n\n#sk-container-id-12 div.sk-dashed-wrapped {\n  border: 1px dashed var(--sklearn-color-line);\n  margin: 0 0.4em 0.5em 0.4em;\n  box-sizing: border-box;\n  padding-bottom: 0.4em;\n  background-color: var(--sklearn-color-background);\n}\n\n#sk-container-id-12 div.sk-container {\n  /* jupyter's `normalize.less` sets `[hidden] { display: none; }`\n     but bootstrap.min.css set `[hidden] { display: none !important; }`\n     so we also need the `!important` here to be able to override the\n     default hidden behavior on the sphinx rendered scikit-learn.org.\n     See: https://github.com/scikit-learn/scikit-learn/issues/21755 */\n  display: inline-block !important;\n  position: relative;\n}\n\n#sk-container-id-12 div.sk-text-repr-fallback {\n  display: none;\n}\n\ndiv.sk-parallel-item,\ndiv.sk-serial,\ndiv.sk-item {\n  /* draw centered vertical line to link estimators */\n  background-image: linear-gradient(var(--sklearn-color-text-on-default-background), var(--sklearn-color-text-on-default-background));\n  background-size: 2px 100%;\n  background-repeat: no-repeat;\n  background-position: center center;\n}\n\n/* Parallel-specific style estimator block */\n\n#sk-container-id-12 div.sk-parallel-item::after {\n  content: \"\";\n  width: 100%;\n  border-bottom: 2px solid var(--sklearn-color-text-on-default-background);\n  flex-grow: 1;\n}\n\n#sk-container-id-12 div.sk-parallel {\n  display: flex;\n  align-items: stretch;\n  justify-content: center;\n  background-color: var(--sklearn-color-background);\n  position: relative;\n}\n\n#sk-container-id-12 div.sk-parallel-item {\n  display: flex;\n  flex-direction: column;\n}\n\n#sk-container-id-12 div.sk-parallel-item:first-child::after {\n  align-self: flex-end;\n  width: 50%;\n}\n\n#sk-container-id-12 div.sk-parallel-item:last-child::after {\n  align-self: flex-start;\n  width: 50%;\n}\n\n#sk-container-id-12 div.sk-parallel-item:only-child::after {\n  width: 0;\n}\n\n/* Serial-specific style estimator block */\n\n#sk-container-id-12 div.sk-serial {\n  display: flex;\n  flex-direction: column;\n  align-items: center;\n  background-color: var(--sklearn-color-background);\n  padding-right: 1em;\n  padding-left: 1em;\n}\n\n\n/* Toggleable style: style used for estimator/Pipeline/ColumnTransformer box that is\nclickable and can be expanded/collapsed.\n- Pipeline and ColumnTransformer use this feature and define the default style\n- Estimators will overwrite some part of the style using the `sk-estimator` class\n*/\n\n/* Pipeline and ColumnTransformer style (default) */\n\n#sk-container-id-12 div.sk-toggleable {\n  /* Default theme specific background. It is overwritten whether we have a\n  specific estimator or a Pipeline/ColumnTransformer */\n  background-color: var(--sklearn-color-background);\n}\n\n/* Toggleable label */\n#sk-container-id-12 label.sk-toggleable__label {\n  cursor: pointer;\n  display: block;\n  width: 100%;\n  margin-bottom: 0;\n  padding: 0.5em;\n  box-sizing: border-box;\n  text-align: center;\n}\n\n#sk-container-id-12 label.sk-toggleable__label-arrow:before {\n  /* Arrow on the left of the label */\n  content: \"▸\";\n  float: left;\n  margin-right: 0.25em;\n  color: var(--sklearn-color-icon);\n}\n\n#sk-container-id-12 label.sk-toggleable__label-arrow:hover:before {\n  color: var(--sklearn-color-text);\n}\n\n/* Toggleable content - dropdown */\n\n#sk-container-id-12 div.sk-toggleable__content {\n  max-height: 0;\n  max-width: 0;\n  overflow: hidden;\n  text-align: left;\n  /* unfitted */\n  background-color: var(--sklearn-color-unfitted-level-0);\n}\n\n#sk-container-id-12 div.sk-toggleable__content.fitted {\n  /* fitted */\n  background-color: var(--sklearn-color-fitted-level-0);\n}\n\n#sk-container-id-12 div.sk-toggleable__content pre {\n  margin: 0.2em;\n  border-radius: 0.25em;\n  color: var(--sklearn-color-text);\n  /* unfitted */\n  background-color: var(--sklearn-color-unfitted-level-0);\n}\n\n#sk-container-id-12 div.sk-toggleable__content.fitted pre {\n  /* unfitted */\n  background-color: var(--sklearn-color-fitted-level-0);\n}\n\n#sk-container-id-12 input.sk-toggleable__control:checked~div.sk-toggleable__content {\n  /* Expand drop-down */\n  max-height: 200px;\n  max-width: 100%;\n  overflow: auto;\n}\n\n#sk-container-id-12 input.sk-toggleable__control:checked~label.sk-toggleable__label-arrow:before {\n  content: \"▾\";\n}\n\n/* Pipeline/ColumnTransformer-specific style */\n\n#sk-container-id-12 div.sk-label input.sk-toggleable__control:checked~label.sk-toggleable__label {\n  color: var(--sklearn-color-text);\n  background-color: var(--sklearn-color-unfitted-level-2);\n}\n\n#sk-container-id-12 div.sk-label.fitted input.sk-toggleable__control:checked~label.sk-toggleable__label {\n  background-color: var(--sklearn-color-fitted-level-2);\n}\n\n/* Estimator-specific style */\n\n/* Colorize estimator box */\n#sk-container-id-12 div.sk-estimator input.sk-toggleable__control:checked~label.sk-toggleable__label {\n  /* unfitted */\n  background-color: var(--sklearn-color-unfitted-level-2);\n}\n\n#sk-container-id-12 div.sk-estimator.fitted input.sk-toggleable__control:checked~label.sk-toggleable__label {\n  /* fitted */\n  background-color: var(--sklearn-color-fitted-level-2);\n}\n\n#sk-container-id-12 div.sk-label label.sk-toggleable__label,\n#sk-container-id-12 div.sk-label label {\n  /* The background is the default theme color */\n  color: var(--sklearn-color-text-on-default-background);\n}\n\n/* On hover, darken the color of the background */\n#sk-container-id-12 div.sk-label:hover label.sk-toggleable__label {\n  color: var(--sklearn-color-text);\n  background-color: var(--sklearn-color-unfitted-level-2);\n}\n\n/* Label box, darken color on hover, fitted */\n#sk-container-id-12 div.sk-label.fitted:hover label.sk-toggleable__label.fitted {\n  color: var(--sklearn-color-text);\n  background-color: var(--sklearn-color-fitted-level-2);\n}\n\n/* Estimator label */\n\n#sk-container-id-12 div.sk-label label {\n  font-family: monospace;\n  font-weight: bold;\n  display: inline-block;\n  line-height: 1.2em;\n}\n\n#sk-container-id-12 div.sk-label-container {\n  text-align: center;\n}\n\n/* Estimator-specific */\n#sk-container-id-12 div.sk-estimator {\n  font-family: monospace;\n  border: 1px dotted var(--sklearn-color-border-box);\n  border-radius: 0.25em;\n  box-sizing: border-box;\n  margin-bottom: 0.5em;\n  /* unfitted */\n  background-color: var(--sklearn-color-unfitted-level-0);\n}\n\n#sk-container-id-12 div.sk-estimator.fitted {\n  /* fitted */\n  background-color: var(--sklearn-color-fitted-level-0);\n}\n\n/* on hover */\n#sk-container-id-12 div.sk-estimator:hover {\n  /* unfitted */\n  background-color: var(--sklearn-color-unfitted-level-2);\n}\n\n#sk-container-id-12 div.sk-estimator.fitted:hover {\n  /* fitted */\n  background-color: var(--sklearn-color-fitted-level-2);\n}\n\n/* Specification for estimator info (e.g. \"i\" and \"?\") */\n\n/* Common style for \"i\" and \"?\" */\n\n.sk-estimator-doc-link,\na:link.sk-estimator-doc-link,\na:visited.sk-estimator-doc-link {\n  float: right;\n  font-size: smaller;\n  line-height: 1em;\n  font-family: monospace;\n  background-color: var(--sklearn-color-background);\n  border-radius: 1em;\n  height: 1em;\n  width: 1em;\n  text-decoration: none !important;\n  margin-left: 1ex;\n  /* unfitted */\n  border: var(--sklearn-color-unfitted-level-1) 1pt solid;\n  color: var(--sklearn-color-unfitted-level-1);\n}\n\n.sk-estimator-doc-link.fitted,\na:link.sk-estimator-doc-link.fitted,\na:visited.sk-estimator-doc-link.fitted {\n  /* fitted */\n  border: var(--sklearn-color-fitted-level-1) 1pt solid;\n  color: var(--sklearn-color-fitted-level-1);\n}\n\n/* On hover */\ndiv.sk-estimator:hover .sk-estimator-doc-link:hover,\n.sk-estimator-doc-link:hover,\ndiv.sk-label-container:hover .sk-estimator-doc-link:hover,\n.sk-estimator-doc-link:hover {\n  /* unfitted */\n  background-color: var(--sklearn-color-unfitted-level-3);\n  color: var(--sklearn-color-background);\n  text-decoration: none;\n}\n\ndiv.sk-estimator.fitted:hover .sk-estimator-doc-link.fitted:hover,\n.sk-estimator-doc-link.fitted:hover,\ndiv.sk-label-container:hover .sk-estimator-doc-link.fitted:hover,\n.sk-estimator-doc-link.fitted:hover {\n  /* fitted */\n  background-color: var(--sklearn-color-fitted-level-3);\n  color: var(--sklearn-color-background);\n  text-decoration: none;\n}\n\n/* Span, style for the box shown on hovering the info icon */\n.sk-estimator-doc-link span {\n  display: none;\n  z-index: 9999;\n  position: relative;\n  font-weight: normal;\n  right: .2ex;\n  padding: .5ex;\n  margin: .5ex;\n  width: min-content;\n  min-width: 20ex;\n  max-width: 50ex;\n  color: var(--sklearn-color-text);\n  box-shadow: 2pt 2pt 4pt #999;\n  /* unfitted */\n  background: var(--sklearn-color-unfitted-level-0);\n  border: .5pt solid var(--sklearn-color-unfitted-level-3);\n}\n\n.sk-estimator-doc-link.fitted span {\n  /* fitted */\n  background: var(--sklearn-color-fitted-level-0);\n  border: var(--sklearn-color-fitted-level-3);\n}\n\n.sk-estimator-doc-link:hover span {\n  display: block;\n}\n\n/* \"?\"-specific style due to the `<a>` HTML tag */\n\n#sk-container-id-12 a.estimator_doc_link {\n  float: right;\n  font-size: 1rem;\n  line-height: 1em;\n  font-family: monospace;\n  background-color: var(--sklearn-color-background);\n  border-radius: 1rem;\n  height: 1rem;\n  width: 1rem;\n  text-decoration: none;\n  /* unfitted */\n  color: var(--sklearn-color-unfitted-level-1);\n  border: var(--sklearn-color-unfitted-level-1) 1pt solid;\n}\n\n#sk-container-id-12 a.estimator_doc_link.fitted {\n  /* fitted */\n  border: var(--sklearn-color-fitted-level-1) 1pt solid;\n  color: var(--sklearn-color-fitted-level-1);\n}\n\n/* On hover */\n#sk-container-id-12 a.estimator_doc_link:hover {\n  /* unfitted */\n  background-color: var(--sklearn-color-unfitted-level-3);\n  color: var(--sklearn-color-background);\n  text-decoration: none;\n}\n\n#sk-container-id-12 a.estimator_doc_link.fitted:hover {\n  /* fitted */\n  background-color: var(--sklearn-color-fitted-level-3);\n}\n</style><div id=\"sk-container-id-12\" class=\"sk-top-container\"><div class=\"sk-text-repr-fallback\"><pre>DecisionTreeRegressor(max_depth=2000)</pre><b>In a Jupyter environment, please rerun this cell to show the HTML representation or trust the notebook. <br />On GitHub, the HTML representation is unable to render, please try loading this page with nbviewer.org.</b></div><div class=\"sk-container\" hidden><div class=\"sk-item\"><div class=\"sk-estimator fitted sk-toggleable\"><input class=\"sk-toggleable__control sk-hidden--visually\" id=\"sk-estimator-id-12\" type=\"checkbox\" checked><label for=\"sk-estimator-id-12\" class=\"sk-toggleable__label fitted sk-toggleable__label-arrow fitted\">&nbsp;&nbsp;DecisionTreeRegressor<a class=\"sk-estimator-doc-link fitted\" rel=\"noreferrer\" target=\"_blank\" href=\"https://scikit-learn.org/1.5/modules/generated/sklearn.tree.DecisionTreeRegressor.html\">?<span>Documentation for DecisionTreeRegressor</span></a><span class=\"sk-estimator-doc-link fitted\">i<span>Fitted</span></span></label><div class=\"sk-toggleable__content fitted\"><pre>DecisionTreeRegressor(max_depth=2000)</pre></div> </div></div></div></div>"
     },
     "execution_count": 363,
     "metadata": {},
     "output_type": "execute_result"
    }
   ],
   "source": [
    "dtree.fit(X_train, y_train)"
   ],
   "metadata": {
    "collapsed": false,
    "ExecuteTime": {
     "end_time": "2024-06-11T16:03:58.524991100Z",
     "start_time": "2024-06-11T16:03:57.595189600Z"
    }
   }
  },
  {
   "cell_type": "code",
   "execution_count": 364,
   "outputs": [
    {
     "name": "stdout",
     "output_type": "stream",
     "text": [
      "\n",
      "Mean Absolute Error = 0.015043547110055424,\n",
      "Mean Squared Error = 0.030878859857482184,\n",
      "Root Mean Squared Error = 0.17572381698984968,\n",
      "R2 Score = 0.9993442002501688\n",
      "\n"
     ]
    }
   ],
   "source": [
    "y_pred = dtree.predict(X_test)\n",
    "print(f\"\"\"\n",
    "Mean Absolute Error = {mean_absolute_error(y_pred,y_test)},\n",
    "Mean Squared Error = {mean_squared_error(y_pred,y_test)},\n",
    "Root Mean Squared Error = {np.sqrt(mean_squared_error(y_pred,y_test))},\n",
    "R2 Score = {r2_score(y_pred,y_test)}\n",
    "\"\"\")"
   ],
   "metadata": {
    "collapsed": false,
    "ExecuteTime": {
     "end_time": "2024-06-11T16:03:58.538880400Z",
     "start_time": "2024-06-11T16:03:58.528992400Z"
    }
   }
  },
  {
   "cell_type": "code",
   "execution_count": 365,
   "outputs": [
    {
     "name": "stdout",
     "output_type": "stream",
     "text": [
      "\n",
      "Mean Absolute Error = 0.080469876722621,\n",
      "Mean Squared Error = 0.03492236818532882,\n",
      "Root Mean Squared Error = 0.18687527440870505,\n",
      "R2 Score = 0.9992582698106048\n",
      "\n"
     ]
    }
   ],
   "source": [
    "from sklearn.ensemble import StackingRegressor\n",
    "\n",
    "# Define the ensemble model\n",
    "estimators = [\n",
    "    ('lr', l),\n",
    "    ('poly', poly_pipeline),\n",
    "    ('rm1', model1),\n",
    "    ('rm2', model2),\n",
    "    ('rm3', model3),\n",
    "    ('dt', dtree)\n",
    "]\n",
    "\n",
    "final_estimator = DecisionTreeRegressor()\n",
    "stacking_model = StackingRegressor(estimators=estimators, final_estimator=LinearRegression())\n",
    "\n",
    "# Fit the ensemble model\n",
    "stacking_model.fit(X_train, y_train)\n",
    "\n",
    "# Predict and evaluate\n",
    "y_pred = stacking_model.predict(X_test)\n",
    "\n",
    "\n",
    "print(f\"\"\"\n",
    "Mean Absolute Error = {mean_absolute_error(y_pred,y_test)},\n",
    "Mean Squared Error = {mean_squared_error(y_pred,y_test)},\n",
    "Root Mean Squared Error = {np.sqrt(mean_squared_error(y_pred,y_test))},\n",
    "R2 Score = {r2_score(y_pred,y_test)}\n",
    "\"\"\")"
   ],
   "metadata": {
    "collapsed": false,
    "ExecuteTime": {
     "end_time": "2024-06-11T16:04:13.629502600Z",
     "start_time": "2024-06-11T16:03:58.540880300Z"
    }
   }
  },
  {
   "cell_type": "code",
   "execution_count": 366,
   "outputs": [
    {
     "data": {
      "text/plain": "['stacking_model.pkl']"
     },
     "execution_count": 366,
     "metadata": {},
     "output_type": "execute_result"
    }
   ],
   "source": [
    "import joblib\n",
    "\n",
    "\n",
    "joblib.dump(stacking_model, 'stacking_model.pkl')\n"
   ],
   "metadata": {
    "collapsed": false,
    "ExecuteTime": {
     "end_time": "2024-06-11T16:06:59.600787400Z",
     "start_time": "2024-06-11T16:06:59.557341700Z"
    }
   }
  }
 ],
 "metadata": {
  "kernelspec": {
   "display_name": "Python 3",
   "language": "python",
   "name": "python3"
  },
  "language_info": {
   "codemirror_mode": {
    "name": "ipython",
    "version": 2
   },
   "file_extension": ".py",
   "mimetype": "text/x-python",
   "name": "python",
   "nbconvert_exporter": "python",
   "pygments_lexer": "ipython2",
   "version": "2.7.6"
  }
 },
 "nbformat": 4,
 "nbformat_minor": 0
}
