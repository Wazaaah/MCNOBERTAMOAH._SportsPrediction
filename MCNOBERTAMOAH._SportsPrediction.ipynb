{
 "cells": [
  {
   "cell_type": "code",
   "execution_count": 80,
   "metadata": {
    "collapsed": true,
    "ExecuteTime": {
     "end_time": "2024-06-21T18:04:08.668969200Z",
     "start_time": "2024-06-21T18:04:08.038174500Z"
    }
   },
   "outputs": [],
   "source": [
    "import pandas as pd\n",
    "import category_encoders as ce\n",
    "import numpy as np\n",
    "import joblib"
   ]
  },
  {
   "cell_type": "code",
   "execution_count": 81,
   "outputs": [
    {
     "name": "stderr",
     "output_type": "stream",
     "text": [
      "C:\\Users\\mcnob\\AppData\\Local\\Temp\\ipykernel_3992\\1960985977.py:1: DtypeWarning: Columns (25,108) have mixed types. Specify dtype option on import or set low_memory=False.\n",
      "  players_22 = pd.read_csv('players_22.csv')\n",
      "C:\\Users\\mcnob\\AppData\\Local\\Temp\\ipykernel_3992\\1960985977.py:2: DtypeWarning: Columns (108) have mixed types. Specify dtype option on import or set low_memory=False.\n",
      "  male_players_legacy = pd.read_csv('male_players (legacy).csv')\n"
     ]
    }
   ],
   "source": [
    "players_22 = pd.read_csv('players_22.csv')\n",
    "male_players_legacy = pd.read_csv('male_players (legacy).csv')"
   ],
   "metadata": {
    "collapsed": false,
    "ExecuteTime": {
     "end_time": "2024-06-21T18:04:10.759742Z",
     "start_time": "2024-06-21T18:04:08.048356Z"
    }
   }
  },
  {
   "cell_type": "code",
   "execution_count": 82,
   "outputs": [
    {
     "data": {
      "text/plain": "        player_id                                        player_url  \\\n0          158023                /player/158023/lionel-messi/150002   \n1           20801  /player/20801/c-ronaldo-dos-santos-aveiro/150002   \n2            9014                  /player/9014/arjen-robben/150002   \n3           41236           /player/41236/zlatan-ibrahimovic/150002   \n4          167495                /player/167495/manuel-neuer/150002   \n...           ...                                               ...   \n161578     269011                   /player/269011/ziye-zhao/230002   \n161579     269019                   /player/269019/junjie-wu/230002   \n161580     271093               /player/271093/kailin-barlow/230002   \n161581     271555               /player/271555/gideon-tetteh/230002   \n161582     271608           /player/271608/aqeel-al-dhafeeri/230002   \n\n        fifa_version  fifa_update fifa_update_date         short_name  \\\n0                 15            2       2014-09-18           L. Messi   \n1                 15            2       2014-09-18  Cristiano Ronaldo   \n2                 15            2       2014-09-18          A. Robben   \n3                 15            2       2014-09-18     Z. Ibrahimović   \n4                 15            2       2014-09-18           M. Neuer   \n...              ...          ...              ...                ...   \n161578            23            2       2022-09-26          Zhao Ziye   \n161579            23            2       2022-09-26          Wu Junjie   \n161580            23            2       2022-09-26          K. Barlow   \n161581            23            2       2022-09-26          G. Tetteh   \n161582            23            2       2022-09-26     A. Al Dhafeeri   \n\n                                  long_name player_positions  overall  \\\n0            Lionel Andrés Messi Cuccittini               CF       93   \n1       Cristiano Ronaldo dos Santos Aveiro           LW, LM       92   \n2                              Arjen Robben       RM, LM, RW       90   \n3                        Zlatan Ibrahimović               ST       90   \n4                        Manuel Peter Neuer               GK       90   \n...                                     ...              ...      ...   \n161578                                  赵梓业               RW       46   \n161579                                  吴俊杰               LB       46   \n161580                        Kailin Barlow              CDM       46   \n161581                        Gideon Tetteh           RW, LW       46   \n161582                    Aqeel Al Dhafeeri               CB       46   \n\n        potential  ...   cdm   rdm   rwb    lb   lcb    cb   rcb    rb    gk  \\\n0              95  ...  62+3  62+3  62+3  54+3  45+3  45+3  45+3  54+3  15+3   \n1              92  ...  63+3  63+3  63+3  57+3  52+3  52+3  52+3  57+3  16+3   \n2              90  ...  64+3  64+3  64+3  55+3  46+3  46+3  46+3  55+3  14+3   \n3              90  ...  65+3  65+3  61+3  56+3  55+3  55+3  55+3  56+3  17+3   \n4              90  ...  40+3  40+3  36+3  36+3  38+3  38+3  38+3  36+3  87+3   \n...           ...  ...   ...   ...   ...   ...   ...   ...   ...   ...   ...   \n161578         61  ...  32+2  32+2  37+2  36+2  31+2  31+2  31+2  36+2  14+2   \n161579         58  ...  41+2  41+2  43+2  44+2  48+2  48+2  48+2  44+2  15+2   \n161580         58  ...  45+2  45+2  47+2  47+2  46+2  46+2  46+2  47+2  14+2   \n161581         70  ...  30+2  30+2  34+2  32+2  28+2  28+2  28+2  32+2  15+2   \n161582         63  ...  40+2  40+2  39+2  41+2  46+2  46+2  46+2  41+2  13+2   \n\n                                          player_face_url  \n0       https://cdn.sofifa.net/players/158/023/15_120.png  \n1       https://cdn.sofifa.net/players/020/801/15_120.png  \n2       https://cdn.sofifa.net/players/009/014/15_120.png  \n3       https://cdn.sofifa.net/players/041/236/15_120.png  \n4       https://cdn.sofifa.net/players/167/495/15_120.png  \n...                                                   ...  \n161578  https://cdn.sofifa.net/players/269/011/23_120.png  \n161579  https://cdn.sofifa.net/players/269/019/23_120.png  \n161580  https://cdn.sofifa.net/players/271/093/23_120.png  \n161581  https://cdn.sofifa.net/players/271/555/23_120.png  \n161582  https://cdn.sofifa.net/players/271/608/23_120.png  \n\n[161583 rows x 110 columns]",
      "text/html": "<div>\n<style scoped>\n    .dataframe tbody tr th:only-of-type {\n        vertical-align: middle;\n    }\n\n    .dataframe tbody tr th {\n        vertical-align: top;\n    }\n\n    .dataframe thead th {\n        text-align: right;\n    }\n</style>\n<table border=\"1\" class=\"dataframe\">\n  <thead>\n    <tr style=\"text-align: right;\">\n      <th></th>\n      <th>player_id</th>\n      <th>player_url</th>\n      <th>fifa_version</th>\n      <th>fifa_update</th>\n      <th>fifa_update_date</th>\n      <th>short_name</th>\n      <th>long_name</th>\n      <th>player_positions</th>\n      <th>overall</th>\n      <th>potential</th>\n      <th>...</th>\n      <th>cdm</th>\n      <th>rdm</th>\n      <th>rwb</th>\n      <th>lb</th>\n      <th>lcb</th>\n      <th>cb</th>\n      <th>rcb</th>\n      <th>rb</th>\n      <th>gk</th>\n      <th>player_face_url</th>\n    </tr>\n  </thead>\n  <tbody>\n    <tr>\n      <th>0</th>\n      <td>158023</td>\n      <td>/player/158023/lionel-messi/150002</td>\n      <td>15</td>\n      <td>2</td>\n      <td>2014-09-18</td>\n      <td>L. Messi</td>\n      <td>Lionel Andrés Messi Cuccittini</td>\n      <td>CF</td>\n      <td>93</td>\n      <td>95</td>\n      <td>...</td>\n      <td>62+3</td>\n      <td>62+3</td>\n      <td>62+3</td>\n      <td>54+3</td>\n      <td>45+3</td>\n      <td>45+3</td>\n      <td>45+3</td>\n      <td>54+3</td>\n      <td>15+3</td>\n      <td>https://cdn.sofifa.net/players/158/023/15_120.png</td>\n    </tr>\n    <tr>\n      <th>1</th>\n      <td>20801</td>\n      <td>/player/20801/c-ronaldo-dos-santos-aveiro/150002</td>\n      <td>15</td>\n      <td>2</td>\n      <td>2014-09-18</td>\n      <td>Cristiano Ronaldo</td>\n      <td>Cristiano Ronaldo dos Santos Aveiro</td>\n      <td>LW, LM</td>\n      <td>92</td>\n      <td>92</td>\n      <td>...</td>\n      <td>63+3</td>\n      <td>63+3</td>\n      <td>63+3</td>\n      <td>57+3</td>\n      <td>52+3</td>\n      <td>52+3</td>\n      <td>52+3</td>\n      <td>57+3</td>\n      <td>16+3</td>\n      <td>https://cdn.sofifa.net/players/020/801/15_120.png</td>\n    </tr>\n    <tr>\n      <th>2</th>\n      <td>9014</td>\n      <td>/player/9014/arjen-robben/150002</td>\n      <td>15</td>\n      <td>2</td>\n      <td>2014-09-18</td>\n      <td>A. Robben</td>\n      <td>Arjen Robben</td>\n      <td>RM, LM, RW</td>\n      <td>90</td>\n      <td>90</td>\n      <td>...</td>\n      <td>64+3</td>\n      <td>64+3</td>\n      <td>64+3</td>\n      <td>55+3</td>\n      <td>46+3</td>\n      <td>46+3</td>\n      <td>46+3</td>\n      <td>55+3</td>\n      <td>14+3</td>\n      <td>https://cdn.sofifa.net/players/009/014/15_120.png</td>\n    </tr>\n    <tr>\n      <th>3</th>\n      <td>41236</td>\n      <td>/player/41236/zlatan-ibrahimovic/150002</td>\n      <td>15</td>\n      <td>2</td>\n      <td>2014-09-18</td>\n      <td>Z. Ibrahimović</td>\n      <td>Zlatan Ibrahimović</td>\n      <td>ST</td>\n      <td>90</td>\n      <td>90</td>\n      <td>...</td>\n      <td>65+3</td>\n      <td>65+3</td>\n      <td>61+3</td>\n      <td>56+3</td>\n      <td>55+3</td>\n      <td>55+3</td>\n      <td>55+3</td>\n      <td>56+3</td>\n      <td>17+3</td>\n      <td>https://cdn.sofifa.net/players/041/236/15_120.png</td>\n    </tr>\n    <tr>\n      <th>4</th>\n      <td>167495</td>\n      <td>/player/167495/manuel-neuer/150002</td>\n      <td>15</td>\n      <td>2</td>\n      <td>2014-09-18</td>\n      <td>M. Neuer</td>\n      <td>Manuel Peter Neuer</td>\n      <td>GK</td>\n      <td>90</td>\n      <td>90</td>\n      <td>...</td>\n      <td>40+3</td>\n      <td>40+3</td>\n      <td>36+3</td>\n      <td>36+3</td>\n      <td>38+3</td>\n      <td>38+3</td>\n      <td>38+3</td>\n      <td>36+3</td>\n      <td>87+3</td>\n      <td>https://cdn.sofifa.net/players/167/495/15_120.png</td>\n    </tr>\n    <tr>\n      <th>...</th>\n      <td>...</td>\n      <td>...</td>\n      <td>...</td>\n      <td>...</td>\n      <td>...</td>\n      <td>...</td>\n      <td>...</td>\n      <td>...</td>\n      <td>...</td>\n      <td>...</td>\n      <td>...</td>\n      <td>...</td>\n      <td>...</td>\n      <td>...</td>\n      <td>...</td>\n      <td>...</td>\n      <td>...</td>\n      <td>...</td>\n      <td>...</td>\n      <td>...</td>\n      <td>...</td>\n    </tr>\n    <tr>\n      <th>161578</th>\n      <td>269011</td>\n      <td>/player/269011/ziye-zhao/230002</td>\n      <td>23</td>\n      <td>2</td>\n      <td>2022-09-26</td>\n      <td>Zhao Ziye</td>\n      <td>赵梓业</td>\n      <td>RW</td>\n      <td>46</td>\n      <td>61</td>\n      <td>...</td>\n      <td>32+2</td>\n      <td>32+2</td>\n      <td>37+2</td>\n      <td>36+2</td>\n      <td>31+2</td>\n      <td>31+2</td>\n      <td>31+2</td>\n      <td>36+2</td>\n      <td>14+2</td>\n      <td>https://cdn.sofifa.net/players/269/011/23_120.png</td>\n    </tr>\n    <tr>\n      <th>161579</th>\n      <td>269019</td>\n      <td>/player/269019/junjie-wu/230002</td>\n      <td>23</td>\n      <td>2</td>\n      <td>2022-09-26</td>\n      <td>Wu Junjie</td>\n      <td>吴俊杰</td>\n      <td>LB</td>\n      <td>46</td>\n      <td>58</td>\n      <td>...</td>\n      <td>41+2</td>\n      <td>41+2</td>\n      <td>43+2</td>\n      <td>44+2</td>\n      <td>48+2</td>\n      <td>48+2</td>\n      <td>48+2</td>\n      <td>44+2</td>\n      <td>15+2</td>\n      <td>https://cdn.sofifa.net/players/269/019/23_120.png</td>\n    </tr>\n    <tr>\n      <th>161580</th>\n      <td>271093</td>\n      <td>/player/271093/kailin-barlow/230002</td>\n      <td>23</td>\n      <td>2</td>\n      <td>2022-09-26</td>\n      <td>K. Barlow</td>\n      <td>Kailin Barlow</td>\n      <td>CDM</td>\n      <td>46</td>\n      <td>58</td>\n      <td>...</td>\n      <td>45+2</td>\n      <td>45+2</td>\n      <td>47+2</td>\n      <td>47+2</td>\n      <td>46+2</td>\n      <td>46+2</td>\n      <td>46+2</td>\n      <td>47+2</td>\n      <td>14+2</td>\n      <td>https://cdn.sofifa.net/players/271/093/23_120.png</td>\n    </tr>\n    <tr>\n      <th>161581</th>\n      <td>271555</td>\n      <td>/player/271555/gideon-tetteh/230002</td>\n      <td>23</td>\n      <td>2</td>\n      <td>2022-09-26</td>\n      <td>G. Tetteh</td>\n      <td>Gideon Tetteh</td>\n      <td>RW, LW</td>\n      <td>46</td>\n      <td>70</td>\n      <td>...</td>\n      <td>30+2</td>\n      <td>30+2</td>\n      <td>34+2</td>\n      <td>32+2</td>\n      <td>28+2</td>\n      <td>28+2</td>\n      <td>28+2</td>\n      <td>32+2</td>\n      <td>15+2</td>\n      <td>https://cdn.sofifa.net/players/271/555/23_120.png</td>\n    </tr>\n    <tr>\n      <th>161582</th>\n      <td>271608</td>\n      <td>/player/271608/aqeel-al-dhafeeri/230002</td>\n      <td>23</td>\n      <td>2</td>\n      <td>2022-09-26</td>\n      <td>A. Al Dhafeeri</td>\n      <td>Aqeel Al Dhafeeri</td>\n      <td>CB</td>\n      <td>46</td>\n      <td>63</td>\n      <td>...</td>\n      <td>40+2</td>\n      <td>40+2</td>\n      <td>39+2</td>\n      <td>41+2</td>\n      <td>46+2</td>\n      <td>46+2</td>\n      <td>46+2</td>\n      <td>41+2</td>\n      <td>13+2</td>\n      <td>https://cdn.sofifa.net/players/271/608/23_120.png</td>\n    </tr>\n  </tbody>\n</table>\n<p>161583 rows × 110 columns</p>\n</div>"
     },
     "execution_count": 82,
     "metadata": {},
     "output_type": "execute_result"
    }
   ],
   "source": [
    "male_players_legacy"
   ],
   "metadata": {
    "collapsed": false,
    "ExecuteTime": {
     "end_time": "2024-06-21T18:04:10.942728900Z",
     "start_time": "2024-06-21T18:04:10.760744200Z"
    }
   }
  },
  {
   "cell_type": "code",
   "execution_count": 83,
   "outputs": [
    {
     "data": {
      "text/plain": "           player_id   fifa_version  fifa_update        overall  \\\ncount  161583.000000  161583.000000     161583.0  161583.000000   \nmean   214484.722353      19.125514          2.0      65.699071   \nstd     34928.608856       2.559318          0.0       7.040855   \nmin         2.000000      15.000000          2.0      40.000000   \n25%    199159.000000      17.000000          2.0      61.000000   \n50%    220621.000000      19.000000          2.0      66.000000   \n75%    236958.000000      21.000000          2.0      70.000000   \nmax    271817.000000      23.000000          2.0      94.000000   \n\n           potential     value_eur       wage_eur            age  \\\ncount  161583.000000  1.595300e+05  159822.000000  161583.000000   \nmean       70.744008  2.326770e+06   10855.409768      25.123181   \nstd         6.259121  6.005746e+06   21941.656285       4.670207   \nmin        40.000000  1.000000e+03     500.000000      16.000000   \n25%        66.000000  3.250000e+05    2000.000000      21.000000   \n50%        70.000000  7.250000e+05    4000.000000      25.000000   \n75%        75.000000  1.800000e+06   10000.000000      28.000000   \nmax        95.000000  1.940000e+08  575000.000000      54.000000   \n\n           height_cm      weight_kg  ...  mentality_composure  \\\ncount  161583.000000  161583.000000  ...        128722.000000   \nmean      181.240205      75.235031  ...            57.816892   \nstd         6.750148       7.000456  ...            12.329739   \nmin       154.000000      49.000000  ...             3.000000   \n25%       176.000000      70.000000  ...            50.000000   \n50%       181.000000      75.000000  ...            59.000000   \n75%       186.000000      80.000000  ...            66.000000   \nmax       208.000000     110.000000  ...            96.000000   \n\n       defending_marking_awareness  defending_standing_tackle  \\\ncount                161583.000000              161583.000000   \nmean                     45.757957                  47.669996   \nstd                      20.453699                  21.336404   \nmin                       1.000000                   2.000000   \n25%                      26.000000                  27.000000   \n50%                      50.000000                  54.000000   \n75%                      63.000000                  66.000000   \nmax                      94.000000                  94.000000   \n\n       defending_sliding_tackle  goalkeeping_diving  goalkeeping_handling  \\\ncount             161583.000000        161583.00000         161583.000000   \nmean                  45.698588            16.52961             16.274918   \nstd                   20.935273            17.67047             16.834294   \nmin                    3.000000             1.00000              1.000000   \n25%                   25.000000             8.00000              8.000000   \n50%                   52.000000            11.00000             11.000000   \n75%                   64.000000            14.00000             14.000000   \nmax                   95.000000            91.00000             92.000000   \n\n       goalkeeping_kicking  goalkeeping_positioning  goalkeeping_reflexes  \\\ncount        161583.000000            161583.000000         161583.000000   \nmean             16.140374                16.288861             16.636973   \nstd              16.476466                16.998697             17.980143   \nmin               1.000000                 1.000000              1.000000   \n25%               8.000000                 8.000000              8.000000   \n50%              11.000000                11.000000             11.000000   \n75%              14.000000                14.000000             14.000000   \nmax              95.000000                92.000000             94.000000   \n\n       goalkeeping_speed  \ncount       17969.000000  \nmean           39.149090  \nstd            10.503788  \nmin            12.000000  \n25%            31.000000  \n50%            41.000000  \n75%            46.000000  \nmax            68.000000  \n\n[8 rows x 63 columns]",
      "text/html": "<div>\n<style scoped>\n    .dataframe tbody tr th:only-of-type {\n        vertical-align: middle;\n    }\n\n    .dataframe tbody tr th {\n        vertical-align: top;\n    }\n\n    .dataframe thead th {\n        text-align: right;\n    }\n</style>\n<table border=\"1\" class=\"dataframe\">\n  <thead>\n    <tr style=\"text-align: right;\">\n      <th></th>\n      <th>player_id</th>\n      <th>fifa_version</th>\n      <th>fifa_update</th>\n      <th>overall</th>\n      <th>potential</th>\n      <th>value_eur</th>\n      <th>wage_eur</th>\n      <th>age</th>\n      <th>height_cm</th>\n      <th>weight_kg</th>\n      <th>...</th>\n      <th>mentality_composure</th>\n      <th>defending_marking_awareness</th>\n      <th>defending_standing_tackle</th>\n      <th>defending_sliding_tackle</th>\n      <th>goalkeeping_diving</th>\n      <th>goalkeeping_handling</th>\n      <th>goalkeeping_kicking</th>\n      <th>goalkeeping_positioning</th>\n      <th>goalkeeping_reflexes</th>\n      <th>goalkeeping_speed</th>\n    </tr>\n  </thead>\n  <tbody>\n    <tr>\n      <th>count</th>\n      <td>161583.000000</td>\n      <td>161583.000000</td>\n      <td>161583.0</td>\n      <td>161583.000000</td>\n      <td>161583.000000</td>\n      <td>1.595300e+05</td>\n      <td>159822.000000</td>\n      <td>161583.000000</td>\n      <td>161583.000000</td>\n      <td>161583.000000</td>\n      <td>...</td>\n      <td>128722.000000</td>\n      <td>161583.000000</td>\n      <td>161583.000000</td>\n      <td>161583.000000</td>\n      <td>161583.00000</td>\n      <td>161583.000000</td>\n      <td>161583.000000</td>\n      <td>161583.000000</td>\n      <td>161583.000000</td>\n      <td>17969.000000</td>\n    </tr>\n    <tr>\n      <th>mean</th>\n      <td>214484.722353</td>\n      <td>19.125514</td>\n      <td>2.0</td>\n      <td>65.699071</td>\n      <td>70.744008</td>\n      <td>2.326770e+06</td>\n      <td>10855.409768</td>\n      <td>25.123181</td>\n      <td>181.240205</td>\n      <td>75.235031</td>\n      <td>...</td>\n      <td>57.816892</td>\n      <td>45.757957</td>\n      <td>47.669996</td>\n      <td>45.698588</td>\n      <td>16.52961</td>\n      <td>16.274918</td>\n      <td>16.140374</td>\n      <td>16.288861</td>\n      <td>16.636973</td>\n      <td>39.149090</td>\n    </tr>\n    <tr>\n      <th>std</th>\n      <td>34928.608856</td>\n      <td>2.559318</td>\n      <td>0.0</td>\n      <td>7.040855</td>\n      <td>6.259121</td>\n      <td>6.005746e+06</td>\n      <td>21941.656285</td>\n      <td>4.670207</td>\n      <td>6.750148</td>\n      <td>7.000456</td>\n      <td>...</td>\n      <td>12.329739</td>\n      <td>20.453699</td>\n      <td>21.336404</td>\n      <td>20.935273</td>\n      <td>17.67047</td>\n      <td>16.834294</td>\n      <td>16.476466</td>\n      <td>16.998697</td>\n      <td>17.980143</td>\n      <td>10.503788</td>\n    </tr>\n    <tr>\n      <th>min</th>\n      <td>2.000000</td>\n      <td>15.000000</td>\n      <td>2.0</td>\n      <td>40.000000</td>\n      <td>40.000000</td>\n      <td>1.000000e+03</td>\n      <td>500.000000</td>\n      <td>16.000000</td>\n      <td>154.000000</td>\n      <td>49.000000</td>\n      <td>...</td>\n      <td>3.000000</td>\n      <td>1.000000</td>\n      <td>2.000000</td>\n      <td>3.000000</td>\n      <td>1.00000</td>\n      <td>1.000000</td>\n      <td>1.000000</td>\n      <td>1.000000</td>\n      <td>1.000000</td>\n      <td>12.000000</td>\n    </tr>\n    <tr>\n      <th>25%</th>\n      <td>199159.000000</td>\n      <td>17.000000</td>\n      <td>2.0</td>\n      <td>61.000000</td>\n      <td>66.000000</td>\n      <td>3.250000e+05</td>\n      <td>2000.000000</td>\n      <td>21.000000</td>\n      <td>176.000000</td>\n      <td>70.000000</td>\n      <td>...</td>\n      <td>50.000000</td>\n      <td>26.000000</td>\n      <td>27.000000</td>\n      <td>25.000000</td>\n      <td>8.00000</td>\n      <td>8.000000</td>\n      <td>8.000000</td>\n      <td>8.000000</td>\n      <td>8.000000</td>\n      <td>31.000000</td>\n    </tr>\n    <tr>\n      <th>50%</th>\n      <td>220621.000000</td>\n      <td>19.000000</td>\n      <td>2.0</td>\n      <td>66.000000</td>\n      <td>70.000000</td>\n      <td>7.250000e+05</td>\n      <td>4000.000000</td>\n      <td>25.000000</td>\n      <td>181.000000</td>\n      <td>75.000000</td>\n      <td>...</td>\n      <td>59.000000</td>\n      <td>50.000000</td>\n      <td>54.000000</td>\n      <td>52.000000</td>\n      <td>11.00000</td>\n      <td>11.000000</td>\n      <td>11.000000</td>\n      <td>11.000000</td>\n      <td>11.000000</td>\n      <td>41.000000</td>\n    </tr>\n    <tr>\n      <th>75%</th>\n      <td>236958.000000</td>\n      <td>21.000000</td>\n      <td>2.0</td>\n      <td>70.000000</td>\n      <td>75.000000</td>\n      <td>1.800000e+06</td>\n      <td>10000.000000</td>\n      <td>28.000000</td>\n      <td>186.000000</td>\n      <td>80.000000</td>\n      <td>...</td>\n      <td>66.000000</td>\n      <td>63.000000</td>\n      <td>66.000000</td>\n      <td>64.000000</td>\n      <td>14.00000</td>\n      <td>14.000000</td>\n      <td>14.000000</td>\n      <td>14.000000</td>\n      <td>14.000000</td>\n      <td>46.000000</td>\n    </tr>\n    <tr>\n      <th>max</th>\n      <td>271817.000000</td>\n      <td>23.000000</td>\n      <td>2.0</td>\n      <td>94.000000</td>\n      <td>95.000000</td>\n      <td>1.940000e+08</td>\n      <td>575000.000000</td>\n      <td>54.000000</td>\n      <td>208.000000</td>\n      <td>110.000000</td>\n      <td>...</td>\n      <td>96.000000</td>\n      <td>94.000000</td>\n      <td>94.000000</td>\n      <td>95.000000</td>\n      <td>91.00000</td>\n      <td>92.000000</td>\n      <td>95.000000</td>\n      <td>92.000000</td>\n      <td>94.000000</td>\n      <td>68.000000</td>\n    </tr>\n  </tbody>\n</table>\n<p>8 rows × 63 columns</p>\n</div>"
     },
     "execution_count": 83,
     "metadata": {},
     "output_type": "execute_result"
    }
   ],
   "source": [
    "male_players_legacy.describe()"
   ],
   "metadata": {
    "collapsed": false,
    "ExecuteTime": {
     "end_time": "2024-06-21T18:04:11.539349700Z",
     "start_time": "2024-06-21T18:04:10.942728900Z"
    }
   }
  },
  {
   "cell_type": "code",
   "execution_count": 84,
   "outputs": [
    {
     "name": "stdout",
     "output_type": "stream",
     "text": [
      "<class 'pandas.core.frame.DataFrame'>\n",
      "RangeIndex: 161583 entries, 0 to 161582\n",
      "Columns: 110 entries, player_id to player_face_url\n",
      "dtypes: float64(18), int64(45), object(47)\n",
      "memory usage: 135.6+ MB\n"
     ]
    }
   ],
   "source": [
    "male_players_legacy.info()"
   ],
   "metadata": {
    "collapsed": false,
    "ExecuteTime": {
     "end_time": "2024-06-21T18:04:11.764320800Z",
     "start_time": "2024-06-21T18:04:11.528232700Z"
    }
   }
  },
  {
   "cell_type": "code",
   "execution_count": 85,
   "outputs": [
    {
     "name": "stdout",
     "output_type": "stream",
     "text": [
      "Index(['player_url', 'fifa_update_date', 'short_name', 'long_name',\n",
      "       'player_positions', 'dob', 'league_name', 'club_name', 'club_position',\n",
      "       'club_loaned_from', 'club_joined_date', 'nationality_name',\n",
      "       'nation_position', 'preferred_foot', 'work_rate', 'body_type',\n",
      "       'real_face', 'player_tags', 'player_traits', 'ls', 'st', 'rs', 'lw',\n",
      "       'lf', 'cf', 'rf', 'rw', 'lam', 'cam', 'ram', 'lm', 'lcm', 'cm', 'rcm',\n",
      "       'rm', 'lwb', 'ldm', 'cdm', 'rdm', 'rwb', 'lb', 'lcb', 'cb', 'rcb', 'rb',\n",
      "       'gk', 'player_face_url'],\n",
      "      dtype='object')\n"
     ]
    }
   ],
   "source": [
    "object_columns = male_players_legacy.select_dtypes(include='object').columns\n",
    "\n",
    "print(object_columns)"
   ],
   "metadata": {
    "collapsed": false,
    "ExecuteTime": {
     "end_time": "2024-06-21T18:04:11.766321500Z",
     "start_time": "2024-06-21T18:04:11.695370300Z"
    }
   }
  },
  {
   "cell_type": "code",
   "execution_count": 86,
   "outputs": [],
   "source": [
    "columns_to_drop = male_players_legacy.filter(regex='url|dob').columns\n",
    "\n",
    "male_players_legacy.drop(columns=columns_to_drop, axis=1, inplace=True)"
   ],
   "metadata": {
    "collapsed": false,
    "ExecuteTime": {
     "end_time": "2024-06-21T18:04:11.874026200Z",
     "start_time": "2024-06-21T18:04:11.727997800Z"
    }
   }
  },
  {
   "cell_type": "code",
   "execution_count": 87,
   "outputs": [
    {
     "name": "stdout",
     "output_type": "stream",
     "text": [
      "<class 'pandas.core.frame.DataFrame'>\n",
      "RangeIndex: 161583 entries, 0 to 161582\n",
      "Columns: 107 entries, player_id to gk\n",
      "dtypes: float64(18), int64(45), object(44)\n",
      "memory usage: 131.9+ MB\n"
     ]
    }
   ],
   "source": [
    "male_players_legacy.info()"
   ],
   "metadata": {
    "collapsed": false,
    "ExecuteTime": {
     "end_time": "2024-06-21T18:04:11.889375100Z",
     "start_time": "2024-06-21T18:04:11.875023800Z"
    }
   }
  },
  {
   "cell_type": "code",
   "execution_count": 88,
   "outputs": [],
   "source": [
    "L = []\n",
    "L_less = []\n",
    "for i in male_players_legacy.columns:\n",
    "    if male_players_legacy[i].isnull().sum()<(0.3 * male_players_legacy.shape[0]):\n",
    "        L.append(i)\n",
    "    else:\n",
    "        L_less.append(i)"
   ],
   "metadata": {
    "collapsed": false,
    "ExecuteTime": {
     "end_time": "2024-06-21T18:04:12.163083700Z",
     "start_time": "2024-06-21T18:04:11.890372200Z"
    }
   }
  },
  {
   "cell_type": "code",
   "execution_count": 89,
   "outputs": [],
   "source": [
    "male_players_legacy = male_players_legacy[L]"
   ],
   "metadata": {
    "collapsed": false,
    "ExecuteTime": {
     "end_time": "2024-06-21T18:04:12.243217700Z",
     "start_time": "2024-06-21T18:04:12.164084900Z"
    }
   }
  },
  {
   "cell_type": "code",
   "execution_count": 90,
   "outputs": [
    {
     "name": "stdout",
     "output_type": "stream",
     "text": [
      "<class 'pandas.core.frame.DataFrame'>\n",
      "RangeIndex: 161583 entries, 0 to 161582\n",
      "Data columns (total 99 columns):\n",
      " #   Column                          Non-Null Count   Dtype  \n",
      "---  ------                          --------------   -----  \n",
      " 0   player_id                       161583 non-null  int64  \n",
      " 1   fifa_version                    161583 non-null  int64  \n",
      " 2   fifa_update                     161583 non-null  int64  \n",
      " 3   fifa_update_date                161583 non-null  object \n",
      " 4   short_name                      161583 non-null  object \n",
      " 5   long_name                       161583 non-null  object \n",
      " 6   player_positions                161583 non-null  object \n",
      " 7   overall                         161583 non-null  int64  \n",
      " 8   potential                       161583 non-null  int64  \n",
      " 9   value_eur                       159530 non-null  float64\n",
      " 10  wage_eur                        159822 non-null  float64\n",
      " 11  age                             161583 non-null  int64  \n",
      " 12  height_cm                       161583 non-null  int64  \n",
      " 13  weight_kg                       161583 non-null  int64  \n",
      " 14  league_id                       159810 non-null  float64\n",
      " 15  league_name                     159810 non-null  object \n",
      " 16  league_level                    158866 non-null  float64\n",
      " 17  club_team_id                    159810 non-null  float64\n",
      " 18  club_name                       159810 non-null  object \n",
      " 19  club_position                   159810 non-null  object \n",
      " 20  club_jersey_number              159810 non-null  float64\n",
      " 21  club_joined_date                150272 non-null  object \n",
      " 22  club_contract_valid_until_year  159810 non-null  float64\n",
      " 23  nationality_id                  161583 non-null  int64  \n",
      " 24  nationality_name                161583 non-null  object \n",
      " 25  preferred_foot                  161583 non-null  object \n",
      " 26  weak_foot                       161583 non-null  int64  \n",
      " 27  skill_moves                     161583 non-null  int64  \n",
      " 28  international_reputation        161583 non-null  int64  \n",
      " 29  work_rate                       161583 non-null  object \n",
      " 30  body_type                       161583 non-null  object \n",
      " 31  real_face                       161583 non-null  object \n",
      " 32  pace                            143614 non-null  float64\n",
      " 33  shooting                        143614 non-null  float64\n",
      " 34  passing                         143614 non-null  float64\n",
      " 35  dribbling                       143614 non-null  float64\n",
      " 36  defending                       143614 non-null  float64\n",
      " 37  physic                          143614 non-null  float64\n",
      " 38  attacking_crossing              161583 non-null  int64  \n",
      " 39  attacking_finishing             161583 non-null  int64  \n",
      " 40  attacking_heading_accuracy      161583 non-null  int64  \n",
      " 41  attacking_short_passing         161583 non-null  int64  \n",
      " 42  attacking_volleys               161583 non-null  int64  \n",
      " 43  skill_dribbling                 161583 non-null  int64  \n",
      " 44  skill_curve                     161583 non-null  int64  \n",
      " 45  skill_fk_accuracy               161583 non-null  int64  \n",
      " 46  skill_long_passing              161583 non-null  int64  \n",
      " 47  skill_ball_control              161583 non-null  int64  \n",
      " 48  movement_acceleration           161583 non-null  int64  \n",
      " 49  movement_sprint_speed           161583 non-null  int64  \n",
      " 50  movement_agility                161583 non-null  int64  \n",
      " 51  movement_reactions              161583 non-null  int64  \n",
      " 52  movement_balance                161583 non-null  int64  \n",
      " 53  power_shot_power                161583 non-null  int64  \n",
      " 54  power_jumping                   161583 non-null  int64  \n",
      " 55  power_stamina                   161583 non-null  int64  \n",
      " 56  power_strength                  161583 non-null  int64  \n",
      " 57  power_long_shots                161583 non-null  int64  \n",
      " 58  mentality_aggression            161583 non-null  int64  \n",
      " 59  mentality_interceptions         161583 non-null  int64  \n",
      " 60  mentality_positioning           161583 non-null  int64  \n",
      " 61  mentality_vision                161583 non-null  int64  \n",
      " 62  mentality_penalties             161583 non-null  int64  \n",
      " 63  mentality_composure             128722 non-null  float64\n",
      " 64  defending_marking_awareness     161583 non-null  int64  \n",
      " 65  defending_standing_tackle       161583 non-null  int64  \n",
      " 66  defending_sliding_tackle        161583 non-null  int64  \n",
      " 67  goalkeeping_diving              161583 non-null  int64  \n",
      " 68  goalkeeping_handling            161583 non-null  int64  \n",
      " 69  goalkeeping_kicking             161583 non-null  int64  \n",
      " 70  goalkeeping_positioning         161583 non-null  int64  \n",
      " 71  goalkeeping_reflexes            161583 non-null  int64  \n",
      " 72  ls                              161583 non-null  object \n",
      " 73  st                              161583 non-null  object \n",
      " 74  rs                              161583 non-null  object \n",
      " 75  lw                              161583 non-null  object \n",
      " 76  lf                              161583 non-null  object \n",
      " 77  cf                              161583 non-null  object \n",
      " 78  rf                              161583 non-null  object \n",
      " 79  rw                              161583 non-null  object \n",
      " 80  lam                             161583 non-null  object \n",
      " 81  cam                             161583 non-null  object \n",
      " 82  ram                             161583 non-null  object \n",
      " 83  lm                              161583 non-null  object \n",
      " 84  lcm                             161583 non-null  object \n",
      " 85  cm                              161583 non-null  object \n",
      " 86  rcm                             161583 non-null  object \n",
      " 87  rm                              161583 non-null  object \n",
      " 88  lwb                             161583 non-null  object \n",
      " 89  ldm                             161583 non-null  object \n",
      " 90  cdm                             161583 non-null  object \n",
      " 91  rdm                             161583 non-null  object \n",
      " 92  rwb                             161583 non-null  object \n",
      " 93  lb                              161583 non-null  object \n",
      " 94  lcb                             161583 non-null  object \n",
      " 95  cb                              161583 non-null  object \n",
      " 96  rcb                             161583 non-null  object \n",
      " 97  rb                              161583 non-null  object \n",
      " 98  gk                              161583 non-null  object \n",
      "dtypes: float64(14), int64(45), object(40)\n",
      "memory usage: 122.0+ MB\n"
     ]
    }
   ],
   "source": [
    "male_players_legacy.info()"
   ],
   "metadata": {
    "collapsed": false,
    "ExecuteTime": {
     "end_time": "2024-06-21T18:04:12.496591400Z",
     "start_time": "2024-06-21T18:04:12.246682800Z"
    }
   }
  },
  {
   "cell_type": "code",
   "execution_count": 91,
   "outputs": [
    {
     "name": "stderr",
     "output_type": "stream",
     "text": [
      "C:\\Users\\mcnob\\AppData\\Local\\Temp\\ipykernel_3992\\1028104077.py:5: SettingWithCopyWarning: \n",
      "A value is trying to be set on a copy of a slice from a DataFrame.\n",
      "Try using .loc[row_indexer,col_indexer] = value instead\n",
      "\n",
      "See the caveats in the documentation: https://pandas.pydata.org/pandas-docs/stable/user_guide/indexing.html#returning-a-view-versus-a-copy\n",
      "  male_players_legacy[numeric_cols] = num_imputer.fit_transform(male_players_legacy[numeric_cols])\n",
      "C:\\Users\\mcnob\\AppData\\Local\\Temp\\ipykernel_3992\\1028104077.py:8: SettingWithCopyWarning: \n",
      "A value is trying to be set on a copy of a slice from a DataFrame.\n",
      "Try using .loc[row_indexer,col_indexer] = value instead\n",
      "\n",
      "See the caveats in the documentation: https://pandas.pydata.org/pandas-docs/stable/user_guide/indexing.html#returning-a-view-versus-a-copy\n",
      "  male_players_legacy[male_players_legacy.select_dtypes(include='object').columns] = obj_imputer.fit_transform(male_players_legacy[male_players_legacy.select_dtypes\n"
     ]
    }
   ],
   "source": [
    "from sklearn.impute import SimpleImputer\n",
    "\n",
    "numeric_cols = male_players_legacy.select_dtypes(include=['number']).columns\n",
    "num_imputer = SimpleImputer(strategy='median')\n",
    "male_players_legacy[numeric_cols] = num_imputer.fit_transform(male_players_legacy[numeric_cols])\n",
    "\n",
    "obj_imputer = SimpleImputer(strategy='most_frequent')\n",
    "male_players_legacy[male_players_legacy.select_dtypes(include='object').columns] = obj_imputer.fit_transform(male_players_legacy[male_players_legacy.select_dtypes\n",
    "(include='object').columns])"
   ],
   "metadata": {
    "collapsed": false,
    "ExecuteTime": {
     "end_time": "2024-06-21T18:04:15.994947700Z",
     "start_time": "2024-06-21T18:04:12.498590100Z"
    }
   }
  },
  {
   "cell_type": "code",
   "execution_count": 92,
   "outputs": [
    {
     "name": "stdout",
     "output_type": "stream",
     "text": [
      "<class 'pandas.core.frame.DataFrame'>\n",
      "RangeIndex: 161583 entries, 0 to 161582\n",
      "Data columns (total 99 columns):\n",
      " #   Column                          Non-Null Count   Dtype  \n",
      "---  ------                          --------------   -----  \n",
      " 0   player_id                       161583 non-null  float64\n",
      " 1   fifa_version                    161583 non-null  float64\n",
      " 2   fifa_update                     161583 non-null  float64\n",
      " 3   fifa_update_date                161583 non-null  object \n",
      " 4   short_name                      161583 non-null  object \n",
      " 5   long_name                       161583 non-null  object \n",
      " 6   player_positions                161583 non-null  object \n",
      " 7   overall                         161583 non-null  float64\n",
      " 8   potential                       161583 non-null  float64\n",
      " 9   value_eur                       161583 non-null  float64\n",
      " 10  wage_eur                        161583 non-null  float64\n",
      " 11  age                             161583 non-null  float64\n",
      " 12  height_cm                       161583 non-null  float64\n",
      " 13  weight_kg                       161583 non-null  float64\n",
      " 14  league_id                       161583 non-null  float64\n",
      " 15  league_name                     161583 non-null  object \n",
      " 16  league_level                    161583 non-null  float64\n",
      " 17  club_team_id                    161583 non-null  float64\n",
      " 18  club_name                       161583 non-null  object \n",
      " 19  club_position                   161583 non-null  object \n",
      " 20  club_jersey_number              161583 non-null  float64\n",
      " 21  club_joined_date                161583 non-null  object \n",
      " 22  club_contract_valid_until_year  161583 non-null  float64\n",
      " 23  nationality_id                  161583 non-null  float64\n",
      " 24  nationality_name                161583 non-null  object \n",
      " 25  preferred_foot                  161583 non-null  object \n",
      " 26  weak_foot                       161583 non-null  float64\n",
      " 27  skill_moves                     161583 non-null  float64\n",
      " 28  international_reputation        161583 non-null  float64\n",
      " 29  work_rate                       161583 non-null  object \n",
      " 30  body_type                       161583 non-null  object \n",
      " 31  real_face                       161583 non-null  object \n",
      " 32  pace                            161583 non-null  float64\n",
      " 33  shooting                        161583 non-null  float64\n",
      " 34  passing                         161583 non-null  float64\n",
      " 35  dribbling                       161583 non-null  float64\n",
      " 36  defending                       161583 non-null  float64\n",
      " 37  physic                          161583 non-null  float64\n",
      " 38  attacking_crossing              161583 non-null  float64\n",
      " 39  attacking_finishing             161583 non-null  float64\n",
      " 40  attacking_heading_accuracy      161583 non-null  float64\n",
      " 41  attacking_short_passing         161583 non-null  float64\n",
      " 42  attacking_volleys               161583 non-null  float64\n",
      " 43  skill_dribbling                 161583 non-null  float64\n",
      " 44  skill_curve                     161583 non-null  float64\n",
      " 45  skill_fk_accuracy               161583 non-null  float64\n",
      " 46  skill_long_passing              161583 non-null  float64\n",
      " 47  skill_ball_control              161583 non-null  float64\n",
      " 48  movement_acceleration           161583 non-null  float64\n",
      " 49  movement_sprint_speed           161583 non-null  float64\n",
      " 50  movement_agility                161583 non-null  float64\n",
      " 51  movement_reactions              161583 non-null  float64\n",
      " 52  movement_balance                161583 non-null  float64\n",
      " 53  power_shot_power                161583 non-null  float64\n",
      " 54  power_jumping                   161583 non-null  float64\n",
      " 55  power_stamina                   161583 non-null  float64\n",
      " 56  power_strength                  161583 non-null  float64\n",
      " 57  power_long_shots                161583 non-null  float64\n",
      " 58  mentality_aggression            161583 non-null  float64\n",
      " 59  mentality_interceptions         161583 non-null  float64\n",
      " 60  mentality_positioning           161583 non-null  float64\n",
      " 61  mentality_vision                161583 non-null  float64\n",
      " 62  mentality_penalties             161583 non-null  float64\n",
      " 63  mentality_composure             161583 non-null  float64\n",
      " 64  defending_marking_awareness     161583 non-null  float64\n",
      " 65  defending_standing_tackle       161583 non-null  float64\n",
      " 66  defending_sliding_tackle        161583 non-null  float64\n",
      " 67  goalkeeping_diving              161583 non-null  float64\n",
      " 68  goalkeeping_handling            161583 non-null  float64\n",
      " 69  goalkeeping_kicking             161583 non-null  float64\n",
      " 70  goalkeeping_positioning         161583 non-null  float64\n",
      " 71  goalkeeping_reflexes            161583 non-null  float64\n",
      " 72  ls                              161583 non-null  object \n",
      " 73  st                              161583 non-null  object \n",
      " 74  rs                              161583 non-null  object \n",
      " 75  lw                              161583 non-null  object \n",
      " 76  lf                              161583 non-null  object \n",
      " 77  cf                              161583 non-null  object \n",
      " 78  rf                              161583 non-null  object \n",
      " 79  rw                              161583 non-null  object \n",
      " 80  lam                             161583 non-null  object \n",
      " 81  cam                             161583 non-null  object \n",
      " 82  ram                             161583 non-null  object \n",
      " 83  lm                              161583 non-null  object \n",
      " 84  lcm                             161583 non-null  object \n",
      " 85  cm                              161583 non-null  object \n",
      " 86  rcm                             161583 non-null  object \n",
      " 87  rm                              161583 non-null  object \n",
      " 88  lwb                             161583 non-null  object \n",
      " 89  ldm                             161583 non-null  object \n",
      " 90  cdm                             161583 non-null  object \n",
      " 91  rdm                             161583 non-null  object \n",
      " 92  rwb                             161583 non-null  object \n",
      " 93  lb                              161583 non-null  object \n",
      " 94  lcb                             161583 non-null  object \n",
      " 95  cb                              161583 non-null  object \n",
      " 96  rcb                             161583 non-null  object \n",
      " 97  rb                              161583 non-null  object \n",
      " 98  gk                              161583 non-null  object \n",
      "dtypes: float64(59), object(40)\n",
      "memory usage: 122.0+ MB\n"
     ]
    }
   ],
   "source": [
    "male_players_legacy.info()"
   ],
   "metadata": {
    "collapsed": false,
    "ExecuteTime": {
     "end_time": "2024-06-21T18:04:16.219483600Z",
     "start_time": "2024-06-21T18:04:15.997948600Z"
    }
   }
  },
  {
   "cell_type": "code",
   "execution_count": 93,
   "outputs": [
    {
     "name": "stderr",
     "output_type": "stream",
     "text": [
      "C:\\Users\\mcnob\\AppData\\Local\\Temp\\ipykernel_3992\\91425537.py:5: SettingWithCopyWarning: \n",
      "A value is trying to be set on a copy of a slice from a DataFrame\n",
      "\n",
      "See the caveats in the documentation: https://pandas.pydata.org/pandas-docs/stable/user_guide/indexing.html#returning-a-view-versus-a-copy\n",
      "  male_players_legacy.drop(columns=columns_to_drop, axis=1, inplace=True)\n"
     ]
    }
   ],
   "source": [
    "columns_to_drop = ['player_id','fifa_version','short_name', 'long_name','player_positions','club_team_id',\n",
    "                   'club_name','club_joined_date','club_contract_valid_until_year','league_name',\n",
    "                   'league_level','club_position','club_jersey_number','fifa_update','fifa_update_date'\n",
    "                   ,'nationality_id','nationality_name','real_face']\n",
    "male_players_legacy.drop(columns=columns_to_drop, axis=1, inplace=True)"
   ],
   "metadata": {
    "collapsed": false,
    "ExecuteTime": {
     "end_time": "2024-06-21T18:04:16.342192Z",
     "start_time": "2024-06-21T18:04:16.243485800Z"
    }
   }
  },
  {
   "cell_type": "code",
   "execution_count": 94,
   "outputs": [
    {
     "name": "stdout",
     "output_type": "stream",
     "text": [
      "<class 'pandas.core.frame.DataFrame'>\n",
      "RangeIndex: 161583 entries, 0 to 161582\n",
      "Data columns (total 81 columns):\n",
      " #   Column                       Non-Null Count   Dtype  \n",
      "---  ------                       --------------   -----  \n",
      " 0   overall                      161583 non-null  float64\n",
      " 1   potential                    161583 non-null  float64\n",
      " 2   value_eur                    161583 non-null  float64\n",
      " 3   wage_eur                     161583 non-null  float64\n",
      " 4   age                          161583 non-null  float64\n",
      " 5   height_cm                    161583 non-null  float64\n",
      " 6   weight_kg                    161583 non-null  float64\n",
      " 7   league_id                    161583 non-null  float64\n",
      " 8   preferred_foot               161583 non-null  object \n",
      " 9   weak_foot                    161583 non-null  float64\n",
      " 10  skill_moves                  161583 non-null  float64\n",
      " 11  international_reputation     161583 non-null  float64\n",
      " 12  work_rate                    161583 non-null  object \n",
      " 13  body_type                    161583 non-null  object \n",
      " 14  pace                         161583 non-null  float64\n",
      " 15  shooting                     161583 non-null  float64\n",
      " 16  passing                      161583 non-null  float64\n",
      " 17  dribbling                    161583 non-null  float64\n",
      " 18  defending                    161583 non-null  float64\n",
      " 19  physic                       161583 non-null  float64\n",
      " 20  attacking_crossing           161583 non-null  float64\n",
      " 21  attacking_finishing          161583 non-null  float64\n",
      " 22  attacking_heading_accuracy   161583 non-null  float64\n",
      " 23  attacking_short_passing      161583 non-null  float64\n",
      " 24  attacking_volleys            161583 non-null  float64\n",
      " 25  skill_dribbling              161583 non-null  float64\n",
      " 26  skill_curve                  161583 non-null  float64\n",
      " 27  skill_fk_accuracy            161583 non-null  float64\n",
      " 28  skill_long_passing           161583 non-null  float64\n",
      " 29  skill_ball_control           161583 non-null  float64\n",
      " 30  movement_acceleration        161583 non-null  float64\n",
      " 31  movement_sprint_speed        161583 non-null  float64\n",
      " 32  movement_agility             161583 non-null  float64\n",
      " 33  movement_reactions           161583 non-null  float64\n",
      " 34  movement_balance             161583 non-null  float64\n",
      " 35  power_shot_power             161583 non-null  float64\n",
      " 36  power_jumping                161583 non-null  float64\n",
      " 37  power_stamina                161583 non-null  float64\n",
      " 38  power_strength               161583 non-null  float64\n",
      " 39  power_long_shots             161583 non-null  float64\n",
      " 40  mentality_aggression         161583 non-null  float64\n",
      " 41  mentality_interceptions      161583 non-null  float64\n",
      " 42  mentality_positioning        161583 non-null  float64\n",
      " 43  mentality_vision             161583 non-null  float64\n",
      " 44  mentality_penalties          161583 non-null  float64\n",
      " 45  mentality_composure          161583 non-null  float64\n",
      " 46  defending_marking_awareness  161583 non-null  float64\n",
      " 47  defending_standing_tackle    161583 non-null  float64\n",
      " 48  defending_sliding_tackle     161583 non-null  float64\n",
      " 49  goalkeeping_diving           161583 non-null  float64\n",
      " 50  goalkeeping_handling         161583 non-null  float64\n",
      " 51  goalkeeping_kicking          161583 non-null  float64\n",
      " 52  goalkeeping_positioning      161583 non-null  float64\n",
      " 53  goalkeeping_reflexes         161583 non-null  float64\n",
      " 54  ls                           161583 non-null  object \n",
      " 55  st                           161583 non-null  object \n",
      " 56  rs                           161583 non-null  object \n",
      " 57  lw                           161583 non-null  object \n",
      " 58  lf                           161583 non-null  object \n",
      " 59  cf                           161583 non-null  object \n",
      " 60  rf                           161583 non-null  object \n",
      " 61  rw                           161583 non-null  object \n",
      " 62  lam                          161583 non-null  object \n",
      " 63  cam                          161583 non-null  object \n",
      " 64  ram                          161583 non-null  object \n",
      " 65  lm                           161583 non-null  object \n",
      " 66  lcm                          161583 non-null  object \n",
      " 67  cm                           161583 non-null  object \n",
      " 68  rcm                          161583 non-null  object \n",
      " 69  rm                           161583 non-null  object \n",
      " 70  lwb                          161583 non-null  object \n",
      " 71  ldm                          161583 non-null  object \n",
      " 72  cdm                          161583 non-null  object \n",
      " 73  rdm                          161583 non-null  object \n",
      " 74  rwb                          161583 non-null  object \n",
      " 75  lb                           161583 non-null  object \n",
      " 76  lcb                          161583 non-null  object \n",
      " 77  cb                           161583 non-null  object \n",
      " 78  rcb                          161583 non-null  object \n",
      " 79  rb                           161583 non-null  object \n",
      " 80  gk                           161583 non-null  object \n",
      "dtypes: float64(51), object(30)\n",
      "memory usage: 99.9+ MB\n"
     ]
    }
   ],
   "source": [
    "male_players_legacy.info()"
   ],
   "metadata": {
    "collapsed": false,
    "ExecuteTime": {
     "end_time": "2024-06-21T18:04:16.534448500Z",
     "start_time": "2024-06-21T18:04:16.345188800Z"
    }
   }
  },
  {
   "cell_type": "code",
   "execution_count": 95,
   "outputs": [
    {
     "name": "stderr",
     "output_type": "stream",
     "text": [
      "C:\\Users\\mcnob\\AppData\\Local\\Temp\\ipykernel_3992\\1035638749.py:10: SettingWithCopyWarning: \n",
      "A value is trying to be set on a copy of a slice from a DataFrame.\n",
      "Try using .loc[row_indexer,col_indexer] = value instead\n",
      "\n",
      "See the caveats in the documentation: https://pandas.pydata.org/pandas-docs/stable/user_guide/indexing.html#returning-a-view-versus-a-copy\n",
      "  male_players_legacy[col] = male_players_legacy[col].apply(lambda x: eval(x) if isinstance(x, str) and re.match(r'^\\d+[\\+\\-]\\d+$', x) else x)\n",
      "C:\\Users\\mcnob\\AppData\\Local\\Temp\\ipykernel_3992\\1035638749.py:10: SettingWithCopyWarning: \n",
      "A value is trying to be set on a copy of a slice from a DataFrame.\n",
      "Try using .loc[row_indexer,col_indexer] = value instead\n",
      "\n",
      "See the caveats in the documentation: https://pandas.pydata.org/pandas-docs/stable/user_guide/indexing.html#returning-a-view-versus-a-copy\n",
      "  male_players_legacy[col] = male_players_legacy[col].apply(lambda x: eval(x) if isinstance(x, str) and re.match(r'^\\d+[\\+\\-]\\d+$', x) else x)\n",
      "C:\\Users\\mcnob\\AppData\\Local\\Temp\\ipykernel_3992\\1035638749.py:10: SettingWithCopyWarning: \n",
      "A value is trying to be set on a copy of a slice from a DataFrame.\n",
      "Try using .loc[row_indexer,col_indexer] = value instead\n",
      "\n",
      "See the caveats in the documentation: https://pandas.pydata.org/pandas-docs/stable/user_guide/indexing.html#returning-a-view-versus-a-copy\n",
      "  male_players_legacy[col] = male_players_legacy[col].apply(lambda x: eval(x) if isinstance(x, str) and re.match(r'^\\d+[\\+\\-]\\d+$', x) else x)\n",
      "C:\\Users\\mcnob\\AppData\\Local\\Temp\\ipykernel_3992\\1035638749.py:10: SettingWithCopyWarning: \n",
      "A value is trying to be set on a copy of a slice from a DataFrame.\n",
      "Try using .loc[row_indexer,col_indexer] = value instead\n",
      "\n",
      "See the caveats in the documentation: https://pandas.pydata.org/pandas-docs/stable/user_guide/indexing.html#returning-a-view-versus-a-copy\n",
      "  male_players_legacy[col] = male_players_legacy[col].apply(lambda x: eval(x) if isinstance(x, str) and re.match(r'^\\d+[\\+\\-]\\d+$', x) else x)\n",
      "C:\\Users\\mcnob\\AppData\\Local\\Temp\\ipykernel_3992\\1035638749.py:10: SettingWithCopyWarning: \n",
      "A value is trying to be set on a copy of a slice from a DataFrame.\n",
      "Try using .loc[row_indexer,col_indexer] = value instead\n",
      "\n",
      "See the caveats in the documentation: https://pandas.pydata.org/pandas-docs/stable/user_guide/indexing.html#returning-a-view-versus-a-copy\n",
      "  male_players_legacy[col] = male_players_legacy[col].apply(lambda x: eval(x) if isinstance(x, str) and re.match(r'^\\d+[\\+\\-]\\d+$', x) else x)\n",
      "C:\\Users\\mcnob\\AppData\\Local\\Temp\\ipykernel_3992\\1035638749.py:10: SettingWithCopyWarning: \n",
      "A value is trying to be set on a copy of a slice from a DataFrame.\n",
      "Try using .loc[row_indexer,col_indexer] = value instead\n",
      "\n",
      "See the caveats in the documentation: https://pandas.pydata.org/pandas-docs/stable/user_guide/indexing.html#returning-a-view-versus-a-copy\n",
      "  male_players_legacy[col] = male_players_legacy[col].apply(lambda x: eval(x) if isinstance(x, str) and re.match(r'^\\d+[\\+\\-]\\d+$', x) else x)\n",
      "C:\\Users\\mcnob\\AppData\\Local\\Temp\\ipykernel_3992\\1035638749.py:10: SettingWithCopyWarning: \n",
      "A value is trying to be set on a copy of a slice from a DataFrame.\n",
      "Try using .loc[row_indexer,col_indexer] = value instead\n",
      "\n",
      "See the caveats in the documentation: https://pandas.pydata.org/pandas-docs/stable/user_guide/indexing.html#returning-a-view-versus-a-copy\n",
      "  male_players_legacy[col] = male_players_legacy[col].apply(lambda x: eval(x) if isinstance(x, str) and re.match(r'^\\d+[\\+\\-]\\d+$', x) else x)\n",
      "C:\\Users\\mcnob\\AppData\\Local\\Temp\\ipykernel_3992\\1035638749.py:10: SettingWithCopyWarning: \n",
      "A value is trying to be set on a copy of a slice from a DataFrame.\n",
      "Try using .loc[row_indexer,col_indexer] = value instead\n",
      "\n",
      "See the caveats in the documentation: https://pandas.pydata.org/pandas-docs/stable/user_guide/indexing.html#returning-a-view-versus-a-copy\n",
      "  male_players_legacy[col] = male_players_legacy[col].apply(lambda x: eval(x) if isinstance(x, str) and re.match(r'^\\d+[\\+\\-]\\d+$', x) else x)\n",
      "C:\\Users\\mcnob\\AppData\\Local\\Temp\\ipykernel_3992\\1035638749.py:10: SettingWithCopyWarning: \n",
      "A value is trying to be set on a copy of a slice from a DataFrame.\n",
      "Try using .loc[row_indexer,col_indexer] = value instead\n",
      "\n",
      "See the caveats in the documentation: https://pandas.pydata.org/pandas-docs/stable/user_guide/indexing.html#returning-a-view-versus-a-copy\n",
      "  male_players_legacy[col] = male_players_legacy[col].apply(lambda x: eval(x) if isinstance(x, str) and re.match(r'^\\d+[\\+\\-]\\d+$', x) else x)\n",
      "C:\\Users\\mcnob\\AppData\\Local\\Temp\\ipykernel_3992\\1035638749.py:10: SettingWithCopyWarning: \n",
      "A value is trying to be set on a copy of a slice from a DataFrame.\n",
      "Try using .loc[row_indexer,col_indexer] = value instead\n",
      "\n",
      "See the caveats in the documentation: https://pandas.pydata.org/pandas-docs/stable/user_guide/indexing.html#returning-a-view-versus-a-copy\n",
      "  male_players_legacy[col] = male_players_legacy[col].apply(lambda x: eval(x) if isinstance(x, str) and re.match(r'^\\d+[\\+\\-]\\d+$', x) else x)\n",
      "C:\\Users\\mcnob\\AppData\\Local\\Temp\\ipykernel_3992\\1035638749.py:10: SettingWithCopyWarning: \n",
      "A value is trying to be set on a copy of a slice from a DataFrame.\n",
      "Try using .loc[row_indexer,col_indexer] = value instead\n",
      "\n",
      "See the caveats in the documentation: https://pandas.pydata.org/pandas-docs/stable/user_guide/indexing.html#returning-a-view-versus-a-copy\n",
      "  male_players_legacy[col] = male_players_legacy[col].apply(lambda x: eval(x) if isinstance(x, str) and re.match(r'^\\d+[\\+\\-]\\d+$', x) else x)\n",
      "C:\\Users\\mcnob\\AppData\\Local\\Temp\\ipykernel_3992\\1035638749.py:10: SettingWithCopyWarning: \n",
      "A value is trying to be set on a copy of a slice from a DataFrame.\n",
      "Try using .loc[row_indexer,col_indexer] = value instead\n",
      "\n",
      "See the caveats in the documentation: https://pandas.pydata.org/pandas-docs/stable/user_guide/indexing.html#returning-a-view-versus-a-copy\n",
      "  male_players_legacy[col] = male_players_legacy[col].apply(lambda x: eval(x) if isinstance(x, str) and re.match(r'^\\d+[\\+\\-]\\d+$', x) else x)\n",
      "C:\\Users\\mcnob\\AppData\\Local\\Temp\\ipykernel_3992\\1035638749.py:10: SettingWithCopyWarning: \n",
      "A value is trying to be set on a copy of a slice from a DataFrame.\n",
      "Try using .loc[row_indexer,col_indexer] = value instead\n",
      "\n",
      "See the caveats in the documentation: https://pandas.pydata.org/pandas-docs/stable/user_guide/indexing.html#returning-a-view-versus-a-copy\n",
      "  male_players_legacy[col] = male_players_legacy[col].apply(lambda x: eval(x) if isinstance(x, str) and re.match(r'^\\d+[\\+\\-]\\d+$', x) else x)\n",
      "C:\\Users\\mcnob\\AppData\\Local\\Temp\\ipykernel_3992\\1035638749.py:10: SettingWithCopyWarning: \n",
      "A value is trying to be set on a copy of a slice from a DataFrame.\n",
      "Try using .loc[row_indexer,col_indexer] = value instead\n",
      "\n",
      "See the caveats in the documentation: https://pandas.pydata.org/pandas-docs/stable/user_guide/indexing.html#returning-a-view-versus-a-copy\n",
      "  male_players_legacy[col] = male_players_legacy[col].apply(lambda x: eval(x) if isinstance(x, str) and re.match(r'^\\d+[\\+\\-]\\d+$', x) else x)\n",
      "C:\\Users\\mcnob\\AppData\\Local\\Temp\\ipykernel_3992\\1035638749.py:10: SettingWithCopyWarning: \n",
      "A value is trying to be set on a copy of a slice from a DataFrame.\n",
      "Try using .loc[row_indexer,col_indexer] = value instead\n",
      "\n",
      "See the caveats in the documentation: https://pandas.pydata.org/pandas-docs/stable/user_guide/indexing.html#returning-a-view-versus-a-copy\n",
      "  male_players_legacy[col] = male_players_legacy[col].apply(lambda x: eval(x) if isinstance(x, str) and re.match(r'^\\d+[\\+\\-]\\d+$', x) else x)\n",
      "C:\\Users\\mcnob\\AppData\\Local\\Temp\\ipykernel_3992\\1035638749.py:10: SettingWithCopyWarning: \n",
      "A value is trying to be set on a copy of a slice from a DataFrame.\n",
      "Try using .loc[row_indexer,col_indexer] = value instead\n",
      "\n",
      "See the caveats in the documentation: https://pandas.pydata.org/pandas-docs/stable/user_guide/indexing.html#returning-a-view-versus-a-copy\n",
      "  male_players_legacy[col] = male_players_legacy[col].apply(lambda x: eval(x) if isinstance(x, str) and re.match(r'^\\d+[\\+\\-]\\d+$', x) else x)\n",
      "C:\\Users\\mcnob\\AppData\\Local\\Temp\\ipykernel_3992\\1035638749.py:10: SettingWithCopyWarning: \n",
      "A value is trying to be set on a copy of a slice from a DataFrame.\n",
      "Try using .loc[row_indexer,col_indexer] = value instead\n",
      "\n",
      "See the caveats in the documentation: https://pandas.pydata.org/pandas-docs/stable/user_guide/indexing.html#returning-a-view-versus-a-copy\n",
      "  male_players_legacy[col] = male_players_legacy[col].apply(lambda x: eval(x) if isinstance(x, str) and re.match(r'^\\d+[\\+\\-]\\d+$', x) else x)\n",
      "C:\\Users\\mcnob\\AppData\\Local\\Temp\\ipykernel_3992\\1035638749.py:10: SettingWithCopyWarning: \n",
      "A value is trying to be set on a copy of a slice from a DataFrame.\n",
      "Try using .loc[row_indexer,col_indexer] = value instead\n",
      "\n",
      "See the caveats in the documentation: https://pandas.pydata.org/pandas-docs/stable/user_guide/indexing.html#returning-a-view-versus-a-copy\n",
      "  male_players_legacy[col] = male_players_legacy[col].apply(lambda x: eval(x) if isinstance(x, str) and re.match(r'^\\d+[\\+\\-]\\d+$', x) else x)\n",
      "C:\\Users\\mcnob\\AppData\\Local\\Temp\\ipykernel_3992\\1035638749.py:10: SettingWithCopyWarning: \n",
      "A value is trying to be set on a copy of a slice from a DataFrame.\n",
      "Try using .loc[row_indexer,col_indexer] = value instead\n",
      "\n",
      "See the caveats in the documentation: https://pandas.pydata.org/pandas-docs/stable/user_guide/indexing.html#returning-a-view-versus-a-copy\n",
      "  male_players_legacy[col] = male_players_legacy[col].apply(lambda x: eval(x) if isinstance(x, str) and re.match(r'^\\d+[\\+\\-]\\d+$', x) else x)\n",
      "C:\\Users\\mcnob\\AppData\\Local\\Temp\\ipykernel_3992\\1035638749.py:10: SettingWithCopyWarning: \n",
      "A value is trying to be set on a copy of a slice from a DataFrame.\n",
      "Try using .loc[row_indexer,col_indexer] = value instead\n",
      "\n",
      "See the caveats in the documentation: https://pandas.pydata.org/pandas-docs/stable/user_guide/indexing.html#returning-a-view-versus-a-copy\n",
      "  male_players_legacy[col] = male_players_legacy[col].apply(lambda x: eval(x) if isinstance(x, str) and re.match(r'^\\d+[\\+\\-]\\d+$', x) else x)\n",
      "C:\\Users\\mcnob\\AppData\\Local\\Temp\\ipykernel_3992\\1035638749.py:10: SettingWithCopyWarning: \n",
      "A value is trying to be set on a copy of a slice from a DataFrame.\n",
      "Try using .loc[row_indexer,col_indexer] = value instead\n",
      "\n",
      "See the caveats in the documentation: https://pandas.pydata.org/pandas-docs/stable/user_guide/indexing.html#returning-a-view-versus-a-copy\n",
      "  male_players_legacy[col] = male_players_legacy[col].apply(lambda x: eval(x) if isinstance(x, str) and re.match(r'^\\d+[\\+\\-]\\d+$', x) else x)\n",
      "C:\\Users\\mcnob\\AppData\\Local\\Temp\\ipykernel_3992\\1035638749.py:10: SettingWithCopyWarning: \n",
      "A value is trying to be set on a copy of a slice from a DataFrame.\n",
      "Try using .loc[row_indexer,col_indexer] = value instead\n",
      "\n",
      "See the caveats in the documentation: https://pandas.pydata.org/pandas-docs/stable/user_guide/indexing.html#returning-a-view-versus-a-copy\n",
      "  male_players_legacy[col] = male_players_legacy[col].apply(lambda x: eval(x) if isinstance(x, str) and re.match(r'^\\d+[\\+\\-]\\d+$', x) else x)\n",
      "C:\\Users\\mcnob\\AppData\\Local\\Temp\\ipykernel_3992\\1035638749.py:10: SettingWithCopyWarning: \n",
      "A value is trying to be set on a copy of a slice from a DataFrame.\n",
      "Try using .loc[row_indexer,col_indexer] = value instead\n",
      "\n",
      "See the caveats in the documentation: https://pandas.pydata.org/pandas-docs/stable/user_guide/indexing.html#returning-a-view-versus-a-copy\n",
      "  male_players_legacy[col] = male_players_legacy[col].apply(lambda x: eval(x) if isinstance(x, str) and re.match(r'^\\d+[\\+\\-]\\d+$', x) else x)\n",
      "C:\\Users\\mcnob\\AppData\\Local\\Temp\\ipykernel_3992\\1035638749.py:10: SettingWithCopyWarning: \n",
      "A value is trying to be set on a copy of a slice from a DataFrame.\n",
      "Try using .loc[row_indexer,col_indexer] = value instead\n",
      "\n",
      "See the caveats in the documentation: https://pandas.pydata.org/pandas-docs/stable/user_guide/indexing.html#returning-a-view-versus-a-copy\n",
      "  male_players_legacy[col] = male_players_legacy[col].apply(lambda x: eval(x) if isinstance(x, str) and re.match(r'^\\d+[\\+\\-]\\d+$', x) else x)\n",
      "C:\\Users\\mcnob\\AppData\\Local\\Temp\\ipykernel_3992\\1035638749.py:10: SettingWithCopyWarning: \n",
      "A value is trying to be set on a copy of a slice from a DataFrame.\n",
      "Try using .loc[row_indexer,col_indexer] = value instead\n",
      "\n",
      "See the caveats in the documentation: https://pandas.pydata.org/pandas-docs/stable/user_guide/indexing.html#returning-a-view-versus-a-copy\n",
      "  male_players_legacy[col] = male_players_legacy[col].apply(lambda x: eval(x) if isinstance(x, str) and re.match(r'^\\d+[\\+\\-]\\d+$', x) else x)\n",
      "C:\\Users\\mcnob\\AppData\\Local\\Temp\\ipykernel_3992\\1035638749.py:10: SettingWithCopyWarning: \n",
      "A value is trying to be set on a copy of a slice from a DataFrame.\n",
      "Try using .loc[row_indexer,col_indexer] = value instead\n",
      "\n",
      "See the caveats in the documentation: https://pandas.pydata.org/pandas-docs/stable/user_guide/indexing.html#returning-a-view-versus-a-copy\n",
      "  male_players_legacy[col] = male_players_legacy[col].apply(lambda x: eval(x) if isinstance(x, str) and re.match(r'^\\d+[\\+\\-]\\d+$', x) else x)\n",
      "C:\\Users\\mcnob\\AppData\\Local\\Temp\\ipykernel_3992\\1035638749.py:10: SettingWithCopyWarning: \n",
      "A value is trying to be set on a copy of a slice from a DataFrame.\n",
      "Try using .loc[row_indexer,col_indexer] = value instead\n",
      "\n",
      "See the caveats in the documentation: https://pandas.pydata.org/pandas-docs/stable/user_guide/indexing.html#returning-a-view-versus-a-copy\n",
      "  male_players_legacy[col] = male_players_legacy[col].apply(lambda x: eval(x) if isinstance(x, str) and re.match(r'^\\d+[\\+\\-]\\d+$', x) else x)\n"
     ]
    }
   ],
   "source": [
    "import re\n",
    "\n",
    "for col in male_players_legacy.columns:\n",
    "    # Convert column to string for checking patterns\n",
    "    col_str = male_players_legacy[col].astype(str)\n",
    "\n",
    "    # Check if the column contains any data in the form of \"number+number\" or \"number-number\"\n",
    "    if col_str.str.contains(r'^\\d+[\\+\\-]\\d+$').any():\n",
    "        # Apply eval to each element in the column if it matches the pattern\n",
    "        male_players_legacy[col] = male_players_legacy[col].apply(lambda x: eval(x) if isinstance(x, str) and re.match(r'^\\d+[\\+\\-]\\d+$', x) else x)\n",
    "\n",
    "        # Convert the column to int or float as needed\n",
    "        if male_players_legacy[col].apply(lambda x: isinstance(x, (int, float))).all():\n",
    "            male_players_legacy[col] = male_players_legacy[col].astype(float)"
   ],
   "metadata": {
    "collapsed": false,
    "ExecuteTime": {
     "end_time": "2024-06-21T18:04:42.327632900Z",
     "start_time": "2024-06-21T18:04:16.605433600Z"
    }
   }
  },
  {
   "cell_type": "code",
   "execution_count": 96,
   "outputs": [
    {
     "data": {
      "text/plain": "        overall  potential    value_eur  wage_eur   age  height_cm  weight_kg  \\\n0          93.0       95.0  100500000.0  550000.0  27.0      169.0       67.0   \n1          92.0       92.0   79000000.0  375000.0  29.0      185.0       80.0   \n2          90.0       90.0   54500000.0  275000.0  30.0      180.0       80.0   \n3          90.0       90.0   52500000.0  275000.0  32.0      195.0       95.0   \n4          90.0       90.0   63500000.0  300000.0  28.0      193.0       92.0   \n...         ...        ...          ...       ...   ...        ...        ...   \n161578     46.0       61.0     110000.0     700.0  18.0      180.0       73.0   \n161579     46.0       58.0     110000.0     750.0  19.0      188.0       83.0   \n161580     46.0       58.0     110000.0     500.0  19.0      181.0       73.0   \n161581     46.0       70.0     150000.0     500.0  17.0      175.0       68.0   \n161582     46.0       63.0     110000.0     500.0  17.0      180.0       70.0   \n\n        league_id preferred_foot  weak_foot  ...  ldm  cdm rdm rwb  lb  lcb  \\\n0            53.0           Left        3.0  ...   65   65  65  65  57   48   \n1            53.0          Right        4.0  ...   66   66  66  66  60   55   \n2            19.0           Left        2.0  ...   67   67  67  67  58   49   \n3            16.0          Right        4.0  ...   68   68  68  64  59   58   \n4            19.0          Right        4.0  ...   43   43  43  39  39   41   \n...           ...            ...        ...  ...  ...  ...  ..  ..  ..  ...   \n161578     2012.0          Right        3.0  ...   34   34  34  39  38   33   \n161579     2012.0           Left        3.0  ...   43   43  43  45  46   50   \n161580       65.0          Right        2.0  ...   47   47  47  49  49   48   \n161581       65.0          Right        3.0  ...   32   32  32  36  34   30   \n161582      350.0          Right        3.0  ...   42   42  42  41  43   48   \n\n        cb  rcb  rb  gk  \n0       48   48  57  18  \n1       55   55  60  19  \n2       49   49  58  17  \n3       58   58  59  20  \n4       41   41  39  90  \n...     ..  ...  ..  ..  \n161578  33   33  38  16  \n161579  50   50  46  17  \n161580  48   48  49  16  \n161581  30   30  34  17  \n161582  48   48  43  15  \n\n[161583 rows x 81 columns]",
      "text/html": "<div>\n<style scoped>\n    .dataframe tbody tr th:only-of-type {\n        vertical-align: middle;\n    }\n\n    .dataframe tbody tr th {\n        vertical-align: top;\n    }\n\n    .dataframe thead th {\n        text-align: right;\n    }\n</style>\n<table border=\"1\" class=\"dataframe\">\n  <thead>\n    <tr style=\"text-align: right;\">\n      <th></th>\n      <th>overall</th>\n      <th>potential</th>\n      <th>value_eur</th>\n      <th>wage_eur</th>\n      <th>age</th>\n      <th>height_cm</th>\n      <th>weight_kg</th>\n      <th>league_id</th>\n      <th>preferred_foot</th>\n      <th>weak_foot</th>\n      <th>...</th>\n      <th>ldm</th>\n      <th>cdm</th>\n      <th>rdm</th>\n      <th>rwb</th>\n      <th>lb</th>\n      <th>lcb</th>\n      <th>cb</th>\n      <th>rcb</th>\n      <th>rb</th>\n      <th>gk</th>\n    </tr>\n  </thead>\n  <tbody>\n    <tr>\n      <th>0</th>\n      <td>93.0</td>\n      <td>95.0</td>\n      <td>100500000.0</td>\n      <td>550000.0</td>\n      <td>27.0</td>\n      <td>169.0</td>\n      <td>67.0</td>\n      <td>53.0</td>\n      <td>Left</td>\n      <td>3.0</td>\n      <td>...</td>\n      <td>65</td>\n      <td>65</td>\n      <td>65</td>\n      <td>65</td>\n      <td>57</td>\n      <td>48</td>\n      <td>48</td>\n      <td>48</td>\n      <td>57</td>\n      <td>18</td>\n    </tr>\n    <tr>\n      <th>1</th>\n      <td>92.0</td>\n      <td>92.0</td>\n      <td>79000000.0</td>\n      <td>375000.0</td>\n      <td>29.0</td>\n      <td>185.0</td>\n      <td>80.0</td>\n      <td>53.0</td>\n      <td>Right</td>\n      <td>4.0</td>\n      <td>...</td>\n      <td>66</td>\n      <td>66</td>\n      <td>66</td>\n      <td>66</td>\n      <td>60</td>\n      <td>55</td>\n      <td>55</td>\n      <td>55</td>\n      <td>60</td>\n      <td>19</td>\n    </tr>\n    <tr>\n      <th>2</th>\n      <td>90.0</td>\n      <td>90.0</td>\n      <td>54500000.0</td>\n      <td>275000.0</td>\n      <td>30.0</td>\n      <td>180.0</td>\n      <td>80.0</td>\n      <td>19.0</td>\n      <td>Left</td>\n      <td>2.0</td>\n      <td>...</td>\n      <td>67</td>\n      <td>67</td>\n      <td>67</td>\n      <td>67</td>\n      <td>58</td>\n      <td>49</td>\n      <td>49</td>\n      <td>49</td>\n      <td>58</td>\n      <td>17</td>\n    </tr>\n    <tr>\n      <th>3</th>\n      <td>90.0</td>\n      <td>90.0</td>\n      <td>52500000.0</td>\n      <td>275000.0</td>\n      <td>32.0</td>\n      <td>195.0</td>\n      <td>95.0</td>\n      <td>16.0</td>\n      <td>Right</td>\n      <td>4.0</td>\n      <td>...</td>\n      <td>68</td>\n      <td>68</td>\n      <td>68</td>\n      <td>64</td>\n      <td>59</td>\n      <td>58</td>\n      <td>58</td>\n      <td>58</td>\n      <td>59</td>\n      <td>20</td>\n    </tr>\n    <tr>\n      <th>4</th>\n      <td>90.0</td>\n      <td>90.0</td>\n      <td>63500000.0</td>\n      <td>300000.0</td>\n      <td>28.0</td>\n      <td>193.0</td>\n      <td>92.0</td>\n      <td>19.0</td>\n      <td>Right</td>\n      <td>4.0</td>\n      <td>...</td>\n      <td>43</td>\n      <td>43</td>\n      <td>43</td>\n      <td>39</td>\n      <td>39</td>\n      <td>41</td>\n      <td>41</td>\n      <td>41</td>\n      <td>39</td>\n      <td>90</td>\n    </tr>\n    <tr>\n      <th>...</th>\n      <td>...</td>\n      <td>...</td>\n      <td>...</td>\n      <td>...</td>\n      <td>...</td>\n      <td>...</td>\n      <td>...</td>\n      <td>...</td>\n      <td>...</td>\n      <td>...</td>\n      <td>...</td>\n      <td>...</td>\n      <td>...</td>\n      <td>...</td>\n      <td>...</td>\n      <td>...</td>\n      <td>...</td>\n      <td>...</td>\n      <td>...</td>\n      <td>...</td>\n      <td>...</td>\n    </tr>\n    <tr>\n      <th>161578</th>\n      <td>46.0</td>\n      <td>61.0</td>\n      <td>110000.0</td>\n      <td>700.0</td>\n      <td>18.0</td>\n      <td>180.0</td>\n      <td>73.0</td>\n      <td>2012.0</td>\n      <td>Right</td>\n      <td>3.0</td>\n      <td>...</td>\n      <td>34</td>\n      <td>34</td>\n      <td>34</td>\n      <td>39</td>\n      <td>38</td>\n      <td>33</td>\n      <td>33</td>\n      <td>33</td>\n      <td>38</td>\n      <td>16</td>\n    </tr>\n    <tr>\n      <th>161579</th>\n      <td>46.0</td>\n      <td>58.0</td>\n      <td>110000.0</td>\n      <td>750.0</td>\n      <td>19.0</td>\n      <td>188.0</td>\n      <td>83.0</td>\n      <td>2012.0</td>\n      <td>Left</td>\n      <td>3.0</td>\n      <td>...</td>\n      <td>43</td>\n      <td>43</td>\n      <td>43</td>\n      <td>45</td>\n      <td>46</td>\n      <td>50</td>\n      <td>50</td>\n      <td>50</td>\n      <td>46</td>\n      <td>17</td>\n    </tr>\n    <tr>\n      <th>161580</th>\n      <td>46.0</td>\n      <td>58.0</td>\n      <td>110000.0</td>\n      <td>500.0</td>\n      <td>19.0</td>\n      <td>181.0</td>\n      <td>73.0</td>\n      <td>65.0</td>\n      <td>Right</td>\n      <td>2.0</td>\n      <td>...</td>\n      <td>47</td>\n      <td>47</td>\n      <td>47</td>\n      <td>49</td>\n      <td>49</td>\n      <td>48</td>\n      <td>48</td>\n      <td>48</td>\n      <td>49</td>\n      <td>16</td>\n    </tr>\n    <tr>\n      <th>161581</th>\n      <td>46.0</td>\n      <td>70.0</td>\n      <td>150000.0</td>\n      <td>500.0</td>\n      <td>17.0</td>\n      <td>175.0</td>\n      <td>68.0</td>\n      <td>65.0</td>\n      <td>Right</td>\n      <td>3.0</td>\n      <td>...</td>\n      <td>32</td>\n      <td>32</td>\n      <td>32</td>\n      <td>36</td>\n      <td>34</td>\n      <td>30</td>\n      <td>30</td>\n      <td>30</td>\n      <td>34</td>\n      <td>17</td>\n    </tr>\n    <tr>\n      <th>161582</th>\n      <td>46.0</td>\n      <td>63.0</td>\n      <td>110000.0</td>\n      <td>500.0</td>\n      <td>17.0</td>\n      <td>180.0</td>\n      <td>70.0</td>\n      <td>350.0</td>\n      <td>Right</td>\n      <td>3.0</td>\n      <td>...</td>\n      <td>42</td>\n      <td>42</td>\n      <td>42</td>\n      <td>41</td>\n      <td>43</td>\n      <td>48</td>\n      <td>48</td>\n      <td>48</td>\n      <td>43</td>\n      <td>15</td>\n    </tr>\n  </tbody>\n</table>\n<p>161583 rows × 81 columns</p>\n</div>"
     },
     "execution_count": 96,
     "metadata": {},
     "output_type": "execute_result"
    }
   ],
   "source": [
    "male_players_legacy"
   ],
   "metadata": {
    "collapsed": false,
    "ExecuteTime": {
     "end_time": "2024-06-21T18:04:42.517464900Z",
     "start_time": "2024-06-21T18:04:42.328633Z"
    }
   }
  },
  {
   "cell_type": "code",
   "execution_count": 97,
   "outputs": [
    {
     "name": "stderr",
     "output_type": "stream",
     "text": [
      "C:\\Users\\mcnob\\AppData\\Local\\Temp\\ipykernel_3992\\3267453515.py:5: SettingWithCopyWarning: \n",
      "A value is trying to be set on a copy of a slice from a DataFrame\n",
      "\n",
      "See the caveats in the documentation: https://pandas.pydata.org/pandas-docs/stable/user_guide/indexing.html#returning-a-view-versus-a-copy\n",
      "  male_players_legacy.drop(column, axis=1, inplace=True)\n"
     ]
    }
   ],
   "source": [
    "for column in male_players_legacy.columns[:69]:\n",
    "    if male_players_legacy[column].dtype == 'object':\n",
    "        encoder = ce.BinaryEncoder(cols=[column])\n",
    "        col_encoded = encoder.fit_transform(male_players_legacy[column])\n",
    "        male_players_legacy.drop(column, axis=1, inplace=True)\n",
    "        male_players_legacy = pd.concat([male_players_legacy, col_encoded], axis=1).reset_index(drop=True)"
   ],
   "metadata": {
    "collapsed": false,
    "ExecuteTime": {
     "end_time": "2024-06-21T18:04:52.811874500Z",
     "start_time": "2024-06-21T18:04:42.520465Z"
    }
   }
  },
  {
   "cell_type": "code",
   "execution_count": 98,
   "outputs": [
    {
     "data": {
      "text/plain": "Index(['overall', 'movement_reactions', 'potential', 'passing', 'wage_eur',\n       'mentality_composure', 'value_eur', 'dribbling',\n       'attacking_short_passing', 'mentality_vision',\n       'international_reputation', 'skill_long_passing'],\n      dtype='object')"
     },
     "execution_count": 98,
     "metadata": {},
     "output_type": "execute_result"
    }
   ],
   "source": [
    "correlations = male_players_legacy.corr()['overall']\n",
    "sorted_correlations = correlations.sort_values(ascending=False)\n",
    "\n",
    "threshold = 0.5\n",
    "male_players_legacy_relevant_columns = sorted_correlations[:12]\n",
    "\n",
    "male_players_legacy_relevant_columns.index"
   ],
   "metadata": {
    "collapsed": false,
    "ExecuteTime": {
     "end_time": "2024-06-21T18:05:05.480862400Z",
     "start_time": "2024-06-21T18:04:52.846908100Z"
    }
   }
  },
  {
   "cell_type": "code",
   "execution_count": 99,
   "outputs": [],
   "source": [
    "male_players_legacy = male_players_legacy[male_players_legacy_relevant_columns.index]"
   ],
   "metadata": {
    "collapsed": false,
    "ExecuteTime": {
     "end_time": "2024-06-21T18:05:05.549818500Z",
     "start_time": "2024-06-21T18:05:05.485768500Z"
    }
   }
  },
  {
   "cell_type": "code",
   "execution_count": 100,
   "outputs": [
    {
     "data": {
      "text/plain": "        overall  movement_reactions  potential  passing  wage_eur  \\\n0          93.0                94.0       95.0     86.0  550000.0   \n1          92.0                90.0       92.0     81.0  375000.0   \n2          90.0                89.0       90.0     83.0  275000.0   \n3          90.0                85.0       90.0     81.0  275000.0   \n4          90.0                89.0       90.0     58.0  300000.0   \n...         ...                 ...        ...      ...       ...   \n161578     46.0                39.0       61.0     40.0     700.0   \n161579     46.0                42.0       58.0     29.0     750.0   \n161580     46.0                50.0       58.0     43.0     500.0   \n161581     46.0                45.0       70.0     36.0     500.0   \n161582     46.0                40.0       63.0     26.0     500.0   \n\n        mentality_composure    value_eur  dribbling  attacking_short_passing  \\\n0                      59.0  100500000.0       96.0                     89.0   \n1                      59.0   79000000.0       91.0                     82.0   \n2                      59.0   54500000.0       92.0                     86.0   \n3                      59.0   52500000.0       86.0                     84.0   \n4                      59.0   63500000.0       63.0                     42.0   \n...                     ...          ...        ...                      ...   \n161578                 40.0     110000.0       47.0                     38.0   \n161579                 35.0     110000.0       34.0                     30.0   \n161580                 35.0     110000.0       46.0                     51.0   \n161581                 43.0     150000.0       46.0                     40.0   \n161582                 30.0     110000.0       32.0                     32.0   \n\n        mentality_vision  international_reputation  skill_long_passing  \n0                   90.0                       5.0                76.0  \n1                   81.0                       5.0                72.0  \n2                   84.0                       5.0                76.0  \n3                   83.0                       5.0                76.0  \n4                   20.0                       5.0                41.0  \n...                  ...                       ...                 ...  \n161578              42.0                       1.0                33.0  \n161579              31.0                       1.0                25.0  \n161580              40.0                       1.0                43.0  \n161581              44.0                       1.0                26.0  \n161582              20.0                       1.0                29.0  \n\n[161583 rows x 12 columns]",
      "text/html": "<div>\n<style scoped>\n    .dataframe tbody tr th:only-of-type {\n        vertical-align: middle;\n    }\n\n    .dataframe tbody tr th {\n        vertical-align: top;\n    }\n\n    .dataframe thead th {\n        text-align: right;\n    }\n</style>\n<table border=\"1\" class=\"dataframe\">\n  <thead>\n    <tr style=\"text-align: right;\">\n      <th></th>\n      <th>overall</th>\n      <th>movement_reactions</th>\n      <th>potential</th>\n      <th>passing</th>\n      <th>wage_eur</th>\n      <th>mentality_composure</th>\n      <th>value_eur</th>\n      <th>dribbling</th>\n      <th>attacking_short_passing</th>\n      <th>mentality_vision</th>\n      <th>international_reputation</th>\n      <th>skill_long_passing</th>\n    </tr>\n  </thead>\n  <tbody>\n    <tr>\n      <th>0</th>\n      <td>93.0</td>\n      <td>94.0</td>\n      <td>95.0</td>\n      <td>86.0</td>\n      <td>550000.0</td>\n      <td>59.0</td>\n      <td>100500000.0</td>\n      <td>96.0</td>\n      <td>89.0</td>\n      <td>90.0</td>\n      <td>5.0</td>\n      <td>76.0</td>\n    </tr>\n    <tr>\n      <th>1</th>\n      <td>92.0</td>\n      <td>90.0</td>\n      <td>92.0</td>\n      <td>81.0</td>\n      <td>375000.0</td>\n      <td>59.0</td>\n      <td>79000000.0</td>\n      <td>91.0</td>\n      <td>82.0</td>\n      <td>81.0</td>\n      <td>5.0</td>\n      <td>72.0</td>\n    </tr>\n    <tr>\n      <th>2</th>\n      <td>90.0</td>\n      <td>89.0</td>\n      <td>90.0</td>\n      <td>83.0</td>\n      <td>275000.0</td>\n      <td>59.0</td>\n      <td>54500000.0</td>\n      <td>92.0</td>\n      <td>86.0</td>\n      <td>84.0</td>\n      <td>5.0</td>\n      <td>76.0</td>\n    </tr>\n    <tr>\n      <th>3</th>\n      <td>90.0</td>\n      <td>85.0</td>\n      <td>90.0</td>\n      <td>81.0</td>\n      <td>275000.0</td>\n      <td>59.0</td>\n      <td>52500000.0</td>\n      <td>86.0</td>\n      <td>84.0</td>\n      <td>83.0</td>\n      <td>5.0</td>\n      <td>76.0</td>\n    </tr>\n    <tr>\n      <th>4</th>\n      <td>90.0</td>\n      <td>89.0</td>\n      <td>90.0</td>\n      <td>58.0</td>\n      <td>300000.0</td>\n      <td>59.0</td>\n      <td>63500000.0</td>\n      <td>63.0</td>\n      <td>42.0</td>\n      <td>20.0</td>\n      <td>5.0</td>\n      <td>41.0</td>\n    </tr>\n    <tr>\n      <th>...</th>\n      <td>...</td>\n      <td>...</td>\n      <td>...</td>\n      <td>...</td>\n      <td>...</td>\n      <td>...</td>\n      <td>...</td>\n      <td>...</td>\n      <td>...</td>\n      <td>...</td>\n      <td>...</td>\n      <td>...</td>\n    </tr>\n    <tr>\n      <th>161578</th>\n      <td>46.0</td>\n      <td>39.0</td>\n      <td>61.0</td>\n      <td>40.0</td>\n      <td>700.0</td>\n      <td>40.0</td>\n      <td>110000.0</td>\n      <td>47.0</td>\n      <td>38.0</td>\n      <td>42.0</td>\n      <td>1.0</td>\n      <td>33.0</td>\n    </tr>\n    <tr>\n      <th>161579</th>\n      <td>46.0</td>\n      <td>42.0</td>\n      <td>58.0</td>\n      <td>29.0</td>\n      <td>750.0</td>\n      <td>35.0</td>\n      <td>110000.0</td>\n      <td>34.0</td>\n      <td>30.0</td>\n      <td>31.0</td>\n      <td>1.0</td>\n      <td>25.0</td>\n    </tr>\n    <tr>\n      <th>161580</th>\n      <td>46.0</td>\n      <td>50.0</td>\n      <td>58.0</td>\n      <td>43.0</td>\n      <td>500.0</td>\n      <td>35.0</td>\n      <td>110000.0</td>\n      <td>46.0</td>\n      <td>51.0</td>\n      <td>40.0</td>\n      <td>1.0</td>\n      <td>43.0</td>\n    </tr>\n    <tr>\n      <th>161581</th>\n      <td>46.0</td>\n      <td>45.0</td>\n      <td>70.0</td>\n      <td>36.0</td>\n      <td>500.0</td>\n      <td>43.0</td>\n      <td>150000.0</td>\n      <td>46.0</td>\n      <td>40.0</td>\n      <td>44.0</td>\n      <td>1.0</td>\n      <td>26.0</td>\n    </tr>\n    <tr>\n      <th>161582</th>\n      <td>46.0</td>\n      <td>40.0</td>\n      <td>63.0</td>\n      <td>26.0</td>\n      <td>500.0</td>\n      <td>30.0</td>\n      <td>110000.0</td>\n      <td>32.0</td>\n      <td>32.0</td>\n      <td>20.0</td>\n      <td>1.0</td>\n      <td>29.0</td>\n    </tr>\n  </tbody>\n</table>\n<p>161583 rows × 12 columns</p>\n</div>"
     },
     "execution_count": 100,
     "metadata": {},
     "output_type": "execute_result"
    }
   ],
   "source": [
    "male_players_legacy"
   ],
   "metadata": {
    "collapsed": false,
    "ExecuteTime": {
     "end_time": "2024-06-21T18:05:05.565745700Z",
     "start_time": "2024-06-21T18:05:05.515777100Z"
    }
   }
  },
  {
   "cell_type": "code",
   "execution_count": 101,
   "outputs": [
    {
     "data": {
      "text/plain": "       sofifa_id                                         player_url  \\\n0         158023  https://sofifa.com/player/158023/lionel-messi/...   \n1         188545  https://sofifa.com/player/188545/robert-lewand...   \n2          20801  https://sofifa.com/player/20801/c-ronaldo-dos-...   \n3         190871  https://sofifa.com/player/190871/neymar-da-sil...   \n4         192985  https://sofifa.com/player/192985/kevin-de-bruy...   \n...          ...                                                ...   \n19234     261962  https://sofifa.com/player/261962/defu-song/220002   \n19235     262040  https://sofifa.com/player/262040/caoimhin-port...   \n19236     262760  https://sofifa.com/player/262760/nathan-logue/...   \n19237     262820  https://sofifa.com/player/262820/luke-rudden/2...   \n19238     264540  https://sofifa.com/player/264540/emanuel-lalch...   \n\n               short_name                            long_name  \\\n0                L. Messi       Lionel Andrés Messi Cuccittini   \n1          R. Lewandowski                   Robert Lewandowski   \n2       Cristiano Ronaldo  Cristiano Ronaldo dos Santos Aveiro   \n3               Neymar Jr        Neymar da Silva Santos Júnior   \n4            K. De Bruyne                      Kevin De Bruyne   \n...                   ...                                  ...   \n19234           Song Defu                                  宋德福   \n19235           C. Porter                      Caoimhin Porter   \n19236            N. Logue              Nathan Logue-Cunningham   \n19237           L. Rudden                          Luke Rudden   \n19238  E. Lalchhanchhuaha              Emanuel Lalchhanchhuaha   \n\n      player_positions  overall  potential    value_eur  wage_eur  age  ...  \\\n0           RW, ST, CF       93         93   78000000.0  320000.0   34  ...   \n1                   ST       92         92  119500000.0  270000.0   32  ...   \n2               ST, LW       91         91   45000000.0  270000.0   36  ...   \n3              LW, CAM       91         91  129000000.0  270000.0   29  ...   \n4              CM, CAM       91         91  125500000.0  350000.0   30  ...   \n...                ...      ...        ...          ...       ...  ...  ...   \n19234              CDM       47         52      70000.0    1000.0   22  ...   \n19235               CM       47         59     110000.0     500.0   19  ...   \n19236               CM       47         55     100000.0     500.0   21  ...   \n19237               ST       47         60     110000.0     500.0   19  ...   \n19238              CAM       47         60     110000.0     500.0   19  ...   \n\n        lcb    cb   rcb    rb    gk  \\\n0      50+3  50+3  50+3  61+3  19+3   \n1      60+3  60+3  60+3  61+3  19+3   \n2      53+3  53+3  53+3  60+3  20+3   \n3      50+3  50+3  50+3  62+3  20+3   \n4      69+3  69+3  69+3  75+3  21+3   \n...     ...   ...   ...   ...   ...   \n19234  46+2  46+2  46+2  48+2  15+2   \n19235  44+2  44+2  44+2  48+2  14+2   \n19236  45+2  45+2  45+2  47+2  12+2   \n19237  26+2  26+2  26+2  32+2  15+2   \n19238  41+2  41+2  41+2  45+2  16+2   \n\n                                         player_face_url  \\\n0      https://cdn.sofifa.net/players/158/023/22_120.png   \n1      https://cdn.sofifa.net/players/188/545/22_120.png   \n2      https://cdn.sofifa.net/players/020/801/22_120.png   \n3      https://cdn.sofifa.net/players/190/871/22_120.png   \n4      https://cdn.sofifa.net/players/192/985/22_120.png   \n...                                                  ...   \n19234  https://cdn.sofifa.net/players/261/962/22_120.png   \n19235  https://cdn.sofifa.net/players/262/040/22_120.png   \n19236  https://cdn.sofifa.net/players/262/760/22_120.png   \n19237  https://cdn.sofifa.net/players/262/820/22_120.png   \n19238  https://cdn.sofifa.net/players/264/540/22_120.png   \n\n                                    club_logo_url  \\\n0          https://cdn.sofifa.net/teams/73/60.png   \n1          https://cdn.sofifa.net/teams/21/60.png   \n2          https://cdn.sofifa.net/teams/11/60.png   \n3          https://cdn.sofifa.net/teams/73/60.png   \n4          https://cdn.sofifa.net/teams/10/60.png   \n...                                           ...   \n19234  https://cdn.sofifa.net/teams/112541/60.png   \n19235     https://cdn.sofifa.net/teams/445/60.png   \n19236  https://cdn.sofifa.net/teams/111131/60.png   \n19237  https://cdn.sofifa.net/teams/111131/60.png   \n19238  https://cdn.sofifa.net/teams/113040/60.png   \n\n                                 club_flag_url  \\\n0          https://cdn.sofifa.net/flags/fr.png   \n1          https://cdn.sofifa.net/flags/de.png   \n2      https://cdn.sofifa.net/flags/gb-eng.png   \n3          https://cdn.sofifa.net/flags/fr.png   \n4      https://cdn.sofifa.net/flags/gb-eng.png   \n...                                        ...   \n19234      https://cdn.sofifa.net/flags/cn.png   \n19235      https://cdn.sofifa.net/flags/ie.png   \n19236      https://cdn.sofifa.net/flags/ie.png   \n19237      https://cdn.sofifa.net/flags/ie.png   \n19238      https://cdn.sofifa.net/flags/in.png   \n\n                                nation_logo_url  \\\n0      https://cdn.sofifa.net/teams/1369/60.png   \n1      https://cdn.sofifa.net/teams/1353/60.png   \n2      https://cdn.sofifa.net/teams/1354/60.png   \n3                                           NaN   \n4      https://cdn.sofifa.net/teams/1325/60.png   \n...                                         ...   \n19234                                       NaN   \n19235                                       NaN   \n19236                                       NaN   \n19237                                       NaN   \n19238                                       NaN   \n\n                           nation_flag_url  \n0      https://cdn.sofifa.net/flags/ar.png  \n1      https://cdn.sofifa.net/flags/pl.png  \n2      https://cdn.sofifa.net/flags/pt.png  \n3      https://cdn.sofifa.net/flags/br.png  \n4      https://cdn.sofifa.net/flags/be.png  \n...                                    ...  \n19234  https://cdn.sofifa.net/flags/cn.png  \n19235  https://cdn.sofifa.net/flags/ie.png  \n19236  https://cdn.sofifa.net/flags/ie.png  \n19237  https://cdn.sofifa.net/flags/ie.png  \n19238  https://cdn.sofifa.net/flags/in.png  \n\n[19239 rows x 110 columns]",
      "text/html": "<div>\n<style scoped>\n    .dataframe tbody tr th:only-of-type {\n        vertical-align: middle;\n    }\n\n    .dataframe tbody tr th {\n        vertical-align: top;\n    }\n\n    .dataframe thead th {\n        text-align: right;\n    }\n</style>\n<table border=\"1\" class=\"dataframe\">\n  <thead>\n    <tr style=\"text-align: right;\">\n      <th></th>\n      <th>sofifa_id</th>\n      <th>player_url</th>\n      <th>short_name</th>\n      <th>long_name</th>\n      <th>player_positions</th>\n      <th>overall</th>\n      <th>potential</th>\n      <th>value_eur</th>\n      <th>wage_eur</th>\n      <th>age</th>\n      <th>...</th>\n      <th>lcb</th>\n      <th>cb</th>\n      <th>rcb</th>\n      <th>rb</th>\n      <th>gk</th>\n      <th>player_face_url</th>\n      <th>club_logo_url</th>\n      <th>club_flag_url</th>\n      <th>nation_logo_url</th>\n      <th>nation_flag_url</th>\n    </tr>\n  </thead>\n  <tbody>\n    <tr>\n      <th>0</th>\n      <td>158023</td>\n      <td>https://sofifa.com/player/158023/lionel-messi/...</td>\n      <td>L. Messi</td>\n      <td>Lionel Andrés Messi Cuccittini</td>\n      <td>RW, ST, CF</td>\n      <td>93</td>\n      <td>93</td>\n      <td>78000000.0</td>\n      <td>320000.0</td>\n      <td>34</td>\n      <td>...</td>\n      <td>50+3</td>\n      <td>50+3</td>\n      <td>50+3</td>\n      <td>61+3</td>\n      <td>19+3</td>\n      <td>https://cdn.sofifa.net/players/158/023/22_120.png</td>\n      <td>https://cdn.sofifa.net/teams/73/60.png</td>\n      <td>https://cdn.sofifa.net/flags/fr.png</td>\n      <td>https://cdn.sofifa.net/teams/1369/60.png</td>\n      <td>https://cdn.sofifa.net/flags/ar.png</td>\n    </tr>\n    <tr>\n      <th>1</th>\n      <td>188545</td>\n      <td>https://sofifa.com/player/188545/robert-lewand...</td>\n      <td>R. Lewandowski</td>\n      <td>Robert Lewandowski</td>\n      <td>ST</td>\n      <td>92</td>\n      <td>92</td>\n      <td>119500000.0</td>\n      <td>270000.0</td>\n      <td>32</td>\n      <td>...</td>\n      <td>60+3</td>\n      <td>60+3</td>\n      <td>60+3</td>\n      <td>61+3</td>\n      <td>19+3</td>\n      <td>https://cdn.sofifa.net/players/188/545/22_120.png</td>\n      <td>https://cdn.sofifa.net/teams/21/60.png</td>\n      <td>https://cdn.sofifa.net/flags/de.png</td>\n      <td>https://cdn.sofifa.net/teams/1353/60.png</td>\n      <td>https://cdn.sofifa.net/flags/pl.png</td>\n    </tr>\n    <tr>\n      <th>2</th>\n      <td>20801</td>\n      <td>https://sofifa.com/player/20801/c-ronaldo-dos-...</td>\n      <td>Cristiano Ronaldo</td>\n      <td>Cristiano Ronaldo dos Santos Aveiro</td>\n      <td>ST, LW</td>\n      <td>91</td>\n      <td>91</td>\n      <td>45000000.0</td>\n      <td>270000.0</td>\n      <td>36</td>\n      <td>...</td>\n      <td>53+3</td>\n      <td>53+3</td>\n      <td>53+3</td>\n      <td>60+3</td>\n      <td>20+3</td>\n      <td>https://cdn.sofifa.net/players/020/801/22_120.png</td>\n      <td>https://cdn.sofifa.net/teams/11/60.png</td>\n      <td>https://cdn.sofifa.net/flags/gb-eng.png</td>\n      <td>https://cdn.sofifa.net/teams/1354/60.png</td>\n      <td>https://cdn.sofifa.net/flags/pt.png</td>\n    </tr>\n    <tr>\n      <th>3</th>\n      <td>190871</td>\n      <td>https://sofifa.com/player/190871/neymar-da-sil...</td>\n      <td>Neymar Jr</td>\n      <td>Neymar da Silva Santos Júnior</td>\n      <td>LW, CAM</td>\n      <td>91</td>\n      <td>91</td>\n      <td>129000000.0</td>\n      <td>270000.0</td>\n      <td>29</td>\n      <td>...</td>\n      <td>50+3</td>\n      <td>50+3</td>\n      <td>50+3</td>\n      <td>62+3</td>\n      <td>20+3</td>\n      <td>https://cdn.sofifa.net/players/190/871/22_120.png</td>\n      <td>https://cdn.sofifa.net/teams/73/60.png</td>\n      <td>https://cdn.sofifa.net/flags/fr.png</td>\n      <td>NaN</td>\n      <td>https://cdn.sofifa.net/flags/br.png</td>\n    </tr>\n    <tr>\n      <th>4</th>\n      <td>192985</td>\n      <td>https://sofifa.com/player/192985/kevin-de-bruy...</td>\n      <td>K. De Bruyne</td>\n      <td>Kevin De Bruyne</td>\n      <td>CM, CAM</td>\n      <td>91</td>\n      <td>91</td>\n      <td>125500000.0</td>\n      <td>350000.0</td>\n      <td>30</td>\n      <td>...</td>\n      <td>69+3</td>\n      <td>69+3</td>\n      <td>69+3</td>\n      <td>75+3</td>\n      <td>21+3</td>\n      <td>https://cdn.sofifa.net/players/192/985/22_120.png</td>\n      <td>https://cdn.sofifa.net/teams/10/60.png</td>\n      <td>https://cdn.sofifa.net/flags/gb-eng.png</td>\n      <td>https://cdn.sofifa.net/teams/1325/60.png</td>\n      <td>https://cdn.sofifa.net/flags/be.png</td>\n    </tr>\n    <tr>\n      <th>...</th>\n      <td>...</td>\n      <td>...</td>\n      <td>...</td>\n      <td>...</td>\n      <td>...</td>\n      <td>...</td>\n      <td>...</td>\n      <td>...</td>\n      <td>...</td>\n      <td>...</td>\n      <td>...</td>\n      <td>...</td>\n      <td>...</td>\n      <td>...</td>\n      <td>...</td>\n      <td>...</td>\n      <td>...</td>\n      <td>...</td>\n      <td>...</td>\n      <td>...</td>\n      <td>...</td>\n    </tr>\n    <tr>\n      <th>19234</th>\n      <td>261962</td>\n      <td>https://sofifa.com/player/261962/defu-song/220002</td>\n      <td>Song Defu</td>\n      <td>宋德福</td>\n      <td>CDM</td>\n      <td>47</td>\n      <td>52</td>\n      <td>70000.0</td>\n      <td>1000.0</td>\n      <td>22</td>\n      <td>...</td>\n      <td>46+2</td>\n      <td>46+2</td>\n      <td>46+2</td>\n      <td>48+2</td>\n      <td>15+2</td>\n      <td>https://cdn.sofifa.net/players/261/962/22_120.png</td>\n      <td>https://cdn.sofifa.net/teams/112541/60.png</td>\n      <td>https://cdn.sofifa.net/flags/cn.png</td>\n      <td>NaN</td>\n      <td>https://cdn.sofifa.net/flags/cn.png</td>\n    </tr>\n    <tr>\n      <th>19235</th>\n      <td>262040</td>\n      <td>https://sofifa.com/player/262040/caoimhin-port...</td>\n      <td>C. Porter</td>\n      <td>Caoimhin Porter</td>\n      <td>CM</td>\n      <td>47</td>\n      <td>59</td>\n      <td>110000.0</td>\n      <td>500.0</td>\n      <td>19</td>\n      <td>...</td>\n      <td>44+2</td>\n      <td>44+2</td>\n      <td>44+2</td>\n      <td>48+2</td>\n      <td>14+2</td>\n      <td>https://cdn.sofifa.net/players/262/040/22_120.png</td>\n      <td>https://cdn.sofifa.net/teams/445/60.png</td>\n      <td>https://cdn.sofifa.net/flags/ie.png</td>\n      <td>NaN</td>\n      <td>https://cdn.sofifa.net/flags/ie.png</td>\n    </tr>\n    <tr>\n      <th>19236</th>\n      <td>262760</td>\n      <td>https://sofifa.com/player/262760/nathan-logue/...</td>\n      <td>N. Logue</td>\n      <td>Nathan Logue-Cunningham</td>\n      <td>CM</td>\n      <td>47</td>\n      <td>55</td>\n      <td>100000.0</td>\n      <td>500.0</td>\n      <td>21</td>\n      <td>...</td>\n      <td>45+2</td>\n      <td>45+2</td>\n      <td>45+2</td>\n      <td>47+2</td>\n      <td>12+2</td>\n      <td>https://cdn.sofifa.net/players/262/760/22_120.png</td>\n      <td>https://cdn.sofifa.net/teams/111131/60.png</td>\n      <td>https://cdn.sofifa.net/flags/ie.png</td>\n      <td>NaN</td>\n      <td>https://cdn.sofifa.net/flags/ie.png</td>\n    </tr>\n    <tr>\n      <th>19237</th>\n      <td>262820</td>\n      <td>https://sofifa.com/player/262820/luke-rudden/2...</td>\n      <td>L. Rudden</td>\n      <td>Luke Rudden</td>\n      <td>ST</td>\n      <td>47</td>\n      <td>60</td>\n      <td>110000.0</td>\n      <td>500.0</td>\n      <td>19</td>\n      <td>...</td>\n      <td>26+2</td>\n      <td>26+2</td>\n      <td>26+2</td>\n      <td>32+2</td>\n      <td>15+2</td>\n      <td>https://cdn.sofifa.net/players/262/820/22_120.png</td>\n      <td>https://cdn.sofifa.net/teams/111131/60.png</td>\n      <td>https://cdn.sofifa.net/flags/ie.png</td>\n      <td>NaN</td>\n      <td>https://cdn.sofifa.net/flags/ie.png</td>\n    </tr>\n    <tr>\n      <th>19238</th>\n      <td>264540</td>\n      <td>https://sofifa.com/player/264540/emanuel-lalch...</td>\n      <td>E. Lalchhanchhuaha</td>\n      <td>Emanuel Lalchhanchhuaha</td>\n      <td>CAM</td>\n      <td>47</td>\n      <td>60</td>\n      <td>110000.0</td>\n      <td>500.0</td>\n      <td>19</td>\n      <td>...</td>\n      <td>41+2</td>\n      <td>41+2</td>\n      <td>41+2</td>\n      <td>45+2</td>\n      <td>16+2</td>\n      <td>https://cdn.sofifa.net/players/264/540/22_120.png</td>\n      <td>https://cdn.sofifa.net/teams/113040/60.png</td>\n      <td>https://cdn.sofifa.net/flags/in.png</td>\n      <td>NaN</td>\n      <td>https://cdn.sofifa.net/flags/in.png</td>\n    </tr>\n  </tbody>\n</table>\n<p>19239 rows × 110 columns</p>\n</div>"
     },
     "execution_count": 101,
     "metadata": {},
     "output_type": "execute_result"
    }
   ],
   "source": [
    "players_22"
   ],
   "metadata": {
    "collapsed": false,
    "ExecuteTime": {
     "end_time": "2024-06-21T18:05:05.693086Z",
     "start_time": "2024-06-21T18:05:05.551746700Z"
    }
   }
  },
  {
   "cell_type": "code",
   "execution_count": 102,
   "outputs": [
    {
     "data": {
      "text/plain": "           sofifa_id       overall     potential     value_eur       wage_eur  \\\ncount   19239.000000  19239.000000  19239.000000  1.916500e+04   19178.000000   \nmean   231468.086959     65.772182     71.079370  2.850452e+06    9017.989363   \nstd     27039.717497      6.880232      6.086213  7.613700e+06   19470.176724   \nmin        41.000000     47.000000     49.000000  9.000000e+03     500.000000   \n25%    214413.500000     61.000000     67.000000  4.750000e+05    1000.000000   \n50%    236543.000000     66.000000     71.000000  9.750000e+05    3000.000000   \n75%    253532.500000     70.000000     75.000000  2.000000e+06    8000.000000   \nmax    264640.000000     93.000000     95.000000  1.940000e+08  350000.000000   \n\n                age     height_cm     weight_kg   club_team_id  league_level  \\\ncount  19239.000000  19239.000000  19239.000000   19178.000000  19178.000000   \nmean      25.210822    181.299704     74.943032   50580.498123      1.354364   \nstd        4.748235      6.863179      7.069434   54401.868535      0.747865   \nmin       16.000000    155.000000     49.000000       1.000000      1.000000   \n25%       21.000000    176.000000     70.000000     479.000000      1.000000   \n50%       25.000000    181.000000     75.000000    1938.000000      1.000000   \n75%       29.000000    186.000000     80.000000  111139.000000      1.000000   \nmax       54.000000    206.000000    110.000000  115820.000000      5.000000   \n\n       ...  mentality_composure  defending_marking_awareness  \\\ncount  ...         19239.000000                 19239.000000   \nmean   ...            57.929830                    46.601746   \nstd    ...            12.159326                    20.200807   \nmin    ...            12.000000                     4.000000   \n25%    ...            50.000000                    29.000000   \n50%    ...            59.000000                    52.000000   \n75%    ...            66.000000                    63.000000   \nmax    ...            96.000000                    93.000000   \n\n       defending_standing_tackle  defending_sliding_tackle  \\\ncount               19239.000000              19239.000000   \nmean                   48.045584                 45.906700   \nstd                    21.232718                 20.755683   \nmin                     5.000000                  5.000000   \n25%                    28.000000                 25.000000   \n50%                    56.000000                 53.000000   \n75%                    65.000000                 63.000000   \nmax                    93.000000                 92.000000   \n\n       goalkeeping_diving  goalkeeping_handling  goalkeeping_kicking  \\\ncount        19239.000000          19239.000000         19239.000000   \nmean            16.406102             16.192474            16.055356   \nstd             17.574028             16.839528            16.564554   \nmin              2.000000              2.000000             2.000000   \n25%              8.000000              8.000000             8.000000   \n50%             11.000000             11.000000            11.000000   \n75%             14.000000             14.000000            14.000000   \nmax             91.000000             92.000000            93.000000   \n\n       goalkeeping_positioning  goalkeeping_reflexes  goalkeeping_speed  \ncount             19239.000000          19239.000000        2132.000000  \nmean                 16.229274             16.491814          36.439962  \nstd                  17.059779             17.884833          10.751563  \nmin                   2.000000              2.000000          15.000000  \n25%                   8.000000              8.000000          27.000000  \n50%                  11.000000             11.000000          36.000000  \n75%                  14.000000             14.000000          45.000000  \nmax                  92.000000             90.000000          65.000000  \n\n[8 rows x 60 columns]",
      "text/html": "<div>\n<style scoped>\n    .dataframe tbody tr th:only-of-type {\n        vertical-align: middle;\n    }\n\n    .dataframe tbody tr th {\n        vertical-align: top;\n    }\n\n    .dataframe thead th {\n        text-align: right;\n    }\n</style>\n<table border=\"1\" class=\"dataframe\">\n  <thead>\n    <tr style=\"text-align: right;\">\n      <th></th>\n      <th>sofifa_id</th>\n      <th>overall</th>\n      <th>potential</th>\n      <th>value_eur</th>\n      <th>wage_eur</th>\n      <th>age</th>\n      <th>height_cm</th>\n      <th>weight_kg</th>\n      <th>club_team_id</th>\n      <th>league_level</th>\n      <th>...</th>\n      <th>mentality_composure</th>\n      <th>defending_marking_awareness</th>\n      <th>defending_standing_tackle</th>\n      <th>defending_sliding_tackle</th>\n      <th>goalkeeping_diving</th>\n      <th>goalkeeping_handling</th>\n      <th>goalkeeping_kicking</th>\n      <th>goalkeeping_positioning</th>\n      <th>goalkeeping_reflexes</th>\n      <th>goalkeeping_speed</th>\n    </tr>\n  </thead>\n  <tbody>\n    <tr>\n      <th>count</th>\n      <td>19239.000000</td>\n      <td>19239.000000</td>\n      <td>19239.000000</td>\n      <td>1.916500e+04</td>\n      <td>19178.000000</td>\n      <td>19239.000000</td>\n      <td>19239.000000</td>\n      <td>19239.000000</td>\n      <td>19178.000000</td>\n      <td>19178.000000</td>\n      <td>...</td>\n      <td>19239.000000</td>\n      <td>19239.000000</td>\n      <td>19239.000000</td>\n      <td>19239.000000</td>\n      <td>19239.000000</td>\n      <td>19239.000000</td>\n      <td>19239.000000</td>\n      <td>19239.000000</td>\n      <td>19239.000000</td>\n      <td>2132.000000</td>\n    </tr>\n    <tr>\n      <th>mean</th>\n      <td>231468.086959</td>\n      <td>65.772182</td>\n      <td>71.079370</td>\n      <td>2.850452e+06</td>\n      <td>9017.989363</td>\n      <td>25.210822</td>\n      <td>181.299704</td>\n      <td>74.943032</td>\n      <td>50580.498123</td>\n      <td>1.354364</td>\n      <td>...</td>\n      <td>57.929830</td>\n      <td>46.601746</td>\n      <td>48.045584</td>\n      <td>45.906700</td>\n      <td>16.406102</td>\n      <td>16.192474</td>\n      <td>16.055356</td>\n      <td>16.229274</td>\n      <td>16.491814</td>\n      <td>36.439962</td>\n    </tr>\n    <tr>\n      <th>std</th>\n      <td>27039.717497</td>\n      <td>6.880232</td>\n      <td>6.086213</td>\n      <td>7.613700e+06</td>\n      <td>19470.176724</td>\n      <td>4.748235</td>\n      <td>6.863179</td>\n      <td>7.069434</td>\n      <td>54401.868535</td>\n      <td>0.747865</td>\n      <td>...</td>\n      <td>12.159326</td>\n      <td>20.200807</td>\n      <td>21.232718</td>\n      <td>20.755683</td>\n      <td>17.574028</td>\n      <td>16.839528</td>\n      <td>16.564554</td>\n      <td>17.059779</td>\n      <td>17.884833</td>\n      <td>10.751563</td>\n    </tr>\n    <tr>\n      <th>min</th>\n      <td>41.000000</td>\n      <td>47.000000</td>\n      <td>49.000000</td>\n      <td>9.000000e+03</td>\n      <td>500.000000</td>\n      <td>16.000000</td>\n      <td>155.000000</td>\n      <td>49.000000</td>\n      <td>1.000000</td>\n      <td>1.000000</td>\n      <td>...</td>\n      <td>12.000000</td>\n      <td>4.000000</td>\n      <td>5.000000</td>\n      <td>5.000000</td>\n      <td>2.000000</td>\n      <td>2.000000</td>\n      <td>2.000000</td>\n      <td>2.000000</td>\n      <td>2.000000</td>\n      <td>15.000000</td>\n    </tr>\n    <tr>\n      <th>25%</th>\n      <td>214413.500000</td>\n      <td>61.000000</td>\n      <td>67.000000</td>\n      <td>4.750000e+05</td>\n      <td>1000.000000</td>\n      <td>21.000000</td>\n      <td>176.000000</td>\n      <td>70.000000</td>\n      <td>479.000000</td>\n      <td>1.000000</td>\n      <td>...</td>\n      <td>50.000000</td>\n      <td>29.000000</td>\n      <td>28.000000</td>\n      <td>25.000000</td>\n      <td>8.000000</td>\n      <td>8.000000</td>\n      <td>8.000000</td>\n      <td>8.000000</td>\n      <td>8.000000</td>\n      <td>27.000000</td>\n    </tr>\n    <tr>\n      <th>50%</th>\n      <td>236543.000000</td>\n      <td>66.000000</td>\n      <td>71.000000</td>\n      <td>9.750000e+05</td>\n      <td>3000.000000</td>\n      <td>25.000000</td>\n      <td>181.000000</td>\n      <td>75.000000</td>\n      <td>1938.000000</td>\n      <td>1.000000</td>\n      <td>...</td>\n      <td>59.000000</td>\n      <td>52.000000</td>\n      <td>56.000000</td>\n      <td>53.000000</td>\n      <td>11.000000</td>\n      <td>11.000000</td>\n      <td>11.000000</td>\n      <td>11.000000</td>\n      <td>11.000000</td>\n      <td>36.000000</td>\n    </tr>\n    <tr>\n      <th>75%</th>\n      <td>253532.500000</td>\n      <td>70.000000</td>\n      <td>75.000000</td>\n      <td>2.000000e+06</td>\n      <td>8000.000000</td>\n      <td>29.000000</td>\n      <td>186.000000</td>\n      <td>80.000000</td>\n      <td>111139.000000</td>\n      <td>1.000000</td>\n      <td>...</td>\n      <td>66.000000</td>\n      <td>63.000000</td>\n      <td>65.000000</td>\n      <td>63.000000</td>\n      <td>14.000000</td>\n      <td>14.000000</td>\n      <td>14.000000</td>\n      <td>14.000000</td>\n      <td>14.000000</td>\n      <td>45.000000</td>\n    </tr>\n    <tr>\n      <th>max</th>\n      <td>264640.000000</td>\n      <td>93.000000</td>\n      <td>95.000000</td>\n      <td>1.940000e+08</td>\n      <td>350000.000000</td>\n      <td>54.000000</td>\n      <td>206.000000</td>\n      <td>110.000000</td>\n      <td>115820.000000</td>\n      <td>5.000000</td>\n      <td>...</td>\n      <td>96.000000</td>\n      <td>93.000000</td>\n      <td>93.000000</td>\n      <td>92.000000</td>\n      <td>91.000000</td>\n      <td>92.000000</td>\n      <td>93.000000</td>\n      <td>92.000000</td>\n      <td>90.000000</td>\n      <td>65.000000</td>\n    </tr>\n  </tbody>\n</table>\n<p>8 rows × 60 columns</p>\n</div>"
     },
     "execution_count": 102,
     "metadata": {},
     "output_type": "execute_result"
    }
   ],
   "source": [
    "players_22.describe()"
   ],
   "metadata": {
    "collapsed": false,
    "ExecuteTime": {
     "end_time": "2024-06-21T18:05:05.875625600Z",
     "start_time": "2024-06-21T18:05:05.646988900Z"
    }
   }
  },
  {
   "cell_type": "code",
   "execution_count": 103,
   "outputs": [
    {
     "name": "stdout",
     "output_type": "stream",
     "text": [
      "<class 'pandas.core.frame.DataFrame'>\n",
      "RangeIndex: 19239 entries, 0 to 19238\n",
      "Columns: 110 entries, sofifa_id to nation_flag_url\n",
      "dtypes: float64(16), int64(44), object(50)\n",
      "memory usage: 16.1+ MB\n"
     ]
    }
   ],
   "source": [
    "players_22.info()"
   ],
   "metadata": {
    "collapsed": false,
    "ExecuteTime": {
     "end_time": "2024-06-21T18:05:05.877825700Z",
     "start_time": "2024-06-21T18:05:05.818795700Z"
    }
   }
  },
  {
   "cell_type": "code",
   "execution_count": 104,
   "outputs": [
    {
     "name": "stdout",
     "output_type": "stream",
     "text": [
      "Index(['player_url', 'short_name', 'long_name', 'player_positions', 'dob',\n",
      "       'club_name', 'league_name', 'club_position', 'club_loaned_from',\n",
      "       'club_joined', 'nationality_name', 'nation_position', 'preferred_foot',\n",
      "       'work_rate', 'body_type', 'real_face', 'player_tags', 'player_traits',\n",
      "       'ls', 'st', 'rs', 'lw', 'lf', 'cf', 'rf', 'rw', 'lam', 'cam', 'ram',\n",
      "       'lm', 'lcm', 'cm', 'rcm', 'rm', 'lwb', 'ldm', 'cdm', 'rdm', 'rwb', 'lb',\n",
      "       'lcb', 'cb', 'rcb', 'rb', 'gk', 'player_face_url', 'club_logo_url',\n",
      "       'club_flag_url', 'nation_logo_url', 'nation_flag_url'],\n",
      "      dtype='object')\n"
     ]
    }
   ],
   "source": [
    "object_columns = players_22.select_dtypes(include='object').columns\n",
    "\n",
    "print(object_columns)"
   ],
   "metadata": {
    "collapsed": false,
    "ExecuteTime": {
     "end_time": "2024-06-21T18:05:05.879340400Z",
     "start_time": "2024-06-21T18:05:05.818795700Z"
    }
   }
  },
  {
   "cell_type": "code",
   "execution_count": 105,
   "outputs": [],
   "source": [
    "columns_to_drop = players_22.filter(regex='url|dob').columns\n",
    "\n",
    "players_22.drop(columns=columns_to_drop, axis=1, inplace=True)"
   ],
   "metadata": {
    "collapsed": false,
    "ExecuteTime": {
     "end_time": "2024-06-21T18:05:05.906070700Z",
     "start_time": "2024-06-21T18:05:05.862626300Z"
    }
   }
  },
  {
   "cell_type": "code",
   "execution_count": 106,
   "outputs": [
    {
     "name": "stdout",
     "output_type": "stream",
     "text": [
      "<class 'pandas.core.frame.DataFrame'>\n",
      "RangeIndex: 19239 entries, 0 to 19238\n",
      "Columns: 103 entries, sofifa_id to gk\n",
      "dtypes: float64(16), int64(44), object(43)\n",
      "memory usage: 15.1+ MB\n"
     ]
    }
   ],
   "source": [
    "players_22.info()"
   ],
   "metadata": {
    "collapsed": false,
    "ExecuteTime": {
     "end_time": "2024-06-21T18:05:05.913073Z",
     "start_time": "2024-06-21T18:05:05.889338600Z"
    }
   }
  },
  {
   "cell_type": "code",
   "execution_count": 107,
   "outputs": [],
   "source": [
    "L = []\n",
    "L_less = []\n",
    "for i in players_22.columns:\n",
    "    if players_22[i].isnull().sum()<(0.3 * players_22.shape[0]):\n",
    "        L.append(i)\n",
    "    else:\n",
    "        L_less.append(i)"
   ],
   "metadata": {
    "collapsed": false,
    "ExecuteTime": {
     "end_time": "2024-06-21T18:05:06.049103700Z",
     "start_time": "2024-06-21T18:05:05.907069800Z"
    }
   }
  },
  {
   "cell_type": "code",
   "execution_count": 108,
   "outputs": [],
   "source": [
    "players_22 = players_22[L]"
   ],
   "metadata": {
    "collapsed": false,
    "ExecuteTime": {
     "end_time": "2024-06-21T18:05:06.077109900Z",
     "start_time": "2024-06-21T18:05:05.953052Z"
    }
   }
  },
  {
   "cell_type": "code",
   "execution_count": 109,
   "outputs": [
    {
     "name": "stdout",
     "output_type": "stream",
     "text": [
      "<class 'pandas.core.frame.DataFrame'>\n",
      "RangeIndex: 19239 entries, 0 to 19238\n",
      "Data columns (total 96 columns):\n",
      " #   Column                       Non-Null Count  Dtype  \n",
      "---  ------                       --------------  -----  \n",
      " 0   sofifa_id                    19239 non-null  int64  \n",
      " 1   short_name                   19239 non-null  object \n",
      " 2   long_name                    19239 non-null  object \n",
      " 3   player_positions             19239 non-null  object \n",
      " 4   overall                      19239 non-null  int64  \n",
      " 5   potential                    19239 non-null  int64  \n",
      " 6   value_eur                    19165 non-null  float64\n",
      " 7   wage_eur                     19178 non-null  float64\n",
      " 8   age                          19239 non-null  int64  \n",
      " 9   height_cm                    19239 non-null  int64  \n",
      " 10  weight_kg                    19239 non-null  int64  \n",
      " 11  club_team_id                 19178 non-null  float64\n",
      " 12  club_name                    19178 non-null  object \n",
      " 13  league_name                  19178 non-null  object \n",
      " 14  league_level                 19178 non-null  float64\n",
      " 15  club_position                19178 non-null  object \n",
      " 16  club_jersey_number           19178 non-null  float64\n",
      " 17  club_joined                  18076 non-null  object \n",
      " 18  club_contract_valid_until    19178 non-null  float64\n",
      " 19  nationality_id               19239 non-null  int64  \n",
      " 20  nationality_name             19239 non-null  object \n",
      " 21  preferred_foot               19239 non-null  object \n",
      " 22  weak_foot                    19239 non-null  int64  \n",
      " 23  skill_moves                  19239 non-null  int64  \n",
      " 24  international_reputation     19239 non-null  int64  \n",
      " 25  work_rate                    19239 non-null  object \n",
      " 26  body_type                    19239 non-null  object \n",
      " 27  real_face                    19239 non-null  object \n",
      " 28  release_clause_eur           18063 non-null  float64\n",
      " 29  pace                         17107 non-null  float64\n",
      " 30  shooting                     17107 non-null  float64\n",
      " 31  passing                      17107 non-null  float64\n",
      " 32  dribbling                    17107 non-null  float64\n",
      " 33  defending                    17107 non-null  float64\n",
      " 34  physic                       17107 non-null  float64\n",
      " 35  attacking_crossing           19239 non-null  int64  \n",
      " 36  attacking_finishing          19239 non-null  int64  \n",
      " 37  attacking_heading_accuracy   19239 non-null  int64  \n",
      " 38  attacking_short_passing      19239 non-null  int64  \n",
      " 39  attacking_volleys            19239 non-null  int64  \n",
      " 40  skill_dribbling              19239 non-null  int64  \n",
      " 41  skill_curve                  19239 non-null  int64  \n",
      " 42  skill_fk_accuracy            19239 non-null  int64  \n",
      " 43  skill_long_passing           19239 non-null  int64  \n",
      " 44  skill_ball_control           19239 non-null  int64  \n",
      " 45  movement_acceleration        19239 non-null  int64  \n",
      " 46  movement_sprint_speed        19239 non-null  int64  \n",
      " 47  movement_agility             19239 non-null  int64  \n",
      " 48  movement_reactions           19239 non-null  int64  \n",
      " 49  movement_balance             19239 non-null  int64  \n",
      " 50  power_shot_power             19239 non-null  int64  \n",
      " 51  power_jumping                19239 non-null  int64  \n",
      " 52  power_stamina                19239 non-null  int64  \n",
      " 53  power_strength               19239 non-null  int64  \n",
      " 54  power_long_shots             19239 non-null  int64  \n",
      " 55  mentality_aggression         19239 non-null  int64  \n",
      " 56  mentality_interceptions      19239 non-null  int64  \n",
      " 57  mentality_positioning        19239 non-null  int64  \n",
      " 58  mentality_vision             19239 non-null  int64  \n",
      " 59  mentality_penalties          19239 non-null  int64  \n",
      " 60  mentality_composure          19239 non-null  int64  \n",
      " 61  defending_marking_awareness  19239 non-null  int64  \n",
      " 62  defending_standing_tackle    19239 non-null  int64  \n",
      " 63  defending_sliding_tackle     19239 non-null  int64  \n",
      " 64  goalkeeping_diving           19239 non-null  int64  \n",
      " 65  goalkeeping_handling         19239 non-null  int64  \n",
      " 66  goalkeeping_kicking          19239 non-null  int64  \n",
      " 67  goalkeeping_positioning      19239 non-null  int64  \n",
      " 68  goalkeeping_reflexes         19239 non-null  int64  \n",
      " 69  ls                           19239 non-null  object \n",
      " 70  st                           19239 non-null  object \n",
      " 71  rs                           19239 non-null  object \n",
      " 72  lw                           19239 non-null  object \n",
      " 73  lf                           19239 non-null  object \n",
      " 74  cf                           19239 non-null  object \n",
      " 75  rf                           19239 non-null  object \n",
      " 76  rw                           19239 non-null  object \n",
      " 77  lam                          19239 non-null  object \n",
      " 78  cam                          19239 non-null  object \n",
      " 79  ram                          19239 non-null  object \n",
      " 80  lm                           19239 non-null  object \n",
      " 81  lcm                          19239 non-null  object \n",
      " 82  cm                           19239 non-null  object \n",
      " 83  rcm                          19239 non-null  object \n",
      " 84  rm                           19239 non-null  object \n",
      " 85  lwb                          19239 non-null  object \n",
      " 86  ldm                          19239 non-null  object \n",
      " 87  cdm                          19239 non-null  object \n",
      " 88  rdm                          19239 non-null  object \n",
      " 89  rwb                          19239 non-null  object \n",
      " 90  lb                           19239 non-null  object \n",
      " 91  lcb                          19239 non-null  object \n",
      " 92  cb                           19239 non-null  object \n",
      " 93  rcb                          19239 non-null  object \n",
      " 94  rb                           19239 non-null  object \n",
      " 95  gk                           19239 non-null  object \n",
      "dtypes: float64(13), int64(44), object(39)\n",
      "memory usage: 14.1+ MB\n"
     ]
    }
   ],
   "source": [
    "players_22.info()"
   ],
   "metadata": {
    "collapsed": false,
    "ExecuteTime": {
     "end_time": "2024-06-21T18:05:06.135105600Z",
     "start_time": "2024-06-21T18:05:05.972822700Z"
    }
   }
  },
  {
   "cell_type": "code",
   "execution_count": 110,
   "outputs": [
    {
     "name": "stderr",
     "output_type": "stream",
     "text": [
      "C:\\Users\\mcnob\\AppData\\Local\\Temp\\ipykernel_3992\\785239146.py:5: SettingWithCopyWarning: \n",
      "A value is trying to be set on a copy of a slice from a DataFrame.\n",
      "Try using .loc[row_indexer,col_indexer] = value instead\n",
      "\n",
      "See the caveats in the documentation: https://pandas.pydata.org/pandas-docs/stable/user_guide/indexing.html#returning-a-view-versus-a-copy\n",
      "  players_22[numeric_cols] = num_imputer.fit_transform(players_22[numeric_cols])\n",
      "C:\\Users\\mcnob\\AppData\\Local\\Temp\\ipykernel_3992\\785239146.py:8: SettingWithCopyWarning: \n",
      "A value is trying to be set on a copy of a slice from a DataFrame.\n",
      "Try using .loc[row_indexer,col_indexer] = value instead\n",
      "\n",
      "See the caveats in the documentation: https://pandas.pydata.org/pandas-docs/stable/user_guide/indexing.html#returning-a-view-versus-a-copy\n",
      "  players_22[players_22.select_dtypes(include='object').columns] = obj_imputer.fit_transform(players_22[players_22.select_dtypes(include='object').columns])\n"
     ]
    }
   ],
   "source": [
    "from sklearn.impute import SimpleImputer\n",
    "\n",
    "numeric_cols = players_22.select_dtypes(include=['number']).columns\n",
    "num_imputer = SimpleImputer(strategy='median')\n",
    "players_22[numeric_cols] = num_imputer.fit_transform(players_22[numeric_cols])\n",
    "\n",
    "obj_imputer = SimpleImputer(strategy='most_frequent')\n",
    "players_22[players_22.select_dtypes(include='object').columns] = obj_imputer.fit_transform(players_22[players_22.select_dtypes(include='object').columns])"
   ],
   "metadata": {
    "collapsed": false,
    "ExecuteTime": {
     "end_time": "2024-06-21T18:05:06.377249800Z",
     "start_time": "2024-06-21T18:05:06.049103700Z"
    }
   }
  },
  {
   "cell_type": "code",
   "execution_count": 111,
   "outputs": [
    {
     "name": "stderr",
     "output_type": "stream",
     "text": [
      "C:\\Users\\mcnob\\AppData\\Local\\Temp\\ipykernel_3992\\785395802.py:8: SettingWithCopyWarning: \n",
      "A value is trying to be set on a copy of a slice from a DataFrame.\n",
      "Try using .loc[row_indexer,col_indexer] = value instead\n",
      "\n",
      "See the caveats in the documentation: https://pandas.pydata.org/pandas-docs/stable/user_guide/indexing.html#returning-a-view-versus-a-copy\n",
      "  players_22[col] = players_22[col].apply(lambda x: eval(x) if isinstance(x, str) and re.match(r'^\\d+[\\+\\-]\\d+$', x) else x)\n",
      "C:\\Users\\mcnob\\AppData\\Local\\Temp\\ipykernel_3992\\785395802.py:8: SettingWithCopyWarning: \n",
      "A value is trying to be set on a copy of a slice from a DataFrame.\n",
      "Try using .loc[row_indexer,col_indexer] = value instead\n",
      "\n",
      "See the caveats in the documentation: https://pandas.pydata.org/pandas-docs/stable/user_guide/indexing.html#returning-a-view-versus-a-copy\n",
      "  players_22[col] = players_22[col].apply(lambda x: eval(x) if isinstance(x, str) and re.match(r'^\\d+[\\+\\-]\\d+$', x) else x)\n",
      "C:\\Users\\mcnob\\AppData\\Local\\Temp\\ipykernel_3992\\785395802.py:8: SettingWithCopyWarning: \n",
      "A value is trying to be set on a copy of a slice from a DataFrame.\n",
      "Try using .loc[row_indexer,col_indexer] = value instead\n",
      "\n",
      "See the caveats in the documentation: https://pandas.pydata.org/pandas-docs/stable/user_guide/indexing.html#returning-a-view-versus-a-copy\n",
      "  players_22[col] = players_22[col].apply(lambda x: eval(x) if isinstance(x, str) and re.match(r'^\\d+[\\+\\-]\\d+$', x) else x)\n",
      "C:\\Users\\mcnob\\AppData\\Local\\Temp\\ipykernel_3992\\785395802.py:8: SettingWithCopyWarning: \n",
      "A value is trying to be set on a copy of a slice from a DataFrame.\n",
      "Try using .loc[row_indexer,col_indexer] = value instead\n",
      "\n",
      "See the caveats in the documentation: https://pandas.pydata.org/pandas-docs/stable/user_guide/indexing.html#returning-a-view-versus-a-copy\n",
      "  players_22[col] = players_22[col].apply(lambda x: eval(x) if isinstance(x, str) and re.match(r'^\\d+[\\+\\-]\\d+$', x) else x)\n",
      "C:\\Users\\mcnob\\AppData\\Local\\Temp\\ipykernel_3992\\785395802.py:8: SettingWithCopyWarning: \n",
      "A value is trying to be set on a copy of a slice from a DataFrame.\n",
      "Try using .loc[row_indexer,col_indexer] = value instead\n",
      "\n",
      "See the caveats in the documentation: https://pandas.pydata.org/pandas-docs/stable/user_guide/indexing.html#returning-a-view-versus-a-copy\n",
      "  players_22[col] = players_22[col].apply(lambda x: eval(x) if isinstance(x, str) and re.match(r'^\\d+[\\+\\-]\\d+$', x) else x)\n",
      "C:\\Users\\mcnob\\AppData\\Local\\Temp\\ipykernel_3992\\785395802.py:8: SettingWithCopyWarning: \n",
      "A value is trying to be set on a copy of a slice from a DataFrame.\n",
      "Try using .loc[row_indexer,col_indexer] = value instead\n",
      "\n",
      "See the caveats in the documentation: https://pandas.pydata.org/pandas-docs/stable/user_guide/indexing.html#returning-a-view-versus-a-copy\n",
      "  players_22[col] = players_22[col].apply(lambda x: eval(x) if isinstance(x, str) and re.match(r'^\\d+[\\+\\-]\\d+$', x) else x)\n",
      "C:\\Users\\mcnob\\AppData\\Local\\Temp\\ipykernel_3992\\785395802.py:8: SettingWithCopyWarning: \n",
      "A value is trying to be set on a copy of a slice from a DataFrame.\n",
      "Try using .loc[row_indexer,col_indexer] = value instead\n",
      "\n",
      "See the caveats in the documentation: https://pandas.pydata.org/pandas-docs/stable/user_guide/indexing.html#returning-a-view-versus-a-copy\n",
      "  players_22[col] = players_22[col].apply(lambda x: eval(x) if isinstance(x, str) and re.match(r'^\\d+[\\+\\-]\\d+$', x) else x)\n",
      "C:\\Users\\mcnob\\AppData\\Local\\Temp\\ipykernel_3992\\785395802.py:8: SettingWithCopyWarning: \n",
      "A value is trying to be set on a copy of a slice from a DataFrame.\n",
      "Try using .loc[row_indexer,col_indexer] = value instead\n",
      "\n",
      "See the caveats in the documentation: https://pandas.pydata.org/pandas-docs/stable/user_guide/indexing.html#returning-a-view-versus-a-copy\n",
      "  players_22[col] = players_22[col].apply(lambda x: eval(x) if isinstance(x, str) and re.match(r'^\\d+[\\+\\-]\\d+$', x) else x)\n",
      "C:\\Users\\mcnob\\AppData\\Local\\Temp\\ipykernel_3992\\785395802.py:8: SettingWithCopyWarning: \n",
      "A value is trying to be set on a copy of a slice from a DataFrame.\n",
      "Try using .loc[row_indexer,col_indexer] = value instead\n",
      "\n",
      "See the caveats in the documentation: https://pandas.pydata.org/pandas-docs/stable/user_guide/indexing.html#returning-a-view-versus-a-copy\n",
      "  players_22[col] = players_22[col].apply(lambda x: eval(x) if isinstance(x, str) and re.match(r'^\\d+[\\+\\-]\\d+$', x) else x)\n",
      "C:\\Users\\mcnob\\AppData\\Local\\Temp\\ipykernel_3992\\785395802.py:8: SettingWithCopyWarning: \n",
      "A value is trying to be set on a copy of a slice from a DataFrame.\n",
      "Try using .loc[row_indexer,col_indexer] = value instead\n",
      "\n",
      "See the caveats in the documentation: https://pandas.pydata.org/pandas-docs/stable/user_guide/indexing.html#returning-a-view-versus-a-copy\n",
      "  players_22[col] = players_22[col].apply(lambda x: eval(x) if isinstance(x, str) and re.match(r'^\\d+[\\+\\-]\\d+$', x) else x)\n",
      "C:\\Users\\mcnob\\AppData\\Local\\Temp\\ipykernel_3992\\785395802.py:8: SettingWithCopyWarning: \n",
      "A value is trying to be set on a copy of a slice from a DataFrame.\n",
      "Try using .loc[row_indexer,col_indexer] = value instead\n",
      "\n",
      "See the caveats in the documentation: https://pandas.pydata.org/pandas-docs/stable/user_guide/indexing.html#returning-a-view-versus-a-copy\n",
      "  players_22[col] = players_22[col].apply(lambda x: eval(x) if isinstance(x, str) and re.match(r'^\\d+[\\+\\-]\\d+$', x) else x)\n",
      "C:\\Users\\mcnob\\AppData\\Local\\Temp\\ipykernel_3992\\785395802.py:8: SettingWithCopyWarning: \n",
      "A value is trying to be set on a copy of a slice from a DataFrame.\n",
      "Try using .loc[row_indexer,col_indexer] = value instead\n",
      "\n",
      "See the caveats in the documentation: https://pandas.pydata.org/pandas-docs/stable/user_guide/indexing.html#returning-a-view-versus-a-copy\n",
      "  players_22[col] = players_22[col].apply(lambda x: eval(x) if isinstance(x, str) and re.match(r'^\\d+[\\+\\-]\\d+$', x) else x)\n",
      "C:\\Users\\mcnob\\AppData\\Local\\Temp\\ipykernel_3992\\785395802.py:8: SettingWithCopyWarning: \n",
      "A value is trying to be set on a copy of a slice from a DataFrame.\n",
      "Try using .loc[row_indexer,col_indexer] = value instead\n",
      "\n",
      "See the caveats in the documentation: https://pandas.pydata.org/pandas-docs/stable/user_guide/indexing.html#returning-a-view-versus-a-copy\n",
      "  players_22[col] = players_22[col].apply(lambda x: eval(x) if isinstance(x, str) and re.match(r'^\\d+[\\+\\-]\\d+$', x) else x)\n",
      "C:\\Users\\mcnob\\AppData\\Local\\Temp\\ipykernel_3992\\785395802.py:8: SettingWithCopyWarning: \n",
      "A value is trying to be set on a copy of a slice from a DataFrame.\n",
      "Try using .loc[row_indexer,col_indexer] = value instead\n",
      "\n",
      "See the caveats in the documentation: https://pandas.pydata.org/pandas-docs/stable/user_guide/indexing.html#returning-a-view-versus-a-copy\n",
      "  players_22[col] = players_22[col].apply(lambda x: eval(x) if isinstance(x, str) and re.match(r'^\\d+[\\+\\-]\\d+$', x) else x)\n",
      "C:\\Users\\mcnob\\AppData\\Local\\Temp\\ipykernel_3992\\785395802.py:8: SettingWithCopyWarning: \n",
      "A value is trying to be set on a copy of a slice from a DataFrame.\n",
      "Try using .loc[row_indexer,col_indexer] = value instead\n",
      "\n",
      "See the caveats in the documentation: https://pandas.pydata.org/pandas-docs/stable/user_guide/indexing.html#returning-a-view-versus-a-copy\n",
      "  players_22[col] = players_22[col].apply(lambda x: eval(x) if isinstance(x, str) and re.match(r'^\\d+[\\+\\-]\\d+$', x) else x)\n",
      "C:\\Users\\mcnob\\AppData\\Local\\Temp\\ipykernel_3992\\785395802.py:8: SettingWithCopyWarning: \n",
      "A value is trying to be set on a copy of a slice from a DataFrame.\n",
      "Try using .loc[row_indexer,col_indexer] = value instead\n",
      "\n",
      "See the caveats in the documentation: https://pandas.pydata.org/pandas-docs/stable/user_guide/indexing.html#returning-a-view-versus-a-copy\n",
      "  players_22[col] = players_22[col].apply(lambda x: eval(x) if isinstance(x, str) and re.match(r'^\\d+[\\+\\-]\\d+$', x) else x)\n",
      "C:\\Users\\mcnob\\AppData\\Local\\Temp\\ipykernel_3992\\785395802.py:8: SettingWithCopyWarning: \n",
      "A value is trying to be set on a copy of a slice from a DataFrame.\n",
      "Try using .loc[row_indexer,col_indexer] = value instead\n",
      "\n",
      "See the caveats in the documentation: https://pandas.pydata.org/pandas-docs/stable/user_guide/indexing.html#returning-a-view-versus-a-copy\n",
      "  players_22[col] = players_22[col].apply(lambda x: eval(x) if isinstance(x, str) and re.match(r'^\\d+[\\+\\-]\\d+$', x) else x)\n",
      "C:\\Users\\mcnob\\AppData\\Local\\Temp\\ipykernel_3992\\785395802.py:8: SettingWithCopyWarning: \n",
      "A value is trying to be set on a copy of a slice from a DataFrame.\n",
      "Try using .loc[row_indexer,col_indexer] = value instead\n",
      "\n",
      "See the caveats in the documentation: https://pandas.pydata.org/pandas-docs/stable/user_guide/indexing.html#returning-a-view-versus-a-copy\n",
      "  players_22[col] = players_22[col].apply(lambda x: eval(x) if isinstance(x, str) and re.match(r'^\\d+[\\+\\-]\\d+$', x) else x)\n",
      "C:\\Users\\mcnob\\AppData\\Local\\Temp\\ipykernel_3992\\785395802.py:8: SettingWithCopyWarning: \n",
      "A value is trying to be set on a copy of a slice from a DataFrame.\n",
      "Try using .loc[row_indexer,col_indexer] = value instead\n",
      "\n",
      "See the caveats in the documentation: https://pandas.pydata.org/pandas-docs/stable/user_guide/indexing.html#returning-a-view-versus-a-copy\n",
      "  players_22[col] = players_22[col].apply(lambda x: eval(x) if isinstance(x, str) and re.match(r'^\\d+[\\+\\-]\\d+$', x) else x)\n",
      "C:\\Users\\mcnob\\AppData\\Local\\Temp\\ipykernel_3992\\785395802.py:8: SettingWithCopyWarning: \n",
      "A value is trying to be set on a copy of a slice from a DataFrame.\n",
      "Try using .loc[row_indexer,col_indexer] = value instead\n",
      "\n",
      "See the caveats in the documentation: https://pandas.pydata.org/pandas-docs/stable/user_guide/indexing.html#returning-a-view-versus-a-copy\n",
      "  players_22[col] = players_22[col].apply(lambda x: eval(x) if isinstance(x, str) and re.match(r'^\\d+[\\+\\-]\\d+$', x) else x)\n",
      "C:\\Users\\mcnob\\AppData\\Local\\Temp\\ipykernel_3992\\785395802.py:8: SettingWithCopyWarning: \n",
      "A value is trying to be set on a copy of a slice from a DataFrame.\n",
      "Try using .loc[row_indexer,col_indexer] = value instead\n",
      "\n",
      "See the caveats in the documentation: https://pandas.pydata.org/pandas-docs/stable/user_guide/indexing.html#returning-a-view-versus-a-copy\n",
      "  players_22[col] = players_22[col].apply(lambda x: eval(x) if isinstance(x, str) and re.match(r'^\\d+[\\+\\-]\\d+$', x) else x)\n",
      "C:\\Users\\mcnob\\AppData\\Local\\Temp\\ipykernel_3992\\785395802.py:8: SettingWithCopyWarning: \n",
      "A value is trying to be set on a copy of a slice from a DataFrame.\n",
      "Try using .loc[row_indexer,col_indexer] = value instead\n",
      "\n",
      "See the caveats in the documentation: https://pandas.pydata.org/pandas-docs/stable/user_guide/indexing.html#returning-a-view-versus-a-copy\n",
      "  players_22[col] = players_22[col].apply(lambda x: eval(x) if isinstance(x, str) and re.match(r'^\\d+[\\+\\-]\\d+$', x) else x)\n",
      "C:\\Users\\mcnob\\AppData\\Local\\Temp\\ipykernel_3992\\785395802.py:8: SettingWithCopyWarning: \n",
      "A value is trying to be set on a copy of a slice from a DataFrame.\n",
      "Try using .loc[row_indexer,col_indexer] = value instead\n",
      "\n",
      "See the caveats in the documentation: https://pandas.pydata.org/pandas-docs/stable/user_guide/indexing.html#returning-a-view-versus-a-copy\n",
      "  players_22[col] = players_22[col].apply(lambda x: eval(x) if isinstance(x, str) and re.match(r'^\\d+[\\+\\-]\\d+$', x) else x)\n",
      "C:\\Users\\mcnob\\AppData\\Local\\Temp\\ipykernel_3992\\785395802.py:8: SettingWithCopyWarning: \n",
      "A value is trying to be set on a copy of a slice from a DataFrame.\n",
      "Try using .loc[row_indexer,col_indexer] = value instead\n",
      "\n",
      "See the caveats in the documentation: https://pandas.pydata.org/pandas-docs/stable/user_guide/indexing.html#returning-a-view-versus-a-copy\n",
      "  players_22[col] = players_22[col].apply(lambda x: eval(x) if isinstance(x, str) and re.match(r'^\\d+[\\+\\-]\\d+$', x) else x)\n",
      "C:\\Users\\mcnob\\AppData\\Local\\Temp\\ipykernel_3992\\785395802.py:8: SettingWithCopyWarning: \n",
      "A value is trying to be set on a copy of a slice from a DataFrame.\n",
      "Try using .loc[row_indexer,col_indexer] = value instead\n",
      "\n",
      "See the caveats in the documentation: https://pandas.pydata.org/pandas-docs/stable/user_guide/indexing.html#returning-a-view-versus-a-copy\n",
      "  players_22[col] = players_22[col].apply(lambda x: eval(x) if isinstance(x, str) and re.match(r'^\\d+[\\+\\-]\\d+$', x) else x)\n",
      "C:\\Users\\mcnob\\AppData\\Local\\Temp\\ipykernel_3992\\785395802.py:8: SettingWithCopyWarning: \n",
      "A value is trying to be set on a copy of a slice from a DataFrame.\n",
      "Try using .loc[row_indexer,col_indexer] = value instead\n",
      "\n",
      "See the caveats in the documentation: https://pandas.pydata.org/pandas-docs/stable/user_guide/indexing.html#returning-a-view-versus-a-copy\n",
      "  players_22[col] = players_22[col].apply(lambda x: eval(x) if isinstance(x, str) and re.match(r'^\\d+[\\+\\-]\\d+$', x) else x)\n",
      "C:\\Users\\mcnob\\AppData\\Local\\Temp\\ipykernel_3992\\785395802.py:8: SettingWithCopyWarning: \n",
      "A value is trying to be set on a copy of a slice from a DataFrame.\n",
      "Try using .loc[row_indexer,col_indexer] = value instead\n",
      "\n",
      "See the caveats in the documentation: https://pandas.pydata.org/pandas-docs/stable/user_guide/indexing.html#returning-a-view-versus-a-copy\n",
      "  players_22[col] = players_22[col].apply(lambda x: eval(x) if isinstance(x, str) and re.match(r'^\\d+[\\+\\-]\\d+$', x) else x)\n",
      "C:\\Users\\mcnob\\AppData\\Local\\Temp\\ipykernel_3992\\785395802.py:12: SettingWithCopyWarning: \n",
      "A value is trying to be set on a copy of a slice from a DataFrame.\n",
      "Try using .loc[row_indexer,col_indexer] = value instead\n",
      "\n",
      "See the caveats in the documentation: https://pandas.pydata.org/pandas-docs/stable/user_guide/indexing.html#returning-a-view-versus-a-copy\n",
      "  players_22[col] = players_22[col].astype(float)\n"
     ]
    }
   ],
   "source": [
    "for col in players_22.columns:\n",
    "    # Convert column to string for checking patterns\n",
    "    col_str = players_22[col].astype(str)\n",
    "\n",
    "    # Check if the column contains any data in the form of \"number+number\" or \"number-number\"\n",
    "    if col_str.str.contains(r'^\\d+[\\+\\-]\\d+$').any():\n",
    "        # Apply eval to each element in the column if it matches the pattern\n",
    "        players_22[col] = players_22[col].apply(lambda x: eval(x) if isinstance(x, str) and re.match(r'^\\d+[\\+\\-]\\d+$', x) else x)\n",
    "\n",
    "        # Convert the column to int or float as needed\n",
    "        if players_22[col].apply(lambda x: isinstance(x, (int, float))).all():\n",
    "            players_22[col] = players_22[col].astype(float)"
   ],
   "metadata": {
    "collapsed": false,
    "ExecuteTime": {
     "end_time": "2024-06-21T18:05:11.347329300Z",
     "start_time": "2024-06-21T18:05:06.381251800Z"
    }
   }
  },
  {
   "cell_type": "code",
   "execution_count": 112,
   "outputs": [
    {
     "name": "stdout",
     "output_type": "stream",
     "text": [
      "<class 'pandas.core.frame.DataFrame'>\n",
      "RangeIndex: 19239 entries, 0 to 19238\n",
      "Data columns (total 96 columns):\n",
      " #   Column                       Non-Null Count  Dtype  \n",
      "---  ------                       --------------  -----  \n",
      " 0   sofifa_id                    19239 non-null  float64\n",
      " 1   short_name                   19239 non-null  object \n",
      " 2   long_name                    19239 non-null  object \n",
      " 3   player_positions             19239 non-null  object \n",
      " 4   overall                      19239 non-null  float64\n",
      " 5   potential                    19239 non-null  float64\n",
      " 6   value_eur                    19239 non-null  float64\n",
      " 7   wage_eur                     19239 non-null  float64\n",
      " 8   age                          19239 non-null  float64\n",
      " 9   height_cm                    19239 non-null  float64\n",
      " 10  weight_kg                    19239 non-null  float64\n",
      " 11  club_team_id                 19239 non-null  float64\n",
      " 12  club_name                    19239 non-null  object \n",
      " 13  league_name                  19239 non-null  object \n",
      " 14  league_level                 19239 non-null  float64\n",
      " 15  club_position                19239 non-null  object \n",
      " 16  club_jersey_number           19239 non-null  float64\n",
      " 17  club_joined                  19239 non-null  object \n",
      " 18  club_contract_valid_until    19239 non-null  float64\n",
      " 19  nationality_id               19239 non-null  float64\n",
      " 20  nationality_name             19239 non-null  object \n",
      " 21  preferred_foot               19239 non-null  object \n",
      " 22  weak_foot                    19239 non-null  float64\n",
      " 23  skill_moves                  19239 non-null  float64\n",
      " 24  international_reputation     19239 non-null  float64\n",
      " 25  work_rate                    19239 non-null  object \n",
      " 26  body_type                    19239 non-null  object \n",
      " 27  real_face                    19239 non-null  object \n",
      " 28  release_clause_eur           19239 non-null  float64\n",
      " 29  pace                         19239 non-null  float64\n",
      " 30  shooting                     19239 non-null  float64\n",
      " 31  passing                      19239 non-null  float64\n",
      " 32  dribbling                    19239 non-null  float64\n",
      " 33  defending                    19239 non-null  float64\n",
      " 34  physic                       19239 non-null  float64\n",
      " 35  attacking_crossing           19239 non-null  float64\n",
      " 36  attacking_finishing          19239 non-null  float64\n",
      " 37  attacking_heading_accuracy   19239 non-null  float64\n",
      " 38  attacking_short_passing      19239 non-null  float64\n",
      " 39  attacking_volleys            19239 non-null  float64\n",
      " 40  skill_dribbling              19239 non-null  float64\n",
      " 41  skill_curve                  19239 non-null  float64\n",
      " 42  skill_fk_accuracy            19239 non-null  float64\n",
      " 43  skill_long_passing           19239 non-null  float64\n",
      " 44  skill_ball_control           19239 non-null  float64\n",
      " 45  movement_acceleration        19239 non-null  float64\n",
      " 46  movement_sprint_speed        19239 non-null  float64\n",
      " 47  movement_agility             19239 non-null  float64\n",
      " 48  movement_reactions           19239 non-null  float64\n",
      " 49  movement_balance             19239 non-null  float64\n",
      " 50  power_shot_power             19239 non-null  float64\n",
      " 51  power_jumping                19239 non-null  float64\n",
      " 52  power_stamina                19239 non-null  float64\n",
      " 53  power_strength               19239 non-null  float64\n",
      " 54  power_long_shots             19239 non-null  float64\n",
      " 55  mentality_aggression         19239 non-null  float64\n",
      " 56  mentality_interceptions      19239 non-null  float64\n",
      " 57  mentality_positioning        19239 non-null  float64\n",
      " 58  mentality_vision             19239 non-null  float64\n",
      " 59  mentality_penalties          19239 non-null  float64\n",
      " 60  mentality_composure          19239 non-null  float64\n",
      " 61  defending_marking_awareness  19239 non-null  float64\n",
      " 62  defending_standing_tackle    19239 non-null  float64\n",
      " 63  defending_sliding_tackle     19239 non-null  float64\n",
      " 64  goalkeeping_diving           19239 non-null  float64\n",
      " 65  goalkeeping_handling         19239 non-null  float64\n",
      " 66  goalkeeping_kicking          19239 non-null  float64\n",
      " 67  goalkeeping_positioning      19239 non-null  float64\n",
      " 68  goalkeeping_reflexes         19239 non-null  float64\n",
      " 69  ls                           19239 non-null  object \n",
      " 70  st                           19239 non-null  object \n",
      " 71  rs                           19239 non-null  object \n",
      " 72  lw                           19239 non-null  object \n",
      " 73  lf                           19239 non-null  object \n",
      " 74  cf                           19239 non-null  object \n",
      " 75  rf                           19239 non-null  object \n",
      " 76  rw                           19239 non-null  object \n",
      " 77  lam                          19239 non-null  object \n",
      " 78  cam                          19239 non-null  object \n",
      " 79  ram                          19239 non-null  object \n",
      " 80  lm                           19239 non-null  object \n",
      " 81  lcm                          19239 non-null  object \n",
      " 82  cm                           19239 non-null  object \n",
      " 83  rcm                          19239 non-null  object \n",
      " 84  rm                           19239 non-null  object \n",
      " 85  lwb                          19239 non-null  object \n",
      " 86  ldm                          19239 non-null  object \n",
      " 87  cdm                          19239 non-null  object \n",
      " 88  rdm                          19239 non-null  object \n",
      " 89  rwb                          19239 non-null  object \n",
      " 90  lb                           19239 non-null  object \n",
      " 91  lcb                          19239 non-null  object \n",
      " 92  cb                           19239 non-null  object \n",
      " 93  rcb                          19239 non-null  object \n",
      " 94  rb                           19239 non-null  object \n",
      " 95  gk                           19239 non-null  float64\n",
      "dtypes: float64(58), object(38)\n",
      "memory usage: 14.1+ MB\n"
     ]
    }
   ],
   "source": [
    "players_22.info()"
   ],
   "metadata": {
    "collapsed": false,
    "ExecuteTime": {
     "end_time": "2024-06-21T18:05:11.395074600Z",
     "start_time": "2024-06-21T18:05:11.349330400Z"
    }
   }
  },
  {
   "cell_type": "code",
   "execution_count": 113,
   "outputs": [
    {
     "data": {
      "text/plain": "       sofifa_id          short_name                            long_name  \\\n0       158023.0            L. Messi       Lionel Andrés Messi Cuccittini   \n1       188545.0      R. Lewandowski                   Robert Lewandowski   \n2        20801.0   Cristiano Ronaldo  Cristiano Ronaldo dos Santos Aveiro   \n3       190871.0           Neymar Jr        Neymar da Silva Santos Júnior   \n4       192985.0        K. De Bruyne                      Kevin De Bruyne   \n...          ...                 ...                                  ...   \n19234   261962.0           Song Defu                                  宋德福   \n19235   262040.0           C. Porter                      Caoimhin Porter   \n19236   262760.0            N. Logue              Nathan Logue-Cunningham   \n19237   262820.0           L. Rudden                          Luke Rudden   \n19238   264540.0  E. Lalchhanchhuaha              Emanuel Lalchhanchhuaha   \n\n      player_positions  overall  potential    value_eur  wage_eur   age  \\\n0           RW, ST, CF     93.0       93.0   78000000.0  320000.0  34.0   \n1                   ST     92.0       92.0  119500000.0  270000.0  32.0   \n2               ST, LW     91.0       91.0   45000000.0  270000.0  36.0   \n3              LW, CAM     91.0       91.0  129000000.0  270000.0  29.0   \n4              CM, CAM     91.0       91.0  125500000.0  350000.0  30.0   \n...                ...      ...        ...          ...       ...   ...   \n19234              CDM     47.0       52.0      70000.0    1000.0  22.0   \n19235               CM     47.0       59.0     110000.0     500.0  19.0   \n19236               CM     47.0       55.0     100000.0     500.0  21.0   \n19237               ST     47.0       60.0     110000.0     500.0  19.0   \n19238              CAM     47.0       60.0     110000.0     500.0  19.0   \n\n       height_cm  ...  ldm  cdm rdm rwb  lb lcb  cb rcb  rb    gk  \n0          170.0  ...   67   67  67  69  64  53  53  53  64  22.0  \n1          185.0  ...   69   69  69  67  64  63  63  63  64  22.0  \n2          187.0  ...   62   62  62  66  63  56  56  56  63  23.0  \n3          175.0  ...   66   66  66  70  65  53  53  53  65  23.0  \n4          181.0  ...   83   83  83  82  78  72  72  72  78  24.0  \n...          ...  ...  ...  ...  ..  ..  ..  ..  ..  ..  ..   ...  \n19234      180.0  ...   48   48  48  50  50  48  48  48  50  17.0  \n19235      175.0  ...   48   48  48  51  50  46  46  46  50  16.0  \n19236      178.0  ...   48   48  48  49  49  47  47  47  49  14.0  \n19237      173.0  ...   31   31  31  35  34  28  28  28  34  17.0  \n19238      167.0  ...   46   46  46  47  47  43  43  43  47  18.0  \n\n[19239 rows x 96 columns]",
      "text/html": "<div>\n<style scoped>\n    .dataframe tbody tr th:only-of-type {\n        vertical-align: middle;\n    }\n\n    .dataframe tbody tr th {\n        vertical-align: top;\n    }\n\n    .dataframe thead th {\n        text-align: right;\n    }\n</style>\n<table border=\"1\" class=\"dataframe\">\n  <thead>\n    <tr style=\"text-align: right;\">\n      <th></th>\n      <th>sofifa_id</th>\n      <th>short_name</th>\n      <th>long_name</th>\n      <th>player_positions</th>\n      <th>overall</th>\n      <th>potential</th>\n      <th>value_eur</th>\n      <th>wage_eur</th>\n      <th>age</th>\n      <th>height_cm</th>\n      <th>...</th>\n      <th>ldm</th>\n      <th>cdm</th>\n      <th>rdm</th>\n      <th>rwb</th>\n      <th>lb</th>\n      <th>lcb</th>\n      <th>cb</th>\n      <th>rcb</th>\n      <th>rb</th>\n      <th>gk</th>\n    </tr>\n  </thead>\n  <tbody>\n    <tr>\n      <th>0</th>\n      <td>158023.0</td>\n      <td>L. Messi</td>\n      <td>Lionel Andrés Messi Cuccittini</td>\n      <td>RW, ST, CF</td>\n      <td>93.0</td>\n      <td>93.0</td>\n      <td>78000000.0</td>\n      <td>320000.0</td>\n      <td>34.0</td>\n      <td>170.0</td>\n      <td>...</td>\n      <td>67</td>\n      <td>67</td>\n      <td>67</td>\n      <td>69</td>\n      <td>64</td>\n      <td>53</td>\n      <td>53</td>\n      <td>53</td>\n      <td>64</td>\n      <td>22.0</td>\n    </tr>\n    <tr>\n      <th>1</th>\n      <td>188545.0</td>\n      <td>R. Lewandowski</td>\n      <td>Robert Lewandowski</td>\n      <td>ST</td>\n      <td>92.0</td>\n      <td>92.0</td>\n      <td>119500000.0</td>\n      <td>270000.0</td>\n      <td>32.0</td>\n      <td>185.0</td>\n      <td>...</td>\n      <td>69</td>\n      <td>69</td>\n      <td>69</td>\n      <td>67</td>\n      <td>64</td>\n      <td>63</td>\n      <td>63</td>\n      <td>63</td>\n      <td>64</td>\n      <td>22.0</td>\n    </tr>\n    <tr>\n      <th>2</th>\n      <td>20801.0</td>\n      <td>Cristiano Ronaldo</td>\n      <td>Cristiano Ronaldo dos Santos Aveiro</td>\n      <td>ST, LW</td>\n      <td>91.0</td>\n      <td>91.0</td>\n      <td>45000000.0</td>\n      <td>270000.0</td>\n      <td>36.0</td>\n      <td>187.0</td>\n      <td>...</td>\n      <td>62</td>\n      <td>62</td>\n      <td>62</td>\n      <td>66</td>\n      <td>63</td>\n      <td>56</td>\n      <td>56</td>\n      <td>56</td>\n      <td>63</td>\n      <td>23.0</td>\n    </tr>\n    <tr>\n      <th>3</th>\n      <td>190871.0</td>\n      <td>Neymar Jr</td>\n      <td>Neymar da Silva Santos Júnior</td>\n      <td>LW, CAM</td>\n      <td>91.0</td>\n      <td>91.0</td>\n      <td>129000000.0</td>\n      <td>270000.0</td>\n      <td>29.0</td>\n      <td>175.0</td>\n      <td>...</td>\n      <td>66</td>\n      <td>66</td>\n      <td>66</td>\n      <td>70</td>\n      <td>65</td>\n      <td>53</td>\n      <td>53</td>\n      <td>53</td>\n      <td>65</td>\n      <td>23.0</td>\n    </tr>\n    <tr>\n      <th>4</th>\n      <td>192985.0</td>\n      <td>K. De Bruyne</td>\n      <td>Kevin De Bruyne</td>\n      <td>CM, CAM</td>\n      <td>91.0</td>\n      <td>91.0</td>\n      <td>125500000.0</td>\n      <td>350000.0</td>\n      <td>30.0</td>\n      <td>181.0</td>\n      <td>...</td>\n      <td>83</td>\n      <td>83</td>\n      <td>83</td>\n      <td>82</td>\n      <td>78</td>\n      <td>72</td>\n      <td>72</td>\n      <td>72</td>\n      <td>78</td>\n      <td>24.0</td>\n    </tr>\n    <tr>\n      <th>...</th>\n      <td>...</td>\n      <td>...</td>\n      <td>...</td>\n      <td>...</td>\n      <td>...</td>\n      <td>...</td>\n      <td>...</td>\n      <td>...</td>\n      <td>...</td>\n      <td>...</td>\n      <td>...</td>\n      <td>...</td>\n      <td>...</td>\n      <td>...</td>\n      <td>...</td>\n      <td>...</td>\n      <td>...</td>\n      <td>...</td>\n      <td>...</td>\n      <td>...</td>\n      <td>...</td>\n    </tr>\n    <tr>\n      <th>19234</th>\n      <td>261962.0</td>\n      <td>Song Defu</td>\n      <td>宋德福</td>\n      <td>CDM</td>\n      <td>47.0</td>\n      <td>52.0</td>\n      <td>70000.0</td>\n      <td>1000.0</td>\n      <td>22.0</td>\n      <td>180.0</td>\n      <td>...</td>\n      <td>48</td>\n      <td>48</td>\n      <td>48</td>\n      <td>50</td>\n      <td>50</td>\n      <td>48</td>\n      <td>48</td>\n      <td>48</td>\n      <td>50</td>\n      <td>17.0</td>\n    </tr>\n    <tr>\n      <th>19235</th>\n      <td>262040.0</td>\n      <td>C. Porter</td>\n      <td>Caoimhin Porter</td>\n      <td>CM</td>\n      <td>47.0</td>\n      <td>59.0</td>\n      <td>110000.0</td>\n      <td>500.0</td>\n      <td>19.0</td>\n      <td>175.0</td>\n      <td>...</td>\n      <td>48</td>\n      <td>48</td>\n      <td>48</td>\n      <td>51</td>\n      <td>50</td>\n      <td>46</td>\n      <td>46</td>\n      <td>46</td>\n      <td>50</td>\n      <td>16.0</td>\n    </tr>\n    <tr>\n      <th>19236</th>\n      <td>262760.0</td>\n      <td>N. Logue</td>\n      <td>Nathan Logue-Cunningham</td>\n      <td>CM</td>\n      <td>47.0</td>\n      <td>55.0</td>\n      <td>100000.0</td>\n      <td>500.0</td>\n      <td>21.0</td>\n      <td>178.0</td>\n      <td>...</td>\n      <td>48</td>\n      <td>48</td>\n      <td>48</td>\n      <td>49</td>\n      <td>49</td>\n      <td>47</td>\n      <td>47</td>\n      <td>47</td>\n      <td>49</td>\n      <td>14.0</td>\n    </tr>\n    <tr>\n      <th>19237</th>\n      <td>262820.0</td>\n      <td>L. Rudden</td>\n      <td>Luke Rudden</td>\n      <td>ST</td>\n      <td>47.0</td>\n      <td>60.0</td>\n      <td>110000.0</td>\n      <td>500.0</td>\n      <td>19.0</td>\n      <td>173.0</td>\n      <td>...</td>\n      <td>31</td>\n      <td>31</td>\n      <td>31</td>\n      <td>35</td>\n      <td>34</td>\n      <td>28</td>\n      <td>28</td>\n      <td>28</td>\n      <td>34</td>\n      <td>17.0</td>\n    </tr>\n    <tr>\n      <th>19238</th>\n      <td>264540.0</td>\n      <td>E. Lalchhanchhuaha</td>\n      <td>Emanuel Lalchhanchhuaha</td>\n      <td>CAM</td>\n      <td>47.0</td>\n      <td>60.0</td>\n      <td>110000.0</td>\n      <td>500.0</td>\n      <td>19.0</td>\n      <td>167.0</td>\n      <td>...</td>\n      <td>46</td>\n      <td>46</td>\n      <td>46</td>\n      <td>47</td>\n      <td>47</td>\n      <td>43</td>\n      <td>43</td>\n      <td>43</td>\n      <td>47</td>\n      <td>18.0</td>\n    </tr>\n  </tbody>\n</table>\n<p>19239 rows × 96 columns</p>\n</div>"
     },
     "execution_count": 113,
     "metadata": {},
     "output_type": "execute_result"
    }
   ],
   "source": [
    "players_22"
   ],
   "metadata": {
    "collapsed": false,
    "ExecuteTime": {
     "end_time": "2024-06-21T18:05:11.471490700Z",
     "start_time": "2024-06-21T18:05:11.389070800Z"
    }
   }
  },
  {
   "cell_type": "code",
   "execution_count": 114,
   "outputs": [
    {
     "name": "stderr",
     "output_type": "stream",
     "text": [
      "C:\\Users\\mcnob\\AppData\\Local\\Temp\\ipykernel_3992\\1090683740.py:5: SettingWithCopyWarning: \n",
      "A value is trying to be set on a copy of a slice from a DataFrame\n",
      "\n",
      "See the caveats in the documentation: https://pandas.pydata.org/pandas-docs/stable/user_guide/indexing.html#returning-a-view-versus-a-copy\n",
      "  players_22.drop(column, axis=1, inplace=True)\n"
     ]
    }
   ],
   "source": [
    "for column in players_22.columns[:69]:\n",
    "    if players_22[column].dtype == 'object':\n",
    "        encoder = ce.BinaryEncoder(cols=[column])\n",
    "        col_encoded = encoder.fit_transform(players_22[column])\n",
    "        players_22.drop(column, axis=1, inplace=True)\n",
    "        players_22 = pd.concat([players_22, col_encoded], axis=1).reset_index(drop=True)"
   ],
   "metadata": {
    "collapsed": false,
    "ExecuteTime": {
     "end_time": "2024-06-21T18:05:13.936519300Z",
     "start_time": "2024-06-21T18:05:11.436491600Z"
    }
   }
  },
  {
   "cell_type": "code",
   "execution_count": 115,
   "outputs": [],
   "source": [
    "players_22 = players_22[male_players_legacy_relevant_columns.index]"
   ],
   "metadata": {
    "collapsed": false,
    "ExecuteTime": {
     "end_time": "2024-06-21T18:05:13.948627900Z",
     "start_time": "2024-06-21T18:05:13.938514400Z"
    }
   }
  },
  {
   "cell_type": "code",
   "execution_count": 116,
   "outputs": [
    {
     "data": {
      "text/plain": "       overall  movement_reactions  potential  passing  wage_eur  \\\n0         93.0                94.0       93.0     91.0  320000.0   \n1         92.0                93.0       92.0     79.0  270000.0   \n2         91.0                94.0       91.0     80.0  270000.0   \n3         91.0                89.0       91.0     86.0  270000.0   \n4         91.0                91.0       91.0     93.0  350000.0   \n...        ...                 ...        ...      ...       ...   \n19234     47.0                53.0       52.0     46.0    1000.0   \n19235     47.0                49.0       59.0     50.0     500.0   \n19236     47.0                46.0       55.0     45.0     500.0   \n19237     47.0                48.0       60.0     36.0     500.0   \n19238     47.0                54.0       60.0     45.0     500.0   \n\n       mentality_composure    value_eur  dribbling  attacking_short_passing  \\\n0                     96.0   78000000.0       95.0                     91.0   \n1                     88.0  119500000.0       86.0                     85.0   \n2                     95.0   45000000.0       88.0                     80.0   \n3                     93.0  129000000.0       94.0                     86.0   \n4                     89.0  125500000.0       88.0                     94.0   \n...                    ...          ...        ...                      ...   \n19234                 37.0      70000.0       48.0                     50.0   \n19235                 47.0     110000.0       46.0                     51.0   \n19236                 36.0     100000.0       49.0                     49.0   \n19237                 47.0     110000.0       48.0                     38.0   \n19238                 36.0     110000.0       48.0                     50.0   \n\n       mentality_vision  international_reputation  skill_long_passing  \n0                  95.0                       5.0                91.0  \n1                  81.0                       5.0                70.0  \n2                  76.0                       5.0                77.0  \n3                  90.0                       5.0                81.0  \n4                  94.0                       4.0                93.0  \n...                 ...                       ...                 ...  \n19234              43.0                       1.0                48.0  \n19235              49.0                       1.0                50.0  \n19236              46.0                       1.0                49.0  \n19237              40.0                       1.0                33.0  \n19238              46.0                       1.0                49.0  \n\n[19239 rows x 12 columns]",
      "text/html": "<div>\n<style scoped>\n    .dataframe tbody tr th:only-of-type {\n        vertical-align: middle;\n    }\n\n    .dataframe tbody tr th {\n        vertical-align: top;\n    }\n\n    .dataframe thead th {\n        text-align: right;\n    }\n</style>\n<table border=\"1\" class=\"dataframe\">\n  <thead>\n    <tr style=\"text-align: right;\">\n      <th></th>\n      <th>overall</th>\n      <th>movement_reactions</th>\n      <th>potential</th>\n      <th>passing</th>\n      <th>wage_eur</th>\n      <th>mentality_composure</th>\n      <th>value_eur</th>\n      <th>dribbling</th>\n      <th>attacking_short_passing</th>\n      <th>mentality_vision</th>\n      <th>international_reputation</th>\n      <th>skill_long_passing</th>\n    </tr>\n  </thead>\n  <tbody>\n    <tr>\n      <th>0</th>\n      <td>93.0</td>\n      <td>94.0</td>\n      <td>93.0</td>\n      <td>91.0</td>\n      <td>320000.0</td>\n      <td>96.0</td>\n      <td>78000000.0</td>\n      <td>95.0</td>\n      <td>91.0</td>\n      <td>95.0</td>\n      <td>5.0</td>\n      <td>91.0</td>\n    </tr>\n    <tr>\n      <th>1</th>\n      <td>92.0</td>\n      <td>93.0</td>\n      <td>92.0</td>\n      <td>79.0</td>\n      <td>270000.0</td>\n      <td>88.0</td>\n      <td>119500000.0</td>\n      <td>86.0</td>\n      <td>85.0</td>\n      <td>81.0</td>\n      <td>5.0</td>\n      <td>70.0</td>\n    </tr>\n    <tr>\n      <th>2</th>\n      <td>91.0</td>\n      <td>94.0</td>\n      <td>91.0</td>\n      <td>80.0</td>\n      <td>270000.0</td>\n      <td>95.0</td>\n      <td>45000000.0</td>\n      <td>88.0</td>\n      <td>80.0</td>\n      <td>76.0</td>\n      <td>5.0</td>\n      <td>77.0</td>\n    </tr>\n    <tr>\n      <th>3</th>\n      <td>91.0</td>\n      <td>89.0</td>\n      <td>91.0</td>\n      <td>86.0</td>\n      <td>270000.0</td>\n      <td>93.0</td>\n      <td>129000000.0</td>\n      <td>94.0</td>\n      <td>86.0</td>\n      <td>90.0</td>\n      <td>5.0</td>\n      <td>81.0</td>\n    </tr>\n    <tr>\n      <th>4</th>\n      <td>91.0</td>\n      <td>91.0</td>\n      <td>91.0</td>\n      <td>93.0</td>\n      <td>350000.0</td>\n      <td>89.0</td>\n      <td>125500000.0</td>\n      <td>88.0</td>\n      <td>94.0</td>\n      <td>94.0</td>\n      <td>4.0</td>\n      <td>93.0</td>\n    </tr>\n    <tr>\n      <th>...</th>\n      <td>...</td>\n      <td>...</td>\n      <td>...</td>\n      <td>...</td>\n      <td>...</td>\n      <td>...</td>\n      <td>...</td>\n      <td>...</td>\n      <td>...</td>\n      <td>...</td>\n      <td>...</td>\n      <td>...</td>\n    </tr>\n    <tr>\n      <th>19234</th>\n      <td>47.0</td>\n      <td>53.0</td>\n      <td>52.0</td>\n      <td>46.0</td>\n      <td>1000.0</td>\n      <td>37.0</td>\n      <td>70000.0</td>\n      <td>48.0</td>\n      <td>50.0</td>\n      <td>43.0</td>\n      <td>1.0</td>\n      <td>48.0</td>\n    </tr>\n    <tr>\n      <th>19235</th>\n      <td>47.0</td>\n      <td>49.0</td>\n      <td>59.0</td>\n      <td>50.0</td>\n      <td>500.0</td>\n      <td>47.0</td>\n      <td>110000.0</td>\n      <td>46.0</td>\n      <td>51.0</td>\n      <td>49.0</td>\n      <td>1.0</td>\n      <td>50.0</td>\n    </tr>\n    <tr>\n      <th>19236</th>\n      <td>47.0</td>\n      <td>46.0</td>\n      <td>55.0</td>\n      <td>45.0</td>\n      <td>500.0</td>\n      <td>36.0</td>\n      <td>100000.0</td>\n      <td>49.0</td>\n      <td>49.0</td>\n      <td>46.0</td>\n      <td>1.0</td>\n      <td>49.0</td>\n    </tr>\n    <tr>\n      <th>19237</th>\n      <td>47.0</td>\n      <td>48.0</td>\n      <td>60.0</td>\n      <td>36.0</td>\n      <td>500.0</td>\n      <td>47.0</td>\n      <td>110000.0</td>\n      <td>48.0</td>\n      <td>38.0</td>\n      <td>40.0</td>\n      <td>1.0</td>\n      <td>33.0</td>\n    </tr>\n    <tr>\n      <th>19238</th>\n      <td>47.0</td>\n      <td>54.0</td>\n      <td>60.0</td>\n      <td>45.0</td>\n      <td>500.0</td>\n      <td>36.0</td>\n      <td>110000.0</td>\n      <td>48.0</td>\n      <td>50.0</td>\n      <td>46.0</td>\n      <td>1.0</td>\n      <td>49.0</td>\n    </tr>\n  </tbody>\n</table>\n<p>19239 rows × 12 columns</p>\n</div>"
     },
     "execution_count": 116,
     "metadata": {},
     "output_type": "execute_result"
    }
   ],
   "source": [
    "players_22"
   ],
   "metadata": {
    "collapsed": false,
    "ExecuteTime": {
     "end_time": "2024-06-21T18:05:14.003413900Z",
     "start_time": "2024-06-21T18:05:13.949628200Z"
    }
   }
  },
  {
   "cell_type": "code",
   "execution_count": 117,
   "outputs": [],
   "source": [
    "y = male_players_legacy['overall']\n",
    "X = male_players_legacy.drop('overall', axis=1)"
   ],
   "metadata": {
    "collapsed": false,
    "ExecuteTime": {
     "end_time": "2024-06-21T18:05:14.003413900Z",
     "start_time": "2024-06-21T18:05:13.984018500Z"
    }
   }
  },
  {
   "cell_type": "code",
   "execution_count": 118,
   "outputs": [],
   "source": [
    "from sklearn.model_selection import train_test_split\n",
    "\n",
    "X_train, X_test, y_train, y_test = train_test_split(X, y, test_size=0.2, random_state=42)"
   ],
   "metadata": {
    "collapsed": false,
    "ExecuteTime": {
     "end_time": "2024-06-21T18:05:14.109150Z",
     "start_time": "2024-06-21T18:05:14.001415300Z"
    }
   }
  },
  {
   "cell_type": "code",
   "execution_count": 119,
   "outputs": [
    {
     "data": {
      "text/plain": "['scaler.pkl']"
     },
     "execution_count": 119,
     "metadata": {},
     "output_type": "execute_result"
    }
   ],
   "source": [
    "from sklearn.preprocessing import StandardScaler\n",
    "\n",
    "scaler = StandardScaler()\n",
    "\n",
    "X_train_scaled = scaler.fit_transform(X_train)\n",
    "X_test_scaled = scaler.transform(X_test)\n",
    "\n",
    "\n",
    "X_train_scaled = pd.DataFrame(X_train_scaled, columns=X_train.columns)\n",
    "X_test_scaled = pd.DataFrame(X_test_scaled, columns=X_test.columns)\n",
    "\n",
    "joblib.dump(scaler, 'scaler.pkl')"
   ],
   "metadata": {
    "collapsed": false,
    "ExecuteTime": {
     "end_time": "2024-06-21T18:05:14.219797600Z",
     "start_time": "2024-06-21T18:05:14.040236700Z"
    }
   }
  },
  {
   "cell_type": "code",
   "execution_count": 120,
   "outputs": [
    {
     "data": {
      "text/plain": "        movement_reactions  potential  passing  wage_eur  mentality_composure  \\\n69722                 72.0       77.0     51.0   40000.0                 71.0   \n145131                76.0       77.0     66.0   45000.0                 72.0   \n97854                 47.0       71.0     58.0    5000.0                 44.0   \n77978                 64.0       66.0     41.0    2000.0                 68.0   \n105151                80.0       82.0     74.0   60000.0                 76.0   \n\n         value_eur  dribbling  attacking_short_passing  mentality_vision  \\\n69722    9000000.0       68.0                     63.0              58.0   \n145131   5500000.0       75.0                     70.0              67.0   \n97854     475000.0       63.0                     25.0              35.0   \n77978     475000.0       45.0                     54.0              34.0   \n105151  27000000.0       79.0                     82.0              73.0   \n\n        international_reputation  skill_long_passing  \n69722                        2.0                37.0  \n145131                       1.0                58.0  \n97854                        1.0                26.0  \n77978                        1.0                51.0  \n105151                       2.0                71.0  ",
      "text/html": "<div>\n<style scoped>\n    .dataframe tbody tr th:only-of-type {\n        vertical-align: middle;\n    }\n\n    .dataframe tbody tr th {\n        vertical-align: top;\n    }\n\n    .dataframe thead th {\n        text-align: right;\n    }\n</style>\n<table border=\"1\" class=\"dataframe\">\n  <thead>\n    <tr style=\"text-align: right;\">\n      <th></th>\n      <th>movement_reactions</th>\n      <th>potential</th>\n      <th>passing</th>\n      <th>wage_eur</th>\n      <th>mentality_composure</th>\n      <th>value_eur</th>\n      <th>dribbling</th>\n      <th>attacking_short_passing</th>\n      <th>mentality_vision</th>\n      <th>international_reputation</th>\n      <th>skill_long_passing</th>\n    </tr>\n  </thead>\n  <tbody>\n    <tr>\n      <th>69722</th>\n      <td>72.0</td>\n      <td>77.0</td>\n      <td>51.0</td>\n      <td>40000.0</td>\n      <td>71.0</td>\n      <td>9000000.0</td>\n      <td>68.0</td>\n      <td>63.0</td>\n      <td>58.0</td>\n      <td>2.0</td>\n      <td>37.0</td>\n    </tr>\n    <tr>\n      <th>145131</th>\n      <td>76.0</td>\n      <td>77.0</td>\n      <td>66.0</td>\n      <td>45000.0</td>\n      <td>72.0</td>\n      <td>5500000.0</td>\n      <td>75.0</td>\n      <td>70.0</td>\n      <td>67.0</td>\n      <td>1.0</td>\n      <td>58.0</td>\n    </tr>\n    <tr>\n      <th>97854</th>\n      <td>47.0</td>\n      <td>71.0</td>\n      <td>58.0</td>\n      <td>5000.0</td>\n      <td>44.0</td>\n      <td>475000.0</td>\n      <td>63.0</td>\n      <td>25.0</td>\n      <td>35.0</td>\n      <td>1.0</td>\n      <td>26.0</td>\n    </tr>\n    <tr>\n      <th>77978</th>\n      <td>64.0</td>\n      <td>66.0</td>\n      <td>41.0</td>\n      <td>2000.0</td>\n      <td>68.0</td>\n      <td>475000.0</td>\n      <td>45.0</td>\n      <td>54.0</td>\n      <td>34.0</td>\n      <td>1.0</td>\n      <td>51.0</td>\n    </tr>\n    <tr>\n      <th>105151</th>\n      <td>80.0</td>\n      <td>82.0</td>\n      <td>74.0</td>\n      <td>60000.0</td>\n      <td>76.0</td>\n      <td>27000000.0</td>\n      <td>79.0</td>\n      <td>82.0</td>\n      <td>73.0</td>\n      <td>2.0</td>\n      <td>71.0</td>\n    </tr>\n  </tbody>\n</table>\n</div>"
     },
     "execution_count": 120,
     "metadata": {},
     "output_type": "execute_result"
    }
   ],
   "source": [
    "X_train.head()"
   ],
   "metadata": {
    "collapsed": false,
    "ExecuteTime": {
     "end_time": "2024-06-21T18:05:14.220796700Z",
     "start_time": "2024-06-21T18:05:14.110147600Z"
    }
   }
  },
  {
   "cell_type": "code",
   "execution_count": 121,
   "outputs": [
    {
     "data": {
      "text/plain": "69722     76.0\n145131    74.0\n97854     64.0\n77978     66.0\n105151    82.0\nName: overall, dtype: float64"
     },
     "execution_count": 121,
     "metadata": {},
     "output_type": "execute_result"
    }
   ],
   "source": [
    "y_train.head()"
   ],
   "metadata": {
    "collapsed": false,
    "ExecuteTime": {
     "end_time": "2024-06-21T18:05:14.220796700Z",
     "start_time": "2024-06-21T18:05:14.128497600Z"
    }
   }
  },
  {
   "cell_type": "code",
   "execution_count": 122,
   "outputs": [],
   "source": [
    "# Multi Linear Regression\n",
    "from sklearn.linear_model import LinearRegression\n",
    "\n",
    "l = LinearRegression()"
   ],
   "metadata": {
    "collapsed": false,
    "ExecuteTime": {
     "end_time": "2024-06-21T18:05:14.327217600Z",
     "start_time": "2024-06-21T18:05:14.141323Z"
    }
   }
  },
  {
   "cell_type": "code",
   "execution_count": 123,
   "outputs": [
    {
     "data": {
      "text/plain": "LinearRegression()",
      "text/html": "<style>#sk-container-id-3 {\n  /* Definition of color scheme common for light and dark mode */\n  --sklearn-color-text: black;\n  --sklearn-color-line: gray;\n  /* Definition of color scheme for unfitted estimators */\n  --sklearn-color-unfitted-level-0: #fff5e6;\n  --sklearn-color-unfitted-level-1: #f6e4d2;\n  --sklearn-color-unfitted-level-2: #ffe0b3;\n  --sklearn-color-unfitted-level-3: chocolate;\n  /* Definition of color scheme for fitted estimators */\n  --sklearn-color-fitted-level-0: #f0f8ff;\n  --sklearn-color-fitted-level-1: #d4ebff;\n  --sklearn-color-fitted-level-2: #b3dbfd;\n  --sklearn-color-fitted-level-3: cornflowerblue;\n\n  /* Specific color for light theme */\n  --sklearn-color-text-on-default-background: var(--sg-text-color, var(--theme-code-foreground, var(--jp-content-font-color1, black)));\n  --sklearn-color-background: var(--sg-background-color, var(--theme-background, var(--jp-layout-color0, white)));\n  --sklearn-color-border-box: var(--sg-text-color, var(--theme-code-foreground, var(--jp-content-font-color1, black)));\n  --sklearn-color-icon: #696969;\n\n  @media (prefers-color-scheme: dark) {\n    /* Redefinition of color scheme for dark theme */\n    --sklearn-color-text-on-default-background: var(--sg-text-color, var(--theme-code-foreground, var(--jp-content-font-color1, white)));\n    --sklearn-color-background: var(--sg-background-color, var(--theme-background, var(--jp-layout-color0, #111)));\n    --sklearn-color-border-box: var(--sg-text-color, var(--theme-code-foreground, var(--jp-content-font-color1, white)));\n    --sklearn-color-icon: #878787;\n  }\n}\n\n#sk-container-id-3 {\n  color: var(--sklearn-color-text);\n}\n\n#sk-container-id-3 pre {\n  padding: 0;\n}\n\n#sk-container-id-3 input.sk-hidden--visually {\n  border: 0;\n  clip: rect(1px 1px 1px 1px);\n  clip: rect(1px, 1px, 1px, 1px);\n  height: 1px;\n  margin: -1px;\n  overflow: hidden;\n  padding: 0;\n  position: absolute;\n  width: 1px;\n}\n\n#sk-container-id-3 div.sk-dashed-wrapped {\n  border: 1px dashed var(--sklearn-color-line);\n  margin: 0 0.4em 0.5em 0.4em;\n  box-sizing: border-box;\n  padding-bottom: 0.4em;\n  background-color: var(--sklearn-color-background);\n}\n\n#sk-container-id-3 div.sk-container {\n  /* jupyter's `normalize.less` sets `[hidden] { display: none; }`\n     but bootstrap.min.css set `[hidden] { display: none !important; }`\n     so we also need the `!important` here to be able to override the\n     default hidden behavior on the sphinx rendered scikit-learn.org.\n     See: https://github.com/scikit-learn/scikit-learn/issues/21755 */\n  display: inline-block !important;\n  position: relative;\n}\n\n#sk-container-id-3 div.sk-text-repr-fallback {\n  display: none;\n}\n\ndiv.sk-parallel-item,\ndiv.sk-serial,\ndiv.sk-item {\n  /* draw centered vertical line to link estimators */\n  background-image: linear-gradient(var(--sklearn-color-text-on-default-background), var(--sklearn-color-text-on-default-background));\n  background-size: 2px 100%;\n  background-repeat: no-repeat;\n  background-position: center center;\n}\n\n/* Parallel-specific style estimator block */\n\n#sk-container-id-3 div.sk-parallel-item::after {\n  content: \"\";\n  width: 100%;\n  border-bottom: 2px solid var(--sklearn-color-text-on-default-background);\n  flex-grow: 1;\n}\n\n#sk-container-id-3 div.sk-parallel {\n  display: flex;\n  align-items: stretch;\n  justify-content: center;\n  background-color: var(--sklearn-color-background);\n  position: relative;\n}\n\n#sk-container-id-3 div.sk-parallel-item {\n  display: flex;\n  flex-direction: column;\n}\n\n#sk-container-id-3 div.sk-parallel-item:first-child::after {\n  align-self: flex-end;\n  width: 50%;\n}\n\n#sk-container-id-3 div.sk-parallel-item:last-child::after {\n  align-self: flex-start;\n  width: 50%;\n}\n\n#sk-container-id-3 div.sk-parallel-item:only-child::after {\n  width: 0;\n}\n\n/* Serial-specific style estimator block */\n\n#sk-container-id-3 div.sk-serial {\n  display: flex;\n  flex-direction: column;\n  align-items: center;\n  background-color: var(--sklearn-color-background);\n  padding-right: 1em;\n  padding-left: 1em;\n}\n\n\n/* Toggleable style: style used for estimator/Pipeline/ColumnTransformer box that is\nclickable and can be expanded/collapsed.\n- Pipeline and ColumnTransformer use this feature and define the default style\n- Estimators will overwrite some part of the style using the `sk-estimator` class\n*/\n\n/* Pipeline and ColumnTransformer style (default) */\n\n#sk-container-id-3 div.sk-toggleable {\n  /* Default theme specific background. It is overwritten whether we have a\n  specific estimator or a Pipeline/ColumnTransformer */\n  background-color: var(--sklearn-color-background);\n}\n\n/* Toggleable label */\n#sk-container-id-3 label.sk-toggleable__label {\n  cursor: pointer;\n  display: block;\n  width: 100%;\n  margin-bottom: 0;\n  padding: 0.5em;\n  box-sizing: border-box;\n  text-align: center;\n}\n\n#sk-container-id-3 label.sk-toggleable__label-arrow:before {\n  /* Arrow on the left of the label */\n  content: \"▸\";\n  float: left;\n  margin-right: 0.25em;\n  color: var(--sklearn-color-icon);\n}\n\n#sk-container-id-3 label.sk-toggleable__label-arrow:hover:before {\n  color: var(--sklearn-color-text);\n}\n\n/* Toggleable content - dropdown */\n\n#sk-container-id-3 div.sk-toggleable__content {\n  max-height: 0;\n  max-width: 0;\n  overflow: hidden;\n  text-align: left;\n  /* unfitted */\n  background-color: var(--sklearn-color-unfitted-level-0);\n}\n\n#sk-container-id-3 div.sk-toggleable__content.fitted {\n  /* fitted */\n  background-color: var(--sklearn-color-fitted-level-0);\n}\n\n#sk-container-id-3 div.sk-toggleable__content pre {\n  margin: 0.2em;\n  border-radius: 0.25em;\n  color: var(--sklearn-color-text);\n  /* unfitted */\n  background-color: var(--sklearn-color-unfitted-level-0);\n}\n\n#sk-container-id-3 div.sk-toggleable__content.fitted pre {\n  /* unfitted */\n  background-color: var(--sklearn-color-fitted-level-0);\n}\n\n#sk-container-id-3 input.sk-toggleable__control:checked~div.sk-toggleable__content {\n  /* Expand drop-down */\n  max-height: 200px;\n  max-width: 100%;\n  overflow: auto;\n}\n\n#sk-container-id-3 input.sk-toggleable__control:checked~label.sk-toggleable__label-arrow:before {\n  content: \"▾\";\n}\n\n/* Pipeline/ColumnTransformer-specific style */\n\n#sk-container-id-3 div.sk-label input.sk-toggleable__control:checked~label.sk-toggleable__label {\n  color: var(--sklearn-color-text);\n  background-color: var(--sklearn-color-unfitted-level-2);\n}\n\n#sk-container-id-3 div.sk-label.fitted input.sk-toggleable__control:checked~label.sk-toggleable__label {\n  background-color: var(--sklearn-color-fitted-level-2);\n}\n\n/* Estimator-specific style */\n\n/* Colorize estimator box */\n#sk-container-id-3 div.sk-estimator input.sk-toggleable__control:checked~label.sk-toggleable__label {\n  /* unfitted */\n  background-color: var(--sklearn-color-unfitted-level-2);\n}\n\n#sk-container-id-3 div.sk-estimator.fitted input.sk-toggleable__control:checked~label.sk-toggleable__label {\n  /* fitted */\n  background-color: var(--sklearn-color-fitted-level-2);\n}\n\n#sk-container-id-3 div.sk-label label.sk-toggleable__label,\n#sk-container-id-3 div.sk-label label {\n  /* The background is the default theme color */\n  color: var(--sklearn-color-text-on-default-background);\n}\n\n/* On hover, darken the color of the background */\n#sk-container-id-3 div.sk-label:hover label.sk-toggleable__label {\n  color: var(--sklearn-color-text);\n  background-color: var(--sklearn-color-unfitted-level-2);\n}\n\n/* Label box, darken color on hover, fitted */\n#sk-container-id-3 div.sk-label.fitted:hover label.sk-toggleable__label.fitted {\n  color: var(--sklearn-color-text);\n  background-color: var(--sklearn-color-fitted-level-2);\n}\n\n/* Estimator label */\n\n#sk-container-id-3 div.sk-label label {\n  font-family: monospace;\n  font-weight: bold;\n  display: inline-block;\n  line-height: 1.2em;\n}\n\n#sk-container-id-3 div.sk-label-container {\n  text-align: center;\n}\n\n/* Estimator-specific */\n#sk-container-id-3 div.sk-estimator {\n  font-family: monospace;\n  border: 1px dotted var(--sklearn-color-border-box);\n  border-radius: 0.25em;\n  box-sizing: border-box;\n  margin-bottom: 0.5em;\n  /* unfitted */\n  background-color: var(--sklearn-color-unfitted-level-0);\n}\n\n#sk-container-id-3 div.sk-estimator.fitted {\n  /* fitted */\n  background-color: var(--sklearn-color-fitted-level-0);\n}\n\n/* on hover */\n#sk-container-id-3 div.sk-estimator:hover {\n  /* unfitted */\n  background-color: var(--sklearn-color-unfitted-level-2);\n}\n\n#sk-container-id-3 div.sk-estimator.fitted:hover {\n  /* fitted */\n  background-color: var(--sklearn-color-fitted-level-2);\n}\n\n/* Specification for estimator info (e.g. \"i\" and \"?\") */\n\n/* Common style for \"i\" and \"?\" */\n\n.sk-estimator-doc-link,\na:link.sk-estimator-doc-link,\na:visited.sk-estimator-doc-link {\n  float: right;\n  font-size: smaller;\n  line-height: 1em;\n  font-family: monospace;\n  background-color: var(--sklearn-color-background);\n  border-radius: 1em;\n  height: 1em;\n  width: 1em;\n  text-decoration: none !important;\n  margin-left: 1ex;\n  /* unfitted */\n  border: var(--sklearn-color-unfitted-level-1) 1pt solid;\n  color: var(--sklearn-color-unfitted-level-1);\n}\n\n.sk-estimator-doc-link.fitted,\na:link.sk-estimator-doc-link.fitted,\na:visited.sk-estimator-doc-link.fitted {\n  /* fitted */\n  border: var(--sklearn-color-fitted-level-1) 1pt solid;\n  color: var(--sklearn-color-fitted-level-1);\n}\n\n/* On hover */\ndiv.sk-estimator:hover .sk-estimator-doc-link:hover,\n.sk-estimator-doc-link:hover,\ndiv.sk-label-container:hover .sk-estimator-doc-link:hover,\n.sk-estimator-doc-link:hover {\n  /* unfitted */\n  background-color: var(--sklearn-color-unfitted-level-3);\n  color: var(--sklearn-color-background);\n  text-decoration: none;\n}\n\ndiv.sk-estimator.fitted:hover .sk-estimator-doc-link.fitted:hover,\n.sk-estimator-doc-link.fitted:hover,\ndiv.sk-label-container:hover .sk-estimator-doc-link.fitted:hover,\n.sk-estimator-doc-link.fitted:hover {\n  /* fitted */\n  background-color: var(--sklearn-color-fitted-level-3);\n  color: var(--sklearn-color-background);\n  text-decoration: none;\n}\n\n/* Span, style for the box shown on hovering the info icon */\n.sk-estimator-doc-link span {\n  display: none;\n  z-index: 9999;\n  position: relative;\n  font-weight: normal;\n  right: .2ex;\n  padding: .5ex;\n  margin: .5ex;\n  width: min-content;\n  min-width: 20ex;\n  max-width: 50ex;\n  color: var(--sklearn-color-text);\n  box-shadow: 2pt 2pt 4pt #999;\n  /* unfitted */\n  background: var(--sklearn-color-unfitted-level-0);\n  border: .5pt solid var(--sklearn-color-unfitted-level-3);\n}\n\n.sk-estimator-doc-link.fitted span {\n  /* fitted */\n  background: var(--sklearn-color-fitted-level-0);\n  border: var(--sklearn-color-fitted-level-3);\n}\n\n.sk-estimator-doc-link:hover span {\n  display: block;\n}\n\n/* \"?\"-specific style due to the `<a>` HTML tag */\n\n#sk-container-id-3 a.estimator_doc_link {\n  float: right;\n  font-size: 1rem;\n  line-height: 1em;\n  font-family: monospace;\n  background-color: var(--sklearn-color-background);\n  border-radius: 1rem;\n  height: 1rem;\n  width: 1rem;\n  text-decoration: none;\n  /* unfitted */\n  color: var(--sklearn-color-unfitted-level-1);\n  border: var(--sklearn-color-unfitted-level-1) 1pt solid;\n}\n\n#sk-container-id-3 a.estimator_doc_link.fitted {\n  /* fitted */\n  border: var(--sklearn-color-fitted-level-1) 1pt solid;\n  color: var(--sklearn-color-fitted-level-1);\n}\n\n/* On hover */\n#sk-container-id-3 a.estimator_doc_link:hover {\n  /* unfitted */\n  background-color: var(--sklearn-color-unfitted-level-3);\n  color: var(--sklearn-color-background);\n  text-decoration: none;\n}\n\n#sk-container-id-3 a.estimator_doc_link.fitted:hover {\n  /* fitted */\n  background-color: var(--sklearn-color-fitted-level-3);\n}\n</style><div id=\"sk-container-id-3\" class=\"sk-top-container\"><div class=\"sk-text-repr-fallback\"><pre>LinearRegression()</pre><b>In a Jupyter environment, please rerun this cell to show the HTML representation or trust the notebook. <br />On GitHub, the HTML representation is unable to render, please try loading this page with nbviewer.org.</b></div><div class=\"sk-container\" hidden><div class=\"sk-item\"><div class=\"sk-estimator fitted sk-toggleable\"><input class=\"sk-toggleable__control sk-hidden--visually\" id=\"sk-estimator-id-3\" type=\"checkbox\" checked><label for=\"sk-estimator-id-3\" class=\"sk-toggleable__label fitted sk-toggleable__label-arrow fitted\">&nbsp;&nbsp;LinearRegression<a class=\"sk-estimator-doc-link fitted\" rel=\"noreferrer\" target=\"_blank\" href=\"https://scikit-learn.org/1.5/modules/generated/sklearn.linear_model.LinearRegression.html\">?<span>Documentation for LinearRegression</span></a><span class=\"sk-estimator-doc-link fitted\">i<span>Fitted</span></span></label><div class=\"sk-toggleable__content fitted\"><pre>LinearRegression()</pre></div> </div></div></div></div>"
     },
     "execution_count": 123,
     "metadata": {},
     "output_type": "execute_result"
    }
   ],
   "source": [
    "l.fit(X_train,y_train)"
   ],
   "metadata": {
    "collapsed": false,
    "ExecuteTime": {
     "end_time": "2024-06-21T18:05:14.432216800Z",
     "start_time": "2024-06-21T18:05:14.164798200Z"
    }
   }
  },
  {
   "cell_type": "code",
   "execution_count": 124,
   "outputs": [],
   "source": [
    "y_pred = l.predict(X_test)"
   ],
   "metadata": {
    "collapsed": false,
    "ExecuteTime": {
     "end_time": "2024-06-21T18:05:14.433218Z",
     "start_time": "2024-06-21T18:05:14.291132500Z"
    }
   }
  },
  {
   "cell_type": "code",
   "execution_count": 125,
   "outputs": [
    {
     "data": {
      "text/plain": "Index(['movement_reactions', 'potential', 'passing', 'wage_eur',\n       'mentality_composure', 'value_eur', 'dribbling',\n       'attacking_short_passing', 'mentality_vision',\n       'international_reputation', 'skill_long_passing'],\n      dtype='object')"
     },
     "execution_count": 125,
     "metadata": {},
     "output_type": "execute_result"
    }
   ],
   "source": [
    "X_train.columns"
   ],
   "metadata": {
    "collapsed": false,
    "ExecuteTime": {
     "end_time": "2024-06-21T18:05:14.433218Z",
     "start_time": "2024-06-21T18:05:14.302709400Z"
    }
   }
  },
  {
   "cell_type": "code",
   "execution_count": 126,
   "outputs": [
    {
     "name": "stdout",
     "output_type": "stream",
     "text": [
      "Intercept: 9.02703171097793\n",
      "Coefficients: [ 3.77864132e-01  3.16278927e-01  1.60414839e-01  3.24455368e-05\n",
      "  9.21797842e-02 -1.16825812e-08 -2.21606371e-02  1.56234677e-02\n",
      " -5.01984972e-02  4.41182404e-01 -2.19960332e-02]\n"
     ]
    }
   ],
   "source": [
    "intercept = l.intercept_\n",
    "\n",
    "coefficients = l.coef_\n",
    "\n",
    "print(f\"Intercept: {intercept}\")\n",
    "print(f\"Coefficients: {coefficients}\")"
   ],
   "metadata": {
    "collapsed": false,
    "ExecuteTime": {
     "end_time": "2024-06-21T18:05:14.437219100Z",
     "start_time": "2024-06-21T18:05:14.327217600Z"
    }
   }
  },
  {
   "cell_type": "code",
   "execution_count": 127,
   "outputs": [],
   "source": [
    "from sklearn.metrics import mean_absolute_error, mean_squared_error, r2_score"
   ],
   "metadata": {
    "collapsed": false,
    "ExecuteTime": {
     "end_time": "2024-06-21T18:05:14.437219100Z",
     "start_time": "2024-06-21T18:05:14.328220300Z"
    }
   }
  },
  {
   "cell_type": "code",
   "execution_count": 128,
   "outputs": [
    {
     "name": "stdout",
     "output_type": "stream",
     "text": [
      "\n",
      "Mean Absolute Error = 2.2138441524687873,\n",
      "Mean Squared Error = 8.287766357867074,\n",
      "Root Mean Squared Error = 2.8788480956568505,\n",
      "R2 Score = 0.7998210836560434\n",
      "\n"
     ]
    }
   ],
   "source": [
    "print(f\"\"\"\n",
    "Mean Absolute Error = {mean_absolute_error(y_pred,y_test)},\n",
    "Mean Squared Error = {mean_squared_error(y_pred,y_test)},\n",
    "Root Mean Squared Error = {np.sqrt(mean_squared_error(y_pred,y_test))},\n",
    "R2 Score = {r2_score(y_pred,y_test)}\n",
    "\"\"\")"
   ],
   "metadata": {
    "collapsed": false,
    "ExecuteTime": {
     "end_time": "2024-06-21T18:05:14.437219100Z",
     "start_time": "2024-06-21T18:05:14.330224Z"
    }
   }
  },
  {
   "cell_type": "code",
   "execution_count": 129,
   "outputs": [],
   "source": [
    "# Polynomial Regression\n",
    "\n",
    "from sklearn.pipeline import make_pipeline\n",
    "from sklearn.preprocessing import PolynomialFeatures\n",
    "\n",
    "\n",
    "poly_pipeline1 = make_pipeline(PolynomialFeatures(degree=1), LinearRegression())\n",
    "poly_pipeline2 = make_pipeline(PolynomialFeatures(degree=2), LinearRegression())\n",
    "\n",
    "\n",
    "poly1 = PolynomialFeatures(degree=1)\n",
    "X_poly_train = poly1.fit_transform(X_train)\n",
    "X_poly_test = poly1.fit_transform(X_test)\n",
    "\n",
    "\n",
    "model = LinearRegression()\n",
    "model.fit(X_poly_train, y_train)\n",
    "\n",
    "\n",
    "y_pred = model.predict(X_poly_test)"
   ],
   "metadata": {
    "collapsed": false,
    "ExecuteTime": {
     "end_time": "2024-06-21T18:05:14.676882600Z",
     "start_time": "2024-06-21T18:05:14.346791100Z"
    }
   }
  },
  {
   "cell_type": "code",
   "execution_count": 130,
   "outputs": [
    {
     "name": "stdout",
     "output_type": "stream",
     "text": [
      "\n",
      "Mean Absolute Error = 2.2138441524605637,\n",
      "Mean Squared Error = 8.28776635783515,\n",
      "Root Mean Squared Error = 2.8788480956513056,\n",
      "R2 Score = 0.7998210836479274\n",
      "\n"
     ]
    }
   ],
   "source": [
    "print(f\"\"\"\n",
    "Mean Absolute Error = {mean_absolute_error(y_pred, y_test)},\n",
    "Mean Squared Error = {mean_squared_error(y_pred, y_test)},\n",
    "Root Mean Squared Error = {np.sqrt(mean_squared_error(y_pred, y_test))},\n",
    "R2 Score = {r2_score(y_pred, y_test)}\n",
    "\"\"\")"
   ],
   "metadata": {
    "collapsed": false,
    "ExecuteTime": {
     "end_time": "2024-06-21T18:05:14.678886300Z",
     "start_time": "2024-06-21T18:05:14.588138700Z"
    }
   }
  },
  {
   "cell_type": "code",
   "execution_count": 131,
   "outputs": [
    {
     "name": "stdout",
     "output_type": "stream",
     "text": [
      "\n",
      "Mean Absolute Error = 2.559634988210092,\n",
      "Mean Squared Error = 12.727164809648942,\n",
      "Root Mean Squared Error = 3.5675152150550025,\n",
      "R2 Score = 0.7561792189469836\n",
      "\n"
     ]
    }
   ],
   "source": [
    "poly2 = PolynomialFeatures(degree=2)\n",
    "X_poly_train = poly2.fit_transform(X_train)\n",
    "X_poly_test = poly2.fit_transform(X_test)\n",
    "\n",
    "model = LinearRegression()\n",
    "model.fit(X_poly_train, y_train)\n",
    "\n",
    "y_pred = model.predict(X_poly_test)\n",
    "print(f\"\"\"\n",
    "Mean Absolute Error = {mean_absolute_error(y_pred, y_test)},\n",
    "Mean Squared Error = {mean_squared_error(y_pred, y_test)},\n",
    "Root Mean Squared Error = {np.sqrt(mean_squared_error(y_pred, y_test))},\n",
    "R2 Score = {r2_score(y_pred, y_test)}\n",
    "\"\"\")"
   ],
   "metadata": {
    "collapsed": false,
    "ExecuteTime": {
     "end_time": "2024-06-21T18:05:16.838444900Z",
     "start_time": "2024-06-21T18:05:14.619773400Z"
    }
   }
  },
  {
   "cell_type": "code",
   "execution_count": 132,
   "outputs": [
    {
     "name": "stdout",
     "output_type": "stream",
     "text": [
      "\n",
      "Mean Absolute Error = 3.5699257562526383,\n",
      "Mean Squared Error = 32.074482007820286,\n",
      "Root Mean Squared Error = 5.663433764759705,\n",
      "R2 Score = 0.1577639437953492\n",
      "\n"
     ]
    }
   ],
   "source": [
    "poly3 = PolynomialFeatures(degree=3)\n",
    "X_poly_train = poly3.fit_transform(X_train)\n",
    "X_poly_test = poly3.fit_transform(X_test)\n",
    "\n",
    "model = LinearRegression()\n",
    "model.fit(X_poly_train, y_train)\n",
    "\n",
    "y_pred = model.predict(X_poly_test)\n",
    "print(f\"\"\"\n",
    "Mean Absolute Error = {mean_absolute_error(y_pred, y_test)},\n",
    "Mean Squared Error = {mean_squared_error(y_pred, y_test)},\n",
    "Root Mean Squared Error = {np.sqrt(mean_squared_error(y_pred, y_test))},\n",
    "R2 Score = {r2_score(y_pred, y_test)}\n",
    "\"\"\")"
   ],
   "metadata": {
    "collapsed": false,
    "ExecuteTime": {
     "end_time": "2024-06-21T18:05:26.379008500Z",
     "start_time": "2024-06-21T18:05:16.842453600Z"
    }
   }
  },
  {
   "cell_type": "code",
   "execution_count": 133,
   "outputs": [
    {
     "name": "stdout",
     "output_type": "stream",
     "text": [
      "\n",
      "Mean Absolute Error = 5.3036578358689335,\n",
      "Mean Squared Error = 127.39122824847323,\n",
      "Root Mean Squared Error = 11.28677226883192,\n",
      "R2 Score = -0.4644486482696779\n",
      "\n"
     ]
    }
   ],
   "source": [
    "poly4 = PolynomialFeatures(degree=4)\n",
    "X_poly_train = poly4.fit_transform(X_train)\n",
    "X_poly_test = poly4.fit_transform(X_test)\n",
    "\n",
    "model = LinearRegression()\n",
    "model.fit(X_poly_train, y_train)\n",
    "\n",
    "y_pred = model.predict(X_poly_test)\n",
    "print(f\"\"\"\n",
    "Mean Absolute Error = {mean_absolute_error(y_pred, y_test)},\n",
    "Mean Squared Error = {mean_squared_error(y_pred, y_test)},\n",
    "Root Mean Squared Error = {np.sqrt(mean_squared_error(y_pred, y_test))},\n",
    "R2 Score = {r2_score(y_pred, y_test)}\n",
    "\"\"\")"
   ],
   "metadata": {
    "collapsed": false,
    "ExecuteTime": {
     "end_time": "2024-06-21T18:06:30.108222Z",
     "start_time": "2024-06-21T18:05:26.380009500Z"
    }
   }
  },
  {
   "cell_type": "code",
   "execution_count": 134,
   "outputs": [],
   "source": [
    "# Regularisation Models\n",
    "from sklearn.linear_model import ElasticNet, Lasso, Ridge\n",
    "\n",
    "\n",
    "model1 = Ridge()\n",
    "model1.fit(X_train, y_train)\n",
    "\n",
    "\n",
    "y_pred = model1.predict(X_test)"
   ],
   "metadata": {
    "collapsed": false,
    "ExecuteTime": {
     "end_time": "2024-06-21T18:06:30.803517200Z",
     "start_time": "2024-06-21T18:06:30.178668900Z"
    }
   }
  },
  {
   "cell_type": "code",
   "execution_count": 135,
   "outputs": [
    {
     "name": "stdout",
     "output_type": "stream",
     "text": [
      "\n",
      "Mean Absolute Error = 2.2138440206290517,\n",
      "Mean Squared Error = 8.287766368320847,\n",
      "Root Mean Squared Error = 2.878848097472468,\n",
      "R2 Score = 0.7998210455146948\n",
      "\n"
     ]
    }
   ],
   "source": [
    "print(f\"\"\"\n",
    "Mean Absolute Error = {mean_absolute_error(y_pred,y_test)},\n",
    "Mean Squared Error = {mean_squared_error(y_pred,y_test)},\n",
    "Root Mean Squared Error = {np.sqrt(mean_squared_error(y_pred,y_test))},\n",
    "R2 Score = {r2_score(y_pred,y_test)}\n",
    "\"\"\")"
   ],
   "metadata": {
    "collapsed": false,
    "ExecuteTime": {
     "end_time": "2024-06-21T18:06:30.825759500Z",
     "start_time": "2024-06-21T18:06:30.810519600Z"
    }
   }
  },
  {
   "cell_type": "code",
   "execution_count": 136,
   "outputs": [
    {
     "name": "stdout",
     "output_type": "stream",
     "text": [
      "\n",
      "Mean Absolute Error = 2.234505790341462,\n",
      "Mean Squared Error = 8.442114123236056,\n",
      "Root Mean Squared Error = 2.9055316420985773,\n",
      "R2 Score = 0.7866429716120444\n",
      "\n"
     ]
    }
   ],
   "source": [
    "model2 = Lasso()\n",
    "model2.fit(X_train, y_train)\n",
    "\n",
    "\n",
    "y_pred = model2.predict(X_test)\n",
    "\n",
    "print(f\"\"\"\n",
    "Mean Absolute Error = {mean_absolute_error(y_pred,y_test)},\n",
    "Mean Squared Error = {mean_squared_error(y_pred,y_test)},\n",
    "Root Mean Squared Error = {np.sqrt(mean_squared_error(y_pred,y_test))},\n",
    "R2 Score = {r2_score(y_pred,y_test)}\n",
    "\"\"\")"
   ],
   "metadata": {
    "collapsed": false,
    "ExecuteTime": {
     "end_time": "2024-06-21T18:06:33.595270100Z",
     "start_time": "2024-06-21T18:06:30.837761900Z"
    }
   }
  },
  {
   "cell_type": "code",
   "execution_count": 137,
   "outputs": [
    {
     "name": "stdout",
     "output_type": "stream",
     "text": [
      "\n",
      "Mean Absolute Error = 2.223742913288449,\n",
      "Mean Squared Error = 8.367499308219196,\n",
      "Root Mean Squared Error = 2.8926630132490714,\n",
      "R2 Score = 0.7918220697401313\n",
      "\n"
     ]
    }
   ],
   "source": [
    "model3 = ElasticNet()\n",
    "model3.fit(X_train, y_train)\n",
    "\n",
    "\n",
    "y_pred = model3.predict(X_test)\n",
    "\n",
    "print(f\"\"\"\n",
    "Mean Absolute Error = {mean_absolute_error(y_pred,y_test)},\n",
    "Mean Squared Error = {mean_squared_error(y_pred,y_test)},\n",
    "Root Mean Squared Error = {np.sqrt(mean_squared_error(y_pred,y_test))},\n",
    "R2 Score = {r2_score(y_pred,y_test)}\n",
    "\"\"\")"
   ],
   "metadata": {
    "collapsed": false,
    "ExecuteTime": {
     "end_time": "2024-06-21T18:06:36.702918100Z",
     "start_time": "2024-06-21T18:06:33.589793200Z"
    }
   }
  },
  {
   "cell_type": "code",
   "execution_count": 138,
   "outputs": [],
   "source": [
    "from sklearn.tree import DecisionTreeRegressor\n",
    "dtree = DecisionTreeRegressor(max_depth=2000)"
   ],
   "metadata": {
    "collapsed": false,
    "ExecuteTime": {
     "end_time": "2024-06-21T18:06:36.714346800Z",
     "start_time": "2024-06-21T18:06:36.705920900Z"
    }
   }
  },
  {
   "cell_type": "code",
   "execution_count": 139,
   "outputs": [
    {
     "data": {
      "text/plain": "DecisionTreeRegressor(max_depth=2000)",
      "text/html": "<style>#sk-container-id-4 {\n  /* Definition of color scheme common for light and dark mode */\n  --sklearn-color-text: black;\n  --sklearn-color-line: gray;\n  /* Definition of color scheme for unfitted estimators */\n  --sklearn-color-unfitted-level-0: #fff5e6;\n  --sklearn-color-unfitted-level-1: #f6e4d2;\n  --sklearn-color-unfitted-level-2: #ffe0b3;\n  --sklearn-color-unfitted-level-3: chocolate;\n  /* Definition of color scheme for fitted estimators */\n  --sklearn-color-fitted-level-0: #f0f8ff;\n  --sklearn-color-fitted-level-1: #d4ebff;\n  --sklearn-color-fitted-level-2: #b3dbfd;\n  --sklearn-color-fitted-level-3: cornflowerblue;\n\n  /* Specific color for light theme */\n  --sklearn-color-text-on-default-background: var(--sg-text-color, var(--theme-code-foreground, var(--jp-content-font-color1, black)));\n  --sklearn-color-background: var(--sg-background-color, var(--theme-background, var(--jp-layout-color0, white)));\n  --sklearn-color-border-box: var(--sg-text-color, var(--theme-code-foreground, var(--jp-content-font-color1, black)));\n  --sklearn-color-icon: #696969;\n\n  @media (prefers-color-scheme: dark) {\n    /* Redefinition of color scheme for dark theme */\n    --sklearn-color-text-on-default-background: var(--sg-text-color, var(--theme-code-foreground, var(--jp-content-font-color1, white)));\n    --sklearn-color-background: var(--sg-background-color, var(--theme-background, var(--jp-layout-color0, #111)));\n    --sklearn-color-border-box: var(--sg-text-color, var(--theme-code-foreground, var(--jp-content-font-color1, white)));\n    --sklearn-color-icon: #878787;\n  }\n}\n\n#sk-container-id-4 {\n  color: var(--sklearn-color-text);\n}\n\n#sk-container-id-4 pre {\n  padding: 0;\n}\n\n#sk-container-id-4 input.sk-hidden--visually {\n  border: 0;\n  clip: rect(1px 1px 1px 1px);\n  clip: rect(1px, 1px, 1px, 1px);\n  height: 1px;\n  margin: -1px;\n  overflow: hidden;\n  padding: 0;\n  position: absolute;\n  width: 1px;\n}\n\n#sk-container-id-4 div.sk-dashed-wrapped {\n  border: 1px dashed var(--sklearn-color-line);\n  margin: 0 0.4em 0.5em 0.4em;\n  box-sizing: border-box;\n  padding-bottom: 0.4em;\n  background-color: var(--sklearn-color-background);\n}\n\n#sk-container-id-4 div.sk-container {\n  /* jupyter's `normalize.less` sets `[hidden] { display: none; }`\n     but bootstrap.min.css set `[hidden] { display: none !important; }`\n     so we also need the `!important` here to be able to override the\n     default hidden behavior on the sphinx rendered scikit-learn.org.\n     See: https://github.com/scikit-learn/scikit-learn/issues/21755 */\n  display: inline-block !important;\n  position: relative;\n}\n\n#sk-container-id-4 div.sk-text-repr-fallback {\n  display: none;\n}\n\ndiv.sk-parallel-item,\ndiv.sk-serial,\ndiv.sk-item {\n  /* draw centered vertical line to link estimators */\n  background-image: linear-gradient(var(--sklearn-color-text-on-default-background), var(--sklearn-color-text-on-default-background));\n  background-size: 2px 100%;\n  background-repeat: no-repeat;\n  background-position: center center;\n}\n\n/* Parallel-specific style estimator block */\n\n#sk-container-id-4 div.sk-parallel-item::after {\n  content: \"\";\n  width: 100%;\n  border-bottom: 2px solid var(--sklearn-color-text-on-default-background);\n  flex-grow: 1;\n}\n\n#sk-container-id-4 div.sk-parallel {\n  display: flex;\n  align-items: stretch;\n  justify-content: center;\n  background-color: var(--sklearn-color-background);\n  position: relative;\n}\n\n#sk-container-id-4 div.sk-parallel-item {\n  display: flex;\n  flex-direction: column;\n}\n\n#sk-container-id-4 div.sk-parallel-item:first-child::after {\n  align-self: flex-end;\n  width: 50%;\n}\n\n#sk-container-id-4 div.sk-parallel-item:last-child::after {\n  align-self: flex-start;\n  width: 50%;\n}\n\n#sk-container-id-4 div.sk-parallel-item:only-child::after {\n  width: 0;\n}\n\n/* Serial-specific style estimator block */\n\n#sk-container-id-4 div.sk-serial {\n  display: flex;\n  flex-direction: column;\n  align-items: center;\n  background-color: var(--sklearn-color-background);\n  padding-right: 1em;\n  padding-left: 1em;\n}\n\n\n/* Toggleable style: style used for estimator/Pipeline/ColumnTransformer box that is\nclickable and can be expanded/collapsed.\n- Pipeline and ColumnTransformer use this feature and define the default style\n- Estimators will overwrite some part of the style using the `sk-estimator` class\n*/\n\n/* Pipeline and ColumnTransformer style (default) */\n\n#sk-container-id-4 div.sk-toggleable {\n  /* Default theme specific background. It is overwritten whether we have a\n  specific estimator or a Pipeline/ColumnTransformer */\n  background-color: var(--sklearn-color-background);\n}\n\n/* Toggleable label */\n#sk-container-id-4 label.sk-toggleable__label {\n  cursor: pointer;\n  display: block;\n  width: 100%;\n  margin-bottom: 0;\n  padding: 0.5em;\n  box-sizing: border-box;\n  text-align: center;\n}\n\n#sk-container-id-4 label.sk-toggleable__label-arrow:before {\n  /* Arrow on the left of the label */\n  content: \"▸\";\n  float: left;\n  margin-right: 0.25em;\n  color: var(--sklearn-color-icon);\n}\n\n#sk-container-id-4 label.sk-toggleable__label-arrow:hover:before {\n  color: var(--sklearn-color-text);\n}\n\n/* Toggleable content - dropdown */\n\n#sk-container-id-4 div.sk-toggleable__content {\n  max-height: 0;\n  max-width: 0;\n  overflow: hidden;\n  text-align: left;\n  /* unfitted */\n  background-color: var(--sklearn-color-unfitted-level-0);\n}\n\n#sk-container-id-4 div.sk-toggleable__content.fitted {\n  /* fitted */\n  background-color: var(--sklearn-color-fitted-level-0);\n}\n\n#sk-container-id-4 div.sk-toggleable__content pre {\n  margin: 0.2em;\n  border-radius: 0.25em;\n  color: var(--sklearn-color-text);\n  /* unfitted */\n  background-color: var(--sklearn-color-unfitted-level-0);\n}\n\n#sk-container-id-4 div.sk-toggleable__content.fitted pre {\n  /* unfitted */\n  background-color: var(--sklearn-color-fitted-level-0);\n}\n\n#sk-container-id-4 input.sk-toggleable__control:checked~div.sk-toggleable__content {\n  /* Expand drop-down */\n  max-height: 200px;\n  max-width: 100%;\n  overflow: auto;\n}\n\n#sk-container-id-4 input.sk-toggleable__control:checked~label.sk-toggleable__label-arrow:before {\n  content: \"▾\";\n}\n\n/* Pipeline/ColumnTransformer-specific style */\n\n#sk-container-id-4 div.sk-label input.sk-toggleable__control:checked~label.sk-toggleable__label {\n  color: var(--sklearn-color-text);\n  background-color: var(--sklearn-color-unfitted-level-2);\n}\n\n#sk-container-id-4 div.sk-label.fitted input.sk-toggleable__control:checked~label.sk-toggleable__label {\n  background-color: var(--sklearn-color-fitted-level-2);\n}\n\n/* Estimator-specific style */\n\n/* Colorize estimator box */\n#sk-container-id-4 div.sk-estimator input.sk-toggleable__control:checked~label.sk-toggleable__label {\n  /* unfitted */\n  background-color: var(--sklearn-color-unfitted-level-2);\n}\n\n#sk-container-id-4 div.sk-estimator.fitted input.sk-toggleable__control:checked~label.sk-toggleable__label {\n  /* fitted */\n  background-color: var(--sklearn-color-fitted-level-2);\n}\n\n#sk-container-id-4 div.sk-label label.sk-toggleable__label,\n#sk-container-id-4 div.sk-label label {\n  /* The background is the default theme color */\n  color: var(--sklearn-color-text-on-default-background);\n}\n\n/* On hover, darken the color of the background */\n#sk-container-id-4 div.sk-label:hover label.sk-toggleable__label {\n  color: var(--sklearn-color-text);\n  background-color: var(--sklearn-color-unfitted-level-2);\n}\n\n/* Label box, darken color on hover, fitted */\n#sk-container-id-4 div.sk-label.fitted:hover label.sk-toggleable__label.fitted {\n  color: var(--sklearn-color-text);\n  background-color: var(--sklearn-color-fitted-level-2);\n}\n\n/* Estimator label */\n\n#sk-container-id-4 div.sk-label label {\n  font-family: monospace;\n  font-weight: bold;\n  display: inline-block;\n  line-height: 1.2em;\n}\n\n#sk-container-id-4 div.sk-label-container {\n  text-align: center;\n}\n\n/* Estimator-specific */\n#sk-container-id-4 div.sk-estimator {\n  font-family: monospace;\n  border: 1px dotted var(--sklearn-color-border-box);\n  border-radius: 0.25em;\n  box-sizing: border-box;\n  margin-bottom: 0.5em;\n  /* unfitted */\n  background-color: var(--sklearn-color-unfitted-level-0);\n}\n\n#sk-container-id-4 div.sk-estimator.fitted {\n  /* fitted */\n  background-color: var(--sklearn-color-fitted-level-0);\n}\n\n/* on hover */\n#sk-container-id-4 div.sk-estimator:hover {\n  /* unfitted */\n  background-color: var(--sklearn-color-unfitted-level-2);\n}\n\n#sk-container-id-4 div.sk-estimator.fitted:hover {\n  /* fitted */\n  background-color: var(--sklearn-color-fitted-level-2);\n}\n\n/* Specification for estimator info (e.g. \"i\" and \"?\") */\n\n/* Common style for \"i\" and \"?\" */\n\n.sk-estimator-doc-link,\na:link.sk-estimator-doc-link,\na:visited.sk-estimator-doc-link {\n  float: right;\n  font-size: smaller;\n  line-height: 1em;\n  font-family: monospace;\n  background-color: var(--sklearn-color-background);\n  border-radius: 1em;\n  height: 1em;\n  width: 1em;\n  text-decoration: none !important;\n  margin-left: 1ex;\n  /* unfitted */\n  border: var(--sklearn-color-unfitted-level-1) 1pt solid;\n  color: var(--sklearn-color-unfitted-level-1);\n}\n\n.sk-estimator-doc-link.fitted,\na:link.sk-estimator-doc-link.fitted,\na:visited.sk-estimator-doc-link.fitted {\n  /* fitted */\n  border: var(--sklearn-color-fitted-level-1) 1pt solid;\n  color: var(--sklearn-color-fitted-level-1);\n}\n\n/* On hover */\ndiv.sk-estimator:hover .sk-estimator-doc-link:hover,\n.sk-estimator-doc-link:hover,\ndiv.sk-label-container:hover .sk-estimator-doc-link:hover,\n.sk-estimator-doc-link:hover {\n  /* unfitted */\n  background-color: var(--sklearn-color-unfitted-level-3);\n  color: var(--sklearn-color-background);\n  text-decoration: none;\n}\n\ndiv.sk-estimator.fitted:hover .sk-estimator-doc-link.fitted:hover,\n.sk-estimator-doc-link.fitted:hover,\ndiv.sk-label-container:hover .sk-estimator-doc-link.fitted:hover,\n.sk-estimator-doc-link.fitted:hover {\n  /* fitted */\n  background-color: var(--sklearn-color-fitted-level-3);\n  color: var(--sklearn-color-background);\n  text-decoration: none;\n}\n\n/* Span, style for the box shown on hovering the info icon */\n.sk-estimator-doc-link span {\n  display: none;\n  z-index: 9999;\n  position: relative;\n  font-weight: normal;\n  right: .2ex;\n  padding: .5ex;\n  margin: .5ex;\n  width: min-content;\n  min-width: 20ex;\n  max-width: 50ex;\n  color: var(--sklearn-color-text);\n  box-shadow: 2pt 2pt 4pt #999;\n  /* unfitted */\n  background: var(--sklearn-color-unfitted-level-0);\n  border: .5pt solid var(--sklearn-color-unfitted-level-3);\n}\n\n.sk-estimator-doc-link.fitted span {\n  /* fitted */\n  background: var(--sklearn-color-fitted-level-0);\n  border: var(--sklearn-color-fitted-level-3);\n}\n\n.sk-estimator-doc-link:hover span {\n  display: block;\n}\n\n/* \"?\"-specific style due to the `<a>` HTML tag */\n\n#sk-container-id-4 a.estimator_doc_link {\n  float: right;\n  font-size: 1rem;\n  line-height: 1em;\n  font-family: monospace;\n  background-color: var(--sklearn-color-background);\n  border-radius: 1rem;\n  height: 1rem;\n  width: 1rem;\n  text-decoration: none;\n  /* unfitted */\n  color: var(--sklearn-color-unfitted-level-1);\n  border: var(--sklearn-color-unfitted-level-1) 1pt solid;\n}\n\n#sk-container-id-4 a.estimator_doc_link.fitted {\n  /* fitted */\n  border: var(--sklearn-color-fitted-level-1) 1pt solid;\n  color: var(--sklearn-color-fitted-level-1);\n}\n\n/* On hover */\n#sk-container-id-4 a.estimator_doc_link:hover {\n  /* unfitted */\n  background-color: var(--sklearn-color-unfitted-level-3);\n  color: var(--sklearn-color-background);\n  text-decoration: none;\n}\n\n#sk-container-id-4 a.estimator_doc_link.fitted:hover {\n  /* fitted */\n  background-color: var(--sklearn-color-fitted-level-3);\n}\n</style><div id=\"sk-container-id-4\" class=\"sk-top-container\"><div class=\"sk-text-repr-fallback\"><pre>DecisionTreeRegressor(max_depth=2000)</pre><b>In a Jupyter environment, please rerun this cell to show the HTML representation or trust the notebook. <br />On GitHub, the HTML representation is unable to render, please try loading this page with nbviewer.org.</b></div><div class=\"sk-container\" hidden><div class=\"sk-item\"><div class=\"sk-estimator fitted sk-toggleable\"><input class=\"sk-toggleable__control sk-hidden--visually\" id=\"sk-estimator-id-4\" type=\"checkbox\" checked><label for=\"sk-estimator-id-4\" class=\"sk-toggleable__label fitted sk-toggleable__label-arrow fitted\">&nbsp;&nbsp;DecisionTreeRegressor<a class=\"sk-estimator-doc-link fitted\" rel=\"noreferrer\" target=\"_blank\" href=\"https://scikit-learn.org/1.5/modules/generated/sklearn.tree.DecisionTreeRegressor.html\">?<span>Documentation for DecisionTreeRegressor</span></a><span class=\"sk-estimator-doc-link fitted\">i<span>Fitted</span></span></label><div class=\"sk-toggleable__content fitted\"><pre>DecisionTreeRegressor(max_depth=2000)</pre></div> </div></div></div></div>"
     },
     "execution_count": 139,
     "metadata": {},
     "output_type": "execute_result"
    }
   ],
   "source": [
    "dtree.fit(X_train, y_train)"
   ],
   "metadata": {
    "collapsed": false,
    "ExecuteTime": {
     "end_time": "2024-06-21T18:06:38.082246700Z",
     "start_time": "2024-06-21T18:06:36.717346100Z"
    }
   }
  },
  {
   "cell_type": "code",
   "execution_count": 140,
   "outputs": [
    {
     "name": "stdout",
     "output_type": "stream",
     "text": [
      "\n",
      "Mean Absolute Error = 1.1458675000773586,\n",
      "Mean Squared Error = 3.9008880774824397,\n",
      "Root Mean Squared Error = 1.975066600771336,\n",
      "R2 Score = 0.921825632435933\n",
      "\n"
     ]
    }
   ],
   "source": [
    "y_pred = dtree.predict(X_test)\n",
    "print(f\"\"\"\n",
    "Mean Absolute Error = {mean_absolute_error(y_pred,y_test)},\n",
    "Mean Squared Error = {mean_squared_error(y_pred,y_test)},\n",
    "Root Mean Squared Error = {np.sqrt(mean_squared_error(y_pred,y_test))},\n",
    "R2 Score = {r2_score(y_pred,y_test)}\n",
    "\"\"\")"
   ],
   "metadata": {
    "collapsed": false,
    "ExecuteTime": {
     "end_time": "2024-06-21T18:06:38.150536600Z",
     "start_time": "2024-06-21T18:06:38.084247600Z"
    }
   }
  },
  {
   "cell_type": "code",
   "execution_count": 141,
   "outputs": [
    {
     "name": "stdout",
     "output_type": "stream",
     "text": [
      "\n",
      "Mean Absolute Error = 1.7584862456292354,\n",
      "Mean Squared Error = 6.6786211591422475,\n",
      "Root Mean Squared Error = 2.584302838125255,\n",
      "R2 Score = 0.8653397203347095\n",
      "\n"
     ]
    }
   ],
   "source": [
    "from sklearn.ensemble import StackingRegressor\n",
    "\n",
    "\n",
    "estimators = [\n",
    "    ('lr', l),\n",
    "    ('poly1', poly_pipeline1),\n",
    "    ('poly2', poly_pipeline2),\n",
    "    ('rm1', model1),\n",
    "    ('rm2', model2),\n",
    "    ('rm3', model3),\n",
    "    ('dt', dtree)\n",
    "]\n",
    "\n",
    "\n",
    "stacking_model = StackingRegressor(estimators=estimators, final_estimator=DecisionTreeRegressor\n",
    "(max_depth=10000))\n",
    "\n",
    "\n",
    "stacking_model.fit(X_train, y_train)\n",
    "\n",
    "\n",
    "y_pred = stacking_model.predict(X_test)\n",
    "\n",
    "\n",
    "print(f\"\"\"\n",
    "Mean Absolute Error = {mean_absolute_error(y_pred,y_test)},\n",
    "Mean Squared Error = {mean_squared_error(y_pred,y_test)},\n",
    "Root Mean Squared Error = {np.sqrt(mean_squared_error(y_pred,y_test))},\n",
    "R2 Score = {r2_score(y_pred,y_test)}\n",
    "\"\"\")"
   ],
   "metadata": {
    "collapsed": false,
    "ExecuteTime": {
     "end_time": "2024-06-21T18:07:20.270304200Z",
     "start_time": "2024-06-21T18:06:38.127539200Z"
    }
   }
  },
  {
   "cell_type": "code",
   "execution_count": 142,
   "outputs": [
    {
     "name": "stdout",
     "output_type": "stream",
     "text": [
      "Mean CV Score (Negative MSE): -6.070996138556805\n",
      "Standard Deviation of CV Scores: 0.07267672265379424\n"
     ]
    }
   ],
   "source": [
    "from sklearn.model_selection import cross_val_score, GridSearchCV\n",
    "\n",
    "\n",
    "cv_scores = cross_val_score(stacking_model, X_train_scaled, y_train, cv=5, scoring='neg_mean_squared_error')\n",
    "\n",
    "\n",
    "mean_cv_score = np.mean(cv_scores)\n",
    "std_cv_score = np.std(cv_scores)\n",
    "\n",
    "print(f\"Mean CV Score (Negative MSE): {mean_cv_score}\")\n",
    "print(f\"Standard Deviation of CV Scores: {std_cv_score}\")"
   ],
   "metadata": {
    "collapsed": false,
    "ExecuteTime": {
     "end_time": "2024-06-21T18:08:31.109677100Z",
     "start_time": "2024-06-21T18:07:20.277294Z"
    }
   }
  },
  {
   "cell_type": "code",
   "execution_count": 143,
   "outputs": [
    {
     "name": "stdout",
     "output_type": "stream",
     "text": [
      "Test Model 1 Mean Absolute Error: 1.2024237342756707\n",
      "Test Model 1 Mean Squared Error: 3.1200971863694615\n",
      "Test Model 1 Root Mean Squared Error: 1.7663796835248817\n",
      "Test Model 1 R2 Score: 0.9370485366577532\n"
     ]
    }
   ],
   "source": [
    "param_grid = {\n",
    "    'final_estimator__max_depth': [5, 10, 15, 20],\n",
    "    'final_estimator__min_samples_split': [2, 5, 10]\n",
    "}\n",
    "\n",
    "\n",
    "grid_search = GridSearchCV(stacking_model, param_grid, cv=5, scoring='neg_mean_squared_error', n_jobs=-1)\n",
    "\n",
    "\n",
    "grid_search.fit(X_train_scaled, y_train)\n",
    "\n",
    "\n",
    "test_model_1 = grid_search.best_estimator_\n",
    "\n",
    "\n",
    "y_pred_best = test_model_1.predict(X_test_scaled)\n",
    "\n",
    "\n",
    "print(f\"Test Model 1 Mean Absolute Error: {mean_absolute_error(y_test, y_pred_best)}\")\n",
    "print(f\"Test Model 1 Mean Squared Error: {mean_squared_error(y_test, y_pred_best)}\")\n",
    "print(f\"Test Model 1 Root Mean Squared Error: {np.sqrt(mean_squared_error(y_test, y_pred_best))}\")\n",
    "print(f\"Test Model 1 R2 Score: {r2_score(y_test, y_pred_best)}\")\n"
   ],
   "metadata": {
    "collapsed": false,
    "ExecuteTime": {
     "end_time": "2024-06-21T18:13:09.236999100Z",
     "start_time": "2024-06-21T18:08:31.109677100Z"
    }
   }
  },
  {
   "cell_type": "code",
   "execution_count": 144,
   "outputs": [
    {
     "name": "stdout",
     "output_type": "stream",
     "text": [
      "Test Model 2 Mean Absolute Error: 1.2241999597786104\n",
      "Test Model 2 Mean Squared Error: 3.265537144904252\n",
      "Test Model 2 Root Mean Squared Error: 1.8070797284304452\n",
      "Test Model 2 R2 Score: 0.9341141222240623\n"
     ]
    }
   ],
   "source": [
    "refined_param_grid = {\n",
    "    'final_estimator__max_depth': [12, 15, 18],\n",
    "    'final_estimator__min_samples_split': [5, 7, 10]\n",
    "}\n",
    "\n",
    "\n",
    "refined_grid_search = GridSearchCV(test_model_1, refined_param_grid, cv=5, scoring='neg_mean_squared_error', n_jobs=-1)\n",
    "\n",
    "\n",
    "refined_grid_search.fit(X_train_scaled, y_train)\n",
    "\n",
    "\n",
    "test_model_2 = refined_grid_search.best_estimator_\n",
    "\n",
    "test_model_2.fit(X_train_scaled, y_train)\n",
    "\n",
    "y_pred_final = test_model_2.predict(X_test_scaled)\n",
    "\n",
    "print(f\"Test Model 2 Mean Absolute Error: {mean_absolute_error(y_test, y_pred_final)}\")\n",
    "print(f\"Test Model 2 Mean Squared Error: {mean_squared_error(y_test, y_pred_final)}\")\n",
    "print(f\"Test Model 2 Root Mean Squared Error: {np.sqrt(mean_squared_error(y_test, y_pred_final))}\")\n",
    "print(f\"Test Model 2 R2 Score: {r2_score(y_test, y_pred_final)}\")"
   ],
   "metadata": {
    "collapsed": false,
    "ExecuteTime": {
     "end_time": "2024-06-21T18:17:27.190021900Z",
     "start_time": "2024-06-21T18:13:09.262328Z"
    }
   }
  },
  {
   "cell_type": "code",
   "execution_count": 145,
   "outputs": [
    {
     "name": "stdout",
     "output_type": "stream",
     "text": [
      "Test Model 3 Mean Absolute Error: 1.1999746848809092\n",
      "Test Model 3 Mean Squared Error: 3.0997954532170313\n",
      "Test Model 3 Root Mean Squared Error: 1.7606235978246547\n",
      "Test Model 3 R2 Score: 0.9374581469147389\n"
     ]
    }
   ],
   "source": [
    "refined_param_grid = {\n",
    "    'final_estimator__max_depth': [10, 15],\n",
    "    'final_estimator__min_samples_split': [5, 10]\n",
    "}\n",
    "\n",
    "\n",
    "refined_grid_search = GridSearchCV(test_model_2, refined_param_grid, cv=5, scoring='neg_mean_absolute_error', n_jobs=-1)\n",
    "\n",
    "\n",
    "refined_grid_search.fit(X_train_scaled, y_train)\n",
    "\n",
    "\n",
    "test_model_3 = refined_grid_search.best_estimator_\n",
    "\n",
    "test_model_3.fit(X_train_scaled, y_train)\n",
    "\n",
    "y_pred_final = test_model_3.predict(X_test_scaled)\n",
    "\n",
    "print(f\"Test Model 3 Mean Absolute Error: {mean_absolute_error(y_test, y_pred_final)}\")\n",
    "print(f\"Test Model 3 Mean Squared Error: {mean_squared_error(y_test, y_pred_final)}\")\n",
    "print(f\"Test Model 3 Root Mean Squared Error: {np.sqrt(mean_squared_error(y_test, y_pred_final))}\")\n",
    "print(f\"Test Model 3 R2 Score: {r2_score(y_test, y_pred_final)}\")"
   ],
   "metadata": {
    "collapsed": false,
    "ExecuteTime": {
     "end_time": "2024-06-21T18:19:31.061524500Z",
     "start_time": "2024-06-21T18:17:27.187021900Z"
    }
   }
  },
  {
   "cell_type": "code",
   "execution_count": 146,
   "outputs": [
    {
     "name": "stdout",
     "output_type": "stream",
     "text": [
      "XGBoost Mean Absolute Error: 1.1018125840548363\n",
      "XGBoost Mean Squared Error: 2.260363417365525\n",
      "XGBoost Root Mean Squared Error: 1.5034505037963588\n",
      "XGBoost R2 Score: 0.954394630580718\n"
     ]
    }
   ],
   "source": [
    "import xgboost as xgb\n",
    "\n",
    "xgb_model = xgb.XGBRegressor(objective='reg:squarederror', n_estimators=100, max_depth=6, learning_rate=0.1)\n",
    "\n",
    "# Fit the model\n",
    "xgb_model.fit(X_train_scaled, y_train)\n",
    "\n",
    "# Predict\n",
    "y_pred_xgb = xgb_model.predict(X_test_scaled)\n",
    "\n",
    "# Metrics\n",
    "print(f\"XGBoost Mean Absolute Error: {mean_absolute_error(y_test, y_pred_xgb)}\")\n",
    "print(f\"XGBoost Mean Squared Error: {mean_squared_error(y_test, y_pred_xgb)}\")\n",
    "print(f\"XGBoost Root Mean Squared Error: {np.sqrt(mean_squared_error(y_test, y_pred_xgb))}\")\n",
    "print(f\"XGBoost R2 Score: {r2_score(y_test, y_pred_xgb)}\")"
   ],
   "metadata": {
    "collapsed": false,
    "ExecuteTime": {
     "end_time": "2024-06-21T18:19:31.769023600Z",
     "start_time": "2024-06-21T18:19:31.077761500Z"
    }
   }
  },
  {
   "cell_type": "code",
   "execution_count": 147,
   "outputs": [
    {
     "name": "stdout",
     "output_type": "stream",
     "text": [
      "AdaBoost Mean Absolute Error: 1.7494910198218925\n",
      "AdaBoost Mean Squared Error: 5.199306119859616\n",
      "AdaBoost Root Mean Squared Error: 2.2801987018371044\n",
      "AdaBoost R2 Score: 0.8950981623138757\n"
     ]
    }
   ],
   "source": [
    "from sklearn.ensemble import AdaBoostRegressor\n",
    "\n",
    "ada_model = AdaBoostRegressor(n_estimators=100, learning_rate=0.1)\n",
    "\n",
    "\n",
    "ada_model.fit(X_train_scaled, y_train)\n",
    "\n",
    "\n",
    "y_pred_ada = ada_model.predict(X_test_scaled)\n",
    "\n",
    "\n",
    "print(f\"AdaBoost Mean Absolute Error: {mean_absolute_error(y_test, y_pred_ada)}\")\n",
    "print(f\"AdaBoost Mean Squared Error: {mean_squared_error(y_test, y_pred_ada)}\")\n",
    "print(f\"AdaBoost Root Mean Squared Error: {np.sqrt(mean_squared_error(y_test, y_pred_ada))}\")\n",
    "print(f\"AdaBoost R2 Score: {r2_score(y_test, y_pred_ada)}\")"
   ],
   "metadata": {
    "collapsed": false,
    "ExecuteTime": {
     "end_time": "2024-06-21T18:19:54.410084900Z",
     "start_time": "2024-06-21T18:19:31.775816400Z"
    }
   }
  },
  {
   "cell_type": "code",
   "execution_count": 148,
   "outputs": [
    {
     "name": "stdout",
     "output_type": "stream",
     "text": [
      "Ensemble Model Mean Absolute Error: 1.1226186545292411\n",
      "Ensemble Model Mean Squared Error: 2.515894478252216\n",
      "Ensemble Model Root Mean Squared Error: 1.5861571417272047\n",
      "Ensemble Model R2 Score: 0.9492390045692951\n"
     ]
    }
   ],
   "source": [
    "from sklearn.ensemble import VotingRegressor\n",
    "\n",
    "# Define base models\n",
    "models = [\n",
    "    ('xgb', xgb_model),\n",
    "    ('dt', DecisionTreeRegressor()),\n",
    "    ('tmodel1', test_model_1),\n",
    "    ('tmodel3', test_model_3),\n",
    "    ('adaboost',ada_model)\n",
    "]\n",
    "\n",
    "# Ensemble model\n",
    "ensemble_model = VotingRegressor(estimators=models)\n",
    "\n",
    "# Fit and predict\n",
    "ensemble_model.fit(X_train_scaled, y_train)\n",
    "y_pred_ensemble = ensemble_model.predict(X_test_scaled)\n",
    "\n",
    "# Metrics\n",
    "print(f\"Ensemble Model Mean Absolute Error: {mean_absolute_error(y_test, y_pred_ensemble)}\")\n",
    "print(f\"Ensemble Model Mean Squared Error: {mean_squared_error(y_test, y_pred_ensemble)}\")\n",
    "print(f\"Ensemble Model Root Mean Squared Error: {np.sqrt(mean_squared_error(y_test, y_pred_ensemble))}\")\n",
    "print(f\"Ensemble Model R2 Score: {r2_score(y_test, y_pred_ensemble)}\")"
   ],
   "metadata": {
    "collapsed": false,
    "ExecuteTime": {
     "end_time": "2024-06-21T18:20:49.316485600Z",
     "start_time": "2024-06-21T18:19:54.411083600Z"
    }
   }
  },
  {
   "cell_type": "code",
   "execution_count": 149,
   "outputs": [
    {
     "name": "stdout",
     "output_type": "stream",
     "text": [
      "Tuned Ensemble Model Mean Absolute Error: 0.9687037777958978\n",
      "Tuned Ensemble Model Mean Squared Error: 1.8381452389608874\n",
      "Tuned Ensemble Model Root Mean Squared Error: 1.3557821502589888\n",
      "Tuned Ensemble Model R2 Score: 0.9629133563102833\n"
     ]
    }
   ],
   "source": [
    "from sklearn.model_selection import RandomizedSearchCV\n",
    "\n",
    "# Define the parameter grid\n",
    "param_grid = {\n",
    "    'n_estimators': [100, 200, 300],\n",
    "    'max_depth': [4, 6, 8],\n",
    "    'learning_rate': [0.01, 0.1, 0.2],\n",
    "    'subsample': [0.8, 1.0],\n",
    "    'colsample_bytree': [0.8, 1.0]\n",
    "}\n",
    "\n",
    "# Randomized search\n",
    "random_search = RandomizedSearchCV(xgb_model, param_distributions=param_grid, n_iter=50, cv=5, scoring='neg_mean_absolute_error',\n",
    "                                   n_jobs=-1, random_state=42)\n",
    "random_search.fit(X_train_scaled, y_train)\n",
    "\n",
    "# Best model\n",
    "best_model = random_search.best_estimator_\n",
    "\n",
    "# Predict\n",
    "y_pred_best = best_model.predict(X_test_scaled)\n",
    "\n",
    "# Metrics\n",
    "print(f\"Tuned Ensemble Model Mean Absolute Error: {mean_absolute_error(y_test, y_pred_best)}\")\n",
    "print(f\"Tuned Ensemble Model Mean Squared Error: {mean_squared_error(y_test, y_pred_best)}\")\n",
    "print(f\"Tuned Ensemble Model Root Mean Squared Error: {np.sqrt(mean_squared_error(y_test, y_pred_best))}\")\n",
    "print(f\"Tuned Ensemble Model R2 Score: {r2_score(y_test, y_pred_best)}\")"
   ],
   "metadata": {
    "collapsed": false,
    "ExecuteTime": {
     "end_time": "2024-06-21T18:24:11.812978700Z",
     "start_time": "2024-06-21T18:20:49.340486100Z"
    }
   }
  },
  {
   "cell_type": "code",
   "execution_count": 156,
   "outputs": [
    {
     "name": "stdout",
     "output_type": "stream",
     "text": [
      "Tuned Ensemble Model Mean Absolute Error: 0.7321373152385878\n",
      "Tuned Ensemble Model Mean Squared Error: 1.3265277099951036\n",
      "Tuned Ensemble Model Root Mean Squared Error: 1.1517498469698633\n",
      "Tuned Ensemble Model R2 Score: 0.9716542567654931\n"
     ]
    }
   ],
   "source": [
    "y1 = players_22['overall']\n",
    "x1 = players_22.drop('overall', axis=1)\n",
    "\n",
    "\n",
    "X_train_new, X_test_new, y_train_new, y_test_new = train_test_split(x1, y1, test_size=0.2, random_state=42)\n",
    "\n",
    "\n",
    "X_train_new_scaled = scaler.fit_transform(X_train_new)\n",
    "X_test_new_scaled = scaler.transform(X_test_new)\n",
    "\n",
    "\n",
    "best_model.fit(X_train_new_scaled, y_train_new)\n",
    "tester = best_model.predict(X_test_new_scaled)\n",
    "\n",
    "print(f\"Tuned Ensemble Model Mean Absolute Error: {mean_absolute_error(y_test_new, tester)}\")\n",
    "print(f\"Tuned Ensemble Model Mean Squared Error: {mean_squared_error(y_test_new, tester)}\")\n",
    "print(f\"Tuned Ensemble Model Root Mean Squared Error: {np.sqrt(mean_squared_error(y_test_new, tester))}\")\n",
    "print(f\"Tuned Ensemble Model R2 Score: {r2_score(y_test_new, tester)}\")"
   ],
   "metadata": {
    "collapsed": false,
    "ExecuteTime": {
     "end_time": "2024-06-21T18:27:55.390151100Z",
     "start_time": "2024-06-21T18:27:54.745927300Z"
    }
   }
  },
  {
   "cell_type": "code",
   "execution_count": 157,
   "outputs": [
    {
     "data": {
      "text/plain": "['stacking_model.pkl']"
     },
     "execution_count": 157,
     "metadata": {},
     "output_type": "execute_result"
    }
   ],
   "source": [
    "joblib.dump(best_model, 'stacking_model.pkl')"
   ],
   "metadata": {
    "collapsed": false,
    "ExecuteTime": {
     "end_time": "2024-06-21T18:27:58.229178600Z",
     "start_time": "2024-06-21T18:27:58.159270800Z"
    }
   }
  }
 ],
 "metadata": {
  "kernelspec": {
   "display_name": "Python 3",
   "language": "python",
   "name": "python3"
  },
  "language_info": {
   "codemirror_mode": {
    "name": "ipython",
    "version": 2
   },
   "file_extension": ".py",
   "mimetype": "text/x-python",
   "name": "python",
   "nbconvert_exporter": "python",
   "pygments_lexer": "ipython2",
   "version": "2.7.6"
  }
 },
 "nbformat": 4,
 "nbformat_minor": 0
}
